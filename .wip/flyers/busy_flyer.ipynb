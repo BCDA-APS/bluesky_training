{
 "cells": [
  {
   "cell_type": "markdown",
   "metadata": {},
   "source": [
    "# BlueSky Flyer that uses the synApps busy record\n",
    "\n",
    "EPICS fly scans that use external controllers, such as hardware-assisted fly scans, are triggered by the EPICS *busy* record.  The *busy* record is set, which triggers the external controller to do the fly scan and then reset the *busy* record.\n",
    "\n",
    "Here, we refer to this external controller as the *controller*.\n",
    "\n",
    "\n",
    "## Python imports and definitions <a class=\"anchor\" id=\"imports\" />\n",
    "\n",
    "Here are the full set of packages to imported.  The first block are Python standard packages, then come the ophyd and BluSky packages.  Just the parts we plan on using here.  Since this is also a tutorial, we will not rename imports or use other such shortcuts in the documentation (the online code has some shortcuts).\n",
    "\n",
    "* Create a logger instance in case we want to investigate internal details as our code runs.\n",
    "* Create an instance of the BlueSky RunEngine.\n",
    "* Create an instance of the databroker using the `mongodb_config.yml` file on the local machine\n",
    "* Arrange for the databroker to receive all events from the RunEngine\n"
   ]
  },
  {
   "cell_type": "code",
   "execution_count": 1,
   "metadata": {},
   "outputs": [
    {
     "data": {
      "text/plain": [
       "0"
      ]
     },
     "execution_count": 1,
     "metadata": {},
     "output_type": "execute_result"
    }
   ],
   "source": [
    "import enum\n",
    "import logging\n",
    "import time\n",
    "\n",
    "import ophyd\n",
    "import bluesky\n",
    "import bluesky.plans\n",
    "import databroker\n",
    "\n",
    "logger = logging.getLogger()\n",
    "RE = bluesky.RunEngine({})\n",
    "db = databroker.Broker.named(\"mongodb_config\")\n",
    "RE.subscribe(db.insert)"
   ]
  },
  {
   "cell_type": "markdown",
   "metadata": {},
   "source": [
    "## EPICS PV names <a class=\"anchor\" id=\"pvnames\" />\n",
    "\n",
    "These are the EPICS PV names we'll be using for the demo, as defined in this EPICS database, added to our EPICS IOC startup:\n",
    "\n",
    "```\n",
    "record(waveform, \"$(P)str_wave\")\n",
    "{\n",
    "    field(FTVL, \"CHAR\")\n",
    "    field(NELM, \"256\")\n",
    "}\n",
    "record(waveform, \"$(P)t_array\")\n",
    "{\n",
    "    field(DESC, \"timestamps\")\n",
    "    field(FTVL, \"DOUBLE\")\n",
    "    field(NELM, \"256\")\n",
    "}\n",
    "record(waveform, \"$(P)x_array\")\n",
    "{\n",
    "    field(DESC, \"positions\")\n",
    "    field(FTVL, \"DOUBLE\")\n",
    "    field(NELM, \"256\")\n",
    "}\n",
    "record(waveform, \"$(P)y_array\")\n",
    "{\n",
    "    field(DESC, \"signals\")\n",
    "    field(FTVL, \"DOUBLE\")\n",
    "    field(NELM, \"256\")\n",
    "}\n",
    "```\n",
    "\n",
    "The waveforms allow for up to 256 values to be kept."
   ]
  },
  {
   "cell_type": "code",
   "execution_count": 2,
   "metadata": {
    "collapsed": true
   },
   "outputs": [],
   "source": [
    "BUSY_PV = 'prj:mybusy'\n",
    "TIME_WAVE_PV = 'prj:t_array'\n",
    "X_WAVE_PV = 'prj:x_array'\n",
    "Y_WAVE_PV = 'prj:y_array'"
   ]
  },
  {
   "cell_type": "markdown",
   "metadata": {},
   "source": [
    "## External pseudo-controller for fly scan <a class=\"anchor\" id=\"pseudo-controller\" />\n",
    "\n",
    "We'll create a *controller* that responds to the EPICS PV that signals a fly scan should be started.  The *controller* operates the fly scan and stores the collected data in EPICS PVs, then signals EPICS that the fly scan is complete.  BlueSky will observe that the fly scan is complete and collect the data from EPICS.\n",
    "\n",
    "A Python program has been built to act as the *controller*.  This *controller* moves a soft [motor](https://github.com/epics-modules/motor) record in a step scan and reads from an [swait](https://github.com/epics-modules/calc) record that has been configured to generate random numbers.\n",
    "\n",
    "The [pseudo-controller](https://github.com/prjemian/ipython_mintvm/blob/master/profile_bluesky/startup/local_code/busyExample.py) *and associated EPICS IOC* should be started outside of this jupyter notebook.  Since the interface is completely through EPICS PVs, it is not necessary for either the IOC or the pseudo-controller to be running on the some computer as the jupyter notebook.\n",
    "\n",
    "![control screen for the motor record](motor.png \"control screen for the motor record\")\n",
    "\n",
    "![control screen for the swait record](swait.png \"control screen for the swait record\")\n",
    "\n",
    "## Devices and support <a class=\"anchor\" id=\"devices\" />\n",
    "\n",
    "Define some ophyd Devices we'll use and support routines for them.\n",
    "\n",
    "### synApps busy record <a class=\"anchor\" id=\"busy-record\" />\n",
    "\n",
    "The synApps [busy](https://github.com/epics-modules/busy) record is a variation of a 0,1 (bit).  It is an integer that starts at zero.  *Busy* is set to one at the start of operations.  This triggers execution of one or more operations that must complete before *busy* is set back to zero.  \n",
    "\n",
    "![control screen for the busy record](busy.png \"control screen for the busy record\")"
   ]
  },
  {
   "cell_type": "code",
   "execution_count": 3,
   "metadata": {
    "collapsed": true
   },
   "outputs": [],
   "source": [
    "class BusyRecord(ophyd.Device):\n",
    "    \"\"\"a busy record sets the fly scan into action\"\"\"\n",
    "    state = ophyd.Component(ophyd.EpicsSignal, \"\", string=True)\n",
    "    output_link = ophyd.Component(ophyd.EpicsSignal, \".OUT\")\n",
    "    forward_link = ophyd.Component(ophyd.EpicsSignal, \".FLNK\")"
   ]
  },
  {
   "cell_type": "markdown",
   "metadata": {},
   "source": [
    "We won't need to use the `.OUT` or `.FLNK` fields in this example.\n",
    "\n",
    "\n",
    "### busy status values <a class=\"anchor\" id=\"busy-status-values\" />\n",
    "\n",
    "It is useful to define the state values (strings) so that clients have no ambiguity in spelling and error checking.\n",
    "\n",
    "use this | instead of\n",
    "---- | ----\n",
    "`BusyStatus.busy` | `\"Busy\"`\n",
    "`BusyStatus.done` | `\"Done\"`"
   ]
  },
  {
   "cell_type": "code",
   "execution_count": 4,
   "metadata": {
    "collapsed": true
   },
   "outputs": [],
   "source": [
    "class BusyStatus(str, enum.Enum):\n",
    "    busy = \"Busy\"\n",
    "    done = \"Done\""
   ]
  },
  {
   "cell_type": "markdown",
   "metadata": {},
   "source": [
    "We want a couple items from the [waveform](https://wiki-ext.aps.anl.gov/epics/index.php/RRM_3-14_Waveform) record.  Let's use a custom ophyd Device for just what we need here."
   ]
  },
  {
   "cell_type": "code",
   "execution_count": 5,
   "metadata": {
    "collapsed": true
   },
   "outputs": [],
   "source": [
    "class MyWaveform(ophyd.Device):\n",
    "    \"\"\"waveform records store fly scan data\"\"\"\n",
    "    wave = ophyd.Component(ophyd.EpicsSignalRO, \"\")\n",
    "    number_elements = ophyd.Component(ophyd.EpicsSignalRO, \".NELM\")\n",
    "    number_read = ophyd.Component(ophyd.EpicsSignalRO, \".NORD\")"
   ]
  },
  {
   "cell_type": "markdown",
   "metadata": {},
   "source": [
    "## Final, working Flyer <a class=\"anchor\" id=\"working-flyer\" />\n",
    "\n",
    "We'll start from the **Flyer that \"collects\" 1-D array data** as described in the `flyer_template` notebook.\n",
    "\n",
    "When working with EPICS PVs, we create instances of each and add them to our Device:\n",
    "\n",
    "    busy = ophyd.Component(BusyRecord, BUSY_PV)\n",
    "    tArr = ophyd.Component(MyWaveform, TIME_WAVE_PV)\n",
    "    xArr = ophyd.Component(MyWaveform, X_WAVE_PV)\n",
    "    yArr = ophyd.Component(MyWaveform, Y_WAVE_PV)\n",
    "\n",
    "where the PV names (`BUSY_PV`, ...) are configured earlier in this notebook (where it can be seen easily by users).\n",
    "\n",
    "We add some code to the `kickoff()` to operate the busy record (and thereby run the *controller*).  First, we prepare a callback routine to watch for changes in the busy record state.  When it is done, we reset the status object.  This code is much simpler than using a polling loop.\n",
    "\n",
    "        def cb(value, old_value, **kwargs):\n",
    "            if self.busy.state.value in (BusyStatus.done):\n",
    "                self._completion_status._finished(success=True)\n",
    "\n",
    "Next, we subscribe that callback routine to the busy record state.\n",
    "\n",
    "        self.busy.state.subscribe(cb)\n",
    "\n",
    "Next, we record the starting time, just before we set the busy record.\n",
    "\n",
    "        self.t0 = time.time()\n",
    "\n",
    "Next, we start the*controller*.\n",
    "\n",
    "        self.busy.state.put(BusyStatus.busy)\n",
    "\n",
    "With real data, we need to modify both `collect()` and `describe_collect()` for each data to be yielded.  The names must match in both methods or the RunEngine will raise `KeyError: frozenset ...` and tell you about the data you tried to offer.  The names ***must match*** in both methods.  In the `collect()` method, don't forget to return the status object to its value of `None`, signifying that we are not flying.\n",
    "\n",
    "See GitHub for a [summary of changes in source code](https://github.com/prjemian/ipython_mintvm/compare/a0af3ec57a3430e777b3...ce116e5e05774)."
   ]
  },
  {
   "cell_type": "code",
   "execution_count": 14,
   "metadata": {
    "collapsed": true
   },
   "outputs": [],
   "source": [
    "class MyFlyer(ophyd.Device):\n",
    "    \"\"\"\n",
    "    a basic Flyer for scans triggered by the synApps busy record\n",
    "    \"\"\"\n",
    "\n",
    "    busy = ophyd.Component(BusyRecord, BUSY_PV)\n",
    "    tArr = ophyd.Component(MyWaveform, TIME_WAVE_PV)\n",
    "    xArr = ophyd.Component(MyWaveform, X_WAVE_PV)\n",
    "    yArr = ophyd.Component(MyWaveform, Y_WAVE_PV)\n",
    "\n",
    "    def __init__(self, *args, **kwargs):\n",
    "        super().__init__('', parent=None, **kwargs)\n",
    "        self._completion_status = None\n",
    "        self.t0 = 0\n",
    "\n",
    "    def kickoff(self):\n",
    "        \"\"\"\n",
    "        Start this Flyer\n",
    "        \"\"\"\n",
    "        logger.info(\"kickoff()\")\n",
    "        self._completion_status = ophyd.DeviceStatus(self)\n",
    "        \n",
    "        def cb(value, old_value, **kwargs):\n",
    "            if self.busy.state.value in (BusyStatus.done):\n",
    "                self._completion_status._finished(success=True)\n",
    "        self.busy.state.subscribe(cb)\n",
    "        \n",
    "        self.t0 = time.time()\n",
    "        self.busy.state.put(BusyStatus.busy)\n",
    "\n",
    "        kickoff_status = ophyd.DeviceStatus(self)\n",
    "        kickoff_status._finished(success=True)\n",
    "        return kickoff_status\n",
    "\n",
    "    def complete(self):\n",
    "        \"\"\"\n",
    "        Wait for flying to be complete\n",
    "        \"\"\"\n",
    "        logger.info(\"complete()\")\n",
    "        if self._completion_status is None:\n",
    "            raise RuntimeError(\"No collection in progress\")\n",
    "\n",
    "        return self._completion_status\n",
    "\n",
    "    def describe_collect(self):\n",
    "        \"\"\"\n",
    "        Describe details for ``collect()`` method\n",
    "        \"\"\"\n",
    "        logger.info(\"describe_collect()\")\n",
    "        return {\n",
    "            self.name: dict(\n",
    "                ifly_xArr = dict(\n",
    "                    source = self.xArr.wave.pvname,\n",
    "                    dtype = \"number\",\n",
    "                    shape = (1,)\n",
    "                ),\n",
    "                ifly_yArr = dict(\n",
    "                    source = self.yArr.wave.pvname,\n",
    "                    dtype = \"number\",\n",
    "                    shape = (1,)\n",
    "                ),\n",
    "                ifly_tArr = dict(\n",
    "                    source = self.tArr.wave.pvname,\n",
    "                    dtype = \"number\",\n",
    "                    shape = (1,)\n",
    "                )\n",
    "            )\n",
    "        }\n",
    "\n",
    "    def collect(self):\n",
    "        \"\"\"\n",
    "        Start this Flyer\n",
    "        \"\"\"\n",
    "        logger.info(\"collect()\")\n",
    "        self._completion_status = None\n",
    "        for i in range(len(ifly.tArr.wave.value)):\n",
    "            t = ifly.tArr.wave.value[i]\n",
    "            x = ifly.xArr.wave.value[i]\n",
    "            y = ifly.yArr.wave.value[i]\n",
    "            d = dict(\n",
    "                time=time.time(),\n",
    "                data=dict(\n",
    "                    ifly_tArr = time.time() - self.t0,\n",
    "                    ifly_xArr = x,\n",
    "                    ifly_yArr = y,\n",
    "                ),\n",
    "                timestamps=dict(\n",
    "                    ifly_tArr = t,\n",
    "                    ifly_xArr = t,\n",
    "                    ifly_yArr = t,\n",
    "                )\n",
    "            )\n",
    "            yield d"
   ]
  },
  {
   "cell_type": "code",
   "execution_count": 7,
   "metadata": {
    "collapsed": true
   },
   "outputs": [],
   "source": [
    "ifly = MyFlyer(\"prj:\", name=\"ifly\")"
   ]
  },
  {
   "cell_type": "markdown",
   "metadata": {},
   "source": [
    "Verify that we connected with the busy record, *et al.* by printing the current state."
   ]
  },
  {
   "cell_type": "code",
   "execution_count": 8,
   "metadata": {},
   "outputs": [
    {
     "name": "stdout",
     "output_type": "stream",
     "text": [
      "prj:mybusy Done\n"
     ]
    }
   ],
   "source": [
    "print(ifly.busy.state.pvname, ifly.busy.state.value)"
   ]
  },
  {
   "cell_type": "code",
   "execution_count": 9,
   "metadata": {},
   "outputs": [
    {
     "data": {
      "text/plain": [
       "{'ifly': {'ifly_tArr': {'dtype': 'number',\n",
       "   'shape': (1,),\n",
       "   'source': 'prj:t_array'},\n",
       "  'ifly_xArr': {'dtype': 'number', 'shape': (1,), 'source': 'prj:x_array'},\n",
       "  'ifly_yArr': {'dtype': 'number', 'shape': (1,), 'source': 'prj:y_array'}}}"
      ]
     },
     "execution_count": 9,
     "metadata": {},
     "output_type": "execute_result"
    }
   ],
   "source": [
    "ifly.describe_collect()"
   ]
  },
  {
   "cell_type": "code",
   "execution_count": 10,
   "metadata": {},
   "outputs": [
    {
     "data": {
      "text/plain": [
       "[{'data': {'ifly_tArr': 1524862199.1361952,\n",
       "   'ifly_xArr': -1.23,\n",
       "   'ifly_yArr': 0.069199664301518277},\n",
       "  'time': 1524862199.1361947,\n",
       "  'timestamps': {'ifly_tArr': 1524861601.3174641,\n",
       "   'ifly_xArr': 1524861601.3174641,\n",
       "   'ifly_yArr': 1524861601.3174641}},\n",
       " {'data': {'ifly_tArr': 1524862199.1386688,\n",
       "   'ifly_xArr': 0.87,\n",
       "   'ifly_yArr': 0.2738689250019074},\n",
       "  'time': 1524862199.1386685,\n",
       "  'timestamps': {'ifly_tArr': 1524861603.723717,\n",
       "   'ifly_xArr': 1524861603.723717,\n",
       "   'ifly_yArr': 1524861603.723717}},\n",
       " {'data': {'ifly_tArr': 1524862199.1397521,\n",
       "   'ifly_xArr': 2.9700000000000002,\n",
       "   'ifly_yArr': 0.027054245822842757},\n",
       "  'time': 1524862199.139752,\n",
       "  'timestamps': {'ifly_tArr': 1524861606.1300881,\n",
       "   'ifly_xArr': 1524861606.1300881,\n",
       "   'ifly_yArr': 1524861606.1300881}},\n",
       " {'data': {'ifly_tArr': 1524862199.141226,\n",
       "   'ifly_xArr': 5.0700000000000003,\n",
       "   'ifly_yArr': 0.6659342336156252},\n",
       "  'time': 1524862199.1412258,\n",
       "  'timestamps': {'ifly_tArr': 1524861608.5380881,\n",
       "   'ifly_xArr': 1524861608.5380881,\n",
       "   'ifly_yArr': 1524861608.5380881}},\n",
       " {'data': {'ifly_tArr': 1524862199.143896,\n",
       "   'ifly_xArr': 7.1699999999999999,\n",
       "   'ifly_yArr': 0.054001678492408639},\n",
       "  'time': 1524862199.1438959,\n",
       "  'timestamps': {'ifly_tArr': 1524861610.9446349,\n",
       "   'ifly_xArr': 1524861610.9446349,\n",
       "   'ifly_yArr': 1524861610.9446349}}]"
      ]
     },
     "execution_count": 10,
     "metadata": {},
     "output_type": "execute_result"
    }
   ],
   "source": [
    "list(ifly.collect())"
   ]
  },
  {
   "cell_type": "code",
   "execution_count": 11,
   "metadata": {},
   "outputs": [
    {
     "data": {
      "text/plain": [
       "('31e1d0d0-2fa4-4f30-8518-10354940d0a7',)"
      ]
     },
     "execution_count": 11,
     "metadata": {},
     "output_type": "execute_result"
    }
   ],
   "source": [
    "RE(bluesky.plans.fly([ifly]), md=dict(purpose=\"develop Flyer for APS fly scans\"))"
   ]
  },
  {
   "cell_type": "code",
   "execution_count": 12,
   "metadata": {},
   "outputs": [
    {
     "data": {
      "text/html": [
       "<div>\n",
       "<table border=\"1\" class=\"dataframe\">\n",
       "  <thead>\n",
       "    <tr style=\"text-align: right;\">\n",
       "      <th></th>\n",
       "      <th>time</th>\n",
       "      <th>ifly_xArr</th>\n",
       "      <th>ifly_yArr</th>\n",
       "      <th>ifly_tArr</th>\n",
       "    </tr>\n",
       "    <tr>\n",
       "      <th>seq_num</th>\n",
       "      <th></th>\n",
       "      <th></th>\n",
       "      <th></th>\n",
       "      <th></th>\n",
       "    </tr>\n",
       "  </thead>\n",
       "  <tbody>\n",
       "    <tr>\n",
       "      <th>1</th>\n",
       "      <td>2018-04-27 15:49:59.222851</td>\n",
       "      <td>-1.23</td>\n",
       "      <td>0.069200</td>\n",
       "      <td>0.018371</td>\n",
       "    </tr>\n",
       "    <tr>\n",
       "      <th>2</th>\n",
       "      <td>2018-04-27 15:49:59.223443</td>\n",
       "      <td>0.87</td>\n",
       "      <td>0.273869</td>\n",
       "      <td>0.018963</td>\n",
       "    </tr>\n",
       "    <tr>\n",
       "      <th>3</th>\n",
       "      <td>2018-04-27 15:49:59.226422</td>\n",
       "      <td>2.97</td>\n",
       "      <td>0.027054</td>\n",
       "      <td>0.021942</td>\n",
       "    </tr>\n",
       "    <tr>\n",
       "      <th>4</th>\n",
       "      <td>2018-04-27 15:49:59.228665</td>\n",
       "      <td>5.07</td>\n",
       "      <td>0.665934</td>\n",
       "      <td>0.024185</td>\n",
       "    </tr>\n",
       "    <tr>\n",
       "      <th>5</th>\n",
       "      <td>2018-04-27 15:49:59.231211</td>\n",
       "      <td>7.17</td>\n",
       "      <td>0.054002</td>\n",
       "      <td>0.026732</td>\n",
       "    </tr>\n",
       "  </tbody>\n",
       "</table>\n",
       "</div>"
      ],
      "text/plain": [
       "                              time  ifly_xArr  ifly_yArr  ifly_tArr\n",
       "seq_num                                                            \n",
       "1       2018-04-27 15:49:59.222851      -1.23   0.069200   0.018371\n",
       "2       2018-04-27 15:49:59.223443       0.87   0.273869   0.018963\n",
       "3       2018-04-27 15:49:59.226422       2.97   0.027054   0.021942\n",
       "4       2018-04-27 15:49:59.228665       5.07   0.665934   0.024185\n",
       "5       2018-04-27 15:49:59.231211       7.17   0.054002   0.026732"
      ]
     },
     "execution_count": 12,
     "metadata": {},
     "output_type": "execute_result"
    }
   ],
   "source": [
    "h = db[-1]\n",
    "h.table(h.stream_names[0])"
   ]
  },
  {
   "cell_type": "code",
   "execution_count": 13,
   "metadata": {},
   "outputs": [
    {
     "data": {
      "text/plain": [
       "[('start',\n",
       "  {'md': {'purpose': 'develop Flyer for APS fly scans'},\n",
       "   'plan_name': 'fly',\n",
       "   'plan_type': 'generator',\n",
       "   'scan_id': 1,\n",
       "   'time': 1524862199.1711056,\n",
       "   'uid': '31e1d0d0-2fa4-4f30-8518-10354940d0a7'}),\n",
       " ('descriptor',\n",
       "  {'data_keys': {'ifly_tArr': {'dtype': 'number',\n",
       "     'shape': [1],\n",
       "     'source': 'prj:t_array'},\n",
       "    'ifly_xArr': {'dtype': 'number', 'shape': [1], 'source': 'prj:x_array'},\n",
       "    'ifly_yArr': {'dtype': 'number', 'shape': [1], 'source': 'prj:y_array'}},\n",
       "   'hints': {},\n",
       "   'name': 'ifly',\n",
       "   'object_keys': {'ifly': ['ifly_xArr', 'ifly_yArr', 'ifly_tArr']},\n",
       "   'run_start': '31e1d0d0-2fa4-4f30-8518-10354940d0a7',\n",
       "   'time': 1524862199.2056503,\n",
       "   'uid': '9c202647-6937-43cd-95f1-7be8d7faa7bf'}),\n",
       " ('event',\n",
       "  {'data': {'ifly_tArr': 0.0183713436126709,\n",
       "    'ifly_xArr': -1.23,\n",
       "    'ifly_yArr': 0.06919966430151828},\n",
       "   'descriptor': '9c202647-6937-43cd-95f1-7be8d7faa7bf',\n",
       "   'filled': {},\n",
       "   'seq_num': 1,\n",
       "   'time': 1524862199.222851,\n",
       "   'timestamps': {'ifly_tArr': 1524861601.317464,\n",
       "    'ifly_xArr': 1524861601.317464,\n",
       "    'ifly_yArr': 1524861601.317464},\n",
       "   'uid': '52f10b96-9c66-4fad-885c-d19d31073599'}),\n",
       " ('event',\n",
       "  {'data': {'ifly_tArr': 0.018963336944580078,\n",
       "    'ifly_xArr': 0.87,\n",
       "    'ifly_yArr': 0.2738689250019074},\n",
       "   'descriptor': '9c202647-6937-43cd-95f1-7be8d7faa7bf',\n",
       "   'filled': {},\n",
       "   'seq_num': 2,\n",
       "   'time': 1524862199.223443,\n",
       "   'timestamps': {'ifly_tArr': 1524861603.723717,\n",
       "    'ifly_xArr': 1524861603.723717,\n",
       "    'ifly_yArr': 1524861603.723717},\n",
       "   'uid': '1ee6769f-1dc7-4e89-bd1c-6dc4787e4407'}),\n",
       " ('event',\n",
       "  {'data': {'ifly_tArr': 0.021942138671875,\n",
       "    'ifly_xArr': 2.97,\n",
       "    'ifly_yArr': 0.027054245822842757},\n",
       "   'descriptor': '9c202647-6937-43cd-95f1-7be8d7faa7bf',\n",
       "   'filled': {},\n",
       "   'seq_num': 3,\n",
       "   'time': 1524862199.2264218,\n",
       "   'timestamps': {'ifly_tArr': 1524861606.130088,\n",
       "    'ifly_xArr': 1524861606.130088,\n",
       "    'ifly_yArr': 1524861606.130088},\n",
       "   'uid': '466850c4-3a45-4a49-847c-4bc783c34697'}),\n",
       " ('event',\n",
       "  {'data': {'ifly_tArr': 0.0241851806640625,\n",
       "    'ifly_xArr': 5.07,\n",
       "    'ifly_yArr': 0.6659342336156252},\n",
       "   'descriptor': '9c202647-6937-43cd-95f1-7be8d7faa7bf',\n",
       "   'filled': {},\n",
       "   'seq_num': 4,\n",
       "   'time': 1524862199.2286649,\n",
       "   'timestamps': {'ifly_tArr': 1524861608.538088,\n",
       "    'ifly_xArr': 1524861608.538088,\n",
       "    'ifly_yArr': 1524861608.538088},\n",
       "   'uid': 'af036292-309b-438e-82a4-7ae7252208bb'}),\n",
       " ('event',\n",
       "  {'data': {'ifly_tArr': 0.026732206344604492,\n",
       "    'ifly_xArr': 7.17,\n",
       "    'ifly_yArr': 0.05400167849240864},\n",
       "   'descriptor': '9c202647-6937-43cd-95f1-7be8d7faa7bf',\n",
       "   'filled': {},\n",
       "   'seq_num': 5,\n",
       "   'time': 1524862199.2312114,\n",
       "   'timestamps': {'ifly_tArr': 1524861610.944635,\n",
       "    'ifly_xArr': 1524861610.944635,\n",
       "    'ifly_yArr': 1524861610.944635},\n",
       "   'uid': 'a6c7d4c6-df1e-45cc-9e08-9f1721228386'}),\n",
       " ('stop',\n",
       "  {'exit_status': 'success',\n",
       "   'num_events': {'ifly': 5},\n",
       "   'run_start': '31e1d0d0-2fa4-4f30-8518-10354940d0a7',\n",
       "   'time': 1524862199.2456717,\n",
       "   'uid': '8614c549-da10-4ca9-90aa-ee8cc5dab2d6'})]"
      ]
     },
     "execution_count": 13,
     "metadata": {},
     "output_type": "execute_result"
    }
   ],
   "source": [
    "list(h.documents())"
   ]
  },
  {
   "cell_type": "code",
   "execution_count": null,
   "metadata": {
    "collapsed": true
   },
   "outputs": [],
   "source": []
  }
 ],
 "metadata": {
  "kernelspec": {
   "display_name": "Python 3",
   "language": "python",
   "name": "python3"
  },
  "language_info": {
   "codemirror_mode": {
    "name": "ipython",
    "version": 3
   },
   "file_extension": ".py",
   "mimetype": "text/x-python",
   "name": "python",
   "nbconvert_exporter": "python",
   "pygments_lexer": "ipython3",
   "version": "3.6.3"
  }
 },
 "nbformat": 4,
 "nbformat_minor": 2
}
