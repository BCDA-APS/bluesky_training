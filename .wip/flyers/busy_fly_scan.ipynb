{
 "cells": [
  {
   "cell_type": "markdown",
   "metadata": {},
   "source": [
    "# BlueSky Device for APS taxi & fly scans\n",
    "\n",
    "Some EPICS fly scans at APS are triggered by a pair of EPICS *busy* records.  The *busy* record is set, which triggers the external controller to do the fly scan and then reset the *busy* record.  The first *busy* is called `taxi` and is responsible for preparing the hardware to fly.  The second *busy* performs the actual fly scan.  In a third (optional) phase, data is collected from hardware and written to a file.\n",
    "\n",
    "\n",
    "## Python imports and definitions <a class=\"anchor\" id=\"imports\" />\n",
    "\n",
    "Here are the full set of packages to imported.  The first block are Python standard packages, then come the ophyd and BluSky packages.  Just the parts we plan on using here.  Since this is also a tutorial, we will not rename imports or use other such shortcuts in the documentation (the online code has some shortcuts).\n",
    "\n",
    "* Create a logger instance in case we want to investigate internal details as our code runs.\n",
    "* Create an instance of the BlueSky RunEngine.\n",
    "* Create an instance of the databroker using the `mongodb_config.yml` file on the local machine\n",
    "* Arrange for the databroker to receive all events from the RunEngine"
   ]
  },
  {
   "cell_type": "code",
   "execution_count": 1,
   "metadata": {},
   "outputs": [],
   "source": [
    "import enum\n",
    "import epics\n",
    "import logging\n",
    "import threading\n",
    "import time\n",
    "\n",
    "import ophyd\n",
    "import bluesky\n",
    "import bluesky.plans\n",
    "import databroker\n",
    "\n",
    "FORMAT = '%(asctime)s %(levelname)s %(name)s - %(message)s'\n",
    "logger = logging.getLogger()\n",
    "logging.basicConfig(level=logging.INFO, format=FORMAT)\n",
    "\n",
    "RE = bluesky.RunEngine({})\n",
    "db = databroker.Broker.named(\"mongodb_config\")\n",
    "RE.subscribe(db.insert)\n",
    "RE.msg_hook = bluesky.utils.ts_msg_hook"
   ]
  },
  {
   "cell_type": "markdown",
   "metadata": {},
   "source": [
    "## EPICS setup\n",
    "\n",
    "A custom EPICS database has been created to develop this support.  The database is loaded on IOC startup with this command:\n",
    "\n",
    "    dbLoadRecords(\"taxi_fly.db\",\"P=prj:tf:\")\n",
    "\n",
    "file: `taxi_fly.db`\n",
    "\n",
    "```\n",
    "record(busy, \"$(P)taxi\")\n",
    "{\n",
    "\tfield(DESC, \"prepare for fly scan\")\n",
    "\tfield(OUT, \"$(P)do_taxi.PROC\")\n",
    "}\n",
    "record(sseq, \"$(P)do_taxi\")\n",
    "{\n",
    "\tfield(DESC, \"sequence of taxi steps\")\n",
    "    # the only thing we do here is quit after a short time\n",
    "\tfield(DLY1, 5.0)\n",
    "\tfield(STR1, \"Done\")\n",
    "\tfield(LNK1, \"$(P)taxi CA NMS\")\n",
    "}\n",
    "\n",
    "record(busy, \"$(P)fly\")\n",
    "{\n",
    "\tfield(DESC, \"execute fly scan\")\n",
    "\tfield(OUT, \"$(P)do_fly.PROC\")\n",
    "}\n",
    "record(sseq, \"$(P)do_fly\")\n",
    "{\n",
    "\tfield(DESC, \"sequence of fly steps\")\n",
    "    # the only thing we do here is quit after a short time\n",
    "\tfield(DLY1, 5.0)\n",
    "\tfield(STR1, \"Done\")\n",
    "\tfield(LNK1, \"$(P)fly CA NMS\")\n",
    "}\n",
    "```"
   ]
  },
  {
   "cell_type": "markdown",
   "metadata": {},
   "source": [
    "## Define the TaxiFlyScanDevice"
   ]
  },
  {
   "cell_type": "code",
   "execution_count": 2,
   "metadata": {},
   "outputs": [],
   "source": [
    "class TaxiFlyScanDevice(ophyd.Device):\n",
    "    taxi = ophyd.Component(ophyd.EpicsSignal, \"taxi\", put_complete=True)\n",
    "    fly = ophyd.Component(ophyd.EpicsSignal, \"fly\", put_complete=True)\n",
    "    \n",
    "    def plan(self):\n",
    "        logger.info(\"before taxi\")\n",
    "        yield from bluesky.plan_stubs.mv(self.taxi, self.taxi.enum_strs[1])\n",
    "        logger.info(\"after taxi\")\n",
    "        \n",
    "        logger.info(\"before fly\")\n",
    "        yield from bluesky.plan_stubs.mv(self.fly, self.fly.enum_strs[1])\n",
    "        logger.info(\"after fly\")"
   ]
  },
  {
   "cell_type": "code",
   "execution_count": 3,
   "metadata": {
    "collapsed": true
   },
   "outputs": [],
   "source": [
    "ifly = TaxiFlyScanDevice(\"prj:tf:\", name=\"ifly\")"
   ]
  },
  {
   "cell_type": "code",
   "execution_count": 4,
   "metadata": {
    "collapsed": true
   },
   "outputs": [],
   "source": [
    "ifly.taxi.put(0)"
   ]
  },
  {
   "cell_type": "code",
   "execution_count": 5,
   "metadata": {},
   "outputs": [
    {
     "name": "stderr",
     "output_type": "stream",
     "text": [
      "2018-05-14 14:10:10,156 INFO root - before taxi\n"
     ]
    },
    {
     "name": "stdout",
     "output_type": "stream",
     "text": [
      "14:10:10.161009 set               -> ifly_taxi       args: ('Busy',), kwargs: {'group': 'f4906b42-af21-439a-8df8-c5e95d7ca268'}\n",
      "14:10:10.164069 wait              -> None            args: (), kwargs: {'group': 'f4906b42-af21-439a-8df8-c5e95d7ca268'}\n"
     ]
    },
    {
     "name": "stderr",
     "output_type": "stream",
     "text": [
      "2018-05-14 14:10:16,163 INFO root - after taxi\n",
      "2018-05-14 14:10:16,170 INFO root - before fly\n"
     ]
    },
    {
     "name": "stdout",
     "output_type": "stream",
     "text": [
      "14:10:16.184975 set               -> ifly_fly        args: ('Busy',), kwargs: {'group': '9715fa03-6852-4ffa-92ae-5471eea91cdd'}\n",
      "14:10:16.186176 wait              -> None            args: (), kwargs: {'group': '9715fa03-6852-4ffa-92ae-5471eea91cdd'}\n"
     ]
    },
    {
     "name": "stderr",
     "output_type": "stream",
     "text": [
      "2018-05-14 14:10:26,153 INFO root - after fly\n"
     ]
    },
    {
     "data": {
      "text/plain": [
       "()"
      ]
     },
     "execution_count": 5,
     "metadata": {},
     "output_type": "execute_result"
    }
   ],
   "source": [
    "RE(ifly.plan())"
   ]
  }
 ],
 "metadata": {
  "kernelspec": {
   "display_name": "Python 3",
   "language": "python",
   "name": "python3"
  },
  "language_info": {
   "codemirror_mode": {
    "name": "ipython",
    "version": 3
   },
   "file_extension": ".py",
   "mimetype": "text/x-python",
   "name": "python",
   "nbconvert_exporter": "python",
   "pygments_lexer": "ipython3",
   "version": "3.6.3"
  }
 },
 "nbformat": 4,
 "nbformat_minor": 2
}
