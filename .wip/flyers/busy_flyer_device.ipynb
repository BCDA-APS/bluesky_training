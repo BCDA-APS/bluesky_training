{
 "cells": [
  {
   "cell_type": "markdown",
   "metadata": {},
   "source": [
    "# the `BusyFlyerDevice`\n",
    "\n",
    "It may not be practical to develop a mixin device for the ***BusyFlyer***.  When using a callback (much more efficient coding than with polling for completion), the steps to customize `kickoff()`, `complete()`, `collect()`, and `describe_collect()` comprise the major parts of these methods.  A general mixin class, providing hook methods to each of these parts is only extra code to maintain.  Better to provide a good template example."
   ]
  },
  {
   "cell_type": "code",
   "execution_count": 1,
   "metadata": {},
   "outputs": [
    {
     "data": {
      "text/plain": [
       "0"
      ]
     },
     "execution_count": 1,
     "metadata": {},
     "output_type": "execute_result"
    }
   ],
   "source": [
    "import enum\n",
    "import logging\n",
    "import threading\n",
    "import time\n",
    "\n",
    "import ophyd\n",
    "import bluesky\n",
    "import bluesky.plans\n",
    "import databroker\n",
    "\n",
    "logger = logging.getLogger()\n",
    "RE = bluesky.RunEngine({})\n",
    "db = databroker.Broker.from_config(databroker.temp_config())\n",
    "RE.subscribe(db.insert)"
   ]
  },
  {
   "cell_type": "code",
   "execution_count": 2,
   "metadata": {
    "collapsed": true
   },
   "outputs": [],
   "source": [
    "BUSY_PV = 'prj:mybusy'\n",
    "TIME_WAVE_PV = 'prj:t_array'\n",
    "X_WAVE_PV = 'prj:x_array'\n",
    "Y_WAVE_PV = 'prj:y_array'"
   ]
  },
  {
   "cell_type": "code",
   "execution_count": 3,
   "metadata": {
    "collapsed": true
   },
   "outputs": [],
   "source": [
    "class BusyStatus(str, enum.Enum):\n",
    "    busy = \"Busy\"\n",
    "    done = \"Done\"\n",
    "\n",
    "class MyWaveform(ophyd.Device):\n",
    "    \"\"\"waveform records store fly scan data\"\"\"\n",
    "    wave = ophyd.Component(ophyd.EpicsSignalRO, \"\")\n",
    "    number_elements = ophyd.Component(ophyd.EpicsSignalRO, \".NELM\")\n",
    "    number_read = ophyd.Component(ophyd.EpicsSignalRO, \".NORD\")"
   ]
  },
  {
   "cell_type": "code",
   "execution_count": 4,
   "metadata": {},
   "outputs": [],
   "source": [
    "class BusyFlyerDevice(ophyd.Device):\n",
    "    \"\"\"\n",
    "    support APS Fly Scans that are operated by a busy record\n",
    "    \"\"\"\n",
    "\n",
    "    busy = ophyd.Component(ophyd.EpicsSignal, BUSY_PV, string=True)\n",
    "    time = ophyd.Component(MyWaveform, TIME_WAVE_PV)\n",
    "    axis = ophyd.Component(MyWaveform, X_WAVE_PV)\n",
    "    signal = ophyd.Component(MyWaveform, Y_WAVE_PV)\n",
    "    \n",
    "    def __init__(self, *args, **kwargs):\n",
    "        super().__init__('', parent=None, **kwargs)\n",
    "        self.complete_status = None\n",
    "        self.t0 = time.time()\n",
    "        self.waves = (self.time, self.axis, self.signal)\n",
    "\n",
    "    def kickoff(self):\n",
    "        \"\"\"\n",
    "        Start this Flyer\n",
    "        \"\"\"\n",
    "        logger.info(\"kickoff()\")\n",
    "        self.complete_status = ophyd.DeviceStatus(self.busy)\n",
    "        \n",
    "        def cb(*args, **kwargs):\n",
    "            if self.busy.value in (BusyStatus.done):\n",
    "                self.complete_status._finished(success=True)\n",
    "        \n",
    "        self.t0 = time.time()\n",
    "        self.busy.put(BusyStatus.busy)\n",
    "        self.busy.subscribe(cb)\n",
    "\n",
    "        kickoff_status = ophyd.DeviceStatus(self)\n",
    "        kickoff_status._finished(success=True)\n",
    "        return kickoff_status\n",
    "\n",
    "    def complete(self):\n",
    "        \"\"\"\n",
    "        Wait for flying to be complete\n",
    "        \"\"\"\n",
    "        logger.info(\"complete(): \" + str(self.complete_status))\n",
    "        return self.complete_status\n",
    "\n",
    "    def describe_collect(self):\n",
    "        \"\"\"\n",
    "        Describe details for ``collect()`` method\n",
    "        \"\"\"\n",
    "        logger.info(\"describe_collect()\")\n",
    "        schema = {}\n",
    "        for item in self.waves:\n",
    "            structure = dict(\n",
    "                source = item.wave.pvname,\n",
    "                dtype = \"number\",\n",
    "                shape = (1,)\n",
    "            )\n",
    "            schema[item.name] = structure\n",
    "        return {self.name: schema}\n",
    "\n",
    "    def collect(self):\n",
    "        \"\"\"\n",
    "        Start this Flyer\n",
    "        \"\"\"\n",
    "        logger.info(\"collect(): \" + str(self.complete_status))\n",
    "        self.complete_status = None\n",
    "        for i in range(int(self.time.number_read.value)):\n",
    "            data = {}\n",
    "            timestamps = {}\n",
    "            t = time.time()\n",
    "            for item in self.waves:\n",
    "                data[item.name] = item.wave.value[i]\n",
    "                timestamps[item.name] = t\n",
    "            data[self.time.name] -= self.t0  # demo: offset time (removes large offset)\n",
    "            d = dict(\n",
    "                time=time.time(),\n",
    "                data=data,\n",
    "                timestamps=timestamps\n",
    "            )\n",
    "            yield d"
   ]
  },
  {
   "cell_type": "code",
   "execution_count": 5,
   "metadata": {},
   "outputs": [],
   "source": [
    "bflyer = BusyFlyerDevice(name=\"bflyer\")"
   ]
  },
  {
   "cell_type": "code",
   "execution_count": 6,
   "metadata": {},
   "outputs": [],
   "source": [
    "status = bflyer.complete()\n",
    "status"
   ]
  },
  {
   "cell_type": "code",
   "execution_count": 7,
   "metadata": {},
   "outputs": [
    {
     "data": {
      "text/plain": [
       "[{'data': {'bflyer_axis': -1.23,\n",
       "   'bflyer_signal': 0.0056610971236743723,\n",
       "   'bflyer_time': -102.14657592773438},\n",
       "  'time': 1524924664.4834409,\n",
       "  'timestamps': {'bflyer_axis': 1524924664.4755518,\n",
       "   'bflyer_signal': 1524924664.4755518,\n",
       "   'bflyer_time': 1524924664.4755518}},\n",
       " {'data': {'bflyer_axis': 0.87,\n",
       "   'bflyer_signal': 0.87074082551308463,\n",
       "   'bflyer_time': -99.743170022964478},\n",
       "  'time': 1524924664.4839718,\n",
       "  'timestamps': {'bflyer_axis': 1524924664.483443,\n",
       "   'bflyer_signal': 1524924664.483443,\n",
       "   'bflyer_time': 1524924664.483443}},\n",
       " {'data': {'bflyer_axis': 2.9700000000000002,\n",
       "   'bflyer_signal': 0.017715724422064545,\n",
       "   'bflyer_time': -97.339380979537964},\n",
       "  'time': 1524924664.484477,\n",
       "  'timestamps': {'bflyer_axis': 1524924664.4839733,\n",
       "   'bflyer_signal': 1524924664.4839733,\n",
       "   'bflyer_time': 1524924664.4839733}},\n",
       " {'data': {'bflyer_axis': 5.0700000000000003,\n",
       "   'bflyer_signal': 0.35019455252918286,\n",
       "   'bflyer_time': -94.935523986816406},\n",
       "  'time': 1524924664.4863439,\n",
       "  'timestamps': {'bflyer_axis': 1524924664.4844785,\n",
       "   'bflyer_signal': 1524924664.4844785,\n",
       "   'bflyer_time': 1524924664.4844785}},\n",
       " {'data': {'bflyer_axis': 7.1699999999999999,\n",
       "   'bflyer_signal': 0.032455939574273292,\n",
       "   'bflyer_time': -92.531224966049194},\n",
       "  'time': 1524924664.4868846,\n",
       "  'timestamps': {'bflyer_axis': 1524924664.4863458,\n",
       "   'bflyer_signal': 1524924664.4863458,\n",
       "   'bflyer_time': 1524924664.4863458}}]"
      ]
     },
     "execution_count": 7,
     "metadata": {},
     "output_type": "execute_result"
    }
   ],
   "source": [
    "list(bflyer.collect())"
   ]
  },
  {
   "cell_type": "code",
   "execution_count": 8,
   "metadata": {},
   "outputs": [],
   "source": [
    "import bluesky.utils\n",
    "RE.msg_hook = bluesky.utils.ts_msg_hook\n",
    "logging.basicConfig(\n",
    "    # level=logging.INFO, \n",
    "    level=logging.DEBUG, \n",
    "    format='%(asctime)s.%(msecs)03d %(levelname)s %(message)s',\n",
    "    datefmt='%M:%S',\n",
    "    # datefmt='%Y-%m-%d %H:%M:%S',\n",
    "    ) "
   ]
  },
  {
   "cell_type": "code",
   "execution_count": 9,
   "metadata": {},
   "outputs": [
    {
     "name": "stderr",
     "output_type": "stream",
     "text": [
      "11:04.550 DEBUG Inserted RunStart with uid 35ace6f9-521b-4247-a890-fb0c3306e770\n",
      "11:04.555 INFO kickoff()\n",
      "11:04.571 INFO complete(): DeviceStatus(device=bflyer_busy, done=False, success=False)\n"
     ]
    },
    {
     "name": "stdout",
     "output_type": "stream",
     "text": [
      "09:11:04.532076 open_run          -> None            args: (), kwargs: {}\n",
      "09:11:04.552720 kickoff           -> bflyer          args: (), kwargs: {'group': None}\n",
      "09:11:04.570638 wait              -> None            args: (), kwargs: {'group': None}\n",
      "09:11:04.571154 complete          -> bflyer          args: (), kwargs: {'group': None}\n",
      "09:11:04.573744 wait              -> None            args: (), kwargs: {'group': None}\n"
     ]
    },
    {
     "name": "stderr",
     "output_type": "stream",
     "text": [
      "11:14.326 INFO describe_collect()\n",
      "11:14.350 DEBUG Inserted EventDescriptor with uid 668b0df2-d6af-4ae1-9aca-4ce71df0cf7e referencing RunStart with uid 35ace6f9-521b-4247-a890-fb0c3306e770\n",
      "11:14.353 INFO collect(): DeviceStatus(device=bflyer_busy, done=True, success=True)\n",
      "11:14.376 DEBUG Inserted RunStop with uid b4b5df0a-801c-45ba-95b5-1dbf1974a73b referencing RunStart  with uid 35ace6f9-521b-4247-a890-fb0c3306e770\n"
     ]
    },
    {
     "name": "stdout",
     "output_type": "stream",
     "text": [
      "09:11:14.325695 collect           -> bflyer          args: (), kwargs: {'stream': False}\n",
      "09:11:14.373879 close_run         -> None            args: (), kwargs: {'exit_status': None, 'reason': None}\n"
     ]
    },
    {
     "data": {
      "text/plain": [
       "('35ace6f9-521b-4247-a890-fb0c3306e770',)"
      ]
     },
     "execution_count": 9,
     "metadata": {},
     "output_type": "execute_result"
    }
   ],
   "source": [
    "RE(bluesky.plans.fly([bflyer]))"
   ]
  },
  {
   "cell_type": "code",
   "execution_count": 10,
   "metadata": {},
   "outputs": [],
   "source": [
    "# RE.abort()"
   ]
  },
  {
   "cell_type": "code",
   "execution_count": 11,
   "metadata": {},
   "outputs": [
    {
     "name": "stderr",
     "output_type": "stream",
     "text": [
      "11:14.411 INFO Interpreting key = -1 as an integer\n"
     ]
    },
    {
     "data": {
      "text/html": [
       "<div>\n",
       "<table border=\"1\" class=\"dataframe\">\n",
       "  <thead>\n",
       "    <tr style=\"text-align: right;\">\n",
       "      <th></th>\n",
       "      <th>time</th>\n",
       "      <th>bflyer_time</th>\n",
       "      <th>bflyer_axis</th>\n",
       "      <th>bflyer_signal</th>\n",
       "    </tr>\n",
       "    <tr>\n",
       "      <th>seq_num</th>\n",
       "      <th></th>\n",
       "      <th></th>\n",
       "      <th></th>\n",
       "      <th></th>\n",
       "    </tr>\n",
       "  </thead>\n",
       "  <tbody>\n",
       "    <tr>\n",
       "      <th>1</th>\n",
       "      <td>2018-04-28 10:11:14.355848</td>\n",
       "      <td>0.139265</td>\n",
       "      <td>-1.23</td>\n",
       "      <td>0.946609</td>\n",
       "    </tr>\n",
       "    <tr>\n",
       "      <th>2</th>\n",
       "      <td>2018-04-28 10:11:14.358687</td>\n",
       "      <td>2.544316</td>\n",
       "      <td>0.87</td>\n",
       "      <td>0.946609</td>\n",
       "    </tr>\n",
       "    <tr>\n",
       "      <th>3</th>\n",
       "      <td>2018-04-28 10:11:14.361532</td>\n",
       "      <td>4.954960</td>\n",
       "      <td>2.97</td>\n",
       "      <td>0.845502</td>\n",
       "    </tr>\n",
       "    <tr>\n",
       "      <th>4</th>\n",
       "      <td>2018-04-28 10:11:14.362693</td>\n",
       "      <td>7.361858</td>\n",
       "      <td>5.07</td>\n",
       "      <td>0.327810</td>\n",
       "    </tr>\n",
       "    <tr>\n",
       "      <th>5</th>\n",
       "      <td>2018-04-28 10:11:14.363223</td>\n",
       "      <td>9.766186</td>\n",
       "      <td>7.17</td>\n",
       "      <td>0.716808</td>\n",
       "    </tr>\n",
       "  </tbody>\n",
       "</table>\n",
       "</div>"
      ],
      "text/plain": [
       "                              time  bflyer_time  bflyer_axis  bflyer_signal\n",
       "seq_num                                                                    \n",
       "1       2018-04-28 10:11:14.355848     0.139265        -1.23       0.946609\n",
       "2       2018-04-28 10:11:14.358687     2.544316         0.87       0.946609\n",
       "3       2018-04-28 10:11:14.361532     4.954960         2.97       0.845502\n",
       "4       2018-04-28 10:11:14.362693     7.361858         5.07       0.327810\n",
       "5       2018-04-28 10:11:14.363223     9.766186         7.17       0.716808"
      ]
     },
     "execution_count": 11,
     "metadata": {},
     "output_type": "execute_result"
    }
   ],
   "source": [
    "h = db[-1]\n",
    "h.table(\"bflyer\")"
   ]
  }
 ],
 "metadata": {
  "kernelspec": {
   "display_name": "Python 3",
   "language": "python",
   "name": "python3"
  },
  "language_info": {
   "codemirror_mode": {
    "name": "ipython",
    "version": 3
   },
   "file_extension": ".py",
   "mimetype": "text/x-python",
   "name": "python",
   "nbconvert_exporter": "python",
   "pygments_lexer": "ipython3",
   "version": "3.6.3"
  }
 },
 "nbformat": 4,
 "nbformat_minor": 2
}
