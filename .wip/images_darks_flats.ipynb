{
 "cells": [
  {
   "cell_type": "markdown",
   "source": [
    "# Images, Darks, & Flats with EPICS area detector, ophyd, and Bluesky\n",
    "\n",
    "TODO: work-in-progress\n",
    "\n",
    "The HDF5 File Writer can be configured to save image frames into separate datasets within the same HDF5 data file.  The selection of frame type (image frame, background/dark frame, white/flat frame) is made by use of an existing PV in area detector: `$(P):cam1:FrameType` which is an *mbbo* record.  In ophyd, the readback version of this PV: `$(P):cam1:FrameType_RBV` is used to define operational values for the ophyd device.  Be sure to configure the readback PV with the same values.\n",
    "\n",
    "Both these PVs (`$(P):cam1:FrameType` and `$(P):cam1:FrameType_RBV`) should be configured so the values on the RHS are the HDF5 address in the file where the image frame should be stored:\n",
    "\n",
    "    PV.ZRST = /exchange/data\n",
    "    PV.ONST = /exchange/data_dark\n",
    "    PV.TWST = /exchange/data_white\n",
    "    # make sure to put these in autosave so they are restored when the IOC is restarted!\n",
    "\n",
    "The HDF5 addresses shown are for the Data Exchange format.  In NeXus, the detector data is stored within the instrument group, traditionally at `/entry/instrument/detector/`.  We then hard link that into the `/entry/data` group.  But, there is a big, fat, stinkin problem.  The EPICS mbbo fields for the various string values (ZRST, ONST, TWST, ...) are only 25 characters long, not long enough to hold this path.  So we write the data into the `/entry/data` group and hard link it (in the layout.xml file) to the instrument group.\n",
    "\n",
    "    PV.ZRST = /entry/data/data\n",
    "    PV.ONST = /entry/data/dark\n",
    "    PV.TWST = /entry/data/white\n",
    "    # make sure to put these in autosave so they are restored when the IOC is restarted!\n",
    "\n",
    "The area detector attributes XML file needs the selection PV included in its list.  We'll call it `SaveDest` so we can use the same name in the layout file:\n",
    "\n",
    "    <Attribute \n",
    "        name=\"SaveDest\"\n",
    "        type=\"EPICS_PV\"\n",
    "        source=\"13SIM1:cam1:FrameType\"\n",
    "        dbrtype=\"DBR_STRING\"\n",
    "        description=\"image, dark, or flat frame\"/>\n",
    "\n",
    "Then, the HDF5 layout XML file refers to this `SaveDest` attribute in the setup (add this to the XML file just after the opening `hdf5_layout` and before the first `group` element)\n",
    "\n",
    "    <global name=\"detector_data_destination\" ndattribute=\"SaveDest\" />\n",
    "\n",
    "The name `detector_data_destination` is hard-coded in the source code of the HDF5 file writer.\n",
    "\n",
    "In the BlueSky plan, write the frame type with 0: image, 1: dark, 2: flat before acquiring the image frame of that type.  Then the HDF5 file writer will direct the image frame to the correct dataset as specified by the ZRST, ONST, or TWST field, respectively."
   ],
   "metadata": {}
  },
  {
   "cell_type": "markdown",
   "source": [
    "## Try it with a NeXus file and the AD SimDetector"
   ],
   "metadata": {}
  },
  {
   "cell_type": "markdown",
   "source": [
    "First, configure an instance of the sim detector."
   ],
   "metadata": {}
  },
  {
   "cell_type": "code",
   "execution_count": 1,
   "source": [
    "from ophyd import Component, Device, EpicsSignal, EpicsSignalRO, EpicsSignalWithRBV\n",
    "from ophyd import SingleTrigger, AreaDetector, SimDetector\n",
    "from ophyd import HDF5Plugin, ImagePlugin\n",
    "from ophyd.areadetector import ADComponent\n",
    "from ophyd.areadetector.filestore_mixins import FileStoreHDF5IterativeWrite\n",
    "\n",
    "image_file_path = \"/tmp/simdet/%Y/%m/%d/\"\n",
    "# _ad_prefix = \"13SIM1:\"\n",
    "_ad_prefix = \"ad:\"\n",
    "\n",
    "\n",
    "class MyHDF5Plugin(HDF5Plugin, FileStoreHDF5IterativeWrite):\n",
    "    \"\"\"\n",
    "    \"\"\"\n",
    "    layout_filename = ADComponent(EpicsSignal, \"XMLFileName\")\n",
    "    layout_filename_valid = ADComponent(EpicsSignal, \"XMLValid_RBV\", string=True)\n",
    "    \n",
    "\n",
    "class MySingleTriggerHdf5SimDetector(SingleTrigger, SimDetector): \n",
    "       \n",
    "    image = Component(ImagePlugin, suffix=\"image1:\")\n",
    "    hdf1 = Component(\n",
    "        MyHDF5Plugin,\n",
    "        suffix='HDF1:', \n",
    "        root='/',                               # for databroker\n",
    "        write_path_template=image_file_path,    # for EPICS AD\n",
    "    )"
   ],
   "outputs": [],
   "metadata": {}
  },
  {
   "cell_type": "code",
   "execution_count": 2,
   "source": [
    "adsimdet = MySingleTriggerHdf5SimDetector(_ad_prefix, name='adsimdet')\n",
    "adsimdet.read_attrs.append(\"hdf1\")"
   ],
   "outputs": [],
   "metadata": {
    "collapsed": true
   }
  },
  {
   "cell_type": "markdown",
   "source": [
    "Setup Bluesky"
   ],
   "metadata": {}
  },
  {
   "cell_type": "code",
   "execution_count": 3,
   "source": [
    "from bluesky import RunEngine\n",
    "import bluesky.plans as bp\n",
    "\n",
    "RE = RunEngine({})\n",
    "RE.md[\"repository\"] = \"bluesky_training\"\n",
    "RE.md[\"notebook\"] = \"images_darks_flats\""
   ],
   "outputs": [],
   "metadata": {}
  },
  {
   "cell_type": "markdown",
   "source": [
    "Set the counting time per frame to something short."
   ],
   "metadata": {}
  },
  {
   "cell_type": "code",
   "execution_count": 4,
   "source": [
    "adsimdet.cam.stage_sigs[\"acquire_time\"] = 0.02"
   ],
   "outputs": [],
   "metadata": {
    "collapsed": true
   }
  },
  {
   "cell_type": "markdown",
   "source": [
    "Now, count `adsimdet` using default settings."
   ],
   "metadata": {}
  },
  {
   "cell_type": "code",
   "execution_count": 6,
   "source": [
    "RE(bp.count([adsimdet]))"
   ],
   "outputs": [
    {
     "output_type": "stream",
     "name": "stderr",
     "text": [
      "Run aborted\n",
      "Traceback (most recent call last):\n",
      "  File \"/home/mintadmin/Apps/anaconda/envs/bluesky_2021_2/lib/python3.8/site-packages/bluesky/run_engine.py\", line 1365, in _run\n",
      "    msg = self._plan_stack[-1].send(resp)\n",
      "  File \"/home/mintadmin/Apps/anaconda/envs/bluesky_2021_2/lib/python3.8/site-packages/bluesky/plans.py\", line 77, in count\n",
      "    return (yield from inner_count())\n",
      "  File \"/home/mintadmin/Apps/anaconda/envs/bluesky_2021_2/lib/python3.8/site-packages/bluesky/utils/__init__.py\", line 1140, in dec_inner\n",
      "    return (yield from plan)\n",
      "  File \"/home/mintadmin/Apps/anaconda/envs/bluesky_2021_2/lib/python3.8/site-packages/bluesky/preprocessors.py\", line 952, in stage_wrapper\n",
      "    return (yield from finalize_wrapper(inner(), unstage_devices()))\n",
      "  File \"/home/mintadmin/Apps/anaconda/envs/bluesky_2021_2/lib/python3.8/site-packages/bluesky/preprocessors.py\", line 509, in finalize_wrapper\n",
      "    ret = yield from plan\n",
      "  File \"/home/mintadmin/Apps/anaconda/envs/bluesky_2021_2/lib/python3.8/site-packages/bluesky/preprocessors.py\", line 949, in inner\n",
      "    yield from stage_devices()\n",
      "  File \"/home/mintadmin/Apps/anaconda/envs/bluesky_2021_2/lib/python3.8/site-packages/bluesky/preprocessors.py\", line 942, in stage_devices\n",
      "    yield Msg('stage', d)\n",
      "  File \"/home/mintadmin/Apps/anaconda/envs/bluesky_2021_2/lib/python3.8/site-packages/bluesky/run_engine.py\", line 1425, in _run\n",
      "    new_response = await coro(msg)\n",
      "  File \"/home/mintadmin/Apps/anaconda/envs/bluesky_2021_2/lib/python3.8/site-packages/bluesky/run_engine.py\", line 2168, in _stage\n",
      "    result = obj.stage()\n",
      "  File \"/home/mintadmin/Apps/anaconda/envs/bluesky_2021_2/lib/python3.8/site-packages/ophyd/areadetector/trigger_mixins.py\", line 123, in stage\n",
      "    super().stage()\n",
      "  File \"/home/mintadmin/Apps/anaconda/envs/bluesky_2021_2/lib/python3.8/site-packages/ophyd/areadetector/base.py\", line 289, in stage\n",
      "    ret = super().stage(*args, **kwargs)\n",
      "  File \"/home/mintadmin/Apps/anaconda/envs/bluesky_2021_2/lib/python3.8/site-packages/ophyd/device.py\", line 559, in stage\n",
      "    device.stage()\n",
      "  File \"/home/mintadmin/Apps/anaconda/envs/bluesky_2021_2/lib/python3.8/site-packages/ophyd/areadetector/plugins.py\", line 928, in stage\n",
      "    return super().stage()\n",
      "  File \"/home/mintadmin/Apps/anaconda/envs/bluesky_2021_2/lib/python3.8/site-packages/ophyd/areadetector/plugins.py\", line 133, in stage\n",
      "    super().stage()\n",
      "  File \"/home/mintadmin/Apps/anaconda/envs/bluesky_2021_2/lib/python3.8/site-packages/ophyd/areadetector/base.py\", line 289, in stage\n",
      "    ret = super().stage(*args, **kwargs)\n",
      "  File \"/home/mintadmin/Apps/anaconda/envs/bluesky_2021_2/lib/python3.8/site-packages/ophyd/areadetector/filestore_mixins.py\", line 470, in stage\n",
      "    super().stage()\n",
      "  File \"/home/mintadmin/Apps/anaconda/envs/bluesky_2021_2/lib/python3.8/site-packages/ophyd/areadetector/filestore_mixins.py\", line 435, in stage\n",
      "    super().stage()\n",
      "  File \"/home/mintadmin/Apps/anaconda/envs/bluesky_2021_2/lib/python3.8/site-packages/ophyd/areadetector/filestore_mixins.py\", line 631, in stage\n",
      "    super().stage()\n",
      "  File \"/home/mintadmin/Apps/anaconda/envs/bluesky_2021_2/lib/python3.8/site-packages/ophyd/areadetector/filestore_mixins.py\", line 297, in stage\n",
      "    super().stage()\n",
      "  File \"/home/mintadmin/Apps/anaconda/envs/bluesky_2021_2/lib/python3.8/site-packages/ophyd/device.py\", line 550, in stage\n",
      "    set_and_wait(sig, val)\n",
      "  File \"/home/mintadmin/Apps/anaconda/envs/bluesky_2021_2/lib/python3.8/site-packages/ophyd/utils/epics_pvs.py\", line 265, in set_and_wait\n",
      "    raise TimeoutError(\"Attempted to set %r to value %r and timed \"\n",
      "TimeoutError: Attempted to set EpicsSignalWithRBV(read_pv='ad:HDF1:Capture_RBV', name='adsimdet_hdf1_capture', parent='adsimdet_hdf1', value=0, timestamp=1627093347.404, auto_monitor=False, string=False, write_pv='ad:HDF1:Capture', limits=False, put_complete=False) to value 1 and timed out after 10 seconds. Current value is 0.\n"
     ]
    },
    {
     "output_type": "error",
     "ename": "TimeoutError",
     "evalue": "Attempted to set EpicsSignalWithRBV(read_pv='ad:HDF1:Capture_RBV', name='adsimdet_hdf1_capture', parent='adsimdet_hdf1', value=0, timestamp=1627093347.404, auto_monitor=False, string=False, write_pv='ad:HDF1:Capture', limits=False, put_complete=False) to value 1 and timed out after 10 seconds. Current value is 0.",
     "traceback": [
      "\u001b[0;31m---------------------------------------------------------------------------\u001b[0m",
      "\u001b[0;31mTimeoutError\u001b[0m                              Traceback (most recent call last)",
      "\u001b[0;32m<ipython-input-6-4b43a877345b>\u001b[0m in \u001b[0;36m<module>\u001b[0;34m\u001b[0m\n\u001b[0;32m----> 1\u001b[0;31m \u001b[0mRE\u001b[0m\u001b[0;34m(\u001b[0m\u001b[0mbp\u001b[0m\u001b[0;34m.\u001b[0m\u001b[0mcount\u001b[0m\u001b[0;34m(\u001b[0m\u001b[0;34m[\u001b[0m\u001b[0madsimdet\u001b[0m\u001b[0;34m]\u001b[0m\u001b[0;34m)\u001b[0m\u001b[0;34m)\u001b[0m\u001b[0;34m\u001b[0m\u001b[0;34m\u001b[0m\u001b[0m\n\u001b[0m",
      "\u001b[0;32m~/Apps/anaconda/envs/bluesky_2021_2/lib/python3.8/site-packages/bluesky/run_engine.py\u001b[0m in \u001b[0;36m__call__\u001b[0;34m(self, *args, **metadata_kw)\u001b[0m\n\u001b[1;32m    805\u001b[0m             \u001b[0mself\u001b[0m\u001b[0;34m.\u001b[0m\u001b[0m_task_fut\u001b[0m\u001b[0;34m.\u001b[0m\u001b[0madd_done_callback\u001b[0m\u001b[0;34m(\u001b[0m\u001b[0mset_blocking_event\u001b[0m\u001b[0;34m)\u001b[0m\u001b[0;34m\u001b[0m\u001b[0;34m\u001b[0m\u001b[0m\n\u001b[1;32m    806\u001b[0m \u001b[0;34m\u001b[0m\u001b[0m\n\u001b[0;32m--> 807\u001b[0;31m         \u001b[0mself\u001b[0m\u001b[0;34m.\u001b[0m\u001b[0m_resume_task\u001b[0m\u001b[0;34m(\u001b[0m\u001b[0minit_func\u001b[0m\u001b[0;34m=\u001b[0m\u001b[0m_build_task\u001b[0m\u001b[0;34m)\u001b[0m\u001b[0;34m\u001b[0m\u001b[0;34m\u001b[0m\u001b[0m\n\u001b[0m\u001b[1;32m    808\u001b[0m \u001b[0;34m\u001b[0m\u001b[0m\n\u001b[1;32m    809\u001b[0m         \u001b[0;32mif\u001b[0m \u001b[0mself\u001b[0m\u001b[0;34m.\u001b[0m\u001b[0m_interrupted\u001b[0m\u001b[0;34m:\u001b[0m\u001b[0;34m\u001b[0m\u001b[0;34m\u001b[0m\u001b[0m\n",
      "\u001b[0;32m~/Apps/anaconda/envs/bluesky_2021_2/lib/python3.8/site-packages/bluesky/run_engine.py\u001b[0m in \u001b[0;36m_resume_task\u001b[0;34m(self, init_func)\u001b[0m\n\u001b[1;32m    929\u001b[0m                     if (exc is not None\n\u001b[1;32m    930\u001b[0m                             and not isinstance(exc, _RunEnginePanic)):\n\u001b[0;32m--> 931\u001b[0;31m                         \u001b[0;32mraise\u001b[0m \u001b[0mexc\u001b[0m\u001b[0;34m\u001b[0m\u001b[0;34m\u001b[0m\u001b[0m\n\u001b[0m\u001b[1;32m    932\u001b[0m \u001b[0;34m\u001b[0m\u001b[0m\n\u001b[1;32m    933\u001b[0m     \u001b[0;32mdef\u001b[0m \u001b[0minstall_suspender\u001b[0m\u001b[0;34m(\u001b[0m\u001b[0mself\u001b[0m\u001b[0;34m,\u001b[0m \u001b[0msuspender\u001b[0m\u001b[0;34m)\u001b[0m\u001b[0;34m:\u001b[0m\u001b[0;34m\u001b[0m\u001b[0;34m\u001b[0m\u001b[0m\n",
      "\u001b[0;32m~/Apps/anaconda/envs/bluesky_2021_2/lib/python3.8/site-packages/bluesky/run_engine.py\u001b[0m in \u001b[0;36m_run\u001b[0;34m(self)\u001b[0m\n\u001b[1;32m   1498\u001b[0m             \u001b[0mexit_reason\u001b[0m \u001b[0;34m=\u001b[0m \u001b[0mstr\u001b[0m\u001b[0;34m(\u001b[0m\u001b[0merr\u001b[0m\u001b[0;34m)\u001b[0m\u001b[0;34m\u001b[0m\u001b[0;34m\u001b[0m\u001b[0m\n\u001b[1;32m   1499\u001b[0m             \u001b[0mself\u001b[0m\u001b[0;34m.\u001b[0m\u001b[0mlog\u001b[0m\u001b[0;34m.\u001b[0m\u001b[0mexception\u001b[0m\u001b[0;34m(\u001b[0m\u001b[0;34m\"Run aborted\"\u001b[0m\u001b[0;34m)\u001b[0m\u001b[0;34m\u001b[0m\u001b[0;34m\u001b[0m\u001b[0m\n\u001b[0;32m-> 1500\u001b[0;31m             \u001b[0;32mraise\u001b[0m \u001b[0merr\u001b[0m\u001b[0;34m\u001b[0m\u001b[0;34m\u001b[0m\u001b[0m\n\u001b[0m\u001b[1;32m   1501\u001b[0m         \u001b[0;32mfinally\u001b[0m\u001b[0;34m:\u001b[0m\u001b[0;34m\u001b[0m\u001b[0;34m\u001b[0m\u001b[0m\n\u001b[1;32m   1502\u001b[0m             \u001b[0;32mif\u001b[0m \u001b[0;32mnot\u001b[0m \u001b[0mexit_reason\u001b[0m\u001b[0;34m:\u001b[0m\u001b[0;34m\u001b[0m\u001b[0;34m\u001b[0m\u001b[0m\n",
      "\u001b[0;32m~/Apps/anaconda/envs/bluesky_2021_2/lib/python3.8/site-packages/bluesky/run_engine.py\u001b[0m in \u001b[0;36m_run\u001b[0;34m(self)\u001b[0m\n\u001b[1;32m   1363\u001b[0m                     \u001b[0;32melse\u001b[0m\u001b[0;34m:\u001b[0m\u001b[0;34m\u001b[0m\u001b[0;34m\u001b[0m\u001b[0m\n\u001b[1;32m   1364\u001b[0m                         \u001b[0;32mtry\u001b[0m\u001b[0;34m:\u001b[0m\u001b[0;34m\u001b[0m\u001b[0;34m\u001b[0m\u001b[0m\n\u001b[0;32m-> 1365\u001b[0;31m                             \u001b[0mmsg\u001b[0m \u001b[0;34m=\u001b[0m \u001b[0mself\u001b[0m\u001b[0;34m.\u001b[0m\u001b[0m_plan_stack\u001b[0m\u001b[0;34m[\u001b[0m\u001b[0;34m-\u001b[0m\u001b[0;36m1\u001b[0m\u001b[0;34m]\u001b[0m\u001b[0;34m.\u001b[0m\u001b[0msend\u001b[0m\u001b[0;34m(\u001b[0m\u001b[0mresp\u001b[0m\u001b[0;34m)\u001b[0m\u001b[0;34m\u001b[0m\u001b[0;34m\u001b[0m\u001b[0m\n\u001b[0m\u001b[1;32m   1366\u001b[0m                         \u001b[0;31m# We have exhausted the top generator\u001b[0m\u001b[0;34m\u001b[0m\u001b[0;34m\u001b[0m\u001b[0;34m\u001b[0m\u001b[0m\n\u001b[1;32m   1367\u001b[0m                         \u001b[0;32mexcept\u001b[0m \u001b[0mStopIteration\u001b[0m\u001b[0;34m:\u001b[0m\u001b[0;34m\u001b[0m\u001b[0;34m\u001b[0m\u001b[0m\n",
      "\u001b[0;32m~/Apps/anaconda/envs/bluesky_2021_2/lib/python3.8/site-packages/bluesky/plans.py\u001b[0m in \u001b[0;36mcount\u001b[0;34m(detectors, num, delay, per_shot, md)\u001b[0m\n\u001b[1;32m     75\u001b[0m                                       num=num, delay=delay))\n\u001b[1;32m     76\u001b[0m \u001b[0;34m\u001b[0m\u001b[0m\n\u001b[0;32m---> 77\u001b[0;31m     \u001b[0;32mreturn\u001b[0m \u001b[0;34m(\u001b[0m\u001b[0;32myield\u001b[0m \u001b[0;32mfrom\u001b[0m \u001b[0minner_count\u001b[0m\u001b[0;34m(\u001b[0m\u001b[0;34m)\u001b[0m\u001b[0;34m)\u001b[0m\u001b[0;34m\u001b[0m\u001b[0;34m\u001b[0m\u001b[0m\n\u001b[0m\u001b[1;32m     78\u001b[0m \u001b[0;34m\u001b[0m\u001b[0m\n\u001b[1;32m     79\u001b[0m \u001b[0;34m\u001b[0m\u001b[0m\n",
      "\u001b[0;32m~/Apps/anaconda/envs/bluesky_2021_2/lib/python3.8/site-packages/bluesky/utils/__init__.py\u001b[0m in \u001b[0;36mdec_inner\u001b[0;34m(*inner_args, **inner_kwargs)\u001b[0m\n\u001b[1;32m   1138\u001b[0m                 \u001b[0mplan\u001b[0m \u001b[0;34m=\u001b[0m \u001b[0mgen_func\u001b[0m\u001b[0;34m(\u001b[0m\u001b[0;34m*\u001b[0m\u001b[0minner_args\u001b[0m\u001b[0;34m,\u001b[0m \u001b[0;34m**\u001b[0m\u001b[0minner_kwargs\u001b[0m\u001b[0;34m)\u001b[0m\u001b[0;34m\u001b[0m\u001b[0;34m\u001b[0m\u001b[0m\n\u001b[1;32m   1139\u001b[0m                 \u001b[0mplan\u001b[0m \u001b[0;34m=\u001b[0m \u001b[0mwrapper\u001b[0m\u001b[0;34m(\u001b[0m\u001b[0mplan\u001b[0m\u001b[0;34m,\u001b[0m \u001b[0;34m*\u001b[0m\u001b[0margs\u001b[0m\u001b[0;34m,\u001b[0m \u001b[0;34m**\u001b[0m\u001b[0mkwargs\u001b[0m\u001b[0;34m)\u001b[0m\u001b[0;34m\u001b[0m\u001b[0;34m\u001b[0m\u001b[0m\n\u001b[0;32m-> 1140\u001b[0;31m                 \u001b[0;32mreturn\u001b[0m \u001b[0;34m(\u001b[0m\u001b[0;32myield\u001b[0m \u001b[0;32mfrom\u001b[0m \u001b[0mplan\u001b[0m\u001b[0;34m)\u001b[0m\u001b[0;34m\u001b[0m\u001b[0;34m\u001b[0m\u001b[0m\n\u001b[0m\u001b[1;32m   1141\u001b[0m             \u001b[0;32mreturn\u001b[0m \u001b[0mdec_inner\u001b[0m\u001b[0;34m\u001b[0m\u001b[0;34m\u001b[0m\u001b[0m\n\u001b[1;32m   1142\u001b[0m         \u001b[0;32mreturn\u001b[0m \u001b[0mdec\u001b[0m\u001b[0;34m\u001b[0m\u001b[0;34m\u001b[0m\u001b[0m\n",
      "\u001b[0;32m~/Apps/anaconda/envs/bluesky_2021_2/lib/python3.8/site-packages/bluesky/preprocessors.py\u001b[0m in \u001b[0;36mstage_wrapper\u001b[0;34m(plan, devices)\u001b[0m\n\u001b[1;32m    950\u001b[0m         \u001b[0;32mreturn\u001b[0m \u001b[0;34m(\u001b[0m\u001b[0;32myield\u001b[0m \u001b[0;32mfrom\u001b[0m \u001b[0mplan\u001b[0m\u001b[0;34m)\u001b[0m\u001b[0;34m\u001b[0m\u001b[0;34m\u001b[0m\u001b[0m\n\u001b[1;32m    951\u001b[0m \u001b[0;34m\u001b[0m\u001b[0m\n\u001b[0;32m--> 952\u001b[0;31m     \u001b[0;32mreturn\u001b[0m \u001b[0;34m(\u001b[0m\u001b[0;32myield\u001b[0m \u001b[0;32mfrom\u001b[0m \u001b[0mfinalize_wrapper\u001b[0m\u001b[0;34m(\u001b[0m\u001b[0minner\u001b[0m\u001b[0;34m(\u001b[0m\u001b[0;34m)\u001b[0m\u001b[0;34m,\u001b[0m \u001b[0munstage_devices\u001b[0m\u001b[0;34m(\u001b[0m\u001b[0;34m)\u001b[0m\u001b[0;34m)\u001b[0m\u001b[0;34m)\u001b[0m\u001b[0;34m\u001b[0m\u001b[0;34m\u001b[0m\u001b[0m\n\u001b[0m\u001b[1;32m    953\u001b[0m \u001b[0;34m\u001b[0m\u001b[0m\n\u001b[1;32m    954\u001b[0m \u001b[0;34m\u001b[0m\u001b[0m\n",
      "\u001b[0;32m~/Apps/anaconda/envs/bluesky_2021_2/lib/python3.8/site-packages/bluesky/preprocessors.py\u001b[0m in \u001b[0;36mfinalize_wrapper\u001b[0;34m(plan, final_plan, pause_for_debug)\u001b[0m\n\u001b[1;32m    507\u001b[0m     \u001b[0mcleanup\u001b[0m \u001b[0;34m=\u001b[0m \u001b[0;32mTrue\u001b[0m\u001b[0;34m\u001b[0m\u001b[0;34m\u001b[0m\u001b[0m\n\u001b[1;32m    508\u001b[0m     \u001b[0;32mtry\u001b[0m\u001b[0;34m:\u001b[0m\u001b[0;34m\u001b[0m\u001b[0;34m\u001b[0m\u001b[0m\n\u001b[0;32m--> 509\u001b[0;31m         \u001b[0mret\u001b[0m \u001b[0;34m=\u001b[0m \u001b[0;32myield\u001b[0m \u001b[0;32mfrom\u001b[0m \u001b[0mplan\u001b[0m\u001b[0;34m\u001b[0m\u001b[0;34m\u001b[0m\u001b[0m\n\u001b[0m\u001b[1;32m    510\u001b[0m     \u001b[0;32mexcept\u001b[0m \u001b[0mGeneratorExit\u001b[0m\u001b[0;34m:\u001b[0m\u001b[0;34m\u001b[0m\u001b[0;34m\u001b[0m\u001b[0m\n\u001b[1;32m    511\u001b[0m         \u001b[0mcleanup\u001b[0m \u001b[0;34m=\u001b[0m \u001b[0;32mFalse\u001b[0m\u001b[0;34m\u001b[0m\u001b[0;34m\u001b[0m\u001b[0m\n",
      "\u001b[0;32m~/Apps/anaconda/envs/bluesky_2021_2/lib/python3.8/site-packages/bluesky/preprocessors.py\u001b[0m in \u001b[0;36minner\u001b[0;34m()\u001b[0m\n\u001b[1;32m    947\u001b[0m \u001b[0;34m\u001b[0m\u001b[0m\n\u001b[1;32m    948\u001b[0m     \u001b[0;32mdef\u001b[0m \u001b[0minner\u001b[0m\u001b[0;34m(\u001b[0m\u001b[0;34m)\u001b[0m\u001b[0;34m:\u001b[0m\u001b[0;34m\u001b[0m\u001b[0;34m\u001b[0m\u001b[0m\n\u001b[0;32m--> 949\u001b[0;31m         \u001b[0;32myield\u001b[0m \u001b[0;32mfrom\u001b[0m \u001b[0mstage_devices\u001b[0m\u001b[0;34m(\u001b[0m\u001b[0;34m)\u001b[0m\u001b[0;34m\u001b[0m\u001b[0;34m\u001b[0m\u001b[0m\n\u001b[0m\u001b[1;32m    950\u001b[0m         \u001b[0;32mreturn\u001b[0m \u001b[0;34m(\u001b[0m\u001b[0;32myield\u001b[0m \u001b[0;32mfrom\u001b[0m \u001b[0mplan\u001b[0m\u001b[0;34m)\u001b[0m\u001b[0;34m\u001b[0m\u001b[0;34m\u001b[0m\u001b[0m\n\u001b[1;32m    951\u001b[0m \u001b[0;34m\u001b[0m\u001b[0m\n",
      "\u001b[0;32m~/Apps/anaconda/envs/bluesky_2021_2/lib/python3.8/site-packages/bluesky/preprocessors.py\u001b[0m in \u001b[0;36mstage_devices\u001b[0;34m()\u001b[0m\n\u001b[1;32m    940\u001b[0m     \u001b[0;32mdef\u001b[0m \u001b[0mstage_devices\u001b[0m\u001b[0;34m(\u001b[0m\u001b[0;34m)\u001b[0m\u001b[0;34m:\u001b[0m\u001b[0;34m\u001b[0m\u001b[0;34m\u001b[0m\u001b[0m\n\u001b[1;32m    941\u001b[0m         \u001b[0;32mfor\u001b[0m \u001b[0md\u001b[0m \u001b[0;32min\u001b[0m \u001b[0mdevices\u001b[0m\u001b[0;34m:\u001b[0m\u001b[0;34m\u001b[0m\u001b[0;34m\u001b[0m\u001b[0m\n\u001b[0;32m--> 942\u001b[0;31m             \u001b[0;32myield\u001b[0m \u001b[0mMsg\u001b[0m\u001b[0;34m(\u001b[0m\u001b[0;34m'stage'\u001b[0m\u001b[0;34m,\u001b[0m \u001b[0md\u001b[0m\u001b[0;34m)\u001b[0m\u001b[0;34m\u001b[0m\u001b[0;34m\u001b[0m\u001b[0m\n\u001b[0m\u001b[1;32m    943\u001b[0m \u001b[0;34m\u001b[0m\u001b[0m\n\u001b[1;32m    944\u001b[0m     \u001b[0;32mdef\u001b[0m \u001b[0munstage_devices\u001b[0m\u001b[0;34m(\u001b[0m\u001b[0;34m)\u001b[0m\u001b[0;34m:\u001b[0m\u001b[0;34m\u001b[0m\u001b[0;34m\u001b[0m\u001b[0m\n",
      "\u001b[0;32m~/Apps/anaconda/envs/bluesky_2021_2/lib/python3.8/site-packages/bluesky/run_engine.py\u001b[0m in \u001b[0;36m_run\u001b[0;34m(self)\u001b[0m\n\u001b[1;32m   1423\u001b[0m                         \u001b[0;31m# exceptions (coming in via throw) can be\u001b[0m\u001b[0;34m\u001b[0m\u001b[0;34m\u001b[0m\u001b[0;34m\u001b[0m\u001b[0m\n\u001b[1;32m   1424\u001b[0m                         \u001b[0;31m# raised\u001b[0m\u001b[0;34m\u001b[0m\u001b[0;34m\u001b[0m\u001b[0;34m\u001b[0m\u001b[0m\n\u001b[0;32m-> 1425\u001b[0;31m                         \u001b[0mnew_response\u001b[0m \u001b[0;34m=\u001b[0m \u001b[0;32mawait\u001b[0m \u001b[0mcoro\u001b[0m\u001b[0;34m(\u001b[0m\u001b[0mmsg\u001b[0m\u001b[0;34m)\u001b[0m\u001b[0;34m\u001b[0m\u001b[0;34m\u001b[0m\u001b[0m\n\u001b[0m\u001b[1;32m   1426\u001b[0m \u001b[0;34m\u001b[0m\u001b[0m\n\u001b[1;32m   1427\u001b[0m                     \u001b[0;31m# special case `CancelledError` and let the outer\u001b[0m\u001b[0;34m\u001b[0m\u001b[0;34m\u001b[0m\u001b[0;34m\u001b[0m\u001b[0m\n",
      "\u001b[0;32m~/Apps/anaconda/envs/bluesky_2021_2/lib/python3.8/site-packages/bluesky/run_engine.py\u001b[0m in \u001b[0;36m_stage\u001b[0;34m(self, msg)\u001b[0m\n\u001b[1;32m   2166\u001b[0m         \u001b[0;32mif\u001b[0m \u001b[0;32mnot\u001b[0m \u001b[0mhasattr\u001b[0m\u001b[0;34m(\u001b[0m\u001b[0mobj\u001b[0m\u001b[0;34m,\u001b[0m \u001b[0;34m'stage'\u001b[0m\u001b[0;34m)\u001b[0m\u001b[0;34m:\u001b[0m\u001b[0;34m\u001b[0m\u001b[0;34m\u001b[0m\u001b[0m\n\u001b[1;32m   2167\u001b[0m             \u001b[0;32mreturn\u001b[0m \u001b[0;34m[\u001b[0m\u001b[0;34m]\u001b[0m\u001b[0;34m\u001b[0m\u001b[0;34m\u001b[0m\u001b[0m\n\u001b[0;32m-> 2168\u001b[0;31m         \u001b[0mresult\u001b[0m \u001b[0;34m=\u001b[0m \u001b[0mobj\u001b[0m\u001b[0;34m.\u001b[0m\u001b[0mstage\u001b[0m\u001b[0;34m(\u001b[0m\u001b[0;34m)\u001b[0m\u001b[0;34m\u001b[0m\u001b[0;34m\u001b[0m\u001b[0m\n\u001b[0m\u001b[1;32m   2169\u001b[0m         \u001b[0mself\u001b[0m\u001b[0;34m.\u001b[0m\u001b[0m_staged\u001b[0m\u001b[0;34m.\u001b[0m\u001b[0madd\u001b[0m\u001b[0;34m(\u001b[0m\u001b[0mobj\u001b[0m\u001b[0;34m)\u001b[0m  \u001b[0;31m# add first in case of failure below\u001b[0m\u001b[0;34m\u001b[0m\u001b[0;34m\u001b[0m\u001b[0m\n\u001b[1;32m   2170\u001b[0m         \u001b[0;32mawait\u001b[0m \u001b[0mself\u001b[0m\u001b[0;34m.\u001b[0m\u001b[0m_reset_checkpoint_state_coro\u001b[0m\u001b[0;34m(\u001b[0m\u001b[0;34m)\u001b[0m\u001b[0;34m\u001b[0m\u001b[0;34m\u001b[0m\u001b[0m\n",
      "\u001b[0;32m~/Apps/anaconda/envs/bluesky_2021_2/lib/python3.8/site-packages/ophyd/areadetector/trigger_mixins.py\u001b[0m in \u001b[0;36mstage\u001b[0;34m(self)\u001b[0m\n\u001b[1;32m    121\u001b[0m     \u001b[0;32mdef\u001b[0m \u001b[0mstage\u001b[0m\u001b[0;34m(\u001b[0m\u001b[0mself\u001b[0m\u001b[0;34m)\u001b[0m\u001b[0;34m:\u001b[0m\u001b[0;34m\u001b[0m\u001b[0;34m\u001b[0m\u001b[0m\n\u001b[1;32m    122\u001b[0m         \u001b[0mself\u001b[0m\u001b[0;34m.\u001b[0m\u001b[0m_acquisition_signal\u001b[0m\u001b[0;34m.\u001b[0m\u001b[0msubscribe\u001b[0m\u001b[0;34m(\u001b[0m\u001b[0mself\u001b[0m\u001b[0;34m.\u001b[0m\u001b[0m_acquire_changed\u001b[0m\u001b[0;34m)\u001b[0m\u001b[0;34m\u001b[0m\u001b[0;34m\u001b[0m\u001b[0m\n\u001b[0;32m--> 123\u001b[0;31m         \u001b[0msuper\u001b[0m\u001b[0;34m(\u001b[0m\u001b[0;34m)\u001b[0m\u001b[0;34m.\u001b[0m\u001b[0mstage\u001b[0m\u001b[0;34m(\u001b[0m\u001b[0;34m)\u001b[0m\u001b[0;34m\u001b[0m\u001b[0;34m\u001b[0m\u001b[0m\n\u001b[0m\u001b[1;32m    124\u001b[0m \u001b[0;34m\u001b[0m\u001b[0m\n\u001b[1;32m    125\u001b[0m     \u001b[0;32mdef\u001b[0m \u001b[0munstage\u001b[0m\u001b[0;34m(\u001b[0m\u001b[0mself\u001b[0m\u001b[0;34m)\u001b[0m\u001b[0;34m:\u001b[0m\u001b[0;34m\u001b[0m\u001b[0;34m\u001b[0m\u001b[0m\n",
      "\u001b[0;32m~/Apps/anaconda/envs/bluesky_2021_2/lib/python3.8/site-packages/ophyd/areadetector/base.py\u001b[0m in \u001b[0;36mstage\u001b[0;34m(self, *args, **kwargs)\u001b[0m\n\u001b[1;32m    287\u001b[0m \u001b[0;34m\u001b[0m\u001b[0m\n\u001b[1;32m    288\u001b[0m     \u001b[0;32mdef\u001b[0m \u001b[0mstage\u001b[0m\u001b[0;34m(\u001b[0m\u001b[0mself\u001b[0m\u001b[0;34m,\u001b[0m \u001b[0;34m*\u001b[0m\u001b[0margs\u001b[0m\u001b[0;34m,\u001b[0m \u001b[0;34m**\u001b[0m\u001b[0mkwargs\u001b[0m\u001b[0;34m)\u001b[0m\u001b[0;34m:\u001b[0m\u001b[0;34m\u001b[0m\u001b[0;34m\u001b[0m\u001b[0m\n\u001b[0;32m--> 289\u001b[0;31m         \u001b[0mret\u001b[0m \u001b[0;34m=\u001b[0m \u001b[0msuper\u001b[0m\u001b[0;34m(\u001b[0m\u001b[0;34m)\u001b[0m\u001b[0;34m.\u001b[0m\u001b[0mstage\u001b[0m\u001b[0;34m(\u001b[0m\u001b[0;34m*\u001b[0m\u001b[0margs\u001b[0m\u001b[0;34m,\u001b[0m \u001b[0;34m**\u001b[0m\u001b[0mkwargs\u001b[0m\u001b[0;34m)\u001b[0m\u001b[0;34m\u001b[0m\u001b[0;34m\u001b[0m\u001b[0m\n\u001b[0m\u001b[1;32m    290\u001b[0m         \u001b[0;32mtry\u001b[0m\u001b[0;34m:\u001b[0m\u001b[0;34m\u001b[0m\u001b[0;34m\u001b[0m\u001b[0m\n\u001b[1;32m    291\u001b[0m             \u001b[0mself\u001b[0m\u001b[0;34m.\u001b[0m\u001b[0mvalidate_asyn_ports\u001b[0m\u001b[0;34m(\u001b[0m\u001b[0;34m)\u001b[0m\u001b[0;34m\u001b[0m\u001b[0;34m\u001b[0m\u001b[0m\n",
      "\u001b[0;32m~/Apps/anaconda/envs/bluesky_2021_2/lib/python3.8/site-packages/ophyd/device.py\u001b[0m in \u001b[0;36mstage\u001b[0;34m(self)\u001b[0m\n\u001b[1;32m    557\u001b[0m                 \u001b[0mdevice\u001b[0m \u001b[0;34m=\u001b[0m \u001b[0mgetattr\u001b[0m\u001b[0;34m(\u001b[0m\u001b[0mself\u001b[0m\u001b[0;34m,\u001b[0m \u001b[0mattr\u001b[0m\u001b[0;34m)\u001b[0m\u001b[0;34m\u001b[0m\u001b[0;34m\u001b[0m\u001b[0m\n\u001b[1;32m    558\u001b[0m                 \u001b[0;32mif\u001b[0m \u001b[0mhasattr\u001b[0m\u001b[0;34m(\u001b[0m\u001b[0mdevice\u001b[0m\u001b[0;34m,\u001b[0m \u001b[0;34m'stage'\u001b[0m\u001b[0;34m)\u001b[0m\u001b[0;34m:\u001b[0m\u001b[0;34m\u001b[0m\u001b[0;34m\u001b[0m\u001b[0m\n\u001b[0;32m--> 559\u001b[0;31m                     \u001b[0mdevice\u001b[0m\u001b[0;34m.\u001b[0m\u001b[0mstage\u001b[0m\u001b[0;34m(\u001b[0m\u001b[0;34m)\u001b[0m\u001b[0;34m\u001b[0m\u001b[0;34m\u001b[0m\u001b[0m\n\u001b[0m\u001b[1;32m    560\u001b[0m                     \u001b[0mdevices_staged\u001b[0m\u001b[0;34m.\u001b[0m\u001b[0mappend\u001b[0m\u001b[0;34m(\u001b[0m\u001b[0mdevice\u001b[0m\u001b[0;34m)\u001b[0m\u001b[0;34m\u001b[0m\u001b[0;34m\u001b[0m\u001b[0m\n\u001b[1;32m    561\u001b[0m         \u001b[0;32mexcept\u001b[0m \u001b[0mException\u001b[0m\u001b[0;34m:\u001b[0m\u001b[0;34m\u001b[0m\u001b[0;34m\u001b[0m\u001b[0m\n",
      "\u001b[0;32m~/Apps/anaconda/envs/bluesky_2021_2/lib/python3.8/site-packages/ophyd/areadetector/plugins.py\u001b[0m in \u001b[0;36mstage\u001b[0;34m(self)\u001b[0m\n\u001b[1;32m    926\u001b[0m                                  \u001b[0;34mf\"area detector with name {self.root.name} \"\u001b[0m\u001b[0;34m\u001b[0m\u001b[0;34m\u001b[0m\u001b[0m\n\u001b[1;32m    927\u001b[0m                                  f\"has not been primed.\")\n\u001b[0;32m--> 928\u001b[0;31m         \u001b[0;32mreturn\u001b[0m \u001b[0msuper\u001b[0m\u001b[0;34m(\u001b[0m\u001b[0;34m)\u001b[0m\u001b[0;34m.\u001b[0m\u001b[0mstage\u001b[0m\u001b[0;34m(\u001b[0m\u001b[0;34m)\u001b[0m\u001b[0;34m\u001b[0m\u001b[0;34m\u001b[0m\u001b[0m\n\u001b[0m\u001b[1;32m    929\u001b[0m \u001b[0;34m\u001b[0m\u001b[0m\n\u001b[1;32m    930\u001b[0m \u001b[0;34m\u001b[0m\u001b[0m\n",
      "\u001b[0;32m~/Apps/anaconda/envs/bluesky_2021_2/lib/python3.8/site-packages/ophyd/areadetector/plugins.py\u001b[0m in \u001b[0;36mstage\u001b[0;34m(self)\u001b[0m\n\u001b[1;32m    131\u001b[0m \u001b[0;34m\u001b[0m\u001b[0m\n\u001b[1;32m    132\u001b[0m     \u001b[0;32mdef\u001b[0m \u001b[0mstage\u001b[0m\u001b[0;34m(\u001b[0m\u001b[0mself\u001b[0m\u001b[0;34m)\u001b[0m\u001b[0;34m:\u001b[0m\u001b[0;34m\u001b[0m\u001b[0;34m\u001b[0m\u001b[0m\n\u001b[0;32m--> 133\u001b[0;31m         \u001b[0msuper\u001b[0m\u001b[0;34m(\u001b[0m\u001b[0;34m)\u001b[0m\u001b[0;34m.\u001b[0m\u001b[0mstage\u001b[0m\u001b[0;34m(\u001b[0m\u001b[0;34m)\u001b[0m\u001b[0;34m\u001b[0m\u001b[0;34m\u001b[0m\u001b[0m\n\u001b[0m\u001b[1;32m    134\u001b[0m \u001b[0;34m\u001b[0m\u001b[0m\n\u001b[1;32m    135\u001b[0m         \u001b[0;32mif\u001b[0m \u001b[0mself\u001b[0m\u001b[0;34m.\u001b[0m\u001b[0m_misconfigured\u001b[0m \u001b[0;32mis\u001b[0m \u001b[0;32mNone\u001b[0m\u001b[0;34m:\u001b[0m\u001b[0;34m\u001b[0m\u001b[0;34m\u001b[0m\u001b[0m\n",
      "\u001b[0;32m~/Apps/anaconda/envs/bluesky_2021_2/lib/python3.8/site-packages/ophyd/areadetector/base.py\u001b[0m in \u001b[0;36mstage\u001b[0;34m(self, *args, **kwargs)\u001b[0m\n\u001b[1;32m    287\u001b[0m \u001b[0;34m\u001b[0m\u001b[0m\n\u001b[1;32m    288\u001b[0m     \u001b[0;32mdef\u001b[0m \u001b[0mstage\u001b[0m\u001b[0;34m(\u001b[0m\u001b[0mself\u001b[0m\u001b[0;34m,\u001b[0m \u001b[0;34m*\u001b[0m\u001b[0margs\u001b[0m\u001b[0;34m,\u001b[0m \u001b[0;34m**\u001b[0m\u001b[0mkwargs\u001b[0m\u001b[0;34m)\u001b[0m\u001b[0;34m:\u001b[0m\u001b[0;34m\u001b[0m\u001b[0;34m\u001b[0m\u001b[0m\n\u001b[0;32m--> 289\u001b[0;31m         \u001b[0mret\u001b[0m \u001b[0;34m=\u001b[0m \u001b[0msuper\u001b[0m\u001b[0;34m(\u001b[0m\u001b[0;34m)\u001b[0m\u001b[0;34m.\u001b[0m\u001b[0mstage\u001b[0m\u001b[0;34m(\u001b[0m\u001b[0;34m*\u001b[0m\u001b[0margs\u001b[0m\u001b[0;34m,\u001b[0m \u001b[0;34m**\u001b[0m\u001b[0mkwargs\u001b[0m\u001b[0;34m)\u001b[0m\u001b[0;34m\u001b[0m\u001b[0;34m\u001b[0m\u001b[0m\n\u001b[0m\u001b[1;32m    290\u001b[0m         \u001b[0;32mtry\u001b[0m\u001b[0;34m:\u001b[0m\u001b[0;34m\u001b[0m\u001b[0;34m\u001b[0m\u001b[0m\n\u001b[1;32m    291\u001b[0m             \u001b[0mself\u001b[0m\u001b[0;34m.\u001b[0m\u001b[0mvalidate_asyn_ports\u001b[0m\u001b[0;34m(\u001b[0m\u001b[0;34m)\u001b[0m\u001b[0;34m\u001b[0m\u001b[0;34m\u001b[0m\u001b[0m\n",
      "\u001b[0;32m~/Apps/anaconda/envs/bluesky_2021_2/lib/python3.8/site-packages/ophyd/areadetector/filestore_mixins.py\u001b[0m in \u001b[0;36mstage\u001b[0;34m(self)\u001b[0m\n\u001b[1;32m    468\u001b[0m \u001b[0;34m\u001b[0m\u001b[0m\n\u001b[1;32m    469\u001b[0m     \u001b[0;32mdef\u001b[0m \u001b[0mstage\u001b[0m\u001b[0;34m(\u001b[0m\u001b[0mself\u001b[0m\u001b[0;34m)\u001b[0m\u001b[0;34m:\u001b[0m\u001b[0;34m\u001b[0m\u001b[0;34m\u001b[0m\u001b[0m\n\u001b[0;32m--> 470\u001b[0;31m         \u001b[0msuper\u001b[0m\u001b[0;34m(\u001b[0m\u001b[0;34m)\u001b[0m\u001b[0;34m.\u001b[0m\u001b[0mstage\u001b[0m\u001b[0;34m(\u001b[0m\u001b[0;34m)\u001b[0m\u001b[0;34m\u001b[0m\u001b[0;34m\u001b[0m\u001b[0m\n\u001b[0m\u001b[1;32m    471\u001b[0m         \u001b[0mres_kwargs\u001b[0m \u001b[0;34m=\u001b[0m \u001b[0;34m{\u001b[0m\u001b[0;34m'frame_per_point'\u001b[0m\u001b[0;34m:\u001b[0m \u001b[0mself\u001b[0m\u001b[0;34m.\u001b[0m\u001b[0mget_frames_per_point\u001b[0m\u001b[0;34m(\u001b[0m\u001b[0;34m)\u001b[0m\u001b[0;34m}\u001b[0m\u001b[0;34m\u001b[0m\u001b[0;34m\u001b[0m\u001b[0m\n\u001b[1;32m    472\u001b[0m         \u001b[0mself\u001b[0m\u001b[0;34m.\u001b[0m\u001b[0m_generate_resource\u001b[0m\u001b[0;34m(\u001b[0m\u001b[0mres_kwargs\u001b[0m\u001b[0;34m)\u001b[0m\u001b[0;34m\u001b[0m\u001b[0;34m\u001b[0m\u001b[0m\n",
      "\u001b[0;32m~/Apps/anaconda/envs/bluesky_2021_2/lib/python3.8/site-packages/ophyd/areadetector/filestore_mixins.py\u001b[0m in \u001b[0;36mstage\u001b[0;34m(self)\u001b[0m\n\u001b[1;32m    433\u001b[0m         \u001b[0mset_and_wait\u001b[0m\u001b[0;34m(\u001b[0m\u001b[0mself\u001b[0m\u001b[0;34m.\u001b[0m\u001b[0mfile_name\u001b[0m\u001b[0;34m,\u001b[0m \u001b[0mfilename\u001b[0m\u001b[0;34m)\u001b[0m\u001b[0;34m\u001b[0m\u001b[0;34m\u001b[0m\u001b[0m\n\u001b[1;32m    434\u001b[0m         \u001b[0mset_and_wait\u001b[0m\u001b[0;34m(\u001b[0m\u001b[0mself\u001b[0m\u001b[0;34m.\u001b[0m\u001b[0mfile_number\u001b[0m\u001b[0;34m,\u001b[0m \u001b[0;36m0\u001b[0m\u001b[0;34m)\u001b[0m\u001b[0;34m\u001b[0m\u001b[0;34m\u001b[0m\u001b[0m\n\u001b[0;32m--> 435\u001b[0;31m         \u001b[0msuper\u001b[0m\u001b[0;34m(\u001b[0m\u001b[0;34m)\u001b[0m\u001b[0;34m.\u001b[0m\u001b[0mstage\u001b[0m\u001b[0;34m(\u001b[0m\u001b[0;34m)\u001b[0m\u001b[0;34m\u001b[0m\u001b[0;34m\u001b[0m\u001b[0m\n\u001b[0m\u001b[1;32m    436\u001b[0m \u001b[0;34m\u001b[0m\u001b[0m\n\u001b[1;32m    437\u001b[0m         \u001b[0;31m# AD does this same templating in C, but we can't access it\u001b[0m\u001b[0;34m\u001b[0m\u001b[0;34m\u001b[0m\u001b[0;34m\u001b[0m\u001b[0m\n",
      "\u001b[0;32m~/Apps/anaconda/envs/bluesky_2021_2/lib/python3.8/site-packages/ophyd/areadetector/filestore_mixins.py\u001b[0m in \u001b[0;36mstage\u001b[0;34m(self)\u001b[0m\n\u001b[1;32m    629\u001b[0m \u001b[0;34m\u001b[0m\u001b[0m\n\u001b[1;32m    630\u001b[0m     \u001b[0;32mdef\u001b[0m \u001b[0mstage\u001b[0m\u001b[0;34m(\u001b[0m\u001b[0mself\u001b[0m\u001b[0;34m)\u001b[0m\u001b[0;34m:\u001b[0m\u001b[0;34m\u001b[0m\u001b[0;34m\u001b[0m\u001b[0m\n\u001b[0;32m--> 631\u001b[0;31m         \u001b[0msuper\u001b[0m\u001b[0;34m(\u001b[0m\u001b[0;34m)\u001b[0m\u001b[0;34m.\u001b[0m\u001b[0mstage\u001b[0m\u001b[0;34m(\u001b[0m\u001b[0;34m)\u001b[0m\u001b[0;34m\u001b[0m\u001b[0;34m\u001b[0m\u001b[0m\n\u001b[0m\u001b[1;32m    632\u001b[0m         \u001b[0mself\u001b[0m\u001b[0;34m.\u001b[0m\u001b[0m_point_counter\u001b[0m \u001b[0;34m=\u001b[0m \u001b[0mcount\u001b[0m\u001b[0;34m(\u001b[0m\u001b[0;34m)\u001b[0m\u001b[0;34m\u001b[0m\u001b[0;34m\u001b[0m\u001b[0m\n\u001b[1;32m    633\u001b[0m \u001b[0;34m\u001b[0m\u001b[0m\n",
      "\u001b[0;32m~/Apps/anaconda/envs/bluesky_2021_2/lib/python3.8/site-packages/ophyd/areadetector/filestore_mixins.py\u001b[0m in \u001b[0;36mstage\u001b[0;34m(self)\u001b[0m\n\u001b[1;32m    295\u001b[0m         \u001b[0mself\u001b[0m\u001b[0;34m.\u001b[0m\u001b[0m_locked_key_list\u001b[0m \u001b[0;34m=\u001b[0m \u001b[0;32mFalse\u001b[0m\u001b[0;34m\u001b[0m\u001b[0;34m\u001b[0m\u001b[0m\n\u001b[1;32m    296\u001b[0m         \u001b[0mself\u001b[0m\u001b[0;34m.\u001b[0m\u001b[0m_datum_uids\u001b[0m\u001b[0;34m.\u001b[0m\u001b[0mclear\u001b[0m\u001b[0;34m(\u001b[0m\u001b[0;34m)\u001b[0m\u001b[0;34m\u001b[0m\u001b[0;34m\u001b[0m\u001b[0m\n\u001b[0;32m--> 297\u001b[0;31m         \u001b[0msuper\u001b[0m\u001b[0;34m(\u001b[0m\u001b[0;34m)\u001b[0m\u001b[0;34m.\u001b[0m\u001b[0mstage\u001b[0m\u001b[0;34m(\u001b[0m\u001b[0;34m)\u001b[0m\u001b[0;34m\u001b[0m\u001b[0;34m\u001b[0m\u001b[0m\n\u001b[0m\u001b[1;32m    298\u001b[0m         \u001b[0;31m# Subclasses will assemble resource_kwargs and call\u001b[0m\u001b[0;34m\u001b[0m\u001b[0;34m\u001b[0m\u001b[0;34m\u001b[0m\u001b[0m\n\u001b[1;32m    299\u001b[0m         \u001b[0;31m# self._generate_resource(resource_kwrags)\u001b[0m\u001b[0;34m\u001b[0m\u001b[0;34m\u001b[0m\u001b[0;34m\u001b[0m\u001b[0m\n",
      "\u001b[0;32m~/Apps/anaconda/envs/bluesky_2021_2/lib/python3.8/site-packages/ophyd/device.py\u001b[0m in \u001b[0;36mstage\u001b[0;34m(self)\u001b[0m\n\u001b[1;32m    548\u001b[0m                                \u001b[0mself\u001b[0m\u001b[0;34m.\u001b[0m\u001b[0mname\u001b[0m\u001b[0;34m,\u001b[0m\u001b[0;34m\u001b[0m\u001b[0;34m\u001b[0m\u001b[0m\n\u001b[1;32m    549\u001b[0m                                val, original_vals[sig])\n\u001b[0;32m--> 550\u001b[0;31m                 \u001b[0mset_and_wait\u001b[0m\u001b[0;34m(\u001b[0m\u001b[0msig\u001b[0m\u001b[0;34m,\u001b[0m \u001b[0mval\u001b[0m\u001b[0;34m)\u001b[0m\u001b[0;34m\u001b[0m\u001b[0;34m\u001b[0m\u001b[0m\n\u001b[0m\u001b[1;32m    551\u001b[0m                 \u001b[0;31m# It worked -- now add it to this list of sigs to unstage.\u001b[0m\u001b[0;34m\u001b[0m\u001b[0;34m\u001b[0m\u001b[0;34m\u001b[0m\u001b[0m\n\u001b[1;32m    552\u001b[0m                 \u001b[0mself\u001b[0m\u001b[0;34m.\u001b[0m\u001b[0m_original_vals\u001b[0m\u001b[0;34m[\u001b[0m\u001b[0msig\u001b[0m\u001b[0;34m]\u001b[0m \u001b[0;34m=\u001b[0m \u001b[0moriginal_vals\u001b[0m\u001b[0;34m[\u001b[0m\u001b[0msig\u001b[0m\u001b[0;34m]\u001b[0m\u001b[0;34m\u001b[0m\u001b[0;34m\u001b[0m\u001b[0m\n",
      "\u001b[0;32m~/Apps/anaconda/envs/bluesky_2021_2/lib/python3.8/site-packages/ophyd/utils/epics_pvs.py\u001b[0m in \u001b[0;36mset_and_wait\u001b[0;34m(signal, val, poll_time, timeout, rtol, atol)\u001b[0m\n\u001b[1;32m    263\u001b[0m         \u001b[0mcurrent_value\u001b[0m \u001b[0;34m=\u001b[0m \u001b[0msignal\u001b[0m\u001b[0;34m.\u001b[0m\u001b[0mget\u001b[0m\u001b[0;34m(\u001b[0m\u001b[0;34m)\u001b[0m\u001b[0;34m\u001b[0m\u001b[0;34m\u001b[0m\u001b[0m\n\u001b[1;32m    264\u001b[0m         \u001b[0;32mif\u001b[0m \u001b[0mexpiration_time\u001b[0m \u001b[0;32mis\u001b[0m \u001b[0;32mnot\u001b[0m \u001b[0;32mNone\u001b[0m \u001b[0;32mand\u001b[0m \u001b[0mttime\u001b[0m\u001b[0;34m.\u001b[0m\u001b[0mtime\u001b[0m\u001b[0;34m(\u001b[0m\u001b[0;34m)\u001b[0m \u001b[0;34m>\u001b[0m \u001b[0mexpiration_time\u001b[0m\u001b[0;34m:\u001b[0m\u001b[0;34m\u001b[0m\u001b[0;34m\u001b[0m\u001b[0m\n\u001b[0;32m--> 265\u001b[0;31m             raise TimeoutError(\"Attempted to set %r to value %r and timed \"\n\u001b[0m\u001b[1;32m    266\u001b[0m                                \u001b[0;34m\"out after %r seconds. Current value is %r.\"\u001b[0m \u001b[0;34m%\u001b[0m\u001b[0;34m\u001b[0m\u001b[0;34m\u001b[0m\u001b[0m\n\u001b[1;32m    267\u001b[0m                                (signal, val, timeout, current_value))\n",
      "\u001b[0;31mTimeoutError\u001b[0m: Attempted to set EpicsSignalWithRBV(read_pv='ad:HDF1:Capture_RBV', name='adsimdet_hdf1_capture', parent='adsimdet_hdf1', value=0, timestamp=1627093347.404, auto_monitor=False, string=False, write_pv='ad:HDF1:Capture', limits=False, put_complete=False) to value 1 and timed out after 10 seconds. Current value is 0."
     ]
    }
   ],
   "metadata": {}
  },
  {
   "cell_type": "markdown",
   "source": [
    "Looking inside the HDF5 file, did not find the FrameType PV."
   ],
   "metadata": {}
  },
  {
   "cell_type": "markdown",
   "source": [
    "### Configure the attributes file (for the IOC)"
   ],
   "metadata": {}
  },
  {
   "cell_type": "code",
   "execution_count": null,
   "source": [
    "print(f\"{adsimdet.cam.nd_attributes_file.get() = }\")"
   ],
   "outputs": [],
   "metadata": {}
  },
  {
   "cell_type": "markdown",
   "source": [
    "We'll add the PV to this file (which is located in the IOC's startup directory) and then reload that file into the EPICS AD."
   ],
   "metadata": {}
  },
  {
   "cell_type": "code",
   "execution_count": null,
   "source": [
    "adsimdet.cam.nd_attributes_file.put(\"simDetectorAttributes.xml\")"
   ],
   "outputs": [],
   "metadata": {
    "collapsed": true
   }
  },
  {
   "cell_type": "markdown",
   "source": [
    "Count again and check if the PV is now in the HDF5 file."
   ],
   "metadata": {}
  },
  {
   "cell_type": "markdown",
   "source": [
    "Check that the attributes XML file was read and everything was OK with it.  This is not in the ophyd device so we'll make a local signal to check this.  Fix any errors before proceeding."
   ],
   "metadata": {}
  },
  {
   "cell_type": "code",
   "execution_count": null,
   "source": [
    "att_status = EpicsSignal(f\"{_ad_prefix}cam1:NDAttributesStatus\", name=\"att_status\", string=True)\n",
    "print(f\"{att_status.get() = }\")"
   ],
   "outputs": [],
   "metadata": {}
  },
  {
   "cell_type": "code",
   "execution_count": null,
   "source": [
    "RE(bp.count([adsimdet]))"
   ],
   "outputs": [],
   "metadata": {}
  },
  {
   "cell_type": "markdown",
   "source": [
    "note: took two image captures to see the attributes ... hmmm"
   ],
   "metadata": {}
  },
  {
   "cell_type": "markdown",
   "source": [
    "We've been using the default layout.  We'll need our own so that we can customize it.\n",
    "\n",
    "In the IOC directory, copy the `hdf5_layout_nexus.xml` file (this is the file we have been using as a default) to a new file called `layout.xml` and tell the HDF5 file write to use it.  Then, check that it was read and the file content was acceptable."
   ],
   "metadata": {}
  },
  {
   "cell_type": "code",
   "execution_count": null,
   "source": [
    "adsimdet.hdf1.layout_filename.put(\"layout.xml\")"
   ],
   "outputs": [],
   "metadata": {}
  },
  {
   "cell_type": "code",
   "execution_count": null,
   "source": [
    "print(f\"{adsimdet.hdf1.layout_filename_valid.get() = }\")"
   ],
   "outputs": [],
   "metadata": {}
  },
  {
   "cell_type": "markdown",
   "source": [
    "Try it and verify `SaveDest` is present in the output file."
   ],
   "metadata": {}
  },
  {
   "cell_type": "code",
   "execution_count": null,
   "source": [
    "RE(bp.count([adsimdet]))"
   ],
   "outputs": [],
   "metadata": {}
  },
  {
   "cell_type": "markdown",
   "source": [
    "Configure our PV(s) for the *NeXus* addresses we want to use.  We'll use PyEpics here since that will look more obvious.  Still, we must reconnect our ophyd object after our change to the EPICS PVs to pick up this change."
   ],
   "metadata": {}
  },
  {
   "cell_type": "code",
   "execution_count": null,
   "source": [
    "import epics\n",
    "\n",
    "# this is the PV we use as the `SaveDest` attribute\n",
    "epics.caput(f\"{_ad_prefix}cam1:FrameType.ZRST\", \"/entry/data/data\")\n",
    "epics.caput(f\"{_ad_prefix}cam1:FrameType.ONST\", \"/entry/data/dark\")\n",
    "epics.caput(f\"{_ad_prefix}cam1:FrameType.TWST\", \"/entry/data/flat\")\n",
    "\n",
    "# ophyd needs this configuration\n",
    "epics.caput(f\"{_ad_prefix}cam1:FrameType_RBV.ZRST\", \"/entry/data/data\")\n",
    "epics.caput(f\"{_ad_prefix}cam1:FrameType_RBV.ONST\", \"/entry/data/dark\")\n",
    "epics.caput(f\"{_ad_prefix}cam1:FrameType_RBV.TWST\", \"/entry/data/flat\")\n",
    "\n",
    "# re-connect the detector object to pick upthese changes\n",
    "adsimdet = MySingleTriggerHdf5SimDetector(_ad_prefix, name='adsimdet')\n",
    "adsimdet.read_attrs.append(\"hdf1\")"
   ],
   "outputs": [],
   "metadata": {
    "collapsed": true
   }
  },
  {
   "cell_type": "markdown",
   "source": [
    "We also need to modify our layout file, adding datasets in the right places for the additional image types.  Here's `layout.xml` after those edits are complete:\n",
    "\n",
    "```\n",
    "<?xml version=\"1.0\" standalone=\"no\" ?>\n",
    "<hdf5_layout\n",
    "    xmlns:xsi=\"http://www.w3.org/2001/XMLSchema-instance\"\n",
    "    xsi:noNamespaceSchemaLocation=\"../../../../../ADCore/XML_schema/hdf5_xml_layout_schema.xsd\"\n",
    "    >\n",
    "  <global name=\"detector_data_destination\" ndattribute=\"SaveDest\" />\n",
    "  <group name=\"entry\"> \n",
    "    <attribute name=\"NX_class\" source=\"constant\" value=\"NXentry\" type=\"string\" />\n",
    "    <attribute name=\"default\" source=\"constant\" value=\"data\" type=\"string\" />\n",
    "\n",
    "    <group name=\"data\"> \n",
    "        <attribute name=\"NX_class\" source=\"constant\" value=\"NXdata\" type=\"string\" /> \n",
    "\t\t<dataset name=\"data\" source=\"detector\"> \n",
    "\t\t  <attribute name=\"units\" source=\"constant\" value=\"counts\" type=\"string\" />\n",
    "\t\t  <attribute name=\"description\" source=\"constant\" value=\"image frame(s)\" type=\"string\" />\n",
    "\t\t  <attribute name=\"signal\" source=\"constant\" value=\"1\" type=\"int\" /> \n",
    "\t\t  <attribute name=\"target\" source=\"constant\" value=\"/entry/data/data\" type=\"string\" />\n",
    "\t\t</dataset>\n",
    "\t\t<dataset name=\"dark\" source=\"detector\"> \n",
    "\t\t  <attribute name=\"units\" source=\"constant\" value=\"counts\" type=\"string\" />\n",
    "\t\t  <attribute name=\"description\" source=\"constant\" value=\"dark (background) frame(s)\" type=\"string\" />\n",
    "\t\t  <attribute name=\"target\" source=\"constant\" value=\"/entry/data/dark\" type=\"string\" />\n",
    "\t\t</dataset>\n",
    "\t\t<dataset name=\"flat\" source=\"detector\"> \n",
    "\t\t  <attribute name=\"units\" source=\"constant\" value=\"counts\" type=\"string\" />\n",
    "\t\t  <attribute name=\"description\" source=\"constant\" value=\"flat (white) frame(s)\" type=\"string\" />\n",
    "\t\t  <attribute name=\"target\" source=\"constant\" value=\"/entry/data/flat\" type=\"string\" />\n",
    "\t\t</dataset>\n",
    "    </group>              <!-- end group data -->\n",
    "\n",
    "    <group name=\"instrument\"> \n",
    "      <attribute name=\"NX_class\" source=\"constant\" value=\"NXinstrument\" type=\"string\" /> \n",
    "      <group name=\"detector\"> \n",
    "        <attribute name=\"NX_class\" source=\"constant\" value=\"NXdetector\" type=\"string\" /> \n",
    "\n",
    "\t\t<hardlink name=\"data\" target=\"/entry/data/data\" />\n",
    "\t\t<!-- The \"target\" attribute in /entry/data/data is used to \n",
    "\t\t   tell Nexus utilities that this is a hardlink -->\n",
    "\t\t<hardlink name=\"dark\" target=\"/entry/data/dark\" />\n",
    "\t\t<hardlink name=\"flat\" target=\"/entry/data/flat\" />\n",
    "\n",
    "        <group name=\"NDAttributes\"> \n",
    "          <attribute name=\"NX_class\" source=\"constant\" value=\"NXcollection\" type=\"string\" /> \n",
    "          <dataset name=\"ColorMode\" source=\"ndattribute\" ndattribute=\"ColorMode\"> \n",
    "          </dataset> \n",
    "        </group>          <!-- end group NDAttribute --> \n",
    "      </group>            <!-- end group detector --> \n",
    "      <group name=\"NDAttributes\" ndattr_default=\"true\"> \n",
    "        <attribute name=\"NX_class\" source=\"constant\" value=\"NXcollection\" type=\"string\" /> \n",
    "      </group>            <!-- end group NDAttribute (default) --> \n",
    "      <group name=\"performance\"> \n",
    "        <dataset name=\"timestamp\" source=\"ndattribute\" /> \n",
    "      </group>            <!-- end group performance --> \n",
    "    </group>              <!-- end group instrument -->\n",
    "\n",
    "  </group>                <!-- end group entry -->\n",
    "</hdf5_layout>\n",
    "```\n",
    "\n",
    "Then, reload (and test) the XML layout file."
   ],
   "metadata": {}
  },
  {
   "cell_type": "code",
   "execution_count": null,
   "source": [
    "adsimdet.hdf1.layout_filename.put(\"layout.xml\")\n",
    "adsimdet.hdf1.layout_filename_valid.value"
   ],
   "outputs": [],
   "metadata": {}
  },
  {
   "cell_type": "markdown",
   "source": [
    "Try it and check the output file.  This won't be a great test since we are only writing one image type.  Just check that it seems to work."
   ],
   "metadata": {}
  },
  {
   "cell_type": "code",
   "execution_count": null,
   "source": [
    "RE(bp.count([adsimdet]))"
   ],
   "outputs": [],
   "metadata": {}
  },
  {
   "cell_type": "markdown",
   "source": [
    "## Series of images, darks, and flats\n",
    "\n",
    "Try this series: 4 images, 3 darks, 2 flats"
   ],
   "metadata": {}
  },
  {
   "cell_type": "code",
   "execution_count": null,
   "source": [
    "import bluesky.plan_stubs as bps\n",
    "import time\n",
    "\n",
    "def frame_set(det, frame_type=0, num_frames=1):\n",
    "    print(\"type {}, frames {}\".format(frame_type, num_frames))\n",
    "    yield from bps.mv(det.cam.frame_type, frame_type)\n",
    "    for frame_num in range(num_frames):\n",
    "        print(\"acquire {} frame {} of {}\".format(frame_type, frame_num+1, num_frames))\n",
    "        yield from bps.mv(det.cam.acquire, 1)\n",
    "        while det.cam.acquire.value != 0:\n",
    "            # wait for acquisition to finish\n",
    "            yield from bps.sleep(0.01)\n",
    "        print(\"acquired\")\n",
    "\n",
    "\n",
    "def series(det, num_images=4, num_darks=3, num_flats=2):\n",
    "    num_frames = [num_images, num_darks, num_flats]\n",
    "    total = sum(num_frames)\n",
    "    print(\"total frames:\", total)\n",
    "\n",
    "    print(\"setup\")\n",
    "    yield from bps.mv(\n",
    "        det.hdf1.num_capture, total,\n",
    "        det.hdf1.file_write_mode, 'Capture',\n",
    "        det.cam.image_mode, \"Multiple\",\n",
    "    )\n",
    "    yield from bps.abs_set(\n",
    "        det.hdf1.capture, 1,\n",
    "    )\n",
    "\n",
    "    for i, num in enumerate(num_frames):\n",
    "        yield from frame_set(det, frame_type=i, num_frames=num)\n",
    "\n",
    "    print(\"restore\")\n",
    "    yield from bps.mv(\n",
    "        det.hdf1.num_capture, 1,\n",
    "        det.hdf1.file_write_mode, 'Single',\n",
    "        det.cam.image_mode, \"Single\",\n",
    "        det.cam.num_exposures, 1,\n",
    "        det.cam.frame_type, 0,\n",
    "    )\n"
   ],
   "outputs": [],
   "metadata": {
    "collapsed": true
   }
  },
  {
   "cell_type": "code",
   "execution_count": null,
   "source": [
    "RE(series(adsimdet))"
   ],
   "outputs": [],
   "metadata": {
    "scrolled": true
   }
  },
  {
   "cell_type": "code",
   "execution_count": null,
   "source": [
    "#RE.abort()"
   ],
   "outputs": [],
   "metadata": {}
  },
  {
   "cell_type": "code",
   "execution_count": null,
   "source": [
    "#adsimdet.cam.acquire.put(0)"
   ],
   "outputs": [],
   "metadata": {
    "collapsed": true
   }
  },
  {
   "cell_type": "code",
   "execution_count": null,
   "source": [
    "#adsimdet.hdf1.capture.put(0)"
   ],
   "outputs": [],
   "metadata": {
    "collapsed": true
   }
  },
  {
   "cell_type": "code",
   "execution_count": null,
   "source": [
    "#adsimdet.cam.frame_type.put(0)"
   ],
   "outputs": [],
   "metadata": {}
  },
  {
   "cell_type": "markdown",
   "source": [
    "Final HDF5 data file looks like this (for clarity, no attributes or array data shown):\n",
    "\n",
    "```\n",
    "  entry:NXentry\n",
    "    data:NXdata\n",
    "      dark:NX_UINT8[3,19,33] = [ ... ]\n",
    "      data:NX_UINT8[4,19,33] = [ ... ]\n",
    "      flat:NX_UINT8[2,19,33] = [ ... ]\n",
    "    instrument:NXinstrument\n",
    "      NDAttributes:NXcollection\n",
    "        AcquireTime:NX_FLOAT64[9] = [ ... ]\n",
    "        AttributesFileNative:NX_INT8[9] = [ ... ]\n",
    "        AttributesFileParam:NX_CHAR[256] = simDetectorAttributes.xml\n",
    "        AttributesFileString:NX_CHAR[256] = simDetectorAttributes.xml\n",
    "        CameraManufacturer:NX_CHAR[256] = Simulated detector\n",
    "        CameraModel:NX_CHAR[256] = Basic simulator\n",
    "        E:NX_FLOAT64[9] = [ ... ]\n",
    "        Gettysburg:NX_CHAR[256] = Four score and seven years ago our fathers\n",
    "        ID_Energy:NX_FLOAT32[9] = [ ... ]\n",
    "        ID_Energy_EGU:NX_FLOAT32[9] = [ ... ]\n",
    "        ImageCounter:NX_INT32[9] = [ ... ]\n",
    "        MaxSizeX:NX_INT32[9] = [ ... ]\n",
    "        MaxSizeY:NX_INT32[9] = [ ... ]\n",
    "        NDArrayEpicsTSSec:NX_UINT32[9] = [ ... ]\n",
    "        NDArrayEpicsTSnSec:NX_UINT32[9] = [ ... ]\n",
    "        NDArrayTimeStamp:NX_FLOAT64[9] = [ ... ]\n",
    "        NDArrayUniqueId:NX_INT32[9] = [ ... ]\n",
    "        Pi:NX_FLOAT64[9] = [ ... ]\n",
    "        RingCurrent:NX_FLOAT32[9] = [ ... ]\n",
    "        RingCurrent_EGU:NX_FLOAT32[9] = [ ... ]\n",
    "        SaveDest:NX_CHAR[256] = /entry/data/data\n",
    "        Ten:NX_INT32[9] = [ ... ]\n",
    "        timestamp:NX_FLOAT64[9,5] = [ ... ]\n",
    "      detector:NXdetector\n",
    "        dark --> /entry/data/dark\n",
    "        data --> /entry/data/data\n",
    "        flat --> /entry/data/flat\n",
    "        NDAttributes:NXcollection\n",
    "          ColorMode:NX_INT32[9] = [ ... ]\n",
    "      performance\n",
    "```\n"
   ],
   "metadata": {}
  },
  {
   "cell_type": "code",
   "execution_count": null,
   "source": [],
   "outputs": [],
   "metadata": {
    "collapsed": true
   }
  }
 ],
 "metadata": {
  "kernelspec": {
   "name": "python3",
   "display_name": "Python 3.8.10 64-bit ('bluesky_2021_2': conda)"
  },
  "language_info": {
   "codemirror_mode": {
    "name": "ipython",
    "version": 3
   },
   "file_extension": ".py",
   "mimetype": "text/x-python",
   "name": "python",
   "nbconvert_exporter": "python",
   "pygments_lexer": "ipython3",
   "version": "3.8.10"
  },
  "interpreter": {
   "hash": "60aa360bcd8d3c8cfbc4e726e53a455fcd5c15cdf29caaf63c7ca2494eba79e9"
  }
 },
 "nbformat": 4,
 "nbformat_minor": 2
}