{
 "cells": [
  {
   "cell_type": "markdown",
   "id": "healthy-evanescence",
   "metadata": {},
   "source": [
    "# connect control system to diffractometer energy\n",
    "\n",
    "This notebook is a work-in-progress.\n",
    "\n",
    "```db\n",
    "\n",
    "# file: registers.db\n",
    "#\n",
    "# purpose: test example for issue #72\n",
    "# connect control system energy with diffractometer\n",
    "\n",
    "record(ao, \"EPICS:energy\") {\n",
    "  field(DESC, \"monochromator energy\")\n",
    "  field(PREC, 5)\n",
    "  field(EGU, \"keV\")\n",
    "  field(VAL, 12.0)\n",
    "}\n",
    "\n",
    "record(ao, \"EPICS:energy:offset\") {\n",
    "  field(DESC, \"monochromator energy offset\")\n",
    "  field(PREC, 5)\n",
    "  field(EGU, \"keV\")\n",
    "  field(VAL, 0.0)\n",
    "}\n",
    "\n",
    "record(bo, \"EPICS:energy:lock\") {\n",
    "  field(DESC, \"lock hkl to mono?\")\n",
    "  field(ONAM, \"locked\")\n",
    "  field(ZNAM, \"unlocked\")\n",
    "  field(VAL, 0)\n",
    "}\n",
    "```"
   ]
  },
  {
   "cell_type": "code",
   "execution_count": 1,
   "id": "excess-domain",
   "metadata": {},
   "outputs": [
    {
     "name": "stdout",
     "output_type": "stream",
     "text": [
      "Old : EPICS:energy                   7.112\n",
      "New : EPICS:energy                   12\n",
      "Old : EPICS:energy.EGU               keV\n",
      "New : EPICS:energy.EGU               keV\n",
      "Old : EPICS:energy:offset            0\n",
      "New : EPICS:energy:offset            0\n",
      "Old : EPICS:energy:lock              locked\n",
      "New : EPICS:energy:lock              locked\n"
     ]
    }
   ],
   "source": [
    "!caput EPICS:energy 12\n",
    "!caput EPICS:energy.EGU keV\n",
    "!caput EPICS:energy:offset 0\n",
    "!caput EPICS:energy:lock locked"
   ]
  },
  {
   "cell_type": "code",
   "execution_count": 2,
   "id": "descending-plumbing",
   "metadata": {},
   "outputs": [],
   "source": [
    "import gi\n",
    "gi.require_version('Hkl', '5.0')\n",
    "from hkl.geometries import E4CV\n",
    "import logging\n",
    "from ophyd import Component\n",
    "from ophyd import EpicsMotor\n",
    "from ophyd import EpicsSignal\n",
    "from ophyd import PseudoSingle\n",
    "import pint\n",
    "\n",
    "logger = logging.getLogger(__name__)\n",
    "ureg = pint.UnitRegistry()"
   ]
  },
  {
   "cell_type": "code",
   "execution_count": 3,
   "id": "dirty-belgium",
   "metadata": {},
   "outputs": [],
   "source": [
    "class LocalDiffractometer(E4CV):\n",
    "    h = Component(PseudoSingle, '', kind=\"hinted\")\n",
    "    k = Component(PseudoSingle, '', kind=\"hinted\")\n",
    "    l = Component(PseudoSingle, '', kind=\"hinted\")\n",
    "\n",
    "    omega = Component(EpicsMotor, \"EPICS:m1\", kind=\"hinted\")\n",
    "    chi = Component(EpicsMotor, \"EPICS:m2\", kind=\"hinted\")\n",
    "    phi = Component(EpicsMotor, \"EPICS:m3\", kind=\"hinted\")\n",
    "    tth = Component(EpicsMotor, \"EPICS:m4\", kind=\"hinted\")\n",
    "\n",
    "    energy = Component(EpicsSignal, \"EPICS:energy\")\n",
    "    energy_EGU = Component(EpicsSignal, \"EPICS:energy.EGU\")\n",
    "    energy_offset = Component(EpicsSignal, \"EPICS:energy:offset\")\n",
    "    energy_update_calc_flag = Component(EpicsSignal, \"EPICS:energy:lock\")\n",
    "    \n",
    "#     def __init__(self, *args, **kwargs):\n",
    "#         super().__init__(*args, **kwargs)\n",
    "#         self.energy_offset.subscribe(self._energy_offset_changed, event_type=EpicsSignal.SUB_VALUE)\n",
    "#         self.energy_units.subscribe(self._energy_units_changed, event_type=EpicsSignal.SUB_VALUE)\n"
   ]
  },
  {
   "cell_type": "code",
   "execution_count": 4,
   "id": "referenced-crawford",
   "metadata": {},
   "outputs": [],
   "source": [
    "fourc = LocalDiffractometer(\"\", name=\"fourc\")\n",
    "fourc.wait_for_connection()\n",
    "fourc._energy_changed()  # force the callback to update"
   ]
  },
  {
   "cell_type": "code",
   "execution_count": 5,
   "id": "incoming-amendment",
   "metadata": {},
   "outputs": [
    {
     "name": "stdout",
     "output_type": "stream",
     "text": [
      "dfrct.calc.wavelength = 1.0332016666666666\n",
      "dfrct.calc.energy = 12.0\n",
      "dfrct.energy.get() = 12.0\n",
      "dfrct.energy_EGU.get() = 'keV'\n",
      "dfrct.energy_offset.get() = 0.0\n"
     ]
    }
   ],
   "source": [
    "def reporter(dfrct):\n",
    "    print(f\"{dfrct.calc.wavelength = }\")\n",
    "    print(f\"{dfrct.calc.energy = }\")\n",
    "    print(f\"{dfrct.energy.get() = }\")\n",
    "    print(f\"{dfrct.energy_EGU.get() = }\")\n",
    "    print(f\"{dfrct.energy_offset.get() = }\")\n",
    "\n",
    "reporter(fourc)"
   ]
  },
  {
   "cell_type": "code",
   "execution_count": 6,
   "id": "chicken-aging",
   "metadata": {},
   "outputs": [
    {
     "name": "stdout",
     "output_type": "stream",
     "text": [
      "Old : EPICS:energy                   12\n",
      "New : EPICS:energy                   7.112\n",
      "dfrct.calc.wavelength = 1.7433098987626545\n",
      "dfrct.calc.energy = 7.112\n",
      "dfrct.energy.get() = 7.112\n",
      "dfrct.energy_EGU.get() = 'keV'\n",
      "dfrct.energy_offset.get() = 0.0\n"
     ]
    }
   ],
   "source": [
    "!caput EPICS:energy 7.112\n",
    "\n",
    "reporter(fourc) "
   ]
  }
 ],
 "metadata": {
  "kernelspec": {
   "display_name": "bluesky_2021_1",
   "language": "python",
   "name": "bluesky_2021_1"
  },
  "language_info": {
   "codemirror_mode": {
    "name": "ipython",
    "version": 3
   },
   "file_extension": ".py",
   "mimetype": "text/x-python",
   "name": "python",
   "nbconvert_exporter": "python",
   "pygments_lexer": "ipython3",
   "version": "3.8.8"
  }
 },
 "nbformat": 4,
 "nbformat_minor": 5
}
