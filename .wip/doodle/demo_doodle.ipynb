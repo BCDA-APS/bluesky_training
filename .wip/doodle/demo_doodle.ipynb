{
 "metadata": {
  "language_info": {
   "codemirror_mode": {
    "name": "ipython",
    "version": 3
   },
   "file_extension": ".py",
   "mimetype": "text/x-python",
   "name": "python",
   "nbconvert_exporter": "python",
   "pygments_lexer": "ipython3",
   "version": "3.8.8-final"
  },
  "orig_nbformat": 2,
  "kernelspec": {
   "name": "python3",
   "display_name": "Python 3",
   "language": "python"
  }
 },
 "nbformat": 4,
 "nbformat_minor": 2,
 "cells": [
  {
   "source": [
    "# Demonstration: call shell command & wait for finish\n",
    "Demonstrate how to launch a shell command and wait for it to finish.\n",
    "\n",
    "This involves setting a command and receiving two different values (_stdout_ and _stderr_).  An `ophyd.Signal` is for setting and reading one value.  The `ophyd.Device` can provide the multiple values needed."
   ],
   "cell_type": "markdown",
   "metadata": {}
  },
  {
   "source": [
    "## 1. Example shell command\n",
    "The example shell command is a bash script that executes a 5 second countdown.  The script is shown first:"
   ],
   "cell_type": "markdown",
   "metadata": {}
  },
  {
   "cell_type": "code",
   "execution_count": 1,
   "metadata": {},
   "outputs": [
    {
     "output_type": "stream",
     "name": "stdout",
     "text": [
      "#!/bin/bash\n\necho $(date): Doodle demonstration starting\necho $(date): sleep 5 seconds\nfor i in 5 4 3 2 1; do\n    echo $(date): countdown ${i}\n    sleep 1\ndone\necho $(date): Doodle demonstration complete\n"
     ]
    }
   ],
   "source": [
    "!cat ./doodle.sh"
   ]
  },
  {
   "source": [
    "Now, run it to show how it works."
   ],
   "cell_type": "markdown",
   "metadata": {}
  },
  {
   "cell_type": "code",
   "execution_count": 2,
   "metadata": {},
   "outputs": [
    {
     "output_type": "stream",
     "name": "stdout",
     "text": [
      "Fri 26 Mar 2021 10:26:49 AM CDT: Doodle demonstration starting\n",
      "Fri 26 Mar 2021 10:26:49 AM CDT: sleep 5 seconds\n",
      "Fri 26 Mar 2021 10:26:49 AM CDT: countdown 5\n",
      "Fri 26 Mar 2021 10:26:50 AM CDT: countdown 4\n",
      "Fri 26 Mar 2021 10:26:51 AM CDT: countdown 3\n",
      "Fri 26 Mar 2021 10:26:52 AM CDT: countdown 2\n",
      "Fri 26 Mar 2021 10:26:53 AM CDT: countdown 1\n",
      "Fri 26 Mar 2021 10:26:54 AM CDT: Doodle demonstration complete\n"
     ]
    }
   ],
   "source": [
    "!bash ./doodle.sh"
   ]
  },
  {
   "source": [
    "## 2. Run from Python `subprocess`"
   ],
   "cell_type": "markdown",
   "metadata": {}
  },
  {
   "source": [
    "import subprocess\n",
    "import time"
   ],
   "cell_type": "code",
   "metadata": {},
   "execution_count": 3,
   "outputs": []
  },
  {
   "cell_type": "code",
   "execution_count": 4,
   "metadata": {},
   "outputs": [],
   "source": [
    "command = \"bash ./doodle.sh\"\n",
    "\n",
    "# Start the command\n",
    "t0 = time.time()\n",
    "process = subprocess.Popen(\n",
    "    command,\n",
    "    shell=True,\n",
    "    stdin=subprocess.PIPE,\n",
    "    stdout=subprocess.PIPE,\n",
    "    stderr=subprocess.PIPE,\n",
    ")"
   ]
  },
  {
   "cell_type": "code",
   "execution_count": 5,
   "metadata": {},
   "outputs": [
    {
     "output_type": "stream",
     "name": "stdout",
     "text": [
      "time.time() - t0 = 5.053030014038086\n"
     ]
    }
   ],
   "source": [
    "# wait for the command to finish and collect the outputs.\n",
    "stdout, stderr = process.communicate()\n",
    "print(f\"{time.time() - t0 = }\")"
   ]
  },
  {
   "cell_type": "code",
   "execution_count": 6,
   "metadata": {},
   "outputs": [
    {
     "output_type": "stream",
     "name": "stdout",
     "text": [
      "stdout = b'Fri 26 Mar 2021 10:26:54 AM CDT: Doodle demonstration starting\\nFri 26 Mar 2021 10:26:54 AM CDT: sleep 5 seconds\\nFri 26 Mar 2021 10:26:54 AM CDT: countdown 5\\nFri 26 Mar 2021 10:26:55 AM CDT: countdown 4\\nFri 26 Mar 2021 10:26:56 AM CDT: countdown 3\\nFri 26 Mar 2021 10:26:57 AM CDT: countdown 2\\nFri 26 Mar 2021 10:26:58 AM CDT: countdown 1\\nFri 26 Mar 2021 10:26:59 AM CDT: Doodle demonstration complete\\n'\nstderr = b''\n"
     ]
    }
   ],
   "source": [
    "print(f\"{stdout = }\")\n",
    "print(f\"{stderr = }\")"
   ]
  },
  {
   "cell_type": "code",
   "execution_count": 7,
   "metadata": {},
   "outputs": [
    {
     "output_type": "stream",
     "name": "stdout",
     "text": [
      "stdout.decode('utf8') = 'Fri 26 Mar 2021 10:26:54 AM CDT: Doodle demonstration starting\\nFri 26 Mar 2021 10:26:54 AM CDT: sleep 5 seconds\\nFri 26 Mar 2021 10:26:54 AM CDT: countdown 5\\nFri 26 Mar 2021 10:26:55 AM CDT: countdown 4\\nFri 26 Mar 2021 10:26:56 AM CDT: countdown 3\\nFri 26 Mar 2021 10:26:57 AM CDT: countdown 2\\nFri 26 Mar 2021 10:26:58 AM CDT: countdown 1\\nFri 26 Mar 2021 10:26:59 AM CDT: Doodle demonstration complete\\n'\nstderr.decode('utf8') = ''\n"
     ]
    }
   ],
   "source": [
    "# byte strings, must decode to see as string\n",
    "print(f\"{stdout.decode('utf8') = }\")\n",
    "print(f\"{stderr.decode('utf8') = }\")"
   ]
  },
  {
   "source": [
    "## 3. As `ophyd.Signal`\n",
    "\n",
    "Since this is a demonstration, we show here why the `Signal` implementation just does not provide the right behavior.\n",
    "\n",
    "An `ophyd.Signal` will be used to accept an input, launch the shell command in a `subprocess` from the `Signal.set()` method, and wait for the response using an `ophyd.Status` object.\n",
    "\n",
    "Since a redefinition of the `set()` method is needed, it is necessary to create a *subclass* of `ophyd.Signal`."
   ],
   "cell_type": "markdown",
   "metadata": {}
  },
  {
   "cell_type": "code",
   "execution_count": 8,
   "metadata": {},
   "outputs": [],
   "source": [
    "import ophyd\n",
    "import threading\n",
    "\n",
    "class ProcessSignal(ophyd.Signal):\n",
    "\n",
    "    process = None\n",
    "    _readback = None\n",
    "    stderr = None\n",
    "\n",
    "    def set(self, command, *, timeout=None, settle_time=None):\n",
    "        st = ophyd.status.Status(self)\n",
    "\n",
    "        def wait_process():\n",
    "            self._readback, self.stderr = self.process.communicate(timeout=timeout)\n",
    "            st._finished()\n",
    "\n",
    "        self._status = st\n",
    "        self.process = subprocess.Popen(\n",
    "            command,\n",
    "            shell=True,\n",
    "            stdin=subprocess.PIPE,\n",
    "            stdout=subprocess.PIPE,\n",
    "            stderr=subprocess.PIPE,\n",
    "        )\n",
    "        # TODO: settle_time\n",
    "        threading.Thread(target=wait_process, daemon=True).start()\n",
    "        return st"
   ]
  },
  {
   "source": [
    "Create the processor object and run (`.set()`) it.  This will return immediately, before the shell script finishes.  The return result is a `Status` object that `bluesky` will use to wait for the `.set()` operation to finish."
   ],
   "cell_type": "markdown",
   "metadata": {}
  },
  {
   "cell_type": "code",
   "execution_count": 9,
   "metadata": {},
   "outputs": [
    {
     "output_type": "stream",
     "name": "stdout",
     "text": [
      "st = Status(obj=ProcessSignal(name='obj', value=0.0, timestamp=1616772420.1250772), done=False, success=False)\n",
      "time.time()-t0 = 0.008937597274780273\n"
     ]
    }
   ],
   "source": [
    "t0 = time.time()\n",
    "obj = ProcessSignal(name=\"obj\")\n",
    "st = obj.set(\"bash ./doodle.sh\")\n",
    "print(f\"{st = }\")\n",
    "print(f\"{time.time()-t0 = }\")"
   ]
  },
  {
   "source": [
    "No _timeout_ was not configured.  The shell script runs for 5 seconds so we use the status object to wait for it to complete."
   ],
   "cell_type": "markdown",
   "metadata": {}
  },
  {
   "cell_type": "code",
   "execution_count": 10,
   "metadata": {},
   "outputs": [
    {
     "output_type": "stream",
     "name": "stdout",
     "text": [
      "obj._status = Status(obj=ProcessSignal(name='obj', value=0.0, timestamp=1616772420.1250772), done=False, success=False)\n",
      "time.time()-t0 = 0.031061410903930664\n",
      "obj._status = Status(obj=ProcessSignal(name='obj', value=b'Fri 26 Mar 2021 10:27:00 AM CDT: Doodle demonstration starting\\nFri 26 Mar 2021 10:27:00 AM CDT: sleep 5 seconds\\nFri 26 Mar 2021 10:27:00 AM CDT: countdown 5\\nFri 26 Mar 2021 10:27:01 AM CDT: countdown 4\\nFri 26 Mar 2021 10:27:02 AM CDT: countdown 3\\nFri 26 Mar 2021 10:27:03 AM CDT: countdown 2\\nFri 26 Mar 2021 10:27:04 AM CDT: countdown 1\\nFri 26 Mar 2021 10:27:05 AM CDT: Doodle demonstration complete\\n', timestamp=1616772420.1250772), done=True, success=True)\n",
      "time.time()-t0 = 5.057312250137329\n"
     ]
    }
   ],
   "source": [
    "print(f\"{obj._status = }\")\n",
    "print(f\"{time.time()-t0 = }\")\n",
    "st.wait()\n",
    "print(f\"{obj._status = }\")\n",
    "print(f\"{time.time()-t0 = }\")"
   ]
  },
  {
   "source": [
    "Show what is returned from the `read()` method."
   ],
   "cell_type": "markdown",
   "metadata": {}
  },
  {
   "cell_type": "code",
   "execution_count": 11,
   "metadata": {},
   "outputs": [
    {
     "output_type": "execute_result",
     "data": {
      "text/plain": [
       "{'obj': {'value': b'Fri 26 Mar 2021 10:27:00 AM CDT: Doodle demonstration starting\\nFri 26 Mar 2021 10:27:00 AM CDT: sleep 5 seconds\\nFri 26 Mar 2021 10:27:00 AM CDT: countdown 5\\nFri 26 Mar 2021 10:27:01 AM CDT: countdown 4\\nFri 26 Mar 2021 10:27:02 AM CDT: countdown 3\\nFri 26 Mar 2021 10:27:03 AM CDT: countdown 2\\nFri 26 Mar 2021 10:27:04 AM CDT: countdown 1\\nFri 26 Mar 2021 10:27:05 AM CDT: Doodle demonstration complete\\n',\n",
       "  'timestamp': 1616772420.1250772}}"
      ]
     },
     "metadata": {},
     "execution_count": 11
    }
   ],
   "source": [
    "obj.read()"
   ]
  },
  {
   "source": [
    "The problem is seen after we try the `.put()` method"
   ],
   "cell_type": "markdown",
   "metadata": {}
  },
  {
   "cell_type": "code",
   "execution_count": 12,
   "metadata": {},
   "outputs": [
    {
     "output_type": "stream",
     "name": "stdout",
     "text": [
      "st = None\n",
      "time.time()-t0 = 0.0015454292297363281\n"
     ]
    }
   ],
   "source": [
    "t0 = time.time()\n",
    "st = obj.put(\"bash ./doodle.sh\")\n",
    "print(f\"{st = }\")\n",
    "print(f\"{time.time()-t0 = }\")"
   ]
  },
  {
   "source": [
    "As before, wait for it to finish and the `value` is still the input command.  Note the `put()` method does not return its status object so we have to use a sleep timer."
   ],
   "cell_type": "markdown",
   "metadata": {}
  },
  {
   "cell_type": "code",
   "execution_count": 13,
   "metadata": {},
   "outputs": [
    {
     "output_type": "stream",
     "name": "stdout",
     "text": [
      "obj.read() = {'obj': {'value': 'bash ./doodle.sh', 'timestamp': 1616772425.2302892}}\n",
      "time.time()-t0 = 0.02330780029296875\n",
      "obj.read() = {'obj': {'value': 'bash ./doodle.sh', 'timestamp': 1616772425.2302892}}\n",
      "time.time()-t0 = 5.032006025314331\n"
     ]
    }
   ],
   "source": [
    "print(f\"{obj.read() = }\")\n",
    "print(f\"{time.time()-t0 = }\")\n",
    "time.sleep(5)\n",
    "print(f\"{obj.read() = }\")\n",
    "print(f\"{time.time()-t0 = }\")"
   ]
  },
  {
   "source": [
    "The `ophyd.Signal.put()` method requests the Signal to go to the `value` and then waits for it to get there (that's when it uses up its status object).  The output of the shell script will *never* become the value of the command string.  If we were to set `obj._readback` to be the output from the shell script, then the `put()` method would never return (it hangs because the readback value does not equal the input value).\n",
    "\n",
    "Signal is not the right interface."
   ],
   "cell_type": "markdown",
   "metadata": {}
  },
  {
   "source": [
    "## 4. As `ophyd.Device`"
   ],
   "cell_type": "markdown",
   "metadata": {}
  },
  {
   "cell_type": "code",
   "execution_count": 14,
   "metadata": {},
   "outputs": [],
   "source": [
    "import ophyd\n",
    "import subprocess\n",
    "import threading\n",
    "import time\n",
    "\n",
    "class ProcessDevice(ophyd.Device):\n",
    "    command = ophyd.Component(ophyd.Signal, value=None)\n",
    "    stdout = ophyd.Component(ophyd.Signal, value=None)\n",
    "    stderr = ophyd.Component(ophyd.Signal, value=None)\n",
    "    process = None\n",
    "\n",
    "    def trigger(self):\n",
    "        \"\"\"Start acquisition.\"\"\"\n",
    "        if self.command.get() is None:\n",
    "            raise ValueError(f\"Must set {self.name}.command.  Cannot be `None`.\")\n",
    "        \n",
    "        st = ophyd.status.DeviceStatus(self)\n",
    "        \n",
    "        def watch_process():\n",
    "            out, err = self.process.communicate()\n",
    "            # these are byte strings, decode them to get str\n",
    "            self.stdout.put(out.decode(\"utf8\"))\n",
    "            self.stderr.put(err.decode(\"utf8\"))\n",
    "            self.process = None\n",
    "            st._finished()\n",
    "\n",
    "        self._status = st\n",
    "        self.stderr.put(None)\n",
    "        self.stdout.put(None)\n",
    "        self.process = subprocess.Popen(\n",
    "            self.command.get(),\n",
    "            shell=True,\n",
    "            stdin=subprocess.PIPE,\n",
    "            stdout=subprocess.PIPE,\n",
    "            stderr=subprocess.PIPE,\n",
    "        )\n",
    "        threading.Thread(target=watch_process, daemon=True).start()\n",
    "        return st"
   ]
  },
  {
   "cell_type": "code",
   "execution_count": 15,
   "metadata": {},
   "outputs": [],
   "source": [
    "obj = ProcessDevice(name=\"obj\")\n",
    "obj.stage_sigs[\"command\"] = \"bash ./doodle.sh\""
   ]
  },
  {
   "cell_type": "code",
   "execution_count": 16,
   "metadata": {},
   "outputs": [
    {
     "output_type": "stream",
     "name": "stdout",
     "text": [
      "time.time() - t0 = 0.008999109268188477s\n",
      "st = DeviceStatus(device=obj, done=False, success=False)\n"
     ]
    },
    {
     "output_type": "execute_result",
     "data": {
      "text/plain": [
       "OrderedDict([('obj_command',\n",
       "              {'value': 'bash ./doodle.sh', 'timestamp': 1616772430.3297338}),\n",
       "             ('obj_stdout', {'value': None, 'timestamp': 1616772430.3337305}),\n",
       "             ('obj_stderr', {'value': None, 'timestamp': 1616772430.3337102})])"
      ]
     },
     "metadata": {},
     "execution_count": 16
    }
   ],
   "source": [
    "t0 = time.time()\n",
    "obj.stage()\n",
    "st = obj.trigger()\n",
    "print(f\"{time.time() - t0 = }s\")\n",
    "print(f\"{st = }\")\n",
    "obj.read()"
   ]
  },
  {
   "cell_type": "code",
   "execution_count": 17,
   "metadata": {},
   "outputs": [
    {
     "output_type": "stream",
     "name": "stdout",
     "text": [
      "time.time() - t0 = 5.066083669662476s\n",
      "st = DeviceStatus(device=obj, done=True, success=True)\n"
     ]
    },
    {
     "output_type": "execute_result",
     "data": {
      "text/plain": [
       "OrderedDict([('obj_command',\n",
       "              {'value': 'bash ./doodle.sh', 'timestamp': 1616772430.3297338}),\n",
       "             ('obj_stdout',\n",
       "              {'value': 'Fri 26 Mar 2021 10:27:10 AM CDT: Doodle demonstration starting\\nFri 26 Mar 2021 10:27:10 AM CDT: sleep 5 seconds\\nFri 26 Mar 2021 10:27:10 AM CDT: countdown 5\\nFri 26 Mar 2021 10:27:11 AM CDT: countdown 4\\nFri 26 Mar 2021 10:27:12 AM CDT: countdown 3\\nFri 26 Mar 2021 10:27:13 AM CDT: countdown 2\\nFri 26 Mar 2021 10:27:14 AM CDT: countdown 1\\nFri 26 Mar 2021 10:27:15 AM CDT: Doodle demonstration complete\\n',\n",
       "               'timestamp': 1616772435.3951068}),\n",
       "             ('obj_stderr', {'value': '', 'timestamp': 1616772435.3951726})])"
      ]
     },
     "metadata": {},
     "execution_count": 17
    }
   ],
   "source": [
    "st.wait()\n",
    "print(f\"{time.time() - t0 = }s\")\n",
    "print(f\"{st = }\")\n",
    "obj.read()"
   ]
  },
  {
   "cell_type": "code",
   "execution_count": 18,
   "metadata": {},
   "outputs": [
    {
     "output_type": "execute_result",
     "data": {
      "text/plain": [
       "[ProcessDevice(prefix='', name='obj', read_attrs=['command', 'stdout', 'stderr'], configuration_attrs=[])]"
      ]
     },
     "metadata": {},
     "execution_count": 18
    }
   ],
   "source": [
    "obj.unstage()"
   ]
  },
  {
   "cell_type": "code",
   "execution_count": 19,
   "metadata": {},
   "outputs": [
    {
     "output_type": "stream",
     "name": "stdout",
     "text": [
      "Fri 26 Mar 2021 10:27:10 AM CDT: Doodle demonstration starting\n",
      "Fri 26 Mar 2021 10:27:10 AM CDT: sleep 5 seconds\n",
      "Fri 26 Mar 2021 10:27:10 AM CDT: countdown 5\n",
      "Fri 26 Mar 2021 10:27:11 AM CDT: countdown 4\n",
      "Fri 26 Mar 2021 10:27:12 AM CDT: countdown 3\n",
      "Fri 26 Mar 2021 10:27:13 AM CDT: countdown 2\n",
      "Fri 26 Mar 2021 10:27:14 AM CDT: countdown 1\n",
      "Fri 26 Mar 2021 10:27:15 AM CDT: Doodle demonstration complete\n",
      "\n"
     ]
    }
   ],
   "source": [
    "print(obj.stdout.get())"
   ]
  },
  {
   "source": [
    "## 5. Run with bluesky\n",
    "This is a simplest implementation of the bluesky RunEngine with no custom callbacks, no table output, and no saving data anywhere.  Capture the document stream from `RE` using a simple callback (`document_printer()`) that prints the content of each document.\n",
    "\n",
    "In this demo, we do not show how to implement a timeout and or interrupt execution of the shell script."
   ],
   "cell_type": "markdown",
   "metadata": {}
  },
  {
   "cell_type": "code",
   "execution_count": 20,
   "metadata": {},
   "outputs": [
    {
     "output_type": "stream",
     "name": "stdout",
     "text": [
      "\n",
      "***start***\n",
      "{'detectors': ['obj'],\n",
      " 'hints': {'dimensions': [(('time',), 'primary')]},\n",
      " 'num_intervals': 0,\n",
      " 'num_points': 1,\n",
      " 'plan_args': {'detectors': [\"ProcessDevice(prefix='', name='obj', \"\n",
      "                             \"read_attrs=['command', 'stdout', 'stderr'], \"\n",
      "                             'configuration_attrs=[])'],\n",
      "               'num': 1},\n",
      " 'plan_name': 'count',\n",
      " 'plan_type': 'generator',\n",
      " 'scan_id': 1,\n",
      " 'time': 1616772435.5289648,\n",
      " 'uid': '50d238f8-ed4f-4d48-bf46-495f0eb6f5cc',\n",
      " 'versions': {'bluesky': '1.6.7', 'ophyd': '1.6.1'}}\n",
      "\n",
      "***descriptor***\n",
      "{'configuration': {'obj': {'data': {},\n",
      "                           'data_keys': OrderedDict(),\n",
      "                           'timestamps': {}}},\n",
      " 'data_keys': {'obj_command': {'dtype': 'string',\n",
      "                               'object_name': 'obj',\n",
      "                               'shape': [],\n",
      "                               'source': 'SIM:obj_command'},\n",
      "               'obj_stderr': {'dtype': 'string',\n",
      "                              'object_name': 'obj',\n",
      "                              'shape': [],\n",
      "                              'source': 'SIM:obj_stderr'},\n",
      "               'obj_stdout': {'dtype': 'string',\n",
      "                              'object_name': 'obj',\n",
      "                              'shape': [],\n",
      "                              'source': 'SIM:obj_stdout'}},\n",
      " 'hints': {'obj': {'fields': []}},\n",
      " 'name': 'primary',\n",
      " 'object_keys': {'obj': ['obj_command', 'obj_stdout', 'obj_stderr']},\n",
      " 'run_start': '50d238f8-ed4f-4d48-bf46-495f0eb6f5cc',\n",
      " 'time': 1616772440.6404629,\n",
      " 'uid': 'a58afa6e-db86-41da-a52e-fd981877d304'}\n",
      "\n",
      "***event***\n",
      "{'data': {'obj_command': 'bash ./doodle.sh',\n",
      "          'obj_stderr': '',\n",
      "          'obj_stdout': 'Fri 26 Mar 2021 10:27:15 AM CDT: Doodle demonstration '\n",
      "                        'starting\\n'\n",
      "                        'Fri 26 Mar 2021 10:27:15 AM CDT: sleep 5 seconds\\n'\n",
      "                        'Fri 26 Mar 2021 10:27:15 AM CDT: countdown 5\\n'\n",
      "                        'Fri 26 Mar 2021 10:27:16 AM CDT: countdown 4\\n'\n",
      "                        'Fri 26 Mar 2021 10:27:17 AM CDT: countdown 3\\n'\n",
      "                        'Fri 26 Mar 2021 10:27:18 AM CDT: countdown 2\\n'\n",
      "                        'Fri 26 Mar 2021 10:27:19 AM CDT: countdown 1\\n'\n",
      "                        'Fri 26 Mar 2021 10:27:20 AM CDT: Doodle demonstration '\n",
      "                        'complete\\n'},\n",
      " 'descriptor': 'a58afa6e-db86-41da-a52e-fd981877d304',\n",
      " 'filled': {},\n",
      " 'seq_num': 1,\n",
      " 'time': 1616772440.7607665,\n",
      " 'timestamps': {'obj_command': 1616772435.528853,\n",
      "                'obj_stderr': 1616772440.6380079,\n",
      "                'obj_stdout': 1616772440.6379015},\n",
      " 'uid': '8adfb3e9-0486-411c-aec3-0ccdfa8f65e9'}\n",
      "\n",
      "***stop***\n",
      "{'exit_status': 'success',\n",
      " 'num_events': {'primary': 1},\n",
      " 'reason': '',\n",
      " 'run_start': '50d238f8-ed4f-4d48-bf46-495f0eb6f5cc',\n",
      " 'time': 1616772440.8177576,\n",
      " 'uid': 'c9a5eb0c-a971-485a-b232-8beefc822084'}\n"
     ]
    },
    {
     "output_type": "execute_result",
     "data": {
      "text/plain": [
       "('50d238f8-ed4f-4d48-bf46-495f0eb6f5cc',)"
      ]
     },
     "metadata": {},
     "execution_count": 20
    }
   ],
   "source": [
    "import bluesky\n",
    "import bluesky.plans as bp\n",
    "import pprint\n",
    "\n",
    "def document_printer(key, doc):\n",
    "    print()\n",
    "    print(f\"***{key}***\")\n",
    "    pprint.pprint(doc)\n",
    "\n",
    "RE = bluesky.RunEngine({})\n",
    "RE(bp.count([obj]), document_printer)"
   ]
  },
  {
   "source": [
    "Looks like we got the output from the bash shell script."
   ],
   "cell_type": "markdown",
   "metadata": {}
  }
 ]
}