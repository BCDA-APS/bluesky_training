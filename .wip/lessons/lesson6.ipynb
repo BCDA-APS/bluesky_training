{
 "cells": [
  {
   "cell_type": "markdown",
   "metadata": {},
   "source": [
    "# Lesson 6 : EPICS area detector\n",
    "\n",
    "In this lesson, we'll show how to use the tools provided \n",
    "with Bluesky to acquire an image from an EPICS Area Detector \n",
    "and show the image in the notebook.\n",
    "\n",
    "The EPICS Area Detector supports many different kinds of \n",
    "detector and  provides many configuration possibilities \n",
    "for each detector in addition to configuration for handling \n",
    "of the acquired image or image stream via area detector \n",
    "components referred to as *plugins*.  Configuration of \n",
    "bluesky to use an EPICS Area Detector usually requires \n",
    "several steps that are particular to the installation \n",
    "of the detector, specifically the type of camera and \n",
    "the use of the plugin chain.\n",
    "\n",
    "The amount of data that comes from imaging \n",
    "devices such as area detectors is much larger than the \n",
    "data involved with other data acquisition devices such as \n",
    "motors, scalers, temperature sensors, etc.  Often, the imaging\n",
    "cameras will save the image data direct to a file system \n",
    "such as local storage.  EPICS Area Detector has plugins to\n",
    "store the image stream to a file system accessible from the \n",
    "IOC (the camera's EPICS server computer).  The Bluesky \n",
    "framework is designed with these considerations.  The image\n",
    "data is stored external to the *databroker* component in \n",
    "bluesky.  The *databroker* stores references to the file \n",
    "and address and provides access routines for the image data that\n",
    "manage ease of use along with efficient use of computing resources\n",
    "(memory, networking, etc.).  \n",
    "\n",
    "So, instead of reading the image data directly from the \n",
    "area detector, we'll configure the area detector plugin chain\n",
    "to handle the image data and then, if we choose, use the \n",
    "databroker to process the image further such as visualize.\n",
    "\n",
    "**note**:  This tutorial expects to find an EPICS IOC \n",
    "on the local network configured as an EPICS AreaDetector \n",
    "[`ADSimDetector`](https://github.com/areaDetector/ADSimDetector) \n",
    "IOC with prefix `adsky:`.  A docker container is available \n",
    "to provide this IOC.  See this URL for instructions:  \n",
    "https://github.com/prjemian/epics-docker/blob/master/n4_areaDetector/README.md\n",
    "\n",
    "----"
   ]
  },
  {
   "cell_type": "markdown",
   "metadata": {},
   "source": [
    "Define the IOC prefix we'll use."
   ]
  },
  {
   "cell_type": "code",
   "execution_count": 1,
   "metadata": {},
   "outputs": [],
   "source": [
    "_ad_prefix = \"adsky:\""
   ]
  },
  {
   "cell_type": "markdown",
   "metadata": {},
   "source": [
    "Import the instrument package as our routine initialization."
   ]
  },
  {
   "cell_type": "code",
   "execution_count": 2,
   "metadata": {},
   "outputs": [
    {
     "output_type": "stream",
     "name": "stderr",
     "text": "I Sat-13:59:03 - ############################################################ startup\nI Sat-13:59:03 - logging started\nI Sat-13:59:03 - logging level = 10\nI Sat-13:59:03 - /home/prjemian/Documents/projects/use_bluesky/lessons/instrument/collection.py\nI Sat-13:59:03 - /home/prjemian/Documents/projects/use_bluesky/lessons/instrument/mpl/notebook.py\nActivating auto-logging. Current session state plus future input saved.\nFilename       : /home/prjemian/Documents/projects/use_bluesky/lessons/.logs/ipython_console.log\nMode           : rotate\nOutput logging : True\nRaw input log  : False\nTimestamping   : True\nState          : active\nI Sat-13:59:03 - bluesky framework\nI Sat-13:59:03 - /home/prjemian/Documents/projects/use_bluesky/lessons/instrument/framework/check_python.py\nI Sat-13:59:03 - /home/prjemian/Documents/projects/use_bluesky/lessons/instrument/framework/check_bluesky.py\nI Sat-13:59:04 - /home/prjemian/Documents/projects/use_bluesky/lessons/instrument/framework/initialize.py\nI Sat-13:59:05 - /home/prjemian/Documents/projects/use_bluesky/lessons/instrument/framework/metadata.py\nI Sat-13:59:05 - /home/prjemian/Documents/projects/use_bluesky/lessons/instrument/framework/callbacks.py\nI Sat-13:59:05 - writing to SPEC file: /home/prjemian/Documents/projects/use_bluesky/lessons/20200516-135905.dat\nI Sat-13:59:05 -    >>>>   Using default SPEC file name   <<<<\nI Sat-13:59:05 -    file will be created when bluesky ends its next scan\nI Sat-13:59:05 -    to change SPEC file, use command:   newSpecFile('title')\n"
    }
   ],
   "source": [
    "from instrument.collection import *"
   ]
  },
  {
   "cell_type": "markdown",
   "metadata": {},
   "source": [
    "For this tutorial, we'll configure the plotting as *inline* so we can view the graphics if we run the notebook from sessions in JupyterLab.  For details, https://stackoverflow.com/a/51932652\n",
    "\n",
    "We always do this step *after* the instrument package has been imported."
   ]
  },
  {
   "cell_type": "code",
   "execution_count": 3,
   "metadata": {},
   "outputs": [],
   "source": [
    "%matplotlib inline"
   ]
  },
  {
   "cell_type": "markdown",
   "metadata": {},
   "source": [
    "The EPICS area detector support in ophyd has many features, some of them specific to the detector make and model.  Let's start with just a few features using the ADSimDetector.  We'll need to import support from ophyd by parts as they are needed.\n",
    "\n",
    "As we add features from the area detector plugins or other capabilities, the configuration complexity will increase.  So, it is good to start with a simple case where we can control the camera and generate images."
   ]
  },
  {
   "cell_type": "code",
   "execution_count": 4,
   "metadata": {},
   "outputs": [],
   "source": [
    "from ophyd import Component\n",
    "from ophyd.areadetector import ImagePlugin\n",
    "from ophyd.areadetector import SimDetector\n",
    "from ophyd.areadetector import SingleTrigger"
   ]
  },
  {
   "cell_type": "markdown",
   "metadata": {},
   "source": [
    "We need the ophyd `SimDetector` device.  That support is flexible, so we must describe *how* we'll trigger it for data acquisition.  We do that by adding the `SingleTrigger` mixin.  Here's how to do it.  This procedure is typical of what we'll have to do to support almost any EPICS area detector."
   ]
  },
  {
   "cell_type": "code",
   "execution_count": 5,
   "metadata": {},
   "outputs": [],
   "source": [
    "class MySingleTriggerSimDetector(SingleTrigger, SimDetector):\n",
    "    pass"
   ]
  },
  {
   "cell_type": "markdown",
   "metadata": {},
   "source": [
    "Make an instance of this class and connect it with EPICS."
   ]
  },
  {
   "cell_type": "code",
   "execution_count": 6,
   "metadata": {},
   "outputs": [],
   "source": [
    "adsimdet = MySingleTriggerSimDetector(_ad_prefix, name='adsimdet')\n",
    "adsimdet.wait_for_connection()"
   ]
  },
  {
   "cell_type": "markdown",
   "metadata": {},
   "source": [
    "**Staging** is fundamental to data acquisition in the Bluesky framework.  Before a device is *triggered* to acquire data, it is *staged* to configure it for that specific acquisition.  After acquisition is complete, the device is *unstaged* so that its previous configuration is restored.  The *RunEngine* (`RE`) takes care of staging and unstaging so this all takes place behind the scenes.  The `RE` also handles this when acquisition is interrupted.\n",
    "\n",
    "Here, we configure `adsimdet` for acquisition.  These settings will be applied as part of data acquisition, then the previous settings will be restored. Here:\n",
    "\n",
    "* take one image per acquisition\n",
    "* acquire for exactly 0.1 seconds\n",
    "* Each acquisition will return after 0.25 s \n",
    "\n",
    "Note: if multiple acquisitions, acquire at interval of `adsimdet.cam.acquire_period`."
   ]
  },
  {
   "cell_type": "code",
   "execution_count": 7,
   "metadata": {},
   "outputs": [],
   "source": [
    "adsimdet.stage_sigs[\"cam.num_images\"] = 1\n",
    "adsimdet.stage_sigs[\"cam.acquire_time\"] = 0.1\n",
    "adsimdet.stage_sigs[\"cam.acquire_period\"] = 0.25"
   ]
  },
  {
   "cell_type": "markdown",
   "metadata": {},
   "source": [
    "Show all the settings to be used for data acquisition with this detector."
   ]
  },
  {
   "cell_type": "code",
   "execution_count": 8,
   "metadata": {},
   "outputs": [
    {
     "output_type": "execute_result",
     "data": {
      "text/plain": "OrderedDict([('cam.acquire', 0),\n             ('cam.image_mode', 1),\n             ('cam.num_images', 1),\n             ('cam.acquire_time', 0.1),\n             ('cam.acquire_period', 0.25)])"
     },
     "metadata": {},
     "execution_count": 8
    }
   ],
   "source": [
    "adsimdet.stage_sigs"
   ]
  },
  {
   "cell_type": "markdown",
   "metadata": {},
   "source": [
    "This is a python dictionary.  We have just added to this.  The settings will be applied in the order they have been added, then removed in reverse order after acquisition.  Here's what the first two setting mean.  The others were described above.\n",
    "\n",
    ":value | :meaning\n",
    "---- | ----\n",
    "`cam.acquire` | turn off any acquisition in progress\n",
    "`cam.image_mode` | use single image mode"
   ]
  },
  {
   "cell_type": "markdown",
   "metadata": {},
   "source": [
    "Use the *RunEngine* to acquire one image."
   ]
  },
  {
   "cell_type": "code",
   "execution_count": 9,
   "metadata": {},
   "outputs": [
    {
     "output_type": "stream",
     "name": "stdout",
     "text": "\n\nTransient Scan ID: 1     Time: 2020-05-16 13:59:07\nPersistent Unique Scan ID: '931f2b22-4f9c-42f2-9921-122caef4d700'\nNew stream: 'primary'\n+-----------+------------+\n|   seq_num |       time |\n+-----------+------------+\n|         1 | 13:59:07.9 |\n+-----------+------------+\ngenerator count ['931f2b22'] (scan num: 1)\n"
    },
    {
     "output_type": "execute_result",
     "data": {
      "text/plain": "('931f2b22-4f9c-42f2-9921-122caef4d700',)"
     },
     "metadata": {},
     "execution_count": 9
    }
   ],
   "source": [
    "RE(bp.count([adsimdet]))"
   ]
  },
  {
   "cell_type": "markdown",
   "metadata": {},
   "source": [
    "**Display image from EPICS PV data**\n",
    "\n",
    "As noted above, we do not load the image data directly from EPICS PVs at this point for visualization.  Recommended practice with Bluesky is to handle this large data as an \n",
    "external resource using the *databroker*.  The file name and address within the file are \n",
    "stored with data acquisition, then *databroker* is used to access the image data.\n",
    "\n",
    "These next cells show how one might get the image data directly from EPICS.  There\n",
    "are several additional aspects to consider to visualize an image in this way:\n",
    "\n",
    "* For large image data, it may be necessary to have defined \n",
    "  `EPICS_CA_ARRAY_BYTES` before starting the notebook session \n",
    "  *and* having that value set in the IOC.\n",
    "* Large images may stretch available resources on the computer that visualizes the data.\n",
    "* For multi-frame data, the image data may be 3-dimensional.\n",
    "* For a color camera, the image values should consider all colors and data value size.\n",
    "* The byte order or bit order may be different.\n",
    "\n",
    "Use of the plugin chain to handle the image data is recommended to handle all these aspects,\n",
    "simplify client-side software, and avoid writing software that is already written.\n",
    "\n",
    "First, we would need to add the *image* plugin to our area detector configuration,\n",
    "then make an instance with this new definition and repeat the configuration steps:\n",
    "\n",
    "```\n",
    "class MySingleTriggerSimDetector(SingleTrigger, SimDetector): \n",
    "       \n",
    "    image = Component(ImagePlugin, suffix=\"image1:\")\n",
    "\n",
    "adsimdet = MySingleTriggerSimDetector(_ad_prefix, name='adsimdet')\n",
    "adsimdet.wait_for_connection()\n",
    "adsimdet.stage_sigs[\"cam.num_images\"] = 1\n",
    "adsimdet.stage_sigs[\"cam.acquire_time\"] = 0.1\n",
    "adsimdet.stage_sigs[\"cam.acquire_period\"] = 0.25\n",
    "```\n",
    "\n",
    "The image comes from EPICS AD as a 1-D array, row by row.\n",
    "Here, we know it is a 2-D array (in the general case, \n",
    "we'd to learn that from EPICS).\n",
    "To make it into a 2-D array, we first need to\n",
    "get the number of rows and columns from the image plugin.\n",
    "\n",
    "```\n",
    "array_size = adsimdet.image.array_size.get()\n",
    "shape = (array_size.height, array_size.width)\n",
    "```\n",
    "\n",
    "Now, get the image and make it a 2-D array.\n",
    "\n",
    "```\n",
    "im = adsimdet.image.array_data.get().reshape(shape)\n",
    "```\n",
    "\n",
    "Tell MatPlotLib to show the image.\n",
    "\n",
    "```\n",
    "# show the image\n",
    "plt.imshow(im)\n",
    "```\n",
    "\n",
    "You could make these steps into a Python function:\n",
    "\n",
    "```\n",
    "def show_ad_image(det):\n",
    "    array_size = det.image.array_size.get()\n",
    "    shape = (array_size.height, array_size.width)\n",
    "    im = det.image.array_data.get().reshape(shape)\n",
    "    plt.imshow(im)\n",
    "```\n",
    "\n",
    "and then call that function:\n",
    "\n",
    "```\n",
    "show_ad_image(adsimdet)\n",
    "```\n"
   ]
  },
  {
   "cell_type": "markdown",
   "metadata": {},
   "source": [
    "## Use HDF file saving plugin\n",
    "\n",
    "Use the EPICS Area Detector HDF (HDF5) File saving plugin to \n",
    "save image(s) to HDF5 file.  We'll need more tools from the \n",
    "ophyd package to configure the plugin."
   ]
  },
  {
   "cell_type": "code",
   "execution_count": 10,
   "metadata": {},
   "outputs": [],
   "source": [
    "from ophyd.areadetector import ADComponent\n",
    "from ophyd.areadetector import EpicsSignalWithRBV\n",
    "from ophyd.areadetector import HDF5Plugin\n",
    "from ophyd.areadetector.filestore_mixins import FileStoreHDF5IterativeWrite"
   ]
  },
  {
   "cell_type": "markdown",
   "metadata": {},
   "source": [
    "The first thing we need to do is to modify the existing support\n",
    "since we had a few problems when developing this tutorial.\n",
    "These steps could be removed when the problems are fixed.\n",
    "\n",
    "* `create_directory_depth` : Allow access to create subdirectories on demand.\n",
    "* `array_callbacks` : Reveal in ophyd interface.\n",
    "* `pool_max_buffers` : remove this attribute (set it to `None` instead of using `del`).\n",
    "* `get_frames_per_point()` : needed by databroker, \n",
    "  returns the number of frames that were received with a \n",
    "  single acquisition."
   ]
  },
  {
   "cell_type": "code",
   "execution_count": 11,
   "metadata": {},
   "outputs": [],
   "source": [
    "class MyHDF5Plugin(HDF5Plugin, FileStoreHDF5IterativeWrite):\n",
    "    create_directory_depth = Component(EpicsSignalWithRBV, suffix=\"CreateDirectory\")\n",
    "    array_callbacks = Component(EpicsSignalWithRBV, suffix=\"ArrayCallbacks\")\n",
    "\n",
    "    pool_max_buffers = None\n",
    "    \n",
    "    def get_frames_per_point(self):\n",
    "        return self.num_capture.get()\n",
    "\n",
    "    def stage(self):\n",
    "        super().stage()\n",
    "        res_kwargs = {'frame_per_point': self.get_frames_per_point()}\n",
    "        # res_kwargs = {'frame_per_point': self.num_capture.get()}\n",
    "        self._generate_resource(res_kwargs)"
   ]
  },
  {
   "cell_type": "markdown",
   "metadata": {},
   "source": [
    "We're using an IOC that writes to a different file system than our notebook.\n",
    "Our IOC is running from a docker container.  We tell the HDF5 plugin to write\n",
    "files to `/tmp/simdet/YEAR/MONTH/DAY/FILENAME.h5` in the IOC's filesystem.\n",
    "Our docker container mounts that filesystem in directory `/tmp/iocadsky/tmp` to this notebook can access the same files as `/tmp/iocadsky/tmp/simdet/YEAR/MONTH/DAY/FILENAME.h5`.\n",
    "\n",
    "Databroker is designed to reference the file locations based on a \n",
    "directory path relative to some directory.  This allows the collected \n",
    "filesystem to be moved to other directories (such as a copy to take home), \n",
    "yet still be found by databroker.  To enable this, the ophyd support \n",
    "must be able to separate the directory path into base and relocatable parts.\n",
    "\n",
    "In the setup below, we use three variables to define these parts:\n",
    "\n",
    "variable | meaning\n",
    ":---- | :----\n",
    "`WRITE_HDF5_FILE_PATH` | directory path seen by EPICS area detector IOC\n",
    "`READ_HDF5_FILE_PATH` | directory path seen by bluesky during data acquisition\n",
    "`DATABROKER_ROOT_PATH` | base (common part) directory path\n"
   ]
  },
  {
   "cell_type": "code",
   "execution_count": 12,
   "metadata": {},
   "outputs": [],
   "source": [
    "DATABROKER_ROOT_PATH = \"/tmp/\"\n",
    "\n",
    "# note: AD path MUST, must, MUST have trailing \"/\"!!!\n",
    "#  ...and... start with the same path defined in root (above)\n",
    "\n",
    "# path as seen by detector IOC\n",
    "WRITE_HDF5_FILE_PATH = \"/tmp/simdet/%Y/%m/%d/\"\n",
    "#!!! NOTE !!! This filesystem is on the IOC\n",
    "\n",
    "# path as seen by bluesky data acquistion\n",
    "READ_HDF5_FILE_PATH = \"/tmp/docker_ioc/iocadsky/tmp/simdet/%Y/%m/%d/\""
   ]
  },
  {
   "cell_type": "markdown",
   "metadata": {},
   "source": [
    "Re-write our custom detector class to include the HDF File Writing plugin.  Use our custom plugin support since we modified the support.\n",
    "\n",
    "Also, we have added support for the Image plugin so we can, as is common practice, observe the acquired image with a GUI tool such as ImageJ or caQtDM.  However, those GUI tools are not part of this tutorial."
   ]
  },
  {
   "cell_type": "code",
   "execution_count": 13,
   "metadata": {},
   "outputs": [],
   "source": [
    "class MySingleTriggerSimDetector(SingleTrigger, SimDetector): \n",
    "       \n",
    "    image = Component(ImagePlugin, suffix=\"image1:\")\n",
    "    hdf1 = ADComponent(\n",
    "        MyHDF5Plugin,\n",
    "        suffix='HDF1:', \n",
    "        root=DATABROKER_ROOT_PATH,\n",
    "        write_path_template = WRITE_HDF5_FILE_PATH,\n",
    "        read_path_template = READ_HDF5_FILE_PATH,\n",
    "    )"
   ]
  },
  {
   "cell_type": "markdown",
   "metadata": {},
   "source": [
    "Make an instance of this class.  It may not be necessary to add the `wait_for_connection()` command but it is good practice.\n",
    "\n",
    "We'll need to configure the HDF plugin for image per capture (it does not get this automatically from the `cam` module)."
   ]
  },
  {
   "cell_type": "code",
   "execution_count": 14,
   "metadata": {},
   "outputs": [],
   "source": [
    "adsimdet = MySingleTriggerSimDetector(_ad_prefix, name='adsimdet')\n",
    "adsimdet.wait_for_connection()\n",
    "adsimdet.stage_sigs[\"cam.num_images\"] = 1\n",
    "adsimdet.stage_sigs[\"cam.acquire_time\"] = 0.1\n",
    "adsimdet.stage_sigs[\"cam.acquire_period\"] = 0.25\n",
    "adsimdet.hdf1.stage_sigs[\"num_capture\"] = 1"
   ]
  },
  {
   "cell_type": "markdown",
   "metadata": {},
   "source": [
    "Show the items that will be staged."
   ]
  },
  {
   "cell_type": "code",
   "execution_count": 15,
   "metadata": {},
   "outputs": [
    {
     "output_type": "execute_result",
     "data": {
      "text/plain": "OrderedDict([('cam.acquire', 0),\n             ('cam.image_mode', 1),\n             ('cam.num_images', 1),\n             ('cam.acquire_time', 0.1),\n             ('cam.acquire_period', 0.25)])"
     },
     "metadata": {},
     "execution_count": 15
    }
   ],
   "source": [
    "adsimdet.stage_sigs"
   ]
  },
  {
   "cell_type": "code",
   "execution_count": 16,
   "metadata": {},
   "outputs": [
    {
     "output_type": "execute_result",
     "data": {
      "text/plain": "OrderedDict([('enable', 1),\n             ('auto_increment', 'Yes'),\n             ('array_counter', 0),\n             ('auto_save', 'Yes'),\n             ('num_capture', 1),\n             ('file_template', '%s%s_%6.6d.h5'),\n             ('file_write_mode', 'Stream'),\n             ('capture', 1),\n             ('blocking_callbacks', 'Yes'),\n             ('parent.cam.array_callbacks', 1)])"
     },
     "metadata": {},
     "execution_count": 16
    }
   ],
   "source": [
    "adsimdet.hdf1.stage_sigs"
   ]
  },
  {
   "cell_type": "markdown",
   "metadata": {},
   "source": [
    "Just a bit more configuration of the HDF plugin.  \n",
    "\n",
    "We add it to the `adsimdet.read_attrs` list so that the HDF plugin returns some useful data when `adsimdet` is read during acquistion (by `adsimdet.read()`).\n",
    "\n",
    "We allow the HDF plugin to create up to 5 subdirectories when writing the image to an HDF5 file.  We need that since we have built the year, month, and date into the file path."
   ]
  },
  {
   "cell_type": "code",
   "execution_count": 17,
   "metadata": {},
   "outputs": [],
   "source": [
    "adsimdet.read_attrs.append(\"hdf1\")\n",
    "if adsimdet.hdf1.create_directory_depth.get() == 0:\n",
    "    # probably not set, so let's set it now to some default\n",
    "    adsimdet.hdf1.create_directory_depth.put(-5)"
   ]
  },
  {
   "cell_type": "markdown",
   "metadata": {},
   "source": [
    "**Prime the area detector file writing plugin**\n",
    "\n",
    "EPICS AreaDetector file-saving plugins (such as \n",
    "the HDF plugin) must be primed before they can be \n",
    "used.  Priming must be done in these situations:\n",
    "\n",
    "* the IOC has just started\n",
    "* the image size has changed\n",
    "\n",
    "If you do not prime the detector and its plugin chain, *ophyd* will report an *UnprimedPlugin* error like this if you try to trigger (acquire data from) the detector:\n",
    "\n",
    "```\n",
    "UnprimedPlugin: The plugin hdf1 on the area detector with name DETECTOR_NAME has not been primed.\n",
    "```\n",
    "\n",
    "To prime the HDF plugin, call its `warmup()` method."
   ]
  },
  {
   "cell_type": "code",
   "execution_count": 18,
   "metadata": {},
   "outputs": [],
   "source": [
    "enabled = adsimdet.hdf1.enable.get()\n",
    "adsimdet.hdf1.warmup()\n",
    "adsimdet.hdf1.enable.put(enabled)"
   ]
  },
  {
   "cell_type": "markdown",
   "metadata": {},
   "source": [
    "Acquire an image and save it to an HDF5 file.  Print out \n",
    "the name of the file (on the IOC filesystem)."
   ]
  },
  {
   "cell_type": "code",
   "execution_count": 19,
   "metadata": {},
   "outputs": [
    {
     "output_type": "stream",
     "name": "stdout",
     "text": "frames/point: 1\n\n\nTransient Scan ID: 2     Time: 2020-05-16 13:59:12\nPersistent Unique Scan ID: 'b761689f-ec6f-44b5-a862-c9b2ceb3d820'\nNew stream: 'primary'\n+-----------+------------+\n|   seq_num |       time |\n+-----------+------------+\n|         1 | 13:59:12.9 |\n+-----------+------------+\ngenerator count ['b761689f'] (scan num: 2)\n/tmp/simdet/2020/05/16/ec0e1c0a-6d32-4f06-8606_000000.h5\n"
    }
   ],
   "source": [
    "print(f\"frames/point: {adsimdet.hdf1.get_frames_per_point()}\")\n",
    "RE(bp.count([adsimdet]))\n",
    "print(adsimdet.hdf1.full_file_name.get())"
   ]
  },
  {
   "cell_type": "markdown",
   "metadata": {},
   "source": [
    "## Show the image\n",
    "\n",
    "Now, use *databroker* to retrieve that data and show the image.  We imported the `db` symbol (instance of the *databroker*) with the instrument package.  The most recent data is accessed using a list-style reference.  The symbol `h` is customary to use as a run *header* in reference to the most recent data."
   ]
  },
  {
   "cell_type": "code",
   "execution_count": 20,
   "metadata": {},
   "outputs": [],
   "source": [
    "h = db[-1]"
   ]
  },
  {
   "cell_type": "markdown",
   "metadata": {},
   "source": [
    "Just to be informative, show all the documents from the most recent data.  Look for the *resource* document that describes the details of the image file."
   ]
  },
  {
   "cell_type": "code",
   "execution_count": 21,
   "metadata": {},
   "outputs": [
    {
     "output_type": "stream",
     "name": "stdout",
     "text": "start \nRun Start\n=========\nbeamline_id     : APS lesson                              \ndetectors       : ['adsimdet']                            \nhints           :\n  dimensions      : [[['time'], 'primary']]                 \nlogin_id        : prjemian@poof                           \nnum_intervals   : 0                                       \nnum_points      : 1                                       \npid             : 31285                                   \nplan_args       :\n  detectors       : [\"MySingleTriggerSimDetector(prefix='adsky:', name='adsimdet', read_attrs=['hdf1'], configuration_attrs=['cam', 'cam.acquire_period', 'cam.acquire_time', 'cam.image_mode', 'cam.manufacturer', 'cam.model', 'cam.num_exposures', 'cam.trigger_mode', 'hdf1'])\"]\n  num             : 1                                       \nplan_name       : count                                   \nplan_type       : generator                               \nproposal_id     : testing                                 \nscan_id         : 2                                       \ntime            : 1589655552.753227                       \nuid             : b761689f-ec6f-44b5-a862-c9b2ceb3d820    \nversions        :\n  apstools        : 1.2.3                                   \n  bluesky         : 1.6.0                                   \n  databroker      : 1.0.2                                   \n  epics           : 3.4.1                                   \n  matplotlib      : 3.1.3                                   \n  numpy           : 1.18.1                                  \n  ophyd           : 1.5.0                                   \n  pyRestTable     : 2020.0.2                                \n  spec2nexus      : 2021.1.7                                \n----------------------------------------\ndescriptor \nEvent Descriptor\n================\nconfiguration   :\n      adsimdet_cam_acq: 0.25                                    \n      adsimdet_cam_acq: 0.1                                     \n      adsimdet_cam_ima: 1                                       \n      adsimdet_cam_man: Simulated detector                      \n      adsimdet_cam_mod: Basic simulator                         \n      adsimdet_cam_num: 1                                       \n      adsimdet_cam_tri: 0                                       \n      adsimdet_cam_acq: 1589655552.194608                       \n      adsimdet_cam_acq: 1589655552.194                          \n      adsimdet_cam_ima: 1589655552.193175                       \n      adsimdet_cam_man: 1589655512.975452                       \n      adsimdet_cam_mod: 1589655512.975456                       \n      adsimdet_cam_num: 1589655512.975577                       \n      adsimdet_cam_tri: 1589655512.975629                       \n        source          : PV:adsky:cam1:AcquirePeriod_RBV         \n        dtype           : number                                  \n        shape           : []                                      \n        units           :                                         \n        lower_ctrl_limit: 0.0                                     \n        upper_ctrl_limit: 0.0                                     \n        precision       : 3                                       \n        source          : PV:adsky:cam1:AcquireTime_RBV           \n        dtype           : number                                  \n        shape           : []                                      \n        units           :                                         \n        lower_ctrl_limit: 0.0                                     \n        upper_ctrl_limit: 0.0                                     \n        precision       : 3                                       \n        source          : PV:adsky:cam1:ImageMode_RBV             \n        dtype           : integer                                 \n        shape           : []                                      \n        units           : None                                    \n        lower_ctrl_limit: None                                    \n        upper_ctrl_limit: None                                    \n        enum_strs       : ['Single', 'Multiple', 'Continuous']    \n        source          : PV:adsky:cam1:Manufacturer_RBV          \n        dtype           : string                                  \n        shape           : []                                      \n        units           : None                                    \n        lower_ctrl_limit: None                                    \n        upper_ctrl_limit: None                                    \n        source          : PV:adsky:cam1:Model_RBV                 \n        dtype           : string                                  \n        shape           : []                                      \n        units           : None                                    \n        lower_ctrl_limit: None                                    \n        upper_ctrl_limit: None                                    \n        source          : PV:adsky:cam1:NumExposures_RBV          \n        dtype           : integer                                 \n        shape           : []                                      \n        units           :                                         \n        lower_ctrl_limit: 0                                       \n        upper_ctrl_limit: 0                                       \n        source          : PV:adsky:cam1:TriggerMode_RBV           \n        dtype           : integer                                 \n        shape           : []                                      \n        units           : None                                    \n        lower_ctrl_limit: None                                    \n        upper_ctrl_limit: None                                    \n        enum_strs       : ['Internal', 'External']                \n+----------------+-------+------------+-------------+-----------------+-----------+\n| data keys      | dtype |  external  | object_name |      shape      |   source  |\n+----------------+-------+------------+-------------+-----------------+-----------+\n| adsimdet_image | array | FILESTORE: |   adsimdet  | [1024, 1024, 0] | PV:adsky: |\n+----------------+-------+------------+-------------+-----------------+-----------+\nhints           :\n    fields          : []                                      \nname            : primary                                 \nobject_keys     :\n  adsimdet        : ['adsimdet_image']                      \nrun_start       : b761689f-ec6f-44b5-a862-c9b2ceb3d820    \ntime            : 1589655552.9516096                      \nuid             : 835db081-889b-4b4e-b21e-98950d018b54    \n----------------------------------------\nresource \nResource\n========\npath_semantics  : posix                                   \nresource_kwargs :\n  frame_per_point : 1                                       \nresource_path   : docker_ioc/iocadsky/tmp/simdet/2020/05/16/ec0e1c0a-6d32-4f06-8606_000000.h5\nroot            : /tmp                                    \nrun_start       : b761689f-ec6f-44b5-a862-c9b2ceb3d820    \nspec            : AD_HDF5                                 \nuid             : 43f0b39c-3f34-44c0-b815-ff2cc4c7d167    \n----------------------------------------\nresource \nResource\n========\npath_semantics  : posix                                   \nresource_kwargs :\n  frame_per_point : 1                                       \nresource_path   : docker_ioc/iocadsky/tmp/simdet/2020/05/16/ec0e1c0a-6d32-4f06-8606_000000.h5\nroot            : /tmp                                    \nrun_start       : b761689f-ec6f-44b5-a862-c9b2ceb3d820    \nspec            : AD_HDF5                                 \nuid             : a33d7a48-b751-4a4d-82fd-76bf9f544011    \n----------------------------------------\ndatum \nDatum\n=====\ndatum_id        : a33d7a48-b751-4a4d-82fd-76bf9f544011/0  \ndatum_kwargs    :\n  point_number    : 0                                       \nresource        : a33d7a48-b751-4a4d-82fd-76bf9f544011    \n----------------------------------------\nevent \nEvent\n=====\ndata            :\n  adsimdet_image  : a33d7a48-b751-4a4d-82fd-76bf9f544011/0  \ndescriptor      : 835db081-889b-4b4e-b21e-98950d018b54    \nfilled          :\n  adsimdet_image  : False                                   \nseq_num         : 1                                       \ntime            : 1589655552.9566658                      \ntimestamps      :\n  adsimdet_image  : 1589655552.7591739                      \nuid             : e1570df6-c114-48f8-9491-587b541939d8    \n----------------------------------------\nstop \nRun Stop\n========\nexit_status     : success                                 \nnum_events      :\n  primary         : 1                                       \nreason          :                                         \nrun_start       : b761689f-ec6f-44b5-a862-c9b2ceb3d820    \ntime            : 1589655552.9572377                      \nuid             : 3a76df5b-502d-48c1-a934-28cd38a02807    \n----------------------------------------\n"
    }
   ],
   "source": [
    "for entry in h.documents():\n",
    "    key, doc = entry\n",
    "    print(key, doc)\n",
    "    print(\"-\"*40)"
   ]
  },
  {
   "cell_type": "markdown",
   "metadata": {},
   "source": [
    "Show the image the last data with matplotlib."
   ]
  },
  {
   "cell_type": "code",
   "execution_count": 22,
   "metadata": {
    "scrolled": true
   },
   "outputs": [
    {
     "output_type": "execute_result",
     "data": {
      "text/plain": "<matplotlib.image.AxesImage at 0x7f5fd049de90>"
     },
     "metadata": {},
     "execution_count": 22
    },
    {
     "output_type": "display_data",
     "data": {
      "text/plain": "<Figure size 432x288 with 1 Axes>",
      "image/svg+xml": "<?xml version=\"1.0\" encoding=\"utf-8\" standalone=\"no\"?>\n<!DOCTYPE svg PUBLIC \"-//W3C//DTD SVG 1.1//EN\"\n  \"http://www.w3.org/Graphics/SVG/1.1/DTD/svg11.dtd\">\n<!-- Created with matplotlib (https://matplotlib.org/) -->\n<svg height=\"252.211172pt\" version=\"1.1\" viewBox=\"0 0 272.024922 252.211172\" width=\"272.024922pt\" xmlns=\"http://www.w3.org/2000/svg\" xmlns:xlink=\"http://www.w3.org/1999/xlink\">\n <defs>\n  <style type=\"text/css\">\n*{stroke-linecap:butt;stroke-linejoin:round;}\n  </style>\n </defs>\n <g id=\"figure_1\">\n  <g id=\"patch_1\">\n   <path d=\"M 0 252.211172 \nL 272.024922 252.211172 \nL 272.024922 0 \nL 0 0 \nz\n\" style=\"fill:none;\"/>\n  </g>\n  <g id=\"axes_1\">\n   <g id=\"patch_2\">\n    <path d=\"M 39.65 228.333047 \nL 257.09 228.333047 \nL 257.09 10.893047 \nL 39.65 10.893047 \nz\n\" style=\"fill:#ffffff;\"/>\n   </g>\n   <g clip-path=\"url(#p16c63ac4a0)\">\n    <image height=\"218\" id=\"image997dcf3704\" transform=\"scale(1 -1)translate(0 -218)\" width=\"218\" x=\"39.65\" xlink:href=\"data:image/png;base64,\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\" y=\"-10.333047\"/>\n   </g>\n   <g id=\"matplotlib.axis_1\">\n    <g id=\"xtick_1\">\n     <g id=\"line2d_1\">\n      <defs>\n       <path d=\"M 0 0 \nL 0 3.5 \n\" id=\"m94e55a71e2\" style=\"stroke:#000000;stroke-width:0.8;\"/>\n      </defs>\n      <g>\n       <use style=\"stroke:#000000;stroke-width:0.8;\" x=\"39.756172\" xlink:href=\"#m94e55a71e2\" y=\"228.333047\"/>\n      </g>\n     </g>\n     <g id=\"text_1\">\n      <!-- 0 -->\n      <defs>\n       <path d=\"M 31.78125 66.40625 \nQ 24.171875 66.40625 20.328125 58.90625 \nQ 16.5 51.421875 16.5 36.375 \nQ 16.5 21.390625 20.328125 13.890625 \nQ 24.171875 6.390625 31.78125 6.390625 \nQ 39.453125 6.390625 43.28125 13.890625 \nQ 47.125 21.390625 47.125 36.375 \nQ 47.125 51.421875 43.28125 58.90625 \nQ 39.453125 66.40625 31.78125 66.40625 \nz\nM 31.78125 74.21875 \nQ 44.046875 74.21875 50.515625 64.515625 \nQ 56.984375 54.828125 56.984375 36.375 \nQ 56.984375 17.96875 50.515625 8.265625 \nQ 44.046875 -1.421875 31.78125 -1.421875 \nQ 19.53125 -1.421875 13.0625 8.265625 \nQ 6.59375 17.96875 6.59375 36.375 \nQ 6.59375 54.828125 13.0625 64.515625 \nQ 19.53125 74.21875 31.78125 74.21875 \nz\n\" id=\"DejaVuSans-48\"/>\n      </defs>\n      <g transform=\"translate(36.574922 242.931484)scale(0.1 -0.1)\">\n       <use xlink:href=\"#DejaVuSans-48\"/>\n      </g>\n     </g>\n    </g>\n    <g id=\"xtick_2\">\n     <g id=\"line2d_2\">\n      <g>\n       <use style=\"stroke:#000000;stroke-width:0.8;\" x=\"82.224922\" xlink:href=\"#m94e55a71e2\" y=\"228.333047\"/>\n      </g>\n     </g>\n     <g id=\"text_2\">\n      <!-- 200 -->\n      <defs>\n       <path d=\"M 19.1875 8.296875 \nL 53.609375 8.296875 \nL 53.609375 0 \nL 7.328125 0 \nL 7.328125 8.296875 \nQ 12.9375 14.109375 22.625 23.890625 \nQ 32.328125 33.6875 34.8125 36.53125 \nQ 39.546875 41.84375 41.421875 45.53125 \nQ 43.3125 49.21875 43.3125 52.78125 \nQ 43.3125 58.59375 39.234375 62.25 \nQ 35.15625 65.921875 28.609375 65.921875 \nQ 23.96875 65.921875 18.8125 64.3125 \nQ 13.671875 62.703125 7.8125 59.421875 \nL 7.8125 69.390625 \nQ 13.765625 71.78125 18.9375 73 \nQ 24.125 74.21875 28.421875 74.21875 \nQ 39.75 74.21875 46.484375 68.546875 \nQ 53.21875 62.890625 53.21875 53.421875 \nQ 53.21875 48.921875 51.53125 44.890625 \nQ 49.859375 40.875 45.40625 35.40625 \nQ 44.1875 33.984375 37.640625 27.21875 \nQ 31.109375 20.453125 19.1875 8.296875 \nz\n\" id=\"DejaVuSans-50\"/>\n      </defs>\n      <g transform=\"translate(72.681172 242.931484)scale(0.1 -0.1)\">\n       <use xlink:href=\"#DejaVuSans-50\"/>\n       <use x=\"63.623047\" xlink:href=\"#DejaVuSans-48\"/>\n       <use x=\"127.246094\" xlink:href=\"#DejaVuSans-48\"/>\n      </g>\n     </g>\n    </g>\n    <g id=\"xtick_3\">\n     <g id=\"line2d_3\">\n      <g>\n       <use style=\"stroke:#000000;stroke-width:0.8;\" x=\"124.693672\" xlink:href=\"#m94e55a71e2\" y=\"228.333047\"/>\n      </g>\n     </g>\n     <g id=\"text_3\">\n      <!-- 400 -->\n      <defs>\n       <path d=\"M 37.796875 64.3125 \nL 12.890625 25.390625 \nL 37.796875 25.390625 \nz\nM 35.203125 72.90625 \nL 47.609375 72.90625 \nL 47.609375 25.390625 \nL 58.015625 25.390625 \nL 58.015625 17.1875 \nL 47.609375 17.1875 \nL 47.609375 0 \nL 37.796875 0 \nL 37.796875 17.1875 \nL 4.890625 17.1875 \nL 4.890625 26.703125 \nz\n\" id=\"DejaVuSans-52\"/>\n      </defs>\n      <g transform=\"translate(115.149922 242.931484)scale(0.1 -0.1)\">\n       <use xlink:href=\"#DejaVuSans-52\"/>\n       <use x=\"63.623047\" xlink:href=\"#DejaVuSans-48\"/>\n       <use x=\"127.246094\" xlink:href=\"#DejaVuSans-48\"/>\n      </g>\n     </g>\n    </g>\n    <g id=\"xtick_4\">\n     <g id=\"line2d_4\">\n      <g>\n       <use style=\"stroke:#000000;stroke-width:0.8;\" x=\"167.162422\" xlink:href=\"#m94e55a71e2\" y=\"228.333047\"/>\n      </g>\n     </g>\n     <g id=\"text_4\">\n      <!-- 600 -->\n      <defs>\n       <path d=\"M 33.015625 40.375 \nQ 26.375 40.375 22.484375 35.828125 \nQ 18.609375 31.296875 18.609375 23.390625 \nQ 18.609375 15.53125 22.484375 10.953125 \nQ 26.375 6.390625 33.015625 6.390625 \nQ 39.65625 6.390625 43.53125 10.953125 \nQ 47.40625 15.53125 47.40625 23.390625 \nQ 47.40625 31.296875 43.53125 35.828125 \nQ 39.65625 40.375 33.015625 40.375 \nz\nM 52.59375 71.296875 \nL 52.59375 62.3125 \nQ 48.875 64.0625 45.09375 64.984375 \nQ 41.3125 65.921875 37.59375 65.921875 \nQ 27.828125 65.921875 22.671875 59.328125 \nQ 17.53125 52.734375 16.796875 39.40625 \nQ 19.671875 43.65625 24.015625 45.921875 \nQ 28.375 48.1875 33.59375 48.1875 \nQ 44.578125 48.1875 50.953125 41.515625 \nQ 57.328125 34.859375 57.328125 23.390625 \nQ 57.328125 12.15625 50.6875 5.359375 \nQ 44.046875 -1.421875 33.015625 -1.421875 \nQ 20.359375 -1.421875 13.671875 8.265625 \nQ 6.984375 17.96875 6.984375 36.375 \nQ 6.984375 53.65625 15.1875 63.9375 \nQ 23.390625 74.21875 37.203125 74.21875 \nQ 40.921875 74.21875 44.703125 73.484375 \nQ 48.484375 72.75 52.59375 71.296875 \nz\n\" id=\"DejaVuSans-54\"/>\n      </defs>\n      <g transform=\"translate(157.618672 242.931484)scale(0.1 -0.1)\">\n       <use xlink:href=\"#DejaVuSans-54\"/>\n       <use x=\"63.623047\" xlink:href=\"#DejaVuSans-48\"/>\n       <use x=\"127.246094\" xlink:href=\"#DejaVuSans-48\"/>\n      </g>\n     </g>\n    </g>\n    <g id=\"xtick_5\">\n     <g id=\"line2d_5\">\n      <g>\n       <use style=\"stroke:#000000;stroke-width:0.8;\" x=\"209.631172\" xlink:href=\"#m94e55a71e2\" y=\"228.333047\"/>\n      </g>\n     </g>\n     <g id=\"text_5\">\n      <!-- 800 -->\n      <defs>\n       <path d=\"M 31.78125 34.625 \nQ 24.75 34.625 20.71875 30.859375 \nQ 16.703125 27.09375 16.703125 20.515625 \nQ 16.703125 13.921875 20.71875 10.15625 \nQ 24.75 6.390625 31.78125 6.390625 \nQ 38.8125 6.390625 42.859375 10.171875 \nQ 46.921875 13.96875 46.921875 20.515625 \nQ 46.921875 27.09375 42.890625 30.859375 \nQ 38.875 34.625 31.78125 34.625 \nz\nM 21.921875 38.8125 \nQ 15.578125 40.375 12.03125 44.71875 \nQ 8.5 49.078125 8.5 55.328125 \nQ 8.5 64.0625 14.71875 69.140625 \nQ 20.953125 74.21875 31.78125 74.21875 \nQ 42.671875 74.21875 48.875 69.140625 \nQ 55.078125 64.0625 55.078125 55.328125 \nQ 55.078125 49.078125 51.53125 44.71875 \nQ 48 40.375 41.703125 38.8125 \nQ 48.828125 37.15625 52.796875 32.3125 \nQ 56.78125 27.484375 56.78125 20.515625 \nQ 56.78125 9.90625 50.3125 4.234375 \nQ 43.84375 -1.421875 31.78125 -1.421875 \nQ 19.734375 -1.421875 13.25 4.234375 \nQ 6.78125 9.90625 6.78125 20.515625 \nQ 6.78125 27.484375 10.78125 32.3125 \nQ 14.796875 37.15625 21.921875 38.8125 \nz\nM 18.3125 54.390625 \nQ 18.3125 48.734375 21.84375 45.5625 \nQ 25.390625 42.390625 31.78125 42.390625 \nQ 38.140625 42.390625 41.71875 45.5625 \nQ 45.3125 48.734375 45.3125 54.390625 \nQ 45.3125 60.0625 41.71875 63.234375 \nQ 38.140625 66.40625 31.78125 66.40625 \nQ 25.390625 66.40625 21.84375 63.234375 \nQ 18.3125 60.0625 18.3125 54.390625 \nz\n\" id=\"DejaVuSans-56\"/>\n      </defs>\n      <g transform=\"translate(200.087422 242.931484)scale(0.1 -0.1)\">\n       <use xlink:href=\"#DejaVuSans-56\"/>\n       <use x=\"63.623047\" xlink:href=\"#DejaVuSans-48\"/>\n       <use x=\"127.246094\" xlink:href=\"#DejaVuSans-48\"/>\n      </g>\n     </g>\n    </g>\n    <g id=\"xtick_6\">\n     <g id=\"line2d_6\">\n      <g>\n       <use style=\"stroke:#000000;stroke-width:0.8;\" x=\"252.099922\" xlink:href=\"#m94e55a71e2\" y=\"228.333047\"/>\n      </g>\n     </g>\n     <g id=\"text_6\">\n      <!-- 1000 -->\n      <defs>\n       <path d=\"M 12.40625 8.296875 \nL 28.515625 8.296875 \nL 28.515625 63.921875 \nL 10.984375 60.40625 \nL 10.984375 69.390625 \nL 28.421875 72.90625 \nL 38.28125 72.90625 \nL 38.28125 8.296875 \nL 54.390625 8.296875 \nL 54.390625 0 \nL 12.40625 0 \nz\n\" id=\"DejaVuSans-49\"/>\n      </defs>\n      <g transform=\"translate(239.374922 242.931484)scale(0.1 -0.1)\">\n       <use xlink:href=\"#DejaVuSans-49\"/>\n       <use x=\"63.623047\" xlink:href=\"#DejaVuSans-48\"/>\n       <use x=\"127.246094\" xlink:href=\"#DejaVuSans-48\"/>\n       <use x=\"190.869141\" xlink:href=\"#DejaVuSans-48\"/>\n      </g>\n     </g>\n    </g>\n   </g>\n   <g id=\"matplotlib.axis_2\">\n    <g id=\"ytick_1\">\n     <g id=\"line2d_7\">\n      <defs>\n       <path d=\"M 0 0 \nL -3.5 0 \n\" id=\"mb65970f2f6\" style=\"stroke:#000000;stroke-width:0.8;\"/>\n      </defs>\n      <g>\n       <use style=\"stroke:#000000;stroke-width:0.8;\" x=\"39.65\" xlink:href=\"#mb65970f2f6\" y=\"10.999219\"/>\n      </g>\n     </g>\n     <g id=\"text_7\">\n      <!-- 0 -->\n      <g transform=\"translate(26.2875 14.798437)scale(0.1 -0.1)\">\n       <use xlink:href=\"#DejaVuSans-48\"/>\n      </g>\n     </g>\n    </g>\n    <g id=\"ytick_2\">\n     <g id=\"line2d_8\">\n      <g>\n       <use style=\"stroke:#000000;stroke-width:0.8;\" x=\"39.65\" xlink:href=\"#mb65970f2f6\" y=\"53.467969\"/>\n      </g>\n     </g>\n     <g id=\"text_8\">\n      <!-- 200 -->\n      <g transform=\"translate(13.5625 57.267187)scale(0.1 -0.1)\">\n       <use xlink:href=\"#DejaVuSans-50\"/>\n       <use x=\"63.623047\" xlink:href=\"#DejaVuSans-48\"/>\n       <use x=\"127.246094\" xlink:href=\"#DejaVuSans-48\"/>\n      </g>\n     </g>\n    </g>\n    <g id=\"ytick_3\">\n     <g id=\"line2d_9\">\n      <g>\n       <use style=\"stroke:#000000;stroke-width:0.8;\" x=\"39.65\" xlink:href=\"#mb65970f2f6\" y=\"95.936719\"/>\n      </g>\n     </g>\n     <g id=\"text_9\">\n      <!-- 400 -->\n      <g transform=\"translate(13.5625 99.735937)scale(0.1 -0.1)\">\n       <use xlink:href=\"#DejaVuSans-52\"/>\n       <use x=\"63.623047\" xlink:href=\"#DejaVuSans-48\"/>\n       <use x=\"127.246094\" xlink:href=\"#DejaVuSans-48\"/>\n      </g>\n     </g>\n    </g>\n    <g id=\"ytick_4\">\n     <g id=\"line2d_10\">\n      <g>\n       <use style=\"stroke:#000000;stroke-width:0.8;\" x=\"39.65\" xlink:href=\"#mb65970f2f6\" y=\"138.405469\"/>\n      </g>\n     </g>\n     <g id=\"text_10\">\n      <!-- 600 -->\n      <g transform=\"translate(13.5625 142.204687)scale(0.1 -0.1)\">\n       <use xlink:href=\"#DejaVuSans-54\"/>\n       <use x=\"63.623047\" xlink:href=\"#DejaVuSans-48\"/>\n       <use x=\"127.246094\" xlink:href=\"#DejaVuSans-48\"/>\n      </g>\n     </g>\n    </g>\n    <g id=\"ytick_5\">\n     <g id=\"line2d_11\">\n      <g>\n       <use style=\"stroke:#000000;stroke-width:0.8;\" x=\"39.65\" xlink:href=\"#mb65970f2f6\" y=\"180.874219\"/>\n      </g>\n     </g>\n     <g id=\"text_11\">\n      <!-- 800 -->\n      <g transform=\"translate(13.5625 184.673437)scale(0.1 -0.1)\">\n       <use xlink:href=\"#DejaVuSans-56\"/>\n       <use x=\"63.623047\" xlink:href=\"#DejaVuSans-48\"/>\n       <use x=\"127.246094\" xlink:href=\"#DejaVuSans-48\"/>\n      </g>\n     </g>\n    </g>\n    <g id=\"ytick_6\">\n     <g id=\"line2d_12\">\n      <g>\n       <use style=\"stroke:#000000;stroke-width:0.8;\" x=\"39.65\" xlink:href=\"#mb65970f2f6\" y=\"223.342969\"/>\n      </g>\n     </g>\n     <g id=\"text_12\">\n      <!-- 1000 -->\n      <g transform=\"translate(7.2 227.142187)scale(0.1 -0.1)\">\n       <use xlink:href=\"#DejaVuSans-49\"/>\n       <use x=\"63.623047\" xlink:href=\"#DejaVuSans-48\"/>\n       <use x=\"127.246094\" xlink:href=\"#DejaVuSans-48\"/>\n       <use x=\"190.869141\" xlink:href=\"#DejaVuSans-48\"/>\n      </g>\n     </g>\n    </g>\n   </g>\n   <g id=\"patch_3\">\n    <path d=\"M 39.65 228.333047 \nL 39.65 10.893047 \n\" style=\"fill:none;stroke:#000000;stroke-linecap:square;stroke-linejoin:miter;stroke-width:0.8;\"/>\n   </g>\n   <g id=\"patch_4\">\n    <path d=\"M 257.09 228.333047 \nL 257.09 10.893047 \n\" style=\"fill:none;stroke:#000000;stroke-linecap:square;stroke-linejoin:miter;stroke-width:0.8;\"/>\n   </g>\n   <g id=\"patch_5\">\n    <path d=\"M 39.65 228.333047 \nL 257.09 228.333047 \n\" style=\"fill:none;stroke:#000000;stroke-linecap:square;stroke-linejoin:miter;stroke-width:0.8;\"/>\n   </g>\n   <g id=\"patch_6\">\n    <path d=\"M 39.65 10.893047 \nL 257.09 10.893047 \n\" style=\"fill:none;stroke:#000000;stroke-linecap:square;stroke-linejoin:miter;stroke-width:0.8;\"/>\n   </g>\n  </g>\n </g>\n <defs>\n  <clipPath id=\"p16c63ac4a0\">\n   <rect height=\"217.44\" width=\"217.44\" x=\"39.65\" y=\"10.893047\"/>\n  </clipPath>\n </defs>\n</svg>\n",
      "image/png": "[encoded data removed]"
     },
     "metadata": {
      "needs_background": "light"
     }
    }
   ],
   "source": [
    "# get the MatPlotLib tool\n",
    "from instrument.mpl import plt\n",
    "\n",
    "plt.imshow(h.xarray().adsimdet_image[0][0])"
   ]
  },
  {
   "cell_type": "markdown",
   "metadata": {},
   "source": [
    "The structure of the HDF5 file as reported by the \n",
    "punx program (https://punx.readthedocs.io):\n",
    "\n",
    "```\n",
    "  entry:NXentry\n",
    "    data:NXdata\n",
    "      data:NX_UINT8[1,1024,1024] = [ ... ]\n",
    "    instrument:NXinstrument\n",
    "      NDAttributes:NXcollection\n",
    "        NDArrayEpicsTSSec:NX_UINT32 = 958492486\n",
    "        NDArrayEpicsTSnSec:NX_UINT32 = 334947107\n",
    "        NDArrayTimeStamp:NX_FLOAT64 = 958492486.2348573\n",
    "        NDArrayUniqueId:NX_INT32 = 3\n",
    "      detector:NXdetector\n",
    "        data:NX_UINT8[1,1024,1024] = [ ... ]\n",
    "        NDAttributes:NXcollection\n",
    "          ColorMode:NX_INT32 = 0\n",
    "      performance\n",
    "        timestamp:NX_FLOAT64[1,5] = [ ... ]\n",
    "```\n",
    "\n",
    "With attributes shown:\n",
    "\n",
    "```\n",
    "  entry:NXentry\n",
    "    @NX_class = NXentry\n",
    "    data:NXdata\n",
    "      @NX_class = NXdata\n",
    "      data:NX_UINT8[1,1024,1024] = [ ... ]\n",
    "        @NDArrayDimBinning = 1\n",
    "        @NDArrayDimOffset = 0\n",
    "        @NDArrayDimReverse = 0\n",
    "        @NDArrayNumDims = 2\n",
    "        @signal = 1\n",
    "    instrument:NXinstrument\n",
    "      @NX_class = NXinstrument\n",
    "      NDAttributes:NXcollection\n",
    "        @NX_class = NXcollection\n",
    "        @hostname = poof\n",
    "        NDArrayEpicsTSSec:NX_UINT32 = 958492486\n",
    "          @NDAttrDescription = The NDArray EPICS timestamp seconds past epoch\n",
    "          @NDAttrName = NDArrayEpicsTSSec\n",
    "          @NDAttrSource = Driver\n",
    "          @NDAttrSourceType = NDAttrSourceDriver\n",
    "        NDArrayEpicsTSnSec:NX_UINT32 = 334947107\n",
    "          @NDAttrDescription = The NDArray EPICS timestamp nanoseconds\n",
    "          @NDAttrName = NDArrayEpicsTSnSec\n",
    "          @NDAttrSource = Driver\n",
    "          @NDAttrSourceType = NDAttrSourceDriver\n",
    "        NDArrayTimeStamp:NX_FLOAT64 = 958492486.2348573\n",
    "          @NDAttrDescription = The timestamp of the NDArray as float64\n",
    "          @NDAttrName = NDArrayTimeStamp\n",
    "          @NDAttrSource = Driver\n",
    "          @NDAttrSourceType = NDAttrSourceDriver\n",
    "        NDArrayUniqueId:NX_INT32 = 3\n",
    "          @NDAttrDescription = The unique ID of the NDArray\n",
    "          @NDAttrName = NDArrayUniqueId\n",
    "          @NDAttrSource = Driver\n",
    "          @NDAttrSourceType = NDAttrSourceDriver\n",
    "      detector:NXdetector\n",
    "        @NX_class = NXdetector\n",
    "        data:NX_UINT8[1,1024,1024] = [ ... ]\n",
    "          @NDArrayDimBinning = 1\n",
    "          @NDArrayDimOffset = 0\n",
    "          @NDArrayDimReverse = 0\n",
    "          @NDArrayNumDims = 2\n",
    "          @signal = 1\n",
    "        NDAttributes:NXcollection\n",
    "          @NX_class = NXcollection\n",
    "          ColorMode:NX_INT32 = 0\n",
    "            @NDAttrDescription = Color mode\n",
    "            @NDAttrName = ColorMode\n",
    "            @NDAttrSource = Driver\n",
    "            @NDAttrSourceType = NDAttrSourceDriver\n",
    "      performance\n",
    "        timestamp:NX_FLOAT64[1,5] = [ ... ]\n",
    "```\n"
   ]
  }
 ],
 "metadata": {
  "kernelspec": {
   "display_name": "Python 3",
   "language": "python",
   "name": "python3"
  },
  "language_info": {
   "codemirror_mode": {
    "name": "ipython",
    "version": 3
   },
   "file_extension": ".py",
   "mimetype": "text/x-python",
   "name": "python",
   "nbconvert_exporter": "python",
   "pygments_lexer": "ipython3",
   "version": "3.7.7-final"
  }
 },
 "nbformat": 4,
 "nbformat_minor": 4
}