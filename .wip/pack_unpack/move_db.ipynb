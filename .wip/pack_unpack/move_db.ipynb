{
 "cells": [
  {
   "cell_type": "markdown",
   "metadata": {},
   "source": [
    "# move data from one db to another\n",
    "\n",
    "see: https://github.com/APS-3ID-IXN/ipython-s3blue/issues/2"
   ]
  },
  {
   "cell_type": "markdown",
   "metadata": {},
   "source": [
    "the packages we'll be using"
   ]
  },
  {
   "cell_type": "code",
   "execution_count": 1,
   "metadata": {},
   "outputs": [],
   "source": [
    "from databroker import Broker\n",
    "import datetime, os, shutil, time\n",
    "import pyRestTable"
   ]
  },
  {
   "cell_type": "markdown",
   "metadata": {},
   "source": [
    "connect to the database where scans were collected"
   ]
  },
  {
   "cell_type": "code",
   "execution_count": 2,
   "metadata": {},
   "outputs": [],
   "source": [
    "server = \"otz\"\n",
    "otz_config = {\n",
    "    \"description\": \"heavyweight shared database\",\n",
    "    \"metadatastore\": {\n",
    "        \"module\": \"databroker.headersource.mongo\",\n",
    "        \"class\": \"MDS\",\n",
    "        \"config\": {\n",
    "            \"host\": server,\n",
    "            \"port\": 27017,\n",
    "            \"database\": \"metadatastore-production-v1\",\n",
    "            \"timezone\": \"US/Central\"\n",
    "        }\n",
    "    },\n",
    "    \"assets\": {\n",
    "        \"module\": \"databroker.assets.mongo\",\n",
    "        \"class\": \"Registry\",\n",
    "        \"config\": {\n",
    "            \"host\": server,\n",
    "            \"port\": 27017,\n",
    "            \"database\": \"filestore-production-v1\"\n",
    "        }\n",
    "    }\n",
    "}\n",
    "otz_db = Broker.from_config(otz_config)"
   ]
  },
  {
   "cell_type": "markdown",
   "metadata": {},
   "source": [
    "Show the scans between the dates mentioned in the [issue](https://github.com/APS-3ID-IXN/ipython-s3blue/issues/2)"
   ]
  },
  {
   "cell_type": "code",
   "execution_count": 3,
   "metadata": {},
   "outputs": [
    {
     "name": "stdout",
     "output_type": "stream",
     "text": [
      "3-ID s3blue@ni.xray.aps.anl.gov rel_grid_scan\n",
      "3-ID s3blue@ni.xray.aps.anl.gov rel_grid_scan\n",
      "3-ID s3blue@ni.xray.aps.anl.gov rel_grid_scan\n",
      "3-ID s3blue@ni.xray.aps.anl.gov rel_grid_scan\n",
      "3-ID s3blue@ni.xray.aps.anl.gov rel_grid_scan\n",
      "3-ID s3blue@ni.xray.aps.anl.gov rel_grid_scan\n",
      "3-ID s3blue@ni.xray.aps.anl.gov rel_grid_scan\n",
      "3-ID s3blue@ni.xray.aps.anl.gov rel_grid_scan\n",
      "3-ID s3blue@ni.xray.aps.anl.gov rel_grid_scan\n",
      "3-ID s3blue@ni.xray.aps.anl.gov rel_grid_scan\n",
      "3-ID s3blue@ni.xray.aps.anl.gov rel_grid_scan\n",
      "3-ID s3blue@ni.xray.aps.anl.gov rel_grid_scan\n",
      "3-ID s3blue@ni.xray.aps.anl.gov rel_grid_scan\n",
      "3-ID s3blue@ni.xray.aps.anl.gov rel_grid_scan\n",
      "3-ID s3blue@ni.xray.aps.anl.gov rel_grid_scan\n",
      "3-ID s3blue@ni.xray.aps.anl.gov rel_grid_scan\n",
      "3-ID s3blue@ni.xray.aps.anl.gov rel_grid_scan\n",
      "3-ID s3blue@ni.xray.aps.anl.gov rel_grid_scan\n",
      "3-ID s3blue@ni.xray.aps.anl.gov rel_grid_scan\n",
      "3-ID s3blue@ni.xray.aps.anl.gov rel_grid_scan\n",
      "3-ID s3blue@ni.xray.aps.anl.gov rel_grid_scan\n",
      "3-ID s3blue@ni.xray.aps.anl.gov rel_grid_scan\n",
      "3-ID s3blue@ni.xray.aps.anl.gov rel_grid_scan\n",
      "3-ID s3blue@ni.xray.aps.anl.gov rel_grid_scan\n",
      "3-ID s3blue@ni.xray.aps.anl.gov rel_grid_scan\n",
      "3-ID s3blue@ni.xray.aps.anl.gov rel_grid_scan\n",
      "3-ID s3blue@ni.xray.aps.anl.gov rel_grid_scan\n",
      "3-ID s3blue@ni.xray.aps.anl.gov rel_grid_scan\n",
      "3-ID s3blue@ni.xray.aps.anl.gov rel_grid_scan\n",
      "3-ID s3blue@ni.xray.aps.anl.gov rel_grid_scan\n",
      "3-ID s3blue@fe.xray.aps.anl.gov rel_grid_scan\n",
      "3-ID s3blue@fe.xray.aps.anl.gov rel_grid_scan\n",
      "3-ID s3blue@fe.xray.aps.anl.gov rel_grid_scan\n",
      "3-ID s3blue@dy.xray.aps.anl.gov rel_grid_scan\n",
      "3-ID s3blue@dy.xray.aps.anl.gov rel_grid_scan\n",
      "3-ID s3blue@dy.xray.aps.anl.gov rel_grid_scan\n",
      "3-ID s3blue@dy.xray.aps.anl.gov rel_grid_scan\n",
      "3-ID s3blue@dy.xray.aps.anl.gov rel_grid_scan\n",
      "3-ID s3blue@dy.xray.aps.anl.gov rel_grid_scan\n",
      "3-ID s3blue@dy.xray.aps.anl.gov rel_grid_scan\n",
      "3-ID s3blue@dy.xray.aps.anl.gov count\n",
      "3-ID s3blue@dy.xray.aps.anl.gov count\n",
      "3-ID s3blue@dy.xray.aps.anl.gov rel_grid_scan\n",
      "3-ID s3blue@dy.xray.aps.anl.gov rel_grid_scan\n",
      "3-ID s3blue@dy.xray.aps.anl.gov rel_grid_scan\n",
      "3-ID s3blue@dy.xray.aps.anl.gov rel_grid_scan\n",
      "3-ID s3blue@dy.xray.aps.anl.gov rel_grid_scan\n",
      "3-ID s3blue@dy.xray.aps.anl.gov grid_scan\n"
     ]
    }
   ],
   "source": [
    "headers = otz_db(since='2018-09-01', until='2018-11-06')\n",
    "for h in headers:\n",
    "    print(h.start[\"beamline_id\"], h.start[\"login_id\"], h.start[\"plan_name\"])"
   ]
  },
  {
   "cell_type": "markdown",
   "metadata": {},
   "source": [
    "All those scans have the key `beamline_id=\"3-ID\"` so get all the scan (headers) that match that key.  Print the results in a nicer table."
   ]
  },
  {
   "cell_type": "code",
   "execution_count": 4,
   "metadata": {},
   "outputs": [
    {
     "name": "stdout",
     "output_type": "stream",
     "text": [
      "========================== == ==================================== =============\n",
      "date/time                  #  uid                                  plan_name    \n",
      "========================== == ==================================== =============\n",
      "2018-10-29 03:45:24.167806 48 6ea22d45-7b57-4936-b007-a6129a04a28c rel_grid_scan\n",
      "2018-10-28 18:56:00.852009 47 b7f9a22f-bff3-4fca-8223-3fe3c13cf04a rel_grid_scan\n",
      "2018-10-28 18:44:26.594428 46 ab52f840-7919-4925-8c62-790a0bf629ef rel_grid_scan\n",
      "2018-10-28 16:59:11.531815 45 8b318daa-c3ee-46d3-9d42-15c51f2e7598 rel_grid_scan\n",
      "2018-10-28 16:53:30.997551 44 a4b7fd59-7875-489a-8a5f-1cc44f311760 rel_grid_scan\n",
      "2018-10-28 16:50:59.680815 43 8ee33a6f-0a74-43fa-8d1d-99e94e868811 rel_grid_scan\n",
      "2018-10-28 16:48:00.945385 42 ed1ee892-61a3-4b8a-bb3d-4b108465a9e0 rel_grid_scan\n",
      "2018-10-28 16:37:31.415016 41 7769bca7-bccd-42de-8459-9676d7dcde86 rel_grid_scan\n",
      "2018-10-28 16:31:16.187840 40 57e0b82d-939b-4547-8eff-9eaad0401712 rel_grid_scan\n",
      "2018-10-28 16:28:51.544602 39 d3308305-a0ff-4f1b-8340-7b16df5b7053 rel_grid_scan\n",
      "2018-10-28 16:05:57.196543 38 733c4521-5ab4-4857-854a-75a8ca249fe6 rel_grid_scan\n",
      "2018-10-28 15:45:40.536218 37 396c81f0-6110-4bde-b549-ec48812b40a8 rel_grid_scan\n",
      "2018-10-27 23:52:53.588539 36 01926905-2ff0-40a4-b253-67deae9d7c7b rel_grid_scan\n",
      "2018-10-27 18:27:05.770915 35 4700d36a-dd84-4275-834b-7b4ea12ffe2b rel_grid_scan\n",
      "2018-10-27 18:09:19.366143 34 4ae460cd-7966-4405-91da-e82185d84406 rel_grid_scan\n",
      "2018-10-27 17:36:51.579937 33 f6d1aa72-72c7-44a5-8ae9-1ee9b960f654 rel_grid_scan\n",
      "2018-10-27 00:21:22.043864 32 5fd2af11-314e-4057-b33a-e401d999bf58 rel_grid_scan\n",
      "2018-10-26 20:42:02.817106 31 c2fa9ad7-e90a-418c-824d-54f6636bf538 rel_grid_scan\n",
      "2018-10-26 20:37:07.619245 30 4292021b-853d-4a87-9dc2-8003b885a1d6 rel_grid_scan\n",
      "2018-10-26 20:33:48.928205 29 f9ba1761-684f-409f-9293-a8e426db53c5 rel_grid_scan\n",
      "2018-10-26 20:19:31.739925 28 74e4b634-05bc-4bbb-978c-7eef8b123b76 rel_grid_scan\n",
      "2018-10-25 13:04:14.267574 27 2ef46bc6-a8a2-4593-a002-b20a184f9646 rel_grid_scan\n",
      "2018-10-25 08:36:04.851642 26 5772c721-e34d-45c6-9a40-01ecef6a8532 rel_grid_scan\n",
      "2018-10-25 06:35:43.666269 25 a07a8f33-eab7-4c6b-9812-a0786d1813a2 rel_grid_scan\n",
      "2018-10-25 04:56:03.706043 24 69eb0ccc-599d-4cb9-aa35-334096f43074 rel_grid_scan\n",
      "2018-10-25 00:15:59.761783 23 a6f8c355-105a-45cc-ba4b-5084c7ddce99 rel_grid_scan\n",
      "2018-10-24 22:28:28.970919 22 ca7470b5-9eb7-45a7-9f40-5e711736f352 rel_grid_scan\n",
      "2018-10-24 22:24:57.684351 21 29dfcbd5-dca5-4ac4-9bd8-383db442fbf5 rel_grid_scan\n",
      "2018-10-24 20:36:44.014423 20 9052d74a-9784-401a-8b0b-31a1be0e473d rel_grid_scan\n",
      "2018-10-24 20:19:43.563549 19 ea34dc72-b7ea-41d8-b273-d3d197c3fa9a rel_grid_scan\n",
      "2018-10-24 19:49:44.544774 18 680dc04e-f271-4cec-b566-3439b760c067 rel_grid_scan\n",
      "2018-10-24 19:37:08.797035 17 85c83a7f-b4da-4c46-a226-6e54c41a93be rel_grid_scan\n",
      "2018-10-24 19:27:53.824433 16 7ba83cd4-e53d-4596-96d4-d1ef03cb3528 rel_grid_scan\n",
      "2018-10-19 17:47:25.149698 15 f90e5a53-2b18-430c-adb4-fb9042087d1e rel_grid_scan\n",
      "2018-10-19 17:42:03.373177 14 16ef6932-66a2-41c0-afe0-d4e0a50852d7 rel_grid_scan\n",
      "2018-10-19 17:37:52.023404 13 d4cb6d36-7440-4ced-b953-7b029b9e2761 rel_grid_scan\n",
      "2018-10-19 17:36:49.507397 12 517c2fd9-7701-49c8-9445-b357e531cad4 rel_grid_scan\n",
      "2018-10-19 17:36:19.057681 11 3e22dde8-2278-4235-9bae-f55b348b95f3 rel_grid_scan\n",
      "2018-10-19 17:35:05.784959 10 a7c2081f-ffe9-4aa9-974e-107f3036eeb9 rel_grid_scan\n",
      "2018-10-19 17:33:51.071051 9  96de94ce-2271-451f-95a4-84270f3a7fd7 rel_grid_scan\n",
      "2018-10-19 15:36:25.197788 8  eaabd32d-5834-4b8c-8aef-68c2e78aa10d count        \n",
      "2018-10-19 15:36:08.681412 7  cb10c20c-acfb-4ad2-99f3-fd9871f2fc29 count        \n",
      "2018-10-18 16:21:43.100158 6  4eec1021-774f-4f3f-bf99-e70ee06184dd rel_grid_scan\n",
      "2018-10-18 16:17:50.599962 5  310c2556-54ac-4252-859c-6992fc835df9 rel_grid_scan\n",
      "2018-10-18 16:05:06.579185 4  6b8f5448-3dcf-4819-8a91-6c68c1c77a13 rel_grid_scan\n",
      "2018-10-18 15:49:49.691615 3  933159fe-e7a9-4894-9867-cb34062d1d28 rel_grid_scan\n",
      "2018-10-18 15:20:00.629276 2  118f8c91-205d-43d1-9862-d1dca09c5af8 rel_grid_scan\n",
      "2018-10-18 15:10:38.303804 1  0b481920-1617-49f2-a2a3-05dcccb69dc3 grid_scan    \n",
      "========================== == ==================================== =============\n",
      "\n"
     ]
    }
   ],
   "source": [
    "tbl = pyRestTable.Table()\n",
    "tbl.labels = \"date/time # uid plan_name\".split()\n",
    "headers = otz_db(beamline_id='3-ID')\n",
    "for h in headers:\n",
    "    t_float = h.start[\"time\"]\n",
    "    dt = datetime.datetime.fromtimestamp(t_float)\n",
    "    row = [dt, h.start[\"scan_id\"], h.start[\"uid\"], h.start[\"plan_name\"]]\n",
    "    tbl.addRow(row)\n",
    "print(tbl)"
   ]
  },
  {
   "cell_type": "markdown",
   "metadata": {},
   "source": [
    "-----------"
   ]
  },
  {
   "cell_type": "markdown",
   "metadata": {},
   "source": [
    "## build a local sqlite database for testing"
   ]
  },
  {
   "cell_type": "code",
   "execution_count": 13,
   "metadata": {},
   "outputs": [],
   "source": [
    "test_dir = \"/tmp/bluesky\"\n",
    "if not os.path.exists(test_dir):\n",
    "    os.makedirs(test_dir)\n",
    "\n",
    "test_config = {\n",
    "    \"description\": \"lightweight personal database\",\n",
    "    \"metadatastore\": {\n",
    "        \"module\": \"databroker.headersource.sqlite\",\n",
    "        \"class\": \"MDS\",\n",
    "        \"config\": {\n",
    "            \"directory\": test_dir,\n",
    "            \"timezone\": \"US/Central\"\n",
    "        }\n",
    "    },\n",
    "    \"assets\": {\n",
    "        \"module\": \"databroker.assets.sqlite\",\n",
    "        \"class\": \"Registry\",\n",
    "        \"config\": {\n",
    "            \"dbpath\": test_dir + \"/database.sql\"\n",
    "        }\n",
    "    }\n",
    "}\n",
    "test_db = Broker.from_config(test_config)"
   ]
  },
  {
   "cell_type": "markdown",
   "metadata": {},
   "source": [
    "## Export (test)\n",
    "export from otz_db to test_db"
   ]
  },
  {
   "cell_type": "code",
   "execution_count": 14,
   "metadata": {},
   "outputs": [
    {
     "name": "stdout",
     "output_type": "stream",
     "text": [
      "start\n",
      "descriptor\n"
     ]
    },
    {
     "ename": "OperationalError",
     "evalue": "duplicate column name: data_NFS",
     "output_type": "error",
     "traceback": [
      "\u001b[0;31m---------------------------------------------------------------------------\u001b[0m",
      "\u001b[0;31mOperationalError\u001b[0m                          Traceback (most recent call last)",
      "\u001b[0;32m<ipython-input-14-e10ffc394628>\u001b[0m in \u001b[0;36m<module>\u001b[0;34m()\u001b[0m\n\u001b[1;32m      6\u001b[0m     \u001b[0mtag\u001b[0m\u001b[0;34m,\u001b[0m \u001b[0mdoc\u001b[0m \u001b[0;34m=\u001b[0m \u001b[0mh\u001b[0m\u001b[0;34m\u001b[0m\u001b[0m\n\u001b[1;32m      7\u001b[0m     \u001b[0mprint\u001b[0m\u001b[0;34m(\u001b[0m\u001b[0mtag\u001b[0m\u001b[0;34m)\u001b[0m\u001b[0;34m\u001b[0m\u001b[0m\n\u001b[0;32m----> 8\u001b[0;31m     \u001b[0mtest_db\u001b[0m\u001b[0;34m.\u001b[0m\u001b[0minsert\u001b[0m\u001b[0;34m(\u001b[0m\u001b[0mtag\u001b[0m\u001b[0;34m,\u001b[0m \u001b[0mdoc\u001b[0m\u001b[0;34m)\u001b[0m\u001b[0;34m\u001b[0m\u001b[0m\n\u001b[0m",
      "\u001b[0;32m~/Apps/BlueSky/lib/python3.6/site-packages/databroker/_core.py\u001b[0m in \u001b[0;36minsert\u001b[0;34m(self, name, doc)\u001b[0m\n\u001b[1;32m   1125\u001b[0m         \"\"\"\n\u001b[1;32m   1126\u001b[0m         \u001b[0;32mif\u001b[0m \u001b[0mname\u001b[0m \u001b[0;32min\u001b[0m \u001b[0;34m{\u001b[0m\u001b[0;34m'event'\u001b[0m\u001b[0;34m,\u001b[0m \u001b[0;34m'bulk_events'\u001b[0m\u001b[0;34m,\u001b[0m \u001b[0;34m'descriptor'\u001b[0m\u001b[0;34m}\u001b[0m\u001b[0;34m:\u001b[0m\u001b[0;34m\u001b[0m\u001b[0m\n\u001b[0;32m-> 1127\u001b[0;31m             \u001b[0;32mreturn\u001b[0m \u001b[0mself\u001b[0m\u001b[0;34m.\u001b[0m\u001b[0mevent_source_for_insert\u001b[0m\u001b[0;34m.\u001b[0m\u001b[0minsert\u001b[0m\u001b[0;34m(\u001b[0m\u001b[0mname\u001b[0m\u001b[0;34m,\u001b[0m \u001b[0mdoc\u001b[0m\u001b[0;34m)\u001b[0m\u001b[0;34m\u001b[0m\u001b[0m\n\u001b[0m\u001b[1;32m   1128\u001b[0m         \u001b[0;31m# We are transitioning from ophyd objects inserting directly into a\u001b[0m\u001b[0;34m\u001b[0m\u001b[0;34m\u001b[0m\u001b[0m\n\u001b[1;32m   1129\u001b[0m         \u001b[0;31m# Registry to ophyd objects passing documents to the RunEngine which in\u001b[0m\u001b[0;34m\u001b[0m\u001b[0;34m\u001b[0m\u001b[0m\n",
      "\u001b[0;32m~/Apps/BlueSky/lib/python3.6/site-packages/databroker/eventsource/shim.py\u001b[0m in \u001b[0;36minsert\u001b[0;34m(self, name, doc)\u001b[0m\n\u001b[1;32m     34\u001b[0m \u001b[0;34m\u001b[0m\u001b[0m\n\u001b[1;32m     35\u001b[0m     \u001b[0;32mdef\u001b[0m \u001b[0minsert\u001b[0m\u001b[0;34m(\u001b[0m\u001b[0mself\u001b[0m\u001b[0;34m,\u001b[0m \u001b[0mname\u001b[0m\u001b[0;34m,\u001b[0m \u001b[0mdoc\u001b[0m\u001b[0;34m)\u001b[0m\u001b[0;34m:\u001b[0m\u001b[0;34m\u001b[0m\u001b[0m\n\u001b[0;32m---> 36\u001b[0;31m         \u001b[0;32mreturn\u001b[0m \u001b[0mself\u001b[0m\u001b[0;34m.\u001b[0m\u001b[0mmds\u001b[0m\u001b[0;34m.\u001b[0m\u001b[0minsert\u001b[0m\u001b[0;34m(\u001b[0m\u001b[0mname\u001b[0m\u001b[0;34m,\u001b[0m \u001b[0mdoc\u001b[0m\u001b[0;34m)\u001b[0m\u001b[0;34m\u001b[0m\u001b[0m\n\u001b[0m\u001b[1;32m     37\u001b[0m \u001b[0;34m\u001b[0m\u001b[0m\n\u001b[1;32m     38\u001b[0m     \u001b[0;32mdef\u001b[0m \u001b[0mstream_names_given_header\u001b[0m\u001b[0;34m(\u001b[0m\u001b[0mself\u001b[0m\u001b[0;34m,\u001b[0m \u001b[0mheader\u001b[0m\u001b[0;34m)\u001b[0m\u001b[0;34m:\u001b[0m\u001b[0;34m\u001b[0m\u001b[0m\n",
      "\u001b[0;32m~/Apps/BlueSky/lib/python3.6/site-packages/databroker/headersource/base.py\u001b[0m in \u001b[0;36minsert\u001b[0;34m(self, name, doc)\u001b[0m\n\u001b[1;32m    528\u001b[0m     \u001b[0;32mdef\u001b[0m \u001b[0minsert\u001b[0m\u001b[0;34m(\u001b[0m\u001b[0mself\u001b[0m\u001b[0;34m,\u001b[0m \u001b[0mname\u001b[0m\u001b[0;34m,\u001b[0m \u001b[0mdoc\u001b[0m\u001b[0;34m)\u001b[0m\u001b[0;34m:\u001b[0m\u001b[0;34m\u001b[0m\u001b[0m\n\u001b[1;32m    529\u001b[0m         \u001b[0;32mif\u001b[0m \u001b[0mname\u001b[0m \u001b[0;34m!=\u001b[0m \u001b[0;34m'bulk_events'\u001b[0m\u001b[0;34m:\u001b[0m\u001b[0;34m\u001b[0m\u001b[0m\n\u001b[0;32m--> 530\u001b[0;31m             \u001b[0mgetattr\u001b[0m\u001b[0;34m(\u001b[0m\u001b[0mself\u001b[0m\u001b[0;34m,\u001b[0m \u001b[0mself\u001b[0m\u001b[0;34m.\u001b[0m\u001b[0m_INS_METHODS\u001b[0m\u001b[0;34m[\u001b[0m\u001b[0mname\u001b[0m\u001b[0;34m]\u001b[0m\u001b[0;34m)\u001b[0m\u001b[0;34m(\u001b[0m\u001b[0;34m**\u001b[0m\u001b[0mdoc\u001b[0m\u001b[0;34m)\u001b[0m\u001b[0;34m\u001b[0m\u001b[0m\n\u001b[0m\u001b[1;32m    531\u001b[0m         \u001b[0;32melse\u001b[0m\u001b[0;34m:\u001b[0m\u001b[0;34m\u001b[0m\u001b[0m\n\u001b[1;32m    532\u001b[0m             \u001b[0;32mfor\u001b[0m \u001b[0mdesc_uid\u001b[0m\u001b[0;34m,\u001b[0m \u001b[0mevents\u001b[0m \u001b[0;32min\u001b[0m \u001b[0mdoc\u001b[0m\u001b[0;34m.\u001b[0m\u001b[0mitems\u001b[0m\u001b[0;34m(\u001b[0m\u001b[0;34m)\u001b[0m\u001b[0;34m:\u001b[0m\u001b[0;34m\u001b[0m\u001b[0m\n",
      "\u001b[0;32m~/Apps/BlueSky/lib/python3.6/site-packages/databroker/headersource/base.py\u001b[0m in \u001b[0;36minsert_descriptor\u001b[0;34m(self, run_start, data_keys, time, uid, **kwargs)\u001b[0m\n\u001b[1;32m    474\u001b[0m                                            \u001b[0mdata_keys\u001b[0m\u001b[0;34m=\u001b[0m\u001b[0mdata_keys\u001b[0m\u001b[0;34m,\u001b[0m\u001b[0;34m\u001b[0m\u001b[0m\n\u001b[1;32m    475\u001b[0m                                            \u001b[0mtime\u001b[0m\u001b[0;34m=\u001b[0m\u001b[0mtime\u001b[0m\u001b[0;34m,\u001b[0m \u001b[0muid\u001b[0m\u001b[0;34m=\u001b[0m\u001b[0muid\u001b[0m\u001b[0;34m,\u001b[0m\u001b[0;34m\u001b[0m\u001b[0m\n\u001b[0;32m--> 476\u001b[0;31m                                            **kwargs)\n\u001b[0m\u001b[1;32m    477\u001b[0m \u001b[0;34m\u001b[0m\u001b[0m\n\u001b[1;32m    478\u001b[0m     def insert_event(self, descriptor, time, seq_num, data, timestamps, uid,\n",
      "\u001b[0;32m~/Apps/BlueSky/lib/python3.6/site-packages/databroker/headersource/core.py\u001b[0m in \u001b[0;36minsert_descriptor\u001b[0;34m(descriptor_col, descriptor_cache, run_start, data_keys, time, uid, **kwargs)\u001b[0m\n\u001b[1;32m    642\u001b[0m     \u001b[0mapply_to_dict_recursively\u001b[0m\u001b[0;34m(\u001b[0m\u001b[0mdescriptor\u001b[0m\u001b[0;34m,\u001b[0m \u001b[0msanitize_np\u001b[0m\u001b[0;34m)\u001b[0m\u001b[0;34m\u001b[0m\u001b[0m\n\u001b[1;32m    643\u001b[0m     \u001b[0;31m# TODO validation\u001b[0m\u001b[0;34m\u001b[0m\u001b[0;34m\u001b[0m\u001b[0m\n\u001b[0;32m--> 644\u001b[0;31m     \u001b[0mcol\u001b[0m\u001b[0;34m.\u001b[0m\u001b[0minsert_one\u001b[0m\u001b[0;34m(\u001b[0m\u001b[0mdescriptor\u001b[0m\u001b[0;34m)\u001b[0m\u001b[0;34m\u001b[0m\u001b[0m\n\u001b[0m\u001b[1;32m    645\u001b[0m \u001b[0;34m\u001b[0m\u001b[0m\n\u001b[1;32m    646\u001b[0m     \u001b[0mdescriptor\u001b[0m \u001b[0;34m=\u001b[0m \u001b[0m_cache_descriptor\u001b[0m\u001b[0;34m(\u001b[0m\u001b[0mdescriptor\u001b[0m\u001b[0;34m,\u001b[0m \u001b[0mdescriptor_cache\u001b[0m\u001b[0;34m)\u001b[0m\u001b[0;34m\u001b[0m\u001b[0m\n",
      "\u001b[0;32m~/Apps/BlueSky/lib/python3.6/site-packages/databroker/headersource/sqlite.py\u001b[0m in \u001b[0;36minsert_one\u001b[0;34m(self, doc)\u001b[0m\n\u001b[1;32m     66\u001b[0m \u001b[0;34m\u001b[0m\u001b[0m\n\u001b[1;32m     67\u001b[0m     \u001b[0;32mdef\u001b[0m \u001b[0minsert_one\u001b[0m\u001b[0;34m(\u001b[0m\u001b[0mself\u001b[0m\u001b[0;34m,\u001b[0m \u001b[0mdoc\u001b[0m\u001b[0;34m)\u001b[0m\u001b[0;34m:\u001b[0m\u001b[0;34m\u001b[0m\u001b[0m\n\u001b[0;32m---> 68\u001b[0;31m         \u001b[0mself\u001b[0m\u001b[0;34m.\u001b[0m\u001b[0m_event_col\u001b[0m\u001b[0;34m.\u001b[0m\u001b[0mnew_descriptor\u001b[0m\u001b[0;34m(\u001b[0m\u001b[0mdoc\u001b[0m\u001b[0;34m)\u001b[0m\u001b[0;34m\u001b[0m\u001b[0m\n\u001b[0m\u001b[1;32m     69\u001b[0m         \u001b[0msuper\u001b[0m\u001b[0;34m(\u001b[0m\u001b[0mDescriptorCollection\u001b[0m\u001b[0;34m,\u001b[0m \u001b[0mself\u001b[0m\u001b[0;34m)\u001b[0m\u001b[0;34m.\u001b[0m\u001b[0minsert_one\u001b[0m\u001b[0;34m(\u001b[0m\u001b[0mdoc\u001b[0m\u001b[0;34m)\u001b[0m\u001b[0;34m\u001b[0m\u001b[0m\n\u001b[1;32m     70\u001b[0m \u001b[0;34m\u001b[0m\u001b[0m\n",
      "\u001b[0;32m~/Apps/BlueSky/lib/python3.6/site-packages/databroker/headersource/sqlite.py\u001b[0m in \u001b[0;36mnew_descriptor\u001b[0;34m(self, doc)\u001b[0m\n\u001b[1;32m    140\u001b[0m         \u001b[0mexcp\u001b[0m \u001b[0;34m=\u001b[0m \u001b[0mret\u001b[0m\u001b[0;34m.\u001b[0m\u001b[0mget\u001b[0m\u001b[0;34m(\u001b[0m\u001b[0;34m'exception'\u001b[0m\u001b[0;34m)\u001b[0m\u001b[0;34m\u001b[0m\u001b[0m\n\u001b[1;32m    141\u001b[0m         \u001b[0;32mif\u001b[0m \u001b[0mexcp\u001b[0m \u001b[0;32mis\u001b[0m \u001b[0;32mnot\u001b[0m \u001b[0;32mNone\u001b[0m\u001b[0;34m:\u001b[0m\u001b[0;34m\u001b[0m\u001b[0m\n\u001b[0;32m--> 142\u001b[0;31m             \u001b[0;32mraise\u001b[0m \u001b[0mexcp\u001b[0m\u001b[0;34m\u001b[0m\u001b[0m\n\u001b[0m\u001b[1;32m    143\u001b[0m \u001b[0;34m\u001b[0m\u001b[0m\n\u001b[1;32m    144\u001b[0m     \u001b[0;32mdef\u001b[0m \u001b[0mfind\u001b[0m\u001b[0;34m(\u001b[0m\u001b[0mself\u001b[0m\u001b[0;34m,\u001b[0m \u001b[0mquery\u001b[0m\u001b[0;34m,\u001b[0m \u001b[0msort\u001b[0m\u001b[0;34m=\u001b[0m\u001b[0;32mNone\u001b[0m\u001b[0;34m)\u001b[0m\u001b[0;34m:\u001b[0m\u001b[0;34m\u001b[0m\u001b[0m\n",
      "\u001b[0;32m~/Apps/BlueSky/lib/python3.6/site-packages/databroker/headersource/sqlite.py\u001b[0m in \u001b[0;36m__process_request_queue\u001b[0;34m(self)\u001b[0m\n\u001b[1;32m    217\u001b[0m                     \u001b[0mself\u001b[0m\u001b[0;34m.\u001b[0m\u001b[0m_insert_events\u001b[0m\u001b[0;34m(\u001b[0m\u001b[0mpayload\u001b[0m\u001b[0;34m)\u001b[0m\u001b[0;34m\u001b[0m\u001b[0m\n\u001b[1;32m    218\u001b[0m                 \u001b[0;32melif\u001b[0m \u001b[0mname\u001b[0m \u001b[0;34m==\u001b[0m \u001b[0;34m'descriptor'\u001b[0m\u001b[0;34m:\u001b[0m\u001b[0;34m\u001b[0m\u001b[0m\n\u001b[0;32m--> 219\u001b[0;31m                     \u001b[0mself\u001b[0m\u001b[0;34m.\u001b[0m\u001b[0m_insert_descriptor\u001b[0m\u001b[0;34m(\u001b[0m\u001b[0mpayload\u001b[0m\u001b[0;34m)\u001b[0m\u001b[0;34m\u001b[0m\u001b[0m\n\u001b[0m\u001b[1;32m    220\u001b[0m                 \u001b[0;32melif\u001b[0m \u001b[0mname\u001b[0m \u001b[0;34m==\u001b[0m \u001b[0;34m'start'\u001b[0m\u001b[0;34m:\u001b[0m\u001b[0;34m\u001b[0m\u001b[0m\n\u001b[1;32m    221\u001b[0m                     \u001b[0mself\u001b[0m\u001b[0;34m.\u001b[0m\u001b[0m_insert_start\u001b[0m\u001b[0;34m(\u001b[0m\u001b[0mpayload\u001b[0m\u001b[0;34m)\u001b[0m\u001b[0;34m\u001b[0m\u001b[0m\n",
      "\u001b[0;32m~/Apps/BlueSky/lib/python3.6/site-packages/databroker/headersource/sqlite.py\u001b[0m in \u001b[0;36m_insert_descriptor\u001b[0;34m(self, doc)\u001b[0m\n\u001b[1;32m    264\u001b[0m         \u001b[0;32mwith\u001b[0m \u001b[0mcursor\u001b[0m\u001b[0;34m(\u001b[0m\u001b[0mself\u001b[0m\u001b[0;34m.\u001b[0m\u001b[0m_runstarts\u001b[0m\u001b[0;34m[\u001b[0m\u001b[0mrun_start_uid\u001b[0m\u001b[0;34m]\u001b[0m\u001b[0;34m)\u001b[0m \u001b[0;32mas\u001b[0m \u001b[0mc\u001b[0m\u001b[0;34m:\u001b[0m\u001b[0;34m\u001b[0m\u001b[0m\n\u001b[1;32m    265\u001b[0m             c.execute(CREATE_TABLE % table_name\n\u001b[0;32m--> 266\u001b[0;31m                       + '(' + ','.join(columns) + ')')\n\u001b[0m\u001b[1;32m    267\u001b[0m         \u001b[0mself\u001b[0m\u001b[0;34m.\u001b[0m\u001b[0m_descriptors\u001b[0m\u001b[0;34m[\u001b[0m\u001b[0muid\u001b[0m\u001b[0;34m]\u001b[0m \u001b[0;34m=\u001b[0m \u001b[0mrun_start_uid\u001b[0m\u001b[0;34m\u001b[0m\u001b[0m\n\u001b[1;32m    268\u001b[0m \u001b[0;34m\u001b[0m\u001b[0m\n",
      "\u001b[0;31mOperationalError\u001b[0m: duplicate column name: data_NFS"
     ]
    }
   ],
   "source": [
    "if os.path.exists(test_dir):\n",
    "    shutil.rmtree(test_dir)\n",
    "    os.makedirs(test_dir)\n",
    "\n",
    "for h in otz_db.stream(headers):\n",
    "    tag, doc = h\n",
    "    print(tag)\n",
    "    test_db.insert(tag, doc)"
   ]
  },
  {
   "cell_type": "code",
   "execution_count": null,
   "metadata": {},
   "outputs": [],
   "source": [
    "h = list(headers)[-1]\n",
    "h.descriptors"
   ]
  },
  {
   "cell_type": "markdown",
   "metadata": {},
   "source": [
    "Seems be trouble creating ophyd object names with the data column names that have embedded whitespace.  These names come from the text in the scaler channel labels.  It was OK to acquire data with such names.  \n",
    "\n",
    "**Looks like an assumption bug to me in the export code.**  Either of these places:\n",
    "\n",
    "* `databroker/headersource/core.py`\n",
    "* `databroker/headersource/sqlite.py`"
   ]
  },
  {
   "cell_type": "code",
   "execution_count": null,
   "metadata": {},
   "outputs": [],
   "source": [
    "list(h.events())[-1]"
   ]
  },
  {
   "cell_type": "code",
   "execution_count": null,
   "metadata": {},
   "outputs": [],
   "source": []
  }
 ],
 "metadata": {
  "kernelspec": {
   "display_name": "Python 3",
   "language": "python",
   "name": "python3"
  },
  "language_info": {
   "codemirror_mode": {
    "name": "ipython",
    "version": 3
   },
   "file_extension": ".py",
   "mimetype": "text/x-python",
   "name": "python",
   "nbconvert_exporter": "python",
   "pygments_lexer": "ipython3",
   "version": "3.6.2"
  }
 },
 "nbformat": 4,
 "nbformat_minor": 2
}
