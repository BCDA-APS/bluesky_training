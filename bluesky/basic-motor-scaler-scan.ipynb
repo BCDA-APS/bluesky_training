{
 "cells": [
  {
   "cell_type": "markdown",
   "source": [
    "# Minimal: Scan scaler *vs* motor\n",
    "\n",
    "*APS Training for Bluesky Data Acquisition*.\n",
    "\n",
    "**Objective**\n",
    "\n",
    "Connect an EPICS motor PV, an EPICS scaler PV, and scan using the bluesky *RunEngine* with the *BestEffortCallback* to visualize the acquired data.\n",
    "\n",
    "EPICS PV | Python object name | description\n",
    ":--- | :--- | :---\n",
    "`gp:m1` | `xpos` | motor PV (simulates a stepper motor)\n",
    "`gp:scaler1` | `vsc16` | scaler PV (simulates a Joerger VSC16 scaler)"
   ],
   "metadata": {}
  },
  {
   "cell_type": "markdown",
   "source": [
    "## Connect the motor\n",
    "\n",
    "First, import the [`ophyd.EpicsMotor`](https://blueskyproject.io/ophyd/generated/ophyd.epics_motor.EpicsMotor.html?highlight=epicsmotor#ophyd.epics_motor.EpicsMotor) (class) definition.  This Python class from `ophyd` is the best representation of the synApps [motor](https://github.com/epics-modules/motor) record."
   ],
   "metadata": {}
  },
  {
   "cell_type": "code",
   "execution_count": 1,
   "source": [
    "from ophyd import EpicsMotor"
   ],
   "outputs": [],
   "metadata": {}
  },
  {
   "cell_type": "markdown",
   "source": [
    "Then, define the `xpos` object.  The EPICS PV is the first argument.  The `name=\"xpos\"` is\n",
    "required.  Make the value of this keyword argument match the name of the Python object being assigned.  The `labels=(\"motor\",)` keyword argument enables certain features for the user interface that will be described later."
   ],
   "metadata": {}
  },
  {
   "cell_type": "code",
   "execution_count": 2,
   "source": [
    "xpos = EpicsMotor(\"gp:m1\", name=\"xpos\", labels=(\"motor\",))"
   ],
   "outputs": [],
   "metadata": {}
  },
  {
   "cell_type": "markdown",
   "source": [
    "Wait for that to connect with EPICS"
   ],
   "metadata": {}
  },
  {
   "cell_type": "code",
   "execution_count": 3,
   "source": [
    "xpos.wait_for_connection()"
   ],
   "outputs": [],
   "metadata": {}
  },
  {
   "cell_type": "markdown",
   "source": [
    "Show the position of the `xpos` motor now."
   ],
   "metadata": {}
  },
  {
   "cell_type": "code",
   "execution_count": 4,
   "source": [
    "xpos.position"
   ],
   "outputs": [
    {
     "output_type": "execute_result",
     "data": {
      "text/plain": [
       "-0.3"
      ]
     },
     "metadata": {},
     "execution_count": 4
    }
   ],
   "metadata": {}
  },
  {
   "cell_type": "markdown",
   "source": [
    "Try to move `xpos` using the IPython magic command: `%mov`."
   ],
   "metadata": {}
  },
  {
   "cell_type": "code",
   "execution_count": 5,
   "source": [
    "# wrap in a try..except handler so notebook can run past this point\n",
    "try:\n",
    "    %mov xpos 1\n",
    "except Exception as exc:\n",
    "    print(f\"Exception: {exc}\")"
   ],
   "outputs": [
    {
     "output_type": "stream",
     "name": "stdout",
     "text": [
      "Exception: Line magic function `%mov` not found.\n"
     ]
    }
   ],
   "metadata": {}
  },
  {
   "cell_type": "markdown",
   "source": [
    "Note this command fails since the IPython magic commands are not loaded automatically.  As an alternative, use the motor's `.move(SETPOINT)` method to move the motor to the new *SETPOINT* value.  Here, move `xpos` to `1`."
   ],
   "metadata": {}
  },
  {
   "cell_type": "code",
   "execution_count": 6,
   "source": [
    "xpos.move(1)"
   ],
   "outputs": [
    {
     "output_type": "execute_result",
     "data": {
      "text/plain": [
       "MoveStatus(done=True, pos=xpos, elapsed=1.5, success=True, settle_time=0.0)"
      ]
     },
     "metadata": {},
     "execution_count": 6
    }
   ],
   "metadata": {}
  },
  {
   "cell_type": "markdown",
   "source": [
    "The `.move()` method returns a status object.  The status object may be used to report about the move or to wait for the motor to complete its move.\n",
    "\n",
    "Next, load the IPython *Magic* commands provided by `bluesky`.  These are helpers to make the command line use easier.  Use them at your choice."
   ],
   "metadata": {}
  },
  {
   "cell_type": "code",
   "execution_count": 7,
   "source": [
    "from bluesky.magics import BlueskyMagics\n",
    "get_ipython().register_magics(BlueskyMagics)"
   ],
   "outputs": [],
   "metadata": {}
  },
  {
   "cell_type": "markdown",
   "source": [
    "Repeat the move of `xpos` by sending it to `0` using the magic command."
   ],
   "metadata": {}
  },
  {
   "cell_type": "code",
   "execution_count": 8,
   "source": [
    "%mov xpos 0"
   ],
   "outputs": [
    {
     "output_type": "stream",
     "name": "stdout",
     "text": [
      "xpos:   9%|██▌                         | 0.09/1.0 [00:00<00:01,  1.46s/degrees]\n",
      "xpos:  19%|█████▎                      | 0.19/1.0 [00:00<00:00,  1.22s/degrees]\n",
      "xpos:  29%|███████▊                   | 0.291/1.0 [00:00<00:00,  1.15s/degrees]\n",
      "xpos:  39%|██████████▌                | 0.391/1.0 [00:00<00:00,  1.11s/degrees]\n",
      "xpos:  49%|█████████████▎             | 0.491/1.0 [00:00<00:00,  1.09s/degrees]\n",
      "xpos:  59%|███████████████▉           | 0.592/1.0 [00:00<00:00,  1.07s/degrees]\n",
      "xpos:  69%|██████████████████▋        | 0.692/1.0 [00:00<00:00,  1.06s/degrees]\n",
      "xpos:  79%|█████████████████████▍     | 0.793/1.0 [00:00<00:00,  1.05s/degrees]\n",
      "xpos:  89%|████████████████████████▏  | 0.894/1.0 [00:00<00:00,  1.05s/degrees]\n",
      "xpos:  97%|███████████████████████████▏| 0.97/1.0 [00:01<00:00,  1.07s/degrees]\n",
      "xpos: 100%|██████████████████████████▉| 0.999/1.0 [00:01<00:00,  1.14s/degrees]\n",
      "xpos: 100%|█████████████████████████████| 1.0/1.0 [00:01<00:00,  1.24s/degrees]\n",
      "xpos [In progress. No progress bar available.]                                 \n",
      "                                                                               \n"
     ]
    }
   ],
   "metadata": {}
  },
  {
   "cell_type": "markdown",
   "source": [
    "## Connect the scaler\n",
    "\n",
    "The `ophyd` package provides two representations of the synApps [scaler](https://github.com/epics-modules/scaler) record ([`EpicsScaler`](https://blueskyproject.io/ophyd/reference/builtin-devices.html#epicsscaler) and [`ScalerCH`](https://blueskyproject.io/ophyd/reference/builtin-devices.html#scalerch)).  My _opinion_ is that the `ScalerCH` class provides the representation most compatible with use at the APS.\n",
    "\n",
    "As before, import the ophyd class:"
   ],
   "metadata": {}
  },
  {
   "cell_type": "code",
   "execution_count": 9,
   "source": [
    "from ophyd.scaler import ScalerCH"
   ],
   "outputs": [],
   "metadata": {}
  },
  {
   "cell_type": "markdown",
   "source": [
    "Then, connect with the EPICS PV.  This is similar to how the motor was connected (above).  Make the `name=` keyword match with the Python object name being created.   The `labels=(\"scalers\", \"detectors\")` keyword argument enables certain features for the user interface that will be described later."
   ],
   "metadata": {}
  },
  {
   "cell_type": "code",
   "execution_count": 10,
   "source": [
    "vsc16 = ScalerCH(\"gp:scaler1\", name=\"vsc16\", labels=[\"scalers\", \"detectors\"])"
   ],
   "outputs": [],
   "metadata": {}
  },
  {
   "cell_type": "markdown",
   "source": [
    "Configure the Python object to ignore the channels with no name defined (in the `.NMnn` field of the scaler PV).\n",
    "\n",
    "In this example control screen for our scaler, only a few of the channels are named:\n",
    "\n",
    "![`scaler` GUI](resources/scaler.png \"`scaler1` GUI\")"
   ],
   "metadata": {}
  },
  {
   "cell_type": "code",
   "execution_count": 11,
   "source": [
    "vsc16.select_channels()"
   ],
   "outputs": [],
   "metadata": {}
  },
  {
   "cell_type": "markdown",
   "source": [
    "Show the value for each of the named channels in **our** scaler.  This will also include the most recent count time."
   ],
   "metadata": {}
  },
  {
   "cell_type": "code",
   "execution_count": 12,
   "source": [
    "vsc16.read()"
   ],
   "outputs": [
    {
     "output_type": "execute_result",
     "data": {
      "text/plain": [
       "OrderedDict([('timebase',\n",
       "              {'value': 6000000.0, 'timestamp': 1629391538.435033}),\n",
       "             ('I0', {'value': 1.0, 'timestamp': 1629391538.435033}),\n",
       "             ('scint', {'value': 2.0, 'timestamp': 1629391538.435033}),\n",
       "             ('diode', {'value': 3.0, 'timestamp': 1629391538.435033}),\n",
       "             ('I00', {'value': 3.0, 'timestamp': 1629391538.435033}),\n",
       "             ('roi1', {'value': 0.0, 'timestamp': 1629391538.435033}),\n",
       "             ('roi2', {'value': 0.0, 'timestamp': 1629391538.435033}),\n",
       "             ('vsc16_time', {'value': 0.6, 'timestamp': 1629391538.435033})])"
      ]
     },
     "metadata": {},
     "execution_count": 12
    }
   ],
   "metadata": {}
  },
  {
   "cell_type": "markdown",
   "source": [
    "If *no* channels are shown, such as:\n",
    "\n",
    "```python\n",
    "OrderedDict([('vsc16_time', {'value': 0.0, 'timestamp': 631152000.0})])\n",
    "```\n",
    "\n",
    "then we want to name some channels here for our simulator.  We can do this directly from Python (although you would not usually want to do this at a real, operating instrument, since the channels are named as a result of hardware connections with real detectors).  We'll take channels 1-5 for `timebase`, `I0`, `scint`, `diode`, & `I00`, then skip a few channels to 11 & 12 and call them `roi1` & `roi2`, respectively.\n",
    "\n",
    "It's OK to have empty (that is, unnamed) channels.  It's not OK to have white space in these names since the names will be used as Python objects within bluesky.  That also means no other characters (such as math symbols and such) that cannot be used as a [Python object name](https://www.python.org/dev/peps/pep-0008/#naming-conventions).  Also, do not use the same name in two different scaler channels."
   ],
   "metadata": {}
  },
  {
   "cell_type": "code",
   "execution_count": 13,
   "source": [
    "vsc16.channels.chan01.chname.put(\"timebase\")\n",
    "vsc16.channels.chan02.chname.put(\"I0\")\n",
    "vsc16.channels.chan03.chname.put(\"scint\")\n",
    "vsc16.channels.chan04.chname.put(\"diode\")\n",
    "vsc16.channels.chan05.chname.put(\"I00\")\n",
    "vsc16.channels.chan11.chname.put(\"roi1\")\n",
    "vsc16.channels.chan12.chname.put(\"roi2\")"
   ],
   "outputs": [],
   "metadata": {}
  },
  {
   "cell_type": "markdown",
   "source": [
    "Then select the named channels and read again:"
   ],
   "metadata": {}
  },
  {
   "cell_type": "code",
   "execution_count": 14,
   "source": [
    "vsc16.select_channels()\n",
    "vsc16.read()"
   ],
   "outputs": [
    {
     "output_type": "execute_result",
     "data": {
      "text/plain": [
       "OrderedDict([('timebase',\n",
       "              {'value': 6000000.0, 'timestamp': 1629391538.435033}),\n",
       "             ('I0', {'value': 1.0, 'timestamp': 1629391538.435033}),\n",
       "             ('scint', {'value': 2.0, 'timestamp': 1629391538.435033}),\n",
       "             ('diode', {'value': 3.0, 'timestamp': 1629391538.435033}),\n",
       "             ('I00', {'value': 3.0, 'timestamp': 1629391538.435033}),\n",
       "             ('roi1', {'value': 0.0, 'timestamp': 1629391538.435033}),\n",
       "             ('roi2', {'value': 0.0, 'timestamp': 1629391538.435033}),\n",
       "             ('vsc16_time', {'value': 0.6, 'timestamp': 1629391538.435033})])"
      ]
     },
     "metadata": {},
     "execution_count": 14
    }
   ],
   "metadata": {}
  },
  {
   "cell_type": "markdown",
   "source": [
    "### Set the scaler's counting time\n",
    "\n",
    "The `ScalerCH` class defines the count time as the `preset_time` attribute.  Show it's value:"
   ],
   "metadata": {}
  },
  {
   "cell_type": "code",
   "execution_count": 15,
   "source": [
    "vsc16.preset_time.get()"
   ],
   "outputs": [
    {
     "output_type": "execute_result",
     "data": {
      "text/plain": [
       "0.5"
      ]
     },
     "metadata": {},
     "execution_count": 15
    }
   ],
   "metadata": {}
  },
  {
   "cell_type": "markdown",
   "source": [
    "Set the counting time to 0.5 s using the `%mov` magic command (same command that moves a motor)."
   ],
   "metadata": {}
  },
  {
   "cell_type": "code",
   "execution_count": 16,
   "source": [
    "%mov vsc16.preset_time 0.5"
   ],
   "outputs": [],
   "metadata": {}
  },
  {
   "cell_type": "markdown",
   "source": [
    "Use the IPython `%ct` magic command to count each object with the `detectors` label keyword."
   ],
   "metadata": {}
  },
  {
   "cell_type": "code",
   "execution_count": 17,
   "source": [
    "vsc16.preset_time.get()"
   ],
   "outputs": [
    {
     "output_type": "execute_result",
     "data": {
      "text/plain": [
       "0.5"
      ]
     },
     "metadata": {},
     "execution_count": 17
    }
   ],
   "metadata": {}
  },
  {
   "cell_type": "code",
   "execution_count": 18,
   "source": [
    "ct"
   ],
   "outputs": [
    {
     "output_type": "stream",
     "name": "stdout",
     "text": [
      "[This data will not be saved. Use the RunEngine to collect data.]\n",
      "timebase                       6000000.0\n",
      "I0                             2.0\n",
      "scint                          3.0\n",
      "diode                          2.0\n",
      "I00                            2.0\n",
      "roi1                           0.0\n",
      "roi2                           0.0\n",
      "vsc16_time                     0.6\n"
     ]
    }
   ],
   "metadata": {}
  },
  {
   "cell_type": "code",
   "execution_count": 19,
   "source": [
    "%ct"
   ],
   "outputs": [
    {
     "output_type": "stream",
     "name": "stdout",
     "text": [
      "[This data will not be saved. Use the RunEngine to collect data.]\n",
      "timebase                       6000000.0\n",
      "I0                             3.0\n",
      "scint                          2.0\n",
      "diode                          3.0\n",
      "I00                            2.0\n",
      "roi1                           0.0\n",
      "roi2                           0.0\n",
      "vsc16_time                     0.6\n"
     ]
    }
   ],
   "metadata": {}
  },
  {
   "cell_type": "markdown",
   "source": [
    "### `labels` and the `%wa` magic command\n",
    "\n",
    "As noted above, the `labels=LIST` keyword argument used when the motor and scaler objects were create enable certain features.  For example, the `%ct` magic command will count all the `detectors`.\n",
    "\n",
    "Actually, `detectors` is the default argument for the `%ct` magic.  If an arument is supplied, it is the name of a label to be matched.  This is why the additional label of `scalers` was included.  Thus, we could count *only* `scalers` with the command `%ct scalers`.\n",
    "\n",
    "Use the `labels` keyword liberally to group similar objects.\n",
    "\n",
    "The `%wa` magic shows relevant information for all labeled objects (or, for the named label if supplied).  For example:"
   ],
   "metadata": {}
  },
  {
   "cell_type": "code",
   "execution_count": 20,
   "source": [
    "%wa"
   ],
   "outputs": [
    {
     "output_type": "stream",
     "name": "stdout",
     "text": [
      "motor\n",
      "  Positioner                     Value       Low Limit   High Limit  Offset     \n",
      "  xpos                           0.0         -32000.0    32000.0     0.0        \n",
      "\n",
      "  Local variable name                    Ophyd name (to be recorded as metadata)\n",
      "  xpos                                   xpos                                  \n",
      "\n",
      "scalers\n",
      "  Local variable name                    Ophyd name (to be recorded as metadata)\n",
      "  vsc16                                  vsc16                                 \n",
      "\n",
      "detectors\n",
      "  Local variable name                    Ophyd name (to be recorded as metadata)\n",
      "  vsc16                                  vsc16                                 \n",
      "\n"
     ]
    }
   ],
   "metadata": {}
  },
  {
   "cell_type": "code",
   "execution_count": 21,
   "source": [
    "%wa motor"
   ],
   "outputs": [
    {
     "output_type": "stream",
     "name": "stdout",
     "text": [
      "motor\n",
      "  Positioner                     Value       Low Limit   High Limit  Offset     \n",
      "  xpos                           0.0         -32000.0    32000.0     0.0        \n",
      "\n",
      "  Local variable name                    Ophyd name (to be recorded as metadata)\n",
      "  xpos                                   xpos                                  \n",
      "\n"
     ]
    }
   ],
   "metadata": {}
  },
  {
   "cell_type": "markdown",
   "source": [
    "## Prepare to scan\n",
    "\n",
    "Before we can run our first bluesky scan, we have to import various software tools.\n",
    "\n",
    "First is the bluesky `RunEngine()`, which will manage the various activities for the scan (move motor, wait, trigger scaler, wait, collect channel data, publish to data subscribers, ...).\n",
    "\n",
    "Create a `RunEngine()` object.  The argument here is a dictionary (empty in this training session).  (For routine operations at an instrument, the dictionary is filled with information saved from the previous session.)"
   ],
   "metadata": {}
  },
  {
   "cell_type": "code",
   "execution_count": 22,
   "source": [
    "import bluesky\n",
    "RE = bluesky.RunEngine({})"
   ],
   "outputs": [],
   "metadata": {
    "tags": []
   }
  },
  {
   "cell_type": "markdown",
   "source": [
    "To save the acquired data, we connect with a MongoDB database using a preconfigured datafile that describes our *training* catalog.  Using the IPython `!` technique to issue a Linux command from an IPython session, we `cat` (concatenate) the contents of that file to the output here:"
   ],
   "metadata": {}
  },
  {
   "cell_type": "code",
   "execution_count": 23,
   "source": [
    "!cat ~/.local/share/intake/training.yml"
   ],
   "outputs": [
    {
     "output_type": "stream",
     "name": "stdout",
     "text": [
      "# file: training.yml\n",
      "# purpose: Configuration file to connect Bluesky databroker with MongoDB\n",
      "# For Bluesky Python Training at APS\n",
      "\n",
      "# Copy to: ~/.local/share/intake/training.yml\n",
      "# Create subdirectories as needed\n",
      "\n",
      "sources:\n",
      "  training:\n",
      "    args:\n",
      "      asset_registry_db: mongodb://localhost:27017/training-bluesky\n",
      "      metadatastore_db: mongodb://localhost:27017/training-bluesky\n",
      "    driver: bluesky-mongo-normalized-catalog\n"
     ]
    }
   ],
   "metadata": {}
  },
  {
   "cell_type": "markdown",
   "source": [
    "To connect, we need the *training* catalog.  This name is provided by the line indented after the `sources:` line in the above `.yml` file.  (The name of the `.yml` file does not matter.  The `databroker.catalog` software will look through all `.yml` files in this directory for the`training` configuration.)\n",
    "\n",
    "We'll use the reference to our databroker catalog frequently, so we give it a short name."
   ],
   "metadata": {}
  },
  {
   "cell_type": "code",
   "execution_count": 24,
   "source": [
    "import databroker\n",
    "db = databroker.catalog[\"training\"]"
   ],
   "outputs": [],
   "metadata": {}
  },
  {
   "cell_type": "markdown",
   "source": [
    "How many (bluesky data collection) *runs* are recorded in this catalog?  Get its *length*:"
   ],
   "metadata": {}
  },
  {
   "cell_type": "code",
   "execution_count": 25,
   "source": [
    "len(db)"
   ],
   "outputs": [
    {
     "output_type": "execute_result",
     "data": {
      "text/plain": [
       "68"
      ]
     },
     "metadata": {},
     "execution_count": 25
    }
   ],
   "metadata": {}
  },
  {
   "cell_type": "markdown",
   "source": [
    "Configure `RE` to publish the run data to our `db` object.  We must use the `.v1` software interface for legacy reasons."
   ],
   "metadata": {}
  },
  {
   "cell_type": "code",
   "execution_count": 26,
   "source": [
    "RE.subscribe(db.v1.insert)"
   ],
   "outputs": [
    {
     "output_type": "execute_result",
     "data": {
      "text/plain": [
       "0"
      ]
     },
     "metadata": {},
     "execution_count": 26
    }
   ],
   "metadata": {}
  },
  {
   "cell_type": "markdown",
   "source": [
    "A progress bar can be helpful to show that long operations are actually progressing.  These steps load a progress bar and configure `RE`."
   ],
   "metadata": {}
  },
  {
   "cell_type": "code",
   "execution_count": 27,
   "source": [
    "from bluesky.utils import ProgressBarManager\n",
    "pbar_manager = ProgressBarManager()\n",
    "RE.waiting_hook = pbar_manager"
   ],
   "outputs": [],
   "metadata": {}
  },
  {
   "cell_type": "markdown",
   "source": [
    "The `BestEffortCallback` provides easy visualization of data (tables, plots, peaks statistics) as it is acquired by the `RE`.  Subscribe it to the `RE` so it receives data during a `RE()` run."
   ],
   "metadata": {}
  },
  {
   "cell_type": "code",
   "execution_count": 28,
   "source": [
    "from bluesky.callbacks.best_effort import BestEffortCallback\n",
    "bec = BestEffortCallback()\n",
    "RE.subscribe(bec)\n",
    "peaks = bec.peaks"
   ],
   "outputs": [],
   "metadata": {}
  },
  {
   "cell_type": "markdown",
   "source": [
    "Supplemental *baseline* data is recorded before and after each run.  Additionally, EPICS Channel Access monitors can update PVs asynchronous to the primary data acquisition.  These *monitor*s can be saved as additional data streams in a run.  Prepare to use this feature."
   ],
   "metadata": {}
  },
  {
   "cell_type": "code",
   "execution_count": 29,
   "source": [
    "from bluesky import SupplementalData\n",
    "sd = SupplementalData()\n",
    "RE.preprocessors.append(sd)"
   ],
   "outputs": [],
   "metadata": {}
  },
  {
   "cell_type": "markdown",
   "source": [
    "Add the name of this notebook as metadata to every run.  This is done by adding to the RunEngine's metadata dictionary (`RE.md`), content that will be added to the *start* document of every run.  The metadata is useful documentation about a run and can be used for several purposes, such as to record a general condition (such as the name of this notebook) or to identify these runs from a database search."
   ],
   "metadata": {}
  },
  {
   "cell_type": "code",
   "execution_count": 30,
   "source": [
    "RE.md[\"notebook\"] = \"basic-motor-scaler-scan\""
   ],
   "outputs": [],
   "metadata": {}
  },
  {
   "cell_type": "markdown",
   "source": [
    "### Summary of preparations for scanning\n",
    "\n",
    "- EPICS connections to motor and scaler\n",
    "- databroker\n",
    "- RunEngine\n",
    "- subscriptions\n",
    "    - databroker\n",
    "    - ProgressBarManager\n",
    "    - BestEffortCallback (tables and plots)\n",
    "    - supplemental data (monitors and baselines)\n",
    "- metadata"
   ],
   "metadata": {}
  },
  {
   "cell_type": "markdown",
   "source": [
    "## First scan\n",
    "\n",
    "The standard plans provided in [`bluesky.plans`](https://blueskyproject.io/bluesky/plans.html#pre-assembled-plans) are sufficient for many needs, so import them and, in the same command, give the package a short name (`bp`) since it is used frequently."
   ],
   "metadata": {}
  },
  {
   "cell_type": "code",
   "execution_count": 31,
   "source": [
    "from bluesky import plans as bp"
   ],
   "outputs": [],
   "metadata": {}
  },
  {
   "cell_type": "markdown",
   "source": [
    "The [`scan()`](https://blueskyproject.io/bluesky/generated/bluesky.plans.scan.html#bluesky.plans.scan) plan is flexible and will be used here to scan scaler *vs.* motor.  The first argument is the *list* of detectors to be recorded.  Here, we give the scaler object `vsc16`.  The next argument is the positioner object, then start and end positions, finally, the number of points to be collected.\n",
    "\n",
    "Observe that we do not run the scan directly, but rather give the scan to the `RE()` object.  The `RE()` object will run the scan, performing each of the actions defined by the scan, but also handle the additional tasks of managing the data acquisition process, publishing data to all subscribers (here: databroker and BestEffortCallback) and checking for updates from EPICS and checking if the run must be interrupted either by user request or some other observation.  (We have not configured any of those other observations in this simple example.)"
   ],
   "metadata": {}
  },
  {
   "cell_type": "code",
   "execution_count": 32,
   "source": [
    "RE(bp.scan([vsc16], xpos, -1, 1, 7))"
   ],
   "outputs": [
    {
     "output_type": "stream",
     "name": "stdout",
     "text": [
      "\n",
      "\n",
      "Transient Scan ID: 1     Time: 2021-08-19 14:02:41\n",
      "Persistent Unique Scan ID: 'fb41419c-0aef-4ff4-8992-7aa2b62f9931'\n",
      "xpos:   9%|██▍                        | 0.091/1.0 [00:00<00:01,  1.97s/degrees]\n",
      "xpos:  19%|█████▎                      | 0.19/1.0 [00:00<00:01,  1.47s/degrees]\n",
      "xpos:  29%|████████                    | 0.29/1.0 [00:00<00:00,  1.31s/degrees]\n",
      "xpos:  39%|██████████▉                 | 0.39/1.0 [00:00<00:00,  1.23s/degrees]\n",
      "xpos:  49%|█████████████▎             | 0.491/1.0 [00:00<00:00,  1.18s/degrees]\n",
      "xpos:  59%|███████████████▉           | 0.591/1.0 [00:00<00:00,  1.15s/degrees]\n",
      "xpos:  69%|██████████████████▋        | 0.691/1.0 [00:00<00:00,  1.13s/degrees]\n",
      "xpos:  79%|█████████████████████▍     | 0.792/1.0 [00:00<00:00,  1.11s/degrees]\n",
      "xpos:  89%|████████████████████████   | 0.892/1.0 [00:00<00:00,  1.10s/degrees]\n",
      "xpos:  97%|██████████████████████████▏| 0.968/1.0 [00:01<00:00,  1.12s/degrees]\n",
      "xpos: 100%|██████████████████████████▉| 0.999/1.0 [00:01<00:00,  1.18s/degrees]\n",
      "xpos: 100%|█████████████████████████████| 1.0/1.0 [00:01<00:00,  1.28s/degrees]\n",
      "xpos [In progress. No progress bar available.]                                 \n",
      "                                                                               \n",
      "vsc16 [In progress. No progress bar available.]                                \n",
      "vsc16 [In progress. No progress bar available.]                                \n",
      "                                                                               \n",
      "New stream: 'primary'\n",
      "+-----------+------------+------------+------------+------------+------------+------------+------------+------------+------------+\n",
      "|   seq_num |       time |       xpos |   timebase |         I0 |      scint |      diode |        I00 |       roi1 |       roi2 |\n",
      "+-----------+------------+------------+------------+------------+------------+------------+------------+------------+------------+\n",
      "|         1 | 14:02:43.7 |   -1.00000 |    6000000 |          3 |          2 |          1 |          3 |          0 |          0 |\n",
      "xpos:  27%|██████▎                | 0.091/0.33333 [00:00<00:00,  1.79s/degrees]\n",
      "xpos:  57%|█████████████▋          | 0.19/0.33333 [00:00<00:00,  1.38s/degrees]\n",
      "xpos:  84%|████████████████████▏   | 0.28/0.33333 [00:00<00:00,  1.29s/degrees]\n",
      "xpos:  98%|██████████████████████▌| 0.327/0.33333 [00:00<00:00,  1.42s/degrees]\n",
      "xpos: 100%|██████████████████████▉| 0.333/0.33333 [00:00<00:00,  1.69s/degrees]\n",
      "xpos [In progress. No progress bar available.]                                 \n",
      "                                                                               \n",
      "vsc16 [In progress. No progress bar available.]                                \n",
      "vsc16 [In progress. No progress bar available.]                                \n",
      "                                                                               \n",
      "|         2 | 14:02:45.8 |   -0.66700 |    6000000 |          3 |          3 |          3 |          2 |          0 |          0 |\n",
      "xpos:  27%|██████▎                | 0.091/0.33367 [00:00<00:00,  2.07s/degrees]\n",
      "xpos:  57%|█████████████▏         | 0.191/0.33367 [00:00<00:00,  1.52s/degrees]\n",
      "xpos:  84%|███████████████████▎   | 0.281/0.33367 [00:00<00:00,  1.39s/degrees]\n",
      "xpos:  98%|██████████████████████▌| 0.327/0.33367 [00:00<00:00,  1.50s/degrees]\n",
      "xpos: 100%|█████████████████████| 0.33367/0.33367 [00:00<00:00,  1.77s/degrees]\n",
      "xpos [In progress. No progress bar available.]                                 \n",
      "                                                                               \n",
      "vsc16 [In progress. No progress bar available.]                                \n",
      "vsc16 [In progress. No progress bar available.]                                \n",
      "                                                                               \n",
      "|         3 | 14:02:48.0 |   -0.33300 |    6000000 |          2 |          2 |          2 |          3 |          0 |          0 |\n",
      "xpos:  27%|██████▊                  | 0.091/0.333 [00:00<00:00,  1.42s/degrees]\n",
      "xpos:  57%|██████████████▎          | 0.191/0.333 [00:00<00:00,  1.20s/degrees]\n",
      "xpos:  84%|█████████████████████▊    | 0.28/0.333 [00:00<00:00,  1.18s/degrees]\n",
      "xpos:  98%|████████████████████████▌| 0.327/0.333 [00:00<00:00,  1.32s/degrees]\n",
      "xpos: 100%|█████████████████████████| 0.333/0.333 [00:00<00:00,  1.60s/degrees]\n",
      "xpos [In progress. No progress bar available.]                                 \n",
      "                                                                               \n",
      "vsc16 [In progress. No progress bar available.]                                \n",
      "vsc16 [In progress. No progress bar available.]                                \n",
      "                                                                               \n",
      "|         4 | 14:02:50.1 |    0.00000 |    6000000 |          1 |          3 |          1 |          2 |          0 |          0 |\n",
      "xpos:  27%|██████▍                 | 0.09/0.33333 [00:00<00:00,  1.35s/degrees]\n",
      "xpos:  57%|█████████████▋          | 0.19/0.33333 [00:00<00:00,  1.16s/degrees]\n",
      "xpos:  84%|████████████████████▏   | 0.28/0.33333 [00:00<00:00,  1.15s/degrees]\n",
      "xpos:  98%|██████████████████████▌| 0.327/0.33333 [00:00<00:00,  1.29s/degrees]\n",
      "xpos: 100%|██████████████████████▉| 0.333/0.33333 [00:00<00:00,  1.57s/degrees]\n",
      "xpos [In progress. No progress bar available.]                                 \n",
      "                                                                               \n",
      "vsc16 [In progress. No progress bar available.]                                \n",
      "vsc16 [In progress. No progress bar available.]                                \n",
      "                                                                               \n",
      "|         5 | 14:02:52.1 |    0.33300 |    6000000 |          3 |          2 |          3 |          3 |          0 |          0 |\n",
      "xpos:  27%|██████▎                | 0.091/0.33367 [00:00<00:00,  1.26s/degrees]\n",
      "xpos:  57%|█████████████▏         | 0.191/0.33367 [00:00<00:00,  1.13s/degrees]\n",
      "xpos:  84%|███████████████████▎   | 0.281/0.33367 [00:00<00:00,  1.13s/degrees]\n",
      "xpos:  98%|██████████████████████▌| 0.327/0.33367 [00:00<00:00,  1.27s/degrees]\n",
      "xpos: 100%|█████████████████████| 0.33367/0.33367 [00:00<00:00,  1.55s/degrees]\n",
      "xpos [In progress. No progress bar available.]                                 \n",
      "                                                                               \n",
      "vsc16 [In progress. No progress bar available.]                                \n",
      "vsc16 [In progress. No progress bar available.]                                \n",
      "                                                                               \n",
      "|         6 | 14:02:54.2 |    0.66700 |    6000000 |          3 |          3 |          3 |          3 |          0 |          0 |\n",
      "xpos:  27%|███████                   | 0.09/0.333 [00:00<00:00,  1.90s/degrees]\n",
      "xpos:  57%|██████████████▊           | 0.19/0.333 [00:00<00:00,  1.43s/degrees]\n",
      "xpos:  84%|█████████████████████▊    | 0.28/0.333 [00:00<00:00,  1.33s/degrees]\n",
      "xpos:  98%|████████████████████████▌| 0.327/0.333 [00:00<00:00,  1.45s/degrees]\n",
      "xpos: 100%|█████████████████████████| 0.333/0.333 [00:00<00:00,  1.72s/degrees]\n",
      "xpos [In progress. No progress bar available.]                                 \n",
      "                                                                               \n",
      "vsc16 [In progress. No progress bar available.]                                \n",
      "vsc16 [In progress. No progress bar available.]                                \n",
      "                                                                               \n",
      "|         7 | 14:02:56.3 |    1.00000 |    6000000 |          3 |          4 |          3 |          2 |          0 |          0 |\n",
      "+-----------+------------+------------+------------+------------+------------+------------+------------+------------+------------+\n",
      "generator scan ['fb41419c'] (scan num: 1)\n"
     ]
    },
    {
     "output_type": "stream",
     "name": "stderr",
     "text": [
      "/home/apsu/Apps/miniconda3/envs/bluesky_2021_1/lib/python3.8/site-packages/bluesky/callbacks/fitting.py:165: RuntimeWarning: invalid value encountered in double_scalars\n",
      "  np.sum(input * grids[dir].astype(float), labels, index) / normalizer\n"
     ]
    },
    {
     "output_type": "stream",
     "name": "stdout",
     "text": [
      "\n",
      "\n",
      "\n"
     ]
    },
    {
     "output_type": "execute_result",
     "data": {
      "text/plain": [
       "('fb41419c-0aef-4ff4-8992-7aa2b62f9931',)"
      ]
     },
     "metadata": {},
     "execution_count": 32
    },
    {
     "output_type": "display_data",
     "data": {
      "image/png": "[encoded data removed]",
      "text/plain": [
       "<Figure size 1080x1080 with 9 Axes>"
      ]
     },
     "metadata": {
      "needs_background": "light"
     }
    }
   ],
   "metadata": {}
  },
  {
   "cell_type": "markdown",
   "source": [
    "The scan ran, data was collected and printed at each step of the scan.  Finally, plots were made of the scaler channel *vs* motor position for each active channel.\n",
    "\n",
    "## Fix a few _problems_\n",
    "\n",
    "There were some problems.  First is that an error was reported after the scan (`... callbacks/fitting.py:165: RuntimeWarning: invalid value encountered in double_scalars `).  This error is because the scalers showed no peak during the scan.  The scaler is a simulator with no real data.  We'll ignore that error here.\n",
    "\n",
    "Another problem is that all _named_ scaler channels are shown.  Let's reduce that list to `I0` and `scint` just to show how it is done.  (Set back to default: `vsc16.select_channels()`)"
   ],
   "metadata": {}
  },
  {
   "cell_type": "code",
   "execution_count": 33,
   "source": [
    "vsc16.select_channels(['I0', 'scint'])"
   ],
   "outputs": [],
   "metadata": {}
  },
  {
   "cell_type": "markdown",
   "source": [
    "Another problem is that the scaler counts for 0.1s longer than we have configured.  This is a problem with the underlying EPICS support for a simulated (a.k.a. *soft channel*) scaler.  We'll ignore that error here.\n",
    "\n",
    "Next problem is that the progress bar is a nuisance in this notebook so we'll remove it."
   ],
   "metadata": {}
  },
  {
   "cell_type": "code",
   "execution_count": 34,
   "source": [
    "RE.waiting_hook = None"
   ],
   "outputs": [],
   "metadata": {}
  },
  {
   "cell_type": "markdown",
   "source": [
    "Then, repeat the same scan."
   ],
   "metadata": {}
  },
  {
   "cell_type": "code",
   "execution_count": 35,
   "source": [
    "RE(bp.scan([vsc16], xpos, -1, 1, 7))"
   ],
   "outputs": [
    {
     "output_type": "stream",
     "name": "stdout",
     "text": [
      "\n",
      "\n",
      "Transient Scan ID: 2     Time: 2021-08-19 14:02:58\n",
      "Persistent Unique Scan ID: 'b5f76f7c-78f2-45a5-8264-e0af2ba540bf'\n",
      "New stream: 'primary'\n",
      "+-----------+------------+------------+------------+------------+\n",
      "|   seq_num |       time |       xpos |         I0 |      scint |\n",
      "+-----------+------------+------------+------------+------------+\n",
      "|         1 | 14:03:01.6 |   -1.00000 |          2 |          2 |\n",
      "|         2 | 14:03:03.0 |   -0.66700 |          3 |          3 |\n",
      "|         3 | 14:03:04.4 |   -0.33300 |          2 |          2 |\n",
      "|         4 | 14:03:05.8 |    0.00000 |          1 |          1 |\n",
      "|         5 | 14:03:07.2 |    0.33300 |          2 |          2 |\n",
      "|         6 | 14:03:08.5 |    0.66700 |          1 |          1 |\n",
      "|         7 | 14:03:09.9 |    1.00000 |          4 |          1 |\n",
      "+-----------+------------+------------+------------+------------+\n",
      "generator scan ['b5f76f7c'] (scan num: 2)\n",
      "\n",
      "\n",
      "\n"
     ]
    },
    {
     "output_type": "execute_result",
     "data": {
      "text/plain": [
       "('b5f76f7c-78f2-45a5-8264-e0af2ba540bf',)"
      ]
     },
     "metadata": {},
     "execution_count": 35
    },
    {
     "output_type": "display_data",
     "data": {
      "image/png": "[encoded data removed]",
      "text/plain": [
       "<Figure size 360x720 with 2 Axes>"
      ]
     },
     "metadata": {
      "needs_background": "light"
     }
    }
   ],
   "metadata": {}
  },
  {
   "cell_type": "markdown",
   "source": [
    "## Scan with a *different* counting time : _staging_\n",
    "\n",
    "Suppose that we wish to use a different counting time, we could change the `vsc16.preset_time` value before running the scan.  Another way is to use the `ophyd` concept of [*stage* & *unstage*](https://blueskyproject.io/ophyd/device-overview.html?highlight=staging#stage-and-unstage).  \n",
    "\n",
    "*Staging* is the action of preparing an ophyd device for operation, then resetting it afterwards to its previous values.  For our scaler, we could *stage* a different counting time that would be used during the run, then removed after the run is complete.  The `stage()` and `unstage()` methods are controlled by an `OrderedDictionary` where the keys are the attributes of the Python object and the values are used during the run.  The `RE()` takes care of calling `stage()` and `unstage()` during the scan.\n",
    "\n",
    "Here we show staging of a 2.0s `preset_time` for the run.  Also shown are the `preset_time` value before and after the run."
   ],
   "metadata": {}
  },
  {
   "cell_type": "code",
   "execution_count": 36,
   "source": [
    "print(f\"{vsc16.preset_time.get() = }\")"
   ],
   "outputs": [
    {
     "output_type": "stream",
     "name": "stdout",
     "text": [
      "vsc16.preset_time.get() = 0.5\n"
     ]
    }
   ],
   "metadata": {}
  },
  {
   "cell_type": "code",
   "execution_count": 37,
   "source": [
    "vsc16.stage_sigs[\"preset_time\"] = 2.0"
   ],
   "outputs": [],
   "metadata": {}
  },
  {
   "cell_type": "markdown",
   "source": [
    "Repeat the same scan."
   ],
   "metadata": {}
  },
  {
   "cell_type": "code",
   "execution_count": 38,
   "source": [
    "RE(bp.scan([vsc16], xpos, -1, 1, 7))"
   ],
   "outputs": [
    {
     "output_type": "stream",
     "name": "stdout",
     "text": [
      "\n",
      "\n",
      "Transient Scan ID: 3     Time: 2021-08-19 14:03:10\n",
      "Persistent Unique Scan ID: '04dd2069-cca5-4b55-9ff2-7d4d474cb2e6'\n",
      "New stream: 'primary'\n",
      "+-----------+------------+------------+------------+------------+\n",
      "|   seq_num |       time |       xpos |         I0 |      scint |\n",
      "+-----------+------------+------------+------------+------------+\n",
      "|         1 | 14:03:15.2 |   -1.00000 |         10 |         12 |\n",
      "|         2 | 14:03:18.2 |   -0.66700 |          9 |          8 |\n",
      "|         3 | 14:03:21.1 |   -0.33300 |         10 |          9 |\n",
      "|         4 | 14:03:24.0 |    0.00000 |         11 |         12 |\n",
      "|         5 | 14:03:26.9 |    0.33300 |         11 |          9 |\n",
      "|         6 | 14:03:29.8 |    0.66700 |          8 |         11 |\n",
      "|         7 | 14:03:32.7 |    1.00000 |         11 |         12 |\n",
      "+-----------+------------+------------+------------+------------+\n",
      "generator scan ['04dd2069'] (scan num: 3)\n",
      "\n",
      "\n",
      "\n"
     ]
    },
    {
     "output_type": "execute_result",
     "data": {
      "text/plain": [
       "('04dd2069-cca5-4b55-9ff2-7d4d474cb2e6',)"
      ]
     },
     "metadata": {},
     "execution_count": 38
    },
    {
     "output_type": "display_data",
     "data": {
      "image/png": "[encoded data removed]",
      "text/plain": [
       "<Figure size 360x720 with 2 Axes>"
      ]
     },
     "metadata": {
      "needs_background": "light"
     }
    }
   ],
   "metadata": {}
  },
  {
   "cell_type": "markdown",
   "source": [
    "## Custom plan with configurable count time\n",
    "\n",
    "It is common to want to set the count time at the time the scan is started.  For this feature, a custom scan plan is needed, where we will repeat the steps just shown.  This plan will use similar arguments as the `bp.scan()` used above, but add an optional keyword argument `ct` for the count time with a default of 1.0 second.  For housekeeping, we'll remove the staging configuration from the scaler after the scan.\n",
    "\n",
    "A bluesky [*plan*](https://blueskyproject.io/bluesky/plans.html) is a [Python generator function](https://duckduckgo.com/?t=ffsb&q=Python+generator+function&ia=web).  The `bp.scan()` call is the part that makes this a generator function.  Briefly, a bluesky plan defers execution of the actual scan until the `RE()` calls for it.  This indirection allows the `RE()` to manage the plan's execution when the beam dumps or other interruptions occur.  (A function becomes a generator by the presence of one or more `yield` commands.)"
   ],
   "metadata": {}
  },
  {
   "cell_type": "code",
   "execution_count": 39,
   "source": [
    "def tscan(scaler, pos, pStart, pEnd, nPts, ct=1):\n",
    "    scaler.stage_sigs[\"preset_time\"] = ct\n",
    "    print(f\"{scaler.preset_time.get() = }\")\n",
    "\n",
    "    yield from bp.scan([scaler], pos, pStart, pEnd, nPts)\n",
    "\n",
    "    print(f\"{scaler.preset_time.get() = }\")\n",
    "    del scaler.stage_sigs[\"preset_time\"]"
   ],
   "outputs": [],
   "metadata": {}
  },
  {
   "cell_type": "markdown",
   "source": [
    "Run the custom plan with 2 seconds count time per point (so we can see this in the `time` axis)."
   ],
   "metadata": {}
  },
  {
   "cell_type": "code",
   "execution_count": 40,
   "source": [
    "RE(tscan(vsc16, xpos, -1, 1, 7, 2))"
   ],
   "outputs": [
    {
     "output_type": "stream",
     "name": "stdout",
     "text": [
      "scaler.preset_time.get() = 0.5\n",
      "\n",
      "\n",
      "Transient Scan ID: 4     Time: 2021-08-19 14:03:33\n",
      "Persistent Unique Scan ID: '6a8d542f-46b4-4fa4-a322-a9a81f2d7de9'\n",
      "New stream: 'primary'\n",
      "+-----------+------------+------------+------------+------------+\n",
      "|   seq_num |       time |       xpos |         I0 |      scint |\n",
      "+-----------+------------+------------+------------+------------+\n",
      "|         1 | 14:03:37.9 |   -1.00000 |          9 |         10 |\n",
      "|         2 | 14:03:40.9 |   -0.66700 |         10 |         10 |\n",
      "|         3 | 14:03:43.8 |   -0.33300 |          9 |          8 |\n",
      "|         4 | 14:03:46.7 |    0.00000 |         12 |         12 |\n",
      "|         5 | 14:03:49.6 |    0.33300 |          9 |          8 |\n",
      "|         6 | 14:03:52.5 |    0.66700 |         12 |         11 |\n",
      "|         7 | 14:03:55.4 |    1.00000 |         11 |          9 |\n",
      "+-----------+------------+------------+------------+------------+\n",
      "generator scan ['6a8d542f'] (scan num: 4)\n",
      "\n",
      "\n",
      "\n",
      "scaler.preset_time.get() = 0.5\n"
     ]
    },
    {
     "output_type": "execute_result",
     "data": {
      "text/plain": [
       "('6a8d542f-46b4-4fa4-a322-a9a81f2d7de9',)"
      ]
     },
     "metadata": {},
     "execution_count": 40
    },
    {
     "output_type": "display_data",
     "data": {
      "image/png": "[encoded data removed]",
      "text/plain": [
       "<Figure size 360x720 with 2 Axes>"
      ]
     },
     "metadata": {
      "needs_background": "light"
     }
    }
   ],
   "metadata": {}
  },
  {
   "cell_type": "markdown",
   "source": [
    "## Challenges\n",
    "\n",
    "Try these additional modifications or activities.\n",
    "\n",
    "1. Use `logger` to report at various places.\n",
    "\n",
    "   _Hint_: `logger.info(\"text: %s  value: %g\", s1, v2, ...)`\n",
    "\n",
    "   Consider examples as used in [`peak_finder_example.py`](instrument/plans/peak_finder_example.py).\n",
    "   See the [Python logging tutorial](https://docs.python.org/3/howto/logging.html) for more information.\n",
    "1. Write a custom plan that accepts user-provided metadata.\n",
    "\n",
    "   _Hint_: [`bp.scan()`](https://blueskyproject.io/bluesky/generated/bluesky.plans.scan.html#bluesky.plans.scan) has the `md` keyword argument (_kwarg_) that accepts a dictionary of _key: value_ pairs as the metadata when the plan is run.  Your custom plan should accept the same kwarg and pass this to `bp.scan(md=the_dictionary)`, possibly after adding some of its own keys to the metadata."
   ],
   "metadata": {}
  }
 ],
 "metadata": {
  "kernelspec": {
   "name": "python3",
   "display_name": "Python 3.8.10 64-bit ('bluesky_2021_2': conda)"
  },
  "language_info": {
   "codemirror_mode": {
    "name": "ipython",
    "version": 3
   },
   "file_extension": ".py",
   "mimetype": "text/x-python",
   "name": "python",
   "nbconvert_exporter": "python",
   "pygments_lexer": "ipython3",
   "version": "3.8.10"
  },
  "interpreter": {
   "hash": "fa399ef8ed4fbc3b7fe63ebf4307839a170374bf77134d519fcb3b724ac0582b"
  }
 },
 "nbformat": 4,
 "nbformat_minor": 5
}