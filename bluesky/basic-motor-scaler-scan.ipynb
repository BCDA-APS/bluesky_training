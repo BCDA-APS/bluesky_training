{
 "cells": [
  {
   "cell_type": "markdown",
   "id": "b2d6339b",
   "metadata": {},
   "source": [
    "# Minimal: Scan scaler *vs* motor\n",
    "\n",
    "*APS Training for Bluesky Data Acquisition*.\n",
    "\n",
    "**Objective**\n",
    "\n",
    "Connect an EPICS motor PV, an EPICS scaler PV, and scan using the bluesky *RunEngine* with the *BestEffortCallback* to visualize the acquired data.\n",
    "\n",
    "EPICS PV | Python object name | description\n",
    ":--- | :--- | :---\n",
    "`gp:m1` | `xpos` | motor PV (simulates a stepper motor)\n",
    "`gp:scaler1` | `vsc16` | scaler PV (simulates a Joerger VSC16 scaler)\n",
    "\n",
    "## Connect the motor\n",
    "\n",
    "First, import the `ophyd.EpicsMotor` (class) definition."
   ]
  },
  {
   "cell_type": "code",
   "execution_count": 1,
   "id": "759a8e3e",
   "metadata": {},
   "outputs": [],
   "source": [
    "from ophyd import EpicsMotor"
   ]
  },
  {
   "cell_type": "markdown",
   "id": "9c7797dd",
   "metadata": {},
   "source": [
    "Then, define the `xpos` object.  The EPICS PV is the first argument.  The `name=\"xpos\"` is\n",
    "required.  Make the value of this keyword argument match the name of the Python object being assigned.  The `labels=(\"motor\",)` keyword argument enables certain features for the user interface that will be described later."
   ]
  },
  {
   "cell_type": "code",
   "execution_count": 2,
   "id": "f756ca7c",
   "metadata": {},
   "outputs": [],
   "source": [
    "xpos = EpicsMotor(\"gp:m1\", name=\"xpos\", labels=(\"motor\",))"
   ]
  },
  {
   "cell_type": "markdown",
   "id": "2e2acc0b",
   "metadata": {},
   "source": [
    "Wait for that to connect with EPICS"
   ]
  },
  {
   "cell_type": "code",
   "execution_count": 3,
   "id": "ade72f21",
   "metadata": {},
   "outputs": [],
   "source": [
    "xpos.wait_for_connection()"
   ]
  },
  {
   "cell_type": "markdown",
   "id": "97041b55",
   "metadata": {},
   "source": [
    "Show the position of the `xpos` motor now."
   ]
  },
  {
   "cell_type": "code",
   "execution_count": 4,
   "id": "4d11b93b",
   "metadata": {},
   "outputs": [
    {
     "data": {
      "text/plain": [
       "0.0"
      ]
     },
     "execution_count": 4,
     "metadata": {},
     "output_type": "execute_result"
    }
   ],
   "source": [
    "xpos.position"
   ]
  },
  {
   "cell_type": "markdown",
   "id": "e3a69450",
   "metadata": {},
   "source": [
    "Try to move `xpos` using the IPython magic command: `%mov`."
   ]
  },
  {
   "cell_type": "code",
   "execution_count": 5,
   "id": "4562b1e3",
   "metadata": {},
   "outputs": [
    {
     "name": "stdout",
     "output_type": "stream",
     "text": [
      "Exception: Line magic function `%mov` not found.\n"
     ]
    }
   ],
   "source": [
    "# wrap in a try..except handler so notebook can run past this point\n",
    "try:\n",
    "    %mov xpos 1\n",
    "except Exception as exc:\n",
    "    print(f\"Exception: {exc}\")"
   ]
  },
  {
   "cell_type": "markdown",
   "id": "5c45ba06",
   "metadata": {},
   "source": [
    "Note this command fails since the IPython magic commands are not loaded automatically.  As an alternative, use the motor's `.move(SETPOINT)` method to move the motor to the new *SETPOINT* value.  Here, move `xpos` to `1`."
   ]
  },
  {
   "cell_type": "code",
   "execution_count": 6,
   "id": "49fe2bd4",
   "metadata": {},
   "outputs": [
    {
     "data": {
      "text/plain": [
       "MoveStatus(done=True, pos=xpos, elapsed=1.3, success=True, settle_time=0.0)"
      ]
     },
     "execution_count": 6,
     "metadata": {},
     "output_type": "execute_result"
    }
   ],
   "source": [
    "xpos.move(1)"
   ]
  },
  {
   "cell_type": "markdown",
   "id": "887ab278",
   "metadata": {},
   "source": [
    "The `.move()` method returns a status object.  The status object may be used to report about the move or to wait for the motor to complete its move.\n",
    "\n",
    "Next, load the IPython *Magic* commands provided by `bluesky`.  These are helpers to make the command line use easier.  Use them at your choice."
   ]
  },
  {
   "cell_type": "code",
   "execution_count": 7,
   "id": "7e97e2ac",
   "metadata": {},
   "outputs": [],
   "source": [
    "from bluesky.magics import BlueskyMagics\n",
    "get_ipython().register_magics(BlueskyMagics)"
   ]
  },
  {
   "cell_type": "markdown",
   "id": "36bcf8b8",
   "metadata": {},
   "source": [
    "Repeat the move of `xpos` by sending it to `0` using the magic command."
   ]
  },
  {
   "cell_type": "code",
   "execution_count": 8,
   "id": "7b1672f6",
   "metadata": {},
   "outputs": [
    {
     "name": "stdout",
     "output_type": "stream",
     "text": [
      "xpos:   9%|██▌                         | 0.09/1.0 [00:00<00:01,  1.80s/degrees]\n",
      "xpos:  19%|█████▎                      | 0.19/1.0 [00:00<00:01,  1.38s/degrees]\n",
      "xpos:  29%|████████                    | 0.29/1.0 [00:00<00:00,  1.25s/degrees]\n",
      "xpos:  39%|██████████▉                 | 0.39/1.0 [00:00<00:00,  1.19s/degrees]\n",
      "xpos:  49%|█████████████▋              | 0.49/1.0 [00:00<00:00,  1.15s/degrees]\n",
      "xpos:  59%|████████████████▌           | 0.59/1.0 [00:00<00:00,  1.12s/degrees]\n",
      "xpos:  69%|███████████████████▎        | 0.69/1.0 [00:00<00:00,  1.11s/degrees]\n",
      "xpos:  79%|██████████████████████      | 0.79/1.0 [00:00<00:00,  1.09s/degrees]\n",
      "xpos:  89%|████████████████████████▉   | 0.89/1.0 [00:00<00:00,  1.08s/degrees]\n",
      "xpos:  97%|███████████████████████████▏| 0.97/1.0 [00:01<00:00,  1.10s/degrees]\n",
      "xpos: 100%|█████████████████████████████| 1.0/1.0 [00:01<00:00,  1.17s/degrees]\n",
      "xpos [In progress. No progress bar available.]                                 \n",
      "                                                                               \n"
     ]
    }
   ],
   "source": [
    "%mov xpos 0"
   ]
  },
  {
   "cell_type": "markdown",
   "id": "e8eacf36",
   "metadata": {},
   "source": [
    "## Connect the scaler\n",
    "As before, import the ophyd class:"
   ]
  },
  {
   "cell_type": "code",
   "execution_count": 9,
   "id": "0d2e378e",
   "metadata": {},
   "outputs": [],
   "source": [
    "from ophyd.scaler import ScalerCH"
   ]
  },
  {
   "cell_type": "markdown",
   "id": "f434d495",
   "metadata": {},
   "source": [
    "Then, connect with the EPICS PV.  This is similar to how the motor was connected (above).  Make the `name=` keyword match with the Python object name being created.   The `labels=(\"scalers\", \"detectors\")` keyword argument enables certain features for the user interface that will be described later."
   ]
  },
  {
   "cell_type": "code",
   "execution_count": 10,
   "id": "f36dfb31",
   "metadata": {},
   "outputs": [],
   "source": [
    "vsc16 = ScalerCH(\"gp:scaler1\", name=\"vsc16\", labels=[\"scalers\", \"detectors\"])"
   ]
  },
  {
   "cell_type": "markdown",
   "id": "9e7d6677",
   "metadata": {},
   "source": [
    "Configure the Python object to ignore the channels with no name defined (in the `.NMnn` field of the scaler PV).\n",
    "\n",
    "In this example control screen for our scaler, only a few of the channels are named:\n",
    "\n",
    "![`scaler` GUI](resources/scaler.png \"`scaler1` GUI\")"
   ]
  },
  {
   "cell_type": "code",
   "execution_count": 11,
   "id": "151ec308",
   "metadata": {},
   "outputs": [],
   "source": [
    "vsc16.select_channels()"
   ]
  },
  {
   "cell_type": "markdown",
   "id": "e9753486",
   "metadata": {},
   "source": [
    "Show the value for each of the named channels in **our** scaler.  This will also include the most recent count time."
   ]
  },
  {
   "cell_type": "code",
   "execution_count": 12,
   "id": "004f6192",
   "metadata": {},
   "outputs": [
    {
     "data": {
      "text/plain": [
       "OrderedDict([('vsc16_time', {'value': 0.0, 'timestamp': 631152000.0})])"
      ]
     },
     "execution_count": 12,
     "metadata": {},
     "output_type": "execute_result"
    }
   ],
   "source": [
    "vsc16.read()"
   ]
  },
  {
   "cell_type": "markdown",
   "id": "9b29cdde",
   "metadata": {},
   "source": [
    "If *no* channels are shown, such as:\n",
    "\n",
    "```python\n",
    "OrderedDict([('vsc16_time', {'value': 0.0, 'timestamp': 631152000.0})])\n",
    "```\n",
    "\n",
    "then we want to name some channels here for our simulator.  We can do this directly from Python (although you would not usually want to do this at a real, operating instrument, since the channels are named as a result of hardware connections with real detectors).  We'll take channels 1-5 for `timebase`, `I0`, `scint`, `diode`, & `I00`, then skip a few channels to 11 & 12 and call them `roi1` & `roi2`, respectively.\n",
    "\n",
    "It's OK to have empty (that is, unnamed) channels.  It's not OK to have white space in these names since the names will be used as Python objects within bluesky.  That also means no other characters (such as math symbols and such) that cannot be used as a [Python object name](https://www.python.org/dev/peps/pep-0008/#naming-conventions).  Also, do not use the same name in two different scaler channels."
   ]
  },
  {
   "cell_type": "code",
   "execution_count": 13,
   "id": "f56b09b0",
   "metadata": {},
   "outputs": [],
   "source": [
    "vsc16.channels.chan01.chname.put(\"timebase\")\n",
    "vsc16.channels.chan02.chname.put(\"I0\")\n",
    "vsc16.channels.chan03.chname.put(\"scint\")\n",
    "vsc16.channels.chan04.chname.put(\"diode\")\n",
    "vsc16.channels.chan05.chname.put(\"I00\")\n",
    "vsc16.channels.chan11.chname.put(\"roi1\")\n",
    "vsc16.channels.chan12.chname.put(\"roi2\")"
   ]
  },
  {
   "cell_type": "markdown",
   "id": "46d9ae2f",
   "metadata": {},
   "source": [
    "Then select the named channels and read again:"
   ]
  },
  {
   "cell_type": "code",
   "execution_count": 14,
   "id": "c406d114",
   "metadata": {},
   "outputs": [
    {
     "data": {
      "text/plain": [
       "OrderedDict([('timebase', {'value': 0.0, 'timestamp': 631152000.0}),\n",
       "             ('roi1', {'value': 0.0, 'timestamp': 631152000.0}),\n",
       "             ('roi2', {'value': 0.0, 'timestamp': 631152000.0}),\n",
       "             ('vsc16_time', {'value': 0.0, 'timestamp': 631152000.0})])"
      ]
     },
     "execution_count": 14,
     "metadata": {},
     "output_type": "execute_result"
    }
   ],
   "source": [
    "vsc16.select_channels()\n",
    "vsc16.read()"
   ]
  },
  {
   "cell_type": "markdown",
   "id": "da09b3c8",
   "metadata": {},
   "source": [
    "### Set the scaler's counting time\n",
    "\n",
    "The `ScalerCH` class defines the count time as the `preset_time` attribute.  Show it's value:"
   ]
  },
  {
   "cell_type": "code",
   "execution_count": 15,
   "id": "aa872c34",
   "metadata": {},
   "outputs": [
    {
     "data": {
      "text/plain": [
       "1.0"
      ]
     },
     "execution_count": 15,
     "metadata": {},
     "output_type": "execute_result"
    }
   ],
   "source": [
    "vsc16.preset_time.get()"
   ]
  },
  {
   "cell_type": "markdown",
   "id": "a9b2fef4",
   "metadata": {},
   "source": [
    "Set the counting time to 0.5 s using the `%mov` magic command (same command that moves a motor)."
   ]
  },
  {
   "cell_type": "code",
   "execution_count": 16,
   "id": "4c326d6d",
   "metadata": {},
   "outputs": [],
   "source": [
    "%mov vsc16.preset_time 0.5"
   ]
  },
  {
   "cell_type": "markdown",
   "id": "37164902",
   "metadata": {},
   "source": [
    "Use the IPython `%ct` magic command to count each object with the `detectors` label keyword."
   ]
  },
  {
   "cell_type": "code",
   "execution_count": 17,
   "id": "d2f52db5",
   "metadata": {},
   "outputs": [
    {
     "name": "stdout",
     "output_type": "stream",
     "text": [
      "[This data will not be saved. Use the RunEngine to collect data.]\n",
      "timebase                       6000000.0\n",
      "roi1                           0.0\n",
      "roi2                           0.0\n",
      "vsc16_time                     0.6\n"
     ]
    }
   ],
   "source": [
    "%ct"
   ]
  },
  {
   "cell_type": "markdown",
   "id": "fbd35ac3",
   "metadata": {},
   "source": [
    "### `labels` and the `%wa` magic command\n",
    "\n",
    "As noted above, the `labels=LIST` keyword argument used when the motor and scaler objects were create enable certain features.  For example, the `%ct` magic command will count all the `detectors`.\n",
    "\n",
    "Actually, `detectors` is the default argument for the `%ct` magic.  If an arument is supplied, it is the name of a label to be matched.  This is why the additional label of `scalers` was included.  Thus, we could count *only* `scalers` with the command `%ct scalers`.\n",
    "\n",
    "Use the `labels` keyword liberally to group similar objects.\n",
    "\n",
    "The `%wa` magic shows relevant information for all labeled objects (or, for the named label if supplied).  For example:"
   ]
  },
  {
   "cell_type": "code",
   "execution_count": 18,
   "id": "8baea5a7",
   "metadata": {},
   "outputs": [
    {
     "name": "stdout",
     "output_type": "stream",
     "text": [
      "motor\n",
      "  Positioner                     Value       Low Limit   High Limit  Offset     \n",
      "  xpos                           0.0         -32000.0    32000.0     0.0        \n",
      "\n",
      "  Local variable name                    Ophyd name (to be recorded as metadata)\n",
      "  xpos                                   xpos                                  \n",
      "\n",
      "detectors\n",
      "  Local variable name                    Ophyd name (to be recorded as metadata)\n",
      "  vsc16                                  vsc16                                 \n",
      "\n",
      "scalers\n",
      "  Local variable name                    Ophyd name (to be recorded as metadata)\n",
      "  vsc16                                  vsc16                                 \n",
      "\n"
     ]
    }
   ],
   "source": [
    "%wa"
   ]
  },
  {
   "cell_type": "code",
   "execution_count": 19,
   "id": "5d9cb239",
   "metadata": {},
   "outputs": [
    {
     "name": "stdout",
     "output_type": "stream",
     "text": [
      "motor\n",
      "  Positioner                     Value       Low Limit   High Limit  Offset     \n",
      "  xpos                           0.0         -32000.0    32000.0     0.0        \n",
      "\n",
      "  Local variable name                    Ophyd name (to be recorded as metadata)\n",
      "  xpos                                   xpos                                  \n",
      "\n"
     ]
    }
   ],
   "source": [
    "%wa motor"
   ]
  },
  {
   "cell_type": "markdown",
   "id": "47fe99f0",
   "metadata": {},
   "source": [
    "## Prepare to scan\n",
    "\n",
    "Before we can run our first bluesky scan, we have to import various software tools.\n",
    "\n",
    "First is the bluesky `RunEngine()`, which will manage the various activities for the scan (move motor, wait, trigger scaler, wait, collect channel data, publish to data subscribers, ...).\n",
    "\n",
    "Create a `RunEngine()` object.  The argument here is a dictionary (empty in this training session).  (For routine operations at an instrument, the dictionary is filled with information saved from the previous session.)"
   ]
  },
  {
   "cell_type": "code",
   "execution_count": 20,
   "id": "30e1a6d9",
   "metadata": {
    "tags": []
   },
   "outputs": [],
   "source": [
    "import bluesky\n",
    "RE = bluesky.RunEngine({})"
   ]
  },
  {
   "cell_type": "markdown",
   "id": "59ab83f0",
   "metadata": {},
   "source": [
    "To save the acquired data, we connect with a MongoDB database using a preconfigured datafile that describes our *training* catalog.  Using the IPython `!` technique to issue a Linux command from an IPython session, we `cat` (concatenate) the contents of that file to the output here:"
   ]
  },
  {
   "cell_type": "code",
   "execution_count": 21,
   "id": "77ecc044",
   "metadata": {},
   "outputs": [
    {
     "name": "stdout",
     "output_type": "stream",
     "text": [
      "# file: training.yml\n",
      "# purpose: Configuration file to connect Bluesky databroker with MongoDB\n",
      "# For Bluesky Python Training at APS\n",
      "\n",
      "# Copy to: ~/.local/share/intake/training.yml\n",
      "# Create subdirectories as needed\n",
      "\n",
      "sources:\n",
      "  training:\n",
      "    args:\n",
      "      asset_registry_db: mongodb://localhost:27017/training-bluesky\n",
      "      metadatastore_db: mongodb://localhost:27017/training-bluesky\n",
      "    driver: bluesky-mongo-normalized-catalog\n",
      "\n"
     ]
    }
   ],
   "source": [
    "!cat ~/.local/share/intake/training.yml"
   ]
  },
  {
   "cell_type": "markdown",
   "id": "4435ba9b",
   "metadata": {},
   "source": [
    "To connect, we need the *training* catalog.  This name is provided by the line indented after the `sources:` line in the above `.yml` file.  (The name of the `.yml` file does not matter.  The `databroker.catalog` software will look through all `.yml` files in this directory for the`training` configuration.)\n",
    "\n",
    "We'll use the reference to our databroker catalog frequently, so we give it a short name."
   ]
  },
  {
   "cell_type": "code",
   "execution_count": 22,
   "id": "5b597383",
   "metadata": {},
   "outputs": [
    {
     "name": "stderr",
     "output_type": "stream",
     "text": [
      "/home/mintadmin/Apps/anaconda/envs/bluesky_2021_1/lib/python3.8/site-packages/databroker/core.py:1856: UserWarning: There are 2 entrypoints for the databroker handler spec 'NPY_SEQ'. They are [EntryPoint('NPY_SEQ', 'ophyd.sim', 'NumpySeqHandler', Distribution('ophyd', '1.6.0')), EntryPoint('NPY_SEQ', 'ophyd.sim', 'NumpySeqHandler', None)]. The match EntryPoint('NPY_SEQ', 'ophyd.sim', 'NumpySeqHandler', Distribution('ophyd', '1.6.0')) has won the race.\n",
      "  warnings.warn(\n"
     ]
    }
   ],
   "source": [
    "import databroker\n",
    "db = databroker.catalog[\"training\"]"
   ]
  },
  {
   "cell_type": "markdown",
   "id": "f767f627",
   "metadata": {},
   "source": [
    "How many (bluesky data collection) *runs* are recorded in this catalog?  Get its *length*:"
   ]
  },
  {
   "cell_type": "code",
   "execution_count": 23,
   "id": "c1be0932",
   "metadata": {},
   "outputs": [
    {
     "data": {
      "text/plain": [
       "32"
      ]
     },
     "execution_count": 23,
     "metadata": {},
     "output_type": "execute_result"
    }
   ],
   "source": [
    "len(db)"
   ]
  },
  {
   "cell_type": "markdown",
   "id": "78e7bbc8",
   "metadata": {},
   "source": [
    "Configure `RE` to publish the run data to our `db` object.  We must use the `.v1` software interface for legacy reasons."
   ]
  },
  {
   "cell_type": "code",
   "execution_count": 24,
   "id": "6ca76d00",
   "metadata": {},
   "outputs": [
    {
     "data": {
      "text/plain": [
       "0"
      ]
     },
     "execution_count": 24,
     "metadata": {},
     "output_type": "execute_result"
    }
   ],
   "source": [
    "RE.subscribe(db.v1.insert)"
   ]
  },
  {
   "cell_type": "markdown",
   "id": "dda8a452",
   "metadata": {},
   "source": [
    "A progress bar can be helpful to show that long operations are actually progressing.  These steps load a progress bar and configure `RE`."
   ]
  },
  {
   "cell_type": "code",
   "execution_count": 25,
   "id": "b1cb32be",
   "metadata": {},
   "outputs": [],
   "source": [
    "from bluesky.utils import ProgressBarManager\n",
    "pbar_manager = ProgressBarManager()\n",
    "RE.waiting_hook = pbar_manager"
   ]
  },
  {
   "cell_type": "markdown",
   "id": "f3e64bf1",
   "metadata": {},
   "source": [
    "The `BestEffortCallback` provides easy visualization of data (tables, plots, peaks statistics) as it is acquired by the `RE`.  Subscribe it to the `RE` so it receives data during a `RE()` run."
   ]
  },
  {
   "cell_type": "code",
   "execution_count": 26,
   "id": "464dafd5",
   "metadata": {},
   "outputs": [],
   "source": [
    "from bluesky.callbacks.best_effort import BestEffortCallback\n",
    "bec = BestEffortCallback()\n",
    "RE.subscribe(bec)\n",
    "peaks = bec.peaks"
   ]
  },
  {
   "cell_type": "markdown",
   "id": "4283a01b",
   "metadata": {},
   "source": [
    "Supplemental *baseline* data is recorded before and after each run.  Additionally, EPICS Channel Access monitors can update PVs asynchronous to the primary data acquisition.  These *monitor*s can be saved as additional data streams in a run.  Prepare to use this feature."
   ]
  },
  {
   "cell_type": "code",
   "execution_count": 27,
   "id": "1de5425e",
   "metadata": {},
   "outputs": [],
   "source": [
    "from bluesky import SupplementalData\n",
    "sd = SupplementalData()\n",
    "RE.preprocessors.append(sd)"
   ]
  },
  {
   "cell_type": "markdown",
   "id": "09692a20",
   "metadata": {},
   "source": [
    "Add the name of this notebook as metadata to every run.  This is done by adding to the RunEngine's metadata dictionary (`RE.md`), content that will be added to the *start* document of every run.  The metadata is useful documentation about a run and can be used for several purposes, such as to record a general condition (such as the name of this notebook) or to identify these runs from a database search."
   ]
  },
  {
   "cell_type": "code",
   "execution_count": 28,
   "id": "62edef76",
   "metadata": {},
   "outputs": [],
   "source": [
    "RE.md[\"notebook\"] = \"basic-motor-scaler-scan\""
   ]
  },
  {
   "cell_type": "markdown",
   "id": "cb2da470",
   "metadata": {},
   "source": [
    "## First scan\n",
    "\n",
    "The standard plans provided in `bluesky.plans` are sufficient for many needs, so import them and, in the same command, give the package a short name (`bp`) since it is used frequently."
   ]
  },
  {
   "cell_type": "code",
   "execution_count": 29,
   "id": "adf2706b",
   "metadata": {},
   "outputs": [],
   "source": [
    "from bluesky import plans as bp"
   ]
  },
  {
   "cell_type": "markdown",
   "id": "773293e2",
   "metadata": {},
   "source": [
    "The [`scan()`](https://blueskyproject.io/bluesky/generated/bluesky.plans.scan.html#bluesky.plans.scan) plan is flexible and will be used here to scan scaler *vs.* motor.  The first argument is the *list* of detectors to be recorded.  Here, we give the scaler object `vsc16`.  The next argument is the positioner object, then start and end positions, finally, the number of points to be collected.\n",
    "\n",
    "Observe that we do not run the scan directly, but rather give the scan to the `RE()` object.  The `RE()` object will run the scan, performing each of the actions defined by the scan, but also handle the additional tasks of managing the data acquisition process, publishing data to all subscribers (here: databroker and BestEffortCallback) and checking for updates from EPICS and checking if the run must be interrupted either by user request or some other observation.  (We have not configured any of those other observations in this simple example.)"
   ]
  },
  {
   "cell_type": "code",
   "execution_count": 30,
   "id": "9324311e",
   "metadata": {},
   "outputs": [
    {
     "name": "stdout",
     "output_type": "stream",
     "text": [
      "\n",
      "\n",
      "Transient Scan ID: 1     Time: 2021-05-14 16:37:07\n",
      "Persistent Unique Scan ID: '4127b5e8-5269-4b86-a4ea-c63a84190a69'\n",
      "xpos:   9%|██▌                         | 0.09/1.0 [00:00<00:01,  1.73s/degrees]\n",
      "xpos:  19%|█████▎                      | 0.19/1.0 [00:00<00:01,  1.35s/degrees]\n",
      "xpos:  29%|████████                    | 0.29/1.0 [00:00<00:00,  1.23s/degrees]\n",
      "xpos:  39%|██████████▉                 | 0.39/1.0 [00:00<00:00,  1.17s/degrees]\n",
      "xpos:  49%|█████████████▋              | 0.49/1.0 [00:00<00:00,  1.14s/degrees]\n",
      "xpos:  59%|████████████████▌           | 0.59/1.0 [00:00<00:00,  1.12s/degrees]\n",
      "xpos:  69%|███████████████████▎        | 0.69/1.0 [00:00<00:00,  1.10s/degrees]\n",
      "xpos:  79%|██████████████████████      | 0.79/1.0 [00:00<00:00,  1.09s/degrees]\n",
      "xpos:  89%|████████████████████████▉   | 0.89/1.0 [00:00<00:00,  1.08s/degrees]\n",
      "xpos:  97%|███████████████████████████▏| 0.97/1.0 [00:01<00:00,  1.10s/degrees]\n",
      "xpos: 100%|█████████████████████████████| 1.0/1.0 [00:01<00:00,  1.16s/degrees]\n",
      "xpos [In progress. No progress bar available.]                                 \n",
      "                                                                               \n",
      "vsc16 [In progress. No progress bar available.]                                \n",
      "vsc16 [In progress. No progress bar available.]                                \n",
      "                                                                               \n",
      "New stream: 'primary'\n",
      "+-----------+------------+------------+------------+------------+------------+\n",
      "|   seq_num |       time |       xpos |   timebase |       roi1 |       roi2 |\n",
      "+-----------+------------+------------+------------+------------+------------+\n",
      "|         1 | 16:37:09.3 |   -1.00000 |    6000000 |          0 |          0 |\n",
      "xpos:  27%|██████▍                 | 0.09/0.33333 [00:00<00:00,  1.42s/degrees]\n",
      "xpos:  57%|█████████████▋          | 0.19/0.33333 [00:00<00:00,  1.20s/degrees]\n",
      "xpos:  84%|████████████████████▏   | 0.28/0.33333 [00:00<00:00,  1.18s/degrees]\n",
      "xpos:  99%|███████████████████████▊| 0.33/0.33333 [00:00<00:00,  1.30s/degrees]\n",
      "xpos [In progress. No progress bar available.]                                 \n",
      "                                                                               \n",
      "vsc16 [In progress. No progress bar available.]                                \n",
      "vsc16 [In progress. No progress bar available.]                                \n",
      "                                                                               \n",
      "|         2 | 16:37:10.8 |   -0.67000 |    6000000 |          0 |          0 |\n",
      "xpos:  27%|██████▍                 | 0.09/0.33667 [00:00<00:00,  2.18s/degrees]\n",
      "xpos:  56%|█████████████▌          | 0.19/0.33667 [00:00<00:00,  1.56s/degrees]\n",
      "xpos:  83%|███████████████████▉    | 0.28/0.33667 [00:00<00:00,  1.42s/degrees]\n",
      "xpos:  98%|███████████████████████▌| 0.33/0.33667 [00:00<00:00,  1.51s/degrees]\n",
      "xpos: 100%|█████████████████████| 0.33667/0.33667 [00:00<00:00,  1.78s/degrees]\n",
      "xpos [In progress. No progress bar available.]                                 \n",
      "                                                                               \n",
      "vsc16 [In progress. No progress bar available.]                                \n",
      "vsc16 [In progress. No progress bar available.]                                \n",
      "                                                                               \n",
      "|         3 | 16:37:12.3 |   -0.33000 |    6000000 |          0 |          0 |\n",
      "xpos:  27%|███████▎                   | 0.09/0.33 [00:00<00:00,  2.15s/degrees]\n",
      "xpos:  58%|███████████████▌           | 0.19/0.33 [00:00<00:00,  1.55s/degrees]\n",
      "xpos:  85%|██████████████████████▉    | 0.28/0.33 [00:00<00:00,  1.41s/degrees]\n",
      "xpos:  97%|██████████████████████████▏| 0.32/0.33 [00:00<00:00,  1.55s/degrees]\n",
      "xpos: 100%|███████████████████████████| 0.33/0.33 [00:00<00:00,  1.81s/degrees]\n",
      "xpos [In progress. No progress bar available.]                                 \n",
      "                                                                               \n",
      "vsc16 [In progress. No progress bar available.]                                \n",
      "vsc16 [In progress. No progress bar available.]                                \n",
      "                                                                               \n",
      "|         4 | 16:37:13.8 |    0.00000 |    6000000 |          0 |          0 |\n",
      "xpos:  27%|██████▍                 | 0.09/0.33333 [00:00<00:00,  1.17s/degrees]\n",
      "xpos:  57%|█████████████▋          | 0.19/0.33333 [00:00<00:00,  1.08s/degrees]\n",
      "xpos:  84%|████████████████████▏   | 0.28/0.33333 [00:00<00:00,  1.09s/degrees]\n",
      "xpos:  99%|███████████████████████▊| 0.33/0.33333 [00:00<00:00,  1.23s/degrees]\n",
      "xpos [In progress. No progress bar available.]                                 \n",
      "                                                                               \n",
      "vsc16 [In progress. No progress bar available.]                                \n",
      "vsc16 [In progress. No progress bar available.]                                \n",
      "                                                                               \n",
      "|         5 | 16:37:15.2 |    0.33000 |    6000000 |          0 |          0 |\n",
      "xpos:  30%|███████▍                 | 0.1/0.33667 [00:00<00:00,  1.43s/degrees]\n",
      "xpos:  59%|██████████████▊          | 0.2/0.33667 [00:00<00:00,  1.22s/degrees]\n",
      "xpos:  86%|████████████████████▋   | 0.29/0.33667 [00:00<00:00,  1.19s/degrees]\n",
      "xpos:  98%|███████████████████████▌| 0.33/0.33667 [00:00<00:00,  1.35s/degrees]\n",
      "xpos: 100%|█████████████████████| 0.33667/0.33667 [00:00<00:00,  1.64s/degrees]\n",
      "xpos [In progress. No progress bar available.]                                 \n",
      "                                                                               \n",
      "vsc16 [In progress. No progress bar available.]                                \n",
      "vsc16 [In progress. No progress bar available.]                                \n",
      "                                                                               \n",
      "|         6 | 16:37:16.7 |    0.67000 |    6000000 |          0 |          0 |\n",
      "xpos:  27%|███████▎                   | 0.09/0.33 [00:00<00:00,  1.50s/degrees]\n",
      "xpos:  58%|███████████████▌           | 0.19/0.33 [00:00<00:00,  1.24s/degrees]\n",
      "xpos:  85%|██████████████████████▉    | 0.28/0.33 [00:00<00:00,  1.20s/degrees]\n",
      "xpos:  97%|██████████████████████████▏| 0.32/0.33 [00:00<00:00,  1.36s/degrees]\n",
      "xpos: 100%|███████████████████████████| 0.33/0.33 [00:00<00:00,  1.63s/degrees]\n",
      "xpos [In progress. No progress bar available.]                                 \n",
      "                                                                               \n",
      "xpos [In progress. No progress bar available.]                                 \n",
      "vsc16 [In progress. No progress bar available.]                                \n",
      "xpos [In progress. No progress bar available.]                                 \n",
      "vsc16 [In progress. No progress bar available.]                                \n",
      "                                                                               \n",
      "                                                                               \n",
      "|         7 | 16:37:18.3 |    1.00000 |    6000000 |          0 |          0 |\n",
      "+-----------+------------+------------+------------+------------+------------+\n",
      "generator scan ['4127b5e8'] (scan num: 1)\n"
     ]
    },
    {
     "name": "stderr",
     "output_type": "stream",
     "text": [
      "/home/mintadmin/Apps/anaconda/envs/bluesky_2021_1/lib/python3.8/site-packages/bluesky/callbacks/fitting.py:165: RuntimeWarning: invalid value encountered in double_scalars\n",
      "  np.sum(input * grids[dir].astype(float), labels, index) / normalizer\n"
     ]
    },
    {
     "name": "stdout",
     "output_type": "stream",
     "text": [
      "\n",
      "\n",
      "\n"
     ]
    },
    {
     "data": {
      "text/plain": [
       "('4127b5e8-5269-4b86-a4ea-c63a84190a69',)"
      ]
     },
     "execution_count": 30,
     "metadata": {},
     "output_type": "execute_result"
    },
    {
     "data": {
      "image/png": "[encoded data removed]",
      "text/plain": [
       "<Figure size 360x1080 with 3 Axes>"
      ]
     },
     "metadata": {
      "needs_background": "light"
     },
     "output_type": "display_data"
    }
   ],
   "source": [
    "RE(bp.scan([vsc16], xpos, -1, 1, 7))"
   ]
  },
  {
   "cell_type": "markdown",
   "id": "93af6e8a",
   "metadata": {},
   "source": [
    "The scan ran, data was collected and printed at each step of the scan.  Finally, plots were made of the scaler channel *vs* motor position for each active channel.\n",
    "\n",
    "There were some problems.  First is that an error was reported after the scan (`... callbacks/fitting.py:165: RuntimeWarning: invalid value encountered in double_scalars `).  This error is because the scalers showed no peak during the scan.  The scaler is a simulator with no real data.  We'll ignore that error here.\n",
    "\n",
    "Another problem is that the scaler counts for 0.1s longer than we have configured.  This is a problem with the underlying EPICS support for a simulated (a.k.a. *soft channel*) scaler.  We'll ignore that error here.\n",
    "\n",
    "Next problem is that the progress bar is a nuisance in this notebook so we'll remove it."
   ]
  },
  {
   "cell_type": "code",
   "execution_count": 31,
   "id": "0a3ffe02",
   "metadata": {},
   "outputs": [],
   "source": [
    "RE.waiting_hook = None"
   ]
  },
  {
   "cell_type": "markdown",
   "id": "92bbd4ae",
   "metadata": {},
   "source": [
    "Then, repeat the same scan."
   ]
  },
  {
   "cell_type": "code",
   "execution_count": 32,
   "id": "5dcb42eb",
   "metadata": {},
   "outputs": [
    {
     "name": "stdout",
     "output_type": "stream",
     "text": [
      "\n",
      "\n",
      "Transient Scan ID: 2     Time: 2021-05-14 16:37:19\n",
      "Persistent Unique Scan ID: '7068e871-c812-4dc1-a5d5-fa64d7bff9f0'\n",
      "New stream: 'primary'\n",
      "+-----------+------------+------------+------------+------------+------------+\n",
      "|   seq_num |       time |       xpos |   timebase |       roi1 |       roi2 |\n",
      "+-----------+------------+------------+------------+------------+------------+\n",
      "|         1 | 16:37:22.3 |   -1.00000 |    6000000 |          0 |          0 |\n",
      "|         2 | 16:37:23.7 |   -0.67000 |    6000000 |          0 |          0 |\n",
      "|         3 | 16:37:25.2 |   -0.33000 |    6000000 |          0 |          0 |\n",
      "|         4 | 16:37:26.6 |    0.00000 |    6000000 |          0 |          0 |\n",
      "|         5 | 16:37:28.1 |    0.33000 |    6000000 |          0 |          0 |\n",
      "|         6 | 16:37:29.5 |    0.67000 |    6000000 |          0 |          0 |\n",
      "|         7 | 16:37:31.0 |    1.00000 |    6000000 |          0 |          0 |\n",
      "+-----------+------------+------------+------------+------------+------------+\n",
      "generator scan ['7068e871'] (scan num: 2)\n",
      "\n",
      "\n",
      "\n"
     ]
    },
    {
     "data": {
      "text/plain": [
       "('7068e871-c812-4dc1-a5d5-fa64d7bff9f0',)"
      ]
     },
     "execution_count": 32,
     "metadata": {},
     "output_type": "execute_result"
    },
    {
     "data": {
      "image/png": "[encoded data removed]",
      "text/plain": [
       "<Figure size 360x1080 with 3 Axes>"
      ]
     },
     "metadata": {
      "needs_background": "light"
     },
     "output_type": "display_data"
    }
   ],
   "source": [
    "RE(bp.scan([vsc16], xpos, -1, 1, 7))"
   ]
  },
  {
   "cell_type": "markdown",
   "id": "134fd0db",
   "metadata": {},
   "source": [
    "## Scan with a *different* counting time : staging\n",
    "\n",
    "Suppose that we wish to use a different counting time, we could change the `vsc16.preset_time` value before running the scan.  Another way is to use the `ophyd` concept of [*stage* & *unstage*](https://blueskyproject.io/ophyd/device-overview.html?highlight=staging#stage-and-unstage).  \n",
    "\n",
    "*Staging* is the action of preparing an ophyd device for operation, then resetting it afterwards to its previous values.  For our scaler, we could *stage* a different counting time that would be used during the run, then removed after the run is complete.  The `stage()` and `unstage()` methods are controlled by an `OrderedDictionary` where the keys are the attributes of the Python object and the values are used during the run.  The `RE()` takes care of calling `stage()` and `unstage()` during the scan.\n",
    "\n",
    "Here we show staging of a 2.0s `preset_time` for the run.  Also shown are the `preset_time` value before and after the run."
   ]
  },
  {
   "cell_type": "code",
   "execution_count": 33,
   "id": "9eb87bdc",
   "metadata": {},
   "outputs": [
    {
     "name": "stdout",
     "output_type": "stream",
     "text": [
      "vsc16.preset_time.get() = 0.5\n"
     ]
    }
   ],
   "source": [
    "print(f\"{vsc16.preset_time.get() = }\")"
   ]
  },
  {
   "cell_type": "code",
   "execution_count": 34,
   "id": "a21c7710",
   "metadata": {},
   "outputs": [],
   "source": [
    "vsc16.stage_sigs[\"preset_time\"] = 2.0"
   ]
  },
  {
   "cell_type": "markdown",
   "id": "0da33b04",
   "metadata": {},
   "source": [
    "Repeat the same scan."
   ]
  },
  {
   "cell_type": "code",
   "execution_count": 35,
   "id": "58ae9157",
   "metadata": {},
   "outputs": [
    {
     "name": "stdout",
     "output_type": "stream",
     "text": [
      "\n",
      "\n",
      "Transient Scan ID: 3     Time: 2021-05-14 16:37:31\n",
      "Persistent Unique Scan ID: '06fab42c-aed9-4645-95b1-533043c37fd8'\n",
      "New stream: 'primary'\n",
      "+-----------+------------+------------+------------+------------+------------+\n",
      "|   seq_num |       time |       xpos |   timebase |       roi1 |       roi2 |\n",
      "+-----------+------------+------------+------------+------------+------------+\n",
      "|         1 | 16:37:36.5 |   -1.00000 |   21000000 |          0 |          0 |\n",
      "|         2 | 16:37:39.5 |   -0.67000 |   21000000 |          0 |          0 |\n",
      "|         3 | 16:37:42.4 |   -0.33000 |   21000000 |          0 |          0 |\n",
      "|         4 | 16:37:45.3 |    0.00000 |   21000000 |          0 |          0 |\n",
      "|         5 | 16:37:48.2 |    0.33000 |   21000000 |          0 |          0 |\n",
      "|         6 | 16:37:51.1 |    0.67000 |   21000000 |          0 |          0 |\n",
      "|         7 | 16:37:54.1 |    1.00000 |   21000000 |          0 |          0 |\n",
      "+-----------+------------+------------+------------+------------+------------+\n",
      "generator scan ['06fab42c'] (scan num: 3)\n",
      "\n",
      "\n",
      "\n"
     ]
    },
    {
     "data": {
      "text/plain": [
       "('06fab42c-aed9-4645-95b1-533043c37fd8',)"
      ]
     },
     "execution_count": 35,
     "metadata": {},
     "output_type": "execute_result"
    },
    {
     "data": {
      "image/png": "[encoded data removed]",
      "text/plain": [
       "<Figure size 360x1080 with 3 Axes>"
      ]
     },
     "metadata": {
      "needs_background": "light"
     },
     "output_type": "display_data"
    }
   ],
   "source": [
    "RE(bp.scan([vsc16], xpos, -1, 1, 7))"
   ]
  },
  {
   "cell_type": "code",
   "execution_count": 36,
   "id": "ac3b9943",
   "metadata": {},
   "outputs": [
    {
     "name": "stdout",
     "output_type": "stream",
     "text": [
      "vsc16.preset_time.get() = 0.5\n"
     ]
    }
   ],
   "source": [
    "print(f\"{vsc16.preset_time.get() = }\")"
   ]
  },
  {
   "cell_type": "markdown",
   "id": "0d77feaa",
   "metadata": {},
   "source": [
    "## Custom plan with configurable count time\n",
    "\n",
    "It is common to want to set the count time at the time the scan is started.  For this feature, a custom scan plan is needed, where we will repeat the steps just shown.  This plan will use similar arguments as the `bp.scan()` used above, but add an optional keyword argument `ct` for the count time with a default of 1.0 second.  For housekeeping, we'll remove the staging configuration from the scaler after the scan.\n",
    "\n",
    "A bluesky *plan* is a Python generator.  The `bp.scan()` call is the part that makes this a generator, deferring execution of the actual scan until the `RE()` calls for it."
   ]
  },
  {
   "cell_type": "code",
   "execution_count": 37,
   "id": "15659c3b",
   "metadata": {},
   "outputs": [],
   "source": [
    "def tscan(scaler, pos, pStart, pEnd, nPts, ct=1):\n",
    "    scaler.stage_sigs[\"preset_time\"] = ct\n",
    "    print(f\"{scaler.preset_time.get() = }\")\n",
    "\n",
    "    yield from bp.scan([scaler], pos, pStart, pEnd, nPts)\n",
    "\n",
    "    print(f\"{scaler.preset_time.get() = }\")\n",
    "    del scaler.stage_sigs[\"preset_time\"]"
   ]
  },
  {
   "cell_type": "markdown",
   "id": "5771dadb",
   "metadata": {},
   "source": [
    "Run the custom plan."
   ]
  },
  {
   "cell_type": "code",
   "execution_count": 38,
   "id": "e9abc832",
   "metadata": {},
   "outputs": [
    {
     "name": "stdout",
     "output_type": "stream",
     "text": [
      "scaler.preset_time.get() = 0.5\n",
      "\n",
      "\n",
      "Transient Scan ID: 4     Time: 2021-05-14 16:37:54\n",
      "Persistent Unique Scan ID: '25883bc1-0234-4c2b-8bc7-9263e73a093a'\n",
      "New stream: 'primary'\n",
      "+-----------+------------+------------+------------+------------+------------+\n",
      "|   seq_num |       time |       xpos |   timebase |       roi1 |       roi2 |\n",
      "+-----------+------------+------------+------------+------------+------------+\n",
      "|         1 | 16:37:57.5 |   -1.00000 |    2000000 |          0 |          0 |\n",
      "|         2 | 16:37:58.5 |   -0.67000 |    1000000 |          0 |          0 |\n",
      "|         3 | 16:37:59.6 |   -0.33000 |    1000000 |          0 |          0 |\n",
      "|         4 | 16:38:00.6 |    0.00000 |    2000000 |          0 |          0 |\n",
      "|         5 | 16:38:01.6 |    0.33000 |    2000000 |          0 |          0 |\n",
      "|         6 | 16:38:02.7 |    0.67000 |    2000000 |          0 |          0 |\n",
      "|         7 | 16:38:03.7 |    1.00000 |    2000000 |          0 |          0 |\n",
      "+-----------+------------+------------+------------+------------+------------+\n",
      "generator scan ['25883bc1'] (scan num: 4)\n",
      "\n",
      "\n",
      "\n",
      "scaler.preset_time.get() = 0.5\n"
     ]
    },
    {
     "data": {
      "text/plain": [
       "('25883bc1-0234-4c2b-8bc7-9263e73a093a',)"
      ]
     },
     "execution_count": 38,
     "metadata": {},
     "output_type": "execute_result"
    },
    {
     "data": {
      "image/png": "[encoded data removed]",
      "text/plain": [
       "<Figure size 360x1080 with 3 Axes>"
      ]
     },
     "metadata": {
      "needs_background": "light"
     },
     "output_type": "display_data"
    }
   ],
   "source": [
    "RE(tscan(vsc16, xpos, -1, 1, 7, 0.1))"
   ]
  },
  {
   "cell_type": "markdown",
   "id": "871aae80",
   "metadata": {},
   "source": [
    "## Challenges\n",
    "\n",
    "Try these additional modifications or activities.\n",
    "\n",
    "1. Use `logger` to report at various places.\n",
    "\n",
    "   _Hint_: `logger.info(\"text: %s  value: %g\", s1, v2, ...)`\n",
    "\n",
    "   Consider examples as used in [`peak_finder_example.py`](instrument/plans/peak_finder_example.py).\n",
    "   See the [Python logging tutorial](https://docs.python.org/3/howto/logging.html) for more information.\n",
    "1. Write a custom plan that accepts user-provided metadata.\n",
    "\n",
    "   _Hint_: [`bp.scan()`](https://blueskyproject.io/bluesky/generated/bluesky.plans.scan.html#bluesky.plans.scan) has the `md` keyword argument (_kwarg_) that accepts a dictionary of _key: value_ pairs as the metadata when the plan is run.  Your custom plan should accept the same kwarg and pass this to `bp.scan(md=the_dictionary)`, possibly after adding some of its own keys to the metadata."
   ]
  }
 ],
 "metadata": {
  "kernelspec": {
   "display_name": "bluesky_2021_1",
   "language": "python",
   "name": "bluesky_2021_1"
  },
  "language_info": {
   "codemirror_mode": {
    "name": "ipython",
    "version": 3
   },
   "file_extension": ".py",
   "mimetype": "text/x-python",
   "name": "python",
   "nbconvert_exporter": "python",
   "pygments_lexer": "ipython3",
   "version": "3.8.8"
  }
 },
 "nbformat": 4,
 "nbformat_minor": 5
}
