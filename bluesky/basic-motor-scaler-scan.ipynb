{
 "cells": [
  {
   "cell_type": "markdown",
   "id": "e3888a80",
   "metadata": {},
   "source": [
    "# Minimal: Scan scaler *vs* motor\n",
    "\n",
    "*APS Training for Bluesky Data Acquisition*.\n",
    "\n",
    "**Objective**\n",
    "\n",
    "Connect an EPICS motor PV, an EPICS scaler PV, and scan using the bluesky *RunEngine* with the *BestEffortCallback* to visualize the acquired data.\n",
    "\n",
    "EPICS PV | Python object name | description\n",
    ":--- | :--- | :---\n",
    "`gp:m1` | `xpos` | motor PV (simulates a stepper motor)\n",
    "`gp:scaler1` | `vsc16` | scaler PV (simulates a Joerger VSC16 scaler)"
   ]
  },
  {
   "cell_type": "code",
   "execution_count": null,
   "id": "62b55025",
   "metadata": {},
   "outputs": [],
   "source": [
    "# first, load the environment variable definitions\n",
    "%load_ext dotenv\n",
    "%dotenv env.txt"
   ]
  },
  {
   "source": [
    "## Connect the motor\n",
    "\n",
    "Import the `ophyd.EpicsMotor` (class) definition."
   ],
   "cell_type": "markdown",
   "metadata": {}
  },
  {
   "cell_type": "code",
   "execution_count": null,
   "metadata": {},
   "outputs": [],
   "source": [
    "from ophyd import EpicsMotor"
   ]
  },
  {
   "source": [
    "We'll need the prefix of the custom EPICS IOC for this user account.  It is defined in the environment variable `GP_IOC_PREFIX`.  (If that environment variable is not defined, as on the developer's workstation, default to `gp:`.)"
   ],
   "cell_type": "markdown",
   "metadata": {}
  },
  {
   "cell_type": "code",
   "execution_count": null,
   "metadata": {},
   "outputs": [],
   "source": [
    "import os\n",
    "GP = os.environ.get(\"GP_IOC_PREFIX\", \"gp:\")\n",
    "print(f\"{GP = }\")"
   ]
  },
  {
   "cell_type": "markdown",
   "id": "acdf98a1",
   "metadata": {},
   "source": [
    "Then, define the `xpos` object.  The EPICS PV is the first argument.  The `name=\"xpos\"` is\n",
    "required.  Make the value of this keyword argument match the name of the Python object being assigned.  The `labels=(\"motor\",)` keyword argument enables certain features for the user interface that will be described later."
   ]
  },
  {
   "cell_type": "code",
   "execution_count": null,
   "id": "d18515c7",
   "metadata": {},
   "outputs": [],
   "source": [
    "xpos = EpicsMotor(f\"{GP}m1\", name=\"xpos\", labels=(\"motor\",))"
   ]
  },
  {
   "source": [
    "Wait for the EPICS PV to connect with Python."
   ],
   "cell_type": "markdown",
   "metadata": {}
  },
  {
   "cell_type": "code",
   "execution_count": null,
   "metadata": {},
   "outputs": [],
   "source": [
    "xpos.wait_for_connection()"
   ]
  },
  {
   "cell_type": "markdown",
   "id": "04f69b63",
   "metadata": {},
   "source": [
    "Show the position of the `xpos` motor now."
   ]
  },
  {
   "cell_type": "code",
   "execution_count": null,
   "id": "11bb0080",
   "metadata": {},
   "outputs": [],
   "source": [
    "xpos.position"
   ]
  },
  {
   "cell_type": "markdown",
   "id": "ecc1c799",
   "metadata": {},
   "source": [
    "Try to move `xpos` using the IPython magic command: `%mov`."
   ]
  },
  {
   "cell_type": "code",
   "execution_count": null,
   "id": "9fe810c8",
   "metadata": {},
   "outputs": [],
   "source": [
    "%mov xpos 1"
   ]
  },
  {
   "cell_type": "markdown",
   "id": "bf7955b3",
   "metadata": {},
   "source": [
    "Note this command fails since the IPython magic commands are not loaded automatically.  As an alternative, use the motor's `.move(SETPOINT)` method to move the motor to the new *SETPOINT* value.  Here, move `xpos` to `1`."
   ]
  },
  {
   "cell_type": "code",
   "execution_count": null,
   "id": "d3a531ae",
   "metadata": {},
   "outputs": [],
   "source": [
    "xpos.move(1)"
   ]
  },
  {
   "cell_type": "markdown",
   "id": "16bfe7ff",
   "metadata": {},
   "source": [
    "The `.move()` method returns a status object.  The status object may be used to report about the move or to wait for the motor to complete its move.\n",
    "\n",
    "Next, load the IPython *Magic* commands provided by `bluesky`.  These are helpers to make the command line use easier.  Use them at your choice."
   ]
  },
  {
   "cell_type": "code",
   "execution_count": null,
   "id": "62a7aebe",
   "metadata": {},
   "outputs": [],
   "source": [
    "from bluesky.magics import BlueskyMagics\n",
    "get_ipython().register_magics(BlueskyMagics)"
   ]
  },
  {
   "cell_type": "markdown",
   "id": "a4fb1fa7",
   "metadata": {},
   "source": [
    "Repeat the move of `xpos` by sending it to `0` using the magic command."
   ]
  },
  {
   "cell_type": "code",
   "execution_count": null,
   "id": "35c58679",
   "metadata": {},
   "outputs": [],
   "source": [
    "%mov xpos 0"
   ]
  },
  {
   "cell_type": "markdown",
   "id": "094d5f59",
   "metadata": {},
   "source": [
    "## Connect the scaler\n",
    "As before, import the ophyd class:"
   ]
  },
  {
   "cell_type": "code",
   "execution_count": null,
   "id": "45d2ac46",
   "metadata": {},
   "outputs": [],
   "source": [
    "from ophyd.scaler import ScalerCH"
   ]
  },
  {
   "cell_type": "markdown",
   "id": "6fadfed8",
   "metadata": {},
   "source": [
    "Then, connect with the EPICS PV.  This is similar to how the motor was connected (above).  Make the `name=` keyword match with the Python object name being created.   The `labels=(\"scalers\", \"detectors\")` keyword argument enables certain features for the user interface that will be described later."
   ]
  },
  {
   "cell_type": "code",
   "execution_count": null,
   "id": "709d1b64",
   "metadata": {},
   "outputs": [],
   "source": [
    "vsc16 = ScalerCH(f\"{GP}scaler1\", name=\"vsc16\", labels=[\"scalers\", \"detectors\"])\n",
    "vsc16.wait_for_connection()"
   ]
  },
  {
   "cell_type": "markdown",
   "id": "3154b516",
   "metadata": {},
   "source": [
    "Configure the Python object to ignore the channels with no name defined (in the `.NMnn` field of the scaler PV).\n",
    "\n",
    "In this example control screen for our scaler, only a few of the channels are named:\n",
    "\n",
    "![`scaler` GUI](resources/scaler.png \"`scaler1` GUI\")"
   ]
  },
  {
   "cell_type": "code",
   "execution_count": null,
   "id": "aa24c83d",
   "metadata": {},
   "outputs": [],
   "source": [
    "vsc16.select_channels()"
   ]
  },
  {
   "cell_type": "markdown",
   "id": "27c84814",
   "metadata": {},
   "source": [
    "Show the value for each of the named channels in **our** scaler.  This will also include the most recent count time."
   ]
  },
  {
   "cell_type": "code",
   "execution_count": null,
   "id": "77a30583",
   "metadata": {},
   "outputs": [],
   "source": [
    "vsc16.read()"
   ]
  },
  {
   "cell_type": "markdown",
   "id": "b7afb349",
   "metadata": {},
   "source": [
    "If *no* channels are shown, such as:\n",
    "\n",
    "```python\n",
    "OrderedDict([('vsc16_time', {'value': 0.0, 'timestamp': 631152000.0})])\n",
    "```\n",
    "\n",
    "then we want to name some channels here for our simulator.  We can do this directly from Python (although you would not usually want to do this at a real, operating instrument, since the channels are named as a result of hardware connections with real detectors).  We'll take channels 11 & 12 and call them `roi1` & `roi2`, respectively."
   ]
  },
  {
   "cell_type": "code",
   "execution_count": null,
   "id": "f8ebe100",
   "metadata": {},
   "outputs": [],
   "source": [
    "vsc16.channels.chan01.chname.put(\"timebase\")\n",
    "vsc16.channels.chan11.chname.put(\"roi1\")\n",
    "vsc16.channels.chan12.chname.put(\"roi2\")"
   ]
  },
  {
   "cell_type": "markdown",
   "id": "750dce5b",
   "metadata": {},
   "source": [
    "Then select the named channels and read again:"
   ]
  },
  {
   "cell_type": "code",
   "execution_count": null,
   "id": "14a61046",
   "metadata": {},
   "outputs": [],
   "source": [
    "vsc16.select_channels()\n",
    "vsc16.read()"
   ]
  },
  {
   "cell_type": "markdown",
   "id": "d25aba17",
   "metadata": {},
   "source": [
    "### Set the scaler's counting time\n",
    "\n",
    "The `ScalerCH` class defines the count time as the `preset_time` attribute.  Show it's value:"
   ]
  },
  {
   "cell_type": "code",
   "execution_count": null,
   "id": "74ca1ca7",
   "metadata": {},
   "outputs": [],
   "source": [
    "vsc16.preset_time.get()"
   ]
  },
  {
   "cell_type": "markdown",
   "id": "5527489c",
   "metadata": {},
   "source": [
    "Set the counting time to 0.5 s using the `%mov` magic command (same command that moves a motor)."
   ]
  },
  {
   "cell_type": "code",
   "execution_count": null,
   "id": "e19d3ac7",
   "metadata": {},
   "outputs": [],
   "source": [
    "%mov vsc16.preset_time 0.5"
   ]
  },
  {
   "cell_type": "markdown",
   "id": "521820d3",
   "metadata": {},
   "source": [
    "Use the IPython `%ct` magic command to count each object with the `detectors` label keyword."
   ]
  },
  {
   "cell_type": "code",
   "execution_count": null,
   "id": "c5a48157",
   "metadata": {},
   "outputs": [],
   "source": [
    "%ct"
   ]
  },
  {
   "cell_type": "markdown",
   "id": "0cab7522",
   "metadata": {},
   "source": [
    "### `labels` and the `%wa` magic command\n",
    "\n",
    "As noted above, the `labels=LIST` keyword argument used when the motor and scaler objects were create enable certain features.  For example, the `%ct` magic command will count all the `detectors`.\n",
    "\n",
    "Actually, `detectors` is the default argument for the `%ct` magic.  If an arument is supplied, it is the name of a label to be matched.  This is why the additional label of `scalers` was included.  Thus, we could count *only* `scalers` with the command `%ct scalers`.\n",
    "\n",
    "Use the `labels` keyword liberally to group similar objects.\n",
    "\n",
    "The `%wa` magic shows relevant information for all labeled objects (or, for the named label if supplied).  For example:"
   ]
  },
  {
   "cell_type": "code",
   "execution_count": null,
   "id": "ccd677cd",
   "metadata": {},
   "outputs": [],
   "source": [
    "%wa"
   ]
  },
  {
   "cell_type": "code",
   "execution_count": null,
   "id": "b44097aa",
   "metadata": {},
   "outputs": [],
   "source": [
    "%wa motor"
   ]
  },
  {
   "cell_type": "markdown",
   "id": "a196943d",
   "metadata": {},
   "source": [
    "## Prepare to scan\n",
    "\n",
    "Before we can run our first bluesky scan, we have to import various software tools.\n",
    "\n",
    "First is the bluesky `RunEngine()`, which will manage the various activities for the scan (move motor, wait, trigger scaler, wait, collect channel data, publish to data subscribers, ...).\n",
    "\n",
    "Create a `RunEngine()` object.  The argument here is a dictionary (empty in this training session).  (For routine operations at an instrument, the dictionary is filled with information saved from the previous session.)"
   ]
  },
  {
   "cell_type": "code",
   "execution_count": null,
   "id": "57ff1179",
   "metadata": {
    "tags": []
   },
   "outputs": [],
   "source": [
    "import bluesky\n",
    "RE = bluesky.RunEngine({})"
   ]
  },
  {
   "cell_type": "markdown",
   "id": "10e606cf",
   "metadata": {},
   "source": [
    "To save the acquired data, we connect with a MongoDB database using a preconfigured datafile that describes our databroker catalog (it's in the file named in the next cell).  Using the IPython `!` technique to issue a Linux command from an IPython session, we `cat` (concatenate) the contents of that file to the output here:"
   ]
  },
  {
   "cell_type": "code",
   "execution_count": null,
   "id": "fc8141de",
   "metadata": {},
   "outputs": [],
   "source": [
    "!cat ~/.local/share/intake/training.yml"
   ]
  },
  {
   "cell_type": "markdown",
   "id": "a55432e9",
   "metadata": {},
   "source": [
    "To connect, we need the *training* catalog.  This name is provided by the line indented after the `sources:` line in the above `.yml` file.  (The name of the `.yml` file does not matter.  The `databroker.catalog` software will look through all `.yml` files in this directory for the`training` configuration.)\n",
    "\n",
    "We'll use the reference to our databroker catalog frequently, so we give it a short name."
   ]
  },
  {
   "cell_type": "code",
   "execution_count": null,
   "id": "8130ad07",
   "metadata": {},
   "outputs": [],
   "source": [
    "import databroker\n",
    "cat = databroker.catalog[\"training\"]"
   ]
  },
  {
   "cell_type": "markdown",
   "id": "8dcca7a0",
   "metadata": {},
   "source": [
    "How many (bluesky data collection) *runs* are recorded in this catalog?  Get its *length*:"
   ]
  },
  {
   "cell_type": "code",
   "execution_count": null,
   "id": "50c0f067",
   "metadata": {},
   "outputs": [],
   "source": [
    "len(cat)"
   ]
  },
  {
   "cell_type": "markdown",
   "id": "cb1cc44d",
   "metadata": {},
   "source": [
    "Configure `RE` to publish the run data to our `db` object.  We must use the `.v1` software interface for legacy reasons."
   ]
  },
  {
   "cell_type": "code",
   "execution_count": null,
   "id": "cb2ce4f7",
   "metadata": {},
   "outputs": [],
   "source": [
    "RE.subscribe(cat.v1.insert)"
   ]
  },
  {
   "cell_type": "markdown",
   "id": "c14e4313",
   "metadata": {},
   "source": [
    "A progress bar can be helpful to show that long operations are actually progressing.  These steps load a progress bar and configure `RE`."
   ]
  },
  {
   "cell_type": "code",
   "execution_count": null,
   "id": "f78abafe",
   "metadata": {},
   "outputs": [],
   "source": [
    "from bluesky.utils import ProgressBarManager\n",
    "pbar_manager = ProgressBarManager()\n",
    "RE.waiting_hook = pbar_manager"
   ]
  },
  {
   "cell_type": "markdown",
   "id": "659c8285",
   "metadata": {},
   "source": [
    "The `BestEffortCallback` provides easy visualization of data (tables, plots, peaks statistics) as it is acquired by the `RE`.  Subscribe it to the `RE` so it receives data during a `RE()` run."
   ]
  },
  {
   "cell_type": "code",
   "execution_count": null,
   "id": "0199ee1a",
   "metadata": {},
   "outputs": [],
   "source": [
    "from bluesky.callbacks.best_effort import BestEffortCallback\n",
    "bec = BestEffortCallback()\n",
    "RE.subscribe(bec)\n",
    "peaks = bec.peaks"
   ]
  },
  {
   "cell_type": "markdown",
   "id": "bcc13354",
   "metadata": {},
   "source": [
    "Supplemental *baseline* data is recorded before and after each run.  Additionally, EPICS Channel Access monitors can update PVs asynchronous to the primary data acquisition.  These *monitor*s can be saved as additional data streams in a run.  Prepare to use this feature."
   ]
  },
  {
   "cell_type": "code",
   "execution_count": null,
   "id": "16c84ae1",
   "metadata": {},
   "outputs": [],
   "source": [
    "from bluesky import SupplementalData\n",
    "sd = SupplementalData()\n",
    "RE.preprocessors.append(sd)"
   ]
  },
  {
   "cell_type": "markdown",
   "id": "30ad2879",
   "metadata": {},
   "source": [
    "Add the name of this notebook as metadata to every run.  This is done by adding to the RunEngine's metadata dictionary (`RE.md`), content that will be added to the *start* document of every run.  The metadata is useful documentation about a run and can be used for several purposes, such as to record a general condition (such as the name of this notebook) or to identify these runs from a database search."
   ]
  },
  {
   "cell_type": "code",
   "execution_count": null,
   "id": "1c5a89e3",
   "metadata": {},
   "outputs": [],
   "source": [
    "RE.md[\"notebook\"] = \"basic-motor-scaler-scan\""
   ]
  },
  {
   "cell_type": "markdown",
   "id": "b2124f8c",
   "metadata": {},
   "source": [
    "## First scan\n",
    "\n",
    "The standard plans provided in `bluesky.plans` are sufficient for many needs, so import them and, in the same command, give the package a short name (`bp`) since it is used frequently."
   ]
  },
  {
   "cell_type": "code",
   "execution_count": null,
   "id": "b5bbb78a",
   "metadata": {},
   "outputs": [],
   "source": [
    "from bluesky import plans as bp"
   ]
  },
  {
   "cell_type": "markdown",
   "id": "f2dd807c",
   "metadata": {},
   "source": [
    "The `scan()` plan is flexible and will be used here to scan scaler *vs.* motor.  The first argument is the *list* of detectors to be recorded.  Here, we give the scaler object `vsc16`.  The next argument is the positioner object, then start and end positions, finally, the number of points to be collected.\n",
    "\n",
    "Observe that we do not run the scan directly, but rather give the scan to the `RE()` object.  The `RE()` object will run the scan, performing each of the actions defined by the scan, but also handle the additional tasks of managing the data acquisition process, publishing data to all subscribers (here: databroker and BestEffortCallback) and checking for updates from EPICS and checking if the run must be interrupted either by user request or some other observation.  (We have not configured any of those other observations in this simple example.)"
   ]
  },
  {
   "cell_type": "code",
   "execution_count": null,
   "id": "d715b7cd",
   "metadata": {},
   "outputs": [],
   "source": [
    "RE(bp.scan([vsc16], xpos, -1, 1, 7))"
   ]
  },
  {
   "cell_type": "markdown",
   "id": "6dc59d50",
   "metadata": {},
   "source": [
    "The scan ran, data was collected and printed at each step of the scan.  Finally, plots were made of the scaler channel *vs* motor position for each active channel.\n",
    "\n",
    "There were some problems.  First is that an error was reported after the scan (`... callbacks/fitting.py:165: RuntimeWarning: invalid value encountered in double_scalars `).  This error is because the scalers showed no peak during the scan.  The scaler is a simulator with no real data.  We'll ignore that error here.\n",
    "\n",
    "Another problem is that the scaler counts for 0.1s longer than we have configured.  This is a problem with the underlying EPICS support for a simulated (a.k.a. *soft channel*) scaler.  We'll ignore that error here.\n",
    "\n",
    "Next problem is that the progress bar is a nuisance in this notebook so we'll remove it."
   ]
  },
  {
   "cell_type": "code",
   "execution_count": null,
   "id": "b311e8d5",
   "metadata": {},
   "outputs": [],
   "source": [
    "RE.waiting_hook = None"
   ]
  },
  {
   "cell_type": "markdown",
   "id": "5335fcec",
   "metadata": {},
   "source": [
    "Then, repeat the same scan."
   ]
  },
  {
   "cell_type": "code",
   "execution_count": null,
   "id": "081b65ed",
   "metadata": {},
   "outputs": [],
   "source": [
    "RE(bp.scan([vsc16], xpos, -1, 1, 7))"
   ]
  },
  {
   "cell_type": "markdown",
   "id": "1b5a7e00",
   "metadata": {},
   "source": [
    "## Scan with a *different* counting time : staging\n",
    "\n",
    "Suppose that we wish to use a different counting time, we could change the `vsc16.preset_time` value before running the scan.  Another way is to use the `ophyd` concept of [*stage* & *unstage*](https://blueskyproject.io/ophyd/device-overview.html?highlight=staging#stage-and-unstage).  \n",
    "\n",
    "*Staging* is the action of preparing an ophyd device for operation, then resetting it afterwards to previous values.  For our scaler, we could *stage* a different counting time that would be used during the run, then removed after the run is complete.  `stage()` and `unstage()` are controlled by an OrderedDictionary where the keys are the attributes of the Python object and the values are used during the run.  The `RE()` takes care of calling `stage()` and `unstage()` during the scan.\n",
    "\n",
    "Here we show staging of a 2.0s `preset_time` for the run.  Also shown are the `preset_time` value before and after the run."
   ]
  },
  {
   "cell_type": "code",
   "execution_count": null,
   "id": "1bd30fcd",
   "metadata": {},
   "outputs": [],
   "source": [
    "print(f\"{vsc16.preset_time.get() = }\")"
   ]
  },
  {
   "cell_type": "code",
   "execution_count": null,
   "id": "ea44d9f4",
   "metadata": {},
   "outputs": [],
   "source": [
    "vsc16.stage_sigs[\"preset_time\"] = 2.0"
   ]
  },
  {
   "cell_type": "markdown",
   "id": "f5dddade",
   "metadata": {},
   "source": [
    "Repeat the same scan."
   ]
  },
  {
   "cell_type": "code",
   "execution_count": null,
   "id": "d71c4002",
   "metadata": {},
   "outputs": [],
   "source": [
    "RE(bp.scan([vsc16], xpos, -1, 1, 7))"
   ]
  },
  {
   "cell_type": "code",
   "execution_count": null,
   "id": "92f7f5d9",
   "metadata": {},
   "outputs": [],
   "source": [
    "print(f\"{vsc16.preset_time.get() = }\")"
   ]
  },
  {
   "cell_type": "markdown",
   "id": "6a8e4239",
   "metadata": {},
   "source": [
    "## Custom plan with configurable count time\n",
    "\n",
    "It is common to want to set the count time at the time the scan is started.  For this feature, a custom scan plan is needed, where we will repeat the steps just shown.  This plan will use similar arguments as the `bp.scan()` used above, but add an optional keyword argument `ct` for the count time with a default of 1.0 second.  For housekeeping, we'll remove the staging configuration from the scaler after the scan.\n",
    "\n",
    "A bluesky *plan* is a Python generator.  The `bp.scan()` call is the part that makes this a generator, deferring execution of the actual scan until the `RE()` calls for it."
   ]
  },
  {
   "cell_type": "code",
   "execution_count": null,
   "id": "e8e8f3cd",
   "metadata": {},
   "outputs": [],
   "source": [
    "def tscan(scaler, pos, pStart, pEnd, nPts, ct=1):\n",
    "    scaler.stage_sigs[\"preset_time\"] = ct\n",
    "    print(f\"{scaler.preset_time.get() = }\")\n",
    "\n",
    "    yield from bp.scan([scaler], pos, pStart, pEnd, nPts)\n",
    "\n",
    "    print(f\"{scaler.preset_time.get() = }\")\n",
    "    del scaler.stage_sigs[\"preset_time\"]"
   ]
  },
  {
   "cell_type": "markdown",
   "id": "a0af3da4",
   "metadata": {},
   "source": [
    "Run the custom plan."
   ]
  },
  {
   "cell_type": "code",
   "execution_count": null,
   "id": "e510d53f",
   "metadata": {},
   "outputs": [],
   "source": [
    "RE(tscan(vsc16, xpos, -1, 1, 7, 0.1))"
   ]
  },
  {
   "cell_type": "markdown",
   "id": "101ae72a",
   "metadata": {},
   "source": [
    "## Challenges\n",
    "\n",
    "Try these additional modifications or activities.\n",
    "\n",
    "1. Write a custom plan that accepts user-provided metadata."
   ]
  }
 ],
 "metadata": {
  "kernelspec": {
   "display_name": "bluesky_2021_1",
   "language": "python",
   "name": "bluesky_2021_1"
  },
  "language_info": {
   "codemirror_mode": {
    "name": "ipython",
    "version": 3
   },
   "file_extension": ".py",
   "mimetype": "text/x-python",
   "name": "python",
   "nbconvert_exporter": "python",
   "pygments_lexer": "ipython3",
   "version": "3.8.8"
  }
 },
 "nbformat": 4,
 "nbformat_minor": 5
}