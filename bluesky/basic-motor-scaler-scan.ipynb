{
 "cells": [
  {
   "cell_type": "markdown",
   "id": "1e5c25db",
   "metadata": {},
   "source": [
    "# Minimal: Scan scaler *vs* motor\n",
    "\n",
    "*APS Training for Bluesky Data Acquisition*.\n",
    "\n",
    "**Objective**\n",
    "\n",
    "Connect an EPICS motor PV, an EPICS scaler PV, and scan using the bluesky *RunEngine* with the *BestEffortCallback* to visualize the acquired data.\n",
    "\n",
    "EPICS PV | Python object name | description\n",
    ":--- | :--- | :---\n",
    "`gp:m1` | `xpos` | motor PV (simulates a stepper motor)\n",
    "`gp:scaler1` | `vsc16` | scaler PV (simulates a Joerger VSC16 scaler)\n",
    "\n",
    "## Connect the motor\n",
    "\n",
    "First, import the `ophyd.EpicsMotor` (class) definition."
   ]
  },
  {
   "cell_type": "code",
   "execution_count": 1,
   "id": "3b774dcc",
   "metadata": {},
   "outputs": [],
   "source": [
    "from ophyd import EpicsMotor"
   ]
  },
  {
   "cell_type": "markdown",
   "id": "c10071e9",
   "metadata": {},
   "source": [
    "Then, define the `xpos` object.  The EPICS PV is the first argument.  The `name=\"xpos\"` is\n",
    "required.  Make the value of this keyword argument match the name of the Python object being assigned.  The `labels=(\"motor\",)` keyword argument enables certain features for the user interface that will be described later."
   ]
  },
  {
   "cell_type": "code",
   "execution_count": 2,
   "id": "7616d0ff",
   "metadata": {},
   "outputs": [],
   "source": [
    "xpos = EpicsMotor(\"gp:m1\", name=\"xpos\", labels=(\"motor\",))"
   ]
  },
  {
   "cell_type": "markdown",
   "id": "fd464cba",
   "metadata": {},
   "source": [
    "Wait for that to connect with EPICS"
   ]
  },
  {
   "cell_type": "code",
   "execution_count": 3,
   "id": "32c93238",
   "metadata": {},
   "outputs": [],
   "source": [
    "xpos.wait_for_connection()"
   ]
  },
  {
   "cell_type": "markdown",
   "id": "08dd58bc",
   "metadata": {},
   "source": [
    "Show the position of the `xpos` motor now."
   ]
  },
  {
   "cell_type": "code",
   "execution_count": 4,
   "id": "f8a83b15",
   "metadata": {},
   "outputs": [
    {
     "data": {
      "text/plain": [
       "1.0"
      ]
     },
     "execution_count": 4,
     "metadata": {},
     "output_type": "execute_result"
    }
   ],
   "source": [
    "xpos.position"
   ]
  },
  {
   "cell_type": "markdown",
   "id": "a3f38e7c",
   "metadata": {},
   "source": [
    "Try to move `xpos` using the IPython magic command: `%mov`."
   ]
  },
  {
   "cell_type": "code",
   "execution_count": 5,
   "id": "ccbe9f68",
   "metadata": {},
   "outputs": [
    {
     "name": "stdout",
     "output_type": "stream",
     "text": [
      "Exception: Line magic function `%mov` not found.\n"
     ]
    }
   ],
   "source": [
    "# wrap in a try..except handler so notebook can run past this point\n",
    "try:\n",
    "    %mov xpos 1\n",
    "except Exception as exc:\n",
    "    print(f\"Exception: {exc}\")"
   ]
  },
  {
   "cell_type": "markdown",
   "id": "70a4d7d3",
   "metadata": {},
   "source": [
    "Note this command fails since the IPython magic commands are not loaded automatically.  As an alternative, use the motor's `.move(SETPOINT)` method to move the motor to the new *SETPOINT* value.  Here, move `xpos` to `1`."
   ]
  },
  {
   "cell_type": "code",
   "execution_count": 6,
   "id": "6dac9249",
   "metadata": {},
   "outputs": [
    {
     "data": {
      "text/plain": [
       "MoveStatus(done=True, pos=xpos, elapsed=0.0, success=True, settle_time=0.0)"
      ]
     },
     "execution_count": 6,
     "metadata": {},
     "output_type": "execute_result"
    }
   ],
   "source": [
    "xpos.move(1)"
   ]
  },
  {
   "cell_type": "markdown",
   "id": "fa16b603",
   "metadata": {},
   "source": [
    "The `.move()` method returns a status object.  The status object may be used to report about the move or to wait for the motor to complete its move.\n",
    "\n",
    "Next, load the IPython *Magic* commands provided by `bluesky`.  These are helpers to make the command line use easier.  Use them at your choice."
   ]
  },
  {
   "cell_type": "code",
   "execution_count": 7,
   "id": "0c640c2b",
   "metadata": {},
   "outputs": [],
   "source": [
    "from bluesky.magics import BlueskyMagics\n",
    "get_ipython().register_magics(BlueskyMagics)"
   ]
  },
  {
   "cell_type": "markdown",
   "id": "d11d393a",
   "metadata": {},
   "source": [
    "Repeat the move of `xpos` by sending it to `0` using the magic command."
   ]
  },
  {
   "cell_type": "code",
   "execution_count": 8,
   "id": "46fbfbbe",
   "metadata": {},
   "outputs": [
    {
     "name": "stdout",
     "output_type": "stream",
     "text": [
      "xpos:   9%|██▌                         | 0.09/1.0 [00:00<00:01,  2.07s/degrees]\n",
      "xpos:  19%|█████▎                      | 0.19/1.0 [00:00<00:01,  1.51s/degrees]\n",
      "xpos:  29%|████████                    | 0.29/1.0 [00:00<00:00,  1.33s/degrees]\n",
      "xpos:  39%|██████████▉                 | 0.39/1.0 [00:00<00:00,  1.25s/degrees]\n",
      "xpos:  49%|█████████████▋              | 0.49/1.0 [00:00<00:00,  1.20s/degrees]\n",
      "xpos:  59%|████████████████▌           | 0.59/1.0 [00:00<00:00,  1.17s/degrees]\n",
      "xpos:  69%|███████████████████▎        | 0.69/1.0 [00:00<00:00,  1.14s/degrees]\n",
      "xpos:  79%|██████████████████████      | 0.79/1.0 [00:00<00:00,  1.12s/degrees]\n",
      "xpos:  89%|████████████████████████▉   | 0.89/1.0 [00:00<00:00,  1.11s/degrees]\n",
      "xpos:  97%|███████████████████████████▏| 0.97/1.0 [00:01<00:00,  1.12s/degrees]\n",
      "xpos: 100%|█████████████████████████████| 1.0/1.0 [00:01<00:00,  1.19s/degrees]\n",
      "xpos [In progress. No progress bar available.]                                 \n",
      "                                                                               \n"
     ]
    }
   ],
   "source": [
    "%mov xpos 0"
   ]
  },
  {
   "cell_type": "markdown",
   "id": "35231da7",
   "metadata": {},
   "source": [
    "## Connect the scaler\n",
    "As before, import the ophyd class:"
   ]
  },
  {
   "cell_type": "code",
   "execution_count": 9,
   "id": "bce8bb0c",
   "metadata": {},
   "outputs": [],
   "source": [
    "from ophyd.scaler import ScalerCH"
   ]
  },
  {
   "cell_type": "markdown",
   "id": "8b4369b5",
   "metadata": {},
   "source": [
    "Then, connect with the EPICS PV.  This is similar to how the motor was connected (above).  Make the `name=` keyword match with the Python object name being created.   The `labels=(\"scalers\", \"detectors\")` keyword argument enables certain features for the user interface that will be described later."
   ]
  },
  {
   "cell_type": "code",
   "execution_count": 10,
   "id": "fc0dd0c8",
   "metadata": {},
   "outputs": [],
   "source": [
    "vsc16 = ScalerCH(\"gp:scaler1\", name=\"vsc16\", labels=[\"scalers\", \"detectors\"])"
   ]
  },
  {
   "cell_type": "markdown",
   "id": "9c997c39",
   "metadata": {},
   "source": [
    "Configure the Python object to ignore the channels with no name defined (in the `.NMnn` field of the scaler PV).\n",
    "\n",
    "In this example control screen for our scaler, only a few of the channels are named:\n",
    "\n",
    "![`scaler` GUI](resources/scaler.png \"`scaler1` GUI\")"
   ]
  },
  {
   "cell_type": "code",
   "execution_count": 11,
   "id": "e0a2b4ef",
   "metadata": {},
   "outputs": [],
   "source": [
    "vsc16.select_channels()"
   ]
  },
  {
   "cell_type": "markdown",
   "id": "0ed329c9",
   "metadata": {},
   "source": [
    "Show the value for each of the named channels in **our** scaler.  This will also include the most recent count time."
   ]
  },
  {
   "cell_type": "code",
   "execution_count": 12,
   "id": "3f22e66c",
   "metadata": {},
   "outputs": [
    {
     "data": {
      "text/plain": [
       "OrderedDict([('timebase', {'value': 6000000.0, 'timestamp': 1628886451.81772}),\n",
       "             ('I0', {'value': 2.0, 'timestamp': 1628886451.81772}),\n",
       "             ('scint', {'value': 2.0, 'timestamp': 1628886451.81772}),\n",
       "             ('diode', {'value': 2.0, 'timestamp': 1628886451.81772}),\n",
       "             ('I00', {'value': 4.0, 'timestamp': 1628886451.81772}),\n",
       "             ('roi1', {'value': 0.0, 'timestamp': 1628886451.81772}),\n",
       "             ('roi2', {'value': 0.0, 'timestamp': 1628886451.81772}),\n",
       "             ('vsc16_time', {'value': 0.6, 'timestamp': 1628886451.81772})])"
      ]
     },
     "execution_count": 12,
     "metadata": {},
     "output_type": "execute_result"
    }
   ],
   "source": [
    "vsc16.read()"
   ]
  },
  {
   "cell_type": "markdown",
   "id": "a8088ea7",
   "metadata": {},
   "source": [
    "If *no* channels are shown, such as:\n",
    "\n",
    "```python\n",
    "OrderedDict([('vsc16_time', {'value': 0.0, 'timestamp': 631152000.0})])\n",
    "```\n",
    "\n",
    "then we want to name some channels here for our simulator.  We can do this directly from Python (although you would not usually want to do this at a real, operating instrument, since the channels are named as a result of hardware connections with real detectors).  We'll take channels 1-5 for `timebase`, `I0`, `scint`, `diode`, & `I00`, then skip a few channels to 11 & 12 and call them `roi1` & `roi2`, respectively.\n",
    "\n",
    "It's OK to have empty (that is, unnamed) channels.  It's not OK to have white space in these names since the names will be used as Python objects within bluesky.  That also means no other characters (such as math symbols and such) that cannot be used as a [Python object name](https://www.python.org/dev/peps/pep-0008/#naming-conventions).  Also, do not use the same name in two different scaler channels."
   ]
  },
  {
   "cell_type": "code",
   "execution_count": 13,
   "id": "a0acc0f6",
   "metadata": {},
   "outputs": [],
   "source": [
    "vsc16.channels.chan01.chname.put(\"timebase\")\n",
    "vsc16.channels.chan02.chname.put(\"I0\")\n",
    "vsc16.channels.chan03.chname.put(\"scint\")\n",
    "vsc16.channels.chan04.chname.put(\"diode\")\n",
    "vsc16.channels.chan05.chname.put(\"I00\")\n",
    "vsc16.channels.chan11.chname.put(\"roi1\")\n",
    "vsc16.channels.chan12.chname.put(\"roi2\")"
   ]
  },
  {
   "cell_type": "markdown",
   "id": "2d1e055b",
   "metadata": {},
   "source": [
    "Then select the named channels and read again:"
   ]
  },
  {
   "cell_type": "code",
   "execution_count": 14,
   "id": "b664ef0e",
   "metadata": {},
   "outputs": [
    {
     "data": {
      "text/plain": [
       "OrderedDict([('timebase', {'value': 6000000.0, 'timestamp': 1628886451.81772}),\n",
       "             ('I0', {'value': 2.0, 'timestamp': 1628886451.81772}),\n",
       "             ('scint', {'value': 2.0, 'timestamp': 1628886451.81772}),\n",
       "             ('diode', {'value': 2.0, 'timestamp': 1628886451.81772}),\n",
       "             ('I00', {'value': 4.0, 'timestamp': 1628886451.81772}),\n",
       "             ('roi1', {'value': 0.0, 'timestamp': 1628886451.81772}),\n",
       "             ('roi2', {'value': 0.0, 'timestamp': 1628886451.81772}),\n",
       "             ('vsc16_time', {'value': 0.6, 'timestamp': 1628886451.81772})])"
      ]
     },
     "execution_count": 14,
     "metadata": {},
     "output_type": "execute_result"
    }
   ],
   "source": [
    "vsc16.select_channels()\n",
    "vsc16.read()"
   ]
  },
  {
   "cell_type": "markdown",
   "id": "2a403b88",
   "metadata": {},
   "source": [
    "### Set the scaler's counting time\n",
    "\n",
    "The `ScalerCH` class defines the count time as the `preset_time` attribute.  Show it's value:"
   ]
  },
  {
   "cell_type": "code",
   "execution_count": 15,
   "id": "76570115",
   "metadata": {},
   "outputs": [
    {
     "data": {
      "text/plain": [
       "0.5"
      ]
     },
     "execution_count": 15,
     "metadata": {},
     "output_type": "execute_result"
    }
   ],
   "source": [
    "vsc16.preset_time.get()"
   ]
  },
  {
   "cell_type": "markdown",
   "id": "ee7d40e4",
   "metadata": {},
   "source": [
    "Set the counting time to 0.5 s using the `%mov` magic command (same command that moves a motor)."
   ]
  },
  {
   "cell_type": "code",
   "execution_count": 16,
   "id": "aca9af8a",
   "metadata": {},
   "outputs": [],
   "source": [
    "%mov vsc16.preset_time 0.5"
   ]
  },
  {
   "cell_type": "markdown",
   "id": "5a8dc3c9",
   "metadata": {},
   "source": [
    "Use the IPython `%ct` magic command to count each object with the `detectors` label keyword."
   ]
  },
  {
   "cell_type": "code",
   "execution_count": 17,
   "id": "ac1cdfc5",
   "metadata": {},
   "outputs": [
    {
     "name": "stdout",
     "output_type": "stream",
     "text": [
      "[This data will not be saved. Use the RunEngine to collect data.]\n",
      "timebase                       6000000.0\n",
      "I0                             2.0\n",
      "scint                          2.0\n",
      "diode                          2.0\n",
      "I00                            2.0\n",
      "roi1                           0.0\n",
      "roi2                           0.0\n",
      "vsc16_time                     0.6\n"
     ]
    }
   ],
   "source": [
    "%ct"
   ]
  },
  {
   "cell_type": "markdown",
   "id": "0c676be4",
   "metadata": {},
   "source": [
    "### `labels` and the `%wa` magic command\n",
    "\n",
    "As noted above, the `labels=LIST` keyword argument used when the motor and scaler objects were create enable certain features.  For example, the `%ct` magic command will count all the `detectors`.\n",
    "\n",
    "Actually, `detectors` is the default argument for the `%ct` magic.  If an arument is supplied, it is the name of a label to be matched.  This is why the additional label of `scalers` was included.  Thus, we could count *only* `scalers` with the command `%ct scalers`.\n",
    "\n",
    "Use the `labels` keyword liberally to group similar objects.\n",
    "\n",
    "The `%wa` magic shows relevant information for all labeled objects (or, for the named label if supplied).  For example:"
   ]
  },
  {
   "cell_type": "code",
   "execution_count": 18,
   "id": "920fc1fe",
   "metadata": {},
   "outputs": [
    {
     "name": "stdout",
     "output_type": "stream",
     "text": [
      "motor\n",
      "  Positioner                     Value       Low Limit   High Limit  Offset     \n",
      "  xpos                           0.0         -32000.0    32000.0     0.0        \n",
      "\n",
      "  Local variable name                    Ophyd name (to be recorded as metadata)\n",
      "  xpos                                   xpos                                  \n",
      "\n",
      "detectors\n",
      "  Local variable name                    Ophyd name (to be recorded as metadata)\n",
      "  vsc16                                  vsc16                                 \n",
      "\n",
      "scalers\n",
      "  Local variable name                    Ophyd name (to be recorded as metadata)\n",
      "  vsc16                                  vsc16                                 \n",
      "\n"
     ]
    }
   ],
   "source": [
    "%wa"
   ]
  },
  {
   "cell_type": "code",
   "execution_count": 19,
   "id": "7cb08a03",
   "metadata": {},
   "outputs": [
    {
     "name": "stdout",
     "output_type": "stream",
     "text": [
      "motor\n",
      "  Positioner                     Value       Low Limit   High Limit  Offset     \n",
      "  xpos                           0.0         -32000.0    32000.0     0.0        \n",
      "\n",
      "  Local variable name                    Ophyd name (to be recorded as metadata)\n",
      "  xpos                                   xpos                                  \n",
      "\n"
     ]
    }
   ],
   "source": [
    "%wa motor"
   ]
  },
  {
   "cell_type": "markdown",
   "id": "5f1a7fe8",
   "metadata": {},
   "source": [
    "## Prepare to scan\n",
    "\n",
    "Before we can run our first bluesky scan, we have to import various software tools.\n",
    "\n",
    "First is the bluesky `RunEngine()`, which will manage the various activities for the scan (move motor, wait, trigger scaler, wait, collect channel data, publish to data subscribers, ...).\n",
    "\n",
    "Create a `RunEngine()` object.  The argument here is a dictionary (empty in this training session).  (For routine operations at an instrument, the dictionary is filled with information saved from the previous session.)"
   ]
  },
  {
   "cell_type": "code",
   "execution_count": 20,
   "id": "64e5f96a",
   "metadata": {
    "tags": []
   },
   "outputs": [],
   "source": [
    "import bluesky\n",
    "RE = bluesky.RunEngine({})"
   ]
  },
  {
   "cell_type": "markdown",
   "id": "0d78fb41",
   "metadata": {},
   "source": [
    "To save the acquired data, we connect with a MongoDB database using a preconfigured datafile that describes our *training* catalog.  Using the IPython `!` technique to issue a Linux command from an IPython session, we `cat` (concatenate) the contents of that file to the output here:"
   ]
  },
  {
   "cell_type": "code",
   "execution_count": 21,
   "id": "4ff94ac4",
   "metadata": {},
   "outputs": [
    {
     "name": "stdout",
     "output_type": "stream",
     "text": [
      "# file: training.yml\n",
      "# purpose: Configuration file to connect Bluesky databroker with MongoDB\n",
      "# For Bluesky Python Training at APS\n",
      "\n",
      "# Copy to: ~/.local/share/intake/training.yml\n",
      "# Create subdirectories as needed\n",
      "\n",
      "sources:\n",
      "  training:\n",
      "    args:\n",
      "      asset_registry_db: mongodb://localhost:27017/training-bluesky\n",
      "      metadatastore_db: mongodb://localhost:27017/training-bluesky\n",
      "    driver: bluesky-mongo-normalized-catalog\n",
      "\n"
     ]
    }
   ],
   "source": [
    "!cat ~/.local/share/intake/training.yml"
   ]
  },
  {
   "cell_type": "markdown",
   "id": "f989046e",
   "metadata": {},
   "source": [
    "To connect, we need the *training* catalog.  This name is provided by the line indented after the `sources:` line in the above `.yml` file.  (The name of the `.yml` file does not matter.  The `databroker.catalog` software will look through all `.yml` files in this directory for the`training` configuration.)\n",
    "\n",
    "We'll use the reference to our databroker catalog frequently, so we give it a short name."
   ]
  },
  {
   "cell_type": "code",
   "execution_count": 22,
   "id": "754d4c48",
   "metadata": {},
   "outputs": [],
   "source": [
    "import databroker\n",
    "db = databroker.catalog[\"training\"]"
   ]
  },
  {
   "cell_type": "markdown",
   "id": "d98da4b0",
   "metadata": {},
   "source": [
    "How many (bluesky data collection) *runs* are recorded in this catalog?  Get its *length*:"
   ]
  },
  {
   "cell_type": "code",
   "execution_count": 23,
   "id": "8dafcdb3",
   "metadata": {},
   "outputs": [
    {
     "data": {
      "text/plain": [
       "329"
      ]
     },
     "execution_count": 23,
     "metadata": {},
     "output_type": "execute_result"
    }
   ],
   "source": [
    "len(db)"
   ]
  },
  {
   "cell_type": "markdown",
   "id": "88bc2804",
   "metadata": {},
   "source": [
    "Configure `RE` to publish the run data to our `db` object.  We must use the `.v1` software interface for legacy reasons."
   ]
  },
  {
   "cell_type": "code",
   "execution_count": 24,
   "id": "f2693cdd",
   "metadata": {},
   "outputs": [
    {
     "data": {
      "text/plain": [
       "0"
      ]
     },
     "execution_count": 24,
     "metadata": {},
     "output_type": "execute_result"
    }
   ],
   "source": [
    "RE.subscribe(db.v1.insert)"
   ]
  },
  {
   "cell_type": "markdown",
   "id": "ed7f2dc5",
   "metadata": {},
   "source": [
    "A progress bar can be helpful to show that long operations are actually progressing.  These steps load a progress bar and configure `RE`."
   ]
  },
  {
   "cell_type": "code",
   "execution_count": 25,
   "id": "35c0ec9e",
   "metadata": {},
   "outputs": [],
   "source": [
    "from bluesky.utils import ProgressBarManager\n",
    "pbar_manager = ProgressBarManager()\n",
    "RE.waiting_hook = pbar_manager"
   ]
  },
  {
   "cell_type": "markdown",
   "id": "b6015221",
   "metadata": {},
   "source": [
    "The `BestEffortCallback` provides easy visualization of data (tables, plots, peaks statistics) as it is acquired by the `RE`.  Subscribe it to the `RE` so it receives data during a `RE()` run."
   ]
  },
  {
   "cell_type": "code",
   "execution_count": 26,
   "id": "20c542ed",
   "metadata": {},
   "outputs": [],
   "source": [
    "from bluesky.callbacks.best_effort import BestEffortCallback\n",
    "bec = BestEffortCallback()\n",
    "RE.subscribe(bec)\n",
    "peaks = bec.peaks"
   ]
  },
  {
   "cell_type": "markdown",
   "id": "3da26520",
   "metadata": {},
   "source": [
    "Supplemental *baseline* data is recorded before and after each run.  Additionally, EPICS Channel Access monitors can update PVs asynchronous to the primary data acquisition.  These *monitor*s can be saved as additional data streams in a run.  Prepare to use this feature."
   ]
  },
  {
   "cell_type": "code",
   "execution_count": 27,
   "id": "b5941fec",
   "metadata": {},
   "outputs": [],
   "source": [
    "from bluesky import SupplementalData\n",
    "sd = SupplementalData()\n",
    "RE.preprocessors.append(sd)"
   ]
  },
  {
   "cell_type": "markdown",
   "id": "b1231061",
   "metadata": {},
   "source": [
    "Add the name of this notebook as metadata to every run.  This is done by adding to the RunEngine's metadata dictionary (`RE.md`), content that will be added to the *start* document of every run.  The metadata is useful documentation about a run and can be used for several purposes, such as to record a general condition (such as the name of this notebook) or to identify these runs from a database search."
   ]
  },
  {
   "cell_type": "code",
   "execution_count": 28,
   "id": "9ec5c3a2",
   "metadata": {},
   "outputs": [],
   "source": [
    "RE.md[\"notebook\"] = \"basic-motor-scaler-scan\""
   ]
  },
  {
   "cell_type": "markdown",
   "id": "a167b8cb",
   "metadata": {},
   "source": [
    "## First scan\n",
    "\n",
    "The standard plans provided in `bluesky.plans` are sufficient for many needs, so import them and, in the same command, give the package a short name (`bp`) since it is used frequently."
   ]
  },
  {
   "cell_type": "code",
   "execution_count": 29,
   "id": "36210b0e",
   "metadata": {},
   "outputs": [],
   "source": [
    "from bluesky import plans as bp"
   ]
  },
  {
   "cell_type": "markdown",
   "id": "1524eb49",
   "metadata": {},
   "source": [
    "The [`scan()`](https://blueskyproject.io/bluesky/generated/bluesky.plans.scan.html#bluesky.plans.scan) plan is flexible and will be used here to scan scaler *vs.* motor.  The first argument is the *list* of detectors to be recorded.  Here, we give the scaler object `vsc16`.  The next argument is the positioner object, then start and end positions, finally, the number of points to be collected.\n",
    "\n",
    "Observe that we do not run the scan directly, but rather give the scan to the `RE()` object.  The `RE()` object will run the scan, performing each of the actions defined by the scan, but also handle the additional tasks of managing the data acquisition process, publishing data to all subscribers (here: databroker and BestEffortCallback) and checking for updates from EPICS and checking if the run must be interrupted either by user request or some other observation.  (We have not configured any of those other observations in this simple example.)"
   ]
  },
  {
   "cell_type": "code",
   "execution_count": 30,
   "id": "34e011c3",
   "metadata": {},
   "outputs": [
    {
     "name": "stdout",
     "output_type": "stream",
     "text": [
      "\n",
      "\n",
      "Transient Scan ID: 1     Time: 2021-08-13 15:34:06\n",
      "Persistent Unique Scan ID: '8121d99b-90cc-4165-9c9d-8adcdd13a309'\n",
      "xpos:   9%|██▌                         | 0.09/1.0 [00:00<00:01,  1.88s/degrees]\n",
      "xpos:  19%|█████▎                      | 0.19/1.0 [00:00<00:01,  1.42s/degrees]\n",
      "xpos:  29%|████████                    | 0.29/1.0 [00:00<00:00,  1.27s/degrees]\n",
      "xpos:  39%|██████████▉                 | 0.39/1.0 [00:00<00:00,  1.21s/degrees]\n",
      "xpos:  49%|█████████████▋              | 0.49/1.0 [00:00<00:00,  1.16s/degrees]\n",
      "xpos:  59%|████████████████▌           | 0.59/1.0 [00:00<00:00,  1.14s/degrees]\n",
      "xpos:  69%|███████████████████▎        | 0.69/1.0 [00:00<00:00,  1.12s/degrees]\n",
      "xpos:  79%|██████████████████████      | 0.79/1.0 [00:00<00:00,  1.10s/degrees]\n",
      "xpos:  89%|████████████████████████▉   | 0.89/1.0 [00:00<00:00,  1.09s/degrees]\n",
      "xpos:  97%|███████████████████████████▏| 0.97/1.0 [00:01<00:00,  1.10s/degrees]\n",
      "xpos: 100%|█████████████████████████████| 1.0/1.0 [00:01<00:00,  1.17s/degrees]\n",
      "xpos [In progress. No progress bar available.]                                 \n",
      "                                                                               \n",
      "vsc16 [In progress. No progress bar available.]                                \n",
      "vsc16 [In progress. No progress bar available.]                                \n",
      "                                                                               \n",
      "New stream: 'primary'\n",
      "+-----------+------------+------------+------------+------------+------------+------------+------------+------------+------------+\n",
      "|   seq_num |       time |       xpos |   timebase |         I0 |      scint |      diode |        I00 |       roi1 |       roi2 |\n",
      "+-----------+------------+------------+------------+------------+------------+------------+------------+------------+------------+\n",
      "|         1 | 15:34:08.4 |   -1.00000 |    6000000 |          1 |          2 |          2 |          2 |          0 |          0 |\n",
      "xpos:  27%|██████▍                 | 0.09/0.33333 [00:00<00:00,  1.78s/degrees]\n",
      "xpos:  57%|█████████████▋          | 0.19/0.33333 [00:00<00:00,  1.37s/degrees]\n",
      "xpos:  84%|████████████████████▏   | 0.28/0.33333 [00:00<00:00,  1.29s/degrees]\n",
      "xpos:  99%|███████████████████████▊| 0.33/0.33333 [00:00<00:00,  1.40s/degrees]\n",
      "xpos [In progress. No progress bar available.]                                 \n",
      "                                                                               \n",
      "vsc16 [In progress. No progress bar available.]                                \n",
      "vsc16 [In progress. No progress bar available.]                                \n",
      "                                                                               \n",
      "|         2 | 15:34:10.3 |   -0.67000 |    6000000 |          2 |          2 |          3 |          1 |          0 |          0 |\n",
      "xpos:  27%|██████▍                 | 0.09/0.33667 [00:00<00:00,  2.11s/degrees]\n",
      "xpos:  56%|█████████████▌          | 0.19/0.33667 [00:00<00:00,  1.53s/degrees]\n",
      "xpos:  83%|███████████████████▉    | 0.28/0.33667 [00:00<00:00,  1.40s/degrees]\n",
      "xpos:  98%|███████████████████████▌| 0.33/0.33667 [00:00<00:00,  1.49s/degrees]\n",
      "xpos: 100%|█████████████████████| 0.33667/0.33667 [00:00<00:00,  1.76s/degrees]\n",
      "xpos [In progress. No progress bar available.]                                 \n",
      "                                                                               \n",
      "vsc16 [In progress. No progress bar available.]                                \n",
      "vsc16 [In progress. No progress bar available.]                                \n",
      "                                                                               \n",
      "|         3 | 15:34:12.3 |   -0.33000 |    6000000 |          3 |          3 |          2 |          2 |          0 |          0 |\n",
      "xpos:  27%|███████▎                   | 0.09/0.33 [00:00<00:00,  2.05s/degrees]\n",
      "xpos:  58%|███████████████▌           | 0.19/0.33 [00:00<00:00,  1.50s/degrees]\n",
      "xpos:  85%|██████████████████████▉    | 0.28/0.33 [00:00<00:00,  1.37s/degrees]\n",
      "xpos:  97%|██████████████████████████▏| 0.32/0.33 [00:00<00:00,  1.52s/degrees]\n",
      "xpos: 100%|███████████████████████████| 0.33/0.33 [00:00<00:00,  1.77s/degrees]\n",
      "xpos [In progress. No progress bar available.]                                 \n",
      "                                                                               \n",
      "vsc16 [In progress. No progress bar available.]                                \n",
      "vsc16 [In progress. No progress bar available.]                                \n",
      "                                                                               \n",
      "|         4 | 15:34:14.3 |    0.00000 |    6000000 |          3 |          3 |          3 |          4 |          0 |          0 |\n",
      "xpos:  27%|██████▍                 | 0.09/0.33333 [00:00<00:00,  2.19s/degrees]\n",
      "xpos:  57%|█████████████▋          | 0.19/0.33333 [00:00<00:00,  1.56s/degrees]\n",
      "xpos:  84%|████████████████████▏   | 0.28/0.33333 [00:00<00:00,  1.42s/degrees]\n",
      "xpos:  99%|███████████████████████▊| 0.33/0.33333 [00:00<00:00,  1.51s/degrees]\n",
      "xpos [In progress. No progress bar available.]                                 \n",
      "                                                                               \n",
      "vsc16 [In progress. No progress bar available.]                                \n",
      "vsc16 [In progress. No progress bar available.]                                \n",
      "                                                                               \n",
      "|         5 | 15:34:16.3 |    0.33000 |    6000000 |          1 |          4 |          4 |          3 |          0 |          0 |\n",
      "xpos:  27%|██████▍                 | 0.09/0.33667 [00:00<00:00,  1.58s/degrees]\n",
      "xpos:  56%|█████████████▌          | 0.19/0.33667 [00:00<00:00,  1.28s/degrees]\n",
      "xpos:  83%|███████████████████▉    | 0.28/0.33667 [00:00<00:00,  1.22s/degrees]\n",
      "xpos:  98%|███████████████████████▌| 0.33/0.33667 [00:00<00:00,  1.34s/degrees]\n",
      "xpos: 100%|█████████████████████| 0.33667/0.33667 [00:00<00:00,  1.61s/degrees]\n",
      "xpos [In progress. No progress bar available.]                                 \n",
      "                                                                               \n",
      "vsc16 [In progress. No progress bar available.]                                \n",
      "vsc16 [In progress. No progress bar available.]                                \n",
      "                                                                               \n",
      "|         6 | 15:34:18.2 |    0.67000 |    6000000 |          1 |          3 |          3 |          2 |          0 |          0 |\n",
      "xpos:  27%|███████▎                   | 0.09/0.33 [00:00<00:00,  1.47s/degrees]\n",
      "xpos:  58%|███████████████▌           | 0.19/0.33 [00:00<00:00,  1.23s/degrees]\n",
      "xpos:  85%|██████████████████████▉    | 0.28/0.33 [00:00<00:00,  1.19s/degrees]\n",
      "xpos:  97%|██████████████████████████▏| 0.32/0.33 [00:00<00:00,  1.35s/degrees]\n",
      "xpos: 100%|███████████████████████████| 0.33/0.33 [00:00<00:00,  1.62s/degrees]\n",
      "xpos [In progress. No progress bar available.]                                 \n",
      "                                                                               \n",
      "vsc16 [In progress. No progress bar available.]                                \n",
      "vsc16 [In progress. No progress bar available.]                                \n",
      "                                                                               \n",
      "|         7 | 15:34:20.1 |    1.00000 |    6000000 |          2 |          1 |          4 |          3 |          0 |          0 |\n",
      "+-----------+------------+------------+------------+------------+------------+------------+------------+------------+------------+\n",
      "generator scan ['8121d99b'] (scan num: 1)\n"
     ]
    },
    {
     "name": "stderr",
     "output_type": "stream",
     "text": [
      "/home/prjemian/.local/lib/python3.8/site-packages/bluesky/callbacks/fitting.py:165: RuntimeWarning: invalid value encountered in double_scalars\n",
      "  np.sum(input * grids[dir].astype(float), labels, index) / normalizer\n"
     ]
    },
    {
     "name": "stdout",
     "output_type": "stream",
     "text": [
      "\n",
      "\n",
      "\n"
     ]
    },
    {
     "data": {
      "text/plain": [
       "('8121d99b-90cc-4165-9c9d-8adcdd13a309',)"
      ]
     },
     "execution_count": 30,
     "metadata": {},
     "output_type": "execute_result"
    },
    {
     "data": {
      "image/png": "[encoded data removed]",
      "text/plain": [
       "<Figure size 1080x1080 with 9 Axes>"
      ]
     },
     "metadata": {
      "needs_background": "light"
     },
     "output_type": "display_data"
    }
   ],
   "source": [
    "RE(bp.scan([vsc16], xpos, -1, 1, 7))"
   ]
  },
  {
   "cell_type": "markdown",
   "id": "83feb03f",
   "metadata": {},
   "source": [
    "The scan ran, data was collected and printed at each step of the scan.  Finally, plots were made of the scaler channel *vs* motor position for each active channel.\n",
    "\n",
    "## Fix a few _problems_\n",
    "\n",
    "There were some problems.  First is that an error was reported after the scan (`... callbacks/fitting.py:165: RuntimeWarning: invalid value encountered in double_scalars `).  This error is because the scalers showed no peak during the scan.  The scaler is a simulator with no real data.  We'll ignore that error here.\n",
    "\n",
    "Another problem is that all _named_ scaler channels are shown.  Let's reduce that list to `I0` and `scint` just to show how it is done.  (Set back to default: `vsc16.select_channels()`)"
   ]
  },
  {
   "cell_type": "code",
   "execution_count": 31,
   "id": "4e1107f1",
   "metadata": {},
   "outputs": [],
   "source": [
    "vsc16.select_channels(['I0', 'scint'])"
   ]
  },
  {
   "cell_type": "markdown",
   "id": "8b9b0d83",
   "metadata": {},
   "source": [
    "Another problem is that the scaler counts for 0.1s longer than we have configured.  This is a problem with the underlying EPICS support for a simulated (a.k.a. *soft channel*) scaler.  We'll ignore that error here.\n",
    "\n",
    "Next problem is that the progress bar is a nuisance in this notebook so we'll remove it."
   ]
  },
  {
   "cell_type": "code",
   "execution_count": 32,
   "id": "d787ab5a",
   "metadata": {},
   "outputs": [],
   "source": [
    "RE.waiting_hook = None"
   ]
  },
  {
   "cell_type": "markdown",
   "id": "e7de9969",
   "metadata": {},
   "source": [
    "Then, repeat the same scan."
   ]
  },
  {
   "cell_type": "code",
   "execution_count": 33,
   "id": "83f91f08",
   "metadata": {},
   "outputs": [
    {
     "name": "stdout",
     "output_type": "stream",
     "text": [
      "\n",
      "\n",
      "Transient Scan ID: 2     Time: 2021-08-13 15:34:21\n",
      "Persistent Unique Scan ID: '691b357e-d11b-4a7e-8f8f-1ce6381c2d21'\n",
      "New stream: 'primary'\n",
      "+-----------+------------+------------+------------+------------+\n",
      "|   seq_num |       time |       xpos |         I0 |      scint |\n",
      "+-----------+------------+------------+------------+------------+\n",
      "|         1 | 15:34:24.9 |   -1.00000 |          2 |          3 |\n",
      "|         2 | 15:34:26.2 |   -0.67000 |          2 |          4 |\n",
      "|         3 | 15:34:27.5 |   -0.33000 |          4 |          3 |\n",
      "|         4 | 15:34:28.9 |    0.00000 |          2 |          2 |\n",
      "|         5 | 15:34:30.3 |    0.33000 |          2 |          3 |\n",
      "|         6 | 15:34:31.7 |    0.67000 |          1 |          2 |\n",
      "|         7 | 15:34:33.1 |    1.00000 |          2 |          3 |\n",
      "+-----------+------------+------------+------------+------------+\n",
      "generator scan ['691b357e'] (scan num: 2)\n",
      "\n",
      "\n",
      "\n"
     ]
    },
    {
     "data": {
      "text/plain": [
       "('691b357e-d11b-4a7e-8f8f-1ce6381c2d21',)"
      ]
     },
     "execution_count": 33,
     "metadata": {},
     "output_type": "execute_result"
    },
    {
     "data": {
      "image/png": "[encoded data removed]",
      "text/plain": [
       "<Figure size 360x720 with 2 Axes>"
      ]
     },
     "metadata": {
      "needs_background": "light"
     },
     "output_type": "display_data"
    }
   ],
   "source": [
    "RE(bp.scan([vsc16], xpos, -1, 1, 7))"
   ]
  },
  {
   "cell_type": "markdown",
   "id": "a9324ead",
   "metadata": {},
   "source": [
    "## Scan with a *different* counting time : _staging_\n",
    "\n",
    "Suppose that we wish to use a different counting time, we could change the `vsc16.preset_time` value before running the scan.  Another way is to use the `ophyd` concept of [*stage* & *unstage*](https://blueskyproject.io/ophyd/device-overview.html?highlight=staging#stage-and-unstage).  \n",
    "\n",
    "*Staging* is the action of preparing an ophyd device for operation, then resetting it afterwards to its previous values.  For our scaler, we could *stage* a different counting time that would be used during the run, then removed after the run is complete.  The `stage()` and `unstage()` methods are controlled by an `OrderedDictionary` where the keys are the attributes of the Python object and the values are used during the run.  The `RE()` takes care of calling `stage()` and `unstage()` during the scan.\n",
    "\n",
    "Here we show staging of a 2.0s `preset_time` for the run.  Also shown are the `preset_time` value before and after the run."
   ]
  },
  {
   "cell_type": "code",
   "execution_count": 34,
   "id": "cfe8c4eb",
   "metadata": {},
   "outputs": [
    {
     "name": "stdout",
     "output_type": "stream",
     "text": [
      "vsc16.preset_time.get() = 0.5\n"
     ]
    }
   ],
   "source": [
    "print(f\"{vsc16.preset_time.get() = }\")"
   ]
  },
  {
   "cell_type": "code",
   "execution_count": 35,
   "id": "60f5108c",
   "metadata": {},
   "outputs": [],
   "source": [
    "vsc16.stage_sigs[\"preset_time\"] = 2.0"
   ]
  },
  {
   "cell_type": "markdown",
   "id": "d6c7d049",
   "metadata": {},
   "source": [
    "Repeat the same scan."
   ]
  },
  {
   "cell_type": "code",
   "execution_count": 36,
   "id": "6136a21a",
   "metadata": {},
   "outputs": [
    {
     "name": "stdout",
     "output_type": "stream",
     "text": [
      "\n",
      "\n",
      "Transient Scan ID: 3     Time: 2021-08-13 15:34:33\n",
      "Persistent Unique Scan ID: '6d508d87-2648-4397-b6d1-10325a905f96'\n",
      "New stream: 'primary'\n",
      "+-----------+------------+------------+------------+------------+\n",
      "|   seq_num |       time |       xpos |         I0 |      scint |\n",
      "+-----------+------------+------------+------------+------------+\n",
      "|         1 | 15:34:38.1 |   -1.00000 |         11 |         10 |\n",
      "|         2 | 15:34:40.9 |   -0.67000 |          7 |         10 |\n",
      "|         3 | 15:34:43.7 |   -0.33000 |         12 |         12 |\n",
      "|         4 | 15:34:46.5 |    0.00000 |          7 |          8 |\n",
      "|         5 | 15:34:49.3 |    0.33000 |         10 |          8 |\n",
      "|         6 | 15:34:52.1 |    0.67000 |         10 |         11 |\n",
      "|         7 | 15:34:54.9 |    1.00000 |          9 |          8 |\n",
      "+-----------+------------+------------+------------+------------+\n",
      "generator scan ['6d508d87'] (scan num: 3)\n",
      "\n",
      "\n",
      "\n"
     ]
    },
    {
     "data": {
      "text/plain": [
       "('6d508d87-2648-4397-b6d1-10325a905f96',)"
      ]
     },
     "execution_count": 36,
     "metadata": {},
     "output_type": "execute_result"
    },
    {
     "data": {
      "image/png": "[encoded data removed]",
      "text/plain": [
       "<Figure size 360x720 with 2 Axes>"
      ]
     },
     "metadata": {
      "needs_background": "light"
     },
     "output_type": "display_data"
    }
   ],
   "source": [
    "RE(bp.scan([vsc16], xpos, -1, 1, 7))"
   ]
  },
  {
   "cell_type": "code",
   "execution_count": 37,
   "id": "fd667f48",
   "metadata": {},
   "outputs": [
    {
     "name": "stdout",
     "output_type": "stream",
     "text": [
      "vsc16.preset_time.get() = 0.5\n"
     ]
    }
   ],
   "source": [
    "print(f\"{vsc16.preset_time.get() = }\")"
   ]
  },
  {
   "cell_type": "markdown",
   "id": "a7da7237",
   "metadata": {},
   "source": [
    "## Custom plan with configurable count time\n",
    "\n",
    "It is common to want to set the count time at the time the scan is started.  For this feature, a custom scan plan is needed, where we will repeat the steps just shown.  This plan will use similar arguments as the `bp.scan()` used above, but add an optional keyword argument `ct` for the count time with a default of 1.0 second.  For housekeeping, we'll remove the staging configuration from the scaler after the scan.\n",
    "\n",
    "A bluesky [*plan*](https://blueskyproject.io/bluesky/plans.html) is a [Python generator function](https://duckduckgo.com/?t=ffsb&q=Python+generator+function&ia=web).  The `bp.scan()` call is the part that makes this a generator function.  Briefly, a bluesky plan defers execution of the actual scan until the `RE()` calls for it.  This indirection allows the `RE()` to manage the plan's execution when the beam dumps or other interruptions occur.  (A function becomes a generator by the presence of one or more `yield` commands.)"
   ]
  },
  {
   "cell_type": "code",
   "execution_count": 38,
   "id": "7f050abc",
   "metadata": {},
   "outputs": [],
   "source": [
    "def tscan(scaler, pos, pStart, pEnd, nPts, ct=1):\n",
    "    scaler.stage_sigs[\"preset_time\"] = ct\n",
    "    print(f\"{scaler.preset_time.get() = }\")\n",
    "\n",
    "    yield from bp.scan([scaler], pos, pStart, pEnd, nPts)\n",
    "\n",
    "    print(f\"{scaler.preset_time.get() = }\")\n",
    "    del scaler.stage_sigs[\"preset_time\"]"
   ]
  },
  {
   "cell_type": "markdown",
   "id": "624d51b4",
   "metadata": {},
   "source": [
    "Run the custom plan."
   ]
  },
  {
   "cell_type": "code",
   "execution_count": 39,
   "id": "5a109925",
   "metadata": {},
   "outputs": [
    {
     "name": "stdout",
     "output_type": "stream",
     "text": [
      "scaler.preset_time.get() = 0.5\n",
      "\n",
      "\n",
      "Transient Scan ID: 4     Time: 2021-08-13 15:34:55\n",
      "Persistent Unique Scan ID: 'e8b14a83-aec3-4e72-aa12-97b2606113d3'\n",
      "New stream: 'primary'\n",
      "+-----------+------------+------------+------------+------------+\n",
      "|   seq_num |       time |       xpos |         I0 |      scint |\n",
      "+-----------+------------+------------+------------+------------+\n",
      "|         1 | 15:34:58.0 |   -1.00000 |          1 |          0 |\n",
      "|         2 | 15:34:58.9 |   -0.67000 |          0 |          1 |\n",
      "|         3 | 15:34:59.8 |   -0.33000 |          1 |          1 |\n",
      "|         4 | 15:35:00.7 |    0.00000 |          1 |          0 |\n",
      "|         5 | 15:35:01.6 |    0.33000 |          1 |          1 |\n",
      "|         6 | 15:35:02.5 |    0.67000 |          0 |          1 |\n",
      "|         7 | 15:35:03.4 |    1.00000 |          0 |          1 |\n",
      "+-----------+------------+------------+------------+------------+\n",
      "generator scan ['e8b14a83'] (scan num: 4)\n",
      "\n",
      "\n",
      "\n",
      "scaler.preset_time.get() = 0.5\n"
     ]
    },
    {
     "data": {
      "text/plain": [
       "('e8b14a83-aec3-4e72-aa12-97b2606113d3',)"
      ]
     },
     "execution_count": 39,
     "metadata": {},
     "output_type": "execute_result"
    },
    {
     "data": {
      "image/png": "[encoded data removed]",
      "text/plain": [
       "<Figure size 360x720 with 2 Axes>"
      ]
     },
     "metadata": {
      "needs_background": "light"
     },
     "output_type": "display_data"
    }
   ],
   "source": [
    "RE(tscan(vsc16, xpos, -1, 1, 7, 0.1))"
   ]
  },
  {
   "cell_type": "markdown",
   "id": "0982bf98",
   "metadata": {},
   "source": [
    "## Challenges\n",
    "\n",
    "Try these additional modifications or activities.\n",
    "\n",
    "1. Use `logger` to report at various places.\n",
    "\n",
    "   _Hint_: `logger.info(\"text: %s  value: %g\", s1, v2, ...)`\n",
    "\n",
    "   Consider examples as used in [`peak_finder_example.py`](instrument/plans/peak_finder_example.py).\n",
    "   See the [Python logging tutorial](https://docs.python.org/3/howto/logging.html) for more information.\n",
    "1. Write a custom plan that accepts user-provided metadata.\n",
    "\n",
    "   _Hint_: [`bp.scan()`](https://blueskyproject.io/bluesky/generated/bluesky.plans.scan.html#bluesky.plans.scan) has the `md` keyword argument (_kwarg_) that accepts a dictionary of _key: value_ pairs as the metadata when the plan is run.  Your custom plan should accept the same kwarg and pass this to `bp.scan(md=the_dictionary)`, possibly after adding some of its own keys to the metadata."
   ]
  }
 ],
 "metadata": {
  "kernelspec": {
   "display_name": "bluesky_2021_1",
   "language": "python",
   "name": "bluesky_2021_1"
  },
  "language_info": {
   "codemirror_mode": {
    "name": "ipython",
    "version": 3
   },
   "file_extension": ".py",
   "mimetype": "text/x-python",
   "name": "python",
   "nbconvert_exporter": "python",
   "pygments_lexer": "ipython3",
   "version": "3.8.8"
  }
 },
 "nbformat": 4,
 "nbformat_minor": 5
}
