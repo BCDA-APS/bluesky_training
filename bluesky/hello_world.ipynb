{
 "cells": [
  {
   "cell_type": "markdown",
   "source": [
    "# Bluesky *Hello World*\n",
    "\n",
    "**Objective**:\n",
    "\n",
    "A few lines of Python to test:\n",
    "\n",
    "* account is setup\n",
    "* basic import works\n",
    "* [`ophyd`](blueskyproject.io/ophyd) package is importable\n",
    "* [`PyEpics`](http://pyepics.github.io/pyepics/) connects with [EPICS](https://epics.anl.gov) [IOC](https://github.com/prjemian/epics-docker)\n",
    "* EPICS IOC is running\n",
    "\n",
    "Note: A *Hello, World!* program tests that the most basic infrastructure is working for users."
   ],
   "metadata": {}
  },
  {
   "cell_type": "code",
   "execution_count": 1,
   "source": [
    "try:\n",
    "    %load_ext dotenv\n",
    "    %dotenv env.txt\n",
    "except Exception:\n",
    "    print(\n",
    "        \"Did not load file with environment variables.\"\n",
    "        \"  No problem.  Continuing ...\"\n",
    "    )"
   ],
   "outputs": [
    {
     "output_type": "stream",
     "name": "stdout",
     "text": [
      "Did not load file with environment variables.  No problem.  Continuing ...\n"
     ]
    }
   ],
   "metadata": {}
  },
  {
   "cell_type": "markdown",
   "source": [
    "In some training sessions, the `GP_IOC_PREFIX` environment variable provides the IOC name, otherwise, default to `gp:`."
   ],
   "metadata": {}
  },
  {
   "cell_type": "code",
   "execution_count": 2,
   "source": [
    "import os\n",
    "ioc = os.environ.get(\"GP_IOC_PREFIX\", \"gp:\")\n",
    "print(f\"{ioc = }\")"
   ],
   "outputs": [
    {
     "output_type": "stream",
     "name": "stdout",
     "text": [
      "ioc = 'gp:'\n"
     ]
    }
   ],
   "metadata": {}
  },
  {
   "cell_type": "markdown",
   "source": [
    "The [`EpicsSignal`](https://blueskyproject.io/ophyd/tutorials/single-PV.html#connect-to-a-pv-from-ophyd) is the basic class used to connect with a single EPICS PV (Process Variable) using Channel Access protocol.  In addition to loading the class we need, this import also tests if the required packages are installed and can be loaded.  Still not connecting with EPICS, yet."
   ],
   "metadata": {}
  },
  {
   "cell_type": "code",
   "execution_count": 3,
   "source": [
    "from ophyd import EpicsSignal"
   ],
   "outputs": [],
   "metadata": {}
  },
  {
   "cell_type": "markdown",
   "source": [
    "Report how long this IOC has been running.  This is the step when `ophyd` connects with EPICS using Channel Access protocol via lower-level calls to `PyEpics`."
   ],
   "metadata": {}
  },
  {
   "cell_type": "code",
   "execution_count": 4,
   "source": [
    "uptime =  EpicsSignal(\"gp:UPTIME\", name=\"uptime\")\n",
    "print(f\"{uptime.connected = }  PV={uptime.pvname}\")"
   ],
   "outputs": [
    {
     "output_type": "stream",
     "name": "stdout",
     "text": [
      "uptime.connected = False  PV=gp:UPTIME\n"
     ]
    }
   ],
   "metadata": {}
  },
  {
   "cell_type": "code",
   "execution_count": 5,
   "source": [
    "uptime.wait_for_connection()\n",
    "print(f\"{uptime.connected = }\")"
   ],
   "outputs": [
    {
     "output_type": "stream",
     "name": "stdout",
     "text": [
      "uptime.connected = True\n"
     ]
    }
   ],
   "metadata": {}
  },
  {
   "cell_type": "code",
   "execution_count": 6,
   "source": [
    "print(f\"{uptime.get() = }\")"
   ],
   "outputs": [
    {
     "output_type": "stream",
     "name": "stdout",
     "text": [
      "uptime.get() = '04:27:07'\n"
     ]
    }
   ],
   "metadata": {}
  }
 ],
 "metadata": {
  "interpreter": {
   "hash": "fa399ef8ed4fbc3b7fe63ebf4307839a170374bf77134d519fcb3b724ac0582b"
  },
  "kernelspec": {
   "name": "python3",
   "display_name": "Python 3.8.10 64-bit ('bluesky_2021_2': conda)"
  },
  "language_info": {
   "codemirror_mode": {
    "name": "ipython",
    "version": 3
   },
   "file_extension": ".py",
   "mimetype": "text/x-python",
   "name": "python",
   "nbconvert_exporter": "python",
   "pygments_lexer": "ipython3",
   "version": "3.8.10"
  }
 },
 "nbformat": 4,
 "nbformat_minor": 4
}