{
 "cells": [
  {
   "cell_type": "markdown",
   "source": [
    "# Bluesky *Hello World*\n",
    "\n",
    "**Objective**:\n",
    "A few lines of Python to test:\n",
    "\n",
    "* account is setup\n",
    "* basic import works\n",
    "* [`ophyd`](blueskyproject.io/ophyd) package is importable\n",
    "* [`PyEpics`](http://pyepics.github.io/pyepics/) connects with [EPICS](https://epics.anl.gov) [IOC](https://github.com/prjemian/epics-docker)\n",
    "* EPICS IOC is running"
   ],
   "metadata": {}
  },
  {
   "cell_type": "code",
   "execution_count": 1,
   "source": [
    "try:\n",
    "    %load_ext dotenv\n",
    "    %dotenv env.txt\n",
    "except Exception:\n",
    "    print(\n",
    "        \"Did not load file with environment variables.\"\n",
    "        \"  No problem.  Continuing ...\"\n",
    "    )"
   ],
   "outputs": [
    {
     "output_type": "stream",
     "name": "stdout",
     "text": [
      "Did not load file with environment variables.  No problem.  Continuing ...\n"
     ]
    }
   ],
   "metadata": {}
  },
  {
   "cell_type": "code",
   "execution_count": 2,
   "source": [
    "import os\n",
    "ioc = os.environ.get(\"GP_IOC_PREFIX\", \"gp:\")\n",
    "print(f\"{ioc = }\")"
   ],
   "outputs": [
    {
     "output_type": "stream",
     "name": "stdout",
     "text": [
      "ioc = 'gp:'\n"
     ]
    }
   ],
   "metadata": {}
  },
  {
   "cell_type": "code",
   "execution_count": 3,
   "source": [
    "from ophyd import EpicsSignal"
   ],
   "outputs": [],
   "metadata": {}
  },
  {
   "cell_type": "code",
   "execution_count": 4,
   "source": [
    "uptime =  EpicsSignal(f\"{ioc}UPTIME\", name=\"uptime\")\n",
    "print(f\"{uptime.connected = }  PV={uptime.pvname}\")"
   ],
   "outputs": [
    {
     "output_type": "stream",
     "name": "stdout",
     "text": [
      "uptime.connected = False  PV=gp:UPTIME\n"
     ]
    }
   ],
   "metadata": {}
  },
  {
   "cell_type": "code",
   "execution_count": 5,
   "source": [
    "uptime.wait_for_connection()\n",
    "print(f\"{uptime.connected = }\")"
   ],
   "outputs": [
    {
     "output_type": "stream",
     "name": "stdout",
     "text": [
      "uptime.connected = True\n"
     ]
    }
   ],
   "metadata": {}
  },
  {
   "cell_type": "code",
   "execution_count": 6,
   "source": [
    "print(f\"{uptime.get() = }\")"
   ],
   "outputs": [
    {
     "output_type": "stream",
     "name": "stdout",
     "text": [
      "uptime.get() = '49 days, 22:32:21'\n"
     ]
    }
   ],
   "metadata": {}
  }
 ],
 "metadata": {
  "kernelspec": {
   "name": "python3",
   "display_name": "Python 3.8.10 64-bit ('base': conda)"
  },
  "language_info": {
   "codemirror_mode": {
    "name": "ipython",
    "version": 3
   },
   "file_extension": ".py",
   "mimetype": "text/x-python",
   "name": "python",
   "nbconvert_exporter": "python",
   "pygments_lexer": "ipython3",
   "version": "3.8.10"
  },
  "interpreter": {
   "hash": "fa399ef8ed4fbc3b7fe63ebf4307839a170374bf77134d519fcb3b724ac0582b"
  }
 },
 "nbformat": 4,
 "nbformat_minor": 4
}