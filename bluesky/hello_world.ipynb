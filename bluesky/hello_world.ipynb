{
 "cells": [
  {
   "cell_type": "markdown",
   "metadata": {},
   "source": [
    "# Bluesky *Hello World*\n",
    "\n",
    "**Objective**:\n",
    "\n",
    "A few lines of Python to test:\n",
    "\n",
    "* account is setup\n",
    "* basic import works\n",
    "* [`ophyd`](blueskyproject.io/ophyd) package is importable\n",
    "* [`PyEpics`](http://pyepics.github.io/pyepics/) connects with [EPICS](https://epics.anl.gov) [IOC](https://github.com/prjemian/epics-docker)\n",
    "* EPICS IOC is running\n",
    "\n",
    "Note: A *Hello, World!* program tests that the most basic infrastructure is working for users."
   ]
  },
  {
   "cell_type": "code",
   "execution_count": 1,
   "metadata": {},
   "outputs": [
    {
     "name": "stdout",
     "output_type": "stream",
     "text": [
      "Did not load file with environment variables.  No problem.  Continuing ...\n"
     ]
    }
   ],
   "source": [
    "try:\n",
    "    %load_ext dotenv\n",
    "    %dotenv env.txt\n",
    "except Exception:\n",
    "    print(\n",
    "        \"Did not load file with environment variables.\"\n",
    "        \"  No problem.  Continuing ...\"\n",
    "    )"
   ]
  },
  {
   "cell_type": "markdown",
   "metadata": {},
   "source": [
    "In some training sessions, the `GP_IOC_PREFIX` environment variable provides the IOC name, otherwise, default to `gp:`."
   ]
  },
  {
   "cell_type": "code",
   "execution_count": 2,
   "metadata": {},
   "outputs": [
    {
     "name": "stdout",
     "output_type": "stream",
     "text": [
      "ioc = 'gp:'\n"
     ]
    }
   ],
   "source": [
    "import os\n",
    "ioc = os.environ.get(\"GP_IOC_PREFIX\", \"gp:\")\n",
    "print(f\"{ioc = }\")"
   ]
  },
  {
   "cell_type": "markdown",
   "metadata": {},
   "source": [
    "The [`EpicsSignal`](https://blueskyproject.io/ophyd/tutorials/single-PV.html#connect-to-a-pv-from-ophyd) is the basic class used to connect with a single EPICS PV (Process Variable) using Channel Access protocol.  In addition to loading the class we need, this import also tests if the required packages are installed and can be loaded.  Still not connecting with EPICS, yet."
   ]
  },
  {
   "cell_type": "code",
   "execution_count": 3,
   "metadata": {},
   "outputs": [],
   "source": [
    "from ophyd import EpicsSignal"
   ]
  },
  {
   "cell_type": "markdown",
   "metadata": {},
   "source": [
    "Report how long this IOC has been running.  This is the step when `ophyd` connects with EPICS using Channel Access protocol via lower-level calls to `PyEpics`."
   ]
  },
  {
   "cell_type": "code",
   "execution_count": 4,
   "metadata": {},
   "outputs": [
    {
     "name": "stdout",
     "output_type": "stream",
     "text": [
      "uptime.connected = False  PV=gp:UPTIME\n"
     ]
    }
   ],
   "source": [
    "uptime =  EpicsSignal(\"gp:UPTIME\", name=\"uptime\")\n",
    "print(f\"{uptime.connected = }  PV={uptime.pvname}\")"
   ]
  },
  {
   "cell_type": "code",
   "execution_count": 5,
   "metadata": {},
   "outputs": [
    {
     "name": "stdout",
     "output_type": "stream",
     "text": [
      "uptime.connected = True\n"
     ]
    }
   ],
   "source": [
    "uptime.wait_for_connection()\n",
    "print(f\"{uptime.connected = }\")"
   ]
  },
  {
   "cell_type": "code",
   "execution_count": 6,
   "metadata": {},
   "outputs": [
    {
     "name": "stdout",
     "output_type": "stream",
     "text": [
      "uptime.get() = '04:27:07'\n"
     ]
    }
   ],
   "source": [
    "print(f\"{uptime.get() = }\")"
   ]
  }
 ],
 "metadata": {
  "interpreter": {
   "hash": "fa399ef8ed4fbc3b7fe63ebf4307839a170374bf77134d519fcb3b724ac0582b"
  },
  "kernelspec": {
   "display_name": "Python 3.8.10 64-bit ('bluesky_2021_2': conda)",
   "name": "python3"
  },
  "language_info": {
   "codemirror_mode": {
    "name": "ipython",
    "version": 3
   },
   "file_extension": ".py",
   "mimetype": "text/x-python",
   "name": "python",
   "nbconvert_exporter": "python",
   "pygments_lexer": "ipython3",
   "version": "3.9.7"
  }
 },
 "nbformat": 4,
 "nbformat_minor": 4
}
