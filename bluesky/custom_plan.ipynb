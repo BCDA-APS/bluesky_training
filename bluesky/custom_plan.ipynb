{
 "cells": [
  {
   "cell_type": "markdown",
   "source": [
    "# Custom bluesky plan\n",
    "\n",
    "**Objective**: \n",
    "Build a custom plan for an up-down scan using positioner `m2` and `scaler1` channels `I0` and `diode`.\n",
    "\n",
    "First, a couple lines to make the graphics and also EPICS Channel Access and work here."
   ],
   "metadata": {}
  },
  {
   "cell_type": "code",
   "execution_count": 1,
   "source": [
    "try:\n",
    "    %load_ext dotenv\n",
    "    %dotenv env.txt\n",
    "except Exception:\n",
    "    print(\n",
    "        \"Did not load file with environment variables.\"\n",
    "        \"  No problem.  Continuing ...\"\n",
    "    )"
   ],
   "outputs": [
    {
     "output_type": "stream",
     "name": "stdout",
     "text": [
      "Did not load file with environment variables.  No problem.  Continuing ...\n"
     ]
    }
   ],
   "metadata": {}
  },
  {
   "cell_type": "markdown",
   "source": [
    "Start the instrument package, which provides python objects for the instrument hardware, plans, utility functions, and the `logger` object."
   ],
   "metadata": {}
  },
  {
   "cell_type": "code",
   "execution_count": 2,
   "source": [
    "from instrument.collection import *"
   ],
   "outputs": [
    {
     "output_type": "stream",
     "name": "stderr",
     "text": [
      "I Tue-22:19:42 - ############################################################ startup\n"
     ]
    },
    {
     "output_type": "stream",
     "name": "stdout",
     "text": [
      "Activating auto-logging. Current session state plus future input saved.\n",
      "Filename       : /home/mintadmin/Documents/projects/BCDA-APS/bluesky_training/bluesky/.logs/ipython_console.log\n",
      "Mode           : rotate\n",
      "Output logging : True\n",
      "Raw input log  : False\n",
      "Timestamping   : True\n",
      "State          : active\n"
     ]
    },
    {
     "output_type": "stream",
     "name": "stderr",
     "text": [
      "I Tue-22:19:42 - logging started\n",
      "I Tue-22:19:42 - logging level = 10\n",
      "I Tue-22:19:42 - /home/mintadmin/Documents/projects/BCDA-APS/bluesky_training/bluesky/instrument/collection.py\n",
      "I Tue-22:19:42 - /home/mintadmin/Documents/projects/BCDA-APS/bluesky_training/bluesky/instrument/mpl/notebook.py\n",
      "I Tue-22:19:44 - #### Bluesky Framework ####\n",
      "I Tue-22:19:44 - /home/mintadmin/Documents/projects/BCDA-APS/bluesky_training/bluesky/instrument/framework/check_python.py\n",
      "I Tue-22:19:44 - /home/mintadmin/Documents/projects/BCDA-APS/bluesky_training/bluesky/instrument/framework/check_bluesky.py\n",
      "I Tue-22:19:45 - /home/mintadmin/Documents/projects/BCDA-APS/bluesky_training/bluesky/instrument/framework/initialize.py\n",
      "I Tue-22:19:47 - using databroker catalog 'training'\n",
      "I Tue-22:19:47 - /home/mintadmin/Documents/projects/BCDA-APS/bluesky_training/bluesky/instrument/framework/metadata.py\n",
      "I Tue-22:19:47 - #### Devices ####\n",
      "I Tue-22:19:47 - /home/mintadmin/Documents/projects/BCDA-APS/bluesky_training/bluesky/instrument/devices/area_detector.py\n",
      "I Tue-22:19:47 - /home/mintadmin/Documents/projects/BCDA-APS/bluesky_training/bluesky/instrument/devices/calculation_records.py\n",
      "I Tue-22:19:53 - /home/mintadmin/Documents/projects/BCDA-APS/bluesky_training/bluesky/instrument/devices/ioc_stats.py\n",
      "I Tue-22:19:53 - /home/mintadmin/Documents/projects/BCDA-APS/bluesky_training/bluesky/instrument/devices/motors.py\n",
      "I Tue-22:19:54 - /home/mintadmin/Documents/projects/BCDA-APS/bluesky_training/bluesky/instrument/devices/noisy_detector.py\n",
      "I Tue-22:19:54 - /home/mintadmin/Documents/projects/BCDA-APS/bluesky_training/bluesky/instrument/devices/scaler.py\n",
      "I Tue-22:19:55 - /home/mintadmin/Documents/projects/BCDA-APS/bluesky_training/bluesky/instrument/devices/shutter_simulator.py\n",
      "I Tue-22:19:55 - /home/mintadmin/Documents/projects/BCDA-APS/bluesky_training/bluesky/instrument/devices/temperature_signal.py\n",
      "I Tue-22:19:55 - #### Callbacks ####\n",
      "I Tue-22:19:55 - /home/mintadmin/Documents/projects/BCDA-APS/bluesky_training/bluesky/instrument/callbacks/spec_data_file_writer.py\n",
      "I Tue-22:19:55 - writing to SPEC file: /home/mintadmin/Documents/projects/BCDA-APS/bluesky_training/bluesky/20210831-221955.dat\n",
      "I Tue-22:19:55 -    >>>>   Using default SPEC file name   <<<<\n",
      "I Tue-22:19:55 -    file will be created when bluesky ends its next scan\n",
      "I Tue-22:19:55 -    to change SPEC file, use command:   newSpecFile('title')\n",
      "I Tue-22:19:55 - #### Plans ####\n",
      "I Tue-22:19:55 - /home/mintadmin/Documents/projects/BCDA-APS/bluesky_training/bluesky/instrument/plans/peak_finder_example.py\n",
      "I Tue-22:19:55 - #### Utilities ####\n",
      "I Tue-22:19:55 - /home/mintadmin/Documents/projects/BCDA-APS/bluesky_training/bluesky/instrument/utils/image_analysis.py\n",
      "I Tue-22:19:56 - #### Startup is complete. ####\n"
     ]
    }
   ],
   "metadata": {}
  },
  {
   "cell_type": "markdown",
   "source": [
    "## Select scaler channels\n",
    "The scaler channels are selected by calling its `.select_channels()` method:"
   ],
   "metadata": {}
  },
  {
   "cell_type": "code",
   "execution_count": 3,
   "source": [
    "scaler1.select_channels([\"I0\", \"diode\"])"
   ],
   "outputs": [],
   "metadata": {}
  },
  {
   "cell_type": "markdown",
   "source": [
    "## Count time\n",
    "The count time is in the `.preset_time` attribute.  The way to set the scaler with this time is to use ophyd's staging process.  Add `preset_time` to the `.stage_sigs` dictionary with the desired count time as the value."
   ],
   "metadata": {}
  },
  {
   "cell_type": "code",
   "execution_count": 4,
   "source": [
    "scaler1.stage_sigs[\"preset_time\"] = 1\n",
    "scaler1.stage_sigs"
   ],
   "outputs": [
    {
     "output_type": "execute_result",
     "data": {
      "text/plain": [
       "OrderedDict([('preset_time', 1)])"
      ]
     },
     "metadata": {},
     "execution_count": 4
    }
   ],
   "metadata": {}
  },
  {
   "cell_type": "markdown",
   "source": [
    "# Construct the plan\n",
    "Create a plan that scans up, then scans down (2 scans total).  Add `temperature` just to get some other interesting data.  We'll add a metadata key (to the `md` dictionary) for the scan direction.\n",
    "\n",
    "We'll do this in small steps starting with the innermost part."
   ],
   "metadata": {}
  },
  {
   "cell_type": "code",
   "execution_count": 5,
   "source": [
    "def up_down_once(lo, hi, num, md={}):\n",
    "    dets = [scaler1, temperature]\n",
    "    _md = {}\n",
    "    _md.update(md)\n",
    "    _md[\"direction\"] = \"up\"\n",
    "    yield from bp.scan(dets, m2, lo, hi, num, md=_md)\n",
    "    _md[\"direction\"] = \"down\"\n",
    "    yield from bp.scan(dets, m2, hi, lo, num, md=_md)"
   ],
   "outputs": [],
   "metadata": {}
  },
  {
   "cell_type": "markdown",
   "source": [
    "Verify that this code will process through the RunEngine by testing it without running it.  Use the `summarize_plan()` function imported from the `bluesky` package.  This will show the steps of the measurement."
   ],
   "metadata": {}
  },
  {
   "cell_type": "code",
   "execution_count": 6,
   "source": [
    "summarize_plan(up_down_once(0, 1, 5))"
   ],
   "outputs": [
    {
     "output_type": "stream",
     "name": "stdout",
     "text": [
      "=================================== Open Run ===================================\n",
      "m2 -> 0.0\n",
      "  Read ['scaler1', 'temperature', 'm2']\n",
      "m2 -> 0.25\n",
      "  Read ['scaler1', 'temperature', 'm2']\n",
      "m2 -> 0.5\n",
      "  Read ['scaler1', 'temperature', 'm2']\n",
      "m2 -> 0.75\n",
      "  Read ['scaler1', 'temperature', 'm2']\n",
      "m2 -> 1.0\n",
      "  Read ['scaler1', 'temperature', 'm2']\n",
      "================================== Close Run ===================================\n",
      "=================================== Open Run ===================================\n",
      "m2 -> 1.0\n",
      "  Read ['scaler1', 'temperature', 'm2']\n",
      "m2 -> 0.75\n",
      "  Read ['scaler1', 'temperature', 'm2']\n",
      "m2 -> 0.5\n",
      "  Read ['scaler1', 'temperature', 'm2']\n",
      "m2 -> 0.25\n",
      "  Read ['scaler1', 'temperature', 'm2']\n",
      "m2 -> 0.0\n",
      "  Read ['scaler1', 'temperature', 'm2']\n",
      "================================== Close Run ===================================\n"
     ]
    }
   ],
   "metadata": {}
  },
  {
   "cell_type": "markdown",
   "source": [
    "Next, build a plan that runs this twice."
   ],
   "metadata": {}
  },
  {
   "cell_type": "code",
   "execution_count": 7,
   "source": [
    "def up_down_twice(lo, hi, num, md={}):\n",
    "    yield from up_down_once(lo, hi, num, md=md)\n",
    "    yield from up_down_once(lo, hi, num, md=md)"
   ],
   "outputs": [],
   "metadata": {}
  },
  {
   "cell_type": "code",
   "execution_count": 8,
   "source": [
    "summarize_plan(up_down_twice(0, 1, 5))"
   ],
   "outputs": [
    {
     "output_type": "stream",
     "name": "stdout",
     "text": [
      "=================================== Open Run ===================================\n",
      "m2 -> 0.0\n",
      "  Read ['scaler1', 'temperature', 'm2']\n",
      "m2 -> 0.25\n",
      "  Read ['scaler1', 'temperature', 'm2']\n",
      "m2 -> 0.5\n",
      "  Read ['scaler1', 'temperature', 'm2']\n",
      "m2 -> 0.75\n",
      "  Read ['scaler1', 'temperature', 'm2']\n",
      "m2 -> 1.0\n",
      "  Read ['scaler1', 'temperature', 'm2']\n",
      "================================== Close Run ===================================\n",
      "=================================== Open Run ===================================\n",
      "m2 -> 1.0\n",
      "  Read ['scaler1', 'temperature', 'm2']\n",
      "m2 -> 0.75\n",
      "  Read ['scaler1', 'temperature', 'm2']\n",
      "m2 -> 0.5\n",
      "  Read ['scaler1', 'temperature', 'm2']\n",
      "m2 -> 0.25\n",
      "  Read ['scaler1', 'temperature', 'm2']\n",
      "m2 -> 0.0\n",
      "  Read ['scaler1', 'temperature', 'm2']\n",
      "================================== Close Run ===================================\n",
      "=================================== Open Run ===================================\n",
      "m2 -> 0.0\n",
      "  Read ['scaler1', 'temperature', 'm2']\n",
      "m2 -> 0.25\n",
      "  Read ['scaler1', 'temperature', 'm2']\n",
      "m2 -> 0.5\n",
      "  Read ['scaler1', 'temperature', 'm2']\n",
      "m2 -> 0.75\n",
      "  Read ['scaler1', 'temperature', 'm2']\n",
      "m2 -> 1.0\n",
      "  Read ['scaler1', 'temperature', 'm2']\n",
      "================================== Close Run ===================================\n",
      "=================================== Open Run ===================================\n",
      "m2 -> 1.0\n",
      "  Read ['scaler1', 'temperature', 'm2']\n",
      "m2 -> 0.75\n",
      "  Read ['scaler1', 'temperature', 'm2']\n",
      "m2 -> 0.5\n",
      "  Read ['scaler1', 'temperature', 'm2']\n",
      "m2 -> 0.25\n",
      "  Read ['scaler1', 'temperature', 'm2']\n",
      "m2 -> 0.0\n",
      "  Read ['scaler1', 'temperature', 'm2']\n",
      "================================== Close Run ===================================\n"
     ]
    }
   ],
   "metadata": {}
  },
  {
   "cell_type": "markdown",
   "source": [
    "Finish the custom plan by setting the count time.  Give a default of 1.0 s."
   ],
   "metadata": {}
  },
  {
   "cell_type": "code",
   "execution_count": 9,
   "source": [
    "def customScan(lo=0, hi=1, num=5, ct=1, md={}):\n",
    "    scaler1.stage_sigs[\"preset_time\"] = ct\n",
    "    _md = {}\n",
    "    _md.update(md)\n",
    "    _md[\"count_time\"] = ct\n",
    "    _md[\"example\"] = \"customPlan\"\n",
    "\n",
    "    scaler1.select_channels([\"I0\", \"diode\"])\n",
    "    yield from up_down_twice(lo, hi, num, md=_md)\n",
    "    scaler1.select_channels()  # reset for all named channels\n",
    "    del scaler1.stage_sigs[\"preset_time\"]  # remove our custom staging"
   ],
   "outputs": [],
   "metadata": {}
  },
  {
   "cell_type": "code",
   "execution_count": 10,
   "source": [
    "summarize_plan(customScan(md=dict(demo=\"concise custom plan example\")))"
   ],
   "outputs": [
    {
     "output_type": "stream",
     "name": "stdout",
     "text": [
      "=================================== Open Run ===================================\n",
      "m2 -> 0.0\n",
      "  Read ['scaler1', 'temperature', 'm2']\n",
      "m2 -> 0.25\n",
      "  Read ['scaler1', 'temperature', 'm2']\n",
      "m2 -> 0.5\n",
      "  Read ['scaler1', 'temperature', 'm2']\n",
      "m2 -> 0.75\n",
      "  Read ['scaler1', 'temperature', 'm2']\n",
      "m2 -> 1.0\n",
      "  Read ['scaler1', 'temperature', 'm2']\n",
      "================================== Close Run ===================================\n",
      "=================================== Open Run ===================================\n",
      "m2 -> 1.0\n",
      "  Read ['scaler1', 'temperature', 'm2']\n",
      "m2 -> 0.75\n",
      "  Read ['scaler1', 'temperature', 'm2']\n",
      "m2 -> 0.5\n",
      "  Read ['scaler1', 'temperature', 'm2']\n",
      "m2 -> 0.25\n",
      "  Read ['scaler1', 'temperature', 'm2']\n",
      "m2 -> 0.0\n",
      "  Read ['scaler1', 'temperature', 'm2']\n",
      "================================== Close Run ===================================\n",
      "=================================== Open Run ===================================\n",
      "m2 -> 0.0\n",
      "  Read ['scaler1', 'temperature', 'm2']\n",
      "m2 -> 0.25\n",
      "  Read ['scaler1', 'temperature', 'm2']\n",
      "m2 -> 0.5\n",
      "  Read ['scaler1', 'temperature', 'm2']\n",
      "m2 -> 0.75\n",
      "  Read ['scaler1', 'temperature', 'm2']\n",
      "m2 -> 1.0\n",
      "  Read ['scaler1', 'temperature', 'm2']\n",
      "================================== Close Run ===================================\n",
      "=================================== Open Run ===================================\n",
      "m2 -> 1.0\n",
      "  Read ['scaler1', 'temperature', 'm2']\n",
      "m2 -> 0.75\n",
      "  Read ['scaler1', 'temperature', 'm2']\n",
      "m2 -> 0.5\n",
      "  Read ['scaler1', 'temperature', 'm2']\n",
      "m2 -> 0.25\n",
      "  Read ['scaler1', 'temperature', 'm2']\n",
      "m2 -> 0.0\n",
      "  Read ['scaler1', 'temperature', 'm2']\n",
      "================================== Close Run ===================================\n"
     ]
    }
   ],
   "metadata": {}
  },
  {
   "cell_type": "markdown",
   "source": [
    "## Run\n",
    "Run the `customScan()` plan, using the RunEngine object: `RE()`"
   ],
   "metadata": {}
  },
  {
   "cell_type": "code",
   "execution_count": 11,
   "source": [
    "RE(customScan(md=dict(demo=\"concise custom plan example\")))"
   ],
   "outputs": [
    {
     "output_type": "stream",
     "name": "stdout",
     "text": [
      "\n",
      "\n",
      "Transient Scan ID: 371     Time: 2021-08-31 22:20:01\n",
      "Persistent Unique Scan ID: '1088fdaf-2f55-4e42-bdaf-86d5060c4fa9'\n",
      "New stream: 'baseline'\n",
      "New stream: 'primary'\n",
      "+-----------+------------+------------+-------------+------------+------------+\n",
      "|   seq_num |       time |         m2 | temperature |         I0 |      diode |\n",
      "+-----------+------------+------------+-------------+------------+------------+\n",
      "|         1 | 22:20:02.9 |    0.00000 |     6.18042 |          5 |          5 |\n",
      "|         2 | 22:20:05.0 |    0.25000 |     8.22968 |          4 |          4 |\n",
      "|         3 | 22:20:06.9 |    0.50000 |     9.76253 |          2 |          6 |\n",
      "|         4 | 22:20:08.8 |    0.75000 |    11.67980 |          4 |          3 |\n",
      "|         5 | 22:20:10.6 |    1.00000 |    13.86400 |          4 |          7 |\n",
      "+-----------+------------+------------+-------------+------------+------------+\n",
      "generator scan ['1088fdaf'] (scan num: 371)\n",
      "\n",
      "\n",
      "Transient Scan ID: 372     Time: 2021-08-31 22:20:11\n",
      "Persistent Unique Scan ID: '1314f750-f44b-4aae-af36-6d69ede95cf4'\n",
      "New stream: 'baseline'\n",
      "New stream: 'primary'\n",
      "+-----------+------------+------------+-------------+------------+------------+\n",
      "|   seq_num |       time |         m2 | temperature |         I0 |      diode |\n",
      "+-----------+------------+------------+-------------+------------+------------+\n",
      "|         1 | 22:20:12.9 |    1.00000 |    16.02210 |          5 |          6 |\n",
      "|         2 | 22:20:15.0 |    0.75000 |    18.39157 |          5 |          3 |\n",
      "|         3 | 22:20:16.9 |    0.50000 |    20.66914 |          6 |          5 |\n",
      "|         4 | 22:20:19.0 |    0.25000 |    22.83399 |          4 |          4 |\n",
      "|         5 | 22:20:20.9 |    0.00000 |    24.59992 |          5 |          4 |\n",
      "+-----------+------------+------------+-------------+------------+------------+\n",
      "generator scan ['1314f750'] (scan num: 372)\n",
      "\n",
      "\n",
      "Transient Scan ID: 373     Time: 2021-08-31 22:20:22\n",
      "Persistent Unique Scan ID: '21b40c9c-6148-42f4-847a-699bd5fb91d7'\n",
      "New stream: 'baseline'\n",
      "New stream: 'primary'\n",
      "+-----------+------------+------------+-------------+------------+------------+\n",
      "|   seq_num |       time |         m2 | temperature |         I0 |      diode |\n",
      "+-----------+------------+------------+-------------+------------+------------+\n",
      "|         1 | 22:20:24.1 |    0.00000 |    25.47282 |          5 |          5 |\n",
      "|         2 | 22:20:26.5 |    0.25000 |    24.74999 |          6 |          5 |\n",
      "|         3 | 22:20:28.8 |    0.50000 |    24.98219 |          5 |          6 |\n",
      "|         4 | 22:20:31.0 |    0.75000 |    25.17648 |          5 |          4 |\n",
      "|         5 | 22:20:33.0 |    1.00000 |    24.98740 |          5 |          6 |\n",
      "+-----------+------------+------------+-------------+------------+------------+\n",
      "generator scan ['21b40c9c'] (scan num: 373)\n",
      "\n",
      "\n",
      "Transient Scan ID: 374     Time: 2021-08-31 22:20:34\n",
      "Persistent Unique Scan ID: '4db07d7f-d9cd-4979-a014-75f988eb5ffb'\n",
      "New stream: 'baseline'\n",
      "New stream: 'primary'\n",
      "+-----------+------------+------------+-------------+------------+------------+\n",
      "|   seq_num |       time |         m2 | temperature |         I0 |      diode |\n",
      "+-----------+------------+------------+-------------+------------+------------+\n",
      "|         1 | 22:20:36.1 |    1.00000 |    24.66620 |          5 |          4 |\n",
      "|         2 | 22:20:38.5 |    0.75000 |    24.74062 |          5 |          3 |\n",
      "|         3 | 22:20:40.6 |    0.50000 |    25.05570 |          3 |          5 |\n",
      "|         4 | 22:20:42.5 |    0.25000 |    24.67125 |          6 |          6 |\n",
      "|         5 | 22:20:44.4 |    0.00000 |    25.42738 |          5 |          5 |\n",
      "+-----------+------------+------------+-------------+------------+------------+\n",
      "generator scan ['4db07d7f'] (scan num: 374)\n"
     ]
    },
    {
     "output_type": "execute_result",
     "data": {
      "text/plain": [
       "('1088fdaf-2f55-4e42-bdaf-86d5060c4fa9',\n",
       " '1314f750-f44b-4aae-af36-6d69ede95cf4',\n",
       " '21b40c9c-6148-42f4-847a-699bd5fb91d7',\n",
       " '4db07d7f-d9cd-4979-a014-75f988eb5ffb')"
      ]
     },
     "metadata": {},
     "execution_count": 11
    },
    {
     "output_type": "display_data",
     "data": {
      "text/plain": [
       "<Figure size 360x1080 with 3 Axes>"
      ],
      "image/png": "[encoded data removed]"
     },
     "metadata": {
      "needs_background": "light"
     }
    }
   ],
   "metadata": {}
  },
  {
   "cell_type": "markdown",
   "source": [
    "## Next Steps\n",
    "\n",
    "Make these additions or improvements to the plans:\n",
    "\n",
    "1. Use `logger.info()` to provide more feedback from the custom plans (where `logger` is loaded as part of the `instrument` package).\n",
    "1. Let the caller specify how many *up*-*down* iterations.\n",
    "1. Let the caller specify the counting time. (hint: `scaler1.stage_sigs[\"preset_time\"] = value` **before** calling `bp.scan()`).\n",
    "2. Wait between *up* and *down* scans for some time (caller-specified). (hint: `yield from bps.sleep(seconds)`).\n",
    "3. Use `logger` to report at various places.  (hint: `logger.info(\"text: %s  value: %g\", s1, v2, ...)`)\n",
    "4. Control the `shutter` (hint: `yield from bps.mv(shutter, \"open\")` or `close`)\n",
    "5. Change the temperature before *up* scan and then before *down* scan.  (hint: `yield from bps.mv(temperature, value)`)\n",
    "\n",
    "### Documentation References\n",
    "\n",
    "term | brief description | documentation\n",
    "--- | --- | ---\n",
    "`bps` | an import: `from bluesky import plan_stubs as bps` | [`bluesky.plan_stubs`](https://blueskyproject.io/bluesky/plans.html#stub-plans)\n",
    "`stage_sigs` | a dictionary mapping signals to desired values | [Stage and Unstage](https://blueskyproject.io/ophyd/explanations/staging.html?highlight=stage_sigs)"
   ],
   "metadata": {}
  }
 ],
 "metadata": {
  "kernelspec": {
   "name": "python3",
   "display_name": "Python 3.8.10 64-bit ('bluesky_2021_2': conda)"
  },
  "language_info": {
   "codemirror_mode": {
    "name": "ipython",
    "version": 3
   },
   "file_extension": ".py",
   "mimetype": "text/x-python",
   "name": "python",
   "nbconvert_exporter": "python",
   "pygments_lexer": "ipython3",
   "version": "3.8.10"
  },
  "interpreter": {
   "hash": "60aa360bcd8d3c8cfbc4e726e53a455fcd5c15cdf29caaf63c7ca2494eba79e9"
  }
 },
 "nbformat": 4,
 "nbformat_minor": 5
}