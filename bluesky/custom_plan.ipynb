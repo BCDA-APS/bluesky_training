{
 "cells": [
  {
   "cell_type": "markdown",
   "id": "welcome-intervention",
   "metadata": {},
   "source": [
    "# Custom bluesky plan\n",
    "\n",
    "**Objective**: \n",
    "Build a custom plan for an up-down scan using positioner `m2` and `scaler1` channels `I0` and `diode`.\n",
    "\n",
    "First, a couple lines to make the graphics and also EPICS Channel Access and work here."
   ]
  },
  {
   "cell_type": "code",
   "execution_count": null,
   "id": "latter-sheep",
   "metadata": {},
   "outputs": [],
   "source": [
    "%load_ext dotenv\n",
    "%dotenv env.txt"
   ]
  },
  {
   "cell_type": "markdown",
   "id": "failing-walnut",
   "metadata": {},
   "source": [
    "Start the instrument package."
   ]
  },
  {
   "cell_type": "code",
   "execution_count": 1,
   "id": "parallel-paragraph",
   "metadata": {},
   "outputs": [
    {
     "name": "stderr",
     "output_type": "stream",
     "text": [
      "I Tue-17:05:28 - ############################################################ startup\n",
      "I Tue-17:05:28 - logging started\n",
      "I Tue-17:05:28 - logging level = 10\n",
      "I Tue-17:05:28 - /home/prjemian/Documents/projects/BCDA-APS/bluesky_instrument_training/bluesky/instrument/collection.py\n",
      "I Tue-17:05:28 - /home/prjemian/Documents/projects/BCDA-APS/bluesky_instrument_training/bluesky/instrument/mpl/notebook.py\n"
     ]
    },
    {
     "name": "stdout",
     "output_type": "stream",
     "text": [
      "Activating auto-logging. Current session state plus future input saved.\n",
      "Filename       : /home/prjemian/Documents/projects/BCDA-APS/bluesky_instrument_training/bluesky/.logs/ipython_console.log\n",
      "Mode           : rotate\n",
      "Output logging : True\n",
      "Raw input log  : False\n",
      "Timestamping   : True\n",
      "State          : active\n"
     ]
    },
    {
     "name": "stderr",
     "output_type": "stream",
     "text": [
      "I Tue-17:05:28 - #### Bluesky Framework ####\n",
      "I Tue-17:05:28 - /home/prjemian/Documents/projects/BCDA-APS/bluesky_instrument_training/bluesky/instrument/framework/check_python.py\n",
      "I Tue-17:05:28 - /home/prjemian/Documents/projects/BCDA-APS/bluesky_instrument_training/bluesky/instrument/framework/check_bluesky.py\n",
      "I Tue-17:05:28 - /home/prjemian/Documents/projects/BCDA-APS/bluesky_instrument_training/bluesky/instrument/framework/initialize.py\n",
      "I Tue-17:05:29 - using databroker catalog 'class_2021_03'\n",
      "I Tue-17:05:29 - /home/prjemian/Documents/projects/BCDA-APS/bluesky_instrument_training/bluesky/instrument/framework/metadata.py\n",
      "I Tue-17:05:29 - #### Devices ####\n",
      "I Tue-17:05:29 - /home/prjemian/Documents/projects/BCDA-APS/bluesky_instrument_training/bluesky/instrument/devices/area_detector.py\n",
      "I Tue-17:05:29 - /home/prjemian/Documents/projects/BCDA-APS/bluesky_instrument_training/bluesky/instrument/devices/calculation_records.py\n",
      "I Tue-17:05:31 - /home/prjemian/Documents/projects/BCDA-APS/bluesky_instrument_training/bluesky/instrument/devices/ioc_stats.py\n",
      "I Tue-17:05:31 - /home/prjemian/Documents/projects/BCDA-APS/bluesky_instrument_training/bluesky/instrument/devices/motors.py\n",
      "I Tue-17:05:31 - /home/prjemian/Documents/projects/BCDA-APS/bluesky_instrument_training/bluesky/instrument/devices/noisy_detector.py\n",
      "I Tue-17:05:31 - /home/prjemian/Documents/projects/BCDA-APS/bluesky_instrument_training/bluesky/instrument/devices/scaler.py\n",
      "I Tue-17:05:32 - /home/prjemian/Documents/projects/BCDA-APS/bluesky_instrument_training/bluesky/instrument/devices/shutter_simulator.py\n",
      "I Tue-17:05:32 - /home/prjemian/Documents/projects/BCDA-APS/bluesky_instrument_training/bluesky/instrument/devices/temperature_signal.py\n",
      "I Tue-17:05:32 - #### Callbacks ####\n",
      "I Tue-17:05:32 - /home/prjemian/Documents/projects/BCDA-APS/bluesky_instrument_training/bluesky/instrument/callbacks/spec_data_file_writer.py\n",
      "I Tue-17:05:32 - writing to SPEC file: /home/prjemian/Documents/projects/BCDA-APS/bluesky_instrument_training/bluesky/20210316-170532.dat\n",
      "I Tue-17:05:32 -    >>>>   Using default SPEC file name   <<<<\n",
      "I Tue-17:05:32 -    file will be created when bluesky ends its next scan\n",
      "I Tue-17:05:32 -    to change SPEC file, use command:   newSpecFile('title')\n",
      "I Tue-17:05:32 - #### Plans ####\n",
      "I Tue-17:05:32 - /home/prjemian/Documents/projects/BCDA-APS/bluesky_instrument_training/bluesky/instrument/plans/peak_finder_example.py\n",
      "I Tue-17:05:32 - #### Utilities ####\n",
      "I Tue-17:05:32 - /home/prjemian/Documents/projects/BCDA-APS/bluesky_instrument_training/bluesky/instrument/utils/image_analysis.py\n",
      "I Tue-17:05:32 - #### Startup is complete. ####\n"
     ]
    }
   ],
   "source": [
    "from instrument.collection import *"
   ]
  },
  {
   "cell_type": "markdown",
   "id": "adjacent-activity",
   "metadata": {},
   "source": [
    "## Select scaler channels\n",
    "The scaler channels are selected by calling its `.select_channels()` method:"
   ]
  },
  {
   "cell_type": "code",
   "execution_count": 2,
   "id": "precious-classics",
   "metadata": {},
   "outputs": [],
   "source": [
    "scaler1.select_channels([\"I0\", \"diode\"])"
   ]
  },
  {
   "cell_type": "markdown",
   "id": "pretty-sphere",
   "metadata": {},
   "source": [
    "## Count time\n",
    "The count time is in the `.preset_time` attribute.  The way to set the scaler with this time is to use ophyd's staging process.  Add `preset_time` to the `.stage_sigs` dictionary with the desired count time as the value."
   ]
  },
  {
   "cell_type": "code",
   "execution_count": 3,
   "id": "surface-intake",
   "metadata": {},
   "outputs": [
    {
     "data": {
      "text/plain": [
       "OrderedDict([('preset_time', 1)])"
      ]
     },
     "execution_count": 3,
     "metadata": {},
     "output_type": "execute_result"
    }
   ],
   "source": [
    "scaler1.stage_sigs[\"preset_time\"] = 1\n",
    "scaler1.stage_sigs"
   ]
  },
  {
   "cell_type": "markdown",
   "id": "owned-trinity",
   "metadata": {},
   "source": [
    "# Construct the plan\n",
    "Create a plan that scans up, then scans down (2 scans total).  Add `temperature` just to get some other interesting data.  We'll add a metadata key for the scan direction.\n",
    "\n",
    "We'll do this in small steps starting with the innermost part."
   ]
  },
  {
   "cell_type": "code",
   "execution_count": 4,
   "id": "earned-summit",
   "metadata": {},
   "outputs": [],
   "source": [
    "def up_down_once(lo, hi, num, md={}):\n",
    "    dets = [scaler1, temperature]\n",
    "    _md = {}\n",
    "    _md.update(md)\n",
    "    _md[\"direction\"] = \"up\"\n",
    "    yield from bp.scan(dets, m2, lo, hi, num, md=_md)\n",
    "    _md[\"direction\"] = \"down\"\n",
    "    yield from bp.scan(dets, m2, hi, lo, num, md=_md)"
   ]
  },
  {
   "cell_type": "markdown",
   "id": "transparent-conditions",
   "metadata": {},
   "source": [
    "Verify that this code will process through the RunEngine by testing it without running it.  Use the `summarize_plan()` function imported from the `bluesky` package.  This will show the steps of the measurement."
   ]
  },
  {
   "cell_type": "code",
   "execution_count": 5,
   "id": "southern-switch",
   "metadata": {},
   "outputs": [
    {
     "name": "stdout",
     "output_type": "stream",
     "text": [
      "=================================== Open Run ===================================\n",
      "m2 -> 0.0\n",
      "  Read ['scaler1', 'temperature', 'm2']\n",
      "m2 -> 0.25\n",
      "  Read ['scaler1', 'temperature', 'm2']\n",
      "m2 -> 0.5\n",
      "  Read ['scaler1', 'temperature', 'm2']\n",
      "m2 -> 0.75\n",
      "  Read ['scaler1', 'temperature', 'm2']\n",
      "m2 -> 1.0\n",
      "  Read ['scaler1', 'temperature', 'm2']\n",
      "================================== Close Run ===================================\n",
      "=================================== Open Run ===================================\n",
      "m2 -> 1.0\n",
      "  Read ['scaler1', 'temperature', 'm2']\n",
      "m2 -> 0.75\n",
      "  Read ['scaler1', 'temperature', 'm2']\n",
      "m2 -> 0.5\n",
      "  Read ['scaler1', 'temperature', 'm2']\n",
      "m2 -> 0.25\n",
      "  Read ['scaler1', 'temperature', 'm2']\n",
      "m2 -> 0.0\n",
      "  Read ['scaler1', 'temperature', 'm2']\n",
      "================================== Close Run ===================================\n"
     ]
    }
   ],
   "source": [
    "summarize_plan(up_down_once(0, 1, 5))"
   ]
  },
  {
   "cell_type": "markdown",
   "id": "hispanic-latex",
   "metadata": {},
   "source": [
    "Next, build a plan that runs this twice."
   ]
  },
  {
   "cell_type": "code",
   "execution_count": 6,
   "id": "hazardous-packet",
   "metadata": {},
   "outputs": [],
   "source": [
    "def up_down_twice(lo, hi, num, md={}):\n",
    "    yield from up_down_once(lo, hi, num, md=md)\n",
    "    yield from up_down_once(lo, hi, num, md=md)"
   ]
  },
  {
   "cell_type": "code",
   "execution_count": 7,
   "id": "floral-diagnosis",
   "metadata": {},
   "outputs": [
    {
     "name": "stdout",
     "output_type": "stream",
     "text": [
      "=================================== Open Run ===================================\n",
      "m2 -> 0.0\n",
      "  Read ['scaler1', 'temperature', 'm2']\n",
      "m2 -> 0.25\n",
      "  Read ['scaler1', 'temperature', 'm2']\n",
      "m2 -> 0.5\n",
      "  Read ['scaler1', 'temperature', 'm2']\n",
      "m2 -> 0.75\n",
      "  Read ['scaler1', 'temperature', 'm2']\n",
      "m2 -> 1.0\n",
      "  Read ['scaler1', 'temperature', 'm2']\n",
      "================================== Close Run ===================================\n",
      "=================================== Open Run ===================================\n",
      "m2 -> 1.0\n",
      "  Read ['scaler1', 'temperature', 'm2']\n",
      "m2 -> 0.75\n",
      "  Read ['scaler1', 'temperature', 'm2']\n",
      "m2 -> 0.5\n",
      "  Read ['scaler1', 'temperature', 'm2']\n",
      "m2 -> 0.25\n",
      "  Read ['scaler1', 'temperature', 'm2']\n",
      "m2 -> 0.0\n",
      "  Read ['scaler1', 'temperature', 'm2']\n",
      "================================== Close Run ===================================\n",
      "=================================== Open Run ===================================\n",
      "m2 -> 0.0\n",
      "  Read ['scaler1', 'temperature', 'm2']\n",
      "m2 -> 0.25\n",
      "  Read ['scaler1', 'temperature', 'm2']\n",
      "m2 -> 0.5\n",
      "  Read ['scaler1', 'temperature', 'm2']\n",
      "m2 -> 0.75\n",
      "  Read ['scaler1', 'temperature', 'm2']\n",
      "m2 -> 1.0\n",
      "  Read ['scaler1', 'temperature', 'm2']\n",
      "================================== Close Run ===================================\n",
      "=================================== Open Run ===================================\n",
      "m2 -> 1.0\n",
      "  Read ['scaler1', 'temperature', 'm2']\n",
      "m2 -> 0.75\n",
      "  Read ['scaler1', 'temperature', 'm2']\n",
      "m2 -> 0.5\n",
      "  Read ['scaler1', 'temperature', 'm2']\n",
      "m2 -> 0.25\n",
      "  Read ['scaler1', 'temperature', 'm2']\n",
      "m2 -> 0.0\n",
      "  Read ['scaler1', 'temperature', 'm2']\n",
      "================================== Close Run ===================================\n"
     ]
    }
   ],
   "source": [
    "summarize_plan(up_down_twice(0, 1, 5))"
   ]
  },
  {
   "cell_type": "markdown",
   "id": "illegal-subsection",
   "metadata": {},
   "source": [
    "Finish the custom plan by setting the count time.  Give a default of 1.0 s."
   ]
  },
  {
   "cell_type": "code",
   "execution_count": 8,
   "id": "realistic-inquiry",
   "metadata": {},
   "outputs": [],
   "source": [
    "def customScan(lo=0, hi=1, num=5, ct=1, md={}):\n",
    "    scaler1.stage_sigs[\"preset_time\"] = ct\n",
    "    _md = {}\n",
    "    _md.update(md)\n",
    "    _md[\"count_time\"] = ct\n",
    "    _md[\"example\"] = \"customPlan\"\n",
    "\n",
    "    scaler1.select_channels([\"I0\", \"diode\"])\n",
    "    yield from up_down_twice(lo, hi, num, md=_md)\n",
    "    scaler1.select_channels()  # reset for all named channels\n",
    "    del scaler1.stage_sigs[\"preset_time\"]  # remove our custom staging"
   ]
  },
  {
   "cell_type": "code",
   "execution_count": 9,
   "id": "chinese-barrier",
   "metadata": {},
   "outputs": [
    {
     "name": "stdout",
     "output_type": "stream",
     "text": [
      "=================================== Open Run ===================================\n",
      "m2 -> 0.0\n",
      "  Read ['scaler1', 'temperature', 'm2']\n",
      "m2 -> 0.25\n",
      "  Read ['scaler1', 'temperature', 'm2']\n",
      "m2 -> 0.5\n",
      "  Read ['scaler1', 'temperature', 'm2']\n",
      "m2 -> 0.75\n",
      "  Read ['scaler1', 'temperature', 'm2']\n",
      "m2 -> 1.0\n",
      "  Read ['scaler1', 'temperature', 'm2']\n",
      "================================== Close Run ===================================\n",
      "=================================== Open Run ===================================\n",
      "m2 -> 1.0\n",
      "  Read ['scaler1', 'temperature', 'm2']\n",
      "m2 -> 0.75\n",
      "  Read ['scaler1', 'temperature', 'm2']\n",
      "m2 -> 0.5\n",
      "  Read ['scaler1', 'temperature', 'm2']\n",
      "m2 -> 0.25\n",
      "  Read ['scaler1', 'temperature', 'm2']\n",
      "m2 -> 0.0\n",
      "  Read ['scaler1', 'temperature', 'm2']\n",
      "================================== Close Run ===================================\n",
      "=================================== Open Run ===================================\n",
      "m2 -> 0.0\n",
      "  Read ['scaler1', 'temperature', 'm2']\n",
      "m2 -> 0.25\n",
      "  Read ['scaler1', 'temperature', 'm2']\n",
      "m2 -> 0.5\n",
      "  Read ['scaler1', 'temperature', 'm2']\n",
      "m2 -> 0.75\n",
      "  Read ['scaler1', 'temperature', 'm2']\n",
      "m2 -> 1.0\n",
      "  Read ['scaler1', 'temperature', 'm2']\n",
      "================================== Close Run ===================================\n",
      "=================================== Open Run ===================================\n",
      "m2 -> 1.0\n",
      "  Read ['scaler1', 'temperature', 'm2']\n",
      "m2 -> 0.75\n",
      "  Read ['scaler1', 'temperature', 'm2']\n",
      "m2 -> 0.5\n",
      "  Read ['scaler1', 'temperature', 'm2']\n",
      "m2 -> 0.25\n",
      "  Read ['scaler1', 'temperature', 'm2']\n",
      "m2 -> 0.0\n",
      "  Read ['scaler1', 'temperature', 'm2']\n",
      "================================== Close Run ===================================\n"
     ]
    }
   ],
   "source": [
    "summarize_plan(customScan(md=dict(demo=\"concise custom plan example\")))"
   ]
  },
  {
   "cell_type": "markdown",
   "id": "little-strap",
   "metadata": {},
   "source": [
    "## Run\n",
    "Run the `customScan()` plan, using the RunEngine object: `RE()`"
   ]
  },
  {
   "cell_type": "code",
   "execution_count": 10,
   "id": "golden-setup",
   "metadata": {},
   "outputs": [
    {
     "name": "stdout",
     "output_type": "stream",
     "text": [
      "\n",
      "\n",
      "Transient Scan ID: 16     Time: 2021-03-16 17:05:32\n",
      "Persistent Unique Scan ID: '77a2b56e-4c5d-49d9-ae1a-b2e91e353b9e'\n",
      "New stream: 'baseline'\n",
      "New stream: 'primary'\n",
      "+-----------+------------+------------+----------------------+------------+------------+\n",
      "|   seq_num |       time |         m2 | temperature_readback |         I0 |      diode |\n",
      "+-----------+------------+------------+----------------------+------------+------------+\n",
      "|         1 | 17:05:35.3 |    0.00000 |             24.73301 |          5 |          4 |\n",
      "|         2 | 17:05:37.1 |    0.25000 |             24.73301 |          5 |          6 |\n",
      "|         3 | 17:05:38.8 |    0.50000 |             25.30438 |          5 |          5 |\n",
      "|         4 | 17:05:40.6 |    0.75000 |             25.42354 |          7 |          6 |\n",
      "|         5 | 17:05:42.3 |    1.00000 |             24.96084 |          6 |          4 |\n",
      "+-----------+------------+------------+----------------------+------------+------------+\n",
      "generator scan ['77a2b56e'] (scan num: 16)\n",
      "\n",
      "\n",
      "Transient Scan ID: 17     Time: 2021-03-16 17:05:42\n",
      "Persistent Unique Scan ID: 'a8ab2361-22d7-49ba-a4a2-c0a9f22b489d'\n",
      "New stream: 'baseline'\n",
      "New stream: 'primary'\n",
      "+-----------+------------+------------+----------------------+------------+------------+\n",
      "|   seq_num |       time |         m2 | temperature_readback |         I0 |      diode |\n",
      "+-----------+------------+------------+----------------------+------------+------------+\n",
      "|         1 | 17:05:44.2 |    1.00000 |             24.79349 |          6 |          5 |\n",
      "|         2 | 17:05:45.9 |    0.75000 |             24.63756 |          4 |          5 |\n",
      "|         3 | 17:05:47.7 |    0.50000 |             24.79306 |          4 |          5 |\n",
      "|         4 | 17:05:49.5 |    0.25000 |             25.11386 |          5 |          6 |\n",
      "|         5 | 17:05:51.4 |    0.00000 |             25.26707 |          4 |          5 |\n",
      "+-----------+------------+------------+----------------------+------------+------------+\n",
      "generator scan ['a8ab2361'] (scan num: 17)\n",
      "\n",
      "\n",
      "Transient Scan ID: 18     Time: 2021-03-16 17:05:51\n",
      "Persistent Unique Scan ID: '0f526a35-539b-4cae-a983-47ebc7904d18'\n",
      "New stream: 'baseline'\n",
      "New stream: 'primary'\n",
      "+-----------+------------+------------+----------------------+------------+------------+\n",
      "|   seq_num |       time |         m2 | temperature_readback |         I0 |      diode |\n",
      "+-----------+------------+------------+----------------------+------------+------------+\n",
      "|         1 | 17:05:53.4 |    0.00000 |             25.09088 |          5 |          6 |\n",
      "|         2 | 17:05:55.2 |    0.25000 |             24.61676 |          5 |          6 |\n",
      "|         3 | 17:05:57.2 |    0.50000 |             24.61676 |          5 |          5 |\n",
      "|         4 | 17:05:59.1 |    0.75000 |             25.06667 |          4 |          6 |\n",
      "|         5 | 17:06:01.1 |    1.00000 |             24.88810 |          5 |          4 |\n",
      "+-----------+------------+------------+----------------------+------------+------------+\n",
      "generator scan ['0f526a35'] (scan num: 18)\n",
      "\n",
      "\n",
      "Transient Scan ID: 19     Time: 2021-03-16 17:06:01\n",
      "Persistent Unique Scan ID: '0a242c00-e639-494c-a697-1e460cecc0c1'\n",
      "New stream: 'baseline'\n",
      "New stream: 'primary'\n",
      "+-----------+------------+------------+----------------------+------------+------------+\n",
      "|   seq_num |       time |         m2 | temperature_readback |         I0 |      diode |\n",
      "+-----------+------------+------------+----------------------+------------+------------+\n",
      "|         1 | 17:06:03.0 |    1.00000 |             25.21118 |          6 |          6 |\n",
      "|         2 | 17:06:04.9 |    0.75000 |             24.79004 |          7 |          6 |\n",
      "|         3 | 17:06:06.8 |    0.50000 |             25.24118 |          5 |          4 |\n",
      "|         4 | 17:06:08.7 |    0.25000 |             25.14097 |          6 |          4 |\n",
      "|         5 | 17:06:10.6 |    0.00000 |             25.29535 |          5 |          4 |\n",
      "+-----------+------------+------------+----------------------+------------+------------+\n",
      "generator scan ['0a242c00'] (scan num: 19)\n"
     ]
    },
    {
     "data": {
      "text/plain": [
       "('77a2b56e-4c5d-49d9-ae1a-b2e91e353b9e',\n",
       " 'a8ab2361-22d7-49ba-a4a2-c0a9f22b489d',\n",
       " '0f526a35-539b-4cae-a983-47ebc7904d18',\n",
       " '0a242c00-e639-494c-a697-1e460cecc0c1')"
      ]
     },
     "execution_count": 10,
     "metadata": {},
     "output_type": "execute_result"
    },
    {
     "data": {
      "image/png": "[encoded data removed]",
      "text/plain": [
       "<Figure size 360x1080 with 3 Axes>"
      ]
     },
     "metadata": {
      "needs_background": "light"
     },
     "output_type": "display_data"
    }
   ],
   "source": [
    "RE(customScan(md=dict(demo=\"concise custom plan example\")))"
   ]
  },
  {
   "cell_type": "markdown",
   "id": "cooperative-charger",
   "metadata": {},
   "source": [
    "## Next Steps\n",
    "\n",
    "Make these additions or improvements to the plans:\n",
    "\n",
    "1. Let the caller specify how many *up*-*down* iterations.\n",
    "1. Let the caller specify the counting time. (hint: `scaler1.stage_sigs[\"preset_time\"] = value` **before** calling `bp.scan()`)\n",
    "1. Wait between *up* and *down* scans for some time (caller-specified). (hint: `yield from bps.sleep(seconds)`)\n",
    "1. Use `logger` to report at various places.  (hint: `logger.info(\"text: %s  value: %g\", s1, v2, ...)`)\n",
    "1. Control the `shutter` (hint: `yield from bps.mv(shutter, \"open\")` or `close`)\n",
    "1. Change the temperature before *up* scan and then before *down* scan.  (hint: `yield from bps.mv(temperature, value)`)"
   ]
  }
 ],
 "metadata": {
  "kernelspec": {
   "display_name": "class_2021_03",
   "language": "python",
   "name": "class_2021_03"
  },
  "language_info": {
   "codemirror_mode": {
    "name": "ipython",
    "version": 3
   },
   "file_extension": ".py",
   "mimetype": "text/x-python",
   "name": "python",
   "nbconvert_exporter": "python",
   "pygments_lexer": "ipython3",
   "version": "3.8.8"
  }
 },
 "nbformat": 4,
 "nbformat_minor": 5
}
