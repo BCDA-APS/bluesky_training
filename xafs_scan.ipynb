{
 "cells": [
  {
   "cell_type": "markdown",
   "metadata": {},
   "source": [
    "# XAFS scan\n",
    "\n",
    "From *APS Python Training for Bluesky Data Acquisition*.\n",
    "\n",
    "**Objective**\n",
    "\n",
    "Example multi-segment XAFS scan.\n",
    "\n",
    "## Start the `instrument` package\n",
    "\n",
    "Our instrument package is in the `bluesky` subdirectory here so we add that to the search path before importing it."
   ]
  },
  {
   "cell_type": "code",
   "execution_count": 1,
   "metadata": {},
   "outputs": [
    {
     "name": "stdout",
     "output_type": "stream",
     "text": [
      "Did not load file with environment variables.  No problem.  Continuing ...\n"
     ]
    }
   ],
   "source": [
    "try:\n",
    "    %load_ext dotenv\n",
    "    %dotenv env.txt\n",
    "except Exception:\n",
    "    print(\n",
    "        \"Did not load file with environment variables.\"\n",
    "        \"  No problem.  Continuing ...\"\n",
    "    )"
   ]
  },
  {
   "cell_type": "code",
   "execution_count": 2,
   "metadata": {},
   "outputs": [
    {
     "name": "stderr",
     "output_type": "stream",
     "text": [
      "I Tue-21:51:48 - ############################################################ startup\n",
      "I Tue-21:51:48 - logging started\n",
      "I Tue-21:51:48 - logging level = 10\n",
      "I Tue-21:51:48 - /home/prjemian/Documents/projects/BCDA-APS/bluesky_training/bluesky/instrument/collection.py\n",
      "I Tue-21:51:48 - /home/prjemian/Documents/projects/BCDA-APS/bluesky_training/bluesky/instrument/mpl/notebook.py\n"
     ]
    },
    {
     "name": "stdout",
     "output_type": "stream",
     "text": [
      "Activating auto-logging. Current session state plus future input saved.\n",
      "Filename       : /home/prjemian/Documents/projects/BCDA-APS/bluesky_training/.logs/ipython_console.log\n",
      "Mode           : rotate\n",
      "Output logging : True\n",
      "Raw input log  : False\n",
      "Timestamping   : True\n",
      "State          : active\n"
     ]
    },
    {
     "name": "stderr",
     "output_type": "stream",
     "text": [
      "I Tue-21:51:49 - #### Bluesky Framework ####\n",
      "I Tue-21:51:49 - /home/prjemian/Documents/projects/BCDA-APS/bluesky_training/bluesky/instrument/framework/check_python.py\n",
      "I Tue-21:51:49 - /home/prjemian/Documents/projects/BCDA-APS/bluesky_training/bluesky/instrument/framework/check_bluesky.py\n",
      "I Tue-21:51:49 - /home/prjemian/Documents/projects/BCDA-APS/bluesky_training/bluesky/instrument/framework/initialize.py\n",
      "I Tue-21:51:50 - using databroker catalog 'training'\n",
      "I Tue-21:51:50 - /home/prjemian/Documents/projects/BCDA-APS/bluesky_training/bluesky/instrument/framework/metadata.py\n",
      "I Tue-21:51:50 - #### Devices ####\n",
      "I Tue-21:51:50 - /home/prjemian/Documents/projects/BCDA-APS/bluesky_training/bluesky/instrument/devices/area_detector.py\n",
      "I Tue-21:51:50 - /home/prjemian/Documents/projects/BCDA-APS/bluesky_training/bluesky/instrument/devices/calculation_records.py\n",
      "I Tue-21:51:52 - /home/prjemian/Documents/projects/BCDA-APS/bluesky_training/bluesky/instrument/devices/ioc_stats.py\n",
      "I Tue-21:51:52 - /home/prjemian/Documents/projects/BCDA-APS/bluesky_training/bluesky/instrument/devices/kohzu_monochromator.py\n",
      "I Tue-21:51:52 - /home/prjemian/Documents/projects/BCDA-APS/bluesky_training/bluesky/instrument/devices/motors.py\n",
      "I Tue-21:51:52 - /home/prjemian/Documents/projects/BCDA-APS/bluesky_training/bluesky/instrument/devices/noisy_detector.py\n",
      "I Tue-21:51:53 - /home/prjemian/Documents/projects/BCDA-APS/bluesky_training/bluesky/instrument/devices/scaler.py\n",
      "I Tue-21:51:54 - /home/prjemian/Documents/projects/BCDA-APS/bluesky_training/bluesky/instrument/devices/shutter_simulator.py\n",
      "I Tue-21:51:54 - /home/prjemian/Documents/projects/BCDA-APS/bluesky_training/bluesky/instrument/devices/temperature_signal.py\n",
      "I Tue-21:51:54 - #### Callbacks ####\n",
      "I Tue-21:51:54 - /home/prjemian/Documents/projects/BCDA-APS/bluesky_training/bluesky/instrument/callbacks/spec_data_file_writer.py\n",
      "I Tue-21:51:54 - writing to SPEC file: /home/prjemian/Documents/projects/BCDA-APS/bluesky_training/20211019-215154.dat\n",
      "I Tue-21:51:54 -    >>>>   Using default SPEC file name   <<<<\n",
      "I Tue-21:51:54 -    file will be created when bluesky ends its next scan\n",
      "I Tue-21:51:54 -    to change SPEC file, use command:   newSpecFile('title')\n",
      "I Tue-21:51:54 - #### Plans ####\n",
      "I Tue-21:51:54 - /home/prjemian/Documents/projects/BCDA-APS/bluesky_training/bluesky/instrument/plans/peak_finder_example.py\n",
      "I Tue-21:51:54 - #### Utilities ####\n",
      "I Tue-21:51:54 - /home/prjemian/Documents/projects/BCDA-APS/bluesky_training/bluesky/instrument/utils/image_analysis.py\n",
      "I Tue-21:51:54 - #### Startup is complete. ####\n"
     ]
    }
   ],
   "source": [
    "import os, sys\n",
    "sys.path.append(os.path.abspath(os.path.join(\".\", \"bluesky\")))\n",
    "from instrument.collection import *"
   ]
  },
  {
   "cell_type": "code",
   "execution_count": 3,
   "metadata": {},
   "outputs": [],
   "source": [
    "from ophyd import EpicsSignalRO\n",
    "\n",
    "import math\n",
    "import numpy as np\n",
    "import pint\n",
    "import scipy.constants"
   ]
  },
  {
   "cell_type": "code",
   "execution_count": 4,
   "metadata": {},
   "outputs": [],
   "source": [
    "ureg = pint.UnitRegistry()\n",
    "hbar = ureg.Quantity(scipy.constants.hbar, \"J Hz^-1\")\n",
    "electron_mass = ureg.Quantity(scipy.constants.m_e, \"kg\")\n",
    "TWO_M_OVER_HBAR_SQR = 2 * electron_mass / (hbar**2)\n",
    "\n",
    "\n",
    "def energy_to_k(E, E0):\n",
    "    \"\"\"\n",
    "    k = sqrt( (2m(E-E0)) / hbar^2) = sqrt( const * (E-E0))\n",
    "    \"\"\"\n",
    "    energy_difference = ureg.Quantity(E - E0, \"keV\")\n",
    "    kSqr = (TWO_M_OVER_HBAR_SQR * energy_difference).to(\"1/angstrom^2\")\n",
    "    return math.sqrt(kSqr.magnitude)\n",
    "\n",
    "\n",
    "def k_to_energy(k, E0):\n",
    "    k_with_units = ureg.Quantity(k, \"1/angstrom\")\n",
    "    edge_keV = ureg.Quantity(E0, \"keV\")\n",
    "    energy_difference = (k_with_units**2 / TWO_M_OVER_HBAR_SQR).to(\"keV\")\n",
    "    return (energy_difference + edge_keV).magnitude\n"
   ]
  },
  {
   "cell_type": "code",
   "execution_count": 5,
   "metadata": {},
   "outputs": [],
   "source": [
    "DEFAULT_XAFS_SCAN_SEGMENTS = (\n",
    "    # X could be keV, eV, k, or kwt (k-weighted count time)\n",
    "    # X, start, end, step, t\n",
    "    (\"keV\", -.2, -.015, .02, 3),\n",
    "    (\"eV\", -15, 10, 2.5, 1),\n",
    "    (\"k\", .5, 2, .2, 0.5),\n",
    "    (\"kwt\", 2, 10, .5, 1),\n",
    ")\n",
    "\n",
    "def get_energies_and_times(edge_keV, segments):\n",
    "    accepted = \"keV eV k kwt\"\n",
    "\n",
    "    results = []\n",
    "\n",
    "    for i, seg in enumerate(segments):\n",
    "        # error checking\n",
    "        if seg[0].lower() not in accepted.lower().split():\n",
    "            raise ValueError(\n",
    "                f\"Cannot scan in {seg[0]} now (segment {i+1}).\"\n",
    "                f\"  Only one of these: {accepted.split()}.\"\n",
    "            )\n",
    "        if len(seg) != 5:\n",
    "            raise ValueError(\n",
    "                \"Each segment must have 5 arguments:\"\n",
    "                \" X, start, end, step, time\"\n",
    "                f\"  Received: {seg} in segment {i+1}\"\n",
    "            )\n",
    "\n",
    "        axis_type = seg[0]\n",
    "        preset_time = seg[4]\n",
    "        position_array = np.arange(*seg[1:4])\n",
    "\n",
    "        if axis_type.lower() == \"kev\":\n",
    "            # count time is constant across this segment\n",
    "            time_array = np.full(shape=len(position_array), fill_value=seg[4])\n",
    "        elif axis_type.lower() == \"ev\":\n",
    "            position_array /= 1000.0  # convert to keV\n",
    "            # count time is constant across this segment\n",
    "            time_array = np.full(shape=len(position_array), fill_value=seg[4])\n",
    "        elif axis_type.lower() == \"k\":\n",
    "            position_array = np.array([\n",
    "                k_to_energy(k, edge_keV)\n",
    "                for k in position_array\n",
    "            ]) - edge_keV\n",
    "            # count time is constant across this segment\n",
    "            time_array = np.full(shape=len(position_array), fill_value=seg[4])\n",
    "        elif axis_type.lower() == \"kwt\":\n",
    "            # k-axis, k-weighted time\n",
    "            k_array = position_array.tolist()\n",
    "            position_array = np.array([\n",
    "                k_to_energy(k, edge_keV)\n",
    "                for k in position_array\n",
    "            ]) - edge_keV\n",
    "            # count time varies with k across this segment\n",
    "            # time = preset*(1 + factor * k**exponent)\n",
    "            factor = 2\n",
    "            exponent = .5\n",
    "            time_array = np.array([\n",
    "                preset_time * (1 + factor * k**exponent)\n",
    "                for k in k_array\n",
    "            ])\n",
    "\n",
    "        results += [\n",
    "            (edge_keV + v, t)\n",
    "            for v, t in zip(position_array, time_array)\n",
    "        ]\n",
    "\n",
    "    return sorted(results)\n"
   ]
  },
  {
   "cell_type": "code",
   "execution_count": 6,
   "metadata": {},
   "outputs": [],
   "source": [
    "def prep_absorption_calc(absorption):\n",
    "    \"\"\"\n",
    "    Use a userCalc to compute ln(I00/I0) for real-time plots in collection.\n",
    "\n",
    "    PARAMETERS\n",
    "\n",
    "    absorption\n",
    "        obj: instance of apstools.synApps.SwaitRecord()\n",
    "    \"\"\"\n",
    "    absorption.reset()\n",
    "    s = scaler1.channels\n",
    "    yield from bps.mv(\n",
    "        absorption.channels.A.input_pv, s.chan02.s.pvname,  # I0\n",
    "        absorption.channels.B.input_pv, s.chan06.s.pvname,  # I00\n",
    "        absorption.calculation, \"ln(B/A)\",  # ln(I00/I0)\n",
    "        absorption.scanning_rate, \"I/O Intr\",\n",
    "    )"
   ]
  },
  {
   "cell_type": "code",
   "execution_count": 7,
   "metadata": {},
   "outputs": [],
   "source": [
    "def xafs_scan(edge_keV, segments=None, detectors=None):\n",
    "    \"\"\"\n",
    "    Scan an edge: (keV\n",
    "\n",
    "    EXAMPLE::\n",
    "\n",
    "        RE(xafs_scan(7.1125))  # scan iron K edge\n",
    "    \"\"\"\n",
    "    if detectors is None:\n",
    "        detectors = [scaler1]\n",
    "    if segments is None:\n",
    "        segments = DEFAULT_XAFS_SCAN_SEGMENTS\n",
    "    if len(segments) == 0:\n",
    "        return  # nothing to do\n",
    "\n",
    "    # use userCalc2 to calculate absorption\n",
    "    absorption = calcs.calc2\n",
    "    yield from prep_absorption_calc(absorption)\n",
    "\n",
    "    # override: just get the one signal\n",
    "    absorption = EpicsSignalRO(\n",
    "        calcs.calc2.calculated_value.pvname,\n",
    "        name=\"absorption\",\n",
    "        kind=\"hinted\"\n",
    "    )\n",
    "    detectors.append(absorption)\n",
    "\n",
    "    scaler1.select_channels((\"I0\", \"I00\"))\n",
    "\n",
    "    elist, tlist = [], []\n",
    "    for pair in get_energies_and_times(edge_keV, segments):\n",
    "        elist.append(pair[0])\n",
    "        tlist.append(pair[-1])\n",
    "\n",
    "    comment = (\n",
    "        f\"xafs_scan of {len(segments)} (combined) near {edge_keV} keV\"\n",
    "        f\": {len(elist)} points total\"\n",
    "    )\n",
    "    logger.info(comment)\n",
    "    yield from bp.list_scan(\n",
    "        detectors,\n",
    "        dcm.energy, elist,\n",
    "        scaler1.preset_time, tlist,\n",
    "        md=dict(\n",
    "            purpose=comment,\n",
    "            plan_name=\"xafs_scan\"\n",
    "        )\n",
    "    )"
   ]
  },
  {
   "cell_type": "code",
   "execution_count": 8,
   "metadata": {},
   "outputs": [
    {
     "name": "stderr",
     "output_type": "stream",
     "text": [
      "I Tue-21:51:54 - xafs_scan of 4 (combined) near 7.1125 keV: 44 points total\n"
     ]
    },
    {
     "name": "stdout",
     "output_type": "stream",
     "text": [
      "\n",
      "\n",
      "Transient Scan ID: 529     Time: 2021-10-19 21:51:54\n",
      "Persistent Unique Scan ID: 'a78f1208-6f38-487b-8e2d-7f7e7330b2ff'\n",
      "New stream: 'baseline'\n",
      "New stream: 'primary'\n",
      "+-----------+------------+------------+------------+------------+------------+\n",
      "|   seq_num |       time | dcm_energy |         I0 |        I00 | absorption |\n",
      "+-----------+------------+------------+------------+------------+------------+\n",
      "|         1 | 21:52:03.3 |     6.9122 |         14 |         14 |    0.00000 |\n",
      "|         2 | 21:52:07.2 |     6.9325 |         16 |         16 |    0.00000 |\n",
      "|         3 | 21:52:11.2 |     6.9528 |         14 |         14 |    0.00000 |\n",
      "|         4 | 21:52:15.2 |     6.9734 |         15 |         13 |   -0.14310 |\n",
      "|         5 | 21:52:19.2 |     6.9940 |         16 |         15 |   -0.06454 |\n",
      "|         6 | 21:52:23.2 |     7.0106 |         17 |         14 |   -0.19416 |\n",
      "|         7 | 21:52:27.2 |     7.0315 |         15 |         12 |   -0.22314 |\n",
      "|         8 | 21:52:31.1 |     7.0525 |         15 |         19 |    0.23639 |\n",
      "|         9 | 21:52:35.0 |     7.0737 |         17 |         15 |   -0.12516 |\n",
      "|        10 | 21:52:39.0 |     7.0907 |         17 |         14 |   -0.19416 |\n",
      "|        11 | 21:52:40.6 |     7.0992 |          6 |          5 |   -0.18232 |\n",
      "|        12 | 21:52:42.2 |     7.0992 |          5 |          5 |    0.00000 |\n",
      "|        13 | 21:52:43.8 |     7.1035 |          5 |          4 |   -0.22314 |\n",
      "|        14 | 21:52:45.5 |     7.1035 |          4 |          6 |    0.40547 |\n",
      "|        15 | 21:52:47.1 |     7.1078 |          5 |          3 |   -0.51083 |\n",
      "|        16 | 21:52:48.8 |     7.1120 |          5 |          6 |    0.18232 |\n",
      "|        17 | 21:52:50.5 |     7.1120 |          4 |          5 |    0.22314 |\n",
      "|        18 | 21:52:51.6 |     7.1120 |          2 |          3 |    0.40547 |\n",
      "|        19 | 21:52:52.7 |     7.1163 |          2 |          3 |    0.40547 |\n",
      "|        20 | 21:52:54.4 |     7.1163 |          5 |          4 |   -0.22314 |\n",
      "|        21 | 21:52:55.4 |     7.1163 |          2 |          4 |    0.69315 |\n",
      "|        22 | 21:52:56.5 |     7.1163 |          3 |          3 |    0.00000 |\n",
      "|        23 | 21:52:58.0 |     7.1163 |          5 |          5 |    0.00000 |\n",
      "|        24 | 21:52:59.0 |     7.1206 |          2 |          3 |    0.40547 |\n",
      "|        25 | 21:53:00.6 |     7.1206 |          5 |          6 |    0.18232 |\n",
      "|        26 | 21:53:01.6 |     7.1206 |          2 |          2 |    0.00000 |\n",
      "|        27 | 21:53:02.9 |     7.1249 |          2 |          2 |    0.00000 |\n",
      "|        28 | 21:53:04.0 |     7.1249 |          2 |          2 |    0.00000 |\n",
      "|        29 | 21:53:08.5 |     7.1292 |         19 |         19 |    0.00000 |\n",
      "|        30 | 21:53:13.5 |     7.1379 |         23 |         24 |    0.04256 |\n",
      "|        31 | 21:53:18.8 |     7.1465 |         22 |         24 |    0.08701 |\n",
      "|        32 | 21:53:24.4 |     7.1595 |         26 |         23 |   -0.12260 |\n",
      "|        33 | 21:53:30.3 |     7.1726 |         26 |         23 |   -0.12260 |\n",
      "|        34 | 21:53:36.5 |     7.1901 |         28 |         27 |   -0.03637 |\n",
      "|        35 | 21:53:42.9 |     7.2077 |         32 |         24 |   -0.28768 |\n",
      "|        36 | 21:53:49.6 |     7.2298 |         29 |         27 |   -0.07146 |\n",
      "|        37 | 21:53:56.5 |     7.2476 |         26 |         28 |    0.07411 |\n",
      "|        38 | 21:54:03.5 |     7.2745 |         32 |         34 |    0.06062 |\n",
      "|        39 | 21:54:10.8 |     7.2971 |         34 |         31 |   -0.09237 |\n",
      "|        40 | 21:54:18.3 |     7.3289 |         34 |         31 |   -0.09237 |\n",
      "|        41 | 21:54:26.1 |     7.3564 |         32 |         34 |    0.06062 |\n",
      "|        42 | 21:54:34.1 |     7.3887 |         34 |         31 |   -0.09237 |\n",
      "|        43 | 21:54:42.3 |     7.4214 |         33 |         35 |    0.05884 |\n",
      "|        44 | 21:54:50.7 |     7.4544 |         34 |         31 |   -0.09237 |\n",
      "+-----------+------------+------------+------------+------------+------------+\n",
      "generator xafs_scan ['a78f1208'] (scan num: 529)\n"
     ]
    },
    {
     "name": "stderr",
     "output_type": "stream",
     "text": [
      "/home/prjemian/.local/lib/python3.8/site-packages/bluesky/callbacks/fitting.py:284: RuntimeWarning: divide by zero encountered in double_scalars\n",
      "  m = dy / dx\n"
     ]
    },
    {
     "data": {
      "text/plain": [
       "('a78f1208-6f38-487b-8e2d-7f7e7330b2ff',)"
      ]
     },
     "execution_count": 8,
     "metadata": {},
     "output_type": "execute_result"
    },
    {
     "data": {
      "image/png": "[encoded data removed]",
      "text/plain": [
       "<Figure size 360x1080 with 3 Axes>"
      ]
     },
     "metadata": {
      "needs_background": "light"
     },
     "output_type": "display_data"
    }
   ],
   "source": [
    "RE(xafs_scan(7.1125))"
   ]
  }
 ],
 "metadata": {
  "interpreter": {
   "hash": "fa399ef8ed4fbc3b7fe63ebf4307839a170374bf77134d519fcb3b724ac0582b"
  },
  "kernelspec": {
   "display_name": "Python 3.8.10 64-bit ('bluesky_2021_2': conda)",
   "name": "python3"
  },
  "language_info": {
   "codemirror_mode": {
    "name": "ipython",
    "version": 3
   },
   "file_extension": ".py",
   "mimetype": "text/x-python",
   "name": "python",
   "nbconvert_exporter": "python",
   "pygments_lexer": "ipython3",
   "version": "3.8.10"
  },
  "orig_nbformat": 4
 },
 "nbformat": 4,
 "nbformat_minor": 2
}
