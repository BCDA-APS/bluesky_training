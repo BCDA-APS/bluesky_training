{
 "cells": [
  {
   "cell_type": "markdown",
   "metadata": {},
   "source": [
    "# XAFS scan\n",
    "\n",
    "From *APS Python Training for Bluesky Data Acquisition*.\n",
    "\n",
    "**Objective**\n",
    "\n",
    "Example multi-segment XAFS scan.  The full scan is divided into:\n",
    "\n",
    "region | steps | units | count time\n",
    "--- | --- | --- | ---\n",
    "pre-edge | constant energy | keV | constant\n",
    "near-edge | constant energy | eV | constant\n",
    "low _k_ | constant k | 1/angstrom | constant\n",
    "higher _k_ | constant k | 1/angstrom | scales with _k_\n",
    "\n",
    "For the higher _k_ region, the count time is computed as:\n",
    "\n",
    "    preset_time = requested_time * (1 + factor*k**exponent)\n",
    "\n",
    "where `exponent=0.5`, `factor=2.0`, and `requested_time` is the time specified by the caller."
   ]
  },
  {
   "cell_type": "markdown",
   "metadata": {},
   "source": [
    "## Start the `instrument` package\n",
    "\n",
    "Our instrument package is in the `bluesky` subdirectory here so we add that to the search path before importing it."
   ]
  },
  {
   "cell_type": "code",
   "execution_count": 1,
   "metadata": {},
   "outputs": [
    {
     "name": "stdout",
     "output_type": "stream",
     "text": [
      "Did not load file with environment variables.  No problem.  Continuing ...\n"
     ]
    }
   ],
   "source": [
    "try:\n",
    "    %load_ext dotenv\n",
    "    %dotenv env.txt\n",
    "except Exception:\n",
    "    print(\n",
    "        \"Did not load file with environment variables.\"\n",
    "        \"  No problem.  Continuing ...\"\n",
    "    )"
   ]
  },
  {
   "cell_type": "code",
   "execution_count": 2,
   "metadata": {},
   "outputs": [
    {
     "name": "stderr",
     "output_type": "stream",
     "text": [
      "I Tue-23:09:53 - ############################################################ startup\n",
      "I Tue-23:09:53 - logging started\n",
      "I Tue-23:09:53 - logging level = 10\n",
      "I Tue-23:09:53 - /home/prjemian/Documents/projects/BCDA-APS/bluesky_training/bluesky/instrument/collection.py\n",
      "I Tue-23:09:53 - /home/prjemian/Documents/projects/BCDA-APS/bluesky_training/bluesky/instrument/mpl/notebook.py\n"
     ]
    },
    {
     "name": "stdout",
     "output_type": "stream",
     "text": [
      "Activating auto-logging. Current session state plus future input saved.\n",
      "Filename       : /home/prjemian/Documents/projects/BCDA-APS/bluesky_training/.logs/ipython_console.log\n",
      "Mode           : rotate\n",
      "Output logging : True\n",
      "Raw input log  : False\n",
      "Timestamping   : True\n",
      "State          : active\n"
     ]
    },
    {
     "name": "stderr",
     "output_type": "stream",
     "text": [
      "I Tue-23:09:53 - #### Bluesky Framework ####\n",
      "I Tue-23:09:53 - /home/prjemian/Documents/projects/BCDA-APS/bluesky_training/bluesky/instrument/framework/check_python.py\n",
      "I Tue-23:09:53 - /home/prjemian/Documents/projects/BCDA-APS/bluesky_training/bluesky/instrument/framework/check_bluesky.py\n",
      "I Tue-23:09:54 - /home/prjemian/Documents/projects/BCDA-APS/bluesky_training/bluesky/instrument/framework/initialize.py\n",
      "I Tue-23:09:54 - using databroker catalog 'training'\n",
      "I Tue-23:09:54 - /home/prjemian/Documents/projects/BCDA-APS/bluesky_training/bluesky/instrument/framework/metadata.py\n",
      "I Tue-23:09:54 - #### Devices ####\n",
      "I Tue-23:09:54 - /home/prjemian/Documents/projects/BCDA-APS/bluesky_training/bluesky/instrument/devices/area_detector.py\n",
      "I Tue-23:09:54 - /home/prjemian/Documents/projects/BCDA-APS/bluesky_training/bluesky/instrument/devices/calculation_records.py\n",
      "I Tue-23:09:57 - /home/prjemian/Documents/projects/BCDA-APS/bluesky_training/bluesky/instrument/devices/ioc_stats.py\n",
      "I Tue-23:09:57 - /home/prjemian/Documents/projects/BCDA-APS/bluesky_training/bluesky/instrument/devices/kohzu_monochromator.py\n",
      "I Tue-23:09:57 - /home/prjemian/Documents/projects/BCDA-APS/bluesky_training/bluesky/instrument/devices/motors.py\n",
      "I Tue-23:09:57 - /home/prjemian/Documents/projects/BCDA-APS/bluesky_training/bluesky/instrument/devices/noisy_detector.py\n",
      "I Tue-23:09:57 - /home/prjemian/Documents/projects/BCDA-APS/bluesky_training/bluesky/instrument/devices/scaler.py\n",
      "I Tue-23:09:58 - /home/prjemian/Documents/projects/BCDA-APS/bluesky_training/bluesky/instrument/devices/shutter_simulator.py\n",
      "I Tue-23:09:58 - /home/prjemian/Documents/projects/BCDA-APS/bluesky_training/bluesky/instrument/devices/temperature_signal.py\n",
      "I Tue-23:09:58 - #### Callbacks ####\n",
      "I Tue-23:09:58 - /home/prjemian/Documents/projects/BCDA-APS/bluesky_training/bluesky/instrument/callbacks/spec_data_file_writer.py\n",
      "I Tue-23:09:58 - writing to SPEC file: /home/prjemian/Documents/projects/BCDA-APS/bluesky_training/20211019-230958.dat\n",
      "I Tue-23:09:58 -    >>>>   Using default SPEC file name   <<<<\n",
      "I Tue-23:09:58 -    file will be created when bluesky ends its next scan\n",
      "I Tue-23:09:58 -    to change SPEC file, use command:   newSpecFile('title')\n",
      "I Tue-23:09:58 - #### Plans ####\n",
      "I Tue-23:09:58 - /home/prjemian/Documents/projects/BCDA-APS/bluesky_training/bluesky/instrument/plans/peak_finder_example.py\n",
      "I Tue-23:09:58 - #### Utilities ####\n",
      "I Tue-23:09:58 - /home/prjemian/Documents/projects/BCDA-APS/bluesky_training/bluesky/instrument/utils/image_analysis.py\n",
      "I Tue-23:09:58 - #### Startup is complete. ####\n"
     ]
    }
   ],
   "source": [
    "import os, sys\n",
    "sys.path.append(os.path.abspath(os.path.join(\".\", \"bluesky\")))\n",
    "from instrument.collection import *"
   ]
  },
  {
   "cell_type": "markdown",
   "metadata": {},
   "source": [
    "We'll use these later.  Import now."
   ]
  },
  {
   "cell_type": "code",
   "execution_count": 3,
   "metadata": {},
   "outputs": [],
   "source": [
    "from ophyd import EpicsSignalRO\n",
    "\n",
    "import math\n",
    "import numpy as np"
   ]
  },
  {
   "cell_type": "markdown",
   "metadata": {},
   "source": [
    "## Energy & _k_\n",
    "\n",
    "The Kohzu monochromator support expects energy in *keV* and wavelength in\n",
    "*1/angstrom*.  XAFS is similar, _k_ in *1/angstrom*, but also uses *eV*\n",
    "sometimes for energy.  We need to be flexible.\n",
    "\n",
    "Fundamental physical constants are provided by the\n",
    "[scipy](https://www.scipy.org/) package.  The Python\n",
    "[pint](https://pint.readthedocs.io/) package is used to provide\n",
    "unit conversions that will help to convert between energy and _k_\n",
    "coordinates.\n",
    "With these two packages, our software provides flexibility for the units\n",
    "a caller must use.  And the code we use documents itself about our choice\n",
    "of units.\n",
    "\n",
    "Here we define routines to convert between energy and _k_."
   ]
  },
  {
   "cell_type": "code",
   "execution_count": 4,
   "metadata": {},
   "outputs": [],
   "source": [
    "import pint\n",
    "import scipy.constants\n",
    "\n",
    "ureg = pint.UnitRegistry()\n",
    "hbar = ureg.Quantity(scipy.constants.hbar, \"J Hz^-1\")\n",
    "electron_mass = ureg.Quantity(scipy.constants.m_e, \"kg\")\n",
    "TWO_M_OVER_HBAR_SQR = 2 * electron_mass / (hbar**2)\n",
    "\n",
    "\n",
    "def energy_to_k(E, E0):\n",
    "    energy_difference = ureg.Quantity(E - E0, \"keV\")\n",
    "    kSqr = (TWO_M_OVER_HBAR_SQR * energy_difference).to(\"1/angstrom^2\")\n",
    "    return math.sqrt(kSqr.magnitude)\n",
    "\n",
    "\n",
    "def k_to_energy(k, E0):\n",
    "    \"\"\"\n",
    "    k = sqrt( (2m(E-E0)) / hbar^2) = sqrt( const * (E-E0))\n",
    "    \"\"\"\n",
    "    k_with_units = ureg.Quantity(k, \"1/angstrom\")\n",
    "    edge_keV = ureg.Quantity(E0, \"keV\")\n",
    "    energy_difference = (k_with_units**2 / TWO_M_OVER_HBAR_SQR).to(\"keV\")\n",
    "    return (energy_difference + edge_keV).magnitude\n"
   ]
  },
  {
   "cell_type": "markdown",
   "metadata": {},
   "source": [
    "## Multiple segments\n",
    "\n",
    "XAFS scans measure signals from two or more detectors as the incident X-ray energy is varied.  One method is to step the energy where the step size is different depending on the region of the scan.  Steps could be in constant units of energy or _k_ (see above).\n",
    "\n",
    "We define here a default list of four regions (known here as `segments`), each showing a different feature of units or count time weighting.  This default list is used in the `xafs_scan()` scan below if the caller chooses.  The `get_energies_and_times()` function parses the supplied list of segments and returns a list of `(energy_keV, count_time)` pairs for use in a [`bluesky`](https://blueskyproject.io/bluesky/).[`plans`](https://blueskyproject.io/bluesky/plans.html).[`list_scan()`](https://blueskyproject.io/bluesky/generated/bluesky.plans.list_scan.html#bluesky.plans.list_scan)."
   ]
  },
  {
   "cell_type": "code",
   "execution_count": 5,
   "metadata": {},
   "outputs": [],
   "source": [
    "DEFAULT_XAFS_SCAN_SEGMENTS = (\n",
    "    # X could be keV, eV, k, or kwt (k-weighted count time)\n",
    "    # X, start, end, step, t\n",
    "    (\"keV\", -.2, -.015, .02, 3),\n",
    "    (\"eV\", -15, 10, 2.5, 1),\n",
    "    (\"k\", .5, 2, .2, 0.5),\n",
    "    (\"kwt\", 2, 10, .5, 1),\n",
    ")\n",
    "\n",
    "def get_energies_and_times(edge_keV, segments):\n",
    "    accepted = \"keV eV k kwt\"\n",
    "\n",
    "    results = []\n",
    "\n",
    "    for i, seg in enumerate(segments):\n",
    "        # error checking\n",
    "        if seg[0].lower() not in accepted.lower().split():\n",
    "            raise ValueError(\n",
    "                f\"Cannot scan in {seg[0]} now (segment {i+1}).\"\n",
    "                f\"  Only one of these: {accepted.split()}.\"\n",
    "            )\n",
    "        if len(seg) != 5:\n",
    "            raise ValueError(\n",
    "                \"Each segment must have 5 arguments:\"\n",
    "                \" X, start, end, step, time\"\n",
    "                f\"  Received: {seg} in segment {i+1}\"\n",
    "            )\n",
    "\n",
    "        axis_type = seg[0]\n",
    "        preset_time = seg[4]\n",
    "        position_array = np.arange(*seg[1:4])\n",
    "\n",
    "        if axis_type.lower() == \"kev\":\n",
    "            # count time is constant across this segment\n",
    "            time_array = np.full(shape=len(position_array), fill_value=seg[4])\n",
    "        elif axis_type.lower() == \"ev\":\n",
    "            position_array /= 1000.0  # convert to keV\n",
    "            # count time is constant across this segment\n",
    "            time_array = np.full(shape=len(position_array), fill_value=seg[4])\n",
    "        elif axis_type.lower() == \"k\":\n",
    "            position_array = np.array([\n",
    "                k_to_energy(k, edge_keV)\n",
    "                for k in position_array\n",
    "            ]) - edge_keV\n",
    "            # count time is constant across this segment\n",
    "            time_array = np.full(shape=len(position_array), fill_value=seg[4])\n",
    "        elif axis_type.lower() == \"kwt\":\n",
    "            # k-axis, k-weighted time\n",
    "            k_array = position_array.tolist()\n",
    "            position_array = np.array([\n",
    "                k_to_energy(k, edge_keV)\n",
    "                for k in position_array\n",
    "            ]) - edge_keV\n",
    "            # count time varies with k across this segment\n",
    "            # time = preset*(1 + factor * k**exponent)\n",
    "            factor = 2\n",
    "            exponent = .5\n",
    "            time_array = np.array([\n",
    "                preset_time * (1 + factor * k**exponent)\n",
    "                for k in k_array\n",
    "            ])\n",
    "\n",
    "        results += [\n",
    "            (edge_keV + v, t)\n",
    "            for v, t in zip(position_array, time_array)\n",
    "        ]\n",
    "\n",
    "    return sorted(results)\n"
   ]
  },
  {
   "cell_type": "markdown",
   "metadata": {},
   "source": [
    "## real-time computation of absorption coefficient\n",
    "The absorption coefficient is computed from the ratio of two scaler channels.  We could compute that either in Python or EPICS.  Here, we choose an EPICS *userCalc* because its setup is more familiar to people experienced with EPICS.  The `instrument` package already provides support for 10 userCalcs.  We'll pick userCalc2 (since userCalc1 is already used by the simulated temperature controller).\n",
    "\n",
    "The computation will update when it gets new values for either scaler channel.  In our `xafs_scan()` below, we'll connect (separately, so we don't get all the other data provided by the userCalc support) with the calculated value (_log(I00/I0)_) as an additional _detector_."
   ]
  },
  {
   "cell_type": "code",
   "execution_count": 6,
   "metadata": {},
   "outputs": [],
   "source": [
    "def prep_absorption_calc(absorption):\n",
    "    \"\"\"\n",
    "    Use a userCalc to compute ln(I00/I0) for real-time plots in collection.\n",
    "\n",
    "    PARAMETERS\n",
    "\n",
    "    absorption\n",
    "        obj: instance of apstools.synApps.SwaitRecord()\n",
    "    \"\"\"\n",
    "    absorption.reset()\n",
    "    s = scaler1.channels\n",
    "    yield from bps.mv(\n",
    "        absorption.channels.A.input_pv, s.chan02.s.pvname,  # I0\n",
    "        absorption.channels.B.input_pv, s.chan06.s.pvname,  # I00\n",
    "        absorption.calculation, \"ln(B/A)\",  # ln(I00/I0)\n",
    "        absorption.scanning_rate, \"I/O Intr\",\n",
    "    )"
   ]
  },
  {
   "cell_type": "markdown",
   "metadata": {},
   "source": [
    "## `xafs_scan()` plan\n",
    "\n",
    "With all the pieces defined, it is time to write a plan to measure the XAFS.  The caller must provide the absorption edge energy (in keV).  A list of segments is optional (will default to `DEFAULT_XAFS_SCAN_SEGMENTS` as defined above) so only the absorption edge energy is required.  Once the inputs are checked for correctness, the absorption calculation is setup in an EPICS userCalc ([`SwaitRecord`](https://apstools.readthedocs.io/en/latest/source/synApps/_swait.html#synapps-swait-record)).  Finally, the 1-D step scan is run by calling [`bp.list_scan()`](https://blueskyproject.io/bluesky/generated/bluesky.plans.list_scan.html#bluesky.plans.list_scan) with lists of energy and count time values for each step."
   ]
  },
  {
   "cell_type": "code",
   "execution_count": 7,
   "metadata": {},
   "outputs": [],
   "source": [
    "def xafs_scan(edge_keV, segments=None, detectors=None):\n",
    "    \"\"\"\n",
    "    Scan an edge: (keV\n",
    "\n",
    "    EXAMPLE::\n",
    "\n",
    "        RE(xafs_scan(7.1125))  # scan iron K edge\n",
    "    \"\"\"\n",
    "    if detectors is None:\n",
    "        detectors = [scaler1]\n",
    "    if segments is None:\n",
    "        segments = DEFAULT_XAFS_SCAN_SEGMENTS\n",
    "    if len(segments) == 0:\n",
    "        return  # nothing to do\n",
    "\n",
    "    # use userCalc2 to calculate absorption\n",
    "    absorption = calcs.calc2\n",
    "    yield from prep_absorption_calc(absorption)\n",
    "\n",
    "    # override: just get the one signal\n",
    "    absorption = EpicsSignalRO(\n",
    "        calcs.calc2.calculated_value.pvname,\n",
    "        name=\"absorption\",\n",
    "        kind=\"hinted\"\n",
    "    )\n",
    "    detectors.append(absorption)\n",
    "\n",
    "    scaler1.select_channels((\"I0\", \"I00\"))\n",
    "\n",
    "    elist, tlist = [], []\n",
    "    for pair in get_energies_and_times(edge_keV, segments):\n",
    "        elist.append(pair[0])\n",
    "        tlist.append(pair[-1])\n",
    "\n",
    "    comment = (\n",
    "        f\"xafs_scan of {len(segments)} (combined) near {edge_keV} keV\"\n",
    "        f\": {len(elist)} points total\"\n",
    "    )\n",
    "    logger.info(comment)\n",
    "    yield from bp.list_scan(\n",
    "        detectors,\n",
    "        dcm.energy, elist,\n",
    "        scaler1.preset_time, tlist,\n",
    "        md=dict(\n",
    "            purpose=comment,\n",
    "            plan_name=\"xafs_scan\"\n",
    "        )\n",
    "    )"
   ]
  },
  {
   "cell_type": "code",
   "execution_count": 8,
   "metadata": {},
   "outputs": [
    {
     "name": "stderr",
     "output_type": "stream",
     "text": [
      "I Tue-23:10:09 - xafs_scan of 4 (combined) near 7.1125 keV: 44 points total\n"
     ]
    },
    {
     "name": "stdout",
     "output_type": "stream",
     "text": [
      "\n",
      "\n",
      "Transient Scan ID: 530     Time: 2021-10-19 23:10:09\n",
      "Persistent Unique Scan ID: 'cd85e94e-12dc-42c6-87b1-5071f4a97f0c'\n",
      "New stream: 'baseline'\n",
      "New stream: 'primary'\n",
      "+-----------+------------+------------+------------+------------+------------+\n",
      "|   seq_num |       time | dcm_energy |         I0 |        I00 | absorption |\n",
      "+-----------+------------+------------+------------+------------+------------+\n",
      "|         1 | 23:10:17.9 |     6.9122 |         16 |         13 |   -0.20764 |\n",
      "|         2 | 23:10:21.9 |     6.9325 |         14 |         15 |    0.06899 |\n",
      "|         3 | 23:10:25.9 |     6.9528 |         12 |         13 |    0.08004 |\n",
      "|         4 | 23:10:29.9 |     6.9734 |         16 |         16 |    0.00000 |\n",
      "|         5 | 23:10:33.9 |     6.9940 |         14 |         15 |    0.06899 |\n",
      "|         6 | 23:10:38.0 |     7.0106 |         15 |         16 |    0.06454 |\n",
      "|         7 | 23:10:42.0 |     7.0315 |         15 |         15 |    0.00000 |\n",
      "|         8 | 23:10:45.9 |     7.0525 |         15 |         13 |   -0.14310 |\n",
      "|         9 | 23:10:49.9 |     7.0737 |         16 |         16 |    0.00000 |\n",
      "|        10 | 23:10:53.9 |     7.0907 |         17 |         15 |   -0.12516 |\n",
      "|        11 | 23:10:55.5 |     7.0992 |          5 |          5 |    0.00000 |\n",
      "|        12 | 23:10:57.1 |     7.0992 |          4 |          5 |    0.22314 |\n",
      "|        13 | 23:10:58.7 |     7.1035 |          5 |          6 |    0.18232 |\n",
      "|        14 | 23:11:00.2 |     7.1035 |          5 |          6 |    0.18232 |\n",
      "|        15 | 23:11:01.7 |     7.1078 |          5 |          7 |    0.33647 |\n",
      "|        16 | 23:11:03.4 |     7.1120 |          6 |          6 |    0.00000 |\n",
      "|        17 | 23:11:05.0 |     7.1120 |          4 |          6 |    0.40547 |\n",
      "|        18 | 23:11:06.0 |     7.1120 |          1 |          2 |    0.69315 |\n",
      "|        19 | 23:11:07.0 |     7.1163 |          3 |          2 |   -0.40547 |\n",
      "|        20 | 23:11:08.6 |     7.1163 |          4 |          6 |    0.40547 |\n",
      "|        21 | 23:11:09.5 |     7.1163 |          3 |          3 |    0.00000 |\n",
      "|        22 | 23:11:10.6 |     7.1163 |          2 |          3 |    0.40547 |\n",
      "|        23 | 23:11:12.1 |     7.1163 |          6 |          6 |    0.00000 |\n",
      "|        24 | 23:11:13.1 |     7.1206 |          3 |          2 |   -0.40547 |\n",
      "|        25 | 23:11:14.6 |     7.1206 |          4 |          4 |    0.00000 |\n",
      "|        26 | 23:11:15.6 |     7.1206 |          3 |          1 |   -1.09861 |\n",
      "|        27 | 23:11:16.8 |     7.1249 |          2 |          2 |    0.00000 |\n",
      "|        28 | 23:11:18.0 |     7.1249 |          3 |          1 |   -1.09861 |\n",
      "|        29 | 23:11:22.6 |     7.1292 |         16 |         21 |    0.27193 |\n",
      "|        30 | 23:11:27.5 |     7.1379 |         20 |         19 |   -0.05129 |\n",
      "|        31 | 23:11:32.8 |     7.1465 |         23 |         22 |   -0.04445 |\n",
      "|        32 | 23:11:38.4 |     7.1595 |         25 |         22 |   -0.12783 |\n",
      "|        33 | 23:11:44.3 |     7.1726 |         27 |         21 |   -0.25131 |\n",
      "|        34 | 23:11:50.6 |     7.1901 |         29 |         26 |   -0.10920 |\n",
      "|        35 | 23:11:57.1 |     7.2077 |         29 |         27 |   -0.07146 |\n",
      "|        36 | 23:12:03.6 |     7.2298 |         24 |         28 |    0.15415 |\n",
      "|        37 | 23:12:10.3 |     7.2476 |         30 |         32 |    0.06454 |\n",
      "|        38 | 23:12:17.4 |     7.2745 |         33 |         27 |   -0.20067 |\n",
      "|        39 | 23:12:24.6 |     7.2971 |         34 |         30 |   -0.12516 |\n",
      "|        40 | 23:12:32.1 |     7.3289 |         34 |         35 |    0.02899 |\n",
      "|        41 | 23:12:40.0 |     7.3564 |         29 |         33 |    0.12921 |\n",
      "|        42 | 23:12:48.0 |     7.3887 |         35 |         34 |   -0.02899 |\n",
      "|        43 | 23:12:56.1 |     7.4214 |         38 |         30 |   -0.23639 |\n",
      "|        44 | 23:13:04.4 |     7.4544 |         36 |         40 |    0.10536 |\n",
      "+-----------+------------+------------+------------+------------+------------+\n",
      "generator xafs_scan ['cd85e94e'] (scan num: 530)\n"
     ]
    },
    {
     "name": "stderr",
     "output_type": "stream",
     "text": [
      "/home/prjemian/.local/lib/python3.8/site-packages/bluesky/callbacks/fitting.py:284: RuntimeWarning: divide by zero encountered in double_scalars\n",
      "  m = dy / dx\n"
     ]
    },
    {
     "data": {
      "text/plain": [
       "('cd85e94e-12dc-42c6-87b1-5071f4a97f0c',)"
      ]
     },
     "execution_count": 8,
     "metadata": {},
     "output_type": "execute_result"
    },
    {
     "data": {
      "image/png": "[encoded data removed]",
      "text/plain": [
       "<Figure size 360x1080 with 3 Axes>"
      ]
     },
     "metadata": {
      "needs_background": "light"
     },
     "output_type": "display_data"
    }
   ],
   "source": [
    "## XAFS measurement with bluesky\n",
    "\n",
    "RE(xafs_scan(7.1125))"
   ]
  },
  {
   "cell_type": "markdown",
   "metadata": {},
   "source": [
    "## Challenges\n",
    "\n",
    "1. Scan XAFS with 3 segments (below-edge, near-edge, above-edge regions).\n",
    "2. Why can't we scan in _k_-space below the edge energy?\n",
    "3. Modify the software to allow the user to control the _k_ weighting terms: `factor` and `exponent`.\n",
    "4. Modify the `xafs_scan()` to accept user metadata.  (hint: provide for a `md` keyword argument that will be a dictionary.  See `bp.list_scan??` for an example.)"
   ]
  }
 ],
 "metadata": {
  "interpreter": {
   "hash": "1f009ff395435d424e52d204e98c6bc8bb56df49333235004ff33e4f2779d2a8"
  },
  "kernelspec": {
   "display_name": "Python 3.8.10 64-bit ('bluesky_2021_2': conda)",
   "name": "python3"
  },
  "language_info": {
   "codemirror_mode": {
    "name": "ipython",
    "version": 3
   },
   "file_extension": ".py",
   "mimetype": "text/x-python",
   "name": "python",
   "nbconvert_exporter": "python",
   "pygments_lexer": "ipython3",
   "version": "3.8.10"
  },
  "orig_nbformat": 4
 },
 "nbformat": 4,
 "nbformat_minor": 2
}
