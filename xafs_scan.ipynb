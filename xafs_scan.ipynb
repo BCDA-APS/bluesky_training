{
 "cells": [
  {
   "cell_type": "markdown",
   "metadata": {},
   "source": [
    "# XAFS scan\n",
    "\n",
    "From *APS Python Training for Bluesky Data Acquisition*.\n",
    "\n",
    "**Objective**\n",
    "\n",
    "Example multi-segment XAFS scan.  A full scan might be divided into:\n",
    "\n",
    "region | steps | units | count time\n",
    "--- | --- | --- | ---\n",
    "pre-edge | constant energy | keV | constant\n",
    "near-edge | constant energy | eV | constant\n",
    "low _k_ | constant k | 1/angstrom | constant\n",
    "higher _k_ | constant k | 1/angstrom | scales with _k_\n",
    "\n",
    "For the higher _k_ region, the count time is computed as:\n",
    "\n",
    "    preset_time = requested_time * (1 + factor*k**exponent)\n",
    "\n",
    "where `exponent=0.5`, `factor=2.0`, and `requested_time` is the time specified by the caller.\n",
    "\n",
    "note: We are connected to _simulated_ hardware.  The simulated scalers generate random pulses. All detector data is random numbers."
   ]
  },
  {
   "cell_type": "markdown",
   "metadata": {},
   "source": [
    "## Start the `instrument` package\n",
    "\n",
    "Our instrument package is in the `bluesky` subdirectory here so we add that to the search path before importing it."
   ]
  },
  {
   "cell_type": "code",
   "execution_count": 1,
   "metadata": {},
   "outputs": [
    {
     "name": "stdout",
     "output_type": "stream",
     "text": [
      "Did not load file with environment variables.  No problem.  Continuing ...\n"
     ]
    }
   ],
   "source": [
    "try:\n",
    "    %load_ext dotenv\n",
    "    %dotenv env.txt\n",
    "except Exception:\n",
    "    print(\n",
    "        \"Did not load file with environment variables.\"\n",
    "        \"  No problem.  Continuing ...\"\n",
    "    )"
   ]
  },
  {
   "cell_type": "code",
   "execution_count": 2,
   "metadata": {},
   "outputs": [
    {
     "name": "stderr",
     "output_type": "stream",
     "text": [
      "I Wed-23:54:36 - ############################################################ startup\n",
      "I Wed-23:54:36 - logging started\n",
      "I Wed-23:54:36 - logging level = 10\n",
      "I Wed-23:54:36 - /home/prjemian/Documents/projects/BCDA-APS/bluesky_training/bluesky/instrument/collection.py\n",
      "I Wed-23:54:36 - /home/prjemian/Documents/projects/BCDA-APS/bluesky_training/bluesky/instrument/mpl/notebook.py\n"
     ]
    },
    {
     "name": "stdout",
     "output_type": "stream",
     "text": [
      "Activating auto-logging. Current session state plus future input saved.\n",
      "Filename       : /home/prjemian/Documents/projects/BCDA-APS/bluesky_training/.logs/ipython_console.log\n",
      "Mode           : rotate\n",
      "Output logging : True\n",
      "Raw input log  : False\n",
      "Timestamping   : True\n",
      "State          : active\n"
     ]
    },
    {
     "name": "stderr",
     "output_type": "stream",
     "text": [
      "I Wed-23:54:36 - #### Bluesky Framework ####\n",
      "I Wed-23:54:36 - /home/prjemian/Documents/projects/BCDA-APS/bluesky_training/bluesky/instrument/framework/check_python.py\n",
      "I Wed-23:54:36 - /home/prjemian/Documents/projects/BCDA-APS/bluesky_training/bluesky/instrument/framework/check_bluesky.py\n",
      "I Wed-23:54:36 - /home/prjemian/Documents/projects/BCDA-APS/bluesky_training/bluesky/instrument/framework/initialize.py\n",
      "I Wed-23:54:37 - using databroker catalog 'training'\n",
      "I Wed-23:54:37 - /home/prjemian/Documents/projects/BCDA-APS/bluesky_training/bluesky/instrument/framework/metadata.py\n",
      "I Wed-23:54:37 - #### Devices ####\n",
      "I Wed-23:54:37 - /home/prjemian/Documents/projects/BCDA-APS/bluesky_training/bluesky/instrument/devices/area_detector.py\n",
      "I Wed-23:54:37 - /home/prjemian/Documents/projects/BCDA-APS/bluesky_training/bluesky/instrument/devices/calculation_records.py\n",
      "I Wed-23:54:39 - /home/prjemian/Documents/projects/BCDA-APS/bluesky_training/bluesky/instrument/devices/ioc_stats.py\n",
      "I Wed-23:54:39 - /home/prjemian/Documents/projects/BCDA-APS/bluesky_training/bluesky/instrument/devices/kohzu_monochromator.py\n",
      "I Wed-23:54:39 - /home/prjemian/Documents/projects/BCDA-APS/bluesky_training/bluesky/instrument/devices/motors.py\n",
      "I Wed-23:54:39 - /home/prjemian/Documents/projects/BCDA-APS/bluesky_training/bluesky/instrument/devices/noisy_detector.py\n",
      "I Wed-23:54:40 - /home/prjemian/Documents/projects/BCDA-APS/bluesky_training/bluesky/instrument/devices/scaler.py\n",
      "I Wed-23:54:40 - /home/prjemian/Documents/projects/BCDA-APS/bluesky_training/bluesky/instrument/devices/shutter_simulator.py\n",
      "I Wed-23:54:40 - /home/prjemian/Documents/projects/BCDA-APS/bluesky_training/bluesky/instrument/devices/temperature_signal.py\n",
      "I Wed-23:54:41 - #### Callbacks ####\n",
      "I Wed-23:54:41 - /home/prjemian/Documents/projects/BCDA-APS/bluesky_training/bluesky/instrument/callbacks/spec_data_file_writer.py\n",
      "I Wed-23:54:41 - writing to SPEC file: /home/prjemian/Documents/projects/BCDA-APS/bluesky_training/20211020-235441.dat\n",
      "I Wed-23:54:41 -    >>>>   Using default SPEC file name   <<<<\n",
      "I Wed-23:54:41 -    file will be created when bluesky ends its next scan\n",
      "I Wed-23:54:41 -    to change SPEC file, use command:   newSpecFile('title')\n",
      "I Wed-23:54:41 - #### Plans ####\n",
      "I Wed-23:54:41 - /home/prjemian/Documents/projects/BCDA-APS/bluesky_training/bluesky/instrument/plans/peak_finder_example.py\n",
      "I Wed-23:54:41 - #### Utilities ####\n",
      "I Wed-23:54:41 - /home/prjemian/Documents/projects/BCDA-APS/bluesky_training/bluesky/instrument/utils/image_analysis.py\n",
      "I Wed-23:54:41 - #### Startup is complete. ####\n"
     ]
    }
   ],
   "source": [
    "import os, sys\n",
    "sys.path.append(os.path.abspath(os.path.join(\".\", \"bluesky\")))\n",
    "from instrument.collection import *"
   ]
  },
  {
   "cell_type": "markdown",
   "metadata": {},
   "source": [
    "We'll use these later.  Import now."
   ]
  },
  {
   "cell_type": "code",
   "execution_count": 3,
   "metadata": {},
   "outputs": [],
   "source": [
    "from ophyd import EpicsSignalRO\n",
    "\n",
    "import math\n",
    "import numpy as np\n",
    "import pandas as pd"
   ]
  },
  {
   "cell_type": "markdown",
   "metadata": {},
   "source": [
    "## Energy & _k_\n",
    "\n",
    "The Kohzu monochromator support expects energy in *keV* and wavelength in\n",
    "*1/angstrom*.  XAFS is similar, _k_ in *1/angstrom*, but also uses *eV*\n",
    "sometimes for energy.  We need to be flexible.\n",
    "\n",
    "Fundamental physical constants are provided by the\n",
    "[scipy](https://www.scipy.org/) package.  The Python\n",
    "[pint](https://pint.readthedocs.io/) package is used to provide\n",
    "unit conversions that will help to convert between energy and _k_\n",
    "coordinates.\n",
    "With these two packages, our software provides flexibility for the units\n",
    "a caller must use.  And the code we use documents itself about our choice\n",
    "of units.\n",
    "\n",
    "Here we define routines to convert between energy and _k_."
   ]
  },
  {
   "cell_type": "code",
   "execution_count": 4,
   "metadata": {},
   "outputs": [],
   "source": [
    "import pint\n",
    "import scipy.constants\n",
    "\n",
    "ureg = pint.UnitRegistry()\n",
    "Qty = ureg.Quantity  # a shortcut\n",
    "\n",
    "hbar = Qty(scipy.constants.hbar, \"J Hz^-1\")\n",
    "electron_mass = Qty(scipy.constants.m_e, \"kg\")\n",
    "TWO_M_OVER_HBAR_SQR = 2 * electron_mass / (hbar**2)\n",
    "\n",
    "\n",
    "def energy_to_k(E, E0):\n",
    "    energy_difference = Qty(E - E0, \"keV\")\n",
    "    kSqr = (TWO_M_OVER_HBAR_SQR * energy_difference).to(\"1/angstrom^2\")\n",
    "    return math.sqrt(kSqr.magnitude)\n",
    "\n",
    "\n",
    "def k_to_energy(k, E0):\n",
    "    \"\"\"\n",
    "    k = sqrt( (2m(E-E0)) / hbar^2) = sqrt( const * (E-E0))\n",
    "    \"\"\"\n",
    "    k_with_units = Qty(k, \"1/angstrom\")\n",
    "    edge_keV = Qty(E0, \"keV\")\n",
    "    energy_difference = (k_with_units**2 / TWO_M_OVER_HBAR_SQR).to(\"keV\")\n",
    "    return (energy_difference + edge_keV).magnitude"
   ]
  },
  {
   "cell_type": "markdown",
   "metadata": {},
   "source": [
    "## Multiple segments\n",
    "\n",
    "XAFS scans measure signals from two or more detectors as the incident X-ray energy is varied.  One method is to step the energy where the step size is different depending on the region of the scan.  Steps could be in constant units of energy or _k_ (see above).\n",
    "\n",
    "We define here a default list of four regions (known here as `segments`), each showing a different feature of units or count time weighting.  This default list is used in the `xafs()` scan below if the caller chooses.  The `get_energies_and_times()` function parses the supplied list of segments and returns a list of `(energy_keV, count_time)` pairs for use in a [`bluesky`](https://blueskyproject.io/bluesky/).[`plans`](https://blueskyproject.io/bluesky/plans.html).[`list_scan()`](https://blueskyproject.io/bluesky/generated/bluesky.plans.list_scan.html#bluesky.plans.list_scan)."
   ]
  },
  {
   "cell_type": "code",
   "execution_count": 5,
   "metadata": {},
   "outputs": [],
   "source": [
    "XAFS_SCAN_SEGMENTS_VARIETY = (\n",
    "    # X could be keV, eV, k, or kwt (k-weighted count time)\n",
    "    # axis, start, end, step, count_time\n",
    "    (\"keV\", -.2, -.015, .02, 3),\n",
    "    (\"eV\", -15, 10, 2.5, 1),\n",
    "    (\"k\", .5, 2, .2, 0.5),\n",
    "    (\"kwt\", 2, 10, .5, 1),\n",
    ")\n",
    "\n",
    "DEFAULT_XAFS_SCAN_SEGMENTS = (\n",
    "    # here, only keV and kwt\n",
    "    # axis, start, end, step, count_time\n",
    "    (\"keV\", -0.2, -0.015, 0.02, 3),\n",
    "    (\"keV\", -0.015, 0.005, 0.0015, 2),\n",
    "    (\"kwt\", 1.5, 12, 0.5, 1),\n",
    ")\n",
    "\n",
    "def parse_segments(edge_keV, segments):\n",
    "    accepted = \"keV eV k kwt\"\n",
    "\n",
    "    results = []\n",
    "\n",
    "    for i, seg in enumerate(segments):\n",
    "        # error checking\n",
    "        if seg[0].lower() not in accepted.lower().split():\n",
    "            raise ValueError(\n",
    "                f\"Cannot scan in {seg[0]} now (segment {i+1}).\"\n",
    "                f\"  Only one of these: {accepted.split()}.\"\n",
    "            )\n",
    "        if len(seg) != 5:\n",
    "            raise ValueError(\n",
    "                \"Each segment must have 5 arguments:\"\n",
    "                \" X, start, end, step, time\"\n",
    "                f\"  Received: {seg} in segment {i+1}\"\n",
    "            )\n",
    "\n",
    "        axis_type = seg[0]\n",
    "        preset_time = seg[4]\n",
    "        position_array = np.arange(*seg[1:4])\n",
    "\n",
    "        if axis_type.lower() == \"kev\":\n",
    "            # count time is constant across this segment\n",
    "            time_array = np.full(shape=len(position_array), fill_value=seg[4])\n",
    "        elif axis_type.lower() == \"ev\":\n",
    "            position_array /= 1000.0  # convert to keV\n",
    "            # count time is constant across this segment\n",
    "            time_array = np.full(shape=len(position_array), fill_value=seg[4])\n",
    "        elif axis_type.lower() == \"k\":\n",
    "            position_array = np.array([\n",
    "                k_to_energy(k, edge_keV)\n",
    "                for k in position_array\n",
    "            ]) - edge_keV\n",
    "            # count time is constant across this segment\n",
    "            time_array = np.full(shape=len(position_array), fill_value=seg[4])\n",
    "        elif axis_type.lower() == \"kwt\":\n",
    "            # k-axis, k-weighted time\n",
    "            k_array = position_array.tolist()\n",
    "            position_array = np.array([\n",
    "                k_to_energy(k, edge_keV)\n",
    "                for k in position_array\n",
    "            ]) - edge_keV\n",
    "            # count time varies with k across this segment\n",
    "            # time = preset*(1 + factor * k**exponent)\n",
    "            factor = 2\n",
    "            exponent = .5\n",
    "            time_array = np.array([\n",
    "                preset_time * (1 + factor * k**exponent)\n",
    "                for k in k_array\n",
    "            ])\n",
    "\n",
    "        results += [\n",
    "            (edge_keV + v, t)\n",
    "            for v, t in zip(position_array, time_array)\n",
    "        ]\n",
    "\n",
    "    e_arr, t_arr = [], []\n",
    "    for e, t in sorted(results):\n",
    "        if e in e_arr:\n",
    "            continue  # no duplicates\n",
    "        e_arr.append(e)\n",
    "        t_arr.append(t)\n",
    "    return e_arr, t_arr\n"
   ]
  },
  {
   "cell_type": "markdown",
   "metadata": {},
   "source": [
    "Make a plot of count time _v_ energy using the `DEFAULT_XAFS_SCAN_SEGMENTS`.  See how the count time changes throughout the post-edge region due to use of `kwt` (_k_-weighted count time) axis."
   ]
  },
  {
   "cell_type": "code",
   "execution_count": 6,
   "metadata": {},
   "outputs": [
    {
     "data": {
      "text/plain": [
       "<AxesSubplot:xlabel='energy', ylabel='count_time'>"
      ]
     },
     "execution_count": 6,
     "metadata": {},
     "output_type": "execute_result"
    },
    {
     "data": {
      "image/png": "[encoded data removed]",
      "text/plain": [
       "<Figure size 432x288 with 1 Axes>"
      ]
     },
     "metadata": {
      "needs_background": "light"
     },
     "output_type": "display_data"
    }
   ],
   "source": [
    "e_arr, t_arr = parse_segments(7.1125, DEFAULT_XAFS_SCAN_SEGMENTS)\n",
    "df = pd.DataFrame(dict(energy=e_arr, count_time=t_arr))\n",
    "df.plot.scatter(\"energy\", \"count_time\")"
   ]
  },
  {
   "cell_type": "markdown",
   "metadata": {},
   "source": [
    "## real-time computation of absorption coefficient\n",
    "The absorption coefficient is computed from the ratio of two scaler channels.  We could compute that either in Python or EPICS.  Here, we choose an EPICS *userCalc* because its setup is more familiar to people experienced with EPICS.  The `instrument` package already provides support for 10 userCalcs.  We'll pick userCalc2 (since userCalc1 is already used by the simulated temperature controller).\n",
    "\n",
    "The computation will update when it gets new values for either scaler channel.  In our `xafs()` scan below, we'll connect (separately, so we don't get all the other data provided by the userCalc support) with the calculated value (_log(I00/I0)_) as an additional _detector_."
   ]
  },
  {
   "cell_type": "code",
   "execution_count": 7,
   "metadata": {},
   "outputs": [],
   "source": [
    "def prep_absorption_calc(absorption):\n",
    "    \"\"\"\n",
    "    Use a userCalc to compute ln(I00/I0) for real-time plots in collection.\n",
    "\n",
    "    PARAMETERS\n",
    "\n",
    "    absorption\n",
    "        obj: instance of apstools.synApps.SwaitRecord()\n",
    "    \"\"\"\n",
    "    absorption.reset()\n",
    "    s = scaler1.channels\n",
    "    yield from bps.mv(\n",
    "        absorption.channels.A.input_pv, s.chan02.s.pvname,  # I0\n",
    "        absorption.channels.B.input_pv, s.chan06.s.pvname,  # I00\n",
    "        absorption.calculation, \"ln(B/A)\",  # ln(I00/I0)\n",
    "        absorption.scanning_rate, \"I/O Intr\",\n",
    "    )"
   ]
  },
  {
   "cell_type": "markdown",
   "metadata": {},
   "source": [
    "## `xafs()` plan\n",
    "\n",
    "With all the pieces defined, it is time to write a plan to measure the XAFS.  The caller must provide the absorption edge energy (in keV).  A list of segments is optional (will default to `DEFAULT_XAFS_SCAN_SEGMENTS` as defined above) so only the absorption edge energy is required.  Once the inputs are checked for correctness, the absorption calculation is setup in an EPICS userCalc ([`SwaitRecord`](https://apstools.readthedocs.io/en/latest/source/synApps/_swait.html#synapps-swait-record)).  Finally, the 1-D step scan is run by calling [`bp.list_scan()`](https://blueskyproject.io/bluesky/generated/bluesky.plans.list_scan.html#bluesky.plans.list_scan) with lists of energy and count time values for each step."
   ]
  },
  {
   "cell_type": "code",
   "execution_count": 8,
   "metadata": {},
   "outputs": [],
   "source": [
    "def xafs(edge_keV, segments=None, detectors=None):\n",
    "    \"\"\"\n",
    "    Scan an edge: (keV\n",
    "\n",
    "    EXAMPLE::\n",
    "\n",
    "        RE(xafs(7.1125))  # scan iron K edge\n",
    "    \"\"\"\n",
    "    if detectors is None:\n",
    "        detectors = [scaler1]\n",
    "    if segments is None:\n",
    "        segments = DEFAULT_XAFS_SCAN_SEGMENTS\n",
    "    if len(segments) == 0:\n",
    "        return  # nothing to do\n",
    "\n",
    "    # use userCalc2 to calculate absorption\n",
    "    absorption = calcs.calc2\n",
    "    yield from prep_absorption_calc(absorption)\n",
    "\n",
    "    # override: just get the one signal\n",
    "    absorption = EpicsSignalRO(\n",
    "        calcs.calc2.calculated_value.pvname,\n",
    "        name=\"absorption\",\n",
    "        kind=\"hinted\"\n",
    "    )\n",
    "    detectors.append(absorption)\n",
    "\n",
    "    scaler1.select_channels((\"I0\", \"I00\"))\n",
    "\n",
    "    energy_list, count_time_list = parse_segments(edge_keV, segments)\n",
    "\n",
    "    comment = (\n",
    "        f\"xafs of {len(segments)} segments (combined) near {edge_keV} keV\"\n",
    "        f\": {len(energy_list)} points total\"\n",
    "    )\n",
    "    logger.info(comment)\n",
    "    yield from bp.list_scan(\n",
    "        detectors,\n",
    "        dcm.energy, energy_list,\n",
    "        scaler1.preset_time, count_time_list,\n",
    "        md=dict(\n",
    "            purpose=comment,\n",
    "            plan_name=\"xafs\"\n",
    "        )\n",
    "    )"
   ]
  },
  {
   "cell_type": "code",
   "execution_count": 9,
   "metadata": {},
   "outputs": [
    {
     "name": "stderr",
     "output_type": "stream",
     "text": [
      "I Wed-23:54:41 - xafs of 3 segments (combined) near 7.1125 keV: 45 points total\n"
     ]
    },
    {
     "name": "stdout",
     "output_type": "stream",
     "text": [
      "\n",
      "\n",
      "Transient Scan ID: 534     Time: 2021-10-20 23:54:41\n",
      "Persistent Unique Scan ID: 'ee25de59-0fd9-425d-bb97-4b0d780340ca'\n",
      "New stream: 'baseline'\n",
      "New stream: 'primary'\n",
      "+-----------+------------+------------+------------+------------+------------+\n",
      "|   seq_num |       time | dcm_energy | absorption |         I0 |        I00 |\n",
      "+-----------+------------+------------+------------+------------+------------+\n",
      "|         1 | 23:54:47.4 |     6.9122 |   -0.15415 |         14 |         12 |\n",
      "|         2 | 23:54:51.5 |     6.9325 |    0.11778 |         16 |         18 |\n",
      "|         3 | 23:54:55.7 |     6.9528 |   -0.14310 |         15 |         13 |\n",
      "|         4 | 23:54:59.9 |     6.9734 |    0.06454 |         15 |         16 |\n",
      "|         5 | 23:55:04.0 |     6.9940 |   -0.06062 |         17 |         16 |\n",
      "|         6 | 23:55:08.2 |     7.0106 |   -0.34831 |         17 |         12 |\n",
      "|         7 | 23:55:12.3 |     7.0315 |    0.06454 |         15 |         16 |\n",
      "|         8 | 23:55:16.4 |     7.0525 |    0.00000 |         13 |         13 |\n",
      "|         9 | 23:55:20.5 |     7.0737 |   -0.20764 |         16 |         13 |\n",
      "|        10 | 23:55:24.6 |     7.0907 |    0.05716 |         17 |         18 |\n",
      "|        11 | 23:55:27.4 |     7.0949 |   -0.10536 |         10 |          9 |\n",
      "|        12 | 23:55:30.2 |     7.0992 |    0.08701 |         11 |         12 |\n",
      "|        13 | 23:55:33.0 |     7.0992 |   -0.10536 |         10 |          9 |\n",
      "|        14 | 23:55:35.7 |     7.1035 |    0.00000 |          9 |          9 |\n",
      "|        15 | 23:55:38.4 |     7.1035 |    0.18232 |         10 |         12 |\n",
      "|        16 | 23:55:41.3 |     7.1035 |   -0.20067 |         11 |          9 |\n",
      "|        17 | 23:55:44.1 |     7.1078 |   -0.20067 |         11 |          9 |\n",
      "|        18 | 23:55:46.9 |     7.1078 |    0.09531 |         10 |         11 |\n",
      "|        19 | 23:55:49.7 |     7.1078 |   -0.10536 |         10 |          9 |\n",
      "|        20 | 23:55:52.5 |     7.1120 |   -0.11778 |          9 |          8 |\n",
      "|        21 | 23:55:55.3 |     7.1120 |    0.00000 |          9 |          9 |\n",
      "|        22 | 23:55:58.1 |     7.1120 |   -0.09531 |         11 |         10 |\n",
      "|        23 | 23:56:00.9 |     7.1163 |   -0.08701 |         12 |         11 |\n",
      "|        24 | 23:56:03.7 |     7.1163 |    0.11778 |          8 |          9 |\n",
      "|        25 | 23:56:08.1 |     7.1206 |    0.17185 |         16 |         19 |\n",
      "|        26 | 23:56:12.9 |     7.1249 |   -0.09531 |         22 |         20 |\n",
      "|        27 | 23:56:18.1 |     7.1379 |    0.10008 |         19 |         21 |\n",
      "|        28 | 23:56:23.6 |     7.1465 |   -0.08701 |         24 |         22 |\n",
      "|        29 | 23:56:29.4 |     7.1595 |    0.03774 |         26 |         27 |\n",
      "|        30 | 23:56:35.6 |     7.1726 |    0.12260 |         23 |         26 |\n",
      "|        31 | 23:56:42.1 |     7.1901 |    0.07146 |         27 |         29 |\n",
      "|        32 | 23:56:48.8 |     7.2077 |    0.00000 |         23 |         23 |\n",
      "|        33 | 23:56:55.6 |     7.2298 |   -0.14842 |         29 |         25 |\n",
      "|        34 | 23:57:02.7 |     7.2476 |   -0.03509 |         29 |         28 |\n",
      "|        35 | 23:57:09.9 |     7.2745 |    0.10178 |         28 |         31 |\n",
      "|        36 | 23:57:17.4 |     7.2971 |    0.20067 |         27 |         33 |\n",
      "|        37 | 23:57:25.1 |     7.3289 |    0.00000 |         32 |         32 |\n",
      "|        38 | 23:57:33.2 |     7.3564 |    0.06454 |         30 |         32 |\n",
      "|        39 | 23:57:41.4 |     7.3887 |    0.08701 |         33 |         36 |\n",
      "|        40 | 23:57:49.8 |     7.4214 |    0.15822 |         35 |         41 |\n",
      "|        41 | 23:57:58.3 |     7.4544 |    0.00000 |         34 |         34 |\n",
      "|        42 | 23:58:07.0 |     7.4924 |   -0.05264 |         39 |         37 |\n",
      "|        43 | 23:58:15.8 |     7.5308 |   -0.02817 |         36 |         35 |\n",
      "|        44 | 23:58:24.8 |     7.5746 |   -0.21131 |         42 |         34 |\n",
      "|        45 | 23:58:34.1 |     7.6139 |   -0.08456 |         37 |         34 |\n",
      "+-----------+------------+------------+------------+------------+------------+\n",
      "generator xafs ['ee25de59'] (scan num: 534)\n"
     ]
    },
    {
     "name": "stderr",
     "output_type": "stream",
     "text": [
      "/home/prjemian/.local/lib/python3.8/site-packages/bluesky/callbacks/fitting.py:284: RuntimeWarning: divide by zero encountered in double_scalars\n",
      "  m = dy / dx\n"
     ]
    },
    {
     "data": {
      "text/plain": [
       "('ee25de59-0fd9-425d-bb97-4b0d780340ca',)"
      ]
     },
     "execution_count": 9,
     "metadata": {},
     "output_type": "execute_result"
    },
    {
     "data": {
      "image/png": "[encoded data removed]",
      "text/plain": [
       "<Figure size 360x1080 with 3 Axes>"
      ]
     },
     "metadata": {
      "needs_background": "light"
     },
     "output_type": "display_data"
    }
   ],
   "source": [
    "## XAFS measurement with bluesky\n",
    "\n",
    "RE(xafs(7.1125))"
   ]
  },
  {
   "cell_type": "markdown",
   "metadata": {},
   "source": [
    "## Challenges\n",
    "\n",
    "1. Scan XAFS with 3 segments (below-edge, near-edge, above-edge regions).\n",
    "2. Explain why we can't we scan in negative _k_-space.\n",
    "3. Modify the software to allow the user to control the _k_ weighting terms: `factor` and `exponent`.\n",
    "4. Modify the `xafs()` plan to accept user metadata.  (hint: provide for a `md` keyword argument that will be a dictionary.  See `bp.list_scan??` for an example.)"
   ]
  },
  {
   "cell_type": "markdown",
   "metadata": {},
   "source": [
    "## References\n",
    "\n",
    "- https://docs.xrayabsorption.org/tutorials/XAFS_Fundamentals.pdf\n",
    "- https://docs.xrayabsorption.org/Workshops/IIT2013/Newville_Theory.pdf\n",
    "- https://en.wikipedia.org/wiki/X-ray_absorption_fine_structure\n",
    "- web tool: https://nbeaver.github.io/k-space-calculator/\n",
    "- https://github.com/nbeaver/k-space-calculator"
   ]
  }
 ],
 "metadata": {
  "interpreter": {
   "hash": "1f009ff395435d424e52d204e98c6bc8bb56df49333235004ff33e4f2779d2a8"
  },
  "kernelspec": {
   "display_name": "Python 3.8.10 64-bit ('bluesky_2021_2': conda)",
   "name": "python3"
  },
  "language_info": {
   "codemirror_mode": {
    "name": "ipython",
    "version": 3
   },
   "file_extension": ".py",
   "mimetype": "text/x-python",
   "name": "python",
   "nbconvert_exporter": "python",
   "pygments_lexer": "ipython3",
   "version": "3.8.10"
  },
  "orig_nbformat": 4
 },
 "nbformat": 4,
 "nbformat_minor": 2
}
