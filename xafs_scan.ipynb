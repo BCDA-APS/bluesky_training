{
 "cells": [
  {
   "cell_type": "markdown",
   "metadata": {},
   "source": [
    "# XAFS scan\n",
    "\n",
    "From *APS Python Training for Bluesky Data Acquisition*.\n",
    "\n",
    "**Objective**\n",
    "\n",
    "Example multi-segment XAFS scan.\n",
    "\n",
    "## Start the `instrument` package\n",
    "\n",
    "Our instrument package is in the `bluesky` subdirectory here so we add that to the search path before importing it."
   ]
  },
  {
   "cell_type": "code",
   "execution_count": 1,
   "metadata": {},
   "outputs": [
    {
     "name": "stdout",
     "output_type": "stream",
     "text": [
      "Did not load file with environment variables.  No problem.  Continuing ...\n"
     ]
    }
   ],
   "source": [
    "try:\n",
    "    %load_ext dotenv\n",
    "    %dotenv env.txt\n",
    "except Exception:\n",
    "    print(\n",
    "        \"Did not load file with environment variables.\"\n",
    "        \"  No problem.  Continuing ...\"\n",
    "    )"
   ]
  },
  {
   "cell_type": "code",
   "execution_count": 2,
   "metadata": {},
   "outputs": [
    {
     "name": "stderr",
     "output_type": "stream",
     "text": [
      "I Tue-21:32:02 - ############################################################ startup\n",
      "I Tue-21:32:02 - logging started\n",
      "I Tue-21:32:02 - logging level = 10\n",
      "I Tue-21:32:02 - /home/prjemian/Documents/projects/BCDA-APS/bluesky_training/bluesky/instrument/collection.py\n",
      "I Tue-21:32:02 - /home/prjemian/Documents/projects/BCDA-APS/bluesky_training/bluesky/instrument/mpl/notebook.py\n"
     ]
    },
    {
     "name": "stdout",
     "output_type": "stream",
     "text": [
      "Activating auto-logging. Current session state plus future input saved.\n",
      "Filename       : /home/prjemian/Documents/projects/BCDA-APS/bluesky_training/.logs/ipython_console.log\n",
      "Mode           : rotate\n",
      "Output logging : True\n",
      "Raw input log  : False\n",
      "Timestamping   : True\n",
      "State          : active\n"
     ]
    },
    {
     "name": "stderr",
     "output_type": "stream",
     "text": [
      "I Tue-21:32:03 - #### Bluesky Framework ####\n",
      "I Tue-21:32:03 - /home/prjemian/Documents/projects/BCDA-APS/bluesky_training/bluesky/instrument/framework/check_python.py\n",
      "I Tue-21:32:03 - /home/prjemian/Documents/projects/BCDA-APS/bluesky_training/bluesky/instrument/framework/check_bluesky.py\n",
      "I Tue-21:32:03 - /home/prjemian/Documents/projects/BCDA-APS/bluesky_training/bluesky/instrument/framework/initialize.py\n",
      "I Tue-21:32:04 - using databroker catalog 'training'\n",
      "I Tue-21:32:04 - /home/prjemian/Documents/projects/BCDA-APS/bluesky_training/bluesky/instrument/framework/metadata.py\n",
      "I Tue-21:32:04 - #### Devices ####\n",
      "I Tue-21:32:04 - /home/prjemian/Documents/projects/BCDA-APS/bluesky_training/bluesky/instrument/devices/area_detector.py\n",
      "I Tue-21:32:04 - /home/prjemian/Documents/projects/BCDA-APS/bluesky_training/bluesky/instrument/devices/calculation_records.py\n",
      "I Tue-21:32:06 - /home/prjemian/Documents/projects/BCDA-APS/bluesky_training/bluesky/instrument/devices/ioc_stats.py\n",
      "I Tue-21:32:06 - /home/prjemian/Documents/projects/BCDA-APS/bluesky_training/bluesky/instrument/devices/kohzu_monochromator.py\n",
      "I Tue-21:32:06 - /home/prjemian/Documents/projects/BCDA-APS/bluesky_training/bluesky/instrument/devices/motors.py\n",
      "I Tue-21:32:07 - /home/prjemian/Documents/projects/BCDA-APS/bluesky_training/bluesky/instrument/devices/noisy_detector.py\n",
      "I Tue-21:32:07 - /home/prjemian/Documents/projects/BCDA-APS/bluesky_training/bluesky/instrument/devices/scaler.py\n",
      "I Tue-21:32:08 - /home/prjemian/Documents/projects/BCDA-APS/bluesky_training/bluesky/instrument/devices/shutter_simulator.py\n",
      "I Tue-21:32:08 - /home/prjemian/Documents/projects/BCDA-APS/bluesky_training/bluesky/instrument/devices/temperature_signal.py\n",
      "D Tue-21:32:08 - temperature reached: True\n",
      "I Tue-21:32:08 - #### Callbacks ####\n",
      "I Tue-21:32:08 - /home/prjemian/Documents/projects/BCDA-APS/bluesky_training/bluesky/instrument/callbacks/spec_data_file_writer.py\n",
      "I Tue-21:32:08 - writing to SPEC file: /home/prjemian/Documents/projects/BCDA-APS/bluesky_training/20211019-213208.dat\n",
      "I Tue-21:32:08 -    >>>>   Using default SPEC file name   <<<<\n",
      "I Tue-21:32:08 -    file will be created when bluesky ends its next scan\n",
      "I Tue-21:32:08 -    to change SPEC file, use command:   newSpecFile('title')\n",
      "I Tue-21:32:08 - #### Plans ####\n",
      "I Tue-21:32:08 - /home/prjemian/Documents/projects/BCDA-APS/bluesky_training/bluesky/instrument/plans/peak_finder_example.py\n",
      "I Tue-21:32:08 - #### Utilities ####\n",
      "I Tue-21:32:08 - /home/prjemian/Documents/projects/BCDA-APS/bluesky_training/bluesky/instrument/utils/image_analysis.py\n",
      "I Tue-21:32:08 - #### Startup is complete. ####\n"
     ]
    }
   ],
   "source": [
    "import os, sys\n",
    "sys.path.append(os.path.abspath(os.path.join(\".\", \"bluesky\")))\n",
    "from instrument.collection import *"
   ]
  },
  {
   "cell_type": "code",
   "execution_count": 4,
   "metadata": {},
   "outputs": [],
   "source": [
    "from ophyd import EpicsSignalRO\n",
    "\n",
    "import math\n",
    "import numpy as np\n",
    "import pint\n",
    "import scipy.constants"
   ]
  },
  {
   "cell_type": "code",
   "execution_count": 6,
   "metadata": {},
   "outputs": [],
   "source": [
    "ureg = pint.UnitRegistry()\n",
    "hbar = ureg.Quantity(scipy.constants.hbar, \"J Hz^-1\")\n",
    "electron_mass = ureg.Quantity(scipy.constants.m_e, \"kg\")\n",
    "TWO_M_OVER_HBAR_SQR = 2 * electron_mass / (hbar**2)\n",
    "\n",
    "\n",
    "def energy_to_k(E, E0):\n",
    "    \"\"\"\n",
    "    k = sqrt( (2m(E-E0)) / hbar^2) = sqrt( const * (E-E0))\n",
    "    \"\"\"\n",
    "    energy_difference = ureg.Quantity(E - E0, \"keV\")\n",
    "    kSqr = (TWO_M_OVER_HBAR_SQR * energy_difference).to(\"1/angstrom^2\")\n",
    "    return math.sqrt(kSqr.magnitude)\n",
    "\n",
    "\n",
    "def k_to_energy(k, E0):\n",
    "    k_with_units = ureg.Quantity(k, \"1/angstrom\")\n",
    "    edge_keV = ureg.Quantity(E0, \"keV\")\n",
    "    energy_difference = (k_with_units**2 / TWO_M_OVER_HBAR_SQR).to(\"keV\")\n",
    "    return (energy_difference + edge_keV).magnitude\n"
   ]
  },
  {
   "cell_type": "code",
   "execution_count": 7,
   "metadata": {},
   "outputs": [],
   "source": [
    "DEFAULT_XAFS_SCAN_SEGMENTS = (\n",
    "    # X could be keV, eV, k, or kwt (k-weighted count time)\n",
    "    # X, start, end, step, t\n",
    "    (\"keV\", -.2, -.015, .02, 3),\n",
    "    (\"eV\", -15, 10, 2.5, 1),\n",
    "    (\"k\", .5, 2, .2, 0.5),\n",
    "    (\"kwt\", 2, 10, .5, 1),\n",
    ")\n",
    "\n",
    "def get_energies_and_times(edge_keV, segments):\n",
    "    accepted = \"keV eV k kwt\"\n",
    "\n",
    "    results = []\n",
    "\n",
    "    for i, seg in enumerate(segments):\n",
    "        # error checking\n",
    "        if seg[0].lower() not in accepted.lower().split():\n",
    "            raise ValueError(\n",
    "                f\"Cannot scan in {seg[0]} now (segment {i+1}).\"\n",
    "                f\"  Only one of these: {accepted.split()}.\"\n",
    "            )\n",
    "        if len(seg) != 5:\n",
    "            raise ValueError(\n",
    "                \"Each segment must have 5 arguments:\"\n",
    "                \" X, start, end, step, time\"\n",
    "                f\"  Received: {seg} in segment {i+1}\"\n",
    "            )\n",
    "\n",
    "        axis_type = seg[0]\n",
    "        preset_time = seg[4]\n",
    "        position_array = np.arange(*seg[1:4])\n",
    "\n",
    "        if axis_type.lower() == \"kev\":\n",
    "            # count time is constant across this segment\n",
    "            time_array = np.full(shape=len(position_array), fill_value=seg[4])\n",
    "        elif axis_type.lower() == \"ev\":\n",
    "            position_array /= 1000.0  # convert to keV\n",
    "            # count time is constant across this segment\n",
    "            time_array = np.full(shape=len(position_array), fill_value=seg[4])\n",
    "        elif axis_type.lower() == \"k\":\n",
    "            position_array = np.array([\n",
    "                k_to_energy(k, edge_keV)\n",
    "                for k in position_array\n",
    "            ]) - edge_keV\n",
    "            # count time is constant across this segment\n",
    "            time_array = np.full(shape=len(position_array), fill_value=seg[4])\n",
    "        elif axis_type.lower() == \"kwt\":\n",
    "            # k-axis, k-weighted time\n",
    "            k_array = position_array.tolist()\n",
    "            position_array = np.array([\n",
    "                k_to_energy(k, edge_keV)\n",
    "                for k in position_array\n",
    "            ]) - edge_keV\n",
    "            # count time varies with k across this segment\n",
    "            # time = preset*(1 + factor * k**exponent)\n",
    "            factor = 2\n",
    "            exponent = .5\n",
    "            time_array = np.array([\n",
    "                preset_time * (1 + factor * k**exponent)\n",
    "                for k in k_array\n",
    "            ])\n",
    "\n",
    "        results += [\n",
    "            (edge_keV + v, t)\n",
    "            for v, t in zip(position_array, time_array)\n",
    "        ]\n",
    "\n",
    "    return sorted(results)\n"
   ]
  },
  {
   "cell_type": "code",
   "execution_count": 8,
   "metadata": {},
   "outputs": [],
   "source": [
    "def prep_absorption_calc(absorption):\n",
    "    \"\"\"\n",
    "    Use a userCalc to compute ln(I00/I0) for real-time plots in collection.\n",
    "\n",
    "    PARAMETERS\n",
    "\n",
    "    absorption\n",
    "        obj: instance of apstools.synApps.SwaitRecord()\n",
    "    \"\"\"\n",
    "    absorption.reset()\n",
    "    s = scaler1.channels\n",
    "    yield from bps.mv(\n",
    "        absorption.channels.A.input_pv, s.chan02.s.pvname,  # I0\n",
    "        absorption.channels.B.input_pv, s.chan06.s.pvname,  # I00\n",
    "        absorption.calculation, \"ln(B/A)\",  # ln(I00/I0)\n",
    "        absorption.scanning_rate, \"I/O Intr\",\n",
    "    )"
   ]
  },
  {
   "cell_type": "code",
   "execution_count": 9,
   "metadata": {},
   "outputs": [],
   "source": [
    "def xafs_scan(edge_keV, segments=None, detectors=None):\n",
    "    \"\"\"\n",
    "    Scan an edge: (keV\n",
    "\n",
    "    EXAMPLE::\n",
    "\n",
    "        RE(xafs_scan(7.1125))  # scan iron K edge\n",
    "    \"\"\"\n",
    "    if detectors is None:\n",
    "        detectors = [scaler1]\n",
    "    if segments is None:\n",
    "        segments = DEFAULT_XAFS_SCAN_SEGMENTS\n",
    "    if len(segments) == 0:\n",
    "        return  # nothing to do\n",
    "\n",
    "    # use userCalc2 to calculate absorption\n",
    "    absorption = calcs.calc2\n",
    "    yield from prep_absorption_calc(absorption)\n",
    "\n",
    "    # override: just get the one signal\n",
    "    absorption = EpicsSignalRO(\n",
    "        calcs.calc2.calculated_value.pvname,\n",
    "        name=\"absorption\",\n",
    "        kind=\"hinted\"\n",
    "    )\n",
    "    detectors.append(absorption)\n",
    "\n",
    "    scaler1.select_channels((\"I0\", \"I00\"))\n",
    "\n",
    "    elist, tlist = [], []\n",
    "    for pair in get_energies_and_times(edge_keV, segments):\n",
    "        elist.append(pair[0])\n",
    "        tlist.append(pair[-1])\n",
    "\n",
    "    comment = (\n",
    "        f\"xafs_scan of {len(segments)} (combined) near {edge_keV} keV\"\n",
    "        f\": {len(elist)} points total\"\n",
    "    )\n",
    "    logger.info(comment)\n",
    "    yield from bp.list_scan(\n",
    "        detectors,\n",
    "        dcm.energy, elist,\n",
    "        scaler1.preset_time, tlist,\n",
    "        md=dict(\n",
    "            purpose=comment,\n",
    "            plan_name=\"xafs_scan\"\n",
    "        )\n",
    "    )"
   ]
  },
  {
   "cell_type": "code",
   "execution_count": 10,
   "metadata": {},
   "outputs": [
    {
     "name": "stderr",
     "output_type": "stream",
     "text": [
      "I Tue-21:37:17 - xafs_scan of 4 (combined) near 7.1125 keV: 44 points total\n"
     ]
    },
    {
     "name": "stdout",
     "output_type": "stream",
     "text": [
      "\n",
      "\n",
      "Transient Scan ID: 528     Time: 2021-10-19 21:37:17\n",
      "Persistent Unique Scan ID: '004ef3db-ec9a-4f6d-9124-9ab589bf8559'\n",
      "New stream: 'baseline'\n",
      "New stream: 'primary'\n",
      "+-----------+------------+------------+------------+------------+------------+\n",
      "|   seq_num |       time | dcm_energy |         I0 |        I00 | absorption |\n",
      "+-----------+------------+------------+------------+------------+------------+\n",
      "|         1 | 21:37:34.7 |     6.9122 |         16 |         14 |   -0.13353 |\n",
      "|         2 | 21:37:38.7 |     6.9325 |         16 |         17 |    0.06062 |\n",
      "|         3 | 21:37:42.6 |     6.9528 |         16 |         17 |    0.06062 |\n",
      "|         4 | 21:37:46.5 |     6.9734 |         14 |         16 |    0.13353 |\n",
      "|         5 | 21:37:50.4 |     6.9940 |         17 |         14 |   -0.19416 |\n",
      "|         6 | 21:37:54.5 |     7.0106 |         16 |         15 |   -0.06454 |\n",
      "|         7 | 21:37:58.6 |     7.0315 |         15 |         15 |    0.00000 |\n",
      "|         8 | 21:38:02.7 |     7.0525 |         13 |         16 |    0.20764 |\n",
      "|         9 | 21:38:06.9 |     7.0737 |         14 |         17 |    0.19416 |\n",
      "|        10 | 21:38:11.2 |     7.0907 |         16 |         16 |    0.00000 |\n",
      "|        11 | 21:38:13.1 |     7.0949 |          5 |          5 |    0.00000 |\n",
      "|        12 | 21:38:15.0 |     7.0992 |          6 |          4 |   -0.40547 |\n",
      "|        13 | 21:38:16.9 |     7.0992 |          5 |          4 |   -0.22314 |\n",
      "|        14 | 21:38:18.8 |     7.1035 |          6 |          4 |   -0.40547 |\n",
      "|        15 | 21:38:20.7 |     7.1078 |          6 |          5 |   -0.18232 |\n",
      "|        16 | 21:38:22.7 |     7.1120 |          4 |          5 |    0.22314 |\n",
      "|        17 | 21:38:24.5 |     7.1120 |          5 |          4 |   -0.22314 |\n",
      "|        18 | 21:38:25.8 |     7.1120 |          1 |          3 |    1.09861 |\n",
      "|        19 | 21:38:27.0 |     7.1163 |          2 |          3 |    0.40547 |\n",
      "|        20 | 21:38:28.8 |     7.1163 |          5 |          6 |    0.18232 |\n",
      "|        21 | 21:38:30.0 |     7.1163 |          3 |          3 |    0.00000 |\n",
      "|        22 | 21:38:31.4 |     7.1163 |          3 |          3 |    0.00000 |\n",
      "|        23 | 21:38:33.1 |     7.1163 |          5 |          5 |    0.00000 |\n",
      "|        24 | 21:38:34.4 |     7.1206 |          1 |          3 |    1.09861 |\n",
      "|        25 | 21:38:36.1 |     7.1206 |          6 |          3 |   -0.69315 |\n",
      "|        26 | 21:38:37.3 |     7.1206 |          3 |          4 |    0.28768 |\n",
      "|        27 | 21:38:38.7 |     7.1249 |          2 |          3 |    0.40547 |\n",
      "|        28 | 21:38:40.0 |     7.1249 |          3 |          2 |   -0.40547 |\n",
      "|        29 | 21:38:44.7 |     7.1292 |         19 |         16 |   -0.17185 |\n",
      "|        30 | 21:38:49.9 |     7.1379 |         21 |         19 |   -0.10008 |\n",
      "|        31 | 21:38:55.4 |     7.1465 |         23 |         21 |   -0.09097 |\n",
      "|        32 | 21:39:01.3 |     7.1595 |         26 |         27 |    0.03774 |\n",
      "|        33 | 21:39:07.5 |     7.1726 |         27 |         27 |    0.00000 |\n",
      "|        34 | 21:39:14.0 |     7.1901 |         23 |         25 |    0.08338 |\n",
      "|        35 | 21:39:20.7 |     7.2077 |         29 |         27 |   -0.07146 |\n",
      "|        36 | 21:39:27.5 |     7.2298 |         29 |         29 |    0.00000 |\n",
      "|        37 | 21:39:34.5 |     7.2476 |         28 |         27 |   -0.03637 |\n",
      "|        38 | 21:39:41.8 |     7.2745 |         31 |         29 |   -0.06669 |\n",
      "|        39 | 21:39:49.3 |     7.2971 |         30 |         33 |    0.09531 |\n",
      "|        40 | 21:39:57.1 |     7.3289 |         35 |         30 |   -0.15415 |\n",
      "|        41 | 21:40:05.1 |     7.3564 |         34 |         35 |    0.02899 |\n",
      "|        42 | 21:40:13.3 |     7.3887 |         33 |         39 |    0.16705 |\n",
      "|        43 | 21:40:21.6 |     7.4214 |         40 |         36 |   -0.10536 |\n",
      "|        44 | 21:40:30.0 |     7.4544 |         35 |         40 |    0.13353 |\n",
      "+-----------+------------+------------+------------+------------+------------+\n",
      "generator xafs_scan ['004ef3db'] (scan num: 528)\n"
     ]
    },
    {
     "name": "stderr",
     "output_type": "stream",
     "text": [
      "/home/prjemian/.local/lib/python3.8/site-packages/bluesky/callbacks/fitting.py:284: RuntimeWarning: divide by zero encountered in double_scalars\n",
      "  m = dy / dx\n"
     ]
    },
    {
     "data": {
      "text/plain": [
       "('004ef3db-ec9a-4f6d-9124-9ab589bf8559',)"
      ]
     },
     "execution_count": 10,
     "metadata": {},
     "output_type": "execute_result"
    },
    {
     "data": {
      "image/png": "[encoded data removed]",
      "text/plain": [
       "<Figure size 360x1080 with 3 Axes>"
      ]
     },
     "metadata": {
      "needs_background": "light"
     },
     "output_type": "display_data"
    }
   ],
   "source": [
    "RE(xafs_scan(7.1125))"
   ]
  }
 ],
 "metadata": {
  "interpreter": {
   "hash": "fa399ef8ed4fbc3b7fe63ebf4307839a170374bf77134d519fcb3b724ac0582b"
  },
  "kernelspec": {
   "display_name": "Python 3.8.10 64-bit ('bluesky_2021_2': conda)",
   "name": "python3"
  },
  "language_info": {
   "codemirror_mode": {
    "name": "ipython",
    "version": 3
   },
   "file_extension": ".py",
   "mimetype": "text/x-python",
   "name": "python",
   "nbconvert_exporter": "python",
   "pygments_lexer": "ipython3",
   "version": "3.8.10"
  },
  "orig_nbformat": 4
 },
 "nbformat": 4,
 "nbformat_minor": 2
}
