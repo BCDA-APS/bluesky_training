{
 "cells": [
  {
   "cell_type": "markdown",
   "source": [
    "# Demo of two-motor dynamic limit signal\n",
    "\n",
    "TODO: ensure this simulates and suspends correctly"
   ],
   "metadata": {}
  },
  {
   "cell_type": "markdown",
   "source": [
    "## Overview\n",
    "\n",
    "Some instrument designs need protection against accidental collision between moving parts during routine operations.  In such cases, each of the axes may be operating between its valid range but an interim (in-motion) state can pose the possibility of a collision.\n",
    "\n",
    "One such possible collision is when arms of a diffractometer (such as $\\theta$ and $2\\theta$, known here as `theta` and `ttheta`, respectively) collide causing damage to beam transport apparatus and consequential instrumental downtime.\n",
    "\n",
    "To prevent the collision *in this case*, the $2\\theta$ axis must be at least $\\delta$ degrees above the $\\theta$ axis.  Empirically, $\\delta$ of 3 degrees is sufficient protection.\n",
    "\n",
    "From a controls safety view, we provide an EPICS PV calculation that is zero when the move is not permitted and one when: ($2\\theta - \\theta) \\ge \\delta$.  We'll monitor that PV in Bluesky to add a [suspender](https://blueskyproject.io/bluesky/state-machine.html#automated-suspension) that can interrupt the scan (via the [`bluesky.RunEngine`](https://blueskyproject.io/bluesky/run_engine_api.html?highlight=runengine)) if the permit is removed.  When the RunEngine handles an interruption involving [*movable devices*](https://blueskyproject.io/bluesky/hardware.html?highlight=movables#settable-movable-device), it sends a stop to each of the movables involved.  Thus, when the dynamic limit permit is removed, both motors are stopped and the scan pauses, waiting for external interaction to clear the condition.\n",
    "\n",
    "<details>\n",
    "[Here](https://github.com/bluesky/bluesky/blob/4fab894bddbd4a563f28852ea3171b87140ae7b9/bluesky/run_engine.py#L1034-L1036) is where bluesky tells the motors to stop:\n",
    "\n",
    "```\n",
    "            if justification is not None:\n",
    "                print(\"Justification for this suspension:\\n%s\" % justification)\n",
    "            for current_run in self._run_bundlers.values():\n",
    "                current_run.record_interruption('resume')\n",
    "            # During suspend, all motors should be stopped. Call stop() on\n",
    "            # every object we ever set().\n",
    "            self._stop_movable_objects(success=True)\n",
    "```\n",
    "\n",
    "If the RunEngine is started while the dynamic limit permit calculation is zero, the RunEngine will pause immediately.  Here is an example:\n",
    "\n",
    "```\n",
    "In [21]: uid = RE(th_tth_scan([noisy, th_tth_permit], 8, 6, points=4, min_sep=3))                               \n",
    "At least one suspender has tripped. The plan will begin when all suspenders are ready. Justification:\n",
    "    1. Signal th_tth_permit is low\n",
    "\n",
    "Suspending... To get to the prompt, hit Ctrl-C twice to pause.\n",
    "```\n",
    "\n",
    "We might need to write our own suspender if none of the [provided suspenders](https://blueskyproject.io/bluesky/state-machine.html#built-in-suspenders) will do the job we want.  There is [an example](https://github.com/BCDA-APS/apstools/blob/master/apstools/suspenders.py#L25) of a custom suspender in [apstools](https://apstools.readthedocs.io).\n",
    "\n",
    "</details>\n",
    "\n",
    "## Summary\n",
    "\n",
    "Any time the motors are moved by the bluesky RunEngine, they will be stopped if the dynamic limit permit calculation goes to zero and the scan will pause.\n"
   ],
   "metadata": {}
  },
  {
   "cell_type": "markdown",
   "source": [
    "## EPICS setup"
   ],
   "metadata": {}
  },
  {
   "cell_type": "markdown",
   "source": [
    "We start with two motor axes defined in EPICS.  Here, we run the docker image [`prjemian/custom-synapps-6.2:latest`](https://hub.docker.com/r/prjemian/prjemian/custom-synapps-6.2:latest) to make the [EPICS IOC simulator run in a docker container](https://github.com/prjemian/epics-docker/tree/main/v1.1/n5_custom_synApps#example-use) with IOC prefix `gp:`.  These are motor PVs: `gp:m1` and `gp:m2` as shown.\n",
    "\n",
    "![EPICS motor GUI screens](resources/demo_dynamic_limits_motors.png)"
   ],
   "metadata": {}
  },
  {
   "cell_type": "markdown",
   "source": [
    "To compute a dynamic limit between the two motor axes, we use a *userCalc* (EPICS [swait]() record), `gp:userCalc1` with settings as shown.\n",
    "\n",
    "1. Set the description field to describe what this does.\n",
    "1. Monitor each motor's readback (`.RBV`) value.  The readback value is the motor record's *best* knowledge of the actual motor position.\n",
    "1. `gp:userCalc1.INAN` = `gp:m1.RBV`, the value will be in `A` once the motor moves.\n",
    "1. `gp:userCalc1.INBN` = `gp:m2.RBV`, the value will be in `B` once the motor moves.\n",
    "1. Change the calculation's `.SCAN` field from *Passive* (calculates only when requested) to *I/O Intr* (calculate when any input changes, based on each field's *TRIGGER?* setting).\n",
    "1. Enter the angle of minimum approach (3) into the `gp:userCalc1.C` field.  This will be the PV to change this number.\n",
    "1. Enter the permit calculation: `(B-A)>=C`\n",
    "\n",
    "The calculated result (in `gp:userCalc1.VAL`, `gp:userCalc1` for short) once either of the motors move.\n",
    "\n",
    "![motion permit calculation](resources/demo_dynamic_limits_permit_calc.png)"
   ],
   "metadata": {}
  },
  {
   "cell_type": "markdown",
   "source": [
    "To scan, we want a \"detector\".  Let's use another *userCalc* (`gp:userCalc2`) to simulate a noisy detector with a random number generator.  We'll update this detector only when either motor moves (same as with the permit calculation) setting its `.SCAN` to *I/O Intr*.  The setup is shown in the next screen view image:\n",
    "\n",
    "![noisy detector simulation](resources/demo_dynamic_limits_permit_noisy.png)"
   ],
   "metadata": {}
  },
  {
   "cell_type": "markdown",
   "source": [
    "## Bluesky setup"
   ],
   "metadata": {}
  },
  {
   "cell_type": "code",
   "execution_count": 1,
   "source": [
    "# get the instrument package onto the path\n",
    "import os, sys\n",
    "sys.path.append(os.path.abspath(os.path.join(\".\", \"bluesky\")))\n",
    "\n",
    "# we'll need these imports\n",
    "from instrument.collection import *\n",
    "from bluesky import plans as bp\n",
    "from bluesky import plan_stubs as bps\n",
    "from ophyd import Component, Device, EpicsMotor, EpicsSignal"
   ],
   "outputs": [
    {
     "output_type": "stream",
     "name": "stderr",
     "text": [
      "I Fri-20:54:31 - ############################################################ startup\n",
      "I Fri-20:54:31 - logging started\n",
      "I Fri-20:54:31 - logging level = 10\n",
      "I Fri-20:54:31 - /home/mintadmin/Documents/projects/BCDA-APS/bluesky_training/bluesky/instrument/collection.py\n",
      "I Fri-20:54:31 - /home/mintadmin/Documents/projects/BCDA-APS/bluesky_training/bluesky/instrument/mpl/notebook.py\n"
     ]
    },
    {
     "output_type": "stream",
     "name": "stdout",
     "text": [
      "Activating auto-logging. Current session state plus future input saved.\n",
      "Filename       : /home/mintadmin/Documents/projects/BCDA-APS/bluesky_training/.logs/ipython_console.log\n",
      "Mode           : rotate\n",
      "Output logging : True\n",
      "Raw input log  : False\n",
      "Timestamping   : True\n",
      "State          : active\n"
     ]
    },
    {
     "output_type": "stream",
     "name": "stderr",
     "text": [
      "I Fri-20:54:32 - #### Bluesky Framework ####\n",
      "I Fri-20:54:32 - /home/mintadmin/Documents/projects/BCDA-APS/bluesky_training/bluesky/instrument/framework/check_python.py\n",
      "I Fri-20:54:32 - /home/mintadmin/Documents/projects/BCDA-APS/bluesky_training/bluesky/instrument/framework/check_bluesky.py\n",
      "I Fri-20:54:35 - /home/mintadmin/Documents/projects/BCDA-APS/bluesky_training/bluesky/instrument/framework/initialize.py\n",
      "I Fri-20:54:37 - using databroker catalog 'training'\n",
      "I Fri-20:54:37 - /home/mintadmin/Documents/projects/BCDA-APS/bluesky_training/bluesky/instrument/framework/metadata.py\n",
      "I Fri-20:54:37 - #### Devices ####\n",
      "I Fri-20:54:37 - /home/mintadmin/Documents/projects/BCDA-APS/bluesky_training/bluesky/instrument/devices/area_detector.py\n",
      "I Fri-20:54:37 - /home/mintadmin/Documents/projects/BCDA-APS/bluesky_training/bluesky/instrument/devices/calculation_records.py\n",
      "I Fri-20:54:44 - Priming adsimdet_hdf1 ...\n",
      "I Fri-20:54:48 - Enabling adsimdet_image plugin ...\n",
      "I Fri-20:54:48 - /home/mintadmin/Documents/projects/BCDA-APS/bluesky_training/bluesky/instrument/devices/ioc_stats.py\n",
      "I Fri-20:54:48 - /home/mintadmin/Documents/projects/BCDA-APS/bluesky_training/bluesky/instrument/devices/motors.py\n",
      "I Fri-20:54:49 - /home/mintadmin/Documents/projects/BCDA-APS/bluesky_training/bluesky/instrument/devices/noisy_detector.py\n",
      "I Fri-20:54:49 - /home/mintadmin/Documents/projects/BCDA-APS/bluesky_training/bluesky/instrument/devices/scaler.py\n",
      "I Fri-20:54:50 - scaler1 has no channel names.  Assigning channel names.\n",
      "I Fri-20:54:51 - /home/mintadmin/Documents/projects/BCDA-APS/bluesky_training/bluesky/instrument/devices/shutter_simulator.py\n",
      "I Fri-20:54:51 - /home/mintadmin/Documents/projects/BCDA-APS/bluesky_training/bluesky/instrument/devices/temperature_signal.py\n",
      "D Fri-20:54:51 - temperature reached: True\n",
      "I Fri-20:54:51 - #### Callbacks ####\n",
      "I Fri-20:54:51 - /home/mintadmin/Documents/projects/BCDA-APS/bluesky_training/bluesky/instrument/callbacks/spec_data_file_writer.py\n",
      "I Fri-20:54:51 - writing to SPEC file: /home/mintadmin/Documents/projects/BCDA-APS/bluesky_training/20210723-205451.dat\n",
      "I Fri-20:54:52 -    >>>>   Using default SPEC file name   <<<<\n",
      "I Fri-20:54:52 -    file will be created when bluesky ends its next scan\n",
      "I Fri-20:54:52 -    to change SPEC file, use command:   newSpecFile('title')\n",
      "I Fri-20:54:52 - #### Plans ####\n",
      "I Fri-20:54:52 - /home/mintadmin/Documents/projects/BCDA-APS/bluesky_training/bluesky/instrument/plans/peak_finder_example.py\n",
      "I Fri-20:54:52 - #### Utilities ####\n",
      "I Fri-20:54:52 - /home/mintadmin/Documents/projects/BCDA-APS/bluesky_training/bluesky/instrument/utils/image_analysis.py\n",
      "I Fri-20:54:52 - #### Startup is complete. ####\n"
     ]
    }
   ],
   "metadata": {}
  },
  {
   "cell_type": "markdown",
   "source": [
    "The active progress bar is great to indicate an activity in-progress but it interefers with the display in the jupyter notebook.  Disable the progress bar"
   ],
   "metadata": {}
  },
  {
   "cell_type": "code",
   "execution_count": 2,
   "source": [
    "RE.waiting_hook = None"
   ],
   "outputs": [],
   "metadata": {}
  },
  {
   "cell_type": "markdown",
   "source": [
    "symbol | PV (here) | meaning\n",
    "--- | --- | ---\n",
    "`theta` | gp:m1 | (`th`) EPICS motor record\n",
    "`ttheta` | gp:m2 | (`tth`) EPICS motor record\n",
    "`th_tth_permit` | gp:userCalc1.VAL | result of EPICS calculation (swait record: 1=permit, 0=not), updates when either motor moves\n",
    "`th_tth_min` | gp:userCalc1.C | minimum permitted `tth-th`\n",
    "`noisy` | gp:userCalc2.VAL | detector (random number generator) - integer, updates when either motor moves\n",
    "`noisy_scale` | gp:userCalc2.C | scale factor for `noisy`"
   ],
   "metadata": {}
  },
  {
   "cell_type": "code",
   "execution_count": 3,
   "source": [
    "noisy = EpicsSignal(\"gp:userCalc2.VAL\", name=\"noisy\")\n",
    "noisy_scale = EpicsSignal(\"gp:userCalc2.C\", name=\"noisy_scale\")\n",
    "th_tth_min = EpicsSignal(\"gp:userCalc1.C\", name=\"th_tth_min\")\n",
    "th_tth_permit = EpicsSignal(\"gp:userCalc1.VAL\", name=\"th_tth_permit\")\n",
    "theta = EpicsMotor(\"gp:m1\", name=\"theta\", labels=[\"motors\",])\n",
    "ttheta = EpicsMotor(\"gp:m2\", name=\"ttheta\", labels=[\"motors\",])"
   ],
   "outputs": [],
   "metadata": {}
  },
  {
   "cell_type": "code",
   "execution_count": 4,
   "source": [
    "# for this demo, we want to reset the ttheta motor backlash to the default condition\n",
    "# when the IOC is first created.  We'll change this later in the demo.\n",
    "# We drop to PyEpics since backlash is not part of `ophyd.EpicsMotor`\n",
    "import epics\n",
    "tth_pv = ttheta.prefix\n",
    "epics.caget(f\"{tth_pv}.BDST\", 0)\n",
    "epics.caget(f\"{tth_pv}.BVEL\", 0)\n",
    "del tth_pv\n",
    "# We do this ONLY in the simulator.  Real instrument motors may need different settings!"
   ],
   "outputs": [],
   "metadata": {}
  },
  {
   "cell_type": "markdown",
   "source": [
    "## Custom Bluesky plan for $\\theta:2\\theta$ scan\n",
    "\n",
    "Define a plan for a coupled theta:2theta scan."
   ],
   "metadata": {}
  },
  {
   "cell_type": "code",
   "execution_count": 5,
   "source": [
    "def th_tth_scan(detectors, tth_start, tth_end, points=11, min_sep=None):\n",
    "    \"\"\"\n",
    "    run a coupled theta:2theta scan\n",
    "    \"\"\"\n",
    "    min_sep = abs(min_sep or 3)\n",
    "    old_sep = th_tth_min.get()\n",
    "\n",
    "    # check end points first!\n",
    "    if abs(tth_start/2) < min_sep:\n",
    "        print(\n",
    "            \"Starting point below allowed minimum:\"\n",
    "            f\" |{tth_start/2:.4f}| < |{min_sep:.4f}|\")\n",
    "        return\n",
    "    if abs(tth_end/2) < min_sep:\n",
    "        print(\n",
    "            \"Ending point below allowed minimum:\"\n",
    "            f\" |{tth_end/2:.4f}| < |{min_sep:.4f}|\")\n",
    "        return\n",
    "\n",
    "    yield from bps.mv(th_tth_min, min_sep)\n",
    "    yield from bp.scan(\n",
    "        detectors,\n",
    "        theta, tth_start/2, tth_end/2,\n",
    "        ttheta, tth_start, tth_end,\n",
    "        points\n",
    "    )\n",
    "\n",
    "    # reset the previous minimum\n",
    "    yield from bps.mv(th_tth_min, old_sep)"
   ],
   "outputs": [],
   "metadata": {}
  },
  {
   "cell_type": "markdown",
   "source": [
    "Try a scan that we know will fail the test for minimum separation."
   ],
   "metadata": {}
  },
  {
   "cell_type": "code",
   "execution_count": 6,
   "source": [
    "RE(th_tth_scan([noisy, th_tth_permit], 5, 25, points=11, min_sep=3))"
   ],
   "outputs": [
    {
     "output_type": "stream",
     "name": "stdout",
     "text": [
      "Starting point below allowed minimum: |2.5000| < |3.0000|\n"
     ]
    },
    {
     "output_type": "execute_result",
     "data": {
      "text/plain": [
       "()"
      ]
     },
     "metadata": {},
     "execution_count": 6
    }
   ],
   "metadata": {}
  },
  {
   "cell_type": "markdown",
   "source": [
    "Swap the two end points, that also fails."
   ],
   "metadata": {}
  },
  {
   "cell_type": "code",
   "execution_count": 7,
   "source": [
    "RE(th_tth_scan([noisy, th_tth_permit], 25, 5, points=11, min_sep=3))"
   ],
   "outputs": [
    {
     "output_type": "stream",
     "name": "stdout",
     "text": [
      "Ending point below allowed minimum: |2.5000| < |3.0000|\n"
     ]
    },
    {
     "output_type": "execute_result",
     "data": {
      "text/plain": [
       "()"
      ]
     },
     "metadata": {},
     "execution_count": 7
    }
   ],
   "metadata": {}
  },
  {
   "cell_type": "markdown",
   "source": [
    "This scan is successful."
   ],
   "metadata": {}
  },
  {
   "cell_type": "code",
   "execution_count": 8,
   "source": [
    "RE(th_tth_scan([noisy, th_tth_permit], 9, 6, points=11, min_sep=3))"
   ],
   "outputs": [
    {
     "output_type": "stream",
     "name": "stdout",
     "text": [
      "\n",
      "\n",
      "Transient Scan ID: 344     Time: 2021-07-23 20:55:57\n",
      "Persistent Unique Scan ID: '17ebe732-8cff-458e-8ebd-f7c5207b2e46'\n",
      "New stream: 'baseline'\n",
      "New stream: 'primary'\n",
      "+-----------+------------+------------+------------+------------+---------------+\n",
      "|   seq_num |       time |      theta |     ttheta |      noisy | th_tth_permit |\n",
      "+-----------+------------+------------+------------+------------+---------------+\n",
      "|         1 | 20:56:07.4 |    4.50000 |    9.00000 |    0.00000 |   31963.76375 |\n",
      "|         2 | 20:56:08.3 |    4.35000 |    8.70000 |    0.00000 |   34611.37532 |\n",
      "|         3 | 20:56:09.0 |    4.20000 |    8.40000 |    0.00000 |   35180.93343 |\n",
      "|         4 | 20:56:09.7 |    4.05000 |    8.10000 |    0.00000 |   37694.92329 |\n",
      "|         5 | 20:56:10.4 |    3.90000 |    7.80000 |    0.00000 |   39442.76050 |\n",
      "|         6 | 20:56:11.1 |    3.75000 |    7.50000 |    0.00000 |   42096.21325 |\n",
      "|         7 | 20:56:11.8 |    3.60000 |    7.20000 |    0.00000 |   44406.55239 |\n",
      "|         8 | 20:56:12.5 |    3.45000 |    6.90000 |    0.00000 |   45977.70913 |\n",
      "|         9 | 20:56:13.2 |    3.30000 |    6.60000 |    0.00000 |   48881.20002 |\n",
      "|        10 | 20:56:13.9 |    3.15000 |    6.30000 |    0.00000 |   51082.06178 |\n",
      "|        11 | 20:56:14.6 |    3.00000 |    6.00000 |    0.00000 |   53210.29909 |\n",
      "+-----------+------------+------------+------------+------------+---------------+\n",
      "generator scan ['17ebe732'] (scan num: 344)\n"
     ]
    },
    {
     "output_type": "stream",
     "name": "stderr",
     "text": [
      "/home/mintadmin/Apps/anaconda/envs/bluesky_2021_2/lib/python3.8/site-packages/bluesky/callbacks/fitting.py:165: RuntimeWarning: invalid value encountered in double_scalars\n",
      "  np.sum(input * grids[dir].astype(float), labels, index) / normalizer\n"
     ]
    },
    {
     "output_type": "execute_result",
     "data": {
      "text/plain": [
       "('17ebe732-8cff-458e-8ebd-f7c5207b2e46',)"
      ]
     },
     "metadata": {},
     "execution_count": 8
    },
    {
     "output_type": "display_data",
     "data": {
      "text/plain": [
       "<Figure size 360x720 with 2 Axes>"
      ],
      "image/png": "[encoded data removed]"
     },
     "metadata": {
      "needs_background": "light"
     }
    }
   ],
   "metadata": {}
  },
  {
   "cell_type": "markdown",
   "source": [
    "So far, have not registered a permit denied.  Have not encountered a condition where permit _would_ be denied."
   ],
   "metadata": {}
  },
  {
   "cell_type": "markdown",
   "source": [
    "## Try to provoke a permit denied\n",
    "\n",
    "Check the backlash parameters for 2theta motor.  Since they are not part of `ophyd.EpicsMotor`, we'll add them in a custom motor class from `EpicsMotor`."
   ],
   "metadata": {}
  },
  {
   "cell_type": "code",
   "execution_count": 10,
   "source": [
    "class MyMotor(EpicsMotor):\n",
    "    backlash = Component(EpicsSignal, \".BDST\")\n",
    "    backlash_velocity = Component(EpicsSignal, \".BVEL\")\n",
    "\n",
    "# remake the two motors with backlash support\n",
    "theta = MyMotor(\"gp:m1\", name=\"theta\", labels=[\"motors\",])\n",
    "ttheta = MyMotor(\"gp:m2\", name=\"ttheta\", labels=[\"motors\",])\n",
    "\n",
    "print(f\"theta backlash distance: {theta.backlash.get()} ({theta.motor_egu.get()})\")\n",
    "print(f\"theta backlash velocity: {theta.backlash_velocity.get()} ({theta.motor_egu.get()}/s)\")\n",
    "\n",
    "print(f\"ttheta backlash distance: {ttheta.backlash.get()} ({ttheta.motor_egu.get()})\")\n",
    "print(f\"ttheta backlash velocity: {ttheta.backlash_velocity.get()} ({ttheta.motor_egu.get()}/s)\")"
   ],
   "outputs": [
    {
     "output_type": "stream",
     "name": "stdout",
     "text": [
      "theta backlash distance: 0.0 (degrees)\n",
      "theta backlash velocity: 1.0 (degrees/s)\n",
      "ttheta backlash distance: 0.0 (degrees)\n",
      "ttheta backlash velocity: 1.0 (degrees/s)\n"
     ]
    }
   ],
   "metadata": {}
  },
  {
   "cell_type": "markdown",
   "source": [
    "Reduce (just) the backlash velocity and set a backlash distance for `ttheta`."
   ],
   "metadata": {}
  },
  {
   "cell_type": "code",
   "execution_count": 11,
   "source": [
    "%mov ttheta.backlash 0.5\n",
    "%mov ttheta.backlash_velocity 0.2\n",
    "print(f\"ttheta backlash distance: {ttheta.backlash.get()} ({ttheta.motor_egu.get()})\")\n",
    "print(f\"ttheta backlash velocity: {ttheta.backlash_velocity.get()} ({ttheta.motor_egu.get()}/s)\")"
   ],
   "outputs": [
    {
     "output_type": "stream",
     "name": "stdout",
     "text": [
      "ttheta backlash distance: 0.5 (degrees)\n",
      "ttheta backlash velocity: 0.2 (degrees/s)\n"
     ]
    }
   ],
   "metadata": {}
  },
  {
   "cell_type": "markdown",
   "source": [
    "Scan again over a shorter range."
   ],
   "metadata": {}
  },
  {
   "cell_type": "code",
   "execution_count": 12,
   "source": [
    "RE(th_tth_scan([noisy, th_tth_permit], 7, 6, points=4, min_sep=3))"
   ],
   "outputs": [
    {
     "output_type": "stream",
     "name": "stdout",
     "text": [
      "\n",
      "\n",
      "Transient Scan ID: 345     Time: 2021-07-23 20:57:50\n",
      "Persistent Unique Scan ID: '5761047b-ac05-428a-8b9c-6601b0aba2c0'\n",
      "New stream: 'baseline'\n",
      "New stream: 'primary'\n",
      "+-----------+------------+------------+------------+------------+---------------+\n",
      "|   seq_num |       time |      theta |     ttheta |      noisy | th_tth_permit |\n",
      "+-----------+------------+------------+------------+------------+---------------+\n",
      "|         1 | 20:57:55.4 |    3.50000 |    7.00000 |    0.00000 |   46002.45837 |\n",
      "|         2 | 20:57:59.6 |    3.33300 |    6.67000 |    0.00000 |   46875.28455 |\n",
      "|         3 | 20:58:03.7 |    3.16700 |    6.33000 |    0.00000 |   50480.82899 |\n",
      "|         4 | 20:58:07.9 |    3.00000 |    6.00000 |    0.00000 |   54033.33755 |\n",
      "+-----------+------------+------------+------------+------------+---------------+\n",
      "generator scan ['5761047b'] (scan num: 345)\n"
     ]
    },
    {
     "output_type": "execute_result",
     "data": {
      "text/plain": [
       "('5761047b-ac05-428a-8b9c-6601b0aba2c0',)"
      ]
     },
     "metadata": {},
     "execution_count": 12
    },
    {
     "output_type": "display_data",
     "data": {
      "text/plain": [
       "<Figure size 360x720 with 2 Axes>"
      ],
      "image/png": "[encoded data removed]"
     },
     "metadata": {
      "needs_background": "light"
     }
    }
   ],
   "metadata": {}
  },
  {
   "cell_type": "markdown",
   "source": [
    "**Still**, the permit signal never shows a zero value because it is recorded at the **end** of each step.\n",
    "\n",
    "Let's monitor the signal _during_ the scan."
   ],
   "metadata": {}
  },
  {
   "cell_type": "code",
   "execution_count": 13,
   "source": [
    "sd.monitors.append(th_tth_permit)"
   ],
   "outputs": [],
   "metadata": {}
  },
  {
   "cell_type": "markdown",
   "source": [
    "Repeat the scan, collecting the new info.  We'll inspect the monitors after the scan is done.  (The RunEngine returns a list of all the run uids created by the plan.  Capture this list.)"
   ],
   "metadata": {}
  },
  {
   "cell_type": "code",
   "execution_count": 14,
   "source": [
    "uids = RE(th_tth_scan([noisy, th_tth_permit], 8, 6, points=4, min_sep=3))"
   ],
   "outputs": [
    {
     "output_type": "stream",
     "name": "stdout",
     "text": [
      "\n",
      "\n",
      "Transient Scan ID: 346     Time: 2021-07-23 20:58:28\n",
      "Persistent Unique Scan ID: '14e4398d-42b5-40cf-b082-e2f7e4fd07fd'\n",
      "New stream: 'baseline'\n",
      "New stream: 'th_tth_permit_monitor'\n",
      "New stream: 'primary'\n",
      "+-----------+------------+------------+------------+------------+---------------+\n",
      "|   seq_num |       time |      theta |     ttheta |      noisy | th_tth_permit |\n",
      "+-----------+------------+------------+------------+------------+---------------+\n",
      "|         1 | 20:58:34.4 |    4.00000 |    8.00000 |    0.00000 |   37946.01827 |\n",
      "|         2 | 20:58:38.9 |    3.66700 |    7.33000 |    0.00000 |   43240.06625 |\n",
      "|         3 | 20:58:43.3 |    3.33300 |    6.67000 |    0.00000 |   47339.97568 |\n",
      "|         4 | 20:58:47.8 |    3.00000 |    6.00000 |    0.00000 |   52702.49932 |\n",
      "+-----------+------------+------------+------------+------------+---------------+\n",
      "generator scan ['14e4398d'] (scan num: 346)\n"
     ]
    },
    {
     "output_type": "display_data",
     "data": {
      "text/plain": [
       "<Figure size 360x360 with 1 Axes>"
      ],
      "image/png": "[encoded data removed]"
     },
     "metadata": {
      "needs_background": "light"
     }
    },
    {
     "output_type": "display_data",
     "data": {
      "text/plain": [
       "<Figure size 360x720 with 2 Axes>"
      ],
      "image/png": "[encoded data removed]"
     },
     "metadata": {
      "needs_background": "light"
     }
    }
   ],
   "metadata": {}
  },
  {
   "cell_type": "markdown",
   "source": [
    "Aha!  The first plot shows the monitored values.  It is clear the signal **does** go to 0 and then come back to 1.\n",
    "\n",
    "Look at the monitored data.  First get the run object from databroker (indexed by the most recent item, `-1`).  From the run object, return the stream of monitored data in a table.  Python prints this object if it is not assigned.  All this in one step."
   ],
   "metadata": {}
  },
  {
   "cell_type": "code",
   "execution_count": 22,
   "source": [
    "cat[-1].th_tth_permit_monitor.read()"
   ],
   "outputs": [
    {
     "output_type": "execute_result",
     "data": {
      "text/plain": [
       "<xarray.Dataset>\n",
       "Dimensions:        (time: 31)\n",
       "Coordinates:\n",
       "  * time           (time) float64 1.627e+09 1.627e+09 ... 1.627e+09 1.627e+09\n",
       "Data variables:\n",
       "    th_tth_permit  (time) float64 5.403e+04 5.389e+04 ... 5.403e+04 5.27e+04"
      ],
      "text/html": [
       "<div><svg style=\"position: absolute; width: 0; height: 0; overflow: hidden\">\n",
       "<defs>\n",
       "<symbol id=\"icon-database\" viewBox=\"0 0 32 32\">\n",
       "<path d=\"M16 0c-8.837 0-16 2.239-16 5v4c0 2.761 7.163 5 16 5s16-2.239 16-5v-4c0-2.761-7.163-5-16-5z\"></path>\n",
       "<path d=\"M16 17c-8.837 0-16-2.239-16-5v6c0 2.761 7.163 5 16 5s16-2.239 16-5v-6c0 2.761-7.163 5-16 5z\"></path>\n",
       "<path d=\"M16 26c-8.837 0-16-2.239-16-5v6c0 2.761 7.163 5 16 5s16-2.239 16-5v-6c0 2.761-7.163 5-16 5z\"></path>\n",
       "</symbol>\n",
       "<symbol id=\"icon-file-text2\" viewBox=\"0 0 32 32\">\n",
       "<path d=\"M28.681 7.159c-0.694-0.947-1.662-2.053-2.724-3.116s-2.169-2.030-3.116-2.724c-1.612-1.182-2.393-1.319-2.841-1.319h-15.5c-1.378 0-2.5 1.121-2.5 2.5v27c0 1.378 1.122 2.5 2.5 2.5h23c1.378 0 2.5-1.122 2.5-2.5v-19.5c0-0.448-0.137-1.23-1.319-2.841zM24.543 5.457c0.959 0.959 1.712 1.825 2.268 2.543h-4.811v-4.811c0.718 0.556 1.584 1.309 2.543 2.268zM28 29.5c0 0.271-0.229 0.5-0.5 0.5h-23c-0.271 0-0.5-0.229-0.5-0.5v-27c0-0.271 0.229-0.5 0.5-0.5 0 0 15.499-0 15.5 0v7c0 0.552 0.448 1 1 1h7v19.5z\"></path>\n",
       "<path d=\"M23 26h-14c-0.552 0-1-0.448-1-1s0.448-1 1-1h14c0.552 0 1 0.448 1 1s-0.448 1-1 1z\"></path>\n",
       "<path d=\"M23 22h-14c-0.552 0-1-0.448-1-1s0.448-1 1-1h14c0.552 0 1 0.448 1 1s-0.448 1-1 1z\"></path>\n",
       "<path d=\"M23 18h-14c-0.552 0-1-0.448-1-1s0.448-1 1-1h14c0.552 0 1 0.448 1 1s-0.448 1-1 1z\"></path>\n",
       "</symbol>\n",
       "</defs>\n",
       "</svg>\n",
       "<style>/* CSS stylesheet for displaying xarray objects in jupyterlab.\n",
       " *\n",
       " */\n",
       "\n",
       ":root {\n",
       "  --xr-font-color0: var(--jp-content-font-color0, rgba(0, 0, 0, 1));\n",
       "  --xr-font-color2: var(--jp-content-font-color2, rgba(0, 0, 0, 0.54));\n",
       "  --xr-font-color3: var(--jp-content-font-color3, rgba(0, 0, 0, 0.38));\n",
       "  --xr-border-color: var(--jp-border-color2, #e0e0e0);\n",
       "  --xr-disabled-color: var(--jp-layout-color3, #bdbdbd);\n",
       "  --xr-background-color: var(--jp-layout-color0, white);\n",
       "  --xr-background-color-row-even: var(--jp-layout-color1, white);\n",
       "  --xr-background-color-row-odd: var(--jp-layout-color2, #eeeeee);\n",
       "}\n",
       "\n",
       "html[theme=dark],\n",
       "body.vscode-dark {\n",
       "  --xr-font-color0: rgba(255, 255, 255, 1);\n",
       "  --xr-font-color2: rgba(255, 255, 255, 0.54);\n",
       "  --xr-font-color3: rgba(255, 255, 255, 0.38);\n",
       "  --xr-border-color: #1F1F1F;\n",
       "  --xr-disabled-color: #515151;\n",
       "  --xr-background-color: #111111;\n",
       "  --xr-background-color-row-even: #111111;\n",
       "  --xr-background-color-row-odd: #313131;\n",
       "}\n",
       "\n",
       ".xr-wrap {\n",
       "  display: block;\n",
       "  min-width: 300px;\n",
       "  max-width: 700px;\n",
       "}\n",
       "\n",
       ".xr-text-repr-fallback {\n",
       "  /* fallback to plain text repr when CSS is not injected (untrusted notebook) */\n",
       "  display: none;\n",
       "}\n",
       "\n",
       ".xr-header {\n",
       "  padding-top: 6px;\n",
       "  padding-bottom: 6px;\n",
       "  margin-bottom: 4px;\n",
       "  border-bottom: solid 1px var(--xr-border-color);\n",
       "}\n",
       "\n",
       ".xr-header > div,\n",
       ".xr-header > ul {\n",
       "  display: inline;\n",
       "  margin-top: 0;\n",
       "  margin-bottom: 0;\n",
       "}\n",
       "\n",
       ".xr-obj-type,\n",
       ".xr-array-name {\n",
       "  margin-left: 2px;\n",
       "  margin-right: 10px;\n",
       "}\n",
       "\n",
       ".xr-obj-type {\n",
       "  color: var(--xr-font-color2);\n",
       "}\n",
       "\n",
       ".xr-sections {\n",
       "  padding-left: 0 !important;\n",
       "  display: grid;\n",
       "  grid-template-columns: 150px auto auto 1fr 20px 20px;\n",
       "}\n",
       "\n",
       ".xr-section-item {\n",
       "  display: contents;\n",
       "}\n",
       "\n",
       ".xr-section-item input {\n",
       "  display: none;\n",
       "}\n",
       "\n",
       ".xr-section-item input + label {\n",
       "  color: var(--xr-disabled-color);\n",
       "}\n",
       "\n",
       ".xr-section-item input:enabled + label {\n",
       "  cursor: pointer;\n",
       "  color: var(--xr-font-color2);\n",
       "}\n",
       "\n",
       ".xr-section-item input:enabled + label:hover {\n",
       "  color: var(--xr-font-color0);\n",
       "}\n",
       "\n",
       ".xr-section-summary {\n",
       "  grid-column: 1;\n",
       "  color: var(--xr-font-color2);\n",
       "  font-weight: 500;\n",
       "}\n",
       "\n",
       ".xr-section-summary > span {\n",
       "  display: inline-block;\n",
       "  padding-left: 0.5em;\n",
       "}\n",
       "\n",
       ".xr-section-summary-in:disabled + label {\n",
       "  color: var(--xr-font-color2);\n",
       "}\n",
       "\n",
       ".xr-section-summary-in + label:before {\n",
       "  display: inline-block;\n",
       "  content: '►';\n",
       "  font-size: 11px;\n",
       "  width: 15px;\n",
       "  text-align: center;\n",
       "}\n",
       "\n",
       ".xr-section-summary-in:disabled + label:before {\n",
       "  color: var(--xr-disabled-color);\n",
       "}\n",
       "\n",
       ".xr-section-summary-in:checked + label:before {\n",
       "  content: '▼';\n",
       "}\n",
       "\n",
       ".xr-section-summary-in:checked + label > span {\n",
       "  display: none;\n",
       "}\n",
       "\n",
       ".xr-section-summary,\n",
       ".xr-section-inline-details {\n",
       "  padding-top: 4px;\n",
       "  padding-bottom: 4px;\n",
       "}\n",
       "\n",
       ".xr-section-inline-details {\n",
       "  grid-column: 2 / -1;\n",
       "}\n",
       "\n",
       ".xr-section-details {\n",
       "  display: none;\n",
       "  grid-column: 1 / -1;\n",
       "  margin-bottom: 5px;\n",
       "}\n",
       "\n",
       ".xr-section-summary-in:checked ~ .xr-section-details {\n",
       "  display: contents;\n",
       "}\n",
       "\n",
       ".xr-array-wrap {\n",
       "  grid-column: 1 / -1;\n",
       "  display: grid;\n",
       "  grid-template-columns: 20px auto;\n",
       "}\n",
       "\n",
       ".xr-array-wrap > label {\n",
       "  grid-column: 1;\n",
       "  vertical-align: top;\n",
       "}\n",
       "\n",
       ".xr-preview {\n",
       "  color: var(--xr-font-color3);\n",
       "}\n",
       "\n",
       ".xr-array-preview,\n",
       ".xr-array-data {\n",
       "  padding: 0 5px !important;\n",
       "  grid-column: 2;\n",
       "}\n",
       "\n",
       ".xr-array-data,\n",
       ".xr-array-in:checked ~ .xr-array-preview {\n",
       "  display: none;\n",
       "}\n",
       "\n",
       ".xr-array-in:checked ~ .xr-array-data,\n",
       ".xr-array-preview {\n",
       "  display: inline-block;\n",
       "}\n",
       "\n",
       ".xr-dim-list {\n",
       "  display: inline-block !important;\n",
       "  list-style: none;\n",
       "  padding: 0 !important;\n",
       "  margin: 0;\n",
       "}\n",
       "\n",
       ".xr-dim-list li {\n",
       "  display: inline-block;\n",
       "  padding: 0;\n",
       "  margin: 0;\n",
       "}\n",
       "\n",
       ".xr-dim-list:before {\n",
       "  content: '(';\n",
       "}\n",
       "\n",
       ".xr-dim-list:after {\n",
       "  content: ')';\n",
       "}\n",
       "\n",
       ".xr-dim-list li:not(:last-child):after {\n",
       "  content: ',';\n",
       "  padding-right: 5px;\n",
       "}\n",
       "\n",
       ".xr-has-index {\n",
       "  font-weight: bold;\n",
       "}\n",
       "\n",
       ".xr-var-list,\n",
       ".xr-var-item {\n",
       "  display: contents;\n",
       "}\n",
       "\n",
       ".xr-var-item > div,\n",
       ".xr-var-item label,\n",
       ".xr-var-item > .xr-var-name span {\n",
       "  background-color: var(--xr-background-color-row-even);\n",
       "  margin-bottom: 0;\n",
       "}\n",
       "\n",
       ".xr-var-item > .xr-var-name:hover span {\n",
       "  padding-right: 5px;\n",
       "}\n",
       "\n",
       ".xr-var-list > li:nth-child(odd) > div,\n",
       ".xr-var-list > li:nth-child(odd) > label,\n",
       ".xr-var-list > li:nth-child(odd) > .xr-var-name span {\n",
       "  background-color: var(--xr-background-color-row-odd);\n",
       "}\n",
       "\n",
       ".xr-var-name {\n",
       "  grid-column: 1;\n",
       "}\n",
       "\n",
       ".xr-var-dims {\n",
       "  grid-column: 2;\n",
       "}\n",
       "\n",
       ".xr-var-dtype {\n",
       "  grid-column: 3;\n",
       "  text-align: right;\n",
       "  color: var(--xr-font-color2);\n",
       "}\n",
       "\n",
       ".xr-var-preview {\n",
       "  grid-column: 4;\n",
       "}\n",
       "\n",
       ".xr-var-name,\n",
       ".xr-var-dims,\n",
       ".xr-var-dtype,\n",
       ".xr-preview,\n",
       ".xr-attrs dt {\n",
       "  white-space: nowrap;\n",
       "  overflow: hidden;\n",
       "  text-overflow: ellipsis;\n",
       "  padding-right: 10px;\n",
       "}\n",
       "\n",
       ".xr-var-name:hover,\n",
       ".xr-var-dims:hover,\n",
       ".xr-var-dtype:hover,\n",
       ".xr-attrs dt:hover {\n",
       "  overflow: visible;\n",
       "  width: auto;\n",
       "  z-index: 1;\n",
       "}\n",
       "\n",
       ".xr-var-attrs,\n",
       ".xr-var-data {\n",
       "  display: none;\n",
       "  background-color: var(--xr-background-color) !important;\n",
       "  padding-bottom: 5px !important;\n",
       "}\n",
       "\n",
       ".xr-var-attrs-in:checked ~ .xr-var-attrs,\n",
       ".xr-var-data-in:checked ~ .xr-var-data {\n",
       "  display: block;\n",
       "}\n",
       "\n",
       ".xr-var-data > table {\n",
       "  float: right;\n",
       "}\n",
       "\n",
       ".xr-var-name span,\n",
       ".xr-var-data,\n",
       ".xr-attrs {\n",
       "  padding-left: 25px !important;\n",
       "}\n",
       "\n",
       ".xr-attrs,\n",
       ".xr-var-attrs,\n",
       ".xr-var-data {\n",
       "  grid-column: 1 / -1;\n",
       "}\n",
       "\n",
       "dl.xr-attrs {\n",
       "  padding: 0;\n",
       "  margin: 0;\n",
       "  display: grid;\n",
       "  grid-template-columns: 125px auto;\n",
       "}\n",
       "\n",
       ".xr-attrs dt,\n",
       ".xr-attrs dd {\n",
       "  padding: 0;\n",
       "  margin: 0;\n",
       "  float: left;\n",
       "  padding-right: 10px;\n",
       "  width: auto;\n",
       "}\n",
       "\n",
       ".xr-attrs dt {\n",
       "  font-weight: normal;\n",
       "  grid-column: 1;\n",
       "}\n",
       "\n",
       ".xr-attrs dt:hover span {\n",
       "  display: inline-block;\n",
       "  background: var(--xr-background-color);\n",
       "  padding-right: 10px;\n",
       "}\n",
       "\n",
       ".xr-attrs dd {\n",
       "  grid-column: 2;\n",
       "  white-space: pre-wrap;\n",
       "  word-break: break-all;\n",
       "}\n",
       "\n",
       ".xr-icon-database,\n",
       ".xr-icon-file-text2 {\n",
       "  display: inline-block;\n",
       "  vertical-align: middle;\n",
       "  width: 1em;\n",
       "  height: 1.5em !important;\n",
       "  stroke-width: 0;\n",
       "  stroke: currentColor;\n",
       "  fill: currentColor;\n",
       "}\n",
       "</style><pre class='xr-text-repr-fallback'>&lt;xarray.Dataset&gt;\n",
       "Dimensions:        (time: 31)\n",
       "Coordinates:\n",
       "  * time           (time) float64 1.627e+09 1.627e+09 ... 1.627e+09 1.627e+09\n",
       "Data variables:\n",
       "    th_tth_permit  (time) float64 5.403e+04 5.389e+04 ... 5.403e+04 5.27e+04</pre><div class='xr-wrap' hidden><div class='xr-header'><div class='xr-obj-type'>xarray.Dataset</div></div><ul class='xr-sections'><li class='xr-section-item'><input id='section-a3504009-afb1-4b08-84f5-d58e9df45a8a' class='xr-section-summary-in' type='checkbox' disabled ><label for='section-a3504009-afb1-4b08-84f5-d58e9df45a8a' class='xr-section-summary'  title='Expand/collapse section'>Dimensions:</label><div class='xr-section-inline-details'><ul class='xr-dim-list'><li><span class='xr-has-index'>time</span>: 31</li></ul></div><div class='xr-section-details'></div></li><li class='xr-section-item'><input id='section-04119eaf-1416-434a-9062-d8c4b2f57706' class='xr-section-summary-in' type='checkbox'  checked><label for='section-04119eaf-1416-434a-9062-d8c4b2f57706' class='xr-section-summary' >Coordinates: <span>(1)</span></label><div class='xr-section-inline-details'></div><div class='xr-section-details'><ul class='xr-var-list'><li class='xr-var-item'><div class='xr-var-name'><span class='xr-has-index'>time</span></div><div class='xr-var-dims'>(time)</div><div class='xr-var-dtype'>float64</div><div class='xr-var-preview xr-preview'>1.627e+09 1.627e+09 ... 1.627e+09</div><input id='attrs-e4df3b6c-2b98-4778-acb7-deefc2203164' class='xr-var-attrs-in' type='checkbox' disabled><label for='attrs-e4df3b6c-2b98-4778-acb7-deefc2203164' title='Show/Hide attributes'><svg class='icon xr-icon-file-text2'><use xlink:href='#icon-file-text2'></use></svg></label><input id='data-73020313-4df7-4555-b93d-cbce533697ff' class='xr-var-data-in' type='checkbox'><label for='data-73020313-4df7-4555-b93d-cbce533697ff' title='Show/Hide data repr'><svg class='icon xr-icon-database'><use xlink:href='#icon-database'></use></svg></label><div class='xr-var-attrs'><dl class='xr-attrs'></dl></div><div class='xr-var-data'><pre>array([1.627092e+09, 1.627092e+09, 1.627092e+09, 1.627092e+09, 1.627092e+09,\n",
       "       1.627092e+09, 1.627092e+09, 1.627092e+09, 1.627092e+09, 1.627092e+09,\n",
       "       1.627092e+09, 1.627092e+09, 1.627092e+09, 1.627092e+09, 1.627092e+09,\n",
       "       1.627092e+09, 1.627092e+09, 1.627092e+09, 1.627092e+09, 1.627092e+09,\n",
       "       1.627092e+09, 1.627092e+09, 1.627092e+09, 1.627092e+09, 1.627092e+09,\n",
       "       1.627092e+09, 1.627092e+09, 1.627092e+09, 1.627092e+09, 1.627092e+09,\n",
       "       1.627092e+09])</pre></div></li></ul></div></li><li class='xr-section-item'><input id='section-964f11ee-ec3c-4fdb-9521-3ad6dcb2396a' class='xr-section-summary-in' type='checkbox'  checked><label for='section-964f11ee-ec3c-4fdb-9521-3ad6dcb2396a' class='xr-section-summary' >Data variables: <span>(1)</span></label><div class='xr-section-inline-details'></div><div class='xr-section-details'><ul class='xr-var-list'><li class='xr-var-item'><div class='xr-var-name'><span>th_tth_permit</span></div><div class='xr-var-dims'>(time)</div><div class='xr-var-dtype'>float64</div><div class='xr-var-preview xr-preview'>5.403e+04 5.389e+04 ... 5.27e+04</div><input id='attrs-2d6989ed-77ba-4f2f-bd45-e34c9c12c5b4' class='xr-var-attrs-in' type='checkbox' ><label for='attrs-2d6989ed-77ba-4f2f-bd45-e34c9c12c5b4' title='Show/Hide attributes'><svg class='icon xr-icon-file-text2'><use xlink:href='#icon-file-text2'></use></svg></label><input id='data-885ecc0c-21e3-4726-8be2-686c6266db32' class='xr-var-data-in' type='checkbox'><label for='data-885ecc0c-21e3-4726-8be2-686c6266db32' title='Show/Hide data repr'><svg class='icon xr-icon-database'><use xlink:href='#icon-database'></use></svg></label><div class='xr-var-attrs'><dl class='xr-attrs'><dt><span>object :</span></dt><dd>th_tth_permit</dd></dl></div><div class='xr-var-data'><pre>array([54033.33755144, 53894.25915837, 50672.61795127, 49722.35488693,\n",
       "       48399.85343665, 46546.3800378 , 44644.20653165, 43924.41550565,\n",
       "       42967.8397    , 40230.81285716, 39864.04914768, 38070.60154474,\n",
       "       37946.01826905, 37972.29104097, 40080.58301941, 40892.67671585,\n",
       "       42486.96399715, 43204.96779293, 43240.06624622, 42518.86116101,\n",
       "       43190.41525743, 44575.94242472, 47309.61060629, 48036.47171372,\n",
       "       47339.97568056, 48671.03737483, 49049.2891609 , 50926.1225862 ,\n",
       "       53130.5418933 , 54033.66263556, 52702.4993193 ])</pre></div></li></ul></div></li><li class='xr-section-item'><input id='section-b355d958-f851-4f79-bcf7-990d0a94a05c' class='xr-section-summary-in' type='checkbox' disabled ><label for='section-b355d958-f851-4f79-bcf7-990d0a94a05c' class='xr-section-summary'  title='Expand/collapse section'>Attributes: <span>(0)</span></label><div class='xr-section-inline-details'></div><div class='xr-section-details'><dl class='xr-attrs'></dl></div></li></ul></div></div>"
      ]
     },
     "metadata": {},
     "execution_count": 22
    }
   ],
   "metadata": {}
  },
  {
   "cell_type": "markdown",
   "source": [
    "We see some zero values (and then return to one) indicating occasional removal of the dynamic limit calculation permit.  Since we only saw these when we added a backlash correction, we understand these dynamic violations of the limits are exactly what we hoped to intercept."
   ],
   "metadata": {}
  },
  {
   "cell_type": "markdown",
   "source": [
    "## Create a suspender\n",
    "\n",
    "Block the RunEngine when the permit fails.\n",
    "\n",
    "N.B. Might need to consider the special case where the permit fails when first starting the run.  Why did that fail? (We'll answer that soon.)"
   ],
   "metadata": {}
  },
  {
   "cell_type": "markdown",
   "source": [
    "Following this example: https://blueskyproject.io/bluesky/state-machine.html#example-suspend-a-plan-if-the-beam-current-dips-low,\n",
    "we'll do similar but know that our signal is a boolean, that indicates *no permit* when low.  Suspends interrupt the `RE` as long as the signal is invalid and automatically resume if the signal becomes valid again.  Let's see how this works here."
   ],
   "metadata": {}
  },
  {
   "cell_type": "code",
   "execution_count": 23,
   "source": [
    "from bluesky.suspenders import SuspendBoolLow\n",
    "sus = SuspendBoolLow(th_tth_permit)\n",
    "RE.install_suspender(sus)"
   ],
   "outputs": [],
   "metadata": {}
  },
  {
   "cell_type": "markdown",
   "source": [
    "Repeat the scan."
   ],
   "metadata": {}
  },
  {
   "cell_type": "code",
   "execution_count": 24,
   "source": [
    "uids = RE(th_tth_scan([noisy, th_tth_permit], 8, 6, points=4, min_sep=3))"
   ],
   "outputs": [
    {
     "output_type": "stream",
     "name": "stdout",
     "text": [
      "\n",
      "\n",
      "Transient Scan ID: 347     Time: 2021-07-23 21:03:30\n",
      "Persistent Unique Scan ID: '8869043f-56fc-4b3b-ad75-bc024694e6d6'\n",
      "New stream: 'baseline'\n",
      "New stream: 'th_tth_permit_monitor'\n",
      "New stream: 'primary'\n",
      "+-----------+------------+------------+------------+------------+---------------+\n",
      "|   seq_num |       time |      theta |     ttheta |      noisy | th_tth_permit |\n",
      "+-----------+------------+------------+------------+------------+---------------+\n",
      "|         1 | 21:03:35.7 |    4.00000 |    8.00000 |    0.00000 |   37996.64509 |\n",
      "|         2 | 21:03:40.1 |    3.66700 |    7.33000 |    0.00000 |   42649.32391 |\n",
      "|         3 | 21:03:44.6 |    3.33300 |    6.67000 |    0.00000 |   46995.88551 |\n",
      "|         4 | 21:03:49.1 |    3.00000 |    6.00000 |    0.00000 |   54150.34088 |\n",
      "+-----------+------------+------------+------------+------------+---------------+\n",
      "generator scan ['8869043f'] (scan num: 347)\n"
     ]
    },
    {
     "output_type": "stream",
     "name": "stderr",
     "text": [
      "/home/mintadmin/Apps/anaconda/envs/bluesky_2021_2/lib/python3.8/site-packages/bluesky/callbacks/fitting.py:165: RuntimeWarning: invalid value encountered in double_scalars\n",
      "  np.sum(input * grids[dir].astype(float), labels, index) / normalizer\n"
     ]
    },
    {
     "output_type": "display_data",
     "data": {
      "text/plain": [
       "<Figure size 360x360 with 1 Axes>"
      ],
      "image/png": "[encoded data removed]"
     },
     "metadata": {
      "needs_background": "light"
     }
    },
    {
     "output_type": "display_data",
     "data": {
      "text/plain": [
       "<Figure size 360x720 with 2 Axes>"
      ],
      "image/png": "[encoded data removed]"
     },
     "metadata": {
      "needs_background": "light"
     }
    }
   ],
   "metadata": {
    "collapsed": true,
    "jupyter": {
     "outputs_hidden": true
    }
   }
  },
  {
   "cell_type": "markdown",
   "source": [
    "**Failed** before the scan started, when moving the motors to the start position, with th=3.05 and tth=6.05.  We saw this in the previous scans, as well.  This is suspiciously close to the minimum separation and is likely because we moved `theta` *before* moving `ttheta`. \n",
    "\n",
    "The signal does not automatically clear since it is only computed when the motor readback value changes.  We can clear this by moving the `ttheta` motor manually.  If we change our plan logic to move `ttheta` first, we might avoid this altogether.  Yet, we could encounter the problem, depending on where the motors are before the scan or the direction of scanning.\n",
    "\n",
    "Motion is not permitted due to our computation of dynamic limits.  We must move the motors so that the limit permit is restored before we can scan.  We can move the motor from the command line. (This works since this does not use the RunEngine so the suspender is not checked.)"
   ],
   "metadata": {}
  },
  {
   "cell_type": "code",
   "execution_count": 25,
   "source": [
    "%mov ttheta 6.1"
   ],
   "outputs": [
    {
     "output_type": "stream",
     "name": "stdout",
     "text": [
      "ttheta:  10%|██▌                       | 0.01/0.1 [00:00<00:01, 18.66s/degrees]\n",
      "ttheta:  20%|█████▏                    | 0.02/0.1 [00:00<00:01, 14.33s/degrees]\n",
      "ttheta:  40%|██████████▍               | 0.04/0.1 [00:00<00:00,  9.68s/degrees]\n",
      "ttheta:  60%|███████████████▌          | 0.06/0.1 [00:00<00:00,  8.11s/degrees]\n",
      "ttheta:  80%|████████████████████▊     | 0.08/0.1 [00:00<00:00,  7.34s/degrees]\n",
      "ttheta:  90%|███████████████████████▍  | 0.09/0.1 [00:00<00:00,  7.65s/degrees]\n",
      "ttheta: 100%|███████████████████████████| 0.1/0.1 [00:00<00:00,  7.88s/degrees]\n",
      "ttheta [In progress. No progress bar available.]                               \n",
      "\n"
     ]
    }
   ],
   "metadata": {
    "collapsed": true,
    "jupyter": {
     "outputs_hidden": true
    }
   }
  },
  {
   "cell_type": "code",
   "execution_count": 26,
   "source": [
    "uids = RE(th_tth_scan([noisy, th_tth_permit], 8, 6, points=4, min_sep=3))"
   ],
   "outputs": [
    {
     "output_type": "stream",
     "name": "stdout",
     "text": [
      "\n",
      "\n",
      "Transient Scan ID: 348     Time: 2021-07-23 21:04:04\n",
      "Persistent Unique Scan ID: 'e9498d10-8fb7-41c4-aaba-f5204db32761'\n",
      "New stream: 'baseline'\n",
      "New stream: 'th_tth_permit_monitor'\n",
      "New stream: 'primary'\n",
      "+-----------+------------+------------+------------+------------+---------------+\n",
      "|   seq_num |       time |      theta |     ttheta |      noisy | th_tth_permit |\n",
      "+-----------+------------+------------+------------+------------+---------------+\n",
      "|         1 | 21:04:10.0 |    4.00000 |    8.00000 |    0.00000 |   38949.83914 |\n",
      "|         2 | 21:04:14.5 |    3.66700 |    7.33000 |    0.00000 |   43461.79737 |\n",
      "|         3 | 21:04:18.9 |    3.33300 |    6.67000 |    0.00000 |   47545.93050 |\n",
      "|         4 | 21:04:23.5 |    3.00000 |    6.00000 |    0.00000 |   53464.77967 |\n",
      "+-----------+------------+------------+------------+------------+---------------+\n",
      "generator scan ['e9498d10'] (scan num: 348)\n"
     ]
    },
    {
     "output_type": "display_data",
     "data": {
      "text/plain": [
       "<Figure size 360x360 with 1 Axes>"
      ],
      "image/png": "[encoded data removed]"
     },
     "metadata": {
      "needs_background": "light"
     }
    },
    {
     "output_type": "display_data",
     "data": {
      "text/plain": [
       "<Figure size 360x720 with 2 Axes>"
      ],
      "image/png": "[encoded data removed]"
     },
     "metadata": {
      "needs_background": "light"
     }
    }
   ],
   "metadata": {
    "collapsed": true,
    "jupyter": {
     "outputs_hidden": true
    }
   }
  },
  {
   "cell_type": "markdown",
   "source": [
    "**Failed** during the scan when `theta=3.23` and `ttheta=6.28` and the command line is not responsive.  Move `ttheta` from the GUI in another window."
   ],
   "metadata": {}
  },
  {
   "cell_type": "markdown",
   "source": [
    "## Conclusion\n",
    "\n",
    "We can avoid an anticipated collision of instrument hardware by providing a RunEngine suspender tied to the value of an EPICS PV."
   ],
   "metadata": {}
  }
 ],
 "metadata": {
  "kernelspec": {
   "name": "python3",
   "display_name": "Python 3.8.10 64-bit ('bluesky_2021_2': conda)"
  },
  "language_info": {
   "codemirror_mode": {
    "name": "ipython",
    "version": 3
   },
   "file_extension": ".py",
   "mimetype": "text/x-python",
   "name": "python",
   "nbconvert_exporter": "python",
   "pygments_lexer": "ipython3",
   "version": "3.8.10"
  },
  "interpreter": {
   "hash": "60aa360bcd8d3c8cfbc4e726e53a455fcd5c15cdf29caaf63c7ca2494eba79e9"
  }
 },
 "nbformat": 4,
 "nbformat_minor": 4
}