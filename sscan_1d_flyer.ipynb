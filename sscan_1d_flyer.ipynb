{
 "cells": [
  {
   "cell_type": "markdown",
   "source": [
    "# sscan as 1D Flyer\n",
    "\n",
    "<font color=\"red\">NOTE</font>: This notebook is under construction!\n",
    "\n",
    "## 1D step scans using sscan record\n",
    "\n",
    "Use the [sscan record](https://epics.anl.gov/bcda/synApps/sscan/sscanRecord.html) as an [ophyd Flyer](http://nsls-ii.github.io/bluesky/async.html) for [bluesky](http://nsls-ii.github.io/bluesky) data acquisition.  Consider the case of [1D step scans using sscan record](https://epics.anl.gov/bcda/synApps/sscan/sscanRecord.html#HEADING_1-1).\n",
    "\n",
    "Suggest the _noisy v m1_ scan, done as 1-D step scan with sscan record.  noisy is the swait record calculating a peak based on m1 position."
   ],
   "metadata": {}
  },
  {
   "cell_type": "code",
   "execution_count": 1,
   "source": [
    "import os, pathlib, sys\n",
    "sys.path.append(os.path.abspath(os.path.join(pathlib.Path.home(), \"bluesky\")))\n",
    "from instrument.collection import *"
   ],
   "outputs": [
    {
     "output_type": "stream",
     "name": "stderr",
     "text": [
      "I Fri-10:45:27 - ############################################################ startup\n",
      "I Fri-10:45:27 - logging started\n",
      "I Fri-10:45:27 - logging level = 10\n",
      "I Fri-10:45:27 - /home/prjemian/bluesky/instrument/collection.py\n",
      "I Fri-10:45:27 - /home/prjemian/bluesky/instrument/mpl/notebook.py\n"
     ]
    },
    {
     "output_type": "stream",
     "name": "stdout",
     "text": [
      "Activating auto-logging. Current session state plus future input saved.\n",
      "Filename       : /home/prjemian/Documents/projects/BCDA-APS/bluesky_training/.logs/ipython_console.log\n",
      "Mode           : rotate\n",
      "Output logging : True\n",
      "Raw input log  : False\n",
      "Timestamping   : True\n",
      "State          : active\n"
     ]
    },
    {
     "output_type": "stream",
     "name": "stderr",
     "text": [
      "I Fri-10:45:27 - #### Bluesky Framework ####\n",
      "I Fri-10:45:27 - /home/prjemian/bluesky/instrument/framework/check_python.py\n",
      "I Fri-10:45:27 - /home/prjemian/bluesky/instrument/framework/check_bluesky.py\n",
      "I Fri-10:45:28 - /home/prjemian/bluesky/instrument/framework/initialize.py\n",
      "I Fri-10:45:28 - using databroker catalog 'training'\n",
      "I Fri-10:45:28 - /home/prjemian/bluesky/instrument/framework/metadata.py\n",
      "I Fri-10:45:29 - #### Devices ####\n",
      "I Fri-10:45:29 - /home/prjemian/bluesky/instrument/devices/area_detector.py\n",
      "I Fri-10:45:29 - /home/prjemian/bluesky/instrument/devices/calculation_records.py\n",
      "I Fri-10:45:31 - /home/prjemian/bluesky/instrument/devices/ioc_stats.py\n",
      "I Fri-10:45:31 - /home/prjemian/bluesky/instrument/devices/motors.py\n",
      "I Fri-10:45:31 - /home/prjemian/bluesky/instrument/devices/noisy_detector.py\n",
      "I Fri-10:45:31 - /home/prjemian/bluesky/instrument/devices/scaler.py\n",
      "I Fri-10:45:32 - /home/prjemian/bluesky/instrument/devices/shutter_simulator.py\n",
      "I Fri-10:45:32 - /home/prjemian/bluesky/instrument/devices/temperature_signal.py\n",
      "I Fri-10:45:32 - #### Callbacks ####\n",
      "I Fri-10:45:32 - /home/prjemian/bluesky/instrument/callbacks/spec_data_file_writer.py\n",
      "I Fri-10:45:32 - writing to SPEC file: /home/prjemian/Documents/projects/BCDA-APS/bluesky_training/20210903-104532.dat\n",
      "I Fri-10:45:32 -    >>>>   Using default SPEC file name   <<<<\n",
      "I Fri-10:45:32 -    file will be created when bluesky ends its next scan\n",
      "I Fri-10:45:32 -    to change SPEC file, use command:   newSpecFile('title')\n",
      "I Fri-10:45:32 - #### Plans ####\n",
      "I Fri-10:45:32 - /home/prjemian/bluesky/instrument/plans/peak_finder_example.py\n",
      "I Fri-10:45:32 - #### Utilities ####\n",
      "I Fri-10:45:32 - /home/prjemian/bluesky/instrument/utils/image_analysis.py\n",
      "I Fri-10:45:32 - #### Startup is complete. ####\n"
     ]
    }
   ],
   "metadata": {}
  },
  {
   "cell_type": "code",
   "execution_count": 2,
   "source": [
    "# add this notebook's name to the metadata\n",
    "\n",
    "RE.md[\"notebook\"] = \"sscan_1d_flyer\""
   ],
   "outputs": [],
   "metadata": {}
  },
  {
   "cell_type": "code",
   "execution_count": 3,
   "source": [
    "# define the IOC's prefix\n",
    "\n",
    "ioc = \"gp:\""
   ],
   "outputs": [],
   "metadata": {}
  },
  {
   "cell_type": "markdown",
   "source": [
    "## Bluesky step scan\n",
    "\n",
    "We are told that the `noisy` signal will show a peak when `m1` is moved over the range `[-1 .. +1]`.  Use *bluesky* to show that peak."
   ],
   "metadata": {}
  },
  {
   "cell_type": "code",
   "execution_count": null,
   "source": [
    "RE(bp.scan([noisy], m1, -1.1, 1.1, 21))"
   ],
   "outputs": [],
   "metadata": {}
  },
  {
   "cell_type": "code",
   "execution_count": null,
   "source": [
    "# from apstools.synApps import SaveData\n",
    "\n",
    "# save_data = SaveData(f\"{ioc}saveData_\", name=\"save_data\")"
   ],
   "outputs": [],
   "metadata": {}
  },
  {
   "cell_type": "markdown",
   "source": [
    "## sscan as Bluesky Flyer"
   ],
   "metadata": {}
  },
  {
   "cell_type": "code",
   "execution_count": 59,
   "source": [
    "from apstools.synApps import SscanRecord\n",
    "\n",
    "class MySscanRecord(SscanRecord):\n",
    "\n",
    "    def stage(self):\n",
    "        super().stage()\n",
    "        self.select_channels()\n",
    "\n",
    "    def unstage(self):\n",
    "        super().unstage()\n",
    "        self.select_channels()\n",
    "\n",
    "    def setup_staging_1D_step(self, start=-1.1, finish=1.1, npts=21, ddelay=0.01, pdelay=0):\n",
    "        # configure sscan record for 1D step scan: noisy v. m1\n",
    "        self.xref = dict(\n",
    "            positioners=[m1,],\n",
    "            raw_detectors=[noisy, ],\n",
    "            detectors=[noisy, m1.user_setpoint]  # include motor setpoints array\n",
    "        )\n",
    "        self.stage_sigs[\"number_points\"] = npts\n",
    "        self.stage_sigs[\"pasm\"] = \"PRIOR POS\"\n",
    "        self.stage_sigs[\"positioner_delay\"] = pdelay\n",
    "        for i, p in enumerate(self.xref[\"positioners\"]):\n",
    "            self.stage_sigs[f\"positioners.p{i+1}.setpoint_pv\"] = p.user_setpoint.pvname\n",
    "            self.stage_sigs[f\"positioners.p{i+1}.readback_pv\"] = p.user_readback.pvname\n",
    "            self.stage_sigs[f\"positioners.p{i+1}.start\"] = start\n",
    "            self.stage_sigs[f\"positioners.p{i+1}.end\"] = finish\n",
    "        self.stage_sigs[\"detector_delay\"] = ddelay\n",
    "        for i, d in enumerate(self.xref[\"detectors\"]):\n",
    "            self.stage_sigs[f\"detectors.d{i+1:02d}.input_pv\"] = d.pvname\n",
    "\n",
    "        # get timestamp of each point in the scan\n",
    "        # This is a sscan record trick that returns the time (s) since the scan started.\n",
    "        self.stage_sigs[f\"positioners.p4.readback_pv\"] = \"time\"\n",
    "\n",
    "        # self.hints = {'fields': ['scan_positioners_p1_readback_value', 'scan_detectors_d01_current_value']}\n",
    "\n",
    "scan = MySscanRecord(f\"{ioc}scan1\", name=\"scan\")\n",
    "\n",
    "# configure the sscan record for data collection:\n",
    "scan.wait_for_connection()  # sscan records have _many_ channels and fields\n",
    "scan.reset()  # clear out any previous configuration\n",
    "\n",
    "scan.setup_staging_1D_step()\n",
    "scan.select_channels()"
   ],
   "outputs": [],
   "metadata": {}
  },
  {
   "cell_type": "code",
   "execution_count": 60,
   "source": [
    "# TODO: if save data is to be used\n",
    "\n",
    "    # # configure saveData for data collection into MDA files:\n",
    "    # save_data.stage_sigs[\"file_system\"] = \"/tmp\"\n",
    "    # save_data.stage_sigs[\"subdirectory\"] = \"saveData\"\n",
    "    # save_data.stage_sigs[\"base_name\"] = \"sscan1_\"\n",
    "    # save_data.stage_sigs[\"next_scan_number\"] = 1\n",
    "    # save_data.stage_sigs[\"comment1\"] = \"testing\"\n",
    "    # save_data.stage_sigs[\"comment2\"] = \"configured and run from ophyd\""
   ],
   "outputs": [],
   "metadata": {}
  },
  {
   "cell_type": "code",
   "execution_count": 61,
   "source": [
    "# diagnostics\n",
    "# -----------\n",
    "scan.stage()\n",
    "# scan.unstage()\n",
    "# RE(bp.count([scan]))\n",
    "# scan.read()\n",
    "# scan.stage??\n",
    "# bp.fly??\n",
    "# scan.positioners.p1.array.read()\n",
    "# scan.detectors.d01.array.read()\n",
    "# scan.current_point.read()"
   ],
   "outputs": [],
   "metadata": {}
  },
  {
   "cell_type": "code",
   "execution_count": 17,
   "source": [
    "n = scan.current_point.get()\n",
    "obj = scan.detectors.d01.array\n",
    "data = obj.read()[obj.name]\n",
    "obj.name"
   ],
   "outputs": [
    {
     "output_type": "execute_result",
     "data": {
      "text/plain": [
       "'scan_detectors_d01_array'"
      ]
     },
     "metadata": {},
     "execution_count": 17
    }
   ],
   "metadata": {}
  },
  {
   "cell_type": "code",
   "execution_count": 84,
   "source": [
    "# TODO: develop method to get scan data from sscan and render dict for flyer.collect()\n",
    "\n",
    "n = scan.current_point.get()\n",
    "ts_last_point = scan.current_point.read()[scan.current_point.name][\"timestamp\"]\n",
    "\n",
    "def get_sscan_data(arr, n):\n",
    "    data = obj.read()[obj.name]\n",
    "    data[\"value\"] = list(data[\"value\"][:n])\n",
    "    return data\n",
    "\n",
    "# get the per-step time stamps from positioner 4\n",
    "time_stamps = scan.positioners.p4.array.get(use_monitor=False)[:n]\n",
    "time_stamps = ts_last_point + time_stamps - time_stamps.max()\n",
    "print(f\"{time_stamps = }\")\n",
    "\n",
    "results = dict(data={}, timestamps={}, time=None, seq_num=1)\n",
    "# This gets the full array for each item in one document\n",
    "# TODO: get the arrays and yield one row at a time with each timestamp\n",
    "for category, signals in scan.xref.items():\n",
    "    print(f\"{category = }\")\n",
    "    for i, signal in enumerate(signals):\n",
    "        if category == \"positioners\":\n",
    "            item = f\"p{i+1}\"\n",
    "        elif category == \"detectors\":\n",
    "            item = f\"d{i+1:02d}\"\n",
    "        else:\n",
    "            continue\n",
    "        obj = getattr(scan, f\"{category}.{item}.array\")\n",
    "        data = get_sscan_data(obj, n)\n",
    "        print(data)\n",
    "        print(\"-\"*10)\n",
    "        results[\"data\"][signal.name] = data[\"value\"]\n",
    "        results[\"timestamps\"][signal.name] = data[\"timestamp\"]\n",
    "        if results[\"time\"] is None:\n",
    "            results[\"time\"] = data[\"timestamp\"]\n",
    "        # print(f\"{i+1} {signal.name} {obj.name}\")\n",
    "\n",
    "print(results)"
   ],
   "outputs": [
    {
     "output_type": "stream",
     "name": "stdout",
     "text": [
      "time_stamps = array([1.63069337e+09, 1.63069337e+09, 1.63069337e+09, 1.63069337e+09,\n",
      "       1.63069337e+09, 1.63069337e+09, 1.63069337e+09, 1.63069337e+09,\n",
      "       1.63069337e+09, 1.63069338e+09, 1.63069338e+09, 1.63069338e+09,\n",
      "       1.63069338e+09, 1.63069338e+09, 1.63069338e+09, 1.63069338e+09,\n",
      "       1.63069338e+09, 1.63069338e+09, 1.63069338e+09, 1.63069338e+09,\n",
      "       1.63069338e+09])\n",
      "category = 'positioners'\n",
      "{'value': [-1.1, -0.99, -0.88, -0.77, -0.66, -0.55, -0.44, -0.33, -0.22, -0.11, 0.0, 0.11, 0.22, 0.33, 0.44, 0.55, 0.66, 0.77, 0.88, 0.99, 1.1], 'timestamp': 1630683862.61889}\n",
      "----------\n",
      "category = 'raw_detectors'\n",
      "category = 'detectors'\n",
      "{'value': [12.990758, 14.700112, 17.19369, 19.874727, 23.983894, 28.49756, 35.105396, 43.312847, 58.13608, 77.162796, 106.2024, 166.10352, 277.25006, 573.58344, 1748.3751, 23488.064, 6030.8057, 1047.845, 424.0055, 222.18307, 140.48398], 'timestamp': 1630693379.588263}\n",
      "----------\n",
      "{'value': [-1.1, -0.99, -0.88, -0.77, -0.66, -0.55, -0.44, -0.33, -0.22, -0.11, -1.3877788e-16, 0.11, 0.22, 0.33, 0.44, 0.55, 0.66, 0.77, 0.88, 0.99, 1.1], 'timestamp': 1630693379.588263}\n",
      "----------\n",
      "{'data': {'m1': [-1.1, -0.99, -0.88, -0.77, -0.66, -0.55, -0.44, -0.33, -0.22, -0.11, 0.0, 0.11, 0.22, 0.33, 0.44, 0.55, 0.66, 0.77, 0.88, 0.99, 1.1], 'noisy': [12.990758, 14.700112, 17.19369, 19.874727, 23.983894, 28.49756, 35.105396, 43.312847, 58.13608, 77.162796, 106.2024, 166.10352, 277.25006, 573.58344, 1748.3751, 23488.064, 6030.8057, 1047.845, 424.0055, 222.18307, 140.48398], 'm1_user_setpoint': [-1.1, -0.99, -0.88, -0.77, -0.66, -0.55, -0.44, -0.33, -0.22, -0.11, -1.3877788e-16, 0.11, 0.22, 0.33, 0.44, 0.55, 0.66, 0.77, 0.88, 0.99, 1.1]}, 'timestamps': {'m1': 1630683862.61889, 'noisy': 1630693379.588263, 'm1_user_setpoint': 1630693379.588263}, 'time': 1630683862.61889, 'seq_num': 1}\n"
     ]
    }
   ],
   "metadata": {}
  },
  {
   "cell_type": "code",
   "execution_count": 18,
   "source": [
    "data[\"value\"] = data[\"value\"][:n]\n",
    "data"
   ],
   "outputs": [
    {
     "output_type": "execute_result",
     "data": {
      "text/plain": [
       "{'value': array([1.2956302e+01, 1.4792508e+01, 1.6984699e+01, 2.0519512e+01,\n",
       "        2.3728724e+01, 2.8188606e+01, 3.5111115e+01, 4.3683010e+01,\n",
       "        5.7565067e+01, 7.5888741e+01, 1.0948700e+02, 1.6188750e+02,\n",
       "        2.7265936e+02, 5.6619434e+02, 1.7620000e+03, 2.3679143e+04,\n",
       "        5.9099243e+03, 1.0533992e+03, 4.2077960e+02, 2.2589296e+02,\n",
       "        1.3686008e+02], dtype=float32),\n",
       " 'timestamp': 1630684587.411814}"
      ]
     },
     "metadata": {},
     "execution_count": 18
    }
   ],
   "metadata": {}
  },
  {
   "cell_type": "code",
   "execution_count": null,
   "source": [
    "xref = dict(noisy)"
   ],
   "outputs": [],
   "metadata": {}
  },
  {
   "cell_type": "code",
   "execution_count": null,
   "source": [
    "from ophyd import DeviceStatus, Signal\n",
    "from ophyd.flyers import FlyerInterface"
   ],
   "outputs": [],
   "metadata": {}
  },
  {
   "cell_type": "code",
   "execution_count": null,
   "source": [
    "class SscanFlyer_1D_StepSimple(FlyerInterface):\n",
    "    \n",
    "    sscan = None\n",
    "    name = None\n",
    "    \n",
    "    def __init__(self, sscan, *args, name=None, **kwargs):\n",
    "        self.sscan = sscan\n",
    "        self._acquiring = False\n",
    "\n",
    "        if name is None:\n",
    "            raise ValueError(\"MUST provide `name` keyword argument.\")\n",
    "        self.name = name\n",
    "\n",
    "        super().__init__(*args, **kwargs)\n",
    "\n",
    "    def kickoff(self):\n",
    "        # scan.reset()\n",
    "\n",
    "        scan.setup_staging_1D_step()\n",
    "\n",
    "        # set(), do not `yield`, in kickoff()\n",
    "        self.sscan.execute_scan.set(1)  # start the sscan record\n",
    "        self._acquiring = True\n",
    "\n",
    "        status = DeviceStatus(self)\n",
    "        status.set_finished()  # means that kickoff was successful\n",
    "        return status\n",
    "\n",
    "    def complete(self):\n",
    "        \"\"\"Wait for sscan to complete.\"\"\"\n",
    "        if not self._acquiring:\n",
    "            raise RuntimeError(\"Not acquiring\")\n",
    "\n",
    "        st = DeviceStatus(self)\n",
    "        cb_started = False\n",
    "\n",
    "        def execute_scan_cb(value, timestamp, **kwargs):\n",
    "            value = int(value)\n",
    "            if cb_started and value == 0:\n",
    "                scan.unstage()\n",
    "                self._acquiring = False\n",
    "                self.sscan.execute_scan.unsubscribe(execute_scan_cb)\n",
    "                if not st.done:\n",
    "                    logging.info(\"Setting %s execute status to `done`.\", self.sscan.name)\n",
    "                    st.set_finished()\n",
    "\n",
    "        self.sscan.execute_scan.subscribe(execute_scan_cb)\n",
    "        # self.sscan.execute_scan.set(1)\n",
    "        cb_started = True\n",
    "        return st\n",
    "\n",
    "    def describe_collect(self):\n",
    "        # http://nsls-ii.github.io/ophyd/generated/ophyd.flyers.FlyerInterface.describe_collect.html\n",
    "        # Provide schema & meta-data from collect()\n",
    "        dd = {}\n",
    "        dd.update(m1.describe())\n",
    "        dd.update(noisy.describe())\n",
    "        return {self.name: dd}\n",
    "        # return {\n",
    "        #     \"primary\": {\n",
    "        #         m1.name: {\n",
    "        #             \"dims\": [],\n",
    "        #             \"dtype\": \"number\",\n",
    "        #             \"shape\": [],\n",
    "        #             \"source\": \"\",\n",
    "        #         },\n",
    "        #         noisy.name: {\n",
    "        #             \"dims\": [],\n",
    "        #             \"dtype\": \"number\",\n",
    "        #             \"shape\": [],\n",
    "        #             \"source\": \"\",\n",
    "        #         },\n",
    "        #         # \"time\": {\n",
    "        #         #     \"dims\": [],\n",
    "        #         #     \"dtype\": \"number\",\n",
    "        #         #     \"shape\": [],\n",
    "        #         #     \"source\": \"\",\n",
    "        #         # },\n",
    "        #     },\n",
    "        # }\n",
    "\n",
    "    def collect(self):\n",
    "        \"\"\"Retrieve all collected data (after complete()).\"\"\"\n",
    "        if self._acquiring:\n",
    "            raise RuntimeError(\"Acquisition still in progress. Call complete() first.\")\n",
    "        # http://nsls-ii.github.io/ophyd/generated/ophyd.flyers.FlyerInterface.collect.html\n",
    "        # Retrieve data from the flyer as proto-events\n",
    "\n",
    "        ts = time.time()\n",
    "        p1 = [0, 1]\n",
    "        d1 = [1, 0]\n",
    "        yield {\n",
    "            \"data\": {m1.name: p1, noisy.name: d1, },\n",
    "            'timestamps': {m1.name: ts, noisy.name: ts, },\n",
    "            'time': ts\n",
    "        }\n",
    "\n",
    "        # ts = time.time()\n",
    "        # n = self.sscan.current_point.get()\n",
    "        # p1 = scan.positioners.p1.array.get(use_monitor=False, as_numpy=True)[:n]\n",
    "        # d1 = scan.detectors.d01.array.get(use_monitor=False, as_numpy=True)[:n]\n",
    "\n",
    "        # yield {\n",
    "        #     'data': {\n",
    "        #         m1.name: p1,\n",
    "        #         noisy.name: d1,\n",
    "        #     },\n",
    "        #     'timestamps': {\n",
    "        #         m1.name: ts,\n",
    "        #         noisy.name: ts,\n",
    "        #     },\n",
    "        #     'time': ts\n",
    "        # }"
   ],
   "outputs": [],
   "metadata": {}
  },
  {
   "cell_type": "code",
   "execution_count": null,
   "source": [
    "scan_flyer = SscanFlyer_1D_StepSimple(scan, name=\"scan_flyer\")"
   ],
   "outputs": [],
   "metadata": {}
  },
  {
   "cell_type": "code",
   "execution_count": null,
   "source": [
    "RE(bp.fly([scan_flyer]))"
   ],
   "outputs": [],
   "metadata": {}
  },
  {
   "cell_type": "markdown",
   "source": [
    "## MockFlyer with motor and pseudo-detector\n",
    "\n",
    "ophyd's *MockFlyer* example : https://github.com/NSLS-II/ophyd/blob/master/ophyd/sim.py#L546"
   ],
   "metadata": {}
  },
  {
   "cell_type": "code",
   "execution_count": null,
   "source": [
    "import asyncio\n",
    "from collections import deque\n",
    "from collections import OrderedDict\n",
    "from ophyd import DeviceStatus\n",
    "import time\n",
    "\n",
    "class MockFlyer:\n",
    "    \"\"\"\n",
    "    Class for mocking a flyscan API implemented with stepper motors.\n",
    "    \"\"\"\n",
    "\n",
    "    def __init__(self, name, detector, motor, start, stop, num, loop=None):\n",
    "        self.name = name\n",
    "        self.parent = None\n",
    "        self._mot = motor\n",
    "        self._detector = detector\n",
    "        self._steps = np.linspace(start, stop, num)\n",
    "        self._data = deque()\n",
    "        self._completion_status = None\n",
    "        if loop is None:\n",
    "            loop = asyncio.get_event_loop()\n",
    "        self.loop = loop\n",
    "\n",
    "    def __setstate__(self, val):\n",
    "        name, detector, motor, steps = val\n",
    "        self.name = name\n",
    "        self.parent = None\n",
    "        self._mot = motor\n",
    "        self._detector = detector\n",
    "        self._steps = steps\n",
    "        self._completion_status = None\n",
    "        self.loop = asyncio.get_event_loop()\n",
    "\n",
    "    def __getstate__(self):\n",
    "        return (self.name, self._detector, self._mot, self._steps)\n",
    "\n",
    "    def read_configuration(self):\n",
    "        return OrderedDict()\n",
    "\n",
    "    def describe_configuration(self):\n",
    "        return OrderedDict()\n",
    "\n",
    "    def describe_collect(self):\n",
    "        dd = dict()\n",
    "        dd.update(self._mot.describe())\n",
    "        dd.update(self._detector.describe())\n",
    "        return {'stream_name': dd}\n",
    "\n",
    "    def complete(self):\n",
    "        if self._completion_status is None:\n",
    "            raise RuntimeError(\"No collection in progress\")\n",
    "        return self._completion_status\n",
    "\n",
    "    def kickoff(self):\n",
    "        if self._completion_status is not None:\n",
    "            raise RuntimeError(\"Already kicked off.\")\n",
    "        self._data = deque()\n",
    "\n",
    "        self._future = self.loop.run_in_executor(None, self._scan)\n",
    "        st = DeviceStatus(device=self)\n",
    "        self._completion_status = st\n",
    "        self._future.add_done_callback(lambda x: st._finished())\n",
    "        return st\n",
    "\n",
    "    def collect(self):\n",
    "        if self._completion_status is None or not self._completion_status.done:\n",
    "            raise RuntimeError(\"No reading until done!\")\n",
    "        self._completion_status = None\n",
    "\n",
    "        yield from self._data\n",
    "\n",
    "    def _scan(self):\n",
    "        \"This will be run on a separate thread, started in self.kickoff()\"\n",
    "        time.sleep(.1)\n",
    "        for p in self._steps:\n",
    "            stat = self._mot.set(p)\n",
    "            while True:\n",
    "                if stat.done:\n",
    "                    break\n",
    "                time.sleep(0.01)\n",
    "            stat = self._detector.trigger()\n",
    "            while True:\n",
    "                if stat.done:\n",
    "                    break\n",
    "                time.sleep(0.01)\n",
    "\n",
    "            event = dict()\n",
    "            event['time'] = time.time()\n",
    "            event['data'] = dict()\n",
    "            event['timestamps'] = dict()\n",
    "            for r in [self._mot, self._detector]:\n",
    "                d = r.read()\n",
    "                for k, v in d.items():\n",
    "                    event['data'][k] = v['value']\n",
    "                    event['timestamps'][k] = v['timestamp']\n",
    "            self._data.append(event)\n",
    "\n",
    "    def stop(self, *, success=False):\n",
    "        pass\n"
   ],
   "outputs": [],
   "metadata": {}
  },
  {
   "cell_type": "code",
   "execution_count": null,
   "source": [
    "mflyer = MockFlyer('mflyer', noisy, m1, -1.1, 1.2, 29)"
   ],
   "outputs": [],
   "metadata": {}
  },
  {
   "cell_type": "code",
   "execution_count": null,
   "source": [
    "RE(bp.scan([noisy], m1, -1.1, 1.1, 11))"
   ],
   "outputs": [],
   "metadata": {}
  },
  {
   "cell_type": "code",
   "execution_count": null,
   "source": [
    "run = cat[-1]\n",
    "run.primary.read()"
   ],
   "outputs": [],
   "metadata": {}
  }
 ],
 "metadata": {
  "interpreter": {
   "hash": "fa399ef8ed4fbc3b7fe63ebf4307839a170374bf77134d519fcb3b724ac0582b"
  },
  "kernelspec": {
   "name": "python3",
   "display_name": "Python 3.8.10 64-bit ('bluesky_2021_2': conda)"
  },
  "language_info": {
   "codemirror_mode": {
    "name": "ipython",
    "version": 3
   },
   "file_extension": ".py",
   "mimetype": "text/x-python",
   "name": "python",
   "nbconvert_exporter": "python",
   "pygments_lexer": "ipython3",
   "version": "3.8.10"
  }
 },
 "nbformat": 4,
 "nbformat_minor": 4
}