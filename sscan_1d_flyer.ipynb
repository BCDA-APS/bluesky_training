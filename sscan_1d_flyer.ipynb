{
 "cells": [
  {
   "cell_type": "markdown",
   "metadata": {},
   "source": [
    "# sscan as 1D Flyer\n",
    "\n",
    "In this notebook, the EPICS *sscan* record is demonstrated as a bluesky *Flyer*.\n",
    "\n",
    "<font color=\"red\">NOTE</font>: This notebook is under construction!\n",
    "\n",
    "## Overview\n",
    "\n",
    "The [bluesky](https://blueskyproject.io/bluesky) package has support for data acquisition using an external data collector.  The design prototype collector is a _fly_ scan controller, operating outside the _bluesky_ process, which performs its readings of detector(s) during continuous (_on-the-fly_) motion of one or more positioners.  Triggering of the detectors must also be part of the external controller.  The description is that this type of [asynchronous acquisition](http://nsls-ii.github.io/bluesky/async.html#asynchronous-acquisition) requires fine-grained timing beyond the capabilities of *bluesky*.\n",
    "\n",
    "> Flying means: “Let the hardware take control, cache data externally, and then transfer all the data to the RunEngine at the end.” This is essential when the data acquisition rates are faster than the RunEngine or Python can go.\n",
    "\n",
    "_Any_ external data acquisition controller or data logger is suitable for use as a bluesky *Flyer*.  It is not necessary for the external controller to conduct its acquisition at high rates.\n",
    "\n",
    "The EPICS [sscan record](https://epics.anl.gov/bcda/synApps/sscan/sscanRecord.html) is an example of an external data acquisition controller.  It supports various scan types (step, list, continuous) with flexible configuration for up to four positioners and dozens of detectors, as well as scans of up to four dimensions.  The *sscan* record is used by many APS beam lines for routine data collection.\n",
    "\n",
    "### Documentation links\n",
    "\n",
    "The documentation for *Flyer*s is distributed across the *bluesky* and *ophyd* packages:\n",
    "\n",
    "- http://nsls-ii.github.io/bluesky/plans.html#summary\n",
    "- http://nsls-ii.github.io/bluesky/generated/bluesky.plans.fly.html#bluesky.plans.fly\n",
    "- http://nsls-ii.github.io/bluesky/plans.html#asynchronous-plans-fly-scans-and-monitoring\n",
    "- http://nsls-ii.github.io/bluesky/async.html\n",
    "- http://nsls-ii.github.io/ophyd/generated/ophyd.flyers.html\n",
    "- http://nsls-ii.github.io/ophyd/architecture.html#fly-able-interface\n",
    "\n",
    "## 1D step scans using sscan record\n",
    "\n",
    "Use the [sscan record](https://epics.anl.gov/bcda/synApps/sscan/sscanRecord.html) as an [ophyd Flyer](http://nsls-ii.github.io/bluesky/async.html) for data acquisition with the [bluesky](http://nsls-ii.github.io/bluesky) [fly](http://nsls-ii.github.io/bluesky/generated/bluesky.plans.fly.html#bluesky.plans.fly) plan.  Consider the case of [1D step scans using sscan record](https://epics.anl.gov/bcda/synApps/sscan/sscanRecord.html#HEADING_1-1).\n",
    "\n",
    "Suggest the _noisy *v* m1_ scan, done as 1-D step scan with `sscan` record.  `noisy` is the *swait* record calculating a Lorentzian peak based on `m1` position.\n",
    "\n",
    "We'll build a custom Python class, from `apstools.synApps.SscanRecord` (a subclass of `ophyd.Device`), that support the EPICS *sscan* record and add the `ophyd.FlyerInterface` to that class.  A class method will configure the Device staging to setup the sscan record for a 1-D step scan using the `m1` positioner and the `noisy` detector.  `noisy` is implemented as an EPICS [*swait*](https://htmlpreview.github.io/?https://raw.githubusercontent.com/epics-modules/calc/R3-6-1/documentation/swaitRecord.html) record configured to recalculate a Lorentzian profile when the `m1` readback value changes.  The center, width, and height are set randomly as this bluesky instrument package is started.  The center of the simulated peak will be defined somewhere between +/- 1."
   ]
  },
  {
   "cell_type": "markdown",
   "metadata": {},
   "source": [
    "### Load the `instrument` package"
   ]
  },
  {
   "cell_type": "code",
   "execution_count": 1,
   "metadata": {},
   "outputs": [
    {
     "name": "stderr",
     "output_type": "stream",
     "text": [
      "I Sun-18:10:32 - ############################################################ startup\n",
      "I Sun-18:10:32 - logging started\n",
      "I Sun-18:10:32 - logging level = 10\n",
      "I Sun-18:10:32 - /home/prjemian/bluesky/instrument/collection.py\n",
      "I Sun-18:10:32 - /home/prjemian/bluesky/instrument/mpl/notebook.py\n",
      "I Sun-18:10:32 - #### Bluesky Framework ####\n",
      "I Sun-18:10:32 - /home/prjemian/bluesky/instrument/framework/check_python.py\n",
      "I Sun-18:10:32 - /home/prjemian/bluesky/instrument/framework/check_bluesky.py\n"
     ]
    },
    {
     "name": "stdout",
     "output_type": "stream",
     "text": [
      "Activating auto-logging. Current session state plus future input saved.\n",
      "Filename       : /home/prjemian/Documents/projects/BCDA-APS/bluesky_training/.logs/ipython_console.log\n",
      "Mode           : rotate\n",
      "Output logging : True\n",
      "Raw input log  : False\n",
      "Timestamping   : True\n",
      "State          : active\n"
     ]
    },
    {
     "name": "stderr",
     "output_type": "stream",
     "text": [
      "I Sun-18:10:33 - /home/prjemian/bluesky/instrument/framework/initialize.py\n",
      "I Sun-18:10:34 - using databroker catalog 'training'\n",
      "I Sun-18:10:34 - /home/prjemian/bluesky/instrument/framework/metadata.py\n",
      "I Sun-18:10:34 - #### Devices ####\n",
      "I Sun-18:10:34 - /home/prjemian/bluesky/instrument/devices/area_detector.py\n",
      "I Sun-18:10:34 - /home/prjemian/bluesky/instrument/devices/calculation_records.py\n",
      "I Sun-18:10:36 - /home/prjemian/bluesky/instrument/devices/ioc_stats.py\n",
      "I Sun-18:10:36 - /home/prjemian/bluesky/instrument/devices/motors.py\n",
      "I Sun-18:10:36 - /home/prjemian/bluesky/instrument/devices/noisy_detector.py\n",
      "I Sun-18:10:36 - /home/prjemian/bluesky/instrument/devices/scaler.py\n",
      "I Sun-18:10:37 - /home/prjemian/bluesky/instrument/devices/shutter_simulator.py\n",
      "I Sun-18:10:37 - /home/prjemian/bluesky/instrument/devices/temperature_signal.py\n",
      "I Sun-18:10:37 - #### Callbacks ####\n",
      "I Sun-18:10:37 - /home/prjemian/bluesky/instrument/callbacks/spec_data_file_writer.py\n",
      "I Sun-18:10:37 - writing to SPEC file: /home/prjemian/Documents/projects/BCDA-APS/bluesky_training/20210905-181037.dat\n",
      "I Sun-18:10:37 -    >>>>   Using default SPEC file name   <<<<\n",
      "I Sun-18:10:37 -    file will be created when bluesky ends its next scan\n",
      "I Sun-18:10:37 -    to change SPEC file, use command:   newSpecFile('title')\n",
      "I Sun-18:10:37 - #### Plans ####\n",
      "I Sun-18:10:37 - /home/prjemian/bluesky/instrument/plans/peak_finder_example.py\n",
      "I Sun-18:10:37 - #### Utilities ####\n",
      "I Sun-18:10:37 - /home/prjemian/bluesky/instrument/utils/image_analysis.py\n",
      "I Sun-18:10:38 - #### Startup is complete. ####\n"
     ]
    }
   ],
   "source": [
    "%matplotlib widget\n",
    "\n",
    "import os, pathlib, sys\n",
    "sys.path.append(os.path.abspath(os.path.join(pathlib.Path.home(), \"bluesky\")))\n",
    "from instrument.collection import *"
   ]
  },
  {
   "cell_type": "markdown",
   "metadata": {},
   "source": [
    "Add this notebook's name to the RunEngine metadata and define the IOC's prefix."
   ]
  },
  {
   "cell_type": "code",
   "execution_count": 2,
   "metadata": {},
   "outputs": [],
   "source": [
    "RE.md[\"notebook\"] = \"sscan_1d_flyer\"\n",
    "ioc = \"gp:\""
   ]
  },
  {
   "cell_type": "markdown",
   "metadata": {},
   "source": [
    "## Bluesky step scan\n",
    "\n",
    "We are told that the `noisy` signal will show a peak when `m1` is moved over the range `[-1 .. +1]`.  Use *bluesky* to show that peak."
   ]
  },
  {
   "cell_type": "code",
   "execution_count": 3,
   "metadata": {},
   "outputs": [],
   "source": [
    "if False:\n",
    "    # show a pre-assembled bluesky.plans.scan() acquisition\n",
    "    RE(bp.scan([noisy], m1, -1.1, 1.1, 21, md=dict(purpose=\"demo bluesky scan plan\")))"
   ]
  },
  {
   "cell_type": "markdown",
   "metadata": {},
   "source": [
    "## sscan as Bluesky Flyer\n",
    "\n",
    "Load some structures to be used.\n",
    "\n",
    "The *sscan* record will record the time stamp for each point (relative to the scan's starting time) if the text `time` or `TIME` is used as the readback of one of the positioners.  This reduces the number of possible positioners to three.\n",
    "\n",
    "To get the positioner setpoint value for each point, add the motor's readback PV as an additional detector."
   ]
  },
  {
   "cell_type": "code",
   "execution_count": 4,
   "metadata": {},
   "outputs": [],
   "source": [
    "from ophyd import DeviceStatus, Signal\n",
    "from ophyd.flyers import FlyerInterface\n",
    "from apstools.synApps import SscanRecord"
   ]
  },
  {
   "cell_type": "markdown",
   "metadata": {},
   "source": [
    "<details>\n",
    "<summary>if save data is to be used</summary>\n",
    "\n",
    "```python\n",
    "# TODO: if save data is to be used\n",
    "\n",
    "# # configure saveData for data collection into MDA files:\n",
    "# save_data.stage_sigs[\"file_system\"] = \"/tmp\"\n",
    "# save_data.stage_sigs[\"subdirectory\"] = \"saveData\"\n",
    "# save_data.stage_sigs[\"base_name\"] = \"sscan1_\"\n",
    "# save_data.stage_sigs[\"next_scan_number\"] = 1\n",
    "# save_data.stage_sigs[\"comment1\"] = \"testing\"\n",
    "# save_data.stage_sigs[\"comment2\"] = \"configured and run from ophyd\"\n",
    "```\n",
    "\n",
    "</details>"
   ]
  },
  {
   "cell_type": "markdown",
   "metadata": {},
   "source": [
    "----------------"
   ]
  },
  {
   "cell_type": "code",
   "execution_count": 5,
   "metadata": {},
   "outputs": [],
   "source": [
    "class SscanFlyer_1D_StepSimple(FlyerInterface, SscanRecord):\n",
    "\n",
    "    def __init__(self, *args, **kwargs):\n",
    "        self._acquiring = False\n",
    "\n",
    "        super().__init__(*args, **kwargs)\n",
    "\n",
    "    def stage(self):\n",
    "        super().stage()\n",
    "        self.select_channels()\n",
    "\n",
    "    def unstage(self):\n",
    "        super().unstage()\n",
    "        self.select_channels()\n",
    "\n",
    "    def setup_staging_1D_step(self, start=-1.1, finish=1.1, num=21, ddelay=0.01, pdelay=0):\n",
    "        \"\"\"Configure sscan record for 1D step scan: noisy v. m1\"\"\"\n",
    "        self.xref = dict(\n",
    "            raw_positioners=[m1, ],\n",
    "            positioners=[m1, ],\n",
    "            raw_detectors=[noisy, ],\n",
    "            detectors=[noisy, m1.user_setpoint]  # include motor setpoints array\n",
    "        )\n",
    "        self.stage_sigs[\"number_points\"] = num\n",
    "        self.stage_sigs[\"pasm\"] = \"PRIOR POS\"\n",
    "        self.stage_sigs[\"positioner_delay\"] = pdelay\n",
    "        for i, p in enumerate(self.xref[\"raw_positioners\"]):\n",
    "            self.stage_sigs[f\"positioners.p{i+1}.setpoint_pv\"] = p.user_setpoint.pvname\n",
    "            self.stage_sigs[f\"positioners.p{i+1}.readback_pv\"] = p.user_readback.pvname\n",
    "            self.stage_sigs[f\"positioners.p{i+1}.start\"] = start\n",
    "            self.stage_sigs[f\"positioners.p{i+1}.end\"] = finish\n",
    "        self.stage_sigs[\"detector_delay\"] = ddelay\n",
    "        for i, d in enumerate(self.xref[\"detectors\"]):\n",
    "            self.stage_sigs[f\"detectors.d{i+1:02d}.input_pv\"] = d.pvname\n",
    "\n",
    "        # get timestamp of each point in the scan\n",
    "        # This is a sscan record trick that returns the time (s) since the scan started.\n",
    "        self.stage_sigs[f\"positioners.p4.readback_pv\"] = \"time\"\n",
    "\n",
    "    def read_configuration(self):\n",
    "        return {}\n",
    "\n",
    "    def describe_configuration(self):\n",
    "        return {}\n",
    "\n",
    "    def kickoff(self):\n",
    "        \"\"\"Start the sscan record.\"\"\"\n",
    "        # self.setup_staging_1D_step()\n",
    "        self.stage()\n",
    "        time.sleep(0.1)\n",
    "\n",
    "        # set(), do not `yield`, in kickoff()\n",
    "        self.execute_scan.set(1)  # start the sscan record\n",
    "        self._acquiring = True\n",
    "\n",
    "        status = DeviceStatus(self)\n",
    "        status.set_finished()  # means that kickoff was successful\n",
    "        return status\n",
    "\n",
    "    def complete(self):\n",
    "        \"\"\"Wait for sscan to complete.\"\"\"\n",
    "        logging.info(\"complete() starting\")\n",
    "        if not self._acquiring:\n",
    "            raise RuntimeError(\"Not acquiring\")\n",
    "\n",
    "        st = DeviceStatus(self)\n",
    "        cb_started = False\n",
    "\n",
    "        def execute_scan_cb(value, timestamp, **kwargs):\n",
    "            \"\"\"Watch ``sscan.EXSC`` for completion.\"\"\"\n",
    "            value = int(value)\n",
    "            if cb_started and value == 0:\n",
    "                logging.info(\"complete() ending\")\n",
    "                self.unstage()\n",
    "                self._acquiring = False\n",
    "                self.execute_scan.unsubscribe(execute_scan_cb)\n",
    "                if not st.done:\n",
    "                    logging.info(\"Setting %s execute status to `done`.\", self.name)\n",
    "                    st.set_finished()\n",
    "\n",
    "        self.execute_scan.subscribe(execute_scan_cb)\n",
    "        # self.execute_scan.set(1)\n",
    "        cb_started = True\n",
    "        return st\n",
    "\n",
    "    def describe_collect(self):\n",
    "        \"\"\"\n",
    "        Provide schema & meta-data from collect().\n",
    "        \n",
    "        http://nsls-ii.github.io/ophyd/generated/ophyd.flyers.FlyerInterface.describe_collect.html\n",
    "        \"\"\"\n",
    "        dd = {}\n",
    "        dd.update(m1.describe())\n",
    "        dd.update(noisy.describe())\n",
    "        return {self.name: dd}\n",
    "\n",
    "    def collect(self):\n",
    "        \"\"\"\n",
    "        Retrieve all collected data (after complete()).\n",
    "        \n",
    "        Retrieve data from the flyer as proto-events.\n",
    "        http://nsls-ii.github.io/ophyd/generated/ophyd.flyers.FlyerInterface.collect.html\n",
    "        \"\"\"\n",
    "        if self._acquiring:\n",
    "            raise RuntimeError(\"Acquisition still in progress. Call complete() first.\")\n",
    "        \n",
    "        def get_data_from_sscan(obj, n):\n",
    "            \"\"\"Read a sscan array and return as Python list.\"\"\"\n",
    "            data = obj.read()[obj.name]\n",
    "            data[\"value\"] = list(data[\"value\"][:n])\n",
    "            return data\n",
    "\n",
    "        def mkdoc(seq_num, values):\n",
    "            \"\"\"Bundle the dictionary of values into a raw event document.\"\"\"\n",
    "            timestamp = values.pop(\"__ts__\")\n",
    "            yield dict(\n",
    "                seq_num=seq_num,\n",
    "                time=timestamp,\n",
    "                data={k: v for k, v in values.items()},\n",
    "                timestamps={k: timestamp for k in values},\n",
    "            )\n",
    "\n",
    "        def read_sscan_data(scan):\n",
    "            \"\"\"Get the sscan arrays and yield as discrete events.\"\"\"\n",
    "            _cp = scan.current_point.read()[scan.current_point.name]\n",
    "            n = _cp[\"value\"]\n",
    "            ts_last_point = _cp[\"timestamp\"]\n",
    "\n",
    "            # get the per-step time stamps from positioner 4\n",
    "            ts_arr = self.positioners.p4.array.get(use_monitor=False)[:n]\n",
    "            ts_arr = ts_last_point + ts_arr - ts_arr.max()\n",
    "\n",
    "            results = dict(__ts__=list(ts_arr))\n",
    "\n",
    "            # This gets the full array for each item in one document\n",
    "            for category, signals in scan.xref.items():\n",
    "                for i, signal in enumerate(signals):\n",
    "                    if category == \"positioners\":\n",
    "                        item = f\"p{i+1}\"\n",
    "                    elif category == \"detectors\":\n",
    "                        item = f\"d{i+1:02d}\"\n",
    "                    else:\n",
    "                        continue\n",
    "                    data = get_data_from_sscan(\n",
    "                        getattr(scan, f\"{category}.{item}.array\"), n\n",
    "                    )\n",
    "                    results[signal.name] = data[\"value\"]\n",
    "\n",
    "            for i in range(n):\n",
    "                yield from mkdoc(i+1, {k: results[k][i] for k in results})\n",
    "\n",
    "        yield from read_sscan_data(self)\n",
    "        self.unstage()"
   ]
  },
  {
   "cell_type": "code",
   "execution_count": 6,
   "metadata": {},
   "outputs": [],
   "source": [
    "flyer = SscanFlyer_1D_StepSimple(f\"{ioc}scan1\", name=\"flyer\")\n",
    "flyer.wait_for_connection()  # sscan records have _many_ channels and fields\n",
    "flyer.reset()  # clear out any previous configuration"
   ]
  },
  {
   "cell_type": "code",
   "execution_count": 7,
   "metadata": {},
   "outputs": [
    {
     "data": {
      "text/plain": [
       "0"
      ]
     },
     "execution_count": 7,
     "metadata": {},
     "output_type": "execute_result"
    }
   ],
   "source": [
    "# For diagnostic purposes, build an alternate, no-frills RunEngine instance\n",
    "\n",
    "import yaml, json, pprint, datetime\n",
    "\n",
    "def doc_printer(key, doc):\n",
    "    print(key, len(doc))\n",
    "    # if key in (\"descriptor\", \"bulk_events\"):\n",
    "    #     # print(yaml.dump(doc), sys.stdout)\n",
    "    #     # print(json.dumps(doc))\n",
    "    pprint.pprint(doc)\n",
    "\n",
    "import bluesky\n",
    "_RE = bluesky.RunEngine({})\n",
    "_RE.subscribe(doc_printer)"
   ]
  },
  {
   "cell_type": "code",
   "execution_count": 8,
   "metadata": {},
   "outputs": [
    {
     "name": "stdout",
     "output_type": "stream",
     "text": [
      "\n",
      "\n",
      "Transient Scan ID: 326     Time: 2021-09-05 18:10:39\n",
      "Persistent Unique Scan ID: '702aedb1-caa7-4bcc-a88a-b76fc47e268a'\n",
      "New stream: 'baseline'\n",
      "New stream: 'flyer'\n"
     ]
    },
    {
     "name": "stderr",
     "output_type": "stream",
     "text": [
      "/home/prjemian/.local/lib/python3.8/site-packages/event_model/__init__.py:208: UserWarning: The document type 'bulk_events' has been deprecated in favor of 'event_page', whose structure is a transpose of 'bulk_events'.\n",
      "  warnings.warn(\n"
     ]
    },
    {
     "data": {
      "text/plain": [
       "('702aedb1-caa7-4bcc-a88a-b76fc47e268a',)"
      ]
     },
     "execution_count": 8,
     "metadata": {},
     "output_type": "execute_result"
    }
   ],
   "source": [
    "flyer.setup_staging_1D_step(num=71)\n",
    "\n",
    "RE(bp.fly([flyer], md=dict(purpose=\"demo bluesky fly plan with sscan record and 1-D step scan\")))"
   ]
  },
  {
   "cell_type": "code",
   "execution_count": 9,
   "metadata": {},
   "outputs": [
    {
     "data": {
      "text/plain": [
       "<matplotlib.collections.PathCollection at 0x7f920e2c8940>"
      ]
     },
     "execution_count": 9,
     "metadata": {},
     "output_type": "execute_result"
    },
    {
     "data": {
      "image/png": "[encoded data removed]",
      "text/plain": [
       "<Figure size 432x288 with 1 Axes>"
      ]
     },
     "metadata": {
      "needs_background": "light"
     },
     "output_type": "display_data"
    }
   ],
   "source": [
    "run = cat[-1]\n",
    "data = run.flyer.read()\n",
    "data.plot.scatter(\"m1_user_setpoint\", \"noisy\")"
   ]
  },
  {
   "cell_type": "code",
   "execution_count": 10,
   "metadata": {},
   "outputs": [
    {
     "data": {
      "text/plain": [
       "<matplotlib.collections.PathCollection at 0x7f920e455dc0>"
      ]
     },
     "execution_count": 10,
     "metadata": {},
     "output_type": "execute_result"
    },
    {
     "data": {
      "image/png": "[encoded data removed]",
      "text/plain": [
       "<Figure size 432x288 with 1 Axes>"
      ]
     },
     "metadata": {
      "needs_background": "light"
     },
     "output_type": "display_data"
    }
   ],
   "source": [
    "data = run.flyer.read()\n",
    "data.plot.scatter(\"m1_user_setpoint\", \"noisy\")"
   ]
  }
 ],
 "metadata": {
  "interpreter": {
   "hash": "fa399ef8ed4fbc3b7fe63ebf4307839a170374bf77134d519fcb3b724ac0582b"
  },
  "kernelspec": {
   "display_name": "Python 3",
   "language": "python",
   "name": "python3"
  },
  "language_info": {
   "codemirror_mode": {
    "name": "ipython",
    "version": 3
   },
   "file_extension": ".py",
   "mimetype": "text/x-python",
   "name": "python",
   "nbconvert_exporter": "python",
   "pygments_lexer": "ipython3",
   "version": "3.8.10"
  }
 },
 "nbformat": 4,
 "nbformat_minor": 4
}
