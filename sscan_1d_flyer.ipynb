{
 "cells": [
  {
   "cell_type": "markdown",
   "source": [
    "# sscan as 1D Flyer\n",
    "\n",
    "<font color=\"red\">NOTE</font>: This notebook is under construction!\n",
    "\n",
    "## 1D step scans using sscan record\n",
    "\n",
    "Use the [sscan record](https://epics.anl.gov/bcda/synApps/sscan/sscanRecord.html) as an [ophyd Flyer](http://nsls-ii.github.io/bluesky/async.html) for [bluesky](http://nsls-ii.github.io/bluesky) data acquisition.  Consider the case of [1D step scans using sscan record](https://epics.anl.gov/bcda/synApps/sscan/sscanRecord.html#HEADING_1-1).\n",
    "\n",
    "Suggest the _noisy v m1_ scan, done as 1-D step scan with sscan record.  noisy is the swait record calculating a peak based on m1 position."
   ],
   "metadata": {}
  },
  {
   "cell_type": "code",
   "execution_count": 1,
   "source": [
    "import os, pathlib, sys\n",
    "sys.path.append(os.path.abspath(os.path.join(pathlib.Path.home(), \"bluesky\")))\n",
    "from instrument.collection import *"
   ],
   "outputs": [
    {
     "output_type": "stream",
     "name": "stderr",
     "text": [
      "I Wed-14:19:29 - ############################################################ startup\n",
      "I Wed-14:19:29 - logging started\n",
      "I Wed-14:19:29 - logging level = 10\n",
      "I Wed-14:19:29 - /home/prjemian/bluesky/instrument/collection.py\n",
      "I Wed-14:19:29 - /home/prjemian/bluesky/instrument/mpl/notebook.py\n"
     ]
    },
    {
     "output_type": "stream",
     "name": "stdout",
     "text": [
      "Activating auto-logging. Current session state plus future input saved.\n",
      "Filename       : /home/prjemian/Documents/projects/BCDA-APS/bluesky_training/.logs/ipython_console.log\n",
      "Mode           : rotate\n",
      "Output logging : True\n",
      "Raw input log  : False\n",
      "Timestamping   : True\n",
      "State          : active\n"
     ]
    },
    {
     "output_type": "stream",
     "name": "stderr",
     "text": [
      "I Wed-14:19:29 - #### Bluesky Framework ####\n",
      "I Wed-14:19:29 - /home/prjemian/bluesky/instrument/framework/check_python.py\n",
      "I Wed-14:19:29 - /home/prjemian/bluesky/instrument/framework/check_bluesky.py\n",
      "I Wed-14:19:30 - /home/prjemian/bluesky/instrument/framework/initialize.py\n",
      "I Wed-14:19:30 - using databroker catalog 'training'\n",
      "I Wed-14:19:30 - /home/prjemian/bluesky/instrument/framework/metadata.py\n",
      "I Wed-14:19:30 - #### Devices ####\n",
      "I Wed-14:19:30 - /home/prjemian/bluesky/instrument/devices/area_detector.py\n",
      "I Wed-14:19:30 - /home/prjemian/bluesky/instrument/devices/calculation_records.py\n",
      "I Wed-14:19:32 - /home/prjemian/bluesky/instrument/devices/ioc_stats.py\n",
      "I Wed-14:19:32 - /home/prjemian/bluesky/instrument/devices/motors.py\n",
      "I Wed-14:19:33 - /home/prjemian/bluesky/instrument/devices/noisy_detector.py\n",
      "I Wed-14:19:33 - /home/prjemian/bluesky/instrument/devices/scaler.py\n",
      "I Wed-14:19:34 - /home/prjemian/bluesky/instrument/devices/shutter_simulator.py\n",
      "I Wed-14:19:34 - /home/prjemian/bluesky/instrument/devices/temperature_signal.py\n",
      "I Wed-14:19:34 - #### Callbacks ####\n",
      "I Wed-14:19:34 - /home/prjemian/bluesky/instrument/callbacks/spec_data_file_writer.py\n",
      "I Wed-14:19:34 - writing to SPEC file: /home/prjemian/Documents/projects/BCDA-APS/bluesky_training/20210901-141934.dat\n",
      "I Wed-14:19:34 -    >>>>   Using default SPEC file name   <<<<\n",
      "I Wed-14:19:34 -    file will be created when bluesky ends its next scan\n",
      "I Wed-14:19:34 -    to change SPEC file, use command:   newSpecFile('title')\n",
      "I Wed-14:19:34 - #### Plans ####\n",
      "I Wed-14:19:34 - /home/prjemian/bluesky/instrument/plans/peak_finder_example.py\n",
      "I Wed-14:19:34 - #### Utilities ####\n",
      "I Wed-14:19:34 - /home/prjemian/bluesky/instrument/utils/image_analysis.py\n",
      "I Wed-14:19:34 - #### Startup is complete. ####\n"
     ]
    }
   ],
   "metadata": {}
  },
  {
   "cell_type": "code",
   "execution_count": 2,
   "source": [
    "# add this notebook's name to the metadata\n",
    "\n",
    "RE.md[\"notebook\"] = \"sscan_1d_flyer\""
   ],
   "outputs": [],
   "metadata": {}
  },
  {
   "cell_type": "code",
   "execution_count": 3,
   "source": [
    "# define the IOC's prefix\n",
    "\n",
    "ioc = \"gp:\""
   ],
   "outputs": [],
   "metadata": {}
  },
  {
   "cell_type": "markdown",
   "source": [
    "## Bluesky step scan\n",
    "\n",
    "We are told that the `noisy` signal will show a peak when `m1` is moved over the range `[-1 .. +1]`.  Use *bluesky* to show that peak."
   ],
   "metadata": {}
  },
  {
   "cell_type": "code",
   "execution_count": null,
   "source": [
    "RE(bp.scan([noisy], m1, -1.1, 1.1, 21))"
   ],
   "outputs": [],
   "metadata": {}
  },
  {
   "cell_type": "code",
   "execution_count": null,
   "source": [
    "# from apstools.synApps import SaveData\n",
    "\n",
    "# save_data = SaveData(f\"{ioc}saveData_\", name=\"save_data\")"
   ],
   "outputs": [],
   "metadata": {}
  },
  {
   "cell_type": "markdown",
   "source": [
    "## sscan as Bluesky Flyer"
   ],
   "metadata": {}
  },
  {
   "cell_type": "code",
   "execution_count": 4,
   "source": [
    "from apstools.synApps import SscanRecord\n",
    "\n",
    "class MySscanRecord(SscanRecord):\n",
    "    \n",
    "    def stage(self):\n",
    "        super().stage()\n",
    "        self.select_channels()\n",
    "    \n",
    "    def unstage(self):\n",
    "        super().unstage()\n",
    "        self.select_channels()\n",
    "\n",
    "    def setup_staging_1D_step(self, start=-1.1, finish=1.1, npts=21, ddelay=0.01, pdelay=0):\n",
    "        # configure sscan record for 1D step scan: noisy v. m1\n",
    "        self.stage_sigs[\"number_points\"] = npts\n",
    "        self.stage_sigs[\"pasm\"] = \"PRIOR POS\"\n",
    "        self.stage_sigs[\"positioner_delay\"] = pdelay\n",
    "        self.stage_sigs[\"positioners.p1.setpoint_pv\"] = m1.user_setpoint.pvname\n",
    "        self.stage_sigs[\"positioners.p1.readback_pv\"] = m1.user_readback.pvname\n",
    "        self.stage_sigs[\"positioners.p1.start\"] = start\n",
    "        self.stage_sigs[\"positioners.p1.end\"] = finish\n",
    "        self.stage_sigs[\"detector_delay\"] = ddelay\n",
    "        self.stage_sigs[\"detectors.d01.input_pv\"] = noisy.pvname\n",
    "\n",
    "        # self.hints = {'fields': ['scan_positioners_p1_readback_value', 'scan_detectors_d01_current_value']}\n",
    "\n",
    "scan = MySscanRecord(f\"{ioc}scan1\", name=\"scan\")\n",
    "\n",
    "# configure the sscan record for data collection:\n",
    "scan.wait_for_connection()  # sscan records have _many_ channels and fields\n",
    "scan.reset()  # clear out any previous configuration\n",
    "\n",
    "scan.setup_staging_1D_step()\n",
    "scan.select_channels()"
   ],
   "outputs": [],
   "metadata": {}
  },
  {
   "cell_type": "code",
   "execution_count": 5,
   "source": [
    "scan.stage()"
   ],
   "outputs": [],
   "metadata": {}
  },
  {
   "cell_type": "code",
   "execution_count": null,
   "source": [
    "# TODO: if save data is to be used\n",
    "\n",
    "    # # configure saveData for data collection into MDA files:\n",
    "    # save_data.stage_sigs[\"file_system\"] = \"/tmp\"\n",
    "    # save_data.stage_sigs[\"subdirectory\"] = \"saveData\"\n",
    "    # save_data.stage_sigs[\"base_name\"] = \"sscan1_\"\n",
    "    # save_data.stage_sigs[\"next_scan_number\"] = 1\n",
    "    # save_data.stage_sigs[\"comment1\"] = \"testing\"\n",
    "    # save_data.stage_sigs[\"comment2\"] = \"configured and run from ophyd\""
   ],
   "outputs": [],
   "metadata": {}
  },
  {
   "cell_type": "code",
   "execution_count": null,
   "source": [
    "# diagnostics\n",
    "# -----------\n",
    "# scan.stage()\n",
    "# scan.unstage()\n",
    "# RE(bp.count([scan]))\n",
    "# scan.read()\n",
    "# scan.stage??\n",
    "# bp.fly??"
   ],
   "outputs": [],
   "metadata": {}
  },
  {
   "cell_type": "code",
   "execution_count": 8,
   "source": [
    "from ophyd import DeviceStatus, Signal\n",
    "from ophyd.flyers import FlyerInterface"
   ],
   "outputs": [],
   "metadata": {}
  },
  {
   "cell_type": "code",
   "execution_count": 9,
   "source": [
    "class SscanFlyer_1D_StepSimple(FlyerInterface):\n",
    "    \n",
    "    sscan = None\n",
    "    name = None\n",
    "    \n",
    "    def __init__(self, sscan, *args, name=None, **kwargs):\n",
    "        self.sscan = sscan\n",
    "        self._acquiring = False\n",
    "\n",
    "        if name is None:\n",
    "            raise ValueError(\"MUST provide `name` keyword argument.\")\n",
    "        self.name = name\n",
    "\n",
    "        super().__init__(*args, **kwargs)\n",
    "\n",
    "    def kickoff(self):\n",
    "        # scan.reset()\n",
    "\n",
    "        scan.setup_staging_1D_step()\n",
    "\n",
    "        # set(), do not `yield`, in kickoff()\n",
    "        self.sscan.execute_scan.set(1)  # start the sscan record\n",
    "        self._acquiring = True\n",
    "\n",
    "        status = DeviceStatus(self)\n",
    "        status.set_finished()  # means that kickoff was successful\n",
    "        return status\n",
    "\n",
    "    def complete(self):\n",
    "        \"\"\"Wait for sscan to complete.\"\"\"\n",
    "        if not self._acquiring:\n",
    "            raise RuntimeError(\"Not acquiring\")\n",
    "\n",
    "        st = DeviceStatus(self)\n",
    "        cb_started = False\n",
    "\n",
    "        def execute_scan_cb(value, timestamp, **kwargs):\n",
    "            value = int(value)\n",
    "            if cb_started and value == 0:\n",
    "                scan.unstage()\n",
    "                self._acquiring = False\n",
    "                self.sscan.execute_scan.unsubscribe(execute_scan_cb)\n",
    "                if not st.done:\n",
    "                    logging.info(\"Setting %s execute status to `done`.\", self.sscan.name)\n",
    "                    st.set_finished()\n",
    "\n",
    "        self.sscan.execute_scan.subscribe(execute_scan_cb)\n",
    "        # self.sscan.execute_scan.set(1)\n",
    "        cb_started = True\n",
    "        return st\n",
    "\n",
    "    def describe_collect(self):\n",
    "        # http://nsls-ii.github.io/ophyd/generated/ophyd.flyers.FlyerInterface.describe_collect.html\n",
    "        # Provide schema & meta-data from collect()\n",
    "        return {\n",
    "            \"primary\": {\n",
    "                m1.name: {\n",
    "                    \"dims\": [],\n",
    "                    \"dtype\": \"number\",\n",
    "                    \"shape\": [],\n",
    "                    \"source\": \"\",\n",
    "                },\n",
    "                noisy.name: {\n",
    "                    \"dims\": [],\n",
    "                    \"dtype\": \"number\",\n",
    "                    \"shape\": [],\n",
    "                    \"source\": \"\",\n",
    "                },\n",
    "                # \"time\": {\n",
    "                #     \"dims\": [],\n",
    "                #     \"dtype\": \"number\",\n",
    "                #     \"shape\": [],\n",
    "                #     \"source\": \"\",\n",
    "                # },\n",
    "            },\n",
    "        }\n",
    "\n",
    "    def collect(self):\n",
    "        \"\"\"Retrieve all collected data (after complete()).\"\"\"\n",
    "        if self._acquiring:\n",
    "            raise RuntimeError(\"Acquisition still in progress. Call complete() first.\")\n",
    "        # http://nsls-ii.github.io/ophyd/generated/ophyd.flyers.FlyerInterface.collect.html\n",
    "        # Retrieve data from the flyer as proto-events\n",
    "\n",
    "        ts = time.time()\n",
    "        p1 = [0, 1]\n",
    "        d1 = [1, 0]\n",
    "        yield {\n",
    "            \"data\": {m1.name: p1, noisy.name: d1, },\n",
    "            'timestamps': {m1.name: ts, noisy.name: ts, },\n",
    "            'time': ts\n",
    "        }\n",
    "\n",
    "        # ts = time.time()\n",
    "        # n = self.sscan.current_point.get()\n",
    "        # p1 = scan.positioners.p1.array.get(use_monitor=False, as_numpy=True)[:n]\n",
    "        # d1 = scan.detectors.d01.array.get(use_monitor=False, as_numpy=True)[:n]\n",
    "\n",
    "        # yield {\n",
    "        #     'data': {\n",
    "        #         m1.name: p1,\n",
    "        #         noisy.name: d1,\n",
    "        #     },\n",
    "        #     'timestamps': {\n",
    "        #         m1.name: ts,\n",
    "        #         noisy.name: ts,\n",
    "        #     },\n",
    "        #     'time': ts\n",
    "        # }"
   ],
   "outputs": [],
   "metadata": {}
  },
  {
   "cell_type": "code",
   "execution_count": 10,
   "source": [
    "scan_flyer = SscanFlyer_1D_StepSimple(scan, name=\"scan_flyer\")"
   ],
   "outputs": [],
   "metadata": {}
  },
  {
   "cell_type": "code",
   "execution_count": 11,
   "source": [
    "RE(bp.fly([scan_flyer]))"
   ],
   "outputs": [
    {
     "output_type": "stream",
     "name": "stdout",
     "text": [
      "\n",
      "\n",
      "Transient Scan ID: 286     Time: 2021-09-01 14:25:30\n",
      "Persistent Unique Scan ID: '340fb2b2-7bf7-4abe-bc01-c205f64fb690'\n",
      "New stream: 'baseline'\n",
      "New stream: 'primary'\n",
      "+-----------+------------+------------+------------+\n",
      "|   seq_num |       time |         m1 |      noisy |\n",
      "+-----------+------------+------------+------------+\n"
     ]
    },
    {
     "output_type": "stream",
     "name": "stderr",
     "text": [
      "/home/prjemian/.local/lib/python3.8/site-packages/event_model/__init__.py:208: UserWarning: The document type 'bulk_events' has been deprecated in favor of 'event_page', whose structure is a transpose of 'bulk_events'.\n",
      "  warnings.warn(\n"
     ]
    },
    {
     "output_type": "stream",
     "name": "stdout",
     "text": [
      "+-----------+------------+------------+------------+\n",
      "generator fly ['340fb2b2'] (scan num: 286)\n",
      "LivePlot did not get any data that corresponds to the x axis. time\n",
      "LivePlot did not get any data that corresponds to the y axis. m1\n",
      "LivePlot did not get any data that corresponds to the x axis. time\n",
      "LivePlot did not get any data that corresponds to the y axis. noisy\n"
     ]
    },
    {
     "output_type": "execute_result",
     "data": {
      "text/plain": [
       "('340fb2b2-7bf7-4abe-bc01-c205f64fb690',)"
      ]
     },
     "metadata": {},
     "execution_count": 11
    },
    {
     "output_type": "display_data",
     "data": {
      "text/plain": [
       "<Figure size 360x720 with 2 Axes>"
      ],
      "image/svg+xml": "<?xml version=\"1.0\" encoding=\"utf-8\" standalone=\"no\"?>\n<!DOCTYPE svg PUBLIC \"-//W3C//DTD SVG 1.1//EN\"\n  \"http://www.w3.org/Graphics/SVG/1.1/DTD/svg11.dtd\">\n<!-- Created with matplotlib (https://matplotlib.org/) -->\n<svg height=\"711.955469pt\" version=\"1.1\" viewBox=\"0 0 352.69375 711.955469\" width=\"352.69375pt\" xmlns=\"http://www.w3.org/2000/svg\" xmlns:xlink=\"http://www.w3.org/1999/xlink\">\n <metadata>\n  <rdf:RDF xmlns:cc=\"http://creativecommons.org/ns#\" xmlns:dc=\"http://purl.org/dc/elements/1.1/\" xmlns:rdf=\"http://www.w3.org/1999/02/22-rdf-syntax-ns#\">\n   <cc:Work>\n    <dc:type rdf:resource=\"http://purl.org/dc/dcmitype/StillImage\"/>\n    <dc:date>2021-09-01T14:25:42.088616</dc:date>\n    <dc:format>image/svg+xml</dc:format>\n    <dc:creator>\n     <cc:Agent>\n      <dc:title>Matplotlib v3.3.4, https://matplotlib.org/</dc:title>\n     </cc:Agent>\n    </dc:creator>\n   </cc:Work>\n  </rdf:RDF>\n </metadata>\n <defs>\n  <style type=\"text/css\">*{stroke-linecap:butt;stroke-linejoin:round;}</style>\n </defs>\n <g id=\"figure_1\">\n  <g id=\"patch_1\">\n   <path d=\"M 0 711.955469 \nL 352.69375 711.955469 \nL 352.69375 0 \nL 0 0 \nz\n\" style=\"fill:none;\"/>\n  </g>\n  <g id=\"axes_1\">\n   <g id=\"patch_2\">\n    <path d=\"M 58.523438 332.299219 \nL 334.360937 332.299219 \nL 334.360937 10.999219 \nL 58.523438 10.999219 \nz\n\" style=\"fill:#ffffff;\"/>\n   </g>\n   <g id=\"matplotlib.axis_1\">\n    <g id=\"xtick_1\">\n     <g id=\"line2d_1\">\n      <defs>\n       <path d=\"M 0 0 \nL 0 3.5 \n\" id=\"mb64d809f2d\" style=\"stroke:#000000;stroke-width:0.8;\"/>\n      </defs>\n      <g>\n       <use style=\"stroke:#000000;stroke-width:0.8;\" x=\"58.523437\" xlink:href=\"#mb64d809f2d\" y=\"332.299219\"/>\n      </g>\n     </g>\n    </g>\n    <g id=\"xtick_2\">\n     <g id=\"line2d_2\">\n      <g>\n       <use style=\"stroke:#000000;stroke-width:0.8;\" x=\"104.496354\" xlink:href=\"#mb64d809f2d\" y=\"332.299219\"/>\n      </g>\n     </g>\n    </g>\n    <g id=\"xtick_3\">\n     <g id=\"line2d_3\">\n      <g>\n       <use style=\"stroke:#000000;stroke-width:0.8;\" x=\"150.469271\" xlink:href=\"#mb64d809f2d\" y=\"332.299219\"/>\n      </g>\n     </g>\n    </g>\n    <g id=\"xtick_4\">\n     <g id=\"line2d_4\">\n      <g>\n       <use style=\"stroke:#000000;stroke-width:0.8;\" x=\"196.442187\" xlink:href=\"#mb64d809f2d\" y=\"332.299219\"/>\n      </g>\n     </g>\n    </g>\n    <g id=\"xtick_5\">\n     <g id=\"line2d_5\">\n      <g>\n       <use style=\"stroke:#000000;stroke-width:0.8;\" x=\"242.415104\" xlink:href=\"#mb64d809f2d\" y=\"332.299219\"/>\n      </g>\n     </g>\n    </g>\n    <g id=\"xtick_6\">\n     <g id=\"line2d_6\">\n      <g>\n       <use style=\"stroke:#000000;stroke-width:0.8;\" x=\"288.388021\" xlink:href=\"#mb64d809f2d\" y=\"332.299219\"/>\n      </g>\n     </g>\n    </g>\n    <g id=\"xtick_7\">\n     <g id=\"line2d_7\">\n      <g>\n       <use style=\"stroke:#000000;stroke-width:0.8;\" x=\"334.360937\" xlink:href=\"#mb64d809f2d\" y=\"332.299219\"/>\n      </g>\n     </g>\n    </g>\n   </g>\n   <g id=\"matplotlib.axis_2\">\n    <g id=\"ytick_1\">\n     <g id=\"line2d_8\">\n      <defs>\n       <path d=\"M 0 0 \nL -3.5 0 \n\" id=\"ma112d1602a\" style=\"stroke:#000000;stroke-width:0.8;\"/>\n      </defs>\n      <g>\n       <use style=\"stroke:#000000;stroke-width:0.8;\" x=\"58.523438\" xlink:href=\"#ma112d1602a\" y=\"332.299219\"/>\n      </g>\n     </g>\n     <g id=\"text_1\">\n      <!-- −0.06 -->\n      <g transform=\"translate(20.878125 336.098438)scale(0.1 -0.1)\">\n       <defs>\n        <path d=\"M 10.59375 35.5 \nL 73.1875 35.5 \nL 73.1875 27.203125 \nL 10.59375 27.203125 \nz\n\" id=\"DejaVuSans-8722\"/>\n        <path d=\"M 31.78125 66.40625 \nQ 24.171875 66.40625 20.328125 58.90625 \nQ 16.5 51.421875 16.5 36.375 \nQ 16.5 21.390625 20.328125 13.890625 \nQ 24.171875 6.390625 31.78125 6.390625 \nQ 39.453125 6.390625 43.28125 13.890625 \nQ 47.125 21.390625 47.125 36.375 \nQ 47.125 51.421875 43.28125 58.90625 \nQ 39.453125 66.40625 31.78125 66.40625 \nz\nM 31.78125 74.21875 \nQ 44.046875 74.21875 50.515625 64.515625 \nQ 56.984375 54.828125 56.984375 36.375 \nQ 56.984375 17.96875 50.515625 8.265625 \nQ 44.046875 -1.421875 31.78125 -1.421875 \nQ 19.53125 -1.421875 13.0625 8.265625 \nQ 6.59375 17.96875 6.59375 36.375 \nQ 6.59375 54.828125 13.0625 64.515625 \nQ 19.53125 74.21875 31.78125 74.21875 \nz\n\" id=\"DejaVuSans-48\"/>\n        <path d=\"M 10.6875 12.40625 \nL 21 12.40625 \nL 21 0 \nL 10.6875 0 \nz\n\" id=\"DejaVuSans-46\"/>\n        <path d=\"M 33.015625 40.375 \nQ 26.375 40.375 22.484375 35.828125 \nQ 18.609375 31.296875 18.609375 23.390625 \nQ 18.609375 15.53125 22.484375 10.953125 \nQ 26.375 6.390625 33.015625 6.390625 \nQ 39.65625 6.390625 43.53125 10.953125 \nQ 47.40625 15.53125 47.40625 23.390625 \nQ 47.40625 31.296875 43.53125 35.828125 \nQ 39.65625 40.375 33.015625 40.375 \nz\nM 52.59375 71.296875 \nL 52.59375 62.3125 \nQ 48.875 64.0625 45.09375 64.984375 \nQ 41.3125 65.921875 37.59375 65.921875 \nQ 27.828125 65.921875 22.671875 59.328125 \nQ 17.53125 52.734375 16.796875 39.40625 \nQ 19.671875 43.65625 24.015625 45.921875 \nQ 28.375 48.1875 33.59375 48.1875 \nQ 44.578125 48.1875 50.953125 41.515625 \nQ 57.328125 34.859375 57.328125 23.390625 \nQ 57.328125 12.15625 50.6875 5.359375 \nQ 44.046875 -1.421875 33.015625 -1.421875 \nQ 20.359375 -1.421875 13.671875 8.265625 \nQ 6.984375 17.96875 6.984375 36.375 \nQ 6.984375 53.65625 15.1875 63.9375 \nQ 23.390625 74.21875 37.203125 74.21875 \nQ 40.921875 74.21875 44.703125 73.484375 \nQ 48.484375 72.75 52.59375 71.296875 \nz\n\" id=\"DejaVuSans-54\"/>\n       </defs>\n       <use xlink:href=\"#DejaVuSans-8722\"/>\n       <use x=\"83.789062\" xlink:href=\"#DejaVuSans-48\"/>\n       <use x=\"147.412109\" xlink:href=\"#DejaVuSans-46\"/>\n       <use x=\"179.199219\" xlink:href=\"#DejaVuSans-48\"/>\n       <use x=\"242.822266\" xlink:href=\"#DejaVuSans-54\"/>\n      </g>\n     </g>\n    </g>\n    <g id=\"ytick_2\">\n     <g id=\"line2d_9\">\n      <g>\n       <use style=\"stroke:#000000;stroke-width:0.8;\" x=\"58.523438\" xlink:href=\"#ma112d1602a\" y=\"278.749219\"/>\n      </g>\n     </g>\n     <g id=\"text_2\">\n      <!-- −0.04 -->\n      <g transform=\"translate(20.878125 282.548438)scale(0.1 -0.1)\">\n       <defs>\n        <path d=\"M 37.796875 64.3125 \nL 12.890625 25.390625 \nL 37.796875 25.390625 \nz\nM 35.203125 72.90625 \nL 47.609375 72.90625 \nL 47.609375 25.390625 \nL 58.015625 25.390625 \nL 58.015625 17.1875 \nL 47.609375 17.1875 \nL 47.609375 0 \nL 37.796875 0 \nL 37.796875 17.1875 \nL 4.890625 17.1875 \nL 4.890625 26.703125 \nz\n\" id=\"DejaVuSans-52\"/>\n       </defs>\n       <use xlink:href=\"#DejaVuSans-8722\"/>\n       <use x=\"83.789062\" xlink:href=\"#DejaVuSans-48\"/>\n       <use x=\"147.412109\" xlink:href=\"#DejaVuSans-46\"/>\n       <use x=\"179.199219\" xlink:href=\"#DejaVuSans-48\"/>\n       <use x=\"242.822266\" xlink:href=\"#DejaVuSans-52\"/>\n      </g>\n     </g>\n    </g>\n    <g id=\"ytick_3\">\n     <g id=\"line2d_10\">\n      <g>\n       <use style=\"stroke:#000000;stroke-width:0.8;\" x=\"58.523438\" xlink:href=\"#ma112d1602a\" y=\"225.199219\"/>\n      </g>\n     </g>\n     <g id=\"text_3\">\n      <!-- −0.02 -->\n      <g transform=\"translate(20.878125 228.998438)scale(0.1 -0.1)\">\n       <defs>\n        <path d=\"M 19.1875 8.296875 \nL 53.609375 8.296875 \nL 53.609375 0 \nL 7.328125 0 \nL 7.328125 8.296875 \nQ 12.9375 14.109375 22.625 23.890625 \nQ 32.328125 33.6875 34.8125 36.53125 \nQ 39.546875 41.84375 41.421875 45.53125 \nQ 43.3125 49.21875 43.3125 52.78125 \nQ 43.3125 58.59375 39.234375 62.25 \nQ 35.15625 65.921875 28.609375 65.921875 \nQ 23.96875 65.921875 18.8125 64.3125 \nQ 13.671875 62.703125 7.8125 59.421875 \nL 7.8125 69.390625 \nQ 13.765625 71.78125 18.9375 73 \nQ 24.125 74.21875 28.421875 74.21875 \nQ 39.75 74.21875 46.484375 68.546875 \nQ 53.21875 62.890625 53.21875 53.421875 \nQ 53.21875 48.921875 51.53125 44.890625 \nQ 49.859375 40.875 45.40625 35.40625 \nQ 44.1875 33.984375 37.640625 27.21875 \nQ 31.109375 20.453125 19.1875 8.296875 \nz\n\" id=\"DejaVuSans-50\"/>\n       </defs>\n       <use xlink:href=\"#DejaVuSans-8722\"/>\n       <use x=\"83.789062\" xlink:href=\"#DejaVuSans-48\"/>\n       <use x=\"147.412109\" xlink:href=\"#DejaVuSans-46\"/>\n       <use x=\"179.199219\" xlink:href=\"#DejaVuSans-48\"/>\n       <use x=\"242.822266\" xlink:href=\"#DejaVuSans-50\"/>\n      </g>\n     </g>\n    </g>\n    <g id=\"ytick_4\">\n     <g id=\"line2d_11\">\n      <g>\n       <use style=\"stroke:#000000;stroke-width:0.8;\" x=\"58.523438\" xlink:href=\"#ma112d1602a\" y=\"171.649219\"/>\n      </g>\n     </g>\n     <g id=\"text_4\">\n      <!-- 0.00 -->\n      <g transform=\"translate(29.257813 175.448438)scale(0.1 -0.1)\">\n       <use xlink:href=\"#DejaVuSans-48\"/>\n       <use x=\"63.623047\" xlink:href=\"#DejaVuSans-46\"/>\n       <use x=\"95.410156\" xlink:href=\"#DejaVuSans-48\"/>\n       <use x=\"159.033203\" xlink:href=\"#DejaVuSans-48\"/>\n      </g>\n     </g>\n    </g>\n    <g id=\"ytick_5\">\n     <g id=\"line2d_12\">\n      <g>\n       <use style=\"stroke:#000000;stroke-width:0.8;\" x=\"58.523438\" xlink:href=\"#ma112d1602a\" y=\"118.099219\"/>\n      </g>\n     </g>\n     <g id=\"text_5\">\n      <!-- 0.02 -->\n      <g transform=\"translate(29.257813 121.898438)scale(0.1 -0.1)\">\n       <use xlink:href=\"#DejaVuSans-48\"/>\n       <use x=\"63.623047\" xlink:href=\"#DejaVuSans-46\"/>\n       <use x=\"95.410156\" xlink:href=\"#DejaVuSans-48\"/>\n       <use x=\"159.033203\" xlink:href=\"#DejaVuSans-50\"/>\n      </g>\n     </g>\n    </g>\n    <g id=\"ytick_6\">\n     <g id=\"line2d_13\">\n      <g>\n       <use style=\"stroke:#000000;stroke-width:0.8;\" x=\"58.523438\" xlink:href=\"#ma112d1602a\" y=\"64.549219\"/>\n      </g>\n     </g>\n     <g id=\"text_6\">\n      <!-- 0.04 -->\n      <g transform=\"translate(29.257813 68.348438)scale(0.1 -0.1)\">\n       <use xlink:href=\"#DejaVuSans-48\"/>\n       <use x=\"63.623047\" xlink:href=\"#DejaVuSans-46\"/>\n       <use x=\"95.410156\" xlink:href=\"#DejaVuSans-48\"/>\n       <use x=\"159.033203\" xlink:href=\"#DejaVuSans-52\"/>\n      </g>\n     </g>\n    </g>\n    <g id=\"ytick_7\">\n     <g id=\"line2d_14\">\n      <g>\n       <use style=\"stroke:#000000;stroke-width:0.8;\" x=\"58.523438\" xlink:href=\"#ma112d1602a\" y=\"10.999219\"/>\n      </g>\n     </g>\n     <g id=\"text_7\">\n      <!-- 0.06 -->\n      <g transform=\"translate(29.257813 14.798438)scale(0.1 -0.1)\">\n       <use xlink:href=\"#DejaVuSans-48\"/>\n       <use x=\"63.623047\" xlink:href=\"#DejaVuSans-46\"/>\n       <use x=\"95.410156\" xlink:href=\"#DejaVuSans-48\"/>\n       <use x=\"159.033203\" xlink:href=\"#DejaVuSans-54\"/>\n      </g>\n     </g>\n    </g>\n    <g id=\"text_8\">\n     <!-- m1 -->\n     <g transform=\"translate(14.798438 179.700781)rotate(-90)scale(0.1 -0.1)\">\n      <defs>\n       <path d=\"M 52 44.1875 \nQ 55.375 50.25 60.0625 53.125 \nQ 64.75 56 71.09375 56 \nQ 79.640625 56 84.28125 50.015625 \nQ 88.921875 44.046875 88.921875 33.015625 \nL 88.921875 0 \nL 79.890625 0 \nL 79.890625 32.71875 \nQ 79.890625 40.578125 77.09375 44.375 \nQ 74.3125 48.1875 68.609375 48.1875 \nQ 61.625 48.1875 57.5625 43.546875 \nQ 53.515625 38.921875 53.515625 30.90625 \nL 53.515625 0 \nL 44.484375 0 \nL 44.484375 32.71875 \nQ 44.484375 40.625 41.703125 44.40625 \nQ 38.921875 48.1875 33.109375 48.1875 \nQ 26.21875 48.1875 22.15625 43.53125 \nQ 18.109375 38.875 18.109375 30.90625 \nL 18.109375 0 \nL 9.078125 0 \nL 9.078125 54.6875 \nL 18.109375 54.6875 \nL 18.109375 46.1875 \nQ 21.1875 51.21875 25.484375 53.609375 \nQ 29.78125 56 35.6875 56 \nQ 41.65625 56 45.828125 52.96875 \nQ 50 49.953125 52 44.1875 \nz\n\" id=\"DejaVuSans-109\"/>\n       <path d=\"M 12.40625 8.296875 \nL 28.515625 8.296875 \nL 28.515625 63.921875 \nL 10.984375 60.40625 \nL 10.984375 69.390625 \nL 28.421875 72.90625 \nL 38.28125 72.90625 \nL 38.28125 8.296875 \nL 54.390625 8.296875 \nL 54.390625 0 \nL 12.40625 0 \nz\n\" id=\"DejaVuSans-49\"/>\n      </defs>\n      <use xlink:href=\"#DejaVuSans-109\"/>\n      <use x=\"97.412109\" xlink:href=\"#DejaVuSans-49\"/>\n     </g>\n    </g>\n   </g>\n   <g id=\"line2d_15\"/>\n   <g id=\"patch_3\">\n    <path d=\"M 58.523438 332.299219 \nL 58.523438 10.999219 \n\" style=\"fill:none;stroke:#000000;stroke-linecap:square;stroke-linejoin:miter;stroke-width:0.8;\"/>\n   </g>\n   <g id=\"patch_4\">\n    <path d=\"M 334.360937 332.299219 \nL 334.360937 10.999219 \n\" style=\"fill:none;stroke:#000000;stroke-linecap:square;stroke-linejoin:miter;stroke-width:0.8;\"/>\n   </g>\n   <g id=\"patch_5\">\n    <path d=\"M 58.523437 332.299219 \nL 334.360937 332.299219 \n\" style=\"fill:none;stroke:#000000;stroke-linecap:square;stroke-linejoin:miter;stroke-width:0.8;\"/>\n   </g>\n   <g id=\"patch_6\">\n    <path d=\"M 58.523437 10.999219 \nL 334.360937 10.999219 \n\" style=\"fill:none;stroke:#000000;stroke-linecap:square;stroke-linejoin:miter;stroke-width:0.8;\"/>\n   </g>\n   <g id=\"legend_1\">\n    <g id=\"patch_7\">\n     <path d=\"M 276.273438 33.677344 \nL 327.360937 33.677344 \nQ 329.360937 33.677344 329.360937 31.677344 \nL 329.360937 17.999219 \nQ 329.360937 15.999219 327.360937 15.999219 \nL 276.273438 15.999219 \nQ 274.273438 15.999219 274.273438 17.999219 \nL 274.273438 31.677344 \nQ 274.273438 33.677344 276.273438 33.677344 \nz\n\" style=\"fill:#ffffff;opacity:0.8;stroke:#cccccc;stroke-linejoin:miter;\"/>\n    </g>\n    <g id=\"line2d_16\">\n     <path d=\"M 278.273438 24.097656 \nL 298.273438 24.097656 \n\" style=\"fill:none;stroke:#1f77b4;stroke-linecap:square;stroke-width:1.5;\"/>\n    </g>\n    <g id=\"line2d_17\"/>\n    <g id=\"text_9\">\n     <!-- 286 -->\n     <g transform=\"translate(306.273438 27.597656)scale(0.1 -0.1)\">\n      <defs>\n       <path d=\"M 31.78125 34.625 \nQ 24.75 34.625 20.71875 30.859375 \nQ 16.703125 27.09375 16.703125 20.515625 \nQ 16.703125 13.921875 20.71875 10.15625 \nQ 24.75 6.390625 31.78125 6.390625 \nQ 38.8125 6.390625 42.859375 10.171875 \nQ 46.921875 13.96875 46.921875 20.515625 \nQ 46.921875 27.09375 42.890625 30.859375 \nQ 38.875 34.625 31.78125 34.625 \nz\nM 21.921875 38.8125 \nQ 15.578125 40.375 12.03125 44.71875 \nQ 8.5 49.078125 8.5 55.328125 \nQ 8.5 64.0625 14.71875 69.140625 \nQ 20.953125 74.21875 31.78125 74.21875 \nQ 42.671875 74.21875 48.875 69.140625 \nQ 55.078125 64.0625 55.078125 55.328125 \nQ 55.078125 49.078125 51.53125 44.71875 \nQ 48 40.375 41.703125 38.8125 \nQ 48.828125 37.15625 52.796875 32.3125 \nQ 56.78125 27.484375 56.78125 20.515625 \nQ 56.78125 9.90625 50.3125 4.234375 \nQ 43.84375 -1.421875 31.78125 -1.421875 \nQ 19.734375 -1.421875 13.25 4.234375 \nQ 6.78125 9.90625 6.78125 20.515625 \nQ 6.78125 27.484375 10.78125 32.3125 \nQ 14.796875 37.15625 21.921875 38.8125 \nz\nM 18.3125 54.390625 \nQ 18.3125 48.734375 21.84375 45.5625 \nQ 25.390625 42.390625 31.78125 42.390625 \nQ 38.140625 42.390625 41.71875 45.5625 \nQ 45.3125 48.734375 45.3125 54.390625 \nQ 45.3125 60.0625 41.71875 63.234375 \nQ 38.140625 66.40625 31.78125 66.40625 \nQ 25.390625 66.40625 21.84375 63.234375 \nQ 18.3125 60.0625 18.3125 54.390625 \nz\n\" id=\"DejaVuSans-56\"/>\n      </defs>\n      <use xlink:href=\"#DejaVuSans-50\"/>\n      <use x=\"63.623047\" xlink:href=\"#DejaVuSans-56\"/>\n      <use x=\"127.246094\" xlink:href=\"#DejaVuSans-54\"/>\n     </g>\n    </g>\n   </g>\n  </g>\n  <g id=\"axes_2\">\n   <g id=\"patch_8\">\n    <path d=\"M 58.523438 674.399219 \nL 334.360937 674.399219 \nL 334.360937 353.099219 \nL 58.523438 353.099219 \nz\n\" style=\"fill:#ffffff;\"/>\n   </g>\n   <g id=\"matplotlib.axis_3\">\n    <g id=\"xtick_8\">\n     <g id=\"line2d_18\">\n      <g>\n       <use style=\"stroke:#000000;stroke-width:0.8;\" x=\"58.523437\" xlink:href=\"#mb64d809f2d\" y=\"674.399219\"/>\n      </g>\n     </g>\n     <g id=\"text_10\">\n      <!-- −0.06 -->\n      <g transform=\"translate(43.200781 688.997656)scale(0.1 -0.1)\">\n       <use xlink:href=\"#DejaVuSans-8722\"/>\n       <use x=\"83.789062\" xlink:href=\"#DejaVuSans-48\"/>\n       <use x=\"147.412109\" xlink:href=\"#DejaVuSans-46\"/>\n       <use x=\"179.199219\" xlink:href=\"#DejaVuSans-48\"/>\n       <use x=\"242.822266\" xlink:href=\"#DejaVuSans-54\"/>\n      </g>\n     </g>\n    </g>\n    <g id=\"xtick_9\">\n     <g id=\"line2d_19\">\n      <g>\n       <use style=\"stroke:#000000;stroke-width:0.8;\" x=\"104.496354\" xlink:href=\"#mb64d809f2d\" y=\"674.399219\"/>\n      </g>\n     </g>\n     <g id=\"text_11\">\n      <!-- −0.04 -->\n      <g transform=\"translate(89.173698 688.997656)scale(0.1 -0.1)\">\n       <use xlink:href=\"#DejaVuSans-8722\"/>\n       <use x=\"83.789062\" xlink:href=\"#DejaVuSans-48\"/>\n       <use x=\"147.412109\" xlink:href=\"#DejaVuSans-46\"/>\n       <use x=\"179.199219\" xlink:href=\"#DejaVuSans-48\"/>\n       <use x=\"242.822266\" xlink:href=\"#DejaVuSans-52\"/>\n      </g>\n     </g>\n    </g>\n    <g id=\"xtick_10\">\n     <g id=\"line2d_20\">\n      <g>\n       <use style=\"stroke:#000000;stroke-width:0.8;\" x=\"150.469271\" xlink:href=\"#mb64d809f2d\" y=\"674.399219\"/>\n      </g>\n     </g>\n     <g id=\"text_12\">\n      <!-- −0.02 -->\n      <g transform=\"translate(135.146615 688.997656)scale(0.1 -0.1)\">\n       <use xlink:href=\"#DejaVuSans-8722\"/>\n       <use x=\"83.789062\" xlink:href=\"#DejaVuSans-48\"/>\n       <use x=\"147.412109\" xlink:href=\"#DejaVuSans-46\"/>\n       <use x=\"179.199219\" xlink:href=\"#DejaVuSans-48\"/>\n       <use x=\"242.822266\" xlink:href=\"#DejaVuSans-50\"/>\n      </g>\n     </g>\n    </g>\n    <g id=\"xtick_11\">\n     <g id=\"line2d_21\">\n      <g>\n       <use style=\"stroke:#000000;stroke-width:0.8;\" x=\"196.442187\" xlink:href=\"#mb64d809f2d\" y=\"674.399219\"/>\n      </g>\n     </g>\n     <g id=\"text_13\">\n      <!-- 0.00 -->\n      <g transform=\"translate(185.309375 688.997656)scale(0.1 -0.1)\">\n       <use xlink:href=\"#DejaVuSans-48\"/>\n       <use x=\"63.623047\" xlink:href=\"#DejaVuSans-46\"/>\n       <use x=\"95.410156\" xlink:href=\"#DejaVuSans-48\"/>\n       <use x=\"159.033203\" xlink:href=\"#DejaVuSans-48\"/>\n      </g>\n     </g>\n    </g>\n    <g id=\"xtick_12\">\n     <g id=\"line2d_22\">\n      <g>\n       <use style=\"stroke:#000000;stroke-width:0.8;\" x=\"242.415104\" xlink:href=\"#mb64d809f2d\" y=\"674.399219\"/>\n      </g>\n     </g>\n     <g id=\"text_14\">\n      <!-- 0.02 -->\n      <g transform=\"translate(231.282292 688.997656)scale(0.1 -0.1)\">\n       <use xlink:href=\"#DejaVuSans-48\"/>\n       <use x=\"63.623047\" xlink:href=\"#DejaVuSans-46\"/>\n       <use x=\"95.410156\" xlink:href=\"#DejaVuSans-48\"/>\n       <use x=\"159.033203\" xlink:href=\"#DejaVuSans-50\"/>\n      </g>\n     </g>\n    </g>\n    <g id=\"xtick_13\">\n     <g id=\"line2d_23\">\n      <g>\n       <use style=\"stroke:#000000;stroke-width:0.8;\" x=\"288.388021\" xlink:href=\"#mb64d809f2d\" y=\"674.399219\"/>\n      </g>\n     </g>\n     <g id=\"text_15\">\n      <!-- 0.04 -->\n      <g transform=\"translate(277.255208 688.997656)scale(0.1 -0.1)\">\n       <use xlink:href=\"#DejaVuSans-48\"/>\n       <use x=\"63.623047\" xlink:href=\"#DejaVuSans-46\"/>\n       <use x=\"95.410156\" xlink:href=\"#DejaVuSans-48\"/>\n       <use x=\"159.033203\" xlink:href=\"#DejaVuSans-52\"/>\n      </g>\n     </g>\n    </g>\n    <g id=\"xtick_14\">\n     <g id=\"line2d_24\">\n      <g>\n       <use style=\"stroke:#000000;stroke-width:0.8;\" x=\"334.360937\" xlink:href=\"#mb64d809f2d\" y=\"674.399219\"/>\n      </g>\n     </g>\n     <g id=\"text_16\">\n      <!-- 0.06 -->\n      <g transform=\"translate(323.228125 688.997656)scale(0.1 -0.1)\">\n       <use xlink:href=\"#DejaVuSans-48\"/>\n       <use x=\"63.623047\" xlink:href=\"#DejaVuSans-46\"/>\n       <use x=\"95.410156\" xlink:href=\"#DejaVuSans-48\"/>\n       <use x=\"159.033203\" xlink:href=\"#DejaVuSans-54\"/>\n      </g>\n     </g>\n    </g>\n    <g id=\"text_17\">\n     <!-- time -->\n     <g transform=\"translate(185.146094 702.675781)scale(0.1 -0.1)\">\n      <defs>\n       <path d=\"M 18.3125 70.21875 \nL 18.3125 54.6875 \nL 36.8125 54.6875 \nL 36.8125 47.703125 \nL 18.3125 47.703125 \nL 18.3125 18.015625 \nQ 18.3125 11.328125 20.140625 9.421875 \nQ 21.96875 7.515625 27.59375 7.515625 \nL 36.8125 7.515625 \nL 36.8125 0 \nL 27.59375 0 \nQ 17.1875 0 13.234375 3.875 \nQ 9.28125 7.765625 9.28125 18.015625 \nL 9.28125 47.703125 \nL 2.6875 47.703125 \nL 2.6875 54.6875 \nL 9.28125 54.6875 \nL 9.28125 70.21875 \nz\n\" id=\"DejaVuSans-116\"/>\n       <path d=\"M 9.421875 54.6875 \nL 18.40625 54.6875 \nL 18.40625 0 \nL 9.421875 0 \nz\nM 9.421875 75.984375 \nL 18.40625 75.984375 \nL 18.40625 64.59375 \nL 9.421875 64.59375 \nz\n\" id=\"DejaVuSans-105\"/>\n       <path d=\"M 56.203125 29.59375 \nL 56.203125 25.203125 \nL 14.890625 25.203125 \nQ 15.484375 15.921875 20.484375 11.0625 \nQ 25.484375 6.203125 34.421875 6.203125 \nQ 39.59375 6.203125 44.453125 7.46875 \nQ 49.3125 8.734375 54.109375 11.28125 \nL 54.109375 2.78125 \nQ 49.265625 0.734375 44.1875 -0.34375 \nQ 39.109375 -1.421875 33.890625 -1.421875 \nQ 20.796875 -1.421875 13.15625 6.1875 \nQ 5.515625 13.8125 5.515625 26.8125 \nQ 5.515625 40.234375 12.765625 48.109375 \nQ 20.015625 56 32.328125 56 \nQ 43.359375 56 49.78125 48.890625 \nQ 56.203125 41.796875 56.203125 29.59375 \nz\nM 47.21875 32.234375 \nQ 47.125 39.59375 43.09375 43.984375 \nQ 39.0625 48.390625 32.421875 48.390625 \nQ 24.90625 48.390625 20.390625 44.140625 \nQ 15.875 39.890625 15.1875 32.171875 \nz\n\" id=\"DejaVuSans-101\"/>\n      </defs>\n      <use xlink:href=\"#DejaVuSans-116\"/>\n      <use x=\"39.208984\" xlink:href=\"#DejaVuSans-105\"/>\n      <use x=\"66.992188\" xlink:href=\"#DejaVuSans-109\"/>\n      <use x=\"164.404297\" xlink:href=\"#DejaVuSans-101\"/>\n     </g>\n    </g>\n   </g>\n   <g id=\"matplotlib.axis_4\">\n    <g id=\"ytick_8\">\n     <g id=\"line2d_25\">\n      <g>\n       <use style=\"stroke:#000000;stroke-width:0.8;\" x=\"58.523438\" xlink:href=\"#ma112d1602a\" y=\"674.399219\"/>\n      </g>\n     </g>\n     <g id=\"text_18\">\n      <!-- −0.06 -->\n      <g transform=\"translate(20.878125 678.198437)scale(0.1 -0.1)\">\n       <use xlink:href=\"#DejaVuSans-8722\"/>\n       <use x=\"83.789062\" xlink:href=\"#DejaVuSans-48\"/>\n       <use x=\"147.412109\" xlink:href=\"#DejaVuSans-46\"/>\n       <use x=\"179.199219\" xlink:href=\"#DejaVuSans-48\"/>\n       <use x=\"242.822266\" xlink:href=\"#DejaVuSans-54\"/>\n      </g>\n     </g>\n    </g>\n    <g id=\"ytick_9\">\n     <g id=\"line2d_26\">\n      <g>\n       <use style=\"stroke:#000000;stroke-width:0.8;\" x=\"58.523438\" xlink:href=\"#ma112d1602a\" y=\"620.849219\"/>\n      </g>\n     </g>\n     <g id=\"text_19\">\n      <!-- −0.04 -->\n      <g transform=\"translate(20.878125 624.648437)scale(0.1 -0.1)\">\n       <use xlink:href=\"#DejaVuSans-8722\"/>\n       <use x=\"83.789062\" xlink:href=\"#DejaVuSans-48\"/>\n       <use x=\"147.412109\" xlink:href=\"#DejaVuSans-46\"/>\n       <use x=\"179.199219\" xlink:href=\"#DejaVuSans-48\"/>\n       <use x=\"242.822266\" xlink:href=\"#DejaVuSans-52\"/>\n      </g>\n     </g>\n    </g>\n    <g id=\"ytick_10\">\n     <g id=\"line2d_27\">\n      <g>\n       <use style=\"stroke:#000000;stroke-width:0.8;\" x=\"58.523438\" xlink:href=\"#ma112d1602a\" y=\"567.299219\"/>\n      </g>\n     </g>\n     <g id=\"text_20\">\n      <!-- −0.02 -->\n      <g transform=\"translate(20.878125 571.098437)scale(0.1 -0.1)\">\n       <use xlink:href=\"#DejaVuSans-8722\"/>\n       <use x=\"83.789062\" xlink:href=\"#DejaVuSans-48\"/>\n       <use x=\"147.412109\" xlink:href=\"#DejaVuSans-46\"/>\n       <use x=\"179.199219\" xlink:href=\"#DejaVuSans-48\"/>\n       <use x=\"242.822266\" xlink:href=\"#DejaVuSans-50\"/>\n      </g>\n     </g>\n    </g>\n    <g id=\"ytick_11\">\n     <g id=\"line2d_28\">\n      <g>\n       <use style=\"stroke:#000000;stroke-width:0.8;\" x=\"58.523438\" xlink:href=\"#ma112d1602a\" y=\"513.749219\"/>\n      </g>\n     </g>\n     <g id=\"text_21\">\n      <!-- 0.00 -->\n      <g transform=\"translate(29.257813 517.548437)scale(0.1 -0.1)\">\n       <use xlink:href=\"#DejaVuSans-48\"/>\n       <use x=\"63.623047\" xlink:href=\"#DejaVuSans-46\"/>\n       <use x=\"95.410156\" xlink:href=\"#DejaVuSans-48\"/>\n       <use x=\"159.033203\" xlink:href=\"#DejaVuSans-48\"/>\n      </g>\n     </g>\n    </g>\n    <g id=\"ytick_12\">\n     <g id=\"line2d_29\">\n      <g>\n       <use style=\"stroke:#000000;stroke-width:0.8;\" x=\"58.523438\" xlink:href=\"#ma112d1602a\" y=\"460.199219\"/>\n      </g>\n     </g>\n     <g id=\"text_22\">\n      <!-- 0.02 -->\n      <g transform=\"translate(29.257813 463.998437)scale(0.1 -0.1)\">\n       <use xlink:href=\"#DejaVuSans-48\"/>\n       <use x=\"63.623047\" xlink:href=\"#DejaVuSans-46\"/>\n       <use x=\"95.410156\" xlink:href=\"#DejaVuSans-48\"/>\n       <use x=\"159.033203\" xlink:href=\"#DejaVuSans-50\"/>\n      </g>\n     </g>\n    </g>\n    <g id=\"ytick_13\">\n     <g id=\"line2d_30\">\n      <g>\n       <use style=\"stroke:#000000;stroke-width:0.8;\" x=\"58.523438\" xlink:href=\"#ma112d1602a\" y=\"406.649219\"/>\n      </g>\n     </g>\n     <g id=\"text_23\">\n      <!-- 0.04 -->\n      <g transform=\"translate(29.257813 410.448437)scale(0.1 -0.1)\">\n       <use xlink:href=\"#DejaVuSans-48\"/>\n       <use x=\"63.623047\" xlink:href=\"#DejaVuSans-46\"/>\n       <use x=\"95.410156\" xlink:href=\"#DejaVuSans-48\"/>\n       <use x=\"159.033203\" xlink:href=\"#DejaVuSans-52\"/>\n      </g>\n     </g>\n    </g>\n    <g id=\"ytick_14\">\n     <g id=\"line2d_31\">\n      <g>\n       <use style=\"stroke:#000000;stroke-width:0.8;\" x=\"58.523438\" xlink:href=\"#ma112d1602a\" y=\"353.099219\"/>\n      </g>\n     </g>\n     <g id=\"text_24\">\n      <!-- 0.06 -->\n      <g transform=\"translate(29.257813 356.898437)scale(0.1 -0.1)\">\n       <use xlink:href=\"#DejaVuSans-48\"/>\n       <use x=\"63.623047\" xlink:href=\"#DejaVuSans-46\"/>\n       <use x=\"95.410156\" xlink:href=\"#DejaVuSans-48\"/>\n       <use x=\"159.033203\" xlink:href=\"#DejaVuSans-54\"/>\n      </g>\n     </g>\n    </g>\n    <g id=\"text_25\">\n     <!-- noisy -->\n     <g transform=\"translate(14.798438 526.930469)rotate(-90)scale(0.1 -0.1)\">\n      <defs>\n       <path d=\"M 54.890625 33.015625 \nL 54.890625 0 \nL 45.90625 0 \nL 45.90625 32.71875 \nQ 45.90625 40.484375 42.875 44.328125 \nQ 39.84375 48.1875 33.796875 48.1875 \nQ 26.515625 48.1875 22.3125 43.546875 \nQ 18.109375 38.921875 18.109375 30.90625 \nL 18.109375 0 \nL 9.078125 0 \nL 9.078125 54.6875 \nL 18.109375 54.6875 \nL 18.109375 46.1875 \nQ 21.34375 51.125 25.703125 53.5625 \nQ 30.078125 56 35.796875 56 \nQ 45.21875 56 50.046875 50.171875 \nQ 54.890625 44.34375 54.890625 33.015625 \nz\n\" id=\"DejaVuSans-110\"/>\n       <path d=\"M 30.609375 48.390625 \nQ 23.390625 48.390625 19.1875 42.75 \nQ 14.984375 37.109375 14.984375 27.296875 \nQ 14.984375 17.484375 19.15625 11.84375 \nQ 23.34375 6.203125 30.609375 6.203125 \nQ 37.796875 6.203125 41.984375 11.859375 \nQ 46.1875 17.53125 46.1875 27.296875 \nQ 46.1875 37.015625 41.984375 42.703125 \nQ 37.796875 48.390625 30.609375 48.390625 \nz\nM 30.609375 56 \nQ 42.328125 56 49.015625 48.375 \nQ 55.71875 40.765625 55.71875 27.296875 \nQ 55.71875 13.875 49.015625 6.21875 \nQ 42.328125 -1.421875 30.609375 -1.421875 \nQ 18.84375 -1.421875 12.171875 6.21875 \nQ 5.515625 13.875 5.515625 27.296875 \nQ 5.515625 40.765625 12.171875 48.375 \nQ 18.84375 56 30.609375 56 \nz\n\" id=\"DejaVuSans-111\"/>\n       <path d=\"M 44.28125 53.078125 \nL 44.28125 44.578125 \nQ 40.484375 46.53125 36.375 47.5 \nQ 32.28125 48.484375 27.875 48.484375 \nQ 21.1875 48.484375 17.84375 46.4375 \nQ 14.5 44.390625 14.5 40.28125 \nQ 14.5 37.15625 16.890625 35.375 \nQ 19.28125 33.59375 26.515625 31.984375 \nL 29.59375 31.296875 \nQ 39.15625 29.25 43.1875 25.515625 \nQ 47.21875 21.78125 47.21875 15.09375 \nQ 47.21875 7.46875 41.1875 3.015625 \nQ 35.15625 -1.421875 24.609375 -1.421875 \nQ 20.21875 -1.421875 15.453125 -0.5625 \nQ 10.6875 0.296875 5.421875 2 \nL 5.421875 11.28125 \nQ 10.40625 8.6875 15.234375 7.390625 \nQ 20.0625 6.109375 24.8125 6.109375 \nQ 31.15625 6.109375 34.5625 8.28125 \nQ 37.984375 10.453125 37.984375 14.40625 \nQ 37.984375 18.0625 35.515625 20.015625 \nQ 33.0625 21.96875 24.703125 23.78125 \nL 21.578125 24.515625 \nQ 13.234375 26.265625 9.515625 29.90625 \nQ 5.8125 33.546875 5.8125 39.890625 \nQ 5.8125 47.609375 11.28125 51.796875 \nQ 16.75 56 26.8125 56 \nQ 31.78125 56 36.171875 55.265625 \nQ 40.578125 54.546875 44.28125 53.078125 \nz\n\" id=\"DejaVuSans-115\"/>\n       <path d=\"M 32.171875 -5.078125 \nQ 28.375 -14.84375 24.75 -17.8125 \nQ 21.140625 -20.796875 15.09375 -20.796875 \nL 7.90625 -20.796875 \nL 7.90625 -13.28125 \nL 13.1875 -13.28125 \nQ 16.890625 -13.28125 18.9375 -11.515625 \nQ 21 -9.765625 23.484375 -3.21875 \nL 25.09375 0.875 \nL 2.984375 54.6875 \nL 12.5 54.6875 \nL 29.59375 11.921875 \nL 46.6875 54.6875 \nL 56.203125 54.6875 \nz\n\" id=\"DejaVuSans-121\"/>\n      </defs>\n      <use xlink:href=\"#DejaVuSans-110\"/>\n      <use x=\"63.378906\" xlink:href=\"#DejaVuSans-111\"/>\n      <use x=\"124.560547\" xlink:href=\"#DejaVuSans-105\"/>\n      <use x=\"152.34375\" xlink:href=\"#DejaVuSans-115\"/>\n      <use x=\"204.443359\" xlink:href=\"#DejaVuSans-121\"/>\n     </g>\n    </g>\n   </g>\n   <g id=\"line2d_32\"/>\n   <g id=\"patch_9\">\n    <path d=\"M 58.523438 674.399219 \nL 58.523438 353.099219 \n\" style=\"fill:none;stroke:#000000;stroke-linecap:square;stroke-linejoin:miter;stroke-width:0.8;\"/>\n   </g>\n   <g id=\"patch_10\">\n    <path d=\"M 334.360937 674.399219 \nL 334.360937 353.099219 \n\" style=\"fill:none;stroke:#000000;stroke-linecap:square;stroke-linejoin:miter;stroke-width:0.8;\"/>\n   </g>\n   <g id=\"patch_11\">\n    <path d=\"M 58.523437 674.399219 \nL 334.360937 674.399219 \n\" style=\"fill:none;stroke:#000000;stroke-linecap:square;stroke-linejoin:miter;stroke-width:0.8;\"/>\n   </g>\n   <g id=\"patch_12\">\n    <path d=\"M 58.523437 353.099219 \nL 334.360937 353.099219 \n\" style=\"fill:none;stroke:#000000;stroke-linecap:square;stroke-linejoin:miter;stroke-width:0.8;\"/>\n   </g>\n   <g id=\"legend_2\">\n    <g id=\"patch_13\">\n     <path d=\"M 276.273438 375.777344 \nL 327.360937 375.777344 \nQ 329.360937 375.777344 329.360937 373.777344 \nL 329.360937 360.099219 \nQ 329.360937 358.099219 327.360937 358.099219 \nL 276.273438 358.099219 \nQ 274.273438 358.099219 274.273438 360.099219 \nL 274.273438 373.777344 \nQ 274.273438 375.777344 276.273438 375.777344 \nz\n\" style=\"fill:#ffffff;opacity:0.8;stroke:#cccccc;stroke-linejoin:miter;\"/>\n    </g>\n    <g id=\"line2d_33\">\n     <path d=\"M 278.273438 366.197656 \nL 298.273438 366.197656 \n\" style=\"fill:none;stroke:#1f77b4;stroke-linecap:square;stroke-width:1.5;\"/>\n    </g>\n    <g id=\"line2d_34\"/>\n    <g id=\"text_26\">\n     <!-- 286 -->\n     <g transform=\"translate(306.273438 369.697656)scale(0.1 -0.1)\">\n      <use xlink:href=\"#DejaVuSans-50\"/>\n      <use x=\"63.623047\" xlink:href=\"#DejaVuSans-56\"/>\n      <use x=\"127.246094\" xlink:href=\"#DejaVuSans-54\"/>\n     </g>\n    </g>\n   </g>\n  </g>\n </g>\n</svg>\n",
      "image/png": "[encoded data removed]"
     },
     "metadata": {
      "needs_background": "light"
     }
    }
   ],
   "metadata": {}
  },
  {
   "cell_type": "markdown",
   "source": [
    "## MockFlyer with motor and pseudo-detector\n",
    "\n",
    "ophyd's *MockFlyer* example : https://github.com/NSLS-II/ophyd/blob/master/ophyd/sim.py#L546"
   ],
   "metadata": {}
  },
  {
   "cell_type": "code",
   "execution_count": null,
   "source": [
    "import asyncio\n",
    "from collections import deque\n",
    "from collections import OrderedDict\n",
    "from ophyd import DeviceStatus\n",
    "import time\n",
    "\n",
    "class MockFlyer:\n",
    "    \"\"\"\n",
    "    Class for mocking a flyscan API implemented with stepper motors.\n",
    "    \"\"\"\n",
    "\n",
    "    def __init__(self, name, detector, motor, start, stop, num, loop=None):\n",
    "        self.name = name\n",
    "        self.parent = None\n",
    "        self._mot = motor\n",
    "        self._detector = detector\n",
    "        self._steps = np.linspace(start, stop, num)\n",
    "        self._data = deque()\n",
    "        self._completion_status = None\n",
    "        if loop is None:\n",
    "            loop = asyncio.get_event_loop()\n",
    "        self.loop = loop\n",
    "\n",
    "    def __setstate__(self, val):\n",
    "        name, detector, motor, steps = val\n",
    "        self.name = name\n",
    "        self.parent = None\n",
    "        self._mot = motor\n",
    "        self._detector = detector\n",
    "        self._steps = steps\n",
    "        self._completion_status = None\n",
    "        self.loop = asyncio.get_event_loop()\n",
    "\n",
    "    def __getstate__(self):\n",
    "        return (self.name, self._detector, self._mot, self._steps)\n",
    "\n",
    "    def read_configuration(self):\n",
    "        return OrderedDict()\n",
    "\n",
    "    def describe_configuration(self):\n",
    "        return OrderedDict()\n",
    "\n",
    "    def describe_collect(self):\n",
    "        dd = dict()\n",
    "        dd.update(self._mot.describe())\n",
    "        dd.update(self._detector.describe())\n",
    "        return {'stream_name': dd}\n",
    "\n",
    "    def complete(self):\n",
    "        if self._completion_status is None:\n",
    "            raise RuntimeError(\"No collection in progress\")\n",
    "        return self._completion_status\n",
    "\n",
    "    def kickoff(self):\n",
    "        if self._completion_status is not None:\n",
    "            raise RuntimeError(\"Already kicked off.\")\n",
    "        self._data = deque()\n",
    "\n",
    "        self._future = self.loop.run_in_executor(None, self._scan)\n",
    "        st = DeviceStatus(device=self)\n",
    "        self._completion_status = st\n",
    "        self._future.add_done_callback(lambda x: st._finished())\n",
    "        return st\n",
    "\n",
    "    def collect(self):\n",
    "        if self._completion_status is None or not self._completion_status.done:\n",
    "            raise RuntimeError(\"No reading until done!\")\n",
    "        self._completion_status = None\n",
    "\n",
    "        yield from self._data\n",
    "\n",
    "    def _scan(self):\n",
    "        \"This will be run on a separate thread, started in self.kickoff()\"\n",
    "        time.sleep(.1)\n",
    "        for p in self._steps:\n",
    "            stat = self._mot.set(p)\n",
    "            while True:\n",
    "                if stat.done:\n",
    "                    break\n",
    "                time.sleep(0.01)\n",
    "            stat = self._detector.trigger()\n",
    "            while True:\n",
    "                if stat.done:\n",
    "                    break\n",
    "                time.sleep(0.01)\n",
    "\n",
    "            event = dict()\n",
    "            event['time'] = time.time()\n",
    "            event['data'] = dict()\n",
    "            event['timestamps'] = dict()\n",
    "            for r in [self._mot, self._detector]:\n",
    "                d = r.read()\n",
    "                for k, v in d.items():\n",
    "                    event['data'][k] = v['value']\n",
    "                    event['timestamps'][k] = v['timestamp']\n",
    "            self._data.append(event)\n",
    "\n",
    "    def stop(self, *, success=False):\n",
    "        pass\n"
   ],
   "outputs": [],
   "metadata": {}
  },
  {
   "cell_type": "code",
   "execution_count": null,
   "source": [
    "mflyer = MockFlyer('mflyer', noisy, m1, -1.1, 1.2, 29)"
   ],
   "outputs": [],
   "metadata": {}
  },
  {
   "cell_type": "code",
   "execution_count": null,
   "source": [
    "RE(bp.scan([noisy], m1, -1.1, 1.1, 11))"
   ],
   "outputs": [],
   "metadata": {}
  },
  {
   "cell_type": "code",
   "execution_count": null,
   "source": [
    "run = cat[-1]\n",
    "run.primary.read()"
   ],
   "outputs": [],
   "metadata": {}
  }
 ],
 "metadata": {
  "interpreter": {
   "hash": "fa399ef8ed4fbc3b7fe63ebf4307839a170374bf77134d519fcb3b724ac0582b"
  },
  "kernelspec": {
   "name": "python3",
   "display_name": "Python 3.8.10 64-bit ('bluesky_2021_2': conda)"
  },
  "language_info": {
   "codemirror_mode": {
    "name": "ipython",
    "version": 3
   },
   "file_extension": ".py",
   "mimetype": "text/x-python",
   "name": "python",
   "nbconvert_exporter": "python",
   "pygments_lexer": "ipython3",
   "version": "3.8.10"
  }
 },
 "nbformat": 4,
 "nbformat_minor": 4
}