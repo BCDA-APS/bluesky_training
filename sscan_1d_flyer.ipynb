{
 "cells": [
  {
   "cell_type": "markdown",
   "metadata": {},
   "source": [
    "# sscan as 1D Flyer\n",
    "\n",
    "<font color=\"red\">NOTE</font>: This notebook is under construction!\n",
    "\n",
    "## 1D step scans using sscan record\n",
    "\n",
    "Use the [sscan record](https://epics.anl.gov/bcda/synApps/sscan/sscanRecord.html) as an [ophyd Flyer](http://nsls-ii.github.io/bluesky/async.html) for [bluesky](http://nsls-ii.github.io/bluesky) data acquisition.  Consider the case of [1D step scans using sscan record](https://epics.anl.gov/bcda/synApps/sscan/sscanRecord.html#HEADING_1-1).\n",
    "\n",
    "Suggest the _noisy v m1_ scan, done as 1-D step scan with sscan record.  noisy is the swait record calculating a peak based on m1 position."
   ]
  },
  {
   "cell_type": "code",
   "execution_count": 1,
   "metadata": {},
   "outputs": [
    {
     "name": "stderr",
     "output_type": "stream",
     "text": [
      "I Sat-23:31:08 - ############################################################ startup\n",
      "I Sat-23:31:08 - logging started\n",
      "I Sat-23:31:08 - logging level = 10\n",
      "I Sat-23:31:08 - /home/prjemian/bluesky/instrument/collection.py\n",
      "I Sat-23:31:08 - /home/prjemian/bluesky/instrument/mpl/notebook.py\n",
      "I Sat-23:31:08 - #### Bluesky Framework ####\n",
      "I Sat-23:31:08 - /home/prjemian/bluesky/instrument/framework/check_python.py\n",
      "I Sat-23:31:08 - /home/prjemian/bluesky/instrument/framework/check_bluesky.py\n"
     ]
    },
    {
     "name": "stdout",
     "output_type": "stream",
     "text": [
      "Activating auto-logging. Current session state plus future input saved.\n",
      "Filename       : /home/prjemian/Documents/projects/BCDA-APS/bluesky_training/.logs/ipython_console.log\n",
      "Mode           : rotate\n",
      "Output logging : True\n",
      "Raw input log  : False\n",
      "Timestamping   : True\n",
      "State          : active\n"
     ]
    },
    {
     "name": "stderr",
     "output_type": "stream",
     "text": [
      "I Sat-23:31:09 - /home/prjemian/bluesky/instrument/framework/initialize.py\n",
      "I Sat-23:31:10 - using databroker catalog 'training'\n",
      "I Sat-23:31:10 - /home/prjemian/bluesky/instrument/framework/metadata.py\n",
      "I Sat-23:31:10 - #### Devices ####\n",
      "I Sat-23:31:10 - /home/prjemian/bluesky/instrument/devices/area_detector.py\n",
      "I Sat-23:31:10 - /home/prjemian/bluesky/instrument/devices/calculation_records.py\n",
      "I Sat-23:31:12 - /home/prjemian/bluesky/instrument/devices/ioc_stats.py\n",
      "I Sat-23:31:12 - /home/prjemian/bluesky/instrument/devices/motors.py\n",
      "I Sat-23:31:12 - /home/prjemian/bluesky/instrument/devices/noisy_detector.py\n",
      "I Sat-23:31:12 - /home/prjemian/bluesky/instrument/devices/scaler.py\n",
      "I Sat-23:31:13 - /home/prjemian/bluesky/instrument/devices/shutter_simulator.py\n",
      "I Sat-23:31:13 - /home/prjemian/bluesky/instrument/devices/temperature_signal.py\n",
      "I Sat-23:31:13 - #### Callbacks ####\n",
      "I Sat-23:31:13 - /home/prjemian/bluesky/instrument/callbacks/spec_data_file_writer.py\n",
      "I Sat-23:31:14 - writing to SPEC file: /home/prjemian/Documents/projects/BCDA-APS/bluesky_training/20210904-233114.dat\n",
      "I Sat-23:31:14 -    >>>>   Using default SPEC file name   <<<<\n",
      "I Sat-23:31:14 -    file will be created when bluesky ends its next scan\n",
      "I Sat-23:31:14 -    to change SPEC file, use command:   newSpecFile('title')\n",
      "I Sat-23:31:14 - #### Plans ####\n",
      "I Sat-23:31:14 - /home/prjemian/bluesky/instrument/plans/peak_finder_example.py\n",
      "I Sat-23:31:14 - #### Utilities ####\n",
      "I Sat-23:31:14 - /home/prjemian/bluesky/instrument/utils/image_analysis.py\n",
      "I Sat-23:31:14 - #### Startup is complete. ####\n"
     ]
    }
   ],
   "source": [
    "%matplotlib notebook\n",
    "\n",
    "import os, pathlib, sys\n",
    "sys.path.append(os.path.abspath(os.path.join(pathlib.Path.home(), \"bluesky\")))\n",
    "from instrument.collection import *"
   ]
  },
  {
   "cell_type": "code",
   "execution_count": 2,
   "metadata": {},
   "outputs": [],
   "source": [
    "# add this notebook's name to the metadata\n",
    "\n",
    "RE.md[\"notebook\"] = \"sscan_1d_flyer\""
   ]
  },
  {
   "cell_type": "code",
   "execution_count": 3,
   "metadata": {},
   "outputs": [],
   "source": [
    "# define the IOC's prefix\n",
    "\n",
    "ioc = \"gp:\""
   ]
  },
  {
   "cell_type": "markdown",
   "metadata": {},
   "source": [
    "## Bluesky step scan\n",
    "\n",
    "We are told that the `noisy` signal will show a peak when `m1` is moved over the range `[-1 .. +1]`.  Use *bluesky* to show that peak."
   ]
  },
  {
   "cell_type": "code",
   "execution_count": 4,
   "metadata": {},
   "outputs": [
    {
     "name": "stdout",
     "output_type": "stream",
     "text": [
      "\n",
      "\n",
      "Transient Scan ID: 313     Time: 2021-09-04 23:31:14\n",
      "Persistent Unique Scan ID: '7247c37a-5c5a-41c4-b42c-93e643f510d5'\n",
      "New stream: 'baseline'\n",
      "New stream: 'primary'\n",
      "+-----------+------------+------------+------------+\n",
      "|   seq_num |       time |         m1 |      noisy |\n",
      "+-----------+------------+------------+------------+\n",
      "|         1 | 23:31:16.7 |   -1.10000 |  999.09088 |\n",
      "|         2 | 23:31:17.1 |   -0.99000 | 1144.58408 |\n",
      "|         3 | 23:31:17.5 |   -0.88000 | 1495.48714 |\n",
      "|         4 | 23:31:17.9 |   -0.77000 | 1860.67587 |\n",
      "|         5 | 23:31:18.3 |   -0.66000 | 2484.27244 |\n",
      "|         6 | 23:31:18.7 |   -0.55000 | 3225.86197 |\n",
      "|         7 | 23:31:19.1 |   -0.44000 | 4743.17255 |\n",
      "|         8 | 23:31:19.5 |   -0.33000 | 7764.52017 |\n",
      "|         9 | 23:31:19.9 |   -0.22000 | 13343.76724 |\n",
      "|        10 | 23:31:20.3 |   -0.11000 | 28160.54394 |\n",
      "|        11 | 23:31:20.7 |    0.00000 | 68850.85010 |\n",
      "|        12 | 23:31:21.1 |    0.11000 | 84350.86770 |\n",
      "|        13 | 23:31:21.5 |    0.22000 | 35973.23521 |\n",
      "|        14 | 23:31:21.9 |    0.33000 | 15961.82469 |\n",
      "|        15 | 23:31:22.3 |    0.44000 | 8789.56355 |\n",
      "|        16 | 23:31:22.7 |    0.55000 | 5326.73352 |\n",
      "|        17 | 23:31:23.1 |    0.66000 | 3694.16381 |\n",
      "|        18 | 23:31:23.5 |    0.77000 | 2706.08237 |\n",
      "|        19 | 23:31:23.9 |    0.88000 | 1933.41069 |\n",
      "|        20 | 23:31:24.3 |    0.99000 | 1533.57583 |\n",
      "|        21 | 23:31:24.7 |    1.10000 | 1260.55736 |\n",
      "+-----------+------------+------------+------------+\n",
      "generator scan ['7247c37a'] (scan num: 313)\n"
     ]
    },
    {
     "data": {
      "image/png": "[encoded data removed]",
      "text/plain": [
       "<Figure size 360x360 with 1 Axes>"
      ]
     },
     "metadata": {
      "needs_background": "light"
     },
     "output_type": "display_data"
    }
   ],
   "source": [
    "if True:\n",
    "    # show a pre-assembled bluesky.plans.scan() acquisition\n",
    "    RE(bp.scan([noisy], m1, -1.1, 1.1, 21))"
   ]
  },
  {
   "cell_type": "markdown",
   "metadata": {},
   "source": [
    "## sscan as Bluesky Flyer"
   ]
  },
  {
   "cell_type": "code",
   "execution_count": 5,
   "metadata": {},
   "outputs": [],
   "source": [
    "from ophyd import DeviceStatus, Signal\n",
    "from ophyd.flyers import FlyerInterface\n",
    "from apstools.synApps import SscanRecord"
   ]
  },
  {
   "cell_type": "markdown",
   "metadata": {},
   "source": [
    "<details>\n",
    "<summary>if save data is to be used</summary>\n",
    "\n",
    "```python\n",
    "# TODO: if save data is to be used\n",
    "\n",
    "# # configure saveData for data collection into MDA files:\n",
    "# save_data.stage_sigs[\"file_system\"] = \"/tmp\"\n",
    "# save_data.stage_sigs[\"subdirectory\"] = \"saveData\"\n",
    "# save_data.stage_sigs[\"base_name\"] = \"sscan1_\"\n",
    "# save_data.stage_sigs[\"next_scan_number\"] = 1\n",
    "# save_data.stage_sigs[\"comment1\"] = \"testing\"\n",
    "# save_data.stage_sigs[\"comment2\"] = \"configured and run from ophyd\"\n",
    "```\n",
    "\n",
    "</details>"
   ]
  },
  {
   "cell_type": "markdown",
   "metadata": {},
   "source": [
    "----------------"
   ]
  },
  {
   "cell_type": "code",
   "execution_count": 6,
   "metadata": {},
   "outputs": [],
   "source": [
    "class SscanFlyer_1D_StepSimple(FlyerInterface, SscanRecord):\n",
    "\n",
    "    def __init__(self, *args, **kwargs):\n",
    "        self._acquiring = False\n",
    "\n",
    "        super().__init__(*args, **kwargs)\n",
    "\n",
    "    def stage(self):\n",
    "        self.select_channels()\n",
    "        super().stage()\n",
    "\n",
    "    def unstage(self):\n",
    "        super().unstage()\n",
    "        self.select_channels()\n",
    "\n",
    "    def setup_staging_1D_step(self, start=-1.1, finish=1.1, num=21, ddelay=0.01, pdelay=0):\n",
    "        # configure sscan record for 1D step scan: noisy v. m1\n",
    "        self.xref = dict(\n",
    "            raw_positioners=[m1, ],\n",
    "            positioners=[m1, ],\n",
    "            raw_detectors=[noisy, ],\n",
    "            detectors=[noisy, m1.user_setpoint]  # include motor setpoints array\n",
    "        )\n",
    "        self.stage_sigs[\"number_points\"] = num\n",
    "        self.stage_sigs[\"pasm\"] = \"PRIOR POS\"\n",
    "        self.stage_sigs[\"positioner_delay\"] = pdelay\n",
    "        for i, p in enumerate(self.xref[\"raw_positioners\"]):\n",
    "            self.stage_sigs[f\"positioners.p{i+1}.setpoint_pv\"] = p.user_setpoint.pvname\n",
    "            self.stage_sigs[f\"positioners.p{i+1}.readback_pv\"] = p.user_readback.pvname\n",
    "            self.stage_sigs[f\"positioners.p{i+1}.start\"] = start\n",
    "            self.stage_sigs[f\"positioners.p{i+1}.end\"] = finish\n",
    "        self.stage_sigs[\"detector_delay\"] = ddelay\n",
    "        for i, d in enumerate(self.xref[\"detectors\"]):\n",
    "            self.stage_sigs[f\"detectors.d{i+1:02d}.input_pv\"] = d.pvname\n",
    "\n",
    "        # get timestamp of each point in the scan\n",
    "        # This is a sscan record trick that returns the time (s) since the scan started.\n",
    "        self.stage_sigs[f\"positioners.p4.readback_pv\"] = \"time\"\n",
    "\n",
    "    def read_configuration(self):\n",
    "        return {}\n",
    "\n",
    "    def describe_configuration(self):\n",
    "        return {}\n",
    "\n",
    "    def kickoff(self):\n",
    "        self.setup_staging_1D_step()\n",
    "\n",
    "        # set(), do not `yield`, in kickoff()\n",
    "        self.execute_scan.set(1)  # start the sscan record\n",
    "        self._acquiring = True\n",
    "\n",
    "        status = DeviceStatus(self)\n",
    "        status.set_finished()  # means that kickoff was successful\n",
    "        return status\n",
    "\n",
    "    def complete(self):\n",
    "        \"\"\"Wait for sscan to complete.\"\"\"\n",
    "        logging.info(\"complete() starting\")\n",
    "        if not self._acquiring:\n",
    "            raise RuntimeError(\"Not acquiring\")\n",
    "\n",
    "        st = DeviceStatus(self)\n",
    "        cb_started = False\n",
    "\n",
    "        def execute_scan_cb(value, timestamp, **kwargs):\n",
    "            value = int(value)\n",
    "            if cb_started and value == 0:\n",
    "                logging.info(\"complete() ending\")\n",
    "                self.unstage()\n",
    "                self._acquiring = False\n",
    "                self.execute_scan.unsubscribe(execute_scan_cb)\n",
    "                if not st.done:\n",
    "                    logging.info(\"Setting %s execute status to `done`.\", self.name)\n",
    "                    st.set_finished()\n",
    "\n",
    "        self.execute_scan.subscribe(execute_scan_cb)\n",
    "        # self.execute_scan.set(1)\n",
    "        cb_started = True\n",
    "        return st\n",
    "\n",
    "    def describe_collect(self):\n",
    "        # http://nsls-ii.github.io/ophyd/generated/ophyd.flyers.FlyerInterface.describe_collect.html\n",
    "        # Provide schema & meta-data from collect()\n",
    "        dd = {}\n",
    "        dd.update(m1.describe())\n",
    "        dd.update(noisy.describe())\n",
    "        return {self.name: dd}\n",
    "\n",
    "    def collect(self):\n",
    "        \"\"\"Retrieve all collected data (after complete()).\"\"\"\n",
    "        if self._acquiring:\n",
    "            raise RuntimeError(\"Acquisition still in progress. Call complete() first.\")\n",
    "        # http://nsls-ii.github.io/ophyd/generated/ophyd.flyers.FlyerInterface.collect.html\n",
    "        # Retrieve data from the flyer as proto-events\n",
    "        \n",
    "        def get_data_from_sscan(obj, n):\n",
    "            data = obj.read()[obj.name]\n",
    "            data[\"value\"] = list(data[\"value\"][:n])\n",
    "            return data\n",
    "\n",
    "        def mkdoc(seq_num, values):\n",
    "            timestamp = values.pop(\"__ts__\")\n",
    "            yield dict(\n",
    "                seq_num=seq_num,\n",
    "                time=timestamp,\n",
    "                data={k: v for k, v in values.items()},\n",
    "                timestamps={k: timestamp for k in values},\n",
    "            )\n",
    "\n",
    "        def read_sscan_data(scan):\n",
    "            _cp = scan.current_point.read()[scan.current_point.name]\n",
    "            n = _cp[\"value\"]\n",
    "            ts_last_point = _cp[\"timestamp\"]\n",
    "\n",
    "            # get the per-step time stamps from positioner 4\n",
    "            ts_arr = self.positioners.p4.array.get(use_monitor=False)[:n]\n",
    "            ts_arr = ts_last_point + ts_arr - ts_arr.max()\n",
    "\n",
    "            results = dict(__ts__=list(ts_arr))\n",
    "\n",
    "            # This gets the full array for each item in one document\n",
    "            for category, signals in scan.xref.items():\n",
    "                for i, signal in enumerate(signals):\n",
    "                    if category == \"positioners\":\n",
    "                        item = f\"p{i+1}\"\n",
    "                    elif category == \"detectors\":\n",
    "                        item = f\"d{i+1:02d}\"\n",
    "                    else:\n",
    "                        continue\n",
    "                    data = get_data_from_sscan(getattr(scan, f\"{category}.{item}.array\"), n)\n",
    "                    results[signal.name] = data[\"value\"]\n",
    "\n",
    "            for i in range(n):\n",
    "                yield from mkdoc(i+1, {k: results[k][i] for k in results})\n",
    "\n",
    "        yield from read_sscan_data(self)\n",
    "        # self.unstage()"
   ]
  },
  {
   "cell_type": "code",
   "execution_count": 7,
   "metadata": {},
   "outputs": [],
   "source": [
    "flyer = SscanFlyer_1D_StepSimple(f\"{ioc}scan1\", name=\"flyer\")\n",
    "flyer.wait_for_connection()  # sscan records have _many_ channels and fields\n",
    "flyer.reset()  # clear out any previous configuration"
   ]
  },
  {
   "cell_type": "code",
   "execution_count": 8,
   "metadata": {},
   "outputs": [
    {
     "data": {
      "text/plain": [
       "0"
      ]
     },
     "execution_count": 8,
     "metadata": {},
     "output_type": "execute_result"
    }
   ],
   "source": [
    "import yaml, json, pprint, datetime\n",
    "\n",
    "def doc_printer(key, doc):\n",
    "    print(key, len(doc))\n",
    "    # if key in (\"descriptor\", \"bulk_events\"):\n",
    "    #     # print(yaml.dump(doc), sys.stdout)\n",
    "    #     # print(json.dumps(doc))\n",
    "    pprint.pprint(doc)\n",
    "\n",
    "import bluesky\n",
    "_RE = bluesky.RunEngine({})\n",
    "_RE.subscribe(doc_printer)"
   ]
  },
  {
   "cell_type": "code",
   "execution_count": 9,
   "metadata": {},
   "outputs": [
    {
     "name": "stdout",
     "output_type": "stream",
     "text": [
      "\n",
      "\n",
      "Transient Scan ID: 314     Time: 2021-09-04 23:31:27\n",
      "Persistent Unique Scan ID: '80aa2128-28a1-4b84-be4d-c0082c225179'\n",
      "New stream: 'baseline'\n",
      "New stream: 'flyer'\n"
     ]
    },
    {
     "name": "stderr",
     "output_type": "stream",
     "text": [
      "/home/prjemian/.local/lib/python3.8/site-packages/event_model/__init__.py:208: UserWarning: The document type 'bulk_events' has been deprecated in favor of 'event_page', whose structure is a transpose of 'bulk_events'.\n",
      "  warnings.warn(\n"
     ]
    }
   ],
   "source": [
    "flyer.setup_staging_1D_step(num=71)\n",
    "flyer.select_channels()\n",
    "\n",
    "flyer.unstage()\n",
    "flyer.stage()\n",
    "\n",
    "RE(bp.fly([flyer]))\n",
    "flyer.unstage()"
   ]
  },
  {
   "cell_type": "code",
   "execution_count": 10,
   "metadata": {},
   "outputs": [
    {
     "data": {
      "text/plain": [
       "<matplotlib.collections.PathCollection at 0x7f6b651b6940>"
      ]
     },
     "execution_count": 10,
     "metadata": {},
     "output_type": "execute_result"
    },
    {
     "data": {
      "image/png": "[encoded data removed]",
      "text/plain": [
       "<Figure size 432x288 with 1 Axes>"
      ]
     },
     "metadata": {
      "needs_background": "light"
     },
     "output_type": "display_data"
    }
   ],
   "source": [
    "run = cat[-1]\n",
    "data = run.flyer.read()\n",
    "data.plot.scatter(\"m1_user_setpoint\", \"noisy\")"
   ]
  }
 ],
 "metadata": {
  "interpreter": {
   "hash": "fa399ef8ed4fbc3b7fe63ebf4307839a170374bf77134d519fcb3b724ac0582b"
  },
  "kernelspec": {
   "display_name": "Python 3",
   "language": "python",
   "name": "python3"
  },
  "language_info": {
   "codemirror_mode": {
    "name": "ipython",
    "version": 3
   },
   "file_extension": ".py",
   "mimetype": "text/x-python",
   "name": "python",
   "nbconvert_exporter": "python",
   "pygments_lexer": "ipython3",
   "version": "3.8.10"
  }
 },
 "nbformat": 4,
 "nbformat_minor": 4
}
