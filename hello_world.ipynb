{
 "cells": [
  {
   "cell_type": "markdown",
   "source": [
    "# Bluesky *Hello, World!*\n",
    "\n",
    "From *APS Python Training for Bluesky Data Acquisition*.\n",
    "\n",
    "**Objective**:\n",
    "A few lines of Python to test:\n",
    "\n",
    "* account is setup\n",
    "* basic import works\n",
    "* [`ophyd`](blueskyproject.io/ophyd) package is importable\n",
    "* [`PyEpics`](http://pyepics.github.io/pyepics/) connects with [EPICS](https://epics.anl.gov) [IOC](https://github.com/prjemian/epics-docker)\n",
    "* EPICS IOC is running\n",
    "\n",
    "Note: A *Hello, World!* program tests that the most basic infrastructure is working for users."
   ],
   "metadata": {}
  },
  {
   "cell_type": "code",
   "execution_count": 1,
   "source": [
    "ioc = \"gp:\"\n",
    "print(f\"{ioc = }\")"
   ],
   "outputs": [
    {
     "output_type": "stream",
     "name": "stdout",
     "text": [
      "ioc = 'gp:'\n"
     ]
    }
   ],
   "metadata": {}
  },
  {
   "cell_type": "code",
   "execution_count": 2,
   "source": [
    "from ophyd import EpicsSignal"
   ],
   "outputs": [],
   "metadata": {}
  },
  {
   "cell_type": "code",
   "execution_count": 3,
   "source": [
    "uptime =  EpicsSignal(f\"{ioc}UPTIME\", name=\"uptime\")\n",
    "print(f\"{uptime.connected = }\")"
   ],
   "outputs": [
    {
     "output_type": "stream",
     "name": "stdout",
     "text": [
      "uptime.connected = False\n"
     ]
    }
   ],
   "metadata": {}
  },
  {
   "cell_type": "code",
   "execution_count": 4,
   "source": [
    "uptime.wait_for_connection()\n",
    "print(f\"{uptime.connected = }\")"
   ],
   "outputs": [
    {
     "output_type": "stream",
     "name": "stdout",
     "text": [
      "uptime.connected = True\n"
     ]
    }
   ],
   "metadata": {}
  },
  {
   "cell_type": "code",
   "execution_count": 5,
   "source": [
    "print(f\"{uptime.get() = }\")"
   ],
   "outputs": [
    {
     "output_type": "stream",
     "name": "stdout",
     "text": [
      "uptime.get() = '00:33:35'\n"
     ]
    }
   ],
   "metadata": {}
  }
 ],
 "metadata": {
  "kernelspec": {
   "name": "python385jvsc74a57bd07dab0508751cb82e61e81c3615f36912821e9ee8b7d6dc826bc4bbc1ddc8fd45",
   "display_name": "Python 3.8.5 64-bit ('bluesky_2021_1': conda)"
  },
  "language_info": {
   "codemirror_mode": {
    "name": "ipython",
    "version": 3
   },
   "file_extension": ".py",
   "mimetype": "text/x-python",
   "name": "python",
   "nbconvert_exporter": "python",
   "pygments_lexer": "ipython3",
   "version": "3.8.5-final"
  }
 },
 "nbformat": 4,
 "nbformat_minor": 4
}