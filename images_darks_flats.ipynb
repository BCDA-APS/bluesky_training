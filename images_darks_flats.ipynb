{
 "cells": [
  {
   "attachments": {},
   "cell_type": "markdown",
   "metadata": {},
   "source": [
    "# Images, Darks, & Flats with EPICS area detector, ophyd, and Bluesky\n",
    "\n",
    "**TODO**: work-in-progress\n",
    "\n",
    "The HDF5 File Writer\n",
    "[plugin](https://areadetector.github.io/areaDetector/ADCore/NDFileHDF5.html) can\n",
    "be configured to save image frames into separate datasets within the same HDF5\n",
    "data file.  The selection of frame type (image frame, background/dark frame,\n",
    "white/flat frame) is made by use of an existing PV in area detector:\n",
    "`$(P):cam1:FrameType` which is an *mbbo* record.  In ophyd, the readback version\n",
    "of this PV: `$(P):cam1:FrameType_RBV` is used to define operational values for\n",
    "the ophyd device.  Be sure to configure the readback PV with the same values.\n",
    "\n",
    "meaning | PV value | PV field | default | dxchange | NeXus\n",
    "--- | --- | --- | --- | --- | ---\n",
    "image frame | 0 | `ZRST` | `Normal` | `/exchange/data` | `/entry/data/data`\n",
    "background/dark frame | 1 | `ONST` | `Background` | `/exchange/data_dark` | `/entry/data/dark`\n",
    "white/flat frame | 2 | `TWST` | `FlatField` | `/exchange/data_white` | `/entry/data/white`\n",
    "not used | 3 | `THST` | `DblCorrelation` | `\"\"` | `\"\"`\n",
    "not used | 4 | `FRST` | `\"\"` | `\"\"` | `\"\"`\n",
    "\n",
    "Using the values (addresses of HDF5 groups) for the chosen format (dxchange or\n",
    "NeXus), set the fields of **both** these PVs (`$(P):cam1:FrameType` and\n",
    "`$(P):cam1:FrameType_RBV`).\n",
    "\n",
    "In NeXus, the detector data is stored within the instrument group, traditionally\n",
    "at `/entry/instrument/detector/`.  We then hard link that into the `/entry/data`\n",
    "group.  The hard link allows us to shorten the address string to fit within the\n",
    "maximum 25 characters allowed by the EPICS\n",
    "[mbbo](https://epics.anl.gov/base/R7-0/6-docs/mbboRecord.html) record.  We write\n",
    "the data into the `/entry/data` group and hard link it (in the layout.xml file)\n",
    "to the instrument group.\n",
    "\n",
    "**Tip**:  Whichever format you use, be sure the fields are put in the IOC's\n",
    "autosave configuration so they are restored when the IOC is restarted!\n",
    "\n",
    "The area detector attributes XML file needs the selection PV included in its\n",
    "list.  We'll call it `SaveDest` so we can use the same name in the layout file:\n",
    "\n",
    "    <Attribute \n",
    "        name=\"SaveDest\"\n",
    "        type=\"EPICS_PV\"\n",
    "        source=\"13SIM1:cam1:FrameType\"\n",
    "        dbrtype=\"DBR_STRING\"\n",
    "        description=\"image, dark, or flat frame\"/>\n",
    "\n",
    "Then, the HDF5 layout XML file refers to this `SaveDest` attribute in the setup\n",
    "(add this to the XML file just after the opening `hdf5_layout` and before the\n",
    "first `group` element)\n",
    "\n",
    "    <global name=\"detector_data_destination\" ndattribute=\"SaveDest\" />\n",
    "\n",
    "The name `detector_data_destination` is hard-coded in the source code of the HDF5 file writer.\n",
    "\n",
    "In the Bluesky plan, write the frame type with 0: image, 1: dark, 2: flat before\n",
    "acquiring the image frame of that type.  Then the HDF5 file writer will direct\n",
    "the image frame to the correct dataset as specified by the ZRST, ONST, or TWST\n",
    "field, respectively."
   ]
  },
  {
   "cell_type": "markdown",
   "metadata": {},
   "source": [
    "## Try it with a NeXus file and the AD SimDetector"
   ]
  },
  {
   "cell_type": "markdown",
   "metadata": {},
   "source": [
    "First, configure an instance of the sim detector."
   ]
  },
  {
   "cell_type": "code",
   "execution_count": 1,
   "metadata": {},
   "outputs": [],
   "source": [
    "import pathlib\n",
    "import h5py\n",
    "\n",
    "import apstools\n",
    "import databroker\n",
    "from apstools.devices import CamMixin_V34\n",
    "from ophyd import Component\n",
    "from ophyd import Device\n",
    "from ophyd import EpicsSignal\n",
    "from ophyd import SimDetector\n",
    "from ophyd.areadetector import SimDetectorCam\n",
    "from ophyd.areadetector.plugins import HDF5Plugin_V34\n",
    "from ophyd.areadetector.plugins import ImagePlugin_V34\n",
    "from ophyd.areadetector.plugins import PvaPlugin_V34\n",
    "\n",
    "# IOC sees /tmp directory, here it is on host workstation.\n",
    "WORKSTATION_PREFIX = pathlib.Path(\"/tmp/docker_ioc/iocad/tmp\")\n",
    "\n",
    "class MySimDetectorCam(CamMixin_V34, SimDetectorCam):\n",
    "    \"\"\"Cam support for latest AD changes.\"\"\"\n",
    "\n",
    "class MyHDF5Plugin(HDF5Plugin_V34):\n",
    "    layout_filename = Component(EpicsSignal, \"XMLFileName\", kind=\"config\", string=True)\n",
    "    layout_filename_valid = Component(EpicsSignal, \"XMLValid_RBV\", string=True)\n",
    "    nd_attr_status = Component(EpicsSignal, \"NDAttributesStatus\", string=True)\n",
    "\n",
    "class MyDetector(SimDetector):\n",
    "    cam = Component(MySimDetectorCam, suffix=\"cam1:\")\n",
    "    hdf1 = Component(MyHDF5Plugin, suffix=\"HDF1:\")\n",
    "    image = Component(ImagePlugin_V34, suffix=\"image1:\")\n",
    "    pva1 = Component(PvaPlugin_V34, suffix=\"Pva1:\")"
   ]
  },
  {
   "cell_type": "code",
   "execution_count": 2,
   "metadata": {
    "collapsed": true
   },
   "outputs": [],
   "source": [
    "ad_prefix = \"ad:\"\n",
    "adsimdet = MyDetector(ad_prefix, name=\"det\")\n",
    "adsimdet.wait_for_connection()"
   ]
  },
  {
   "cell_type": "markdown",
   "metadata": {},
   "source": [
    "Setup Bluesky"
   ]
  },
  {
   "cell_type": "code",
   "execution_count": 3,
   "metadata": {},
   "outputs": [],
   "source": [
    "import bluesky\n",
    "from bluesky import plans as bp\n",
    "\n",
    "cat = databroker.temp().v2\n",
    "RE = bluesky.RunEngine()\n",
    "RE.subscribe(cat.v1.insert)\n",
    "\n",
    "RE.md[\"title\"] = \"images, darks, & flats\"\n",
    "RE.md[\"versions\"][\"apstools\"] = apstools.__version__\n",
    "RE.md[\"repository\"] = \"bluesky_training\"\n",
    "RE.md[\"notebook\"] = \"images_darks_flats\""
   ]
  },
  {
   "attachments": {},
   "cell_type": "markdown",
   "metadata": {},
   "source": [
    "Set the counting time per frame (something short)."
   ]
  },
  {
   "cell_type": "code",
   "execution_count": 4,
   "metadata": {
    "collapsed": true
   },
   "outputs": [],
   "source": [
    "def set_ad_count_time(exposure=1, period=1):\n",
    "    adsimdet.cam.stage_sigs[\"acquire_time\"] = exposure\n",
    "    adsimdet.cam.stage_sigs[\"acquire_period\"] = period\n",
    "\n",
    "set_ad_count_time(exposure=0.02, period=0.1)"
   ]
  },
  {
   "attachments": {},
   "cell_type": "markdown",
   "metadata": {},
   "source": [
    "Set other detector parameters."
   ]
  },
  {
   "cell_type": "code",
   "execution_count": 5,
   "metadata": {},
   "outputs": [],
   "source": [
    "def ad_setup(det=adsimdet, nframes=1):\n",
    "    \"\"\"Make this a function.  We'll use again later.\"\"\"\n",
    "    det.cam.acquire.put(0)\n",
    "    det.cam.frame_type.kind = \"config\"\n",
    "    det.hdf1.capture.put(0)\n",
    "    det.hdf1.compression.put(\"zlib\")  # better than `\"None\"` (default)\n",
    "    det.hdf1.create_directory.put(-5)\n",
    "    det.hdf1.file_name.put(\"test_image\")\n",
    "    det.hdf1.file_path.put(\"/tmp\")\n",
    "    det.hdf1.kind = 3  # config | normal\n",
    "\n",
    "    if \"compression\" in det.hdf1.stage_sigs:\n",
    "        det.hdf1.stage_sigs.pop(\"create_directory\")\n",
    "\n",
    "    # The plugins do not block, the cam must wait for the plugins to finish.\n",
    "    for nm in det.component_names:\n",
    "        obj = getattr(det, nm)\n",
    "        if \"blocking_callbacks\" in dir(obj):  # is it a plugin?\n",
    "            obj.stage_sigs[\"blocking_callbacks\"] = \"No\"\n",
    "    det.cam.stage_sigs[\"wait_for_plugins\"] = \"Yes\"\n",
    "\n",
    "    det.cam.stage_sigs[\"num_images\"] = nframes\n",
    "    det.hdf1.stage_sigs[\"num_capture\"] = 0  # capture ALL frames received\n",
    "    det.hdf1.stage_sigs[\"auto_increment\"] = \"Yes\"\n",
    "    det.hdf1.stage_sigs[\"auto_save\"] = \"Yes\"\n",
    "    det.hdf1.stage_sigs[\"file_template\"] = \"%s%s_%4.4d.h5\"\n",
    "    det.hdf1.stage_sigs[\"file_write_mode\"] = \"Stream\"\n",
    "    det.hdf1.stage_sigs[\"store_attr\"] = \"Yes\"  # need in this notebook\n",
    "    det.hdf1.stage_sigs[\"store_perform\"] = \"No\"  # optional\n",
    "    det.hdf1.stage_sigs[\"auto_increment\"] = \"Yes\"\n",
    "    det.hdf1.stage_sigs[\"capture\"] = 1  # ALWAYS last\n",
    "    det.hdf1.stage_sigs.move_to_end(\"capture\")  # ... just in case\n",
    "\n",
    "NUM_FRAMES = 5\n",
    "ad_setup(det=adsimdet, nframes=NUM_FRAMES)"
   ]
  },
  {
   "cell_type": "code",
   "execution_count": 6,
   "metadata": {},
   "outputs": [],
   "source": [
    "# Clear these settings __for this demo__.\n",
    "adsimdet.hdf1.layout_filename.put(\"\")\n",
    "adsimdet.hdf1.nd_attributes_file.put(\"\")"
   ]
  },
  {
   "cell_type": "code",
   "execution_count": 7,
   "metadata": {},
   "outputs": [
    {
     "name": "stdout",
     "output_type": "stream",
     "text": [
      "Priming hdf1\n"
     ]
    }
   ],
   "source": [
    "def check_adplugin_primed(plugin, allow_priming=True):\n",
    "    from apstools.devices import AD_plugin_primed\n",
    "    from apstools.devices import AD_prime_plugin2\n",
    "\n",
    "    # this step is needed for ophyd\n",
    "    if not AD_plugin_primed(plugin):\n",
    "        if allow_priming:\n",
    "            print(f\"Priming {plugin.dotted_name}\")\n",
    "            AD_prime_plugin2(plugin)\n",
    "        else:\n",
    "            raise RuntimeError(\n",
    "                f\"Detector plugin '{plugin.dotted_name}' must be primed first.\"\n",
    "            )\n",
    "\n",
    "check_adplugin_primed(adsimdet.hdf1)"
   ]
  },
  {
   "cell_type": "code",
   "execution_count": 8,
   "metadata": {},
   "outputs": [],
   "source": [
    "def dict_to_table(d, printing=True):\n",
    "    import pyRestTable\n",
    "\n",
    "    if len(d) == 0:\n",
    "        return\n",
    "\n",
    "    table = pyRestTable.Table()\n",
    "    table.labels = \"key value\".split()\n",
    "    table.rows = [[k, v] for k, v in d.items()]\n",
    "\n",
    "    if printing:\n",
    "        print(table)\n",
    "    else:\n",
    "        return table\n",
    "\n",
    "\n",
    "def readings_to_table(d, printing=True):\n",
    "    import pyRestTable\n",
    "\n",
    "    if len(d) == 0:\n",
    "        return\n",
    "\n",
    "    labels = sorted(set([k for v in d.values() for k in v.keys()]))\n",
    "    table = pyRestTable.Table()\n",
    "    # fmt: off\n",
    "    table.labels = [ \"name\", ] + list(labels)\n",
    "    for k, reading in d.items():\n",
    "        row = [k, ] + [reading.get(r, \"\") for r in labels]\n",
    "        table.addRow(row)\n",
    "    # fmt: on\n",
    "\n",
    "    if printing:\n",
    "        print(table)\n",
    "    else:\n",
    "        return table\n",
    "\n",
    "\n",
    "def print_overview(device):\n",
    "    cfg = device.describe_configuration()\n",
    "    for k, readings in device.read_configuration().items():\n",
    "        if k not in cfg:\n",
    "            cfg[k] = readings\n",
    "        else:\n",
    "            cfg[k].update(readings)\n",
    "\n",
    "    if len(cfg) > 0:\n",
    "        print(f\"'{device.name}' configuration:\")\n",
    "    readings_to_table(cfg)\n",
    "\n",
    "\n",
    "def practice_device_staging(device):\n",
    "    print(f\"Before staging '{device.name}'\")\n",
    "    device.stage()\n",
    "    print(f\"Device '{device.name}' staged\")\n",
    "    device.unstage()\n",
    "    print(f\"Device '{device.name}' unstaged\")"
   ]
  },
  {
   "cell_type": "code",
   "execution_count": 9,
   "metadata": {},
   "outputs": [
    {
     "name": "stdout",
     "output_type": "stream",
     "text": [
      "RunEngine metadata\n",
      "========== =============================================================\n",
      "key        value                                                        \n",
      "========== =============================================================\n",
      "versions   {'ophyd': '1.7.0', 'bluesky': '1.10.0', 'apstools': '1.6.14'}\n",
      "title      images, darks, & flats                                       \n",
      "repository bluesky_training                                             \n",
      "notebook   images_darks_flats                                           \n",
      "========== =============================================================\n",
      "\n"
     ]
    }
   ],
   "source": [
    "print(\"RunEngine metadata\")\n",
    "dict_to_table(RE.md)"
   ]
  },
  {
   "cell_type": "code",
   "execution_count": 10,
   "metadata": {},
   "outputs": [
    {
     "name": "stdout",
     "output_type": "stream",
     "text": [
      "'adsimdet.stage_sigs' stage_sigs\n"
     ]
    }
   ],
   "source": [
    "print(\"'adsimdet.stage_sigs' stage_sigs\")\n",
    "dict_to_table(adsimdet.stage_sigs)"
   ]
  },
  {
   "cell_type": "code",
   "execution_count": 11,
   "metadata": {},
   "outputs": [
    {
     "name": "stdout",
     "output_type": "stream",
     "text": [
      "'adsimdet.cam.stage_sigs' stage_sigs\n",
      "================ =====\n",
      "key              value\n",
      "================ =====\n",
      "acquire_time     0.02 \n",
      "acquire_period   0.1  \n",
      "wait_for_plugins Yes  \n",
      "num_images       5    \n",
      "================ =====\n",
      "\n"
     ]
    }
   ],
   "source": [
    "print(\"'adsimdet.cam.stage_sigs' stage_sigs\")\n",
    "dict_to_table(adsimdet.cam.stage_sigs)"
   ]
  },
  {
   "cell_type": "code",
   "execution_count": 12,
   "metadata": {},
   "outputs": [
    {
     "name": "stdout",
     "output_type": "stream",
     "text": [
      "'adsimdet.hdf1.stage_sigs' stage_sigs\n",
      "========================== =============\n",
      "key                        value        \n",
      "========================== =============\n",
      "enable                     1            \n",
      "blocking_callbacks         No           \n",
      "parent.cam.array_callbacks 1            \n",
      "num_capture                0            \n",
      "auto_increment             Yes          \n",
      "auto_save                  Yes          \n",
      "file_template              %s%s_%4.4d.h5\n",
      "file_write_mode            Stream       \n",
      "store_attr                 Yes          \n",
      "store_perform              No           \n",
      "capture                    1            \n",
      "========================== =============\n",
      "\n"
     ]
    }
   ],
   "source": [
    "print(\"'adsimdet.hdf1.stage_sigs' stage_sigs\")\n",
    "dict_to_table(adsimdet.hdf1.stage_sigs)"
   ]
  },
  {
   "cell_type": "code",
   "execution_count": 13,
   "metadata": {},
   "outputs": [
    {
     "name": "stdout",
     "output_type": "stream",
     "text": [
      "'det' configuration:\n",
      "====================== ======= ============================================================ ================ ========= ===== ============================ ================= ===== ================ ==================\n",
      "name                   dtype   enum_strs                                                    lower_ctrl_limit precision shape source                       timestamp         units upper_ctrl_limit value             \n",
      "====================== ======= ============================================================ ================ ========= ===== ============================ ================= ===== ================ ==================\n",
      "det_cam_acquire_period number                                                               0.0              3         []    PV:ad:cam1:AcquirePeriod_RBV 1679532683.401695       0.0              0.005             \n",
      "det_cam_acquire_time   number                                                               0.0              3         []    PV:ad:cam1:AcquireTime_RBV   1679532683.504199       0.0              0.001             \n",
      "det_cam_frame_type     integer ('/entry/data/data', '/entry/data/dark', '/entry/data/flat') None                       []    PV:ad:cam1:FrameType_RBV     1679532599.662945 None  None             0                 \n",
      "det_cam_image_mode     integer ('Single', 'Multiple', 'Continuous')                         None                       []    PV:ad:cam1:ImageMode_RBV     1679532683.708497 None  None             2                 \n",
      "det_cam_manufacturer   string                                                               None                       []    PV:ad:cam1:Manufacturer_RBV  1679532599.661282 None  None             Simulated detector\n",
      "det_cam_model          string                                                               None                       []    PV:ad:cam1:Model_RBV         1679532599.66135  None  None             Basic simulator   \n",
      "det_cam_num_exposures  integer                                                              0                          []    PV:ad:cam1:NumExposures_RBV  1679532599.662938       0                1                 \n",
      "det_cam_num_images     integer                                                              0                          []    PV:ad:cam1:NumImages_RBV     1679532657.612548       0                100               \n",
      "det_cam_trigger_mode   integer ('Internal', 'External')                                     None                       []    PV:ad:cam1:TriggerMode_RBV   1679532599.662951 None  None             0                 \n",
      "====================== ======= ============================================================ ================ ========= ===== ============================ ================= ===== ================ ==================\n",
      "\n"
     ]
    }
   ],
   "source": [
    "print_overview(adsimdet)"
   ]
  },
  {
   "cell_type": "markdown",
   "metadata": {},
   "source": [
    "Now, count `adsimdet` using default settings."
   ]
  },
  {
   "cell_type": "code",
   "execution_count": 14,
   "metadata": {},
   "outputs": [
    {
     "data": {
      "text/plain": [
       "('77279505-7a56-4056-88b5-a6c1888d5e9b',)"
      ]
     },
     "execution_count": 14,
     "metadata": {},
     "output_type": "execute_result"
    }
   ],
   "source": [
    "RE(bp.count([adsimdet]))"
   ]
  },
  {
   "cell_type": "code",
   "execution_count": 15,
   "metadata": {},
   "outputs": [
    {
     "name": "stdout",
     "output_type": "stream",
     "text": [
      "hfile.exists()=True hfile.name='test_image_0000.h5'\n",
      "len(group)=4  group=<HDF5 group \"/entry/instrument/NDAttributes\" (4 members)>\n",
      "members: ['NDArrayEpicsTSSec', 'NDArrayEpicsTSnSec', 'NDArrayTimeStamp', 'NDArrayUniqueId']\n"
     ]
    }
   ],
   "source": [
    "def local_h5_file(det):\n",
    "    path = WORKSTATION_PREFIX.parent\n",
    "    ioc_file = det.hdf1.full_file_name.get()\n",
    "    return path / ioc_file.lstrip(\"/\")\n",
    "\n",
    "def check_h5_file(det):\n",
    "    hfile = local_h5_file(det)\n",
    "    print(f\"{hfile.exists()=} {hfile.name=}\")\n",
    "    addr = \"/entry/instrument/NDAttributes\"\n",
    "    with h5py.File(hfile, \"r\") as root:\n",
    "        group = root[addr]\n",
    "        print(f\"{len(group)=}  {group=}\")\n",
    "        print(f\"members: {[k for k in group]}\")\n",
    "\n",
    "check_h5_file(adsimdet)"
   ]
  },
  {
   "attachments": {},
   "cell_type": "markdown",
   "metadata": {},
   "source": [
    "Note that we see 4 attributes."
   ]
  },
  {
   "cell_type": "code",
   "execution_count": 16,
   "metadata": {},
   "outputs": [
    {
     "name": "stdout",
     "output_type": "stream",
     "text": [
      "adsimdet.hdf1.nd_attributes_file.get() = ''\n"
     ]
    }
   ],
   "source": [
    "print(f\"{adsimdet.hdf1.nd_attributes_file.get() = }\")"
   ]
  },
  {
   "cell_type": "code",
   "execution_count": 17,
   "metadata": {},
   "outputs": [
    {
     "name": "stdout",
     "output_type": "stream",
     "text": [
      "adsimdet.cam.frame_type.pvname='ad:cam1:FrameType_RBV' value=0 choices=('/entry/data/data', '/entry/data/dark', '/entry/data/flat')\n"
     ]
    }
   ],
   "source": [
    "print(\n",
    "    f\"{adsimdet.cam.frame_type.pvname=}\"\n",
    "    f\" value={adsimdet.cam.frame_type.get()}\"\n",
    "    f\" choices={adsimdet.cam.frame_type.enum_strs}\"\n",
    ")"
   ]
  },
  {
   "attachments": {},
   "cell_type": "markdown",
   "metadata": {},
   "source": [
    "We'll make a custom attributes file with the `FrameType` PV with the attributes\n",
    "name `SaveDest` and then load that file into the EPICS AD."
   ]
  },
  {
   "cell_type": "code",
   "execution_count": 18,
   "metadata": {},
   "outputs": [
    {
     "name": "stdout",
     "output_type": "stream",
     "text": [
      "xml_file=PosixPath('/tmp/docker_ioc/iocad/tmp/attributes.xml')\n",
      "xml_file.exists()=True xml_file=PosixPath('/tmp/docker_ioc/iocad/tmp/attributes.xml')\n"
     ]
    }
   ],
   "source": [
    "xml_file = WORKSTATION_PREFIX / \"attributes.xml\"  # IOC sees: /tmp/attributes.xml\n",
    "XML_ATTRIBUTES = f\"\"\"\n",
    "<?xml version=\"1.0\" standalone=\"no\" ?>\n",
    "<Attributes\n",
    "    xmlns:xsi=\"http://www.w3.org/2001/XMLSchema-instance\"\n",
    "    xsi:noNamespaceSchemaLocation=\"../../../../../ADCore/XML_schema/NDAttributes.xsd\"\n",
    "    >\n",
    "    <Attribute name=\"AcquireTime\"         type=\"EPICS_PV\" source=\"{ad_prefix}cam1:AcquireTime\"      dbrtype=\"DBR_NATIVE\"  description=\"Camera acquire time\"/>\n",
    "    <Attribute name=\"SaveDest\"            type=\"EPICS_PV\" source=\"{adsimdet.cam.frame_type.pvname}\"    dbrtype=\"DBR_STRING\"  description=\"image, dark, or flat frame\"/>\n",
    "    <Attribute name=\"ImageCounter\"        type=\"PARAM\"    source=\"ARRAY_COUNTER\"                datatype=\"INT\"        description=\"Image counter\"/>\n",
    "    <Attribute name=\"MaxSizeX\"            type=\"PARAM\"    source=\"MAX_SIZE_X\"                   datatype=\"INT\"        description=\"Detector X size\"/>\n",
    "    <Attribute name=\"MaxSizeY\"            type=\"PARAM\"    source=\"MAX_SIZE_Y\"                   datatype=\"INT\"        description=\"Detector Y size\"/>\n",
    "    <Attribute name=\"CameraModel\"         type=\"PARAM\"    source=\"MODEL\"                        datatype=\"STRING\"     description=\"Camera model\"/>\n",
    "    <Attribute name=\"AttributesFileParam\"  type=\"PARAM\"   source=\"ND_ATTRIBUTES_FILE\"            datatype=\"STRING\"     description=\"Attributes file param\"/>\n",
    "    <Attribute name=\"CameraManufacturer\"  type=\"PARAM\"    source=\"MANUFACTURER\"                 datatype=\"STRING\"     description=\"Camera manufacturer\"/>\n",
    "</Attributes>\n",
    "\"\"\"\n",
    "\n",
    "print(f\"{xml_file=}\")\n",
    "with open(xml_file, \"w\") as f:\n",
    "    f.write(XML_ATTRIBUTES.strip())\n",
    "print(f\"{xml_file.exists()=} {xml_file=}\")"
   ]
  },
  {
   "cell_type": "code",
   "execution_count": 19,
   "metadata": {
    "collapsed": true
   },
   "outputs": [],
   "source": [
    "adsimdet.hdf1.nd_attributes_file.put(\"/tmp/attributes.xml\")"
   ]
  },
  {
   "attachments": {},
   "cell_type": "markdown",
   "metadata": {},
   "source": [
    "Check that this attributes XML file was read and that the IOC reports everything\n",
    "was OK with it.  Fix any errors before proceeding."
   ]
  },
  {
   "cell_type": "code",
   "execution_count": 20,
   "metadata": {},
   "outputs": [
    {
     "name": "stdout",
     "output_type": "stream",
     "text": [
      "adsimdet.hdf1.nd_attr_status.get() = 'File not found'\n"
     ]
    }
   ],
   "source": [
    "print(f\"{adsimdet.hdf1.nd_attr_status.get() = }\")"
   ]
  },
  {
   "attachments": {},
   "cell_type": "markdown",
   "metadata": {},
   "source": [
    "Count again and check if more attributes are in the HDF5 file.  Verify that\n",
    "`SaveDest` is in the list of members."
   ]
  },
  {
   "cell_type": "code",
   "execution_count": 21,
   "metadata": {},
   "outputs": [
    {
     "name": "stdout",
     "output_type": "stream",
     "text": [
      "hfile.exists()=True hfile.name='test_image_0001.h5'\n",
      "len(group)=12  group=<HDF5 group \"/entry/instrument/NDAttributes\" (12 members)>\n",
      "members: ['AcquireTime', 'AttributesFileParam', 'CameraManufacturer', 'CameraModel', 'ImageCounter', 'MaxSizeX', 'MaxSizeY', 'NDArrayEpicsTSSec', 'NDArrayEpicsTSnSec', 'NDArrayTimeStamp', 'NDArrayUniqueId', 'SaveDest']\n"
     ]
    }
   ],
   "source": [
    "RE(bp.count([adsimdet]))\n",
    "check_h5_file(adsimdet)"
   ]
  },
  {
   "attachments": {},
   "cell_type": "markdown",
   "metadata": {},
   "source": [
    "We've been using the default layout, `hdf5_layout_nexus.xml`, from the IOC's\n",
    "directory.  We'll need our own so that we can customize it.\n",
    "\n",
    "Here, we create the new `/tmp/default_layout.xml` (using the XML content\n",
    "supplied with the ADSimDetector) and tell the HDF5 plugin to use it.  Rather\n",
    "than use an XML library to write this file, we'll create all the content here as\n",
    "text and write the file with the usual text file tools. Then, we'll check that\n",
    "it was read and the file content was acceptable:"
   ]
  },
  {
   "cell_type": "code",
   "execution_count": 22,
   "metadata": {},
   "outputs": [
    {
     "name": "stdout",
     "output_type": "stream",
     "text": [
      "xml_file.exists()=True xml_file=PosixPath('/tmp/docker_ioc/iocad/tmp/default_layout.xml')\n"
     ]
    }
   ],
   "source": [
    "xml_file = WORKSTATION_PREFIX / \"default_layout.xml\"  # IOC sees: /tmp/default_layout.xml\n",
    "XML_LAYOUT = \"\"\"\n",
    "<?xml version=\"1.0\" standalone=\"no\" ?>\n",
    "<hdf5_layout\n",
    "    xmlns:xsi=\"http://www.w3.org/2001/XMLSchema-instance\"\n",
    "    xsi:noNamespaceSchemaLocation=\"../../../../../ADCore/XML_schema/hdf5_xml_layout_schema.xsd\"\n",
    "    >\n",
    "  <group name=\"entry\">\n",
    "    <attribute name=\"NX_class\" source=\"constant\" value=\"NXentry\" type=\"string\" />\n",
    "    <group name=\"instrument\">\n",
    "      <attribute name=\"NX_class\" source=\"constant\" value=\"NXinstrument\" type=\"string\" />\n",
    "      <group name=\"detector\">\n",
    "        <attribute name=\"NX_class\" source=\"constant\" value=\"NXdetector\" type=\"string\" />\n",
    "        <dataset name=\"data\" source=\"detector\" det_default=\"true\">\n",
    "          <attribute name=\"NX_class\" source=\"constant\" value=\"SDS\" type=\"string\" />\n",
    "          <attribute name=\"signal\" source=\"constant\" value=\"1\" type=\"int\" />\n",
    "          <attribute name=\"target\" source=\"constant\" value=\"/entry/instrument/detector/data\" type=\"string\" />\n",
    "        </dataset>\n",
    "        <group name=\"NDAttributes\">\n",
    "          <attribute name=\"NX_class\" source=\"constant\" value=\"NXcollection\" type=\"string\" />\n",
    "          <dataset name=\"ColorMode\" source=\"ndattribute\" ndattribute=\"ColorMode\">\n",
    "          </dataset>\n",
    "        </group>          <!-- end group NDAttribute -->\n",
    "      </group>            <!-- end group detector -->\n",
    "      <group name=\"NDAttributes\" ndattr_default=\"true\">\n",
    "        <attribute name=\"NX_class\" source=\"constant\" value=\"NXcollection\" type=\"string\" />\n",
    "      </group>            <!-- end group NDAttribute (default) -->\n",
    "      <group name=\"performance\">\n",
    "        <dataset name=\"timestamp\" source=\"ndattribute\" />\n",
    "      </group>            <!-- end group performance -->\n",
    "    </group>              <!-- end group instrument -->\n",
    "    <group name=\"data\">\n",
    "      <attribute name=\"NX_class\" source=\"constant\" value=\"NXdata\" type=\"string\" />\n",
    "      <hardlink name=\"data\" target=\"/entry/instrument/detector/data\" />\n",
    "    </group>              <!-- end group data -->\n",
    "  </group>                <!-- end group entry -->\n",
    "</hdf5_layout>\n",
    "\"\"\"\n",
    "\n",
    "with open(xml_file, \"w\") as f:\n",
    "    f.write(XML_LAYOUT.strip())\n",
    "print(f\"{xml_file.exists()=} {xml_file=}\")"
   ]
  },
  {
   "attachments": {},
   "cell_type": "markdown",
   "metadata": {},
   "source": [
    "Tell the IOC to use this new layout."
   ]
  },
  {
   "cell_type": "code",
   "execution_count": 23,
   "metadata": {},
   "outputs": [],
   "source": [
    "adsimdet.hdf1.layout_filename.put(\"/tmp/default_layout.xml\")"
   ]
  },
  {
   "attachments": {},
   "cell_type": "markdown",
   "metadata": {},
   "source": [
    "Check that the IOC reports the file is found and its XML contents are valid.  The result should be `'Yes'`."
   ]
  },
  {
   "cell_type": "code",
   "execution_count": 24,
   "metadata": {},
   "outputs": [
    {
     "name": "stdout",
     "output_type": "stream",
     "text": [
      "adsimdet.hdf1.layout_filename_valid.get()='Yes'\n"
     ]
    }
   ],
   "source": [
    "print(f\"{adsimdet.hdf1.layout_filename_valid.get()=}\")"
   ]
  },
  {
   "attachments": {},
   "cell_type": "markdown",
   "metadata": {},
   "source": [
    "Try it and verify `SaveDest` is present in the output file.  Result should be `True`."
   ]
  },
  {
   "cell_type": "code",
   "execution_count": 25,
   "metadata": {},
   "outputs": [
    {
     "name": "stdout",
     "output_type": "stream",
     "text": [
      "('/entry/instrument/NDAttributes/SaveDest' in root)=True\n"
     ]
    }
   ],
   "source": [
    "RE(bp.count([adsimdet]))\n",
    "\n",
    "h5_file = local_h5_file(adsimdet)\n",
    "with h5py.File(h5_file, \"r\") as root:\n",
    "    print(f\"{('/entry/instrument/NDAttributes/SaveDest' in root)=}\")"
   ]
  },
  {
   "attachments": {},
   "cell_type": "markdown",
   "metadata": {},
   "source": [
    "Configure our PV(s) for the *NeXus* addresses we want to use.  We **must**\n",
    "reconnect our ophyd object after our change to the EPICS PVs to pick up this\n",
    "change.  (The choices are only updated when the mbbo record is first connected.)"
   ]
  },
  {
   "cell_type": "code",
   "execution_count": 70,
   "metadata": {
    "collapsed": true
   },
   "outputs": [
    {
     "name": "stdout",
     "output_type": "stream",
     "text": [
      "adsimdet.cam.frame_type.enum_strs=('/entry/data/data', '/entry/data/dark', '/entry/data/flat')\n"
     ]
    }
   ],
   "source": [
    "class FrameType(Device):\n",
    "    zero = Component(EpicsSignal, \".ZRST\", string=True)\n",
    "    one = Component(EpicsSignal, \".ONST\", string=True)\n",
    "    two = Component(EpicsSignal, \".TWST\", string=True)\n",
    "    three = Component(EpicsSignal, \".THST\", string=True)\n",
    "\n",
    "for pv in (\"FrameType\", ):\n",
    "    o = FrameType(f\"{ad_prefix}cam1:{pv}\", name=\"o\")\n",
    "    o.wait_for_connection()\n",
    "    o.zero.put(\"/entry/data/data\")\n",
    "    o.one.put(\"/entry/data/dark\")\n",
    "    o.two.put(\"/entry/data/flat\")\n",
    "    o.three.put(\"\")\n",
    "\n",
    "# re-connect the detector object to pick up these different choices\n",
    "adsimdet = MyDetector(ad_prefix, name='adsimdet')\n",
    "set_ad_count_time(exposure=0.02, period=0.1)\n",
    "ad_setup(det=adsimdet, nframes=NUM_FRAMES)\n",
    "print(f\"{adsimdet.cam.frame_type.enum_strs=}\")"
   ]
  },
  {
   "attachments": {},
   "cell_type": "markdown",
   "metadata": {},
   "source": [
    "We also need to modify our layout file, adding groups,  datasets, and links in\n",
    "the right places for the additional image types.  Here's the layout XML file\n",
    "after those edits are complete:"
   ]
  },
  {
   "cell_type": "code",
   "execution_count": 71,
   "metadata": {},
   "outputs": [
    {
     "name": "stdout",
     "output_type": "stream",
     "text": [
      "xml_file.exists()=True xml_file=PosixPath('/tmp/docker_ioc/iocad/tmp/layout.xml')\n",
      "adsimdet.hdf1.layout_filename_valid.get()='Yes'\n"
     ]
    }
   ],
   "source": [
    "xml_file = WORKSTATION_PREFIX / \"layout.xml\"  # IOC sees: /tmp/layout.xml\n",
    "XML_LAYOUT2 = \"\"\"\n",
    "<?xml version=\"1.0\" standalone=\"no\" ?>\n",
    "<hdf5_layout\n",
    "    xmlns:xsi=\"http://www.w3.org/2001/XMLSchema-instance\"\n",
    "    xsi:noNamespaceSchemaLocation=\"../../../../../ADCore/XML_schema/hdf5_xml_layout_schema.xsd\"\n",
    "    >\n",
    "  <global name=\"detector_data_destination\" ndattribute=\"SaveDest\" />\n",
    "  <group name=\"entry\">\n",
    "    <attribute name=\"NX_class\" source=\"constant\" value=\"NXentry\" type=\"string\" />\n",
    "    <attribute name=\"default\" source=\"constant\" value=\"data\" type=\"string\" />\n",
    "    <group name=\"data\">\n",
    "        <attribute name=\"NX_class\" source=\"constant\" value=\"NXdata\" type=\"string\" />\n",
    "        <attribute name=\"signal\" source=\"constant\" value=\"data\" type=\"string\" />\n",
    "        <dataset name=\"data\" source=\"detector\">\n",
    "          <attribute name=\"units\" source=\"constant\" value=\"counts\" type=\"string\" />\n",
    "          <attribute name=\"description\" source=\"constant\" value=\"image frame(s)\" type=\"string\" />\n",
    "          <attribute name=\"target\" source=\"constant\" value=\"/entry/data/data\" type=\"string\" />\n",
    "        </dataset>\n",
    "        <dataset name=\"dark\" source=\"detector\">\n",
    "          <attribute name=\"units\" source=\"constant\" value=\"counts\" type=\"string\" />\n",
    "          <attribute name=\"description\" source=\"constant\" value=\"dark (background) frame(s)\" type=\"string\" />\n",
    "          <attribute name=\"target\" source=\"constant\" value=\"/entry/data/dark\" type=\"string\" />\n",
    "        </dataset>\n",
    "        <dataset name=\"flat\" source=\"detector\">\n",
    "          <attribute name=\"units\" source=\"constant\" value=\"counts\" type=\"string\" />\n",
    "          <attribute name=\"description\" source=\"constant\" value=\"flat (white) frame(s)\" type=\"string\" />\n",
    "          <attribute name=\"target\" source=\"constant\" value=\"/entry/data/flat\" type=\"string\" />\n",
    "        </dataset>\n",
    "    </group>              <!-- end group data -->\n",
    "    <group name=\"instrument\">\n",
    "      <attribute name=\"NX_class\" source=\"constant\" value=\"NXinstrument\" type=\"string\" />\n",
    "      <group name=\"detector\">\n",
    "        <attribute name=\"NX_class\" source=\"constant\" value=\"NXdetector\" type=\"string\" />\n",
    "        <hardlink name=\"data\" target=\"/entry/data/data\" />\n",
    "        <hardlink name=\"dark\" target=\"/entry/data/dark\" />\n",
    "        <hardlink name=\"flat\" target=\"/entry/data/flat\" />\n",
    "      </group>            <!-- end group detector -->\n",
    "      <group name=\"NDAttributes\" ndattr_default=\"true\">\n",
    "        <attribute name=\"NX_class\" source=\"constant\" value=\"NXcollection\" type=\"string\" />\n",
    "      </group>            <!-- end group NDAttribute (default) -->\n",
    "    </group>              <!-- end group instrument -->\n",
    "  </group>                <!-- end group entry -->\n",
    "</hdf5_layout>\n",
    "\"\"\"\n",
    "\n",
    "with open(xml_file, \"w\") as f:\n",
    "    f.write(XML_LAYOUT2.strip())\n",
    "print(f\"{xml_file.exists()=} {xml_file=}\")\n",
    "adsimdet.hdf1.layout_filename.put(\"/tmp/layout.xml\")\n",
    "print(f\"{adsimdet.hdf1.layout_filename_valid.get()=}\")"
   ]
  },
  {
   "attachments": {},
   "cell_type": "markdown",
   "metadata": {},
   "source": [
    "Collect a new image and check the output file.  This won't be a great test since\n",
    "we are only writing one image type.  Just check that `SaveDest` is found and\n",
    "that the expected data group is present.  All the test results should be `True`."
   ]
  },
  {
   "cell_type": "code",
   "execution_count": 72,
   "metadata": {},
   "outputs": [
    {
     "name": "stdout",
     "output_type": "stream",
     "text": [
      "('/entry/instrument/NDAttributes/SaveDest' in NeXus_data)=True\n",
      "('/entry/data/data' in NeXus_data)=True\n",
      "choice='/entry/data/data'  (choice in NeXus_data)=True\n"
     ]
    }
   ],
   "source": [
    "RE(bp.count([adsimdet]))\n",
    "\n",
    "h5_file = local_h5_file(adsimdet)\n",
    "with h5py.File(h5_file, \"r\") as NeXus_data:\n",
    "    print(f\"{('/entry/instrument/NDAttributes/SaveDest' in NeXus_data)=}\")\n",
    "    print(f\"{('/entry/data/data' in NeXus_data)=}\")\n",
    "    frame_type = adsimdet.cam.frame_type  # short alias\n",
    "    choices = frame_type.enum_strs\n",
    "    choice = choices[frame_type.get()]\n",
    "    print(f\"{choice=}  {(choice in NeXus_data)=}\")"
   ]
  },
  {
   "attachments": {},
   "cell_type": "markdown",
   "metadata": {},
   "source": [
    "-------------------------------------\n",
    "\n",
    "## FIX from this point\n",
    "\n",
    "Image data not in the right places:\n",
    "\n",
    "```\n",
    "ds=<HDF5 dataset \"dark\": shape (15, 1024, 1024), type \"|u1\">  ds.shape=(15, 1024, 1024)\n",
    "ds=<HDF5 dataset \"data\": shape (1, 1024, 1024), type \"|u1\">  ds.shape=(1, 1024, 1024)\n",
    "ds=<HDF5 dataset \"flat\": shape (1, 1024, 1024), type \"|u1\">  ds.shape=(1, 1024, 1024)\n",
    "```"
   ]
  },
  {
   "attachments": {},
   "cell_type": "markdown",
   "metadata": {},
   "source": [
    "## Series of images, darks, and flats\n",
    "\n",
    "Process an arbitrary series."
   ]
  },
  {
   "cell_type": "code",
   "execution_count": 81,
   "metadata": {
    "collapsed": true
   },
   "outputs": [],
   "source": [
    "import bluesky.plan_stubs as bps\n",
    "\n",
    "IMAGE = 0\n",
    "DARK = 1\n",
    "FLAT = 2\n",
    "\n",
    "def frame_set(det, frame_type=0, num_frames=1, sleep=0.25):\n",
    "    frame_name = \"image background white\".split()[frame_type]\n",
    "    print(f\"{frame_type=}  {frame_name=}  {num_frames=}\")\n",
    "    yield from bps.mv(\n",
    "        det.cam.frame_type, frame_type,\n",
    "        det.cam.num_images, num_frames,\n",
    "    )\n",
    "    if sleep > 0:\n",
    "        yield from bps.sleep(sleep)\n",
    "    yield from bps.mv(det.cam.acquire, 1)  # waits for acquire=0\n",
    "    while det.cam.acquire_busy.get(use_monitor=False) != 0:\n",
    "        yield from bps.sleep(0.01)\n",
    "\n",
    "def series(det, sequence, sleep=1):\n",
    "    total = sum([item[1] for item in sequence])\n",
    "    print(\"total frames:\", total)\n",
    "\n",
    "    print(\"setup\")\n",
    "    yield from bps.mv(\n",
    "        det.hdf1.auto_save, \"Yes\",\n",
    "        det.hdf1.num_capture, 0,\n",
    "        det.cam.image_mode, \"Multiple\",\n",
    "    )\n",
    "    yield from bps.mv(det.hdf1.file_write_mode, 'Stream')  # TODO: or Capture\n",
    "    yield from bps.stage(det)\n",
    "\n",
    "    for frame_specification in sequence:\n",
    "        frame_type, num_frames = frame_specification\n",
    "        yield from frame_set(det, frame_type, num_frames, sleep=sleep)\n",
    "\n",
    "    yield from bps.mv(det.hdf1.capture, 0)  # before file_write_mode = 'Single\n",
    "    yield from bps.unstage(det)\n",
    "    yield from bps.mv(\n",
    "        det.cam.frame_type, IMAGE,\n",
    "        det.hdf1.file_write_mode, 'Single',\n",
    "    )"
   ]
  },
  {
   "cell_type": "code",
   "execution_count": 76,
   "metadata": {},
   "outputs": [
    {
     "name": "stdout",
     "output_type": "stream",
     "text": [
      "Before staging 'adsimdet'\n",
      "Device 'adsimdet' staged\n",
      "Device 'adsimdet' unstaged\n"
     ]
    }
   ],
   "source": [
    "practice_device_staging(adsimdet)"
   ]
  },
  {
   "cell_type": "code",
   "execution_count": 90,
   "metadata": {
    "scrolled": true
   },
   "outputs": [
    {
     "name": "stdout",
     "output_type": "stream",
     "text": [
      "total frames: 9\n",
      "setup\n",
      "frame_type=1  frame_name='background'  num_frames=1\n",
      "frame_type=2  frame_name='white'  num_frames=1\n",
      "frame_type=0  frame_name='image'  num_frames=1\n",
      "frame_type=0  frame_name='image'  num_frames=1\n",
      "frame_type=1  frame_name='background'  num_frames=1\n",
      "frame_type=0  frame_name='image'  num_frames=2\n",
      "frame_type=2  frame_name='white'  num_frames=1\n",
      "frame_type=1  frame_name='background'  num_frames=1\n"
     ]
    },
    {
     "data": {
      "text/plain": [
       "()"
      ]
     },
     "execution_count": 90,
     "metadata": {},
     "output_type": "execute_result"
    }
   ],
   "source": [
    "SEQUENCE = [\n",
    "    (DARK, 1),\n",
    "    (FLAT, 1),\n",
    "    (IMAGE, 1),\n",
    "    (IMAGE, 1),\n",
    "    (DARK, 1),\n",
    "    (IMAGE, 2),\n",
    "    (FLAT, 1),\n",
    "    (DARK, 1),\n",
    "]\n",
    "\n",
    "RE(series(adsimdet, SEQUENCE, sleep=0.0))"
   ]
  },
  {
   "cell_type": "code",
   "execution_count": 91,
   "metadata": {},
   "outputs": [
    {
     "name": "stdout",
     "output_type": "stream",
     "text": [
      "h5_file=PosixPath('/tmp/docker_ioc/iocad/tmp/test_image_0032.h5')\n",
      "('/entry/data' in NeXus_data)=True\n",
      "('/entry/data/dark' in NeXus_data)=True\n",
      "('/entry/data/data' in NeXus_data)=True\n",
      "('/entry/data/flat' in NeXus_data)=True\n",
      "('/entry/instrument' in NeXus_data)=True\n",
      "('/entry/instrument/detector' in NeXus_data)=True\n",
      "('/entry/instrument/detector/dark' in NeXus_data)=True\n",
      "('/entry/instrument/detector/data' in NeXus_data)=True\n",
      "('/entry/instrument/detector/flat' in NeXus_data)=True\n",
      "('/entry/instrument/NDAttributes' in NeXus_data)=True\n",
      "('/entry/instrument/NDAttributes/SaveDest' in NeXus_data)=True\n",
      "ds=<HDF5 dataset \"dark\": shape (9, 1024, 1024), type \"|u1\">  ds.shape=(9, 1024, 1024)\n",
      "ds=<HDF5 dataset \"data\": shape (1, 1024, 1024), type \"|u1\">  ds.shape=(1, 1024, 1024)\n",
      "ds=<HDF5 dataset \"flat\": shape (1, 1024, 1024), type \"|u1\">  ds.shape=(1, 1024, 1024)\n"
     ]
    }
   ],
   "source": [
    "h5_file = local_h5_file(adsimdet)\n",
    "print(f\"{h5_file=}\")\n",
    "with h5py.File(h5_file, \"r\") as NeXus_data:\n",
    "    print(f\"{('/entry/data' in NeXus_data)=}\")\n",
    "    print(f\"{('/entry/data/dark' in NeXus_data)=}\")\n",
    "    print(f\"{('/entry/data/data' in NeXus_data)=}\")\n",
    "    print(f\"{('/entry/data/flat' in NeXus_data)=}\")\n",
    "    print(f\"{('/entry/instrument' in NeXus_data)=}\")\n",
    "    print(f\"{('/entry/instrument/detector' in NeXus_data)=}\")\n",
    "    print(f\"{('/entry/instrument/detector/dark' in NeXus_data)=}\")\n",
    "    print(f\"{('/entry/instrument/detector/data' in NeXus_data)=}\")\n",
    "    print(f\"{('/entry/instrument/detector/flat' in NeXus_data)=}\")\n",
    "    print(f\"{('/entry/instrument/NDAttributes' in NeXus_data)=}\")\n",
    "    print(f\"{('/entry/instrument/NDAttributes/SaveDest' in NeXus_data)=}\")\n",
    "    for addr in \"dark data flat\".split():\n",
    "        try:\n",
    "            ds = NeXus_data[f\"/entry/data/{addr}\"]\n",
    "            print(f\"{ds=}  {ds.shape=}\")\n",
    "        except KeyError:\n",
    "            pass"
   ]
  },
  {
   "attachments": {},
   "cell_type": "markdown",
   "metadata": {},
   "source": [
    "We are looking for this structure in the HDF5 data file (other structure has been omitted, for clarity):\n",
    "\n",
    "```\n",
    "  entry:NXentry\n",
    "    data:NXdata\n",
    "      dark:NX_UINT8[3,19,33] = [ ... ]\n",
    "      data:NX_UINT8[4,19,33] = [ ... ]\n",
    "      flat:NX_UINT8[2,19,33] = [ ... ]\n",
    "    instrument:NXinstrument\n",
    "      NDAttributes:NXcollection\n",
    "        SaveDest:NX_CHAR[256] = /entry/data/data\n",
    "      detector:NXdetector\n",
    "        dark --> /entry/data/dark\n",
    "        data --> /entry/data/data\n",
    "        flat --> /entry/data/flat\n",
    "```\n",
    "\n",
    "All these tests should be `True`."
   ]
  }
 ],
 "metadata": {
  "interpreter": {
   "hash": "60aa360bcd8d3c8cfbc4e726e53a455fcd5c15cdf29caaf63c7ca2494eba79e9"
  },
  "kernelspec": {
   "display_name": "Python 3.8.10 64-bit ('bluesky_2021_2': conda)",
   "name": "python3"
  },
  "language_info": {
   "codemirror_mode": {
    "name": "ipython",
    "version": 3
   },
   "file_extension": ".py",
   "mimetype": "text/x-python",
   "name": "python",
   "nbconvert_exporter": "python",
   "pygments_lexer": "ipython3",
   "version": "3.10.9"
  }
 },
 "nbformat": 4,
 "nbformat_minor": 2
}
