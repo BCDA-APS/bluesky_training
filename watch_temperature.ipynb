{
 "cells": [
  {
   "cell_type": "markdown",
   "source": [
    "# Watch a temperature : scan temperature *v* time\n",
    "\n",
    "From *APS Python Training for Bluesky Data Acquisition*.\n",
    "\n",
    "**Objective**\n",
    "\n",
    "Measure the temperature for a short period and compute basics measures of the collected readings.\n",
    "\n",
    "## Start the `instrument` package\n",
    "\n",
    "Our instrument package is in the `bluesky` subdirectory here so we add that to the search path before importing it."
   ],
   "metadata": {}
  },
  {
   "cell_type": "code",
   "execution_count": 1,
   "source": [
    "try:\n",
    "    %load_ext dotenv\n",
    "    %dotenv env.txt\n",
    "except Exception:\n",
    "    print(\n",
    "        \"Did not load file with environment variables.\"\n",
    "        \"  No problem.  Continuing ...\"\n",
    "    )"
   ],
   "outputs": [
    {
     "output_type": "stream",
     "name": "stdout",
     "text": [
      "Did not load file with environment variables.  No problem.  Continuing ...\n"
     ]
    }
   ],
   "metadata": {}
  },
  {
   "cell_type": "code",
   "execution_count": 2,
   "source": [
    "import os, sys\n",
    "sys.path.append(os.path.abspath(os.path.join(\".\", \"bluesky\")))\n",
    "from instrument.collection import *"
   ],
   "outputs": [
    {
     "output_type": "stream",
     "name": "stderr",
     "text": [
      "I Tue-22:10:46 - ############################################################ startup\n"
     ]
    },
    {
     "output_type": "stream",
     "name": "stdout",
     "text": [
      "Activating auto-logging. Current session state plus future input saved.\n",
      "Filename       : /home/mintadmin/Documents/projects/BCDA-APS/bluesky_training/.logs/ipython_console.log\n",
      "Mode           : rotate\n",
      "Output logging : True\n",
      "Raw input log  : False\n",
      "Timestamping   : True\n",
      "State          : active\n"
     ]
    },
    {
     "output_type": "stream",
     "name": "stderr",
     "text": [
      "I Tue-22:10:46 - logging started\n",
      "I Tue-22:10:46 - logging level = 10\n",
      "I Tue-22:10:46 - /home/mintadmin/Documents/projects/BCDA-APS/bluesky_training/bluesky/instrument/collection.py\n",
      "I Tue-22:10:46 - /home/mintadmin/Documents/projects/BCDA-APS/bluesky_training/bluesky/instrument/mpl/notebook.py\n",
      "I Tue-22:10:48 - #### Bluesky Framework ####\n",
      "I Tue-22:10:48 - /home/mintadmin/Documents/projects/BCDA-APS/bluesky_training/bluesky/instrument/framework/check_python.py\n",
      "I Tue-22:10:48 - /home/mintadmin/Documents/projects/BCDA-APS/bluesky_training/bluesky/instrument/framework/check_bluesky.py\n",
      "I Tue-22:10:50 - /home/mintadmin/Documents/projects/BCDA-APS/bluesky_training/bluesky/instrument/framework/initialize.py\n",
      "I Tue-22:10:52 - using databroker catalog 'training'\n",
      "I Tue-22:10:52 - /home/mintadmin/Documents/projects/BCDA-APS/bluesky_training/bluesky/instrument/framework/metadata.py\n",
      "I Tue-22:10:52 - #### Devices ####\n",
      "I Tue-22:10:52 - /home/mintadmin/Documents/projects/BCDA-APS/bluesky_training/bluesky/instrument/devices/area_detector.py\n",
      "I Tue-22:10:52 - /home/mintadmin/Documents/projects/BCDA-APS/bluesky_training/bluesky/instrument/devices/calculation_records.py\n",
      "I Tue-22:10:58 - /home/mintadmin/Documents/projects/BCDA-APS/bluesky_training/bluesky/instrument/devices/ioc_stats.py\n",
      "I Tue-22:10:58 - /home/mintadmin/Documents/projects/BCDA-APS/bluesky_training/bluesky/instrument/devices/motors.py\n",
      "I Tue-22:10:59 - /home/mintadmin/Documents/projects/BCDA-APS/bluesky_training/bluesky/instrument/devices/noisy_detector.py\n",
      "I Tue-22:10:59 - /home/mintadmin/Documents/projects/BCDA-APS/bluesky_training/bluesky/instrument/devices/scaler.py\n",
      "I Tue-22:11:01 - /home/mintadmin/Documents/projects/BCDA-APS/bluesky_training/bluesky/instrument/devices/shutter_simulator.py\n",
      "I Tue-22:11:01 - /home/mintadmin/Documents/projects/BCDA-APS/bluesky_training/bluesky/instrument/devices/temperature_signal.py\n",
      "I Tue-22:11:01 - #### Callbacks ####\n",
      "I Tue-22:11:01 - /home/mintadmin/Documents/projects/BCDA-APS/bluesky_training/bluesky/instrument/callbacks/spec_data_file_writer.py\n",
      "I Tue-22:11:01 - writing to SPEC file: /home/mintadmin/Documents/projects/BCDA-APS/bluesky_training/20210831-221101.dat\n",
      "I Tue-22:11:01 -    >>>>   Using default SPEC file name   <<<<\n",
      "I Tue-22:11:01 -    file will be created when bluesky ends its next scan\n",
      "I Tue-22:11:01 -    to change SPEC file, use command:   newSpecFile('title')\n",
      "I Tue-22:11:01 - #### Plans ####\n",
      "I Tue-22:11:01 - /home/mintadmin/Documents/projects/BCDA-APS/bluesky_training/bluesky/instrument/plans/peak_finder_example.py\n",
      "I Tue-22:11:01 - #### Utilities ####\n",
      "I Tue-22:11:01 - /home/mintadmin/Documents/projects/BCDA-APS/bluesky_training/bluesky/instrument/utils/image_analysis.py\n",
      "I Tue-22:11:01 - #### Startup is complete. ####\n"
     ]
    }
   ],
   "metadata": {}
  },
  {
   "cell_type": "markdown",
   "source": [
    "## Describe\n",
    "\n",
    "Note the initial settings of the `temperature` (controller).  It's actually an EPICS *swait* record that simulates a temperature sensor and controller.  It has a setpoint, a readback, and a few other support attributes as shown.  A Random noise level is part of the simulation.  We'll compute that noise level from the standard deviation of the measurements."
   ],
   "metadata": {}
  },
  {
   "cell_type": "code",
   "execution_count": 3,
   "source": [
    "listdevice(temperature)"
   ],
   "outputs": [
    {
     "output_type": "stream",
     "name": "stdout",
     "text": [
      "============================= =================================== ==========================\n",
      "name                          value                               timestamp                 \n",
      "============================= =================================== ==========================\n",
      "temperature_setpoint          25.0                                2021-08-31 22:11:01.140977\n",
      "temperature                   24.94106202792401                   2021-08-31 22:11:01.350987\n",
      "temperature_done              True                                2021-08-31 22:11:01.357132\n",
      "temperature_calculation       A+max(-D,min(D,(B-A)))+C*(RNDM-0.5) 2021-08-31 22:11:01.146418\n",
      "temperature_description       temperature                         2021-08-31 22:11:01.135663\n",
      "temperature_max_change        2.0                                 2021-08-31 22:11:01.143759\n",
      "temperature_noise             1.0                                 2021-08-31 22:11:01.143726\n",
      "temperature_previous_value_pv gp:userCalc8.VAL                    2021-08-31 22:11:01.137590\n",
      "temperature_scanning_rate     5                                   2021-08-31 22:11:01.147593\n",
      "temperature_tolerance         1.0                                 2021-08-31 22:11:01.146418\n",
      "============================= =================================== ==========================\n",
      "\n"
     ]
    },
    {
     "output_type": "execute_result",
     "data": {
      "text/plain": [
       "<pyRestTable.rest_table.Table at 0x7fcd54602fd0>"
      ]
     },
     "metadata": {},
     "execution_count": 3
    }
   ],
   "metadata": {}
  },
  {
   "cell_type": "markdown",
   "source": [
    "## Count\n",
    "Use the bluesky RunEngine, `RE`, and a standard plan, `bp.count()`, to count the temperature."
   ],
   "metadata": {}
  },
  {
   "cell_type": "code",
   "execution_count": 4,
   "source": [
    "RE(bp.count([temperature]))"
   ],
   "outputs": [
    {
     "output_type": "stream",
     "name": "stdout",
     "text": [
      "\n",
      "\n",
      "Transient Scan ID: 361     Time: 2021-08-31 22:11:01\n",
      "Persistent Unique Scan ID: '7651d1b2-3fd0-4035-a5c0-bcfbddf1ab82'\n",
      "New stream: 'baseline'\n",
      "New stream: 'primary'\n",
      "+-----------+------------+-------------+\n",
      "|   seq_num |       time | temperature |\n",
      "+-----------+------------+-------------+\n",
      "|         1 | 22:11:02.5 |    24.94106 |\n",
      "+-----------+------------+-------------+\n",
      "generator count ['7651d1b2'] (scan num: 361)\n"
     ]
    },
    {
     "output_type": "execute_result",
     "data": {
      "text/plain": [
       "('7651d1b2-3fd0-4035-a5c0-bcfbddf1ab82',)"
      ]
     },
     "metadata": {},
     "execution_count": 4
    }
   ],
   "metadata": {}
  },
  {
   "cell_type": "markdown",
   "source": [
    "Take ten readings by adding the `num=10` keyword argument (a.k.a. *kwarg*)."
   ],
   "metadata": {}
  },
  {
   "cell_type": "code",
   "execution_count": 5,
   "source": [
    "RE(bp.count([temperature], num=10))"
   ],
   "outputs": [
    {
     "output_type": "stream",
     "name": "stdout",
     "text": [
      "\n",
      "\n",
      "Transient Scan ID: 362     Time: 2021-08-31 22:11:02\n",
      "Persistent Unique Scan ID: '85fc03ee-6213-485c-bc2d-de38af3f5d56'\n",
      "New stream: 'baseline'\n",
      "New stream: 'primary'\n",
      "+-----------+------------+-------------+\n",
      "|   seq_num |       time | temperature |\n",
      "+-----------+------------+-------------+\n",
      "|         1 | 22:11:03.5 |    24.72391 |\n",
      "|         2 | 22:11:03.6 |    24.72391 |\n",
      "|         3 | 22:11:03.7 |    24.72391 |\n",
      "|         4 | 22:11:03.8 |    24.72391 |\n",
      "|         5 | 22:11:03.9 |    24.72391 |\n",
      "|         6 | 22:11:03.9 |    24.72391 |\n",
      "|         7 | 22:11:04.0 |    24.72391 |\n",
      "|         8 | 22:11:04.0 |    24.72391 |\n",
      "|         9 | 22:11:04.1 |    24.72391 |\n",
      "|        10 | 22:11:04.2 |    24.72391 |\n",
      "+-----------+------------+-------------+\n",
      "generator count ['85fc03ee'] (scan num: 362)\n"
     ]
    },
    {
     "output_type": "execute_result",
     "data": {
      "text/plain": [
       "('85fc03ee-6213-485c-bc2d-de38af3f5d56',)"
      ]
     },
     "metadata": {},
     "execution_count": 5
    },
    {
     "output_type": "display_data",
     "data": {
      "text/plain": [
       "<Figure size 360x360 with 1 Axes>"
      ],
      "image/png": "[encoded data removed]"
     },
     "metadata": {
      "needs_background": "light"
     }
    }
   ],
   "metadata": {}
  },
  {
   "cell_type": "markdown",
   "source": [
    "Do all the readings look the same?  Perhaps there are only two different values (first one, then the other)?  That's because our measurements were only *reading* the temperature without waiting for it to update.  (If there are two different values, we caught the moment when EPICS updated the calculation.)  The table above showed `temperature_scanning_rate 5` which means EPICS is only updating every 2 seconds."
   ],
   "metadata": {}
  },
  {
   "cell_type": "code",
   "execution_count": 6,
   "source": [
    "temperature.scanning_rate.get(as_string=True)"
   ],
   "outputs": [
    {
     "output_type": "execute_result",
     "data": {
      "text/plain": [
       "'2 second'"
      ]
     },
     "metadata": {},
     "execution_count": 6
    }
   ],
   "metadata": {}
  },
  {
   "cell_type": "markdown",
   "source": [
    "## Adjust the measurement interval\n",
    "We need to slow down the measurement to this interval by adding the `delay=2` kwarg, sampling every 2 seconds."
   ],
   "metadata": {}
  },
  {
   "cell_type": "code",
   "execution_count": 7,
   "source": [
    "RE(bp.count([temperature], num=10, delay=2))"
   ],
   "outputs": [
    {
     "output_type": "stream",
     "name": "stdout",
     "text": [
      "\n",
      "\n",
      "Transient Scan ID: 363     Time: 2021-08-31 22:11:04\n",
      "Persistent Unique Scan ID: 'd7a30c46-8a52-42cf-8d48-f4fa00768091'\n",
      "New stream: 'baseline'\n",
      "New stream: 'primary'\n",
      "+-----------+------------+-------------+\n",
      "|   seq_num |       time | temperature |\n",
      "+-----------+------------+-------------+\n",
      "|         1 | 22:11:05.5 |    25.17053 |\n",
      "|         2 | 22:11:07.4 |    25.48036 |\n",
      "|         3 | 22:11:09.4 |    25.05892 |\n",
      "|         4 | 22:11:11.4 |    24.74045 |\n",
      "|         5 | 22:11:13.4 |    24.68242 |\n",
      "|         6 | 22:11:15.4 |    24.99445 |\n",
      "|         7 | 22:11:17.4 |    24.91408 |\n",
      "|         8 | 22:11:19.4 |    25.09196 |\n",
      "|         9 | 22:11:21.4 |    25.29883 |\n",
      "|        10 | 22:11:23.4 |    24.61695 |\n",
      "+-----------+------------+-------------+\n",
      "generator count ['d7a30c46'] (scan num: 363)\n"
     ]
    },
    {
     "output_type": "execute_result",
     "data": {
      "text/plain": [
       "('d7a30c46-8a52-42cf-8d48-f4fa00768091',)"
      ]
     },
     "metadata": {},
     "execution_count": 7
    },
    {
     "output_type": "display_data",
     "data": {
      "text/plain": [
       "<Figure size 360x360 with 1 Axes>"
      ],
      "image/png": "[encoded data removed]"
     },
     "metadata": {
      "needs_background": "light"
     }
    }
   ],
   "metadata": {}
  },
  {
   "cell_type": "markdown",
   "source": [
    "Let's reduce the update interval that EPICS uses, to the shortest interval EPICS provides, so our measurements do not take so long."
   ],
   "metadata": {}
  },
  {
   "cell_type": "code",
   "execution_count": 8,
   "source": [
    "# print the list of possible values\n",
    "print(temperature.scanning_rate.enum_strs)\n",
    "\n",
    "# set the shortest interval, by name\n",
    "temperature.scanning_rate.put(\".1 second\")\n",
    "temperature.scanning_rate.get(as_string=True)"
   ],
   "outputs": [
    {
     "output_type": "stream",
     "name": "stdout",
     "text": [
      "('Passive', 'Event', 'I/O Intr', '10 second', '5 second', '2 second', '1 second', '.5 second', '.2 second', '.1 second')\n"
     ]
    },
    {
     "output_type": "execute_result",
     "data": {
      "text/plain": [
       "'2 second'"
      ]
     },
     "metadata": {},
     "execution_count": 8
    }
   ],
   "metadata": {}
  },
  {
   "cell_type": "markdown",
   "source": [
    "## Collect our measurements\n",
    "Repeat the measurement, this time with more observations.\n",
    "\n",
    "Also, we'll add a metadata key:value pair so that later we can find this data more easily in the database.  Most plans take a `md={}` kwarg where the value is a Python dictionary with the key:value pair(s) to add to the run's metadata."
   ],
   "metadata": {}
  },
  {
   "cell_type": "code",
   "execution_count": 9,
   "source": [
    "RE(bp.count([temperature], num=50, delay=0.1, md={\"motive\": \"tscan\"}))"
   ],
   "outputs": [
    {
     "output_type": "stream",
     "name": "stdout",
     "text": [
      "\n",
      "\n",
      "Transient Scan ID: 364     Time: 2021-08-31 22:11:25\n",
      "Persistent Unique Scan ID: 'c65050de-dda4-4256-9e9d-b0e85b49f386'\n",
      "New stream: 'baseline'\n",
      "New stream: 'primary'\n",
      "+-----------+------------+-------------+\n",
      "|   seq_num |       time | temperature |\n",
      "+-----------+------------+-------------+\n",
      "|         1 | 22:11:26.7 |    24.50049 |\n",
      "|         2 | 22:11:26.8 |    25.46643 |\n",
      "|         3 | 22:11:26.9 |    25.20723 |\n",
      "|         4 | 22:11:27.0 |    24.85201 |\n",
      "|         5 | 22:11:27.1 |    25.31608 |\n",
      "|         6 | 22:11:27.2 |    24.72856 |\n",
      "|         7 | 22:11:27.3 |    25.07704 |\n",
      "|         8 | 22:11:27.4 |    25.08740 |\n",
      "|         9 | 22:11:27.5 |    25.15681 |\n",
      "|        10 | 22:11:27.6 |    24.56575 |\n",
      "|        11 | 22:11:27.7 |    25.48735 |\n",
      "|        12 | 22:11:27.8 |    25.27728 |\n",
      "|        13 | 22:11:27.9 |    25.24342 |\n",
      "|        14 | 22:11:28.0 |    25.33719 |\n",
      "|        15 | 22:11:28.1 |    25.07932 |\n",
      "|        16 | 22:11:28.2 |    24.78258 |\n",
      "|        17 | 22:11:28.3 |    24.83770 |\n",
      "|        18 | 22:11:28.4 |    25.37465 |\n",
      "|        19 | 22:11:28.5 |    24.50600 |\n",
      "|        20 | 22:11:28.6 |    24.88535 |\n",
      "|        21 | 22:11:28.7 |    25.42700 |\n",
      "|        22 | 22:11:28.8 |    24.76300 |\n",
      "|        23 | 22:11:28.9 |    24.87215 |\n",
      "|        24 | 22:11:29.0 |    25.19316 |\n",
      "|        25 | 22:11:29.1 |    25.28485 |\n",
      "|        26 | 22:11:29.2 |    24.84571 |\n",
      "|        27 | 22:11:29.3 |    24.89562 |\n",
      "|        28 | 22:11:29.4 |    25.16963 |\n",
      "|        29 | 22:11:29.5 |    25.21481 |\n",
      "|        30 | 22:11:29.6 |    25.47771 |\n",
      "|        31 | 22:11:29.7 |    25.49371 |\n",
      "|        32 | 22:11:29.9 |    25.03162 |\n",
      "|        33 | 22:11:30.0 |    24.66005 |\n",
      "|        34 | 22:11:30.1 |    25.04820 |\n",
      "|        35 | 22:11:30.2 |    25.06347 |\n",
      "|        36 | 22:11:30.3 |    25.47859 |\n",
      "|        37 | 22:11:30.4 |    25.33929 |\n",
      "|        38 | 22:11:30.5 |    25.30739 |\n",
      "|        39 | 22:11:30.6 |    25.39529 |\n",
      "|        40 | 22:11:30.7 |    25.15501 |\n",
      "|        41 | 22:11:30.8 |    24.80553 |\n",
      "|        42 | 22:11:30.9 |    25.06489 |\n",
      "|        43 | 22:11:31.0 |    24.65401 |\n",
      "|        44 | 22:11:31.1 |    24.78507 |\n",
      "|        45 | 22:11:31.2 |    24.69658 |\n",
      "|        46 | 22:11:31.3 |    25.04798 |\n",
      "|        47 | 22:11:31.4 |    24.99682 |\n",
      "|        48 | 22:11:31.5 |    25.30354 |\n",
      "|        49 | 22:11:31.6 |    24.50056 |\n",
      "+-----------+------------+-------------+\n",
      "|   seq_num |       time | temperature |\n",
      "+-----------+------------+-------------+\n",
      "|        50 | 22:11:31.7 |    24.55789 |\n",
      "+-----------+------------+-------------+\n",
      "generator count ['c65050de'] (scan num: 364)\n"
     ]
    },
    {
     "output_type": "execute_result",
     "data": {
      "text/plain": [
       "('c65050de-dda4-4256-9e9d-b0e85b49f386',)"
      ]
     },
     "metadata": {},
     "execution_count": 9
    },
    {
     "output_type": "display_data",
     "data": {
      "text/plain": [
       "<Figure size 360x360 with 1 Axes>"
      ],
      "image/png": "[encoded data removed]"
     },
     "metadata": {
      "needs_background": "light"
     }
    }
   ],
   "metadata": {}
  },
  {
   "cell_type": "markdown",
   "source": [
    "## Get the data (from the database)\n",
    "Let's get the measured data from the database now.  It's the most recent bluesky run, so an index of `-1` will identify it."
   ],
   "metadata": {}
  },
  {
   "cell_type": "code",
   "execution_count": 10,
   "source": [
    "dataset = cat[-1].primary.read()"
   ],
   "outputs": [],
   "metadata": {}
  },
  {
   "cell_type": "markdown",
   "source": [
    "Let's get the values as a 1-D numpy array."
   ],
   "metadata": {}
  },
  {
   "cell_type": "code",
   "execution_count": 11,
   "source": [
    "T = dataset[\"temperature\"].values"
   ],
   "outputs": [],
   "metadata": {}
  },
  {
   "cell_type": "markdown",
   "source": [
    "## Compute the statistics\n",
    "Use the methods of numpy arrays to compute maximum, mean, standard deviation, and minimum.  Looks nicer in a table."
   ],
   "metadata": {}
  },
  {
   "cell_type": "code",
   "execution_count": 12,
   "source": [
    "table = pyRestTable.Table()\n",
    "table.addLabel(\"measure\")\n",
    "table.addLabel(\"value\")\n",
    "table.addRow((\"max\", T.max()))\n",
    "table.addRow((\"mean\", T.mean()))\n",
    "table.addRow((\"dev\", T.std()))\n",
    "table.addRow((\"min\", T.min()))\n",
    "table.addRow((\"#\", len(T)))\n",
    "print(table)"
   ],
   "outputs": [
    {
     "output_type": "stream",
     "name": "stdout",
     "text": [
      "======= ==================\n",
      "measure value             \n",
      "======= ==================\n",
      "max     25.49371328297856 \n",
      "mean    25.045955291065845\n",
      "dev     0.2941932973582167\n",
      "min     24.500488288700694\n",
      "#       50                \n",
      "======= ==================\n",
      "\n"
     ]
    }
   ],
   "metadata": {}
  },
  {
   "cell_type": "markdown",
   "source": [
    "Let's replot that data for comparison."
   ],
   "metadata": {}
  },
  {
   "cell_type": "code",
   "execution_count": 13,
   "source": [
    "dataset[\"temperature\"].plot(marker=\"o\", color=\"red\")"
   ],
   "outputs": [
    {
     "output_type": "execute_result",
     "data": {
      "text/plain": [
       "[<matplotlib.lines.Line2D at 0x7fccf17f3100>]"
      ]
     },
     "metadata": {},
     "execution_count": 13
    },
    {
     "output_type": "display_data",
     "data": {
      "text/plain": [
       "<Figure size 432x288 with 1 Axes>"
      ],
      "image/png": "[encoded data removed]"
     },
     "metadata": {
      "needs_background": "light"
     }
    }
   ],
   "metadata": {}
  }
 ],
 "metadata": {
  "kernelspec": {
   "name": "python3",
   "display_name": "Python 3.8.10 64-bit ('bluesky_2021_2': conda)"
  },
  "language_info": {
   "codemirror_mode": {
    "name": "ipython",
    "version": 3
   },
   "file_extension": ".py",
   "mimetype": "text/x-python",
   "name": "python",
   "nbconvert_exporter": "python",
   "pygments_lexer": "ipython3",
   "version": "3.8.10"
  },
  "interpreter": {
   "hash": "60aa360bcd8d3c8cfbc4e726e53a455fcd5c15cdf29caaf63c7ca2494eba79e9"
  }
 },
 "nbformat": 4,
 "nbformat_minor": 5
}