{
 "cells": [
  {
   "cell_type": "markdown",
   "id": "159a03cc",
   "metadata": {},
   "source": [
    "# Count the scaler\n",
    "\n",
    "From *APS Python Training for Bluesky Data Acquisition*.\n",
    "\n",
    "**Objective**\n",
    "\n",
    "In this notebook, we show how to count the scaler:\n",
    "\n",
    "* on the command line\n",
    "* using ophyd\n",
    "* using the bluesky RunEngine\n",
    "\n",
    "We also show how to:\n",
    "\n",
    "* set the counting time\n",
    "* choose certain channels for data acquisition\n",
    "\n",
    "## Start the `instrument` package\n",
    "\n",
    "Our instrument package is in the `bluesky` subdirectory here so we add that to the search path before importing it."
   ]
  },
  {
   "cell_type": "code",
   "execution_count": 1,
   "id": "680c527f",
   "metadata": {},
   "outputs": [
    {
     "name": "stdout",
     "output_type": "stream",
     "text": [
      "/home/prjemian/bluesky/instrument/_iconfig.py\n",
      "Activating auto-logging. Current session state plus future input saved.\n",
      "Filename       : /home/prjemian/Documents/projects/BCDA-APS/bluesky_training/docs/source/howto/.logs/ipython_console.log\n",
      "Mode           : rotate\n",
      "Output logging : True\n",
      "Raw input log  : False\n",
      "Timestamping   : True\n",
      "State          : active\n"
     ]
    },
    {
     "name": "stderr",
     "output_type": "stream",
     "text": [
      "I Thu-13:07:12 - ############################################################ startup\n",
      "I Thu-13:07:12 - logging started\n",
      "I Thu-13:07:12 - logging level = 10\n",
      "I Thu-13:07:12 - /home/prjemian/bluesky/instrument/session_logs.py\n",
      "I Thu-13:07:12 - /home/prjemian/bluesky/instrument/collection.py\n",
      "I Thu-13:07:12 - CONDA_PREFIX = /home/prjemian/.conda/envs/bluesky_2023_2\n"
     ]
    },
    {
     "name": "stdout",
     "output_type": "stream",
     "text": [
      "Exception reporting mode: Minimal\n"
     ]
    },
    {
     "name": "stderr",
     "output_type": "stream",
     "text": [
      "I Thu-13:07:12 - xmode exception level: 'Minimal'\n",
      "I Thu-13:07:12 - /home/prjemian/bluesky/instrument/mpl/notebook.py\n",
      "I Thu-13:07:12 - #### Bluesky Framework ####\n",
      "I Thu-13:07:12 - /home/prjemian/bluesky/instrument/framework/check_python.py\n",
      "I Thu-13:07:12 - /home/prjemian/bluesky/instrument/framework/check_bluesky.py\n",
      "I Thu-13:07:12 - /home/prjemian/bluesky/instrument/framework/initialize.py\n",
      "I Thu-13:07:12 - RunEngine metadata saved in directory: /home/prjemian/Bluesky_RunEngine_md\n",
      "I Thu-13:07:12 - using databroker catalog 'training'\n",
      "I Thu-13:07:12 - using ophyd control layer: pyepics\n",
      "I Thu-13:07:12 - /home/prjemian/bluesky/instrument/framework/metadata.py\n",
      "I Thu-13:07:12 - /home/prjemian/bluesky/instrument/epics_signal_config.py\n",
      "I Thu-13:07:12 - Using RunEngine metadata for scan_id\n",
      "I Thu-13:07:12 - #### Devices ####\n",
      "I Thu-13:07:12 - /home/prjemian/bluesky/instrument/devices/area_detector.py\n",
      "I Thu-13:07:12 - /home/prjemian/bluesky/instrument/devices/calculation_records.py\n",
      "I Thu-13:07:14 - /home/prjemian/bluesky/instrument/devices/fourc_diffractometer.py\n",
      "I Thu-13:07:15 - /home/prjemian/bluesky/instrument/devices/ioc_stats.py\n",
      "I Thu-13:07:15 - /home/prjemian/bluesky/instrument/devices/kohzu_monochromator.py\n",
      "I Thu-13:07:15 - /home/prjemian/bluesky/instrument/devices/motors.py\n",
      "I Thu-13:07:15 - /home/prjemian/bluesky/instrument/devices/noisy_detector.py\n",
      "I Thu-13:07:15 - /home/prjemian/bluesky/instrument/devices/scaler.py\n",
      "I Thu-13:07:16 - /home/prjemian/bluesky/instrument/devices/shutter_simulator.py\n",
      "I Thu-13:07:16 - /home/prjemian/bluesky/instrument/devices/simulated_fourc.py\n",
      "I Thu-13:07:16 - /home/prjemian/bluesky/instrument/devices/simulated_kappa.py\n",
      "I Thu-13:07:16 - /home/prjemian/bluesky/instrument/devices/slits.py\n",
      "I Thu-13:07:16 - /home/prjemian/bluesky/instrument/devices/sixc_diffractometer.py\n",
      "I Thu-13:07:16 - /home/prjemian/bluesky/instrument/devices/temperature_signal.py\n",
      "I Thu-13:07:16 - #### Callbacks ####\n",
      "I Thu-13:07:16 - /home/prjemian/bluesky/instrument/callbacks/spec_data_file_writer.py\n",
      "I Thu-13:07:16 - #### Plans ####\n",
      "I Thu-13:07:16 - /home/prjemian/bluesky/instrument/plans/lup_plan.py\n",
      "I Thu-13:07:16 - /home/prjemian/bluesky/instrument/plans/peak_finder_example.py\n",
      "I Thu-13:07:16 - /home/prjemian/bluesky/instrument/utils/image_analysis.py\n",
      "I Thu-13:07:16 - #### Utilities ####\n",
      "I Thu-13:07:16 - writing to SPEC file: /home/prjemian/Documents/projects/BCDA-APS/bluesky_training/docs/source/howto/20230413-130716.dat\n",
      "I Thu-13:07:16 -    >>>>   Using default SPEC file name   <<<<\n",
      "I Thu-13:07:16 -    file will be created when bluesky ends its next scan\n",
      "I Thu-13:07:16 -    to change SPEC file, use command:   newSpecFile('title')\n",
      "I Thu-13:07:16 - #### Startup is complete. ####\n"
     ]
    }
   ],
   "source": [
    "import pathlib, sys\n",
    "sys.path.append(str(pathlib.Path.home() / \"bluesky\"))\n",
    "from instrument.collection import *"
   ]
  },
  {
   "cell_type": "markdown",
   "id": "a1cd6b53",
   "metadata": {},
   "source": [
    "## A closer look at the EPICS scaler\n",
    "\n",
    "A scaler is a device that counts digital pulses from a pulse detector such\n",
    "as a scintillation counter or from photodiodes or ionization chamber with\n",
    "pulse chain electronics.  Scalers have\n",
    "many channels, some of which might have no associated detector.  Our scaler\n",
    "(`scaler1`) is a simulated device that records a random number of pulses in \n",
    "each channel.  We are only interested in the channels that have names provided\n",
    "by users in the GUI screens.  In this control screen for our scaler, only a few of the\n",
    "channels are named:\n",
    "\n",
    "![`scaler` GUI](../_static/scaler.png \"`scaler1` GUI\")"
   ]
  },
  {
   "cell_type": "markdown",
   "id": "11968d36",
   "metadata": {},
   "source": [
    "Let's configure `scaler1` to report only the `scint` and `I0` channels (plus the count time channel which will *always* be included).  Keep in mind that the argument to this function is a Python list, so the channel names must be enclosed with `[]`.  The function does not return a result.  If something *is* printed, there is an error to be fixed."
   ]
  },
  {
   "cell_type": "code",
   "execution_count": 2,
   "id": "2ba05627",
   "metadata": {},
   "outputs": [],
   "source": [
    "scaler1.select_channels([\"scint\", \"I0\"])"
   ]
  },
  {
   "cell_type": "markdown",
   "id": "7cc70fa9",
   "metadata": {},
   "source": [
    "The _easiest_ way to count the `scaler` object is to use the [`%ct`](https://blueskyproject.io/bluesky/magics.html?highlight=label#taking-a-reading-using-ct-post-v1-3-0) bluesky magic command, which counts all objects with the `detectors` label.\n",
    "\n",
    "Note that the various magic commands are only available from the command line, not for use in a bluesky plan function."
   ]
  },
  {
   "cell_type": "code",
   "execution_count": 3,
   "id": "44dc31e4",
   "metadata": {},
   "outputs": [
    {
     "name": "stdout",
     "output_type": "stream",
     "text": [
      "[This data will not be saved. Use the RunEngine to collect data.]\n",
      "noisy                          0.0\n",
      "I0                             7.0\n",
      "scint                          9.0\n",
      "scaler1_time                   1.6\n"
     ]
    }
   ],
   "source": [
    "%ct"
   ]
  },
  {
   "cell_type": "markdown",
   "id": "4d4b4ac5",
   "metadata": {},
   "source": [
    "Compare with the reading when _all_ channels are selected.\n",
    "\n",
    "NOTE:  To report _all_ named channels, call `.select_channels()` with empty parentheses."
   ]
  },
  {
   "cell_type": "code",
   "execution_count": 4,
   "id": "6d08eb68",
   "metadata": {},
   "outputs": [
    {
     "name": "stdout",
     "output_type": "stream",
     "text": [
      "[This data will not be saved. Use the RunEngine to collect data.]\n",
      "noisy                          0.0\n",
      "timebase                       16000000.0\n",
      "I0                             8.0\n",
      "scint                          7.0\n",
      "I000                           8.0\n",
      "I00                            7.0\n",
      "roi1                           8.0\n",
      "scaler1_time                   1.6\n"
     ]
    }
   ],
   "source": [
    "scaler1.select_channels()\n",
    "%ct"
   ]
  },
  {
   "cell_type": "markdown",
   "id": "f843f3a6",
   "metadata": {},
   "source": [
    "Now, select just the two channels again before continuing:"
   ]
  },
  {
   "cell_type": "code",
   "execution_count": 5,
   "id": "f9b00d85",
   "metadata": {},
   "outputs": [],
   "source": [
    "scaler1.select_channels([\"scint\", \"I0\"])"
   ]
  },
  {
   "cell_type": "markdown",
   "id": "7e873a8f",
   "metadata": {},
   "source": [
    "As noted before, the `%ct` command is only available from the command shell.\n",
    "\n",
    "### use ophyd to count the scaler\n",
    "\n",
    "We should learn how to use the underlying Python code to do the same steps.\n",
    "\n",
    "The first step is to use pure ophyd methods to count and report, then use a bluesky plan to do the same thing.  The ophyd methods are `trigger`, `wait`, and `read`.  The `trigger` and `wait` methods can be chained together:"
   ]
  },
  {
   "cell_type": "code",
   "execution_count": 6,
   "id": "cfa9796a",
   "metadata": {},
   "outputs": [],
   "source": [
    "scaler1.trigger().wait()"
   ]
  },
  {
   "cell_type": "markdown",
   "id": "1772e927",
   "metadata": {},
   "source": [
    "Technically, we should `stage` and `unstage` the object.  **We'll use staging to control the count time of the scaler.**\n",
    "\n",
    "The ophyd [`.stage()` method](https://nsls-ii.github.io/ophyd/generated/ophyd.device.BlueskyInterface.stage.html?highlight=stage#ophyd.device.BlueskyInterface.stage) prepares the object for its `.trigger()` method, while the `.unstage()` method returns the object's settings to the previous state before the `.stage()` method was called."
   ]
  },
  {
   "cell_type": "code",
   "execution_count": 7,
   "id": "06d4dbc5",
   "metadata": {},
   "outputs": [
    {
     "data": {
      "text/plain": [
       "[Channels(prefix='gp:scaler1', name='scaler1_channels', parent='scaler1', read_attrs=['chan02', 'chan02.s', 'chan04', 'chan04.s'], configuration_attrs=['chan02', 'chan02.chname', 'chan02.preset', 'chan02.gate', 'chan04', 'chan04.chname', 'chan04.preset', 'chan04.gate']),\n",
       " ScalerCH(prefix='gp:scaler1', name='scaler1', read_attrs=['channels', 'channels.chan02', 'channels.chan02.s', 'channels.chan04', 'channels.chan04.s', 'time'], configuration_attrs=['channels', 'channels.chan02', 'channels.chan02.chname', 'channels.chan02.preset', 'channels.chan02.gate', 'channels.chan04', 'channels.chan04.chname', 'channels.chan04.preset', 'channels.chan04.gate', 'count_mode', 'delay', 'auto_count_delay', 'freq', 'preset_time', 'auto_count_time', 'egu'])]"
      ]
     },
     "execution_count": 7,
     "metadata": {},
     "output_type": "execute_result"
    }
   ],
   "source": [
    "scaler1.stage()\n",
    "scaler1.trigger().wait()\n",
    "scaler1.unstage()"
   ]
  },
  {
   "cell_type": "markdown",
   "id": "0bee4409",
   "metadata": {},
   "source": [
    "Let's find out what happens when `scaler1` is staged.  That's controlled by the contents of a Python dictionary `.stage_sigs`:"
   ]
  },
  {
   "cell_type": "code",
   "execution_count": 8,
   "id": "7c0e3af2",
   "metadata": {},
   "outputs": [
    {
     "data": {
      "text/plain": [
       "OrderedDict()"
      ]
     },
     "execution_count": 8,
     "metadata": {},
     "output_type": "execute_result"
    }
   ],
   "source": [
    "scaler1.stage_sigs"
   ]
  },
  {
   "cell_type": "markdown",
   "id": "fba12e4a",
   "metadata": {},
   "source": [
    "It's empty, so nothing has been preconfigured for us.  Let's make sure that we get to pick the *counting time* (the time to accumulate pulses in the various channels), say 2.0 seconds, when we count here."
   ]
  },
  {
   "cell_type": "code",
   "execution_count": 9,
   "id": "fff4d63c",
   "metadata": {},
   "outputs": [
    {
     "data": {
      "text/plain": [
       "OrderedDict([('preset_time', 2)])"
      ]
     },
     "execution_count": 9,
     "metadata": {},
     "output_type": "execute_result"
    }
   ],
   "source": [
    "scaler1.stage_sigs[\"preset_time\"] = 2\n",
    "scaler1.stage_sigs"
   ]
  },
  {
   "cell_type": "markdown",
   "id": "0b670908",
   "metadata": {},
   "source": [
    "Show the counting time *before* we count, then `stage`, `trigger`, `wait`, `read`, `unstage`, then finally show the counting time  *after* we count:"
   ]
  },
  {
   "cell_type": "code",
   "execution_count": 10,
   "id": "51763cdb",
   "metadata": {},
   "outputs": [
    {
     "name": "stdout",
     "output_type": "stream",
     "text": [
      "Scaler configured to count for 1.5s\n",
      "OrderedDict([('I0', {'value': 12.0, 'timestamp': 1681409246.542347}), ('scint', {'value': 10.0, 'timestamp': 1681409246.542347}), ('scaler1_time', {'value': 2.1, 'timestamp': 1681409244.179794})])\n",
      "Scaler configured to count for 1.5s\n"
     ]
    }
   ],
   "source": [
    "print(f\"Scaler configured to count for {scaler1.preset_time.get()}s\")\n",
    "scaler1.stage()\n",
    "scaler1.trigger().wait()\n",
    "print(scaler1.read())\n",
    "scaler1.unstage()\n",
    "print(f\"Scaler configured to count for {scaler1.preset_time.get()}s\")"
   ]
  },
  {
   "cell_type": "markdown",
   "id": "00df9a9c",
   "metadata": {},
   "source": [
    "The report from `.read()` includes both values and timestamps (in seconds since the Python [time](https://docs.python.org/3/library/time.html) epoch, UTC).  The structure is a Python dictionary.  This is the low-level method used to collect readings from any ophyd device.  We had to `print()` this since the return result from a command within a sequence is not returned at the end of the sequence, just the return result of the *final* command in the sequence.\n",
    "\n",
    "See that the scaler counted for 2.1 seconds (a small bug in the scaler simulator it seems, always adds .1 to the count time!).  But before staging, the scaler was configured for 1.0 seconds, and after unstaging, the scaler returned to that value.\n",
    "\n",
    "**That's how to control the counting time *for a scaler*.**  (Area detectors use different terms.  More on that later.)"
   ]
  },
  {
   "cell_type": "markdown",
   "id": "53a090b3",
   "metadata": {},
   "source": [
    "<details>\n",
    "    <summary>about <tt>scaler1_time</tt></summary>\n",
    "\n",
    "     Of note is the key `scaler1_time` which is the name of the ophyd symbol `scaler1.time` as returned by `scaler1.time.name`:\n",
    "\n",
    "        In [21]: scaler1.time.name\n",
    "        Out [21]: 'scaler1_time'\n",
    "\n",
    "</details>"
   ]
  },
  {
   "cell_type": "markdown",
   "id": "4cfb1d7c",
   "metadata": {},
   "source": [
    "### use bluesky (the package) to count the scaler\n",
    "\n",
    "Now, use the bluesky [RunEngine](https://blueskyproject.io/bluesky/generated/bluesky.run_engine.RunEngine.html?highlight=runengine#bluesky.run_engine.RunEngine) (`RE`) to count `scaler1`.  We'll use the bluesky plan ([`bp`](https://blueskyproject.io/bluesky/plans.html?highlight=count#pre-assembled-plans)) called [`count()`](https://blueskyproject.io/bluesky/generated/bluesky.plans.count.html#bluesky.plans.count).  To be consistent with the result returned from `%ct`, we'll include the `noisy` detector."
   ]
  },
  {
   "cell_type": "code",
   "execution_count": 11,
   "id": "bd32cb1d",
   "metadata": {},
   "outputs": [
    {
     "name": "stdout",
     "output_type": "stream",
     "text": [
      "\n",
      "\n",
      "Transient Scan ID: 932     Time: 2023-04-13 13:07:26\n",
      "Persistent Unique Scan ID: 'de519ff4-fb72-4f15-8ee3-d0b11db127da'\n",
      "New stream: 'label_start_motor'\n",
      "New stream: 'primary'\n",
      "+-----------+------------+------------+------------+------------+\n",
      "|   seq_num |       time |      noisy |         I0 |      scint |\n",
      "+-----------+------------+------------+------------+------------+\n",
      "|         1 | 13:07:28.9 |    0.00000 |         12 |          8 |\n",
      "+-----------+------------+------------+------------+------------+\n",
      "generator count ['de519ff4'] (scan num: 932)\n"
     ]
    },
    {
     "data": {
      "text/plain": [
       "('de519ff4-fb72-4f15-8ee3-d0b11db127da',)"
      ]
     },
     "execution_count": 11,
     "metadata": {},
     "output_type": "execute_result"
    }
   ],
   "source": [
    "RE(bp.count([scaler1,noisy]))"
   ]
  },
  {
   "cell_type": "markdown",
   "id": "c7c2d5a3",
   "metadata": {},
   "source": [
    "There are many ways to view data from bluesky runs.  The most recent run can be picked from the database using the Python reference for *the last item in the list*: `[-1]`.  We need the `v2` version of the database to access the `.primary` data stream.\n",
    "\n",
    "We'll pick one simple to view the run data, as an [xarray](http://xarray.pydata.org/) table since it is easy to display such structured content in a Jupyter notebook.  (We could just as easily have displayed the data as a [dask](https://dask.org/) table by replacing `.read()` with `.to_dask()`.)"
   ]
  },
  {
   "cell_type": "code",
   "execution_count": 12,
   "id": "74aaf4cb",
   "metadata": {},
   "outputs": [
    {
     "data": {
      "text/html": [
       "<div><svg style=\"position: absolute; width: 0; height: 0; overflow: hidden\">\n",
       "<defs>\n",
       "<symbol id=\"icon-database\" viewBox=\"0 0 32 32\">\n",
       "<path d=\"M16 0c-8.837 0-16 2.239-16 5v4c0 2.761 7.163 5 16 5s16-2.239 16-5v-4c0-2.761-7.163-5-16-5z\"></path>\n",
       "<path d=\"M16 17c-8.837 0-16-2.239-16-5v6c0 2.761 7.163 5 16 5s16-2.239 16-5v-6c0 2.761-7.163 5-16 5z\"></path>\n",
       "<path d=\"M16 26c-8.837 0-16-2.239-16-5v6c0 2.761 7.163 5 16 5s16-2.239 16-5v-6c0 2.761-7.163 5-16 5z\"></path>\n",
       "</symbol>\n",
       "<symbol id=\"icon-file-text2\" viewBox=\"0 0 32 32\">\n",
       "<path d=\"M28.681 7.159c-0.694-0.947-1.662-2.053-2.724-3.116s-2.169-2.030-3.116-2.724c-1.612-1.182-2.393-1.319-2.841-1.319h-15.5c-1.378 0-2.5 1.121-2.5 2.5v27c0 1.378 1.122 2.5 2.5 2.5h23c1.378 0 2.5-1.122 2.5-2.5v-19.5c0-0.448-0.137-1.23-1.319-2.841zM24.543 5.457c0.959 0.959 1.712 1.825 2.268 2.543h-4.811v-4.811c0.718 0.556 1.584 1.309 2.543 2.268zM28 29.5c0 0.271-0.229 0.5-0.5 0.5h-23c-0.271 0-0.5-0.229-0.5-0.5v-27c0-0.271 0.229-0.5 0.5-0.5 0 0 15.499-0 15.5 0v7c0 0.552 0.448 1 1 1h7v19.5z\"></path>\n",
       "<path d=\"M23 26h-14c-0.552 0-1-0.448-1-1s0.448-1 1-1h14c0.552 0 1 0.448 1 1s-0.448 1-1 1z\"></path>\n",
       "<path d=\"M23 22h-14c-0.552 0-1-0.448-1-1s0.448-1 1-1h14c0.552 0 1 0.448 1 1s-0.448 1-1 1z\"></path>\n",
       "<path d=\"M23 18h-14c-0.552 0-1-0.448-1-1s0.448-1 1-1h14c0.552 0 1 0.448 1 1s-0.448 1-1 1z\"></path>\n",
       "</symbol>\n",
       "</defs>\n",
       "</svg>\n",
       "<style>/* CSS stylesheet for displaying xarray objects in jupyterlab.\n",
       " *\n",
       " */\n",
       "\n",
       ":root {\n",
       "  --xr-font-color0: var(--jp-content-font-color0, rgba(0, 0, 0, 1));\n",
       "  --xr-font-color2: var(--jp-content-font-color2, rgba(0, 0, 0, 0.54));\n",
       "  --xr-font-color3: var(--jp-content-font-color3, rgba(0, 0, 0, 0.38));\n",
       "  --xr-border-color: var(--jp-border-color2, #e0e0e0);\n",
       "  --xr-disabled-color: var(--jp-layout-color3, #bdbdbd);\n",
       "  --xr-background-color: var(--jp-layout-color0, white);\n",
       "  --xr-background-color-row-even: var(--jp-layout-color1, white);\n",
       "  --xr-background-color-row-odd: var(--jp-layout-color2, #eeeeee);\n",
       "}\n",
       "\n",
       "html[theme=dark],\n",
       "body[data-theme=dark],\n",
       "body.vscode-dark {\n",
       "  --xr-font-color0: rgba(255, 255, 255, 1);\n",
       "  --xr-font-color2: rgba(255, 255, 255, 0.54);\n",
       "  --xr-font-color3: rgba(255, 255, 255, 0.38);\n",
       "  --xr-border-color: #1F1F1F;\n",
       "  --xr-disabled-color: #515151;\n",
       "  --xr-background-color: #111111;\n",
       "  --xr-background-color-row-even: #111111;\n",
       "  --xr-background-color-row-odd: #313131;\n",
       "}\n",
       "\n",
       ".xr-wrap {\n",
       "  display: block !important;\n",
       "  min-width: 300px;\n",
       "  max-width: 700px;\n",
       "}\n",
       "\n",
       ".xr-text-repr-fallback {\n",
       "  /* fallback to plain text repr when CSS is not injected (untrusted notebook) */\n",
       "  display: none;\n",
       "}\n",
       "\n",
       ".xr-header {\n",
       "  padding-top: 6px;\n",
       "  padding-bottom: 6px;\n",
       "  margin-bottom: 4px;\n",
       "  border-bottom: solid 1px var(--xr-border-color);\n",
       "}\n",
       "\n",
       ".xr-header > div,\n",
       ".xr-header > ul {\n",
       "  display: inline;\n",
       "  margin-top: 0;\n",
       "  margin-bottom: 0;\n",
       "}\n",
       "\n",
       ".xr-obj-type,\n",
       ".xr-array-name {\n",
       "  margin-left: 2px;\n",
       "  margin-right: 10px;\n",
       "}\n",
       "\n",
       ".xr-obj-type {\n",
       "  color: var(--xr-font-color2);\n",
       "}\n",
       "\n",
       ".xr-sections {\n",
       "  padding-left: 0 !important;\n",
       "  display: grid;\n",
       "  grid-template-columns: 150px auto auto 1fr 20px 20px;\n",
       "}\n",
       "\n",
       ".xr-section-item {\n",
       "  display: contents;\n",
       "}\n",
       "\n",
       ".xr-section-item input {\n",
       "  display: none;\n",
       "}\n",
       "\n",
       ".xr-section-item input + label {\n",
       "  color: var(--xr-disabled-color);\n",
       "}\n",
       "\n",
       ".xr-section-item input:enabled + label {\n",
       "  cursor: pointer;\n",
       "  color: var(--xr-font-color2);\n",
       "}\n",
       "\n",
       ".xr-section-item input:enabled + label:hover {\n",
       "  color: var(--xr-font-color0);\n",
       "}\n",
       "\n",
       ".xr-section-summary {\n",
       "  grid-column: 1;\n",
       "  color: var(--xr-font-color2);\n",
       "  font-weight: 500;\n",
       "}\n",
       "\n",
       ".xr-section-summary > span {\n",
       "  display: inline-block;\n",
       "  padding-left: 0.5em;\n",
       "}\n",
       "\n",
       ".xr-section-summary-in:disabled + label {\n",
       "  color: var(--xr-font-color2);\n",
       "}\n",
       "\n",
       ".xr-section-summary-in + label:before {\n",
       "  display: inline-block;\n",
       "  content: '►';\n",
       "  font-size: 11px;\n",
       "  width: 15px;\n",
       "  text-align: center;\n",
       "}\n",
       "\n",
       ".xr-section-summary-in:disabled + label:before {\n",
       "  color: var(--xr-disabled-color);\n",
       "}\n",
       "\n",
       ".xr-section-summary-in:checked + label:before {\n",
       "  content: '▼';\n",
       "}\n",
       "\n",
       ".xr-section-summary-in:checked + label > span {\n",
       "  display: none;\n",
       "}\n",
       "\n",
       ".xr-section-summary,\n",
       ".xr-section-inline-details {\n",
       "  padding-top: 4px;\n",
       "  padding-bottom: 4px;\n",
       "}\n",
       "\n",
       ".xr-section-inline-details {\n",
       "  grid-column: 2 / -1;\n",
       "}\n",
       "\n",
       ".xr-section-details {\n",
       "  display: none;\n",
       "  grid-column: 1 / -1;\n",
       "  margin-bottom: 5px;\n",
       "}\n",
       "\n",
       ".xr-section-summary-in:checked ~ .xr-section-details {\n",
       "  display: contents;\n",
       "}\n",
       "\n",
       ".xr-array-wrap {\n",
       "  grid-column: 1 / -1;\n",
       "  display: grid;\n",
       "  grid-template-columns: 20px auto;\n",
       "}\n",
       "\n",
       ".xr-array-wrap > label {\n",
       "  grid-column: 1;\n",
       "  vertical-align: top;\n",
       "}\n",
       "\n",
       ".xr-preview {\n",
       "  color: var(--xr-font-color3);\n",
       "}\n",
       "\n",
       ".xr-array-preview,\n",
       ".xr-array-data {\n",
       "  padding: 0 5px !important;\n",
       "  grid-column: 2;\n",
       "}\n",
       "\n",
       ".xr-array-data,\n",
       ".xr-array-in:checked ~ .xr-array-preview {\n",
       "  display: none;\n",
       "}\n",
       "\n",
       ".xr-array-in:checked ~ .xr-array-data,\n",
       ".xr-array-preview {\n",
       "  display: inline-block;\n",
       "}\n",
       "\n",
       ".xr-dim-list {\n",
       "  display: inline-block !important;\n",
       "  list-style: none;\n",
       "  padding: 0 !important;\n",
       "  margin: 0;\n",
       "}\n",
       "\n",
       ".xr-dim-list li {\n",
       "  display: inline-block;\n",
       "  padding: 0;\n",
       "  margin: 0;\n",
       "}\n",
       "\n",
       ".xr-dim-list:before {\n",
       "  content: '(';\n",
       "}\n",
       "\n",
       ".xr-dim-list:after {\n",
       "  content: ')';\n",
       "}\n",
       "\n",
       ".xr-dim-list li:not(:last-child):after {\n",
       "  content: ',';\n",
       "  padding-right: 5px;\n",
       "}\n",
       "\n",
       ".xr-has-index {\n",
       "  font-weight: bold;\n",
       "}\n",
       "\n",
       ".xr-var-list,\n",
       ".xr-var-item {\n",
       "  display: contents;\n",
       "}\n",
       "\n",
       ".xr-var-item > div,\n",
       ".xr-var-item label,\n",
       ".xr-var-item > .xr-var-name span {\n",
       "  background-color: var(--xr-background-color-row-even);\n",
       "  margin-bottom: 0;\n",
       "}\n",
       "\n",
       ".xr-var-item > .xr-var-name:hover span {\n",
       "  padding-right: 5px;\n",
       "}\n",
       "\n",
       ".xr-var-list > li:nth-child(odd) > div,\n",
       ".xr-var-list > li:nth-child(odd) > label,\n",
       ".xr-var-list > li:nth-child(odd) > .xr-var-name span {\n",
       "  background-color: var(--xr-background-color-row-odd);\n",
       "}\n",
       "\n",
       ".xr-var-name {\n",
       "  grid-column: 1;\n",
       "}\n",
       "\n",
       ".xr-var-dims {\n",
       "  grid-column: 2;\n",
       "}\n",
       "\n",
       ".xr-var-dtype {\n",
       "  grid-column: 3;\n",
       "  text-align: right;\n",
       "  color: var(--xr-font-color2);\n",
       "}\n",
       "\n",
       ".xr-var-preview {\n",
       "  grid-column: 4;\n",
       "}\n",
       "\n",
       ".xr-index-preview {\n",
       "  grid-column: 2 / 5;\n",
       "  color: var(--xr-font-color2);\n",
       "}\n",
       "\n",
       ".xr-var-name,\n",
       ".xr-var-dims,\n",
       ".xr-var-dtype,\n",
       ".xr-preview,\n",
       ".xr-attrs dt {\n",
       "  white-space: nowrap;\n",
       "  overflow: hidden;\n",
       "  text-overflow: ellipsis;\n",
       "  padding-right: 10px;\n",
       "}\n",
       "\n",
       ".xr-var-name:hover,\n",
       ".xr-var-dims:hover,\n",
       ".xr-var-dtype:hover,\n",
       ".xr-attrs dt:hover {\n",
       "  overflow: visible;\n",
       "  width: auto;\n",
       "  z-index: 1;\n",
       "}\n",
       "\n",
       ".xr-var-attrs,\n",
       ".xr-var-data,\n",
       ".xr-index-data {\n",
       "  display: none;\n",
       "  background-color: var(--xr-background-color) !important;\n",
       "  padding-bottom: 5px !important;\n",
       "}\n",
       "\n",
       ".xr-var-attrs-in:checked ~ .xr-var-attrs,\n",
       ".xr-var-data-in:checked ~ .xr-var-data,\n",
       ".xr-index-data-in:checked ~ .xr-index-data {\n",
       "  display: block;\n",
       "}\n",
       "\n",
       ".xr-var-data > table {\n",
       "  float: right;\n",
       "}\n",
       "\n",
       ".xr-var-name span,\n",
       ".xr-var-data,\n",
       ".xr-index-name div,\n",
       ".xr-index-data,\n",
       ".xr-attrs {\n",
       "  padding-left: 25px !important;\n",
       "}\n",
       "\n",
       ".xr-attrs,\n",
       ".xr-var-attrs,\n",
       ".xr-var-data,\n",
       ".xr-index-data {\n",
       "  grid-column: 1 / -1;\n",
       "}\n",
       "\n",
       "dl.xr-attrs {\n",
       "  padding: 0;\n",
       "  margin: 0;\n",
       "  display: grid;\n",
       "  grid-template-columns: 125px auto;\n",
       "}\n",
       "\n",
       ".xr-attrs dt,\n",
       ".xr-attrs dd {\n",
       "  padding: 0;\n",
       "  margin: 0;\n",
       "  float: left;\n",
       "  padding-right: 10px;\n",
       "  width: auto;\n",
       "}\n",
       "\n",
       ".xr-attrs dt {\n",
       "  font-weight: normal;\n",
       "  grid-column: 1;\n",
       "}\n",
       "\n",
       ".xr-attrs dt:hover span {\n",
       "  display: inline-block;\n",
       "  background: var(--xr-background-color);\n",
       "  padding-right: 10px;\n",
       "}\n",
       "\n",
       ".xr-attrs dd {\n",
       "  grid-column: 2;\n",
       "  white-space: pre-wrap;\n",
       "  word-break: break-all;\n",
       "}\n",
       "\n",
       ".xr-icon-database,\n",
       ".xr-icon-file-text2,\n",
       ".xr-no-icon {\n",
       "  display: inline-block;\n",
       "  vertical-align: middle;\n",
       "  width: 1em;\n",
       "  height: 1.5em !important;\n",
       "  stroke-width: 0;\n",
       "  stroke: currentColor;\n",
       "  fill: currentColor;\n",
       "}\n",
       "</style><pre class='xr-text-repr-fallback'>&lt;xarray.Dataset&gt;\n",
       "Dimensions:       (time: 1)\n",
       "Coordinates:\n",
       "  * time          (time) float64 1.681e+09\n",
       "Data variables:\n",
       "    noisy         (time) float64 0.0\n",
       "    I0            (time) float64 12.0\n",
       "    scint         (time) float64 8.0\n",
       "    scaler1_time  (time) float64 2.1</pre><div class='xr-wrap' style='display:none'><div class='xr-header'><div class='xr-obj-type'>xarray.Dataset</div></div><ul class='xr-sections'><li class='xr-section-item'><input id='section-d37f6960-49a7-4937-975b-4577797a6214' class='xr-section-summary-in' type='checkbox' disabled ><label for='section-d37f6960-49a7-4937-975b-4577797a6214' class='xr-section-summary'  title='Expand/collapse section'>Dimensions:</label><div class='xr-section-inline-details'><ul class='xr-dim-list'><li><span class='xr-has-index'>time</span>: 1</li></ul></div><div class='xr-section-details'></div></li><li class='xr-section-item'><input id='section-5b2d8c76-784c-488b-9220-06735a309006' class='xr-section-summary-in' type='checkbox'  checked><label for='section-5b2d8c76-784c-488b-9220-06735a309006' class='xr-section-summary' >Coordinates: <span>(1)</span></label><div class='xr-section-inline-details'></div><div class='xr-section-details'><ul class='xr-var-list'><li class='xr-var-item'><div class='xr-var-name'><span class='xr-has-index'>time</span></div><div class='xr-var-dims'>(time)</div><div class='xr-var-dtype'>float64</div><div class='xr-var-preview xr-preview'>1.681e+09</div><input id='attrs-e7f088e9-ca4f-4178-a1cd-407af52effd7' class='xr-var-attrs-in' type='checkbox' disabled><label for='attrs-e7f088e9-ca4f-4178-a1cd-407af52effd7' title='Show/Hide attributes'><svg class='icon xr-icon-file-text2'><use xlink:href='#icon-file-text2'></use></svg></label><input id='data-b3426459-ce86-4f18-b583-7c63ffc18004' class='xr-var-data-in' type='checkbox'><label for='data-b3426459-ce86-4f18-b583-7c63ffc18004' title='Show/Hide data repr'><svg class='icon xr-icon-database'><use xlink:href='#icon-database'></use></svg></label><div class='xr-var-attrs'><dl class='xr-attrs'></dl></div><div class='xr-var-data'><pre>array([1.681409e+09])</pre></div></li></ul></div></li><li class='xr-section-item'><input id='section-74076366-b19b-4a8c-af5c-aef6e0a2eb67' class='xr-section-summary-in' type='checkbox'  checked><label for='section-74076366-b19b-4a8c-af5c-aef6e0a2eb67' class='xr-section-summary' >Data variables: <span>(4)</span></label><div class='xr-section-inline-details'></div><div class='xr-section-details'><ul class='xr-var-list'><li class='xr-var-item'><div class='xr-var-name'><span>noisy</span></div><div class='xr-var-dims'>(time)</div><div class='xr-var-dtype'>float64</div><div class='xr-var-preview xr-preview'>0.0</div><input id='attrs-ff42b813-2fa7-4380-bef4-d52916c9e459' class='xr-var-attrs-in' type='checkbox' ><label for='attrs-ff42b813-2fa7-4380-bef4-d52916c9e459' title='Show/Hide attributes'><svg class='icon xr-icon-file-text2'><use xlink:href='#icon-file-text2'></use></svg></label><input id='data-fbf0f446-fc35-40f1-8bfa-cf68dc620ee8' class='xr-var-data-in' type='checkbox'><label for='data-fbf0f446-fc35-40f1-8bfa-cf68dc620ee8' title='Show/Hide data repr'><svg class='icon xr-icon-database'><use xlink:href='#icon-database'></use></svg></label><div class='xr-var-attrs'><dl class='xr-attrs'><dt><span>object :</span></dt><dd>noisy</dd></dl></div><div class='xr-var-data'><pre>array([0.])</pre></div></li><li class='xr-var-item'><div class='xr-var-name'><span>I0</span></div><div class='xr-var-dims'>(time)</div><div class='xr-var-dtype'>float64</div><div class='xr-var-preview xr-preview'>12.0</div><input id='attrs-3cef4bb1-162a-4b80-9376-5aec80b358d4' class='xr-var-attrs-in' type='checkbox' ><label for='attrs-3cef4bb1-162a-4b80-9376-5aec80b358d4' title='Show/Hide attributes'><svg class='icon xr-icon-file-text2'><use xlink:href='#icon-file-text2'></use></svg></label><input id='data-615c13ca-b801-4261-af25-c217085bc249' class='xr-var-data-in' type='checkbox'><label for='data-615c13ca-b801-4261-af25-c217085bc249' title='Show/Hide data repr'><svg class='icon xr-icon-database'><use xlink:href='#icon-database'></use></svg></label><div class='xr-var-attrs'><dl class='xr-attrs'><dt><span>object :</span></dt><dd>scaler1</dd></dl></div><div class='xr-var-data'><pre>array([12.])</pre></div></li><li class='xr-var-item'><div class='xr-var-name'><span>scint</span></div><div class='xr-var-dims'>(time)</div><div class='xr-var-dtype'>float64</div><div class='xr-var-preview xr-preview'>8.0</div><input id='attrs-e93d1a09-afaf-4151-a9d3-f2bc42216dea' class='xr-var-attrs-in' type='checkbox' ><label for='attrs-e93d1a09-afaf-4151-a9d3-f2bc42216dea' title='Show/Hide attributes'><svg class='icon xr-icon-file-text2'><use xlink:href='#icon-file-text2'></use></svg></label><input id='data-72492b60-9496-45e1-8d99-e41d16683364' class='xr-var-data-in' type='checkbox'><label for='data-72492b60-9496-45e1-8d99-e41d16683364' title='Show/Hide data repr'><svg class='icon xr-icon-database'><use xlink:href='#icon-database'></use></svg></label><div class='xr-var-attrs'><dl class='xr-attrs'><dt><span>object :</span></dt><dd>scaler1</dd></dl></div><div class='xr-var-data'><pre>array([8.])</pre></div></li><li class='xr-var-item'><div class='xr-var-name'><span>scaler1_time</span></div><div class='xr-var-dims'>(time)</div><div class='xr-var-dtype'>float64</div><div class='xr-var-preview xr-preview'>2.1</div><input id='attrs-ddcce92d-7174-416e-80dc-05318678c0ea' class='xr-var-attrs-in' type='checkbox' ><label for='attrs-ddcce92d-7174-416e-80dc-05318678c0ea' title='Show/Hide attributes'><svg class='icon xr-icon-file-text2'><use xlink:href='#icon-file-text2'></use></svg></label><input id='data-58ff9953-a513-4eea-abd6-789da6890d39' class='xr-var-data-in' type='checkbox'><label for='data-58ff9953-a513-4eea-abd6-789da6890d39' title='Show/Hide data repr'><svg class='icon xr-icon-database'><use xlink:href='#icon-database'></use></svg></label><div class='xr-var-attrs'><dl class='xr-attrs'><dt><span>object :</span></dt><dd>scaler1</dd></dl></div><div class='xr-var-data'><pre>array([2.1])</pre></div></li></ul></div></li><li class='xr-section-item'><input id='section-b6c27c14-0f4d-492a-8148-c75aa6494f74' class='xr-section-summary-in' type='checkbox'  ><label for='section-b6c27c14-0f4d-492a-8148-c75aa6494f74' class='xr-section-summary' >Indexes: <span>(1)</span></label><div class='xr-section-inline-details'></div><div class='xr-section-details'><ul class='xr-var-list'><li class='xr-var-item'><div class='xr-index-name'><div>time</div></div><div class='xr-index-preview'>PandasIndex</div><div></div><input id='index-900dac90-9303-44f7-a93d-71fade32c316' class='xr-index-data-in' type='checkbox'/><label for='index-900dac90-9303-44f7-a93d-71fade32c316' title='Show/Hide index repr'><svg class='icon xr-icon-database'><use xlink:href='#icon-database'></use></svg></label><div class='xr-index-data'><pre>PandasIndex(Float64Index([1681409248.9635038], dtype=&#x27;float64&#x27;, name=&#x27;time&#x27;))</pre></div></li></ul></div></li><li class='xr-section-item'><input id='section-5171a4bb-26ab-4baa-82ff-69e734f99f7f' class='xr-section-summary-in' type='checkbox' disabled ><label for='section-5171a4bb-26ab-4baa-82ff-69e734f99f7f' class='xr-section-summary'  title='Expand/collapse section'>Attributes: <span>(0)</span></label><div class='xr-section-inline-details'></div><div class='xr-section-details'><dl class='xr-attrs'></dl></div></li></ul></div></div>"
      ],
      "text/plain": [
       "<xarray.Dataset>\n",
       "Dimensions:       (time: 1)\n",
       "Coordinates:\n",
       "  * time          (time) float64 1.681e+09\n",
       "Data variables:\n",
       "    noisy         (time) float64 0.0\n",
       "    I0            (time) float64 12.0\n",
       "    scint         (time) float64 8.0\n",
       "    scaler1_time  (time) float64 2.1"
      ]
     },
     "execution_count": 12,
     "metadata": {},
     "output_type": "execute_result"
    }
   ],
   "source": [
    "cat[-1].primary.read()"
   ]
  },
  {
   "cell_type": "markdown",
   "id": "94e8851a",
   "metadata": {},
   "source": [
    "As a last action in this section, use the [`listruns()`](https://bcda-aps.github.io/apstools/latest/api/_utils.html#apstools.utils.list_runs.listruns) command from *apstools* to show the (default: 20) most recent runs in the database.  The table shows a short version of the run's unique identifier (`short_uid`), and other more obvious columns of information, truncated to avoid lengthy output.  The name of the [databroker *catalog*](https://blueskyproject.io/databroker/index.html) (`class_2021_03`) is shown before the table."
   ]
  },
  {
   "cell_type": "code",
   "execution_count": 13,
   "id": "d8f0d076",
   "metadata": {},
   "outputs": [
    {
     "name": "stderr",
     "output_type": "stream",
     "text": [
      "/home/prjemian/.conda/envs/bluesky_2023_2/lib/python3.10/site-packages/databroker/queries.py:89: PytzUsageWarning: The zone attribute is specific to pytz's interface; please migrate to a new time zone provider. For more details on how to do so, see https://pytz-deprecation-shim.readthedocs.io/en/latest/migration.html\n",
      "  timezone = lz.zone\n"
     ]
    },
    {
     "data": {
      "text/plain": [
       "======= =================== ========= ==========================\n",
       "scan_id time                plan_name detectors                 \n",
       "======= =================== ========= ==========================\n",
       "932     2023-04-13 13:07:26 count     ['scaler1', 'noisy']      \n",
       "931     2023-04-13 13:06:44 count     ['scaler1', 'noisy']      \n",
       "930     2023-04-11 18:48:34 scan      ['noisy', 'th_tth_permit']\n",
       "929     2023-04-11 18:48:09 scan      ['noisy', 'th_tth_permit']\n",
       "928     2023-04-11 18:47:57 scan      ['noisy', 'th_tth_permit']\n",
       "927     2023-04-11 18:47:42 scan      ['noisy', 'th_tth_permit']\n",
       "926     2023-04-11 18:47:33 scan      ['noisy', 'th_tth_permit']\n",
       "925     2023-04-11 18:46:11 scan      ['noisy', 'th_tth_permit']\n",
       "924     2023-04-11 18:45:11 scan      ['noisy', 'th_tth_permit']\n",
       "923     2023-04-11 18:44:49 scan      ['noisy', 'th_tth_permit']\n",
       "922     2023-04-11 18:42:15 scan      ['noisy', 'th_tth_permit']\n",
       "921     2023-04-11 18:41:39 scan      ['noisy', 'th_tth_permit']\n",
       "920     2023-04-11 18:41:23 scan      ['noisy', 'th_tth_permit']\n",
       "919     2023-04-11 18:41:15 scan      ['noisy', 'th_tth_permit']\n",
       "918     2023-04-11 18:40:39 scan      ['noisy', 'th_tth_permit']\n",
       "917     2023-04-11 18:39:11 scan      ['noisy', 'th_tth_permit']\n",
       "916     2023-04-11 18:38:51 scan      ['noisy', 'th_tth_permit']\n",
       "915     2023-04-11 18:38:36 scan      ['noisy', 'th_tth_permit']\n",
       "914     2023-04-11 18:38:27 scan      ['noisy', 'th_tth_permit']\n",
       "913     2023-04-11 18:36:37 scan      ['noisy', 'th_tth_permit']\n",
       "======= =================== ========= =========================="
      ]
     },
     "execution_count": 13,
     "metadata": {},
     "output_type": "execute_result"
    },
    {
     "name": "stderr",
     "output_type": "stream",
     "text": [
      "CA.Client.Exception...............................................\n",
      "    Warning: \"Virtual circuit disconnect\"\n",
      "    Context: \"zap:45763\"\n",
      "    Source File: ../cac.cpp line 1237\n",
      "    Current Time: Thu Apr 13 2023 16:55:17.301061478\n",
      "..................................................................\n",
      "CA.Client.Exception...............................................\n",
      "    Warning: \"Virtual circuit disconnect\"\n",
      "    Context: \"zap:5064\"\n",
      "    Source File: ../cac.cpp line 1237\n",
      "    Current Time: Thu Apr 13 2023 16:55:30.733410696\n",
      "..................................................................\n"
     ]
    }
   ],
   "source": [
    "listruns()"
   ]
  }
 ],
 "metadata": {
  "kernelspec": {
   "display_name": "Python 3 (ipykernel)",
   "language": "python",
   "name": "python3"
  },
  "language_info": {
   "codemirror_mode": {
    "name": "ipython",
    "version": 3
   },
   "file_extension": ".py",
   "mimetype": "text/x-python",
   "name": "python",
   "nbconvert_exporter": "python",
   "pygments_lexer": "ipython3",
   "version": "3.10.10"
  }
 },
 "nbformat": 4,
 "nbformat_minor": 5
}
