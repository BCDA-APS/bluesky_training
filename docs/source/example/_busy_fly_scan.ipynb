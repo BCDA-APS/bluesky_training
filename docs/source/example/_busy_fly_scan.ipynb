{
 "cells": [
  {
   "cell_type": "markdown",
   "metadata": {},
   "source": [
    "# Bluesky Device for APS taxi & fly scans\n",
    "\n",
    "Some EPICS fly scans at APS are triggered by a pair of EPICS\n",
    "[*busy*](https://epics-modules.github.io/busy/) records.  The first *busy*\n",
    "record is called `taxi` and is responsible for preparing the hardware to fly.\n",
    "Once *taxi* is complete, the second *busy* record called `fly` performs the actual fly scan.\n",
    "In a third (optional) phase, data is collected from hardware and written to a\n",
    "file.\n",
    "\n",
    "Compare the taxi & fly scan algorithm to an airplane flight:\n",
    "\n",
    "phase | airplane flight | taxi & fly scan\n",
    "--- | --- | ---\n",
    "preparation | ticketing & boarding | configuration of software\n",
    "taxi | move the aircraft to the start of the runway | move the hardware to pre-scan positions\n",
    "fly | start moving, liftoff at flight velocity | start moving, begin collecting data at first position"
   ]
  },
  {
   "cell_type": "markdown",
   "metadata": {},
   "source": [
    "## Bluesky (Python)setup\n",
    "\n",
    "Here are the packages to import.  The first block contains Python standard\n",
    "packages, then come the various bluesky packages.  Just the parts we plan on\n",
    "using here.\n",
    "\n",
    "* Create a logger instance in case we want to investigate internal details as our code runs.\n",
    "* Create an instance of the bluesky `RunEngine`.\n",
    "* Create a temporary databroker catalog to save collected data.\n",
    "* Subscribe the catalog to receive all data published by the RunEngine."
   ]
  },
  {
   "cell_type": "code",
   "execution_count": 1,
   "metadata": {},
   "outputs": [
    {
     "data": {
      "text/plain": [
       "0"
      ]
     },
     "execution_count": 1,
     "metadata": {},
     "output_type": "execute_result"
    }
   ],
   "source": [
    "import logging\n",
    "\n",
    "from apstools.synApps import SseqRecord\n",
    "from apstools.plans import run_blocking_function\n",
    "import bluesky\n",
    "import bluesky.plan_stubs as bps\n",
    "import databroker\n",
    "from ophyd import Component, Device, EpicsSignal\n",
    "\n",
    "logger = logging.getLogger()\n",
    "logging.basicConfig(\n",
    "    level=logging.INFO,  # more details than default (WARNING) level\n",
    "    format=\"%(asctime)s %(levelname)s %(name)s - %(message)s\"\n",
    ")\n",
    "\n",
    "RE = bluesky.RunEngine()\n",
    "cat = databroker.temp().v2\n",
    "RE.subscribe(cat.v1.insert)\n",
    "# RE.msg_hook = bluesky.utils.ts_msg_hook  # deeper logging details"
   ]
  },
  {
   "cell_type": "markdown",
   "metadata": {},
   "source": [
    "## EPICS IOC\n",
    "\n",
    "We'll start with an EPICS IOC that provides two instances of the\n",
    "[*busy*](https://epics-modules.github.io/busy/) record and two instances of the\n",
    "[*sseq*](https://htmlpreview.github.io/?https://raw.githubusercontent.com/epics-modules/calc/R3-6-1/documentation/sseqRecord.html)\n",
    "record.\n",
    "\n",
    "In the `gp:` IOC, we can use these general purpose PVs for this example:\n",
    "\n",
    "PV | record | purpose\n",
    "--- | --- | ---\n",
    "`gp:mybusy1` | *busy* | taxi (preparation) phase\n",
    "`gp:mybusy2` | *fly* | fly (fly scan) phase\n",
    "`gp:userStringSeq1` | *sseq* | actions for the taxi phase\n",
    "`gp:userStringSeq2` | *sseq* | actions for the fly phase"
   ]
  },
  {
   "cell_type": "markdown",
   "metadata": {},
   "source": [
    "The EPICS _busy_ record is used to start a phase (taxi or fly) and report when that\n",
    "phase is finished. The EPICS _sseq_ record describes and manages the work to be done\n",
    "in that phase. In this example, the work is simple (wait for some seconds). In\n",
    "other situations, the work could involve a complex setup of software to collect data\n",
    "or a complete\n",
    "[_sscan_](https://epics.anl.gov/bcda/synApps/sscan/sscanRecord.html) process.\n",
    "\n",
    "We need to configure these records for our use. We'll use the ophyd support for\n",
    "[sseq](https://bcda-aps.github.io/apstools/latest/api/synApps/_sseq.html)\n",
    "records from [apstools](https://bcda-aps.github.io/apstools). For the _busy_\n",
    "records, we choose a simpler connections than the\n",
    "[busy](https://bcda-aps.github.io/apstools/latest/api/synApps/_busy.html)\n",
    "support from apstools. Instead, we'll connect with the `.OUT` and `.VAL` fields\n",
    "using `EpicsSignal` (from ophyd). This allows us to add the `put_complete=True`\n",
    "keyword argument that we need for the `.VAL` field's connection. The\n",
    "`put_complete` keyword provides prompt notification when the asynchronous _busy_\n",
    "record is finished.\n",
    "\n",
    "We'll connect ophyd structures with these PVs and make bluesky plans here to\n",
    "setup the PVs for this demo and to run the taxi+fly scan.\n",
    "\n",
    "**NOTE**: This example does not collect any data. It only shows how the taxi &\n",
    "fly scan is operated from bluesky."
   ]
  },
  {
   "cell_type": "markdown",
   "metadata": {},
   "source": [
    "### EPICS: How do the *busy* and *sseq* records interact in this demo?\n",
    "\n",
    "Summary: The *busy* record tells the *sseq* record to do all its processing\n",
    "steps.  The *sseq* record waits its assigned time, then turns the *busy* record\n",
    "off.\n",
    "\n",
    "Details:\n",
    "The user changes the *busy* record's `.VAL` field from 0 to 1.  This causes the\n",
    "*busy* record to send a 1 to the PV named in its `.OUT` field.  That field\n",
    "contains the *sseq* record's `.PROC` field.  Thus, it causes the *sseq* record\n",
    "to begin its processing steps.\n",
    "\n",
    "There are two steps for the *sseq* record:\n",
    "\n",
    "1. Wait for the assigned time.\n",
    "2. Tell the *busy* record it is done.\n",
    "\n",
    "One additional action was needed, to remove the PV name from the *busy* record's\n",
    "`.OUT` field.  Without this additional action, the *sseq* record will be\n",
    "processed by every change to the *busy* record value.\n",
    "\n",
    "All of this configuration is programmed in the `setup_plan()` in the\n",
    "`TaxiFlyScanDevice` class below.\n",
    "\n",
    "### Call a blocking function from a bluesky plan\n",
    "\n",
    "The `SseqRecord()` support in apstools has a `reset()` method to clear any\n",
    "previous settings of the EPICS PVs and ophyd object and return them to default\n",
    "settings.  This method is written as ophyd code, intended to be called from a\n",
    "command-line session.  The commands it contains that may take some time to\n",
    "complete and possibly block the normal execution of the RunEngine's callback\n",
    "thread. The\n",
    "[run_blocking_function()](https://bcda-aps.github.io/apstools/latest/api/_plans.html#module-apstools.plans.run_blocking_function_plan)\n",
    "plan from *apstools* allows us to run `reset()` in a thread so that it does not\n",
    "block the `RunEngine`.\n"
   ]
  },
  {
   "cell_type": "markdown",
   "metadata": {},
   "source": [
    "## Define the TaxiFlyScanDevice\n",
    "\n",
    "All of the taxi and fly components are configuration details and should not be included with any data to be recorded.  They are all marked with the `kind=\"config\"` keyword."
   ]
  },
  {
   "cell_type": "code",
   "execution_count": 2,
   "metadata": {},
   "outputs": [],
   "source": [
    "class TaxiFlyScanDevice(Device):\n",
    "    taxi = Component(EpicsSignal, \"mybusy1\", put_complete=True, kind=\"config\")\n",
    "    taxi_out = Component(EpicsSignal, \"mybusy1.OUT\", kind=\"config\")\n",
    "    taxi_sseq = Component(SseqRecord, \"userStringSeq1\", kind=\"config\")\n",
    "\n",
    "    fly = Component(EpicsSignal, \"mybusy2\", put_complete=True, kind=\"config\")\n",
    "    fly_out = Component(EpicsSignal, \"mybusy2.OUT\", kind=\"config\")\n",
    "    fly_sseq = Component(SseqRecord, \"userStringSeq2\", kind=\"config\")\n",
    "\n",
    "    def setup_plan(self, t_taxi, t_fly):\n",
    "        logger.info(\"taxi time: %.2f s\", t_taxi)\n",
    "        logger.info(\"fly time: %.2f s\", t_fly)\n",
    "        yield from bps.mv(\n",
    "            self.taxi, 0,\n",
    "            self.fly, 0,\n",
    "        )\n",
    "        yield from bps.mv(\n",
    "            self.taxi_out, f\"{self.taxi_sseq.prefix}.PROC CA NMS\",\n",
    "            self.fly_out, f\"{self.fly_sseq.prefix}.PROC CA NMS\",\n",
    "        )\n",
    "\n",
    "        # Clear any previous setup of the sseq records.\n",
    "        # The reset function is not a plan.\n",
    "        yield from run_blocking_function(self.taxi_sseq.reset)\n",
    "        yield from run_blocking_function(self.fly_sseq.reset)\n",
    "\n",
    "        yield from bps.mv(\n",
    "            # Set the delay time.\n",
    "            self.taxi_sseq.steps.step1.delay, t_taxi,\n",
    "            # Remove the .PROC poke so the sseq will not be triggered again.\n",
    "            self.taxi_sseq.steps.step1.string_value, \"\",\n",
    "            self.taxi_sseq.steps.step1.output_pv, f\"{self.taxi_out.pvname} CA NMS\",\n",
    "            # Mark the busy record as Done.\n",
    "            self.taxi_sseq.steps.step2.string_value, self.taxi.enum_strs[0],\n",
    "            self.taxi_sseq.steps.step2.output_pv, f\"{self.taxi.pvname} CA NMS\",\n",
    "\n",
    "            # Similar setup for the fly.\n",
    "            self.fly_sseq.steps.step1.delay, t_fly,\n",
    "            self.fly_sseq.steps.step1.string_value, \"\",\n",
    "            self.fly_sseq.steps.step1.output_pv, f\"{self.fly_out.pvname} CA NMS\",\n",
    "            self.fly_sseq.steps.step2.string_value, self.fly.enum_strs[0],\n",
    "            self.fly_sseq.steps.step2.output_pv, f\"{self.fly.pvname} CA NMS\",\n",
    "        )\n",
    "\n",
    "    def taxi_fly_plan(self, time_taxi=5, time_fly=5):\n",
    "        logger.info(\"before setup_plan\")\n",
    "        yield from self.setup_plan(time_taxi, time_fly)\n",
    "\n",
    "        logger.info(\"before taxi\")\n",
    "        yield from bluesky.plan_stubs.mv(self.taxi, self.taxi.enum_strs[1])\n",
    "        logger.info(\"after taxi\")\n",
    "\n",
    "        logger.info(\"before fly\")\n",
    "        yield from bluesky.plan_stubs.mv(self.fly, self.fly.enum_strs[1])\n",
    "        logger.info(\"after fly\")"
   ]
  },
  {
   "cell_type": "markdown",
   "metadata": {},
   "source": [
    "Most of these lines are familiar ophyd or bluesky code.  Two lines might require more explanation:\n",
    "\n",
    "```py\n",
    "        # Clear any previous setup of the sseq records.\n",
    "        # The reset function is not a plan.\n",
    "        yield from run_blocking_function(self.taxi_sseq.reset)\n",
    "        yield from run_blocking_function(self.fly_sseq.reset)\n",
    "```\n",
    "\n",
    "The `reset()` method from the `apstools.synApps.SseqRecord` is written as ophyd code.  This means that it calls EPICS directly.  Such code, when used in bluesky plans, will block the execution of bluesky's `RunEngine` while the main Python thread waits for the actions to complete.  Instead, bluesky plans should execute such actions in a background thread and surrender the waiting time to be managed by the `RunEngine`.\n",
    "\n",
    "A *blocking function* (such as `SseqRecord`'s `reset()` method) can be used in a bluesky plan using the `run_blocking_function()` plan from `apstools.plans`."
   ]
  },
  {
   "cell_type": "markdown",
   "metadata": {},
   "source": [
    "## Create a Python object.\n",
    "\n",
    "Here, the PVs are from the `gp:` IOC."
   ]
  },
  {
   "cell_type": "code",
   "execution_count": 3,
   "metadata": {
    "collapsed": true
   },
   "outputs": [],
   "source": [
    "ifly = TaxiFlyScanDevice(\"gp:\", name=\"ifly\")\n",
    "ifly.wait_for_connection()"
   ]
  },
  {
   "cell_type": "markdown",
   "metadata": {},
   "source": [
    "## Run the complete plan\n",
    "\n",
    "Run the `taxi_fly_plan()` with the bluesky RunEngine. There is no data to be\n",
    "collected in this example, only logging entries.  Wait 2 seconds in the taxi\n",
    "phase, then 3 seconds in the fly phase.\n",
    "\n",
    "The call to `RE()` will return the list of _any_ run identifiers (`uid`s) that were created.  Grab that list."
   ]
  },
  {
   "cell_type": "code",
   "execution_count": 4,
   "metadata": {},
   "outputs": [
    {
     "name": "stderr",
     "output_type": "stream",
     "text": [
      "2023-12-24 10:52:46,938 INFO bluesky - Executing plan <generator object TaxiFlyScanDevice.taxi_fly_plan at 0x7f10389ea7a0>\n",
      "2023-12-24 10:52:47,055 INFO bluesky.RE.state - Change state on <bluesky.run_engine.RunEngine object at 0x7f0f88009850> from 'idle' -> 'running'\n",
      "2023-12-24 10:52:47,056 INFO root - before setup_plan\n",
      "2023-12-24 10:52:47,057 INFO root - taxi time: 2.00 s\n",
      "2023-12-24 10:52:47,058 INFO root - fly time: 3.00 s\n",
      "2023-12-24 10:52:47,125 INFO root - before taxi\n",
      "2023-12-24 10:52:49,122 INFO root - after taxi\n",
      "2023-12-24 10:52:49,124 INFO root - before fly\n",
      "2023-12-24 10:52:52,122 INFO root - after fly\n",
      "2023-12-24 10:52:52,123 INFO bluesky.RE.state - Change state on <bluesky.run_engine.RunEngine object at 0x7f0f88009850> from 'running' -> 'idle'\n",
      "2023-12-24 10:52:52,124 INFO bluesky - Cleaned up from plan <generator object TaxiFlyScanDevice.taxi_fly_plan at 0x7f10389ea7a0>\n"
     ]
    }
   ],
   "source": [
    "uids = RE(ifly.taxi_fly_plan(2, 3))"
   ]
  },
  {
   "cell_type": "markdown",
   "metadata": {},
   "source": [
    "There is no data to be collected.  Just print the list of `uid`s.  It should be empty in this instance."
   ]
  },
  {
   "cell_type": "code",
   "execution_count": 5,
   "metadata": {},
   "outputs": [
    {
     "name": "stdout",
     "output_type": "stream",
     "text": [
      "uids=()\n"
     ]
    }
   ],
   "source": [
    "print(f\"{uids=}\")"
   ]
  },
  {
   "cell_type": "markdown",
   "metadata": {},
   "source": [
    "## Fly scan with data\n",
    "\n",
    "The previous example demonstrated the steps to use the APS Taxi & Fly support for a bluesky *fly* scan.  Now, let us add data collection to the example.\n",
    "\n",
    "### Simulated temperature controller\n",
    "\n",
    "We can simulate a [temperature controller](https://bcda-aps.github.io/bluesky_training/instrument/describe_instrument.html#temperature) with EPICS and Bluesky.  In EPICS, we simulate the controller using a [`swait`](https://bcda-aps.github.io/apstools/1.6.17/api/synApps/_swait.html) record.  Connect with `gp:userCalc18` from our example IOC."
   ]
  },
  {
   "cell_type": "code",
   "execution_count": 45,
   "metadata": {},
   "outputs": [
    {
     "name": "stdout",
     "output_type": "stream",
     "text": [
      "controller.read()=OrderedDict([('simulator_calculated_value', {'value': 0.0, 'timestamp': 1703440261.074518})])\n",
      "controller.read_configuration()=OrderedDict([('simulator_description', {'value': 'temperature', 'timestamp': 1703440261.07594}), ('simulator_scanning_rate', {'value': 10, 'timestamp': 1703440261.07594}), ('simulator_disable_value', {'value': 0, 'timestamp': 631152000.0}), ('simulator_scan_disable_input_link_value', {'value': 0, 'timestamp': 631152000.0}), ('simulator_scan_disable_value_input_link', {'value': 'gp:userCalcEnable.VAL CA MS', 'timestamp': 1703440261.07594}), ('simulator_forward_link', {'value': '0', 'timestamp': 1703440261.07594}), ('simulator_device_type', {'value': 0, 'timestamp': 631152000.0}), ('simulator_alarm_status', {'value': 1, 'timestamp': 1703440261.074518}), ('simulator_alarm_severity', {'value': 3, 'timestamp': 1703440261.074518}), ('simulator_new_alarm_status', {'value': 0, 'timestamp': 631152000.0}), ('simulator_new_alarm_severity', {'value': 0, 'timestamp': 631152000.0}), ('simulator_disable_alarm_severity', {'value': 0, 'timestamp': 631152000.0}), ('simulator_precision', {'value': 5, 'timestamp': 1703440242.624966}), ('simulator_high_operating_range', {'value': 0.0, 'timestamp': 631152000.0}), ('simulator_low_operating_range', {'value': 0.0, 'timestamp': 631152000.0}), ('simulator_calculation', {'value': 'A+max(-D,min(D,(B-A)))+C*(RNDM-0.5)', 'timestamp': 1703440261.07594}), ('simulator_output_link_pv', {'value': '', 'timestamp': 1703440261.07594}), ('simulator_output_location_name', {'value': '', 'timestamp': 1703440261.07594}), ('simulator_output_location_data', {'value': 0.0, 'timestamp': 1703440242.624966}), ('simulator_output_data_option', {'value': 0, 'timestamp': 1703440242.624966}), ('simulator_output_execute_option', {'value': 0, 'timestamp': 1703440242.624966}), ('simulator_output_execution_delay', {'value': 0.0, 'timestamp': 1703440242.624966}), ('simulator_event_to_issue', {'value': 0, 'timestamp': 631152000.0}), ('simulator_channels_A_input_value', {'value': 27.92696973567843, 'timestamp': 1703440261.074518}), ('simulator_channels_A_input_pv', {'value': 'gp:userCalc18.VAL', 'timestamp': 1703440261.07594}), ('simulator_channels_A_input_trigger', {'value': 1, 'timestamp': 1703440261.063841}), ('simulator_channels_B_input_value', {'value': 27.92696973567843, 'timestamp': 1703440261.074772}), ('simulator_channels_B_input_pv', {'value': '', 'timestamp': 1703440261.07594}), ('simulator_channels_B_input_trigger', {'value': 1, 'timestamp': 1703440261.064978}), ('simulator_channels_C_input_value', {'value': 2.0, 'timestamp': 1703440261.075504}), ('simulator_channels_C_input_pv', {'value': '', 'timestamp': 1703440261.07594}), ('simulator_channels_C_input_trigger', {'value': 1, 'timestamp': 1703440261.066144}), ('simulator_channels_D_input_value', {'value': 2.0, 'timestamp': 1703440261.07594}), ('simulator_channels_D_input_pv', {'value': '', 'timestamp': 1703440261.07594}), ('simulator_channels_D_input_trigger', {'value': 1, 'timestamp': 1703440261.067105}), ('simulator_channels_E_input_value', {'value': 0.0, 'timestamp': 1703440261.067105}), ('simulator_channels_E_input_pv', {'value': '', 'timestamp': 1703440261.07594}), ('simulator_channels_E_input_trigger', {'value': 1, 'timestamp': 1703440261.067942}), ('simulator_channels_F_input_value', {'value': 0.0, 'timestamp': 1703440261.067942}), ('simulator_channels_F_input_pv', {'value': '', 'timestamp': 1703440261.07594}), ('simulator_channels_F_input_trigger', {'value': 1, 'timestamp': 1703440261.06891}), ('simulator_channels_G_input_value', {'value': 0.0, 'timestamp': 1703440261.06891}), ('simulator_channels_G_input_pv', {'value': '', 'timestamp': 1703440261.07594}), ('simulator_channels_G_input_trigger', {'value': 1, 'timestamp': 1703440261.06958}), ('simulator_channels_H_input_value', {'value': 0.0, 'timestamp': 1703440261.06958}), ('simulator_channels_H_input_pv', {'value': '', 'timestamp': 1703440261.07594}), ('simulator_channels_H_input_trigger', {'value': 1, 'timestamp': 1703440261.070453}), ('simulator_channels_I_input_value', {'value': 0.0, 'timestamp': 1703440261.070453}), ('simulator_channels_I_input_pv', {'value': '', 'timestamp': 1703440261.07594}), ('simulator_channels_I_input_trigger', {'value': 1, 'timestamp': 1703440261.071259}), ('simulator_channels_J_input_value', {'value': 0.0, 'timestamp': 1703440261.071259}), ('simulator_channels_J_input_pv', {'value': '', 'timestamp': 1703440261.07594}), ('simulator_channels_J_input_trigger', {'value': 1, 'timestamp': 1703440261.07216}), ('simulator_channels_K_input_value', {'value': 0.0, 'timestamp': 1703440261.07216}), ('simulator_channels_K_input_pv', {'value': '', 'timestamp': 1703440261.07594}), ('simulator_channels_K_input_trigger', {'value': 1, 'timestamp': 1703440261.072859}), ('simulator_channels_L_input_value', {'value': 0.0, 'timestamp': 1703440261.072859}), ('simulator_channels_L_input_pv', {'value': '', 'timestamp': 1703440261.07594}), ('simulator_channels_L_input_trigger', {'value': 1, 'timestamp': 1703440261.073551})])\n"
     ]
    }
   ],
   "source": [
    "from apstools.synApps import SwaitRecord\n",
    "\n",
    "controller = SwaitRecord(\"gp:userCalc18\", name=\"simulator\")\n",
    "controller.wait_for_connection()\n",
    "print(f\"{controller.read()=}\\n{controller.read_configuration()=}\")"
   ]
  },
  {
   "cell_type": "markdown",
   "metadata": {},
   "source": [
    "Create a function to configure the swait record as a simulated temperature controller.  The \"controller\" will update the current computed value (`.VAL`) at `rate` based on the setpoint (`.B`).  It will compute step size based on the difference between the previous value (`.A`) and the setpoint, taking steps no larger than `.D`.  A noise factor (`.C`) is applied to each new computation."
   ]
  },
  {
   "cell_type": "code",
   "execution_count": 52,
   "metadata": {},
   "outputs": [],
   "source": [
    "def setup_temperature(swait, setpoint=None, noise=2, rate=\".5 second\", max_change=2):\n",
    "    swait.reset()  # remove any prior configuration\n",
    "    swait.description.put(\"temperature\")\n",
    "    swait.channels.A.input_pv.put(swait.calculated_value.pvname)\n",
    "    if setpoint is not None:\n",
    "        swait.channels.A.input_value.put(setpoint)  # readback\n",
    "        swait.channels.B.input_value.put(setpoint)  # setpoint\n",
    "    swait.channels.C.input_value.put(noise)  # noise\n",
    "    swait.channels.D.input_value.put(max_change)  # max_change\n",
    "    swait.scanning_rate.put(rate)  # 1 second\n",
    "    swait.calculation.put(\"A+max(-D,min(D,(B-A)))+C*(RNDM-0.5)\")"
   ]
  },
  {
   "cell_type": "markdown",
   "metadata": {},
   "source": [
    "Setup our controller with a (randomly-selected) setpoint and scan rate.  Watch it start for a short time."
   ]
  },
  {
   "cell_type": "code",
   "execution_count": 60,
   "metadata": {},
   "outputs": [
    {
     "name": "stdout",
     "output_type": "stream",
     "text": [
      "1.00s: readback=2.50 setpoint=38.38\n",
      "2.00s: readback=4.02 setpoint=38.38\n",
      "3.01s: readback=5.92 setpoint=38.38\n",
      "4.01s: readback=7.42 setpoint=38.38\n",
      "5.01s: readback=8.67 setpoint=38.38\n",
      "6.02s: readback=9.86 setpoint=38.38\n",
      "7.03s: readback=12.02 setpoint=38.38\n",
      "8.03s: readback=14.33 setpoint=38.38\n",
      "9.03s: readback=16.01 setpoint=38.38\n",
      "10.03s: readback=19.01 setpoint=38.38\n"
     ]
    }
   ],
   "source": [
    "import random\n",
    "import time\n",
    "\n",
    "setup_temperature(controller, 10 + 30 * random.random(), rate=\"1 second\")\n",
    "\n",
    "t0 = time.time()\n",
    "for i in range(10):\n",
    "    time.sleep(1)\n",
    "    print(\n",
    "        f\"{time.time() - t0:.2f}s:\"\n",
    "        f\" readback={controller.calculated_value.get():.2f}\"\n",
    "        f\" setpoint={controller.channels.B.input_value.get():.2f}\"\n",
    "    )"
   ]
  },
  {
   "cell_type": "markdown",
   "metadata": {},
   "source": [
    "### temperature as a positioner"
   ]
  },
  {
   "cell_type": "code",
   "execution_count": 61,
   "metadata": {},
   "outputs": [
    {
     "name": "stdout",
     "output_type": "stream",
     "text": [
      "temperature.position=38.75128781233958\n"
     ]
    }
   ],
   "source": [
    "from apstools.devices import PVPositionerSoftDoneWithStop\n",
    "\n",
    "temperature = PVPositionerSoftDoneWithStop(\n",
    "    \"\",\n",
    "    name=\"temperature\",\n",
    "    readback_pv=controller.calculated_value.pvname,\n",
    "    setpoint_pv=controller.channels.B.input_value.pvname,\n",
    "    tolerance=1,\n",
    ")\n",
    "temperature.wait_for_connection()\n",
    "print(f\"{temperature.position=}\")"
   ]
  },
  {
   "cell_type": "code",
   "execution_count": 62,
   "metadata": {},
   "outputs": [
    {
     "name": "stdout",
     "output_type": "stream",
     "text": [
      "1.00s: readback=36.91 setpoint=33.52\n",
      "2.00s: readback=35.74 setpoint=33.52\n",
      "3.01s: readback=33.06 setpoint=33.52\n"
     ]
    }
   ],
   "source": [
    "temperature.setpoint.put(temperature.position - 5)\n",
    "\n",
    "t0 = time.time()\n",
    "while not temperature.inposition:\n",
    "    time.sleep(1)\n",
    "    print(\n",
    "        f\"{time.time() - t0:.2f}s:\"\n",
    "        f\" readback={temperature.position:.2f}\"\n",
    "        f\" setpoint={temperature.setpoint.get():.2f}\"\n",
    "    )"
   ]
  },
  {
   "cell_type": "code",
   "execution_count": 63,
   "metadata": {},
   "outputs": [
    {
     "data": {
      "text/plain": [
       "MoveStatus(done=True, pos=temperature, elapsed=1.7, success=True, settle_time=0.0)"
      ]
     },
     "execution_count": 63,
     "metadata": {},
     "output_type": "execute_result"
    }
   ],
   "source": [
    "temperature.move(temperature.position + 3)"
   ]
  },
  {
   "cell_type": "code",
   "execution_count": 64,
   "metadata": {},
   "outputs": [
    {
     "data": {
      "text/plain": [
       "MoveStatus(done=True, pos=temperature, elapsed=4.6, success=True, settle_time=0.0)"
      ]
     },
     "execution_count": 64,
     "metadata": {},
     "output_type": "execute_result"
    }
   ],
   "source": [
    "temperature.move(25)"
   ]
  },
  {
   "cell_type": "markdown",
   "metadata": {},
   "source": [
    "### Configure taxi/fly to scan temperature\n",
    "\n",
    "TODO"
   ]
  }
 ],
 "metadata": {
  "kernelspec": {
   "display_name": "Python 3",
   "language": "python",
   "name": "python3"
  },
  "language_info": {
   "codemirror_mode": {
    "name": "ipython",
    "version": 3
   },
   "file_extension": ".py",
   "mimetype": "text/x-python",
   "name": "python",
   "nbconvert_exporter": "python",
   "pygments_lexer": "ipython3",
   "version": "3.11.6"
  }
 },
 "nbformat": 4,
 "nbformat_minor": 2
}
