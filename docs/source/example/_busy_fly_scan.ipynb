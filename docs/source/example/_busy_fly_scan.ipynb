{
 "cells": [
  {
   "cell_type": "markdown",
   "metadata": {},
   "source": [
    "# Bluesky Device for APS taxi & fly scans\n",
    "\n",
    "Some EPICS fly scans at APS are triggered by a pair of EPICS\n",
    "[*busy*](https://epics-modules.github.io/busy/) records.  The first *busy*\n",
    "record is called `taxi` and is responsible for preparing the hardware to fly.\n",
    "Once *taxi* is complete, the second *busy* record called `fly` performs the actual fly scan.\n",
    "In a third (optional) phase, data is collected from hardware and written to a\n",
    "file.\n",
    "\n",
    "Compare the taxi & fly scan algorithm to an airplane flight:\n",
    "\n",
    "phase | airplane flight | taxi & fly scan\n",
    "--- | --- | ---\n",
    "preparation | ticketing & boarding | configuration of software\n",
    "taxi | move the aircraft to the start of the runway | move the hardware to pre-scan positions\n",
    "fly | start moving, liftoff at flight velocity | start moving, begin collecting data at first position"
   ]
  },
  {
   "cell_type": "markdown",
   "metadata": {},
   "source": [
    "## Bluesky (Python)setup\n",
    "\n",
    "Here are the packages to import.  The first block contains Python standard\n",
    "packages, then come the various bluesky packages.  Just the parts we plan on\n",
    "using here.\n",
    "\n",
    "* Create a logger instance in case we want to investigate internal details as our code runs.\n",
    "* Create an instance of the bluesky `RunEngine`.\n",
    "* Create a temporary databroker catalog to save collected data.\n",
    "* Subscribe the catalog to receive all data published by the RunEngine."
   ]
  },
  {
   "cell_type": "code",
   "execution_count": 1,
   "metadata": {},
   "outputs": [
    {
     "data": {
      "text/plain": [
       "0"
      ]
     },
     "execution_count": 1,
     "metadata": {},
     "output_type": "execute_result"
    }
   ],
   "source": [
    "import logging\n",
    "\n",
    "from apstools.synApps import SseqRecord\n",
    "from apstools.plans import run_blocking_function\n",
    "import bluesky\n",
    "import bluesky.plan_stubs as bps\n",
    "import databroker\n",
    "from ophyd import Component, Device, EpicsSignal\n",
    "\n",
    "logger = logging.getLogger()\n",
    "logging.basicConfig(\n",
    "    level=logging.INFO,  # more details than default (WARNING) level\n",
    "    format=\"%(asctime)s %(levelname)s %(name)s - %(message)s\"\n",
    ")\n",
    "\n",
    "RE = bluesky.RunEngine()\n",
    "cat = databroker.temp().v2\n",
    "RE.subscribe(cat.v1.insert)\n",
    "# RE.msg_hook = bluesky.utils.ts_msg_hook  # deeper logging details"
   ]
  },
  {
   "cell_type": "markdown",
   "metadata": {},
   "source": [
    "## EPICS IOC\n",
    "\n",
    "We'll start with an EPICS IOC that provides two instances of the\n",
    "[*busy*](https://epics-modules.github.io/busy/) record and two instances of the\n",
    "[*sseq*](https://htmlpreview.github.io/?https://raw.githubusercontent.com/epics-modules/calc/R3-6-1/documentation/sseqRecord.html)\n",
    "record.\n",
    "\n",
    "In the `gp:` IOC, we can use these general purpose PVs for this example:\n",
    "\n",
    "PV | record | purpose\n",
    "--- | --- | ---\n",
    "`gp:mybusy1` | *busy* | taxi (preparation) phase\n",
    "`gp:mybusy2` | *fly* | fly (fly scan) phase\n",
    "`gp:userStringSeq1` | *sseq* | actions for the taxi phase\n",
    "`gp:userStringSeq2` | *sseq* | actions for the fly phase"
   ]
  },
  {
   "cell_type": "markdown",
   "metadata": {},
   "source": [
    "The EPICS _busy_ record is used to start a phase (taxi or fly) and report when that\n",
    "phase is finished. The EPICS _sseq_ record describes and manages the work to be done\n",
    "in that phase. In this example, the work is simple (wait for some seconds). In\n",
    "other situations, the work could involve a complex setup of software to collect data\n",
    "or a complete\n",
    "[_sscan_](https://epics.anl.gov/bcda/synApps/sscan/sscanRecord.html) process.\n",
    "\n",
    "We need to configure these records for our use. We'll use the ophyd support for\n",
    "[sseq](https://bcda-aps.github.io/apstools/latest/api/synApps/_sseq.html)\n",
    "records from [apstools](https://bcda-aps.github.io/apstools). For the _busy_\n",
    "records, we choose a simpler connections than the\n",
    "[busy](https://bcda-aps.github.io/apstools/latest/api/synApps/_busy.html)\n",
    "support from apstools. Instead, we'll connect with the `.OUT` and `.VAL` fields\n",
    "using `EpicsSignal` (from ophyd). This allows us to add the `put_complete=True`\n",
    "keyword argument that we need for the `.VAL` field's connection. The\n",
    "`put_complete` keyword provides prompt notification when the asynchronous _busy_\n",
    "record is finished.\n",
    "\n",
    "We'll connect ophyd structures with these PVs and make bluesky plans here to\n",
    "setup the PVs for this demo and to run the taxi+fly scan.\n",
    "\n",
    "**NOTE**: This example does not collect any data. It only shows how the taxi &\n",
    "fly scan is operated from bluesky."
   ]
  },
  {
   "cell_type": "markdown",
   "metadata": {},
   "source": [
    "### EPICS: How do the *busy* and *sseq* records interact in this demo?\n",
    "\n",
    "Summary: The *busy* record tells the *sseq* record to do all its processing\n",
    "steps.  The *sseq* record waits its assigned time, then turns the *busy* record\n",
    "off.\n",
    "\n",
    "Details:\n",
    "The user changes the *busy* record's `.VAL` field from 0 to 1.  This causes the\n",
    "*busy* record to send a 1 to the PV named in its `.OUT` field.  That field\n",
    "contains the *sseq* record's `.PROC` field.  Thus, it causes the *sseq* record\n",
    "to begin its processing steps.\n",
    "\n",
    "There are two steps for the *sseq* record:\n",
    "\n",
    "1. Wait for the assigned time.\n",
    "2. Tell the *busy* record it is done.\n",
    "\n",
    "One additional action was needed, to remove the PV name from the *busy* record's\n",
    "`.OUT` field.  Without this additional action, the *sseq* record will be\n",
    "processed by every change to the *busy* record value.\n",
    "\n",
    "All of this configuration is programmed in the `setup_plan()` in the\n",
    "`TaxiFlyScanDevice` class below.\n",
    "\n",
    "### Call a blocking function from a bluesky plan\n",
    "\n",
    "The `SseqRecord()` support in apstools has a `reset()` method to clear any\n",
    "previous settings of the EPICS PVs and ophyd object and return them to default\n",
    "settings.  This method is written as ophyd code, intended to be called from a\n",
    "command-line session.  The commands it contains that may take some time to\n",
    "complete and possibly block the normal execution of the RunEngine's callback\n",
    "thread. The\n",
    "[run_blocking_function()](https://bcda-aps.github.io/apstools/latest/api/_plans.html#module-apstools.plans.run_blocking_function_plan)\n",
    "plan from *apstools* allows us to run `reset()` in a thread so that it does not\n",
    "block the `RunEngine`.\n"
   ]
  },
  {
   "cell_type": "markdown",
   "metadata": {},
   "source": [
    "## Define the TaxiFlyScanDevice\n",
    "\n",
    "All of the taxi and fly components are configuration details and should not be included with any data to be recorded.  They are all marked with the `kind=\"config\"` keyword."
   ]
  },
  {
   "cell_type": "code",
   "execution_count": 2,
   "metadata": {},
   "outputs": [],
   "source": [
    "class TaxiFlyScanDevice(Device):\n",
    "    taxi = Component(EpicsSignal, \"mybusy1\", put_complete=True, kind=\"config\")\n",
    "    taxi_out = Component(EpicsSignal, \"mybusy1.OUT\", kind=\"config\")\n",
    "    taxi_sseq = Component(SseqRecord, \"userStringSeq1\", kind=\"config\")\n",
    "\n",
    "    fly = Component(EpicsSignal, \"mybusy2\", put_complete=True, kind=\"config\")\n",
    "    fly_out = Component(EpicsSignal, \"mybusy2.OUT\", kind=\"config\")\n",
    "    fly_sseq = Component(SseqRecord, \"userStringSeq2\", kind=\"config\")\n",
    "\n",
    "    def setup_plan(self, t_taxi, t_fly):\n",
    "        logger.info(\"taxi time: %.2f s\", t_taxi)\n",
    "        logger.info(\"fly time: %.2f s\", t_fly)\n",
    "        yield from bps.mv(\n",
    "            self.taxi, 0,\n",
    "            self.fly, 0,\n",
    "        )\n",
    "        yield from bps.mv(\n",
    "            self.taxi_out, f\"{self.taxi_sseq.prefix}.PROC CA NMS\",\n",
    "            self.fly_out, f\"{self.fly_sseq.prefix}.PROC CA NMS\",\n",
    "        )\n",
    "\n",
    "        # Clear any previous setup of the sseq records.\n",
    "        # The reset function is not a plan.\n",
    "        yield from run_blocking_function(self.taxi_sseq.reset)\n",
    "        yield from run_blocking_function(self.fly_sseq.reset)\n",
    "\n",
    "        yield from bps.mv(\n",
    "            # Set the delay time.\n",
    "            self.taxi_sseq.steps.step1.delay, t_taxi,\n",
    "            # Remove the .PROC poke so the sseq will not be triggered again.\n",
    "            self.taxi_sseq.steps.step1.string_value, \"\",\n",
    "            self.taxi_sseq.steps.step1.output_pv, f\"{self.taxi_out.pvname} CA NMS\",\n",
    "            # Mark the busy record as Done.\n",
    "            self.taxi_sseq.steps.step2.string_value, self.taxi.enum_strs[0],\n",
    "            self.taxi_sseq.steps.step2.output_pv, f\"{self.taxi.pvname} CA NMS\",\n",
    "\n",
    "            # Similar setup for the fly.\n",
    "            self.fly_sseq.steps.step1.delay, t_fly,\n",
    "            self.fly_sseq.steps.step1.string_value, \"\",\n",
    "            self.fly_sseq.steps.step1.output_pv, f\"{self.fly_out.pvname} CA NMS\",\n",
    "            self.fly_sseq.steps.step2.string_value, self.fly.enum_strs[0],\n",
    "            self.fly_sseq.steps.step2.output_pv, f\"{self.fly.pvname} CA NMS\",\n",
    "        )\n",
    "\n",
    "    def taxi_fly_plan(self, time_taxi=5, time_fly=5):\n",
    "        logger.info(\"before setup_plan\")\n",
    "        yield from self.setup_plan(time_taxi, time_fly)\n",
    "\n",
    "        logger.info(\"before taxi\")\n",
    "        yield from bluesky.plan_stubs.mv(self.taxi, self.taxi.enum_strs[1])\n",
    "        logger.info(\"after taxi\")\n",
    "\n",
    "        logger.info(\"before fly\")\n",
    "        yield from bluesky.plan_stubs.mv(self.fly, self.fly.enum_strs[1])\n",
    "        logger.info(\"after fly\")"
   ]
  },
  {
   "cell_type": "markdown",
   "metadata": {},
   "source": [
    "Most of these lines are familiar ophyd or bluesky code.  Two lines might require more explanation:\n",
    "\n",
    "```py\n",
    "        # Clear any previous setup of the sseq records.\n",
    "        # The reset function is not a plan.\n",
    "        yield from run_blocking_function(self.taxi_sseq.reset)\n",
    "        yield from run_blocking_function(self.fly_sseq.reset)\n",
    "```\n",
    "\n",
    "The `reset()` method from the `apstools.synApps.SseqRecord` is written as ophyd code.  This means that it calls EPICS directly.  Such code, when used in bluesky plans, will block the execution of bluesky's `RunEngine` while the main Python thread waits for the actions to complete.  Instead, bluesky plans should execute such actions in a background thread and surrender the waiting time to be managed by the `RunEngine`.\n",
    "\n",
    "A *blocking function* (such as `SseqRecord`'s `reset()` method) can be used in a bluesky plan using the `run_blocking_function()` plan from `apstools.plans`."
   ]
  },
  {
   "cell_type": "markdown",
   "metadata": {},
   "source": [
    "## Create a Python object.\n",
    "\n",
    "Here, the PVs are from the `gp:` IOC."
   ]
  },
  {
   "cell_type": "code",
   "execution_count": 3,
   "metadata": {
    "collapsed": true
   },
   "outputs": [],
   "source": [
    "ifly = TaxiFlyScanDevice(\"gp:\", name=\"ifly\")\n",
    "ifly.wait_for_connection()"
   ]
  },
  {
   "cell_type": "markdown",
   "metadata": {},
   "source": [
    "## Run the complete plan\n",
    "\n",
    "Run the `taxi_fly_plan()` with the bluesky RunEngine. There is no data to be\n",
    "collected in this example, only logging entries.  Wait 2 seconds in the taxi\n",
    "phase, then 3 seconds in the fly phase.\n",
    "\n",
    "The call to `RE()` will return the list of _any_ run identifiers (`uid`s) that were created.  Grab that list."
   ]
  },
  {
   "cell_type": "code",
   "execution_count": 4,
   "metadata": {},
   "outputs": [
    {
     "name": "stderr",
     "output_type": "stream",
     "text": [
      "2023-12-26 17:37:12,569 INFO bluesky - Executing plan <generator object TaxiFlyScanDevice.taxi_fly_plan at 0x7f18b8d9f3d0>\n",
      "2023-12-26 17:37:12,667 INFO bluesky.RE.state - Change state on <bluesky.run_engine.RunEngine object at 0x7f18bd89ff90> from 'idle' -> 'running'\n",
      "2023-12-26 17:37:12,668 INFO root - before setup_plan\n",
      "2023-12-26 17:37:12,669 INFO root - taxi time: 2.00 s\n",
      "2023-12-26 17:37:12,669 INFO root - fly time: 3.00 s\n",
      "2023-12-26 17:37:12,717 INFO root - before taxi\n",
      "2023-12-26 17:37:15,718 WARNING ophyd - Status(obj=EpicsSignal(read_pv='gp:mybusy1', name='ifly_taxi', parent='ifly', value='Busy', timestamp=1703633832.7188015, auto_monitor=True, string=False, write_pv='gp:mybusy1', limits=False, put_complete=True), done=False, success=False) has timed out\n",
      "2023-12-26 17:37:15,723 ERROR bluesky - Run aborted\n",
      "Traceback (most recent call last):\n",
      "  File \"/home/prjemian/.conda/envs/bluesky_2024_1/lib/python3.11/site-packages/bluesky/run_engine.py\", line 1498, in _run\n",
      "    msg = self._plan_stack[-1].throw(stashed_exception or resp)\n",
      "          ^^^^^^^^^^^^^^^^^^^^^^^^^^^^^^^^^^^^^^^^^^^^^^^^^^^^^\n",
      "  File \"/tmp/ipykernel_2657276/1420535963.py\", line 50, in taxi_fly_plan\n",
      "    yield from bluesky.plan_stubs.mv(self.taxi, self.taxi.enum_strs[1])\n",
      "  File \"/home/prjemian/.conda/envs/bluesky_2024_1/lib/python3.11/site-packages/bluesky/plan_stubs.py\", line 259, in mv\n",
      "    yield Msg('wait', None, group=group)\n",
      "bluesky.utils.FailedStatus: Status(obj=EpicsSignal(read_pv='gp:mybusy1', name='ifly_taxi', parent='ifly', value='Busy', timestamp=1703633832.7188015, auto_monitor=True, string=False, write_pv='gp:mybusy1', limits=False, put_complete=True), done=True, success=False)\n",
      "2023-12-26 17:37:15,732 INFO bluesky.RE.state - Change state on <bluesky.run_engine.RunEngine object at 0x7f18bd89ff90> from 'running' -> 'idle'\n"
     ]
    },
    {
     "ename": "FailedStatus",
     "evalue": "Status(obj=EpicsSignal(read_pv='gp:mybusy1', name='ifly_taxi', parent='ifly', value='Busy', timestamp=1703633832.7188015, auto_monitor=True, string=False, write_pv='gp:mybusy1', limits=False, put_complete=True), done=True, success=False)",
     "output_type": "error",
     "traceback": [
      "\u001b[0;31m---------------------------------------------------------------------------\u001b[0m",
      "\u001b[0;31mFailedStatus\u001b[0m                              Traceback (most recent call last)",
      "Cell \u001b[0;32mIn[4], line 1\u001b[0m\n\u001b[0;32m----> 1\u001b[0m uids \u001b[38;5;241m=\u001b[39m \u001b[43mRE\u001b[49m\u001b[43m(\u001b[49m\u001b[43mifly\u001b[49m\u001b[38;5;241;43m.\u001b[39;49m\u001b[43mtaxi_fly_plan\u001b[49m\u001b[43m(\u001b[49m\u001b[38;5;241;43m2\u001b[39;49m\u001b[43m,\u001b[49m\u001b[43m \u001b[49m\u001b[38;5;241;43m3\u001b[39;49m\u001b[43m)\u001b[49m\u001b[43m)\u001b[49m\n",
      "File \u001b[0;32m~/.conda/envs/bluesky_2024_1/lib/python3.11/site-packages/bluesky/run_engine.py:893\u001b[0m, in \u001b[0;36mRunEngine.__call__\u001b[0;34m(self, *args, **metadata_kw)\u001b[0m\n\u001b[1;32m    889\u001b[0m         \u001b[38;5;28mself\u001b[39m\u001b[38;5;241m.\u001b[39m_blocking_event\u001b[38;5;241m.\u001b[39mset()\n\u001b[1;32m    891\u001b[0m     \u001b[38;5;28mself\u001b[39m\u001b[38;5;241m.\u001b[39m_task_fut\u001b[38;5;241m.\u001b[39madd_done_callback(set_blocking_event)\n\u001b[0;32m--> 893\u001b[0m plan_return \u001b[38;5;241m=\u001b[39m \u001b[38;5;28;43mself\u001b[39;49m\u001b[38;5;241;43m.\u001b[39;49m\u001b[43m_resume_task\u001b[49m\u001b[43m(\u001b[49m\u001b[43minit_func\u001b[49m\u001b[38;5;241;43m=\u001b[39;49m\u001b[43m_build_task\u001b[49m\u001b[43m)\u001b[49m\n\u001b[1;32m    895\u001b[0m \u001b[38;5;28;01mif\u001b[39;00m \u001b[38;5;28mself\u001b[39m\u001b[38;5;241m.\u001b[39m_interrupted:\n\u001b[1;32m    896\u001b[0m     \u001b[38;5;28;01mraise\u001b[39;00m RunEngineInterrupted(\u001b[38;5;28mself\u001b[39m\u001b[38;5;241m.\u001b[39mpause_msg) \u001b[38;5;28;01mfrom\u001b[39;00m \u001b[38;5;28;01mNone\u001b[39;00m\n",
      "File \u001b[0;32m~/.conda/envs/bluesky_2024_1/lib/python3.11/site-packages/bluesky/run_engine.py:1032\u001b[0m, in \u001b[0;36mRunEngine._resume_task\u001b[0;34m(self, init_func)\u001b[0m\n\u001b[1;32m   1028\u001b[0m \u001b[38;5;66;03m# if the main task exception is not None, re-raise\u001b[39;00m\n\u001b[1;32m   1029\u001b[0m \u001b[38;5;66;03m# it (unless it is a canceled error)\u001b[39;00m\n\u001b[1;32m   1030\u001b[0m \u001b[38;5;28;01mif\u001b[39;00m (exc \u001b[38;5;129;01mis\u001b[39;00m \u001b[38;5;129;01mnot\u001b[39;00m \u001b[38;5;28;01mNone\u001b[39;00m\n\u001b[1;32m   1031\u001b[0m         \u001b[38;5;129;01mand\u001b[39;00m \u001b[38;5;129;01mnot\u001b[39;00m \u001b[38;5;28misinstance\u001b[39m(exc, _RunEnginePanic)):\n\u001b[0;32m-> 1032\u001b[0m     \u001b[38;5;28;01mraise\u001b[39;00m exc\n\u001b[1;32m   1033\u001b[0m \u001b[38;5;66;03m# Only try to get a result if there wasn't an error,\u001b[39;00m\n\u001b[1;32m   1034\u001b[0m \u001b[38;5;66;03m# (other than a cancelled error)\u001b[39;00m\n\u001b[1;32m   1035\u001b[0m \u001b[38;5;28;01mif\u001b[39;00m exc \u001b[38;5;129;01mis\u001b[39;00m \u001b[38;5;28;01mNone\u001b[39;00m:\n",
      "File \u001b[0;32m~/.conda/envs/bluesky_2024_1/lib/python3.11/site-packages/bluesky/run_engine.py:1663\u001b[0m, in \u001b[0;36mRunEngine._run\u001b[0;34m(self)\u001b[0m\n\u001b[1;32m   1661\u001b[0m     exit_reason \u001b[38;5;241m=\u001b[39m \u001b[38;5;28mstr\u001b[39m(err)\n\u001b[1;32m   1662\u001b[0m     \u001b[38;5;28mself\u001b[39m\u001b[38;5;241m.\u001b[39mlog\u001b[38;5;241m.\u001b[39mexception(\u001b[38;5;124m\"\u001b[39m\u001b[38;5;124mRun aborted\u001b[39m\u001b[38;5;124m\"\u001b[39m)\n\u001b[0;32m-> 1663\u001b[0m     \u001b[38;5;28;01mraise\u001b[39;00m err\n\u001b[1;32m   1664\u001b[0m \u001b[38;5;28;01mfinally\u001b[39;00m:\n\u001b[1;32m   1665\u001b[0m     \u001b[38;5;28;01mif\u001b[39;00m \u001b[38;5;129;01mnot\u001b[39;00m exit_reason:\n",
      "File \u001b[0;32m~/.conda/envs/bluesky_2024_1/lib/python3.11/site-packages/bluesky/run_engine.py:1498\u001b[0m, in \u001b[0;36mRunEngine._run\u001b[0;34m(self)\u001b[0m\n\u001b[1;32m   1495\u001b[0m \u001b[38;5;28;01mif\u001b[39;00m (stashed_exception \u001b[38;5;129;01mis\u001b[39;00m \u001b[38;5;129;01mnot\u001b[39;00m \u001b[38;5;28;01mNone\u001b[39;00m \u001b[38;5;129;01mor\u001b[39;00m \u001b[38;5;28misinstance\u001b[39m(resp, \u001b[38;5;167;01mException\u001b[39;00m)):\n\u001b[1;32m   1496\u001b[0m     \u001b[38;5;66;03m# throw the exception at the current plan\u001b[39;00m\n\u001b[1;32m   1497\u001b[0m     \u001b[38;5;28;01mtry\u001b[39;00m:\n\u001b[0;32m-> 1498\u001b[0m         msg \u001b[38;5;241m=\u001b[39m \u001b[38;5;28mself\u001b[39m\u001b[38;5;241m.\u001b[39m_plan_stack[\u001b[38;5;241m-\u001b[39m\u001b[38;5;241m1\u001b[39m]\u001b[38;5;241m.\u001b[39mthrow(stashed_exception \u001b[38;5;129;01mor\u001b[39;00m resp)\n\u001b[1;32m   1499\u001b[0m     \u001b[38;5;28;01mexcept\u001b[39;00m \u001b[38;5;167;01mException\u001b[39;00m \u001b[38;5;28;01mas\u001b[39;00m e:\n\u001b[1;32m   1500\u001b[0m         \u001b[38;5;66;03m# The current plan did not handle it,\u001b[39;00m\n\u001b[1;32m   1501\u001b[0m         \u001b[38;5;66;03m# maybe the next plan (if any) would like\u001b[39;00m\n\u001b[1;32m   1502\u001b[0m         \u001b[38;5;66;03m# to try\u001b[39;00m\n\u001b[1;32m   1503\u001b[0m         \u001b[38;5;28mself\u001b[39m\u001b[38;5;241m.\u001b[39m_plan_stack\u001b[38;5;241m.\u001b[39mpop()\n",
      "Cell \u001b[0;32mIn[2], line 50\u001b[0m, in \u001b[0;36mTaxiFlyScanDevice.taxi_fly_plan\u001b[0;34m(self, time_taxi, time_fly)\u001b[0m\n\u001b[1;32m     47\u001b[0m \u001b[38;5;28;01myield from\u001b[39;00m \u001b[38;5;28mself\u001b[39m\u001b[38;5;241m.\u001b[39msetup_plan(time_taxi, time_fly)\n\u001b[1;32m     49\u001b[0m logger\u001b[38;5;241m.\u001b[39minfo(\u001b[38;5;124m\"\u001b[39m\u001b[38;5;124mbefore taxi\u001b[39m\u001b[38;5;124m\"\u001b[39m)\n\u001b[0;32m---> 50\u001b[0m \u001b[38;5;28;01myield from\u001b[39;00m bluesky\u001b[38;5;241m.\u001b[39mplan_stubs\u001b[38;5;241m.\u001b[39mmv(\u001b[38;5;28mself\u001b[39m\u001b[38;5;241m.\u001b[39mtaxi, \u001b[38;5;28mself\u001b[39m\u001b[38;5;241m.\u001b[39mtaxi\u001b[38;5;241m.\u001b[39menum_strs[\u001b[38;5;241m1\u001b[39m])\n\u001b[1;32m     51\u001b[0m logger\u001b[38;5;241m.\u001b[39minfo(\u001b[38;5;124m\"\u001b[39m\u001b[38;5;124mafter taxi\u001b[39m\u001b[38;5;124m\"\u001b[39m)\n\u001b[1;32m     53\u001b[0m logger\u001b[38;5;241m.\u001b[39minfo(\u001b[38;5;124m\"\u001b[39m\u001b[38;5;124mbefore fly\u001b[39m\u001b[38;5;124m\"\u001b[39m)\n",
      "File \u001b[0;32m~/.conda/envs/bluesky_2024_1/lib/python3.11/site-packages/bluesky/plan_stubs.py:259\u001b[0m, in \u001b[0;36mmv\u001b[0;34m(group, *args, **kwargs)\u001b[0m\n\u001b[1;32m    257\u001b[0m     ret \u001b[38;5;241m=\u001b[39m \u001b[38;5;28;01myield\u001b[39;00m Msg(\u001b[38;5;124m'\u001b[39m\u001b[38;5;124mset\u001b[39m\u001b[38;5;124m'\u001b[39m, obj, val, group\u001b[38;5;241m=\u001b[39mgroup, \u001b[38;5;241m*\u001b[39m\u001b[38;5;241m*\u001b[39mkwargs)\n\u001b[1;32m    258\u001b[0m     status_objects\u001b[38;5;241m.\u001b[39mappend(ret)\n\u001b[0;32m--> 259\u001b[0m \u001b[38;5;28;01myield\u001b[39;00m Msg(\u001b[38;5;124m'\u001b[39m\u001b[38;5;124mwait\u001b[39m\u001b[38;5;124m'\u001b[39m, \u001b[38;5;28;01mNone\u001b[39;00m, group\u001b[38;5;241m=\u001b[39mgroup)\n\u001b[1;32m    260\u001b[0m \u001b[38;5;28;01mreturn\u001b[39;00m \u001b[38;5;28mtuple\u001b[39m(status_objects)\n",
      "\u001b[0;31mFailedStatus\u001b[0m: Status(obj=EpicsSignal(read_pv='gp:mybusy1', name='ifly_taxi', parent='ifly', value='Busy', timestamp=1703633832.7188015, auto_monitor=True, string=False, write_pv='gp:mybusy1', limits=False, put_complete=True), done=True, success=False)"
     ]
    }
   ],
   "source": [
    "uids = RE(ifly.taxi_fly_plan(2, 3))"
   ]
  },
  {
   "cell_type": "markdown",
   "metadata": {},
   "source": [
    "There is no data to be collected.  Just print the list of `uid`s.  It should be empty in this instance."
   ]
  },
  {
   "cell_type": "code",
   "execution_count": null,
   "metadata": {},
   "outputs": [],
   "source": [
    "print(f\"{uids=}\")"
   ]
  },
  {
   "cell_type": "markdown",
   "metadata": {},
   "source": [
    "## Fly scan with data\n",
    "\n",
    "The previous example demonstrated the steps to use the APS Taxi & Fly support for a bluesky *fly* scan.  Now, let us add data collection to the example.  For this example, we'll need a signal that changes over time.  One such signal might be a temperature, as if adjusted by a temperature controller.  A temperature controller has a setpoint and readback.  We can watch the readback during the fly scan as the setpoint is varied.  Setpoint and readback are the requirements for a *positioner*.\n",
    "\n",
    "## Simulated temperature controller\n",
    "\n",
    "We can use the\n",
    "[SimulatedTemperatureControllerTransform](../howto/_temperature_controller_swait.ipynb#SimulatedTemperatureController-device) device.\n",
    "Refer to the HowTo document for more details about this device.\n",
    "\n",
    "<blockquote>\n",
    "<b>TODO</b>: Code for the `SimulatedTemperatureControllerTransform` class will be hoisted\n",
    "to <code>apstools.devices</code> (release 1.6.18).  Until then, we need some code to add its current directory so Python can import it.\n",
    "</blockquote>"
   ]
  },
  {
   "cell_type": "code",
   "execution_count": null,
   "metadata": {},
   "outputs": [],
   "source": [
    "import pathlib, sys\n",
    "\n",
    "path = pathlib.Path(\"../../..\") / \"bluesky\" / \"user\"\n",
    "sys.path.append(str(path))"
   ]
  },
  {
   "cell_type": "markdown",
   "metadata": {},
   "source": [
    "Import the `SimulatedTemperatureControllerTransform` class and create the ophyd object.\n",
    "\n",
    "There is no common EPICS PV prefix; we provide an empty prefix value: `\"\"`.  We\n",
    "must specify the PV of the EPICS `transform` record to be used.  The keyword\n",
    "argument `tolerance=1` configures any readback within `1` degree of the setpoint\n",
    "is regarded `inposition = True`.\n",
    "\n",
    "As usual, we wait for the ophyd object to connect with EPICS before calling any\n",
    "of its methods.\n",
    "\n",
    "Last, set the initial setpoint to `25` degrees and provide a label for the\n",
    "`transform` record's description field."
   ]
  },
  {
   "cell_type": "code",
   "execution_count": null,
   "metadata": {},
   "outputs": [],
   "source": [
    "from temperature_controller import SimulatedTemperatureControllerTransform\n",
    "\n",
    "temperature = SimulatedTemperatureControllerTransform(\n",
    "    \"\",\n",
    "    name=\"temperature\",\n",
    "    transform_pv=\"gp:userTran1\",\n",
    "    tolerance=1,\n",
    ")\n",
    "temperature.wait_for_connection()\n",
    "temperature.setup(25, label=\"temperature controller\")"
   ]
  },
  {
   "cell_type": "markdown",
   "metadata": {},
   "source": [
    "## Configure taxi/fly to scan temperature\n",
    "\n",
    "Review the [TaxiFlyScanDevice](#Define-the-TaxiFlyScanDevice).\n",
    "We must add the new `temperature` to our model, calling any necessary\n",
    "preparation in the `setup_plan()` method and data collection to the `taxi_fly_plan()` method.\n",
    "\n",
    "TODO\n",
    "\n",
    "- prepare\n",
    "  - setup the controller\n",
    "- taxi\n",
    "  - move temperature to starting value\n",
    "- fly\n",
    "  - change the temperature setpoint\n",
    "  - monitor & collect the temperature readback until inposition\n",
    "- report the collected data"
   ]
  }
 ],
 "metadata": {
  "kernelspec": {
   "display_name": "Python 3",
   "language": "python",
   "name": "python3"
  },
  "language_info": {
   "codemirror_mode": {
    "name": "ipython",
    "version": 3
   },
   "file_extension": ".py",
   "mimetype": "text/x-python",
   "name": "python",
   "nbconvert_exporter": "python",
   "pygments_lexer": "ipython3",
   "version": "3.11.6"
  }
 },
 "nbformat": 4,
 "nbformat_minor": 2
}
