{
 "cells": [
  {
   "cell_type": "markdown",
   "metadata": {},
   "source": [
    "# Bluesky Device for APS taxi & fly scans\n",
    "\n",
    "Some EPICS fly scans at APS are triggered by a pair of EPICS\n",
    "[*busy*](https://epics-modules.github.io/busy/) records.  The first *busy*\n",
    "record is called `taxi` and is responsible for preparing the hardware to fly.\n",
    "Once *taxi* is complete, the second *busy* record called `fly` performs the actual fly scan.\n",
    "In a third (optional) phase, data is collected from hardware and written to a\n",
    "file.\n",
    "\n",
    "Compare the taxi & fly scan algorithm to an airplane flight:\n",
    "\n",
    "phase | airplane flight | taxi & fly scan\n",
    "--- | --- | ---\n",
    "preparation | ticketing & boarding | configuration of software\n",
    "taxi | move the aircraft to the end of the runway | move the hardware to pre-scan positions\n",
    "fly | start moving, liftoff at flight velocity | start moving, begin collecting data at first position"
   ]
  },
  {
   "cell_type": "markdown",
   "metadata": {},
   "source": [
    "## Bluesky (Python)setup\n",
    "\n",
    "Here are the packages to import.  The first block contains Python standard\n",
    "packages, then come the various bluesky packages.  Just the parts we plan on\n",
    "using here.\n",
    "\n",
    "* Create a logger instance in case we want to investigate internal details as our code runs.\n",
    "* Create an instance of the bluesky `RunEngine`.\n",
    "* Create a temporary databroker catalog to save collected data.\n",
    "* Subscribe the catalog to receive all data published by the RunEngine."
   ]
  },
  {
   "cell_type": "code",
   "execution_count": 1,
   "metadata": {},
   "outputs": [
    {
     "name": "stdout",
     "output_type": "stream",
     "text": [
      "/home/prjemian/.conda/envs/bluesky_2023_3/lib/python3.11/site-packages/apstools/devices/aps_data_management.py\n"
     ]
    },
    {
     "data": {
      "text/plain": [
       "0"
      ]
     },
     "execution_count": 1,
     "metadata": {},
     "output_type": "execute_result"
    }
   ],
   "source": [
    "import logging\n",
    "\n",
    "from apstools.synApps import SseqRecord\n",
    "from apstools.plans import run_blocking_function\n",
    "import bluesky\n",
    "import bluesky.plan_stubs as bps\n",
    "import databroker\n",
    "from ophyd import Component, Device, EpicsSignal\n",
    "\n",
    "logger = logging.getLogger()\n",
    "logging.basicConfig(\n",
    "    level=logging.INFO,  # more details than default (WARNING) level\n",
    "    format=\"%(asctime)s %(levelname)s %(name)s - %(message)s\"\n",
    ")\n",
    "\n",
    "RE = bluesky.RunEngine()\n",
    "cat = databroker.temp().v2\n",
    "RE.subscribe(cat.v1.insert)\n",
    "# RE.msg_hook = bluesky.utils.ts_msg_hook  # deeper logging details"
   ]
  },
  {
   "cell_type": "markdown",
   "metadata": {},
   "source": [
    "## EPICS IOC\n",
    "\n",
    "We'll start with an EPICS IOC that provides two instances of the\n",
    "[*busy*](https://epics-modules.github.io/busy/) record and two instances of the\n",
    "[*sseq*](https://htmlpreview.github.io/?https://raw.githubusercontent.com/epics-modules/calc/R3-6-1/documentation/sseqRecord.html)\n",
    "record.\n",
    "\n",
    "In the `gp:` IOC, we can use these general purpose PVs for this example:\n",
    "\n",
    "PV | record | purpose\n",
    "--- | --- | ---\n",
    "`gp:mybusy1` | *busy* | taxi (preparation) phase\n",
    "`gp:mybusy2` | *fly* | fly (fly scan) phase\n",
    "`gp:userStringSeq1` | *sseq* | actions for the taxi phase\n",
    "`gp:userStringSeq2` | *sseq* | actions for the fly phase"
   ]
  },
  {
   "cell_type": "markdown",
   "metadata": {},
   "source": [
    "The EPICS _busy_ record is used to start a phase (taxi or fly) and report when that\n",
    "phase is finished. The EPICS _sseq_ record describes and manages the work to be done\n",
    "in that phase. In this example, the work is simple (wait for some seconds). In\n",
    "other situations, the work could involve a complex setup of software to collect data\n",
    "or a complete\n",
    "[_sscan_](https://epics.anl.gov/bcda/synApps/sscan/sscanRecord.html) process.\n",
    "\n",
    "We need to configure these records for our use. We'll use the ophyd support for\n",
    "[sseq](https://bcda-aps.github.io/apstools/latest/api/synApps/_sseq.html)\n",
    "records from [apstools](https://bcda-aps.github.io/apstools). For the _busy_\n",
    "records, we choose a simpler connections than the\n",
    "[busy](https://bcda-aps.github.io/apstools/latest/api/synApps/_busy.html)\n",
    "support from apstools. Instead, we'll connect with the `.OUT` and `.VAL` fields\n",
    "using `EpicsSignal` (from ophyd). This allows us to add the `put_complete=True`\n",
    "keyword argument that we need for the `.VAL` field's connection. The\n",
    "`put_complete` keyword provides prompt notification when the asynchronous _busy_\n",
    "record is finished.\n",
    "\n",
    "We'll connect ophyd structures with these PVs and make bluesky plans here to\n",
    "setup the PVs for this demo and to run the taxi+fly scan.\n",
    "\n",
    "**NOTE**: This example does not collect any data. It only shows how the taxi &\n",
    "fly scan is operated from bluesky."
   ]
  },
  {
   "cell_type": "markdown",
   "metadata": {},
   "source": [
    "### EPICS: How do the *busy* and *sseq* records interact in this demo?\n",
    "\n",
    "Summary: The *busy* record tells the *sseq* record to do all its processing\n",
    "steps.  The *sseq* record waits its assigned time, then turns the *busy* record\n",
    "off.\n",
    "\n",
    "Details:\n",
    "The user changes the *busy* record's `.VAL` field from 0 to 1.  This causes the\n",
    "*busy* record to send a 1 to the PV named in its `.OUT` field.  That field\n",
    "contains the *sseq* record's `.PROC` field.  Thus, it causes the *sseq* record\n",
    "to begin its processing steps.\n",
    "\n",
    "There are two steps for the *sseq* record:\n",
    "\n",
    "1. Wait for the assigned time.\n",
    "2. Tell the *busy* record it is done.\n",
    "\n",
    "One additional action was needed, to remove the PV name from the *busy* record's\n",
    "`.OUT` field.  Without this additional action, the *sseq* record will be\n",
    "processed by every change to the *busy* record value.\n",
    "\n",
    "All of this configuration is programmed in the `setup_plan()` in the\n",
    "`TaxiFlyScanDevice` class below.\n",
    "\n",
    "### Call a blocking function from a bluesky plan\n",
    "\n",
    "The `SseqRecord()` support in apstools has a `reset()` method to clear any\n",
    "previous settings of the EPICS PVs and ophyd object and return them to default\n",
    "settings.  This method is written as ophyd code, intended to be called from a\n",
    "command-line session.  The commands it contains that may take some time to\n",
    "complete and possibly block the normal execution of the RunEngine's callback\n",
    "thread. The\n",
    "[`run_blocking_function()`](https://bcda-aps.github.io/apstools/latest/api/_plans.html#module-apstools.plans.run_blocking_function_plan)\n",
    "plan from *apstools* allows us to run `reset()` in a thread so that it does not\n",
    "block the `RunEngine`.\n"
   ]
  },
  {
   "cell_type": "markdown",
   "metadata": {},
   "source": [
    "## Define the TaxiFlyScanDevice\n",
    "\n",
    "All of the taxi and fly components are configuration details and should not be included with any data to be recorded.  They are all marked with the `kind=\"config\"` keyword."
   ]
  },
  {
   "cell_type": "code",
   "execution_count": 2,
   "metadata": {},
   "outputs": [],
   "source": [
    "class TaxiFlyScanDevice(Device):\n",
    "    taxi = Component(EpicsSignal, \"mybusy1\", put_complete=True, kind=\"config\")\n",
    "    taxi_out = Component(EpicsSignal, \"mybusy1.OUT\", kind=\"config\")\n",
    "    taxi_sseq = Component(SseqRecord, \"userStringSeq1\", kind=\"config\")\n",
    "\n",
    "    fly = Component(EpicsSignal, \"mybusy2\", put_complete=True, kind=\"config\")\n",
    "    fly_out = Component(EpicsSignal, \"mybusy2.OUT\", kind=\"config\")\n",
    "    fly_sseq = Component(SseqRecord, \"userStringSeq2\", kind=\"config\")\n",
    "\n",
    "    def setup_plan(self, t_taxi, t_fly):\n",
    "        logger.info(\"taxi time: %.2f s\", t_taxi)\n",
    "        logger.info(\"fly time: %.2f s\", t_fly)\n",
    "        yield from bps.mv(\n",
    "            self.taxi, 0,\n",
    "            self.fly, 0,\n",
    "        )\n",
    "        yield from bps.mv(\n",
    "            self.taxi_out, f\"{self.taxi_sseq.prefix}.PROC CA NMS\",\n",
    "            self.fly_out, f\"{self.fly_sseq.prefix}.PROC CA NMS\",\n",
    "        )\n",
    "\n",
    "        # Clear any previous setup of the sseq records.\n",
    "        # The reset function is not a plan.\n",
    "        yield from run_blocking_function(self.taxi_sseq.reset)\n",
    "        yield from run_blocking_function(self.fly_sseq.reset)\n",
    "\n",
    "        yield from bps.mv(\n",
    "            # Set the delay time.\n",
    "            self.taxi_sseq.steps.step1.delay, t_taxi,\n",
    "            # Remove the .PROC poke so the sseq will not be triggered again.\n",
    "            self.taxi_sseq.steps.step1.string_value, \"\",\n",
    "            self.taxi_sseq.steps.step1.output_pv, f\"{self.taxi_out.pvname} CA NMS\",\n",
    "            # Mark the busy record as Done.\n",
    "            self.taxi_sseq.steps.step2.string_value, self.taxi.enum_strs[0],\n",
    "            self.taxi_sseq.steps.step2.output_pv, f\"{self.taxi.pvname} CA NMS\",\n",
    "\n",
    "            # Similar setup for the fly.\n",
    "            self.fly_sseq.steps.step1.delay, t_fly,\n",
    "            self.fly_sseq.steps.step1.string_value, \"\",\n",
    "            self.fly_sseq.steps.step1.output_pv, f\"{self.fly_out.pvname} CA NMS\",\n",
    "            self.fly_sseq.steps.step2.string_value, self.fly.enum_strs[0],\n",
    "            self.fly_sseq.steps.step2.output_pv, f\"{self.fly.pvname} CA NMS\",\n",
    "        )\n",
    "\n",
    "    def taxi_fly_plan(self, time_taxi=5, time_fly=5):\n",
    "        logger.info(\"before setup_plan\")\n",
    "        yield from self.setup_plan(time_taxi, time_fly)\n",
    "\n",
    "        logger.info(\"before taxi\")\n",
    "        yield from bluesky.plan_stubs.mv(self.taxi, self.taxi.enum_strs[1])\n",
    "        logger.info(\"after taxi\")\n",
    "\n",
    "        logger.info(\"before fly\")\n",
    "        yield from bluesky.plan_stubs.mv(self.fly, self.fly.enum_strs[1])\n",
    "        logger.info(\"after fly\")"
   ]
  },
  {
   "cell_type": "markdown",
   "metadata": {},
   "source": [
    "## Create a Python object.\n",
    "\n",
    "Here, the PVs are from the `gp:` IOC."
   ]
  },
  {
   "cell_type": "code",
   "execution_count": 3,
   "metadata": {
    "collapsed": true
   },
   "outputs": [],
   "source": [
    "ifly = TaxiFlyScanDevice(\"gp:\", name=\"ifly\")\n",
    "ifly.wait_for_connection()"
   ]
  },
  {
   "cell_type": "markdown",
   "metadata": {},
   "source": [
    "## Run the complete plan\n",
    "\n",
    "Run the `taxi_fly_plan()` with the bluesky RunEngine. There is no data to be\n",
    "collected in this example, only logging entries.  Wait 2 seconds in the taxi\n",
    "phase, then 3 seconds in the fly phase."
   ]
  },
  {
   "cell_type": "code",
   "execution_count": 4,
   "metadata": {},
   "outputs": [
    {
     "name": "stderr",
     "output_type": "stream",
     "text": [
      "2023-10-23 17:03:39,025 INFO bluesky - Executing plan <generator object TaxiFlyScanDevice.taxi_fly_plan at 0x7f3e7d11e7a0>\n",
      "2023-10-23 17:03:39,127 INFO bluesky.RE.state - Change state on <bluesky.run_engine.RunEngine object at 0x7f3e81f38a10> from 'idle' -> 'running'\n",
      "2023-10-23 17:03:39,128 INFO root - before setup_plan\n",
      "2023-10-23 17:03:39,128 INFO root - taxi time: 2.00 s\n",
      "2023-10-23 17:03:39,129 INFO root - fly time: 3.00 s\n",
      "2023-10-23 17:03:39,191 INFO root - before taxi\n",
      "2023-10-23 17:03:41,190 INFO root - after taxi\n",
      "2023-10-23 17:03:41,192 INFO root - before fly\n",
      "2023-10-23 17:03:44,190 INFO root - after fly\n",
      "2023-10-23 17:03:44,191 INFO bluesky.RE.state - Change state on <bluesky.run_engine.RunEngine object at 0x7f3e81f38a10> from 'running' -> 'idle'\n",
      "2023-10-23 17:03:44,191 INFO bluesky - Cleaned up from plan <generator object TaxiFlyScanDevice.taxi_fly_plan at 0x7f3e7d11e7a0>\n"
     ]
    },
    {
     "data": {
      "text/plain": [
       "()"
      ]
     },
     "execution_count": 4,
     "metadata": {},
     "output_type": "execute_result"
    }
   ],
   "source": [
    "RE(ifly.taxi_fly_plan(2, 3))"
   ]
  }
 ],
 "metadata": {
  "kernelspec": {
   "display_name": "Python 3",
   "language": "python",
   "name": "python3"
  },
  "language_info": {
   "codemirror_mode": {
    "name": "ipython",
    "version": 3
   },
   "file_extension": ".py",
   "mimetype": "text/x-python",
   "name": "python",
   "nbconvert_exporter": "python",
   "pygments_lexer": "ipython3",
   "version": "3.11.6"
  }
 },
 "nbformat": 4,
 "nbformat_minor": 2
}
