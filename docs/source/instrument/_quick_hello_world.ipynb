{
 "cells": [
  {
   "attachments": {},
   "cell_type": "markdown",
   "metadata": {},
   "source": [
    "# Test with Hello, World\n",
    "\n",
    "Test the new bluesky instrument with the quick _Hello, World!_ code in the `user/` directory."
   ]
  },
  {
   "attachments": {},
   "cell_type": "markdown",
   "metadata": {},
   "source": [
    "Previously, a new <code>bluesky</code> directory was installed for this notebook\n",
    "from the template into temporary directory `/tmp/bluesky`.\n",
    "\n",
    "<details>\n",
    "<summary>Installation steps</summary>\n",
    "\n",
    "Using commands in the Linux bash shell, remove any previous work:\n",
    "\n",
    "<pre>\n",
    "$ <b>/bin/rm -rf -rf /tmp/bluesky</b>\n",
    "</pre>\n",
    "\n",
    "Install from the template using <a href=\"https://github.com/BCDA-APS/bluesky_training/blob/main/new_bluesky_instrument.py\"><code>new_bluesky_instrument.py</code></a>:\n",
    "\n",
    "<pre>\n",
    "$ <b>python new_bluesky_instrument.py /tmp/bluesky</b>\n",
    "INFO:__main__:Requested installation to: '/tmp/bluesky'\n",
    "INFO:__main__:Downloading 'https://github.com/BCDA-APS/bluesky_training/archive/refs/heads/main.zip'\n",
    "INFO:__main__:Extracting content from '/tmp/bluesky_training-main.zip'\n",
    "INFO:__main__:Installing to '/tmp/bluesky'\n",
    "</pre>\n",
    "\n",
    "Start our session in the `/tmp` directory:\n",
    "\n",
    "<pre>\n",
    "$ <b>cd /tmp</b>\n",
    "</pre>\n",
    "\n",
    "</details>"
   ]
  },
  {
   "attachments": {},
   "cell_type": "markdown",
   "metadata": {},
   "source": [
    "At this point, you have assembled enough of the parts to test the initial\n",
    "installation with bluesky. Follow these steps to load the `instrument` package\n",
    "(in the `/tmp/bluesky/instrument` directory) for data collection activities.\n",
    "The name of each module is logged as it is loaded."
   ]
  },
  {
   "cell_type": "code",
   "execution_count": null,
   "metadata": {},
   "outputs": [],
   "source": [
    "import pathlib, sys\n",
    "\n",
    "path = str(pathlib.Path(\"/tmp\") / \"bluesky\")\n",
    "pathlib.os.chdir(path)\n",
    "sys.path.append(path)\n",
    "from instrument.collection import *"
   ]
  },
  {
   "attachments": {},
   "cell_type": "markdown",
   "metadata": {},
   "source": [
    "The time-stamped lines that start with `I ` are `Information` log messages from the logger.  The logger levels are:\n",
    "\n",
    "starting | meaning\n",
    "--- | ---\n",
    "`E ` | error\n",
    "`W ` | warning\n",
    "`I ` | information (default)\n",
    "`D ` | debugging (lots of detail!)\n",
    "\n",
    "The logger output to the terminal is intentionally terse.  Greater detail may be available in log files in the `.logs/` subdirectory.\n",
    "\n",
    "Load the `Hello, World!` example from the `user/` code directory:"
   ]
  },
  {
   "cell_type": "code",
   "execution_count": null,
   "metadata": {},
   "outputs": [],
   "source": [
    "%run -i user/quick_hello.py"
   ]
  },
  {
   "attachments": {},
   "cell_type": "markdown",
   "metadata": {},
   "source": [
    "**Note**: The `Loading 'Hello, World!' example.` text came from a `print()` statement in the file.\n",
    "\n",
    "This also loads `hello_world()`, a demonstration bluesky *plan*.  Run that plan with the bluesky RunEngine instance `RE`:"
   ]
  },
  {
   "cell_type": "code",
   "execution_count": null,
   "metadata": {},
   "outputs": [],
   "source": [
    "RE(hello_world())"
   ]
  },
  {
   "attachments": {},
   "cell_type": "markdown",
   "metadata": {},
   "source": [
    "We're using a temporary databroker catalog (as logged in the startup above).\n",
    "\n",
    "The data from this run is available until we quite the IPython session. Let's take a\n",
    "look at the data.\n",
    "\n",
    "First, get a reference to the *run* from the databroker catalog reference `cat`:"
   ]
  },
  {
   "cell_type": "code",
   "execution_count": null,
   "metadata": {},
   "outputs": [],
   "source": [
    "run = cat[-1]"
   ]
  },
  {
   "attachments": {},
   "cell_type": "markdown",
   "metadata": {},
   "source": [
    "Show a brief description of that `run`:"
   ]
  },
  {
   "cell_type": "code",
   "execution_count": null,
   "metadata": {},
   "outputs": [],
   "source": [
    "run"
   ]
  },
  {
   "attachments": {},
   "cell_type": "markdown",
   "metadata": {},
   "source": [
    "The run's data is in the `primary` stream.  Show it:"
   ]
  },
  {
   "cell_type": "code",
   "execution_count": null,
   "metadata": {},
   "outputs": [],
   "source": [
    "run.primary.read()"
   ]
  },
  {
   "attachments": {},
   "cell_type": "markdown",
   "metadata": {},
   "source": [
    "Congratulations, you've tested your new bluesky instrument!"
   ]
  }
 ],
 "metadata": {
  "kernelspec": {
   "display_name": "bluesky_2023_2",
   "language": "python",
   "name": "python3"
  },
  "language_info": {
   "codemirror_mode": {
    "name": "ipython",
    "version": 3
   },
   "file_extension": ".py",
   "mimetype": "text/x-python",
   "name": "python",
   "nbconvert_exporter": "python",
   "pygments_lexer": "ipython3",
   "version": "3.10.10"
  },
  "orig_nbformat": 4
 },
 "nbformat": 4,
 "nbformat_minor": 2
}
