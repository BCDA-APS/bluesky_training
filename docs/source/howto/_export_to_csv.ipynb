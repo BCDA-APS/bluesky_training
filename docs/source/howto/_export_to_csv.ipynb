{
 "cells": [
  {
   "cell_type": "markdown",
   "metadata": {},
   "source": [
    "# Export bluesky data to CSV\n",
    "\n",
    "Export bluesky experiment data from databroker to CSV files.  Each data stream is written to its own file.\n",
    "\n",
    "As a bonus, it is shown how to write all of a run's data to a single JSON file."
   ]
  },
  {
   "cell_type": "markdown",
   "metadata": {},
   "source": [
    "First, identify the experiment data to be exported.  Show what catalogs are available."
   ]
  },
  {
   "cell_type": "code",
   "execution_count": 1,
   "metadata": {},
   "outputs": [
    {
     "data": {
      "text/plain": [
       "['class_2021_03', 'class_example_data']"
      ]
     },
     "execution_count": 1,
     "metadata": {},
     "output_type": "execute_result"
    }
   ],
   "source": [
    "import databroker\n",
    "list(databroker.catalog)"
   ]
  },
  {
   "cell_type": "markdown",
   "metadata": {},
   "source": [
    "Pick from the `class_example_data` catalog."
   ]
  },
  {
   "cell_type": "code",
   "execution_count": 2,
   "metadata": {},
   "outputs": [
    {
     "data": {
      "text/plain": [
       "59"
      ]
     },
     "execution_count": 2,
     "metadata": {},
     "output_type": "execute_result"
    }
   ],
   "source": [
    "cat = databroker.catalog[\"class_example_data\"]\n",
    "len(cat)"
   ]
  },
  {
   "cell_type": "markdown",
   "metadata": {},
   "source": [
    "Just show a few of the most recent runs."
   ]
  },
  {
   "cell_type": "code",
   "execution_count": 3,
   "metadata": {},
   "outputs": [
    {
     "name": "stdout",
     "output_type": "stream",
     "text": [
      "catalog: class_example_data\n",
      "   scan_id                 time plan_name   detectors\n",
      "0       90  2021-03-06 14:16:41      scan     [noisy]\n",
      "1       89  2021-03-06 14:15:35      scan     [noisy]\n",
      "2       88  2021-03-06 14:14:45      scan     [noisy]\n",
      "3       87  2021-03-06 14:13:44      scan     [noisy]\n",
      "4       86  2021-03-06 14:10:46  rel_scan     [noisy]\n",
      "5       85  2021-03-06 14:10:43  rel_scan     [noisy]\n",
      "6       84  2021-03-06 14:10:37  rel_scan     [noisy]\n",
      "7       83  2021-03-06 14:10:19  rel_scan     [noisy]\n",
      "8       82  2021-03-03 10:01:32     count  [adsimdet]\n"
     ]
    }
   ],
   "source": [
    "from apstools.utils import *\n",
    "listruns(num=9)"
   ]
  },
  {
   "cell_type": "markdown",
   "metadata": {},
   "source": [
    "Check what is in #85."
   ]
  },
  {
   "cell_type": "code",
   "execution_count": 4,
   "metadata": {},
   "outputs": [
    {
     "data": {
      "text/plain": [
       "BlueskyRun\n",
       "  uid='b4e4cbbb-a4b1-4146-aea5-ba8bc7ad7b76'\n",
       "  exit_status='success'\n",
       "  2021-03-06 14:10:43.261 -- 2021-03-06 14:10:46.260\n",
       "  Streams:\n",
       "    * primary\n",
       "    * baseline\n"
      ]
     },
     "execution_count": 4,
     "metadata": {},
     "output_type": "execute_result"
    }
   ],
   "source": [
    "run = cat[85]\n",
    "run"
   ]
  },
  {
   "cell_type": "markdown",
   "metadata": {},
   "source": [
    "Look at the data in the `primary` stream.  That's the experiment data."
   ]
  },
  {
   "cell_type": "code",
   "execution_count": 5,
   "metadata": {},
   "outputs": [
    {
     "data": {
      "text/html": [
       "<div><svg style=\"position: absolute; width: 0; height: 0; overflow: hidden\">\n",
       "<defs>\n",
       "<symbol id=\"icon-database\" viewBox=\"0 0 32 32\">\n",
       "<path d=\"M16 0c-8.837 0-16 2.239-16 5v4c0 2.761 7.163 5 16 5s16-2.239 16-5v-4c0-2.761-7.163-5-16-5z\"></path>\n",
       "<path d=\"M16 17c-8.837 0-16-2.239-16-5v6c0 2.761 7.163 5 16 5s16-2.239 16-5v-6c0 2.761-7.163 5-16 5z\"></path>\n",
       "<path d=\"M16 26c-8.837 0-16-2.239-16-5v6c0 2.761 7.163 5 16 5s16-2.239 16-5v-6c0 2.761-7.163 5-16 5z\"></path>\n",
       "</symbol>\n",
       "<symbol id=\"icon-file-text2\" viewBox=\"0 0 32 32\">\n",
       "<path d=\"M28.681 7.159c-0.694-0.947-1.662-2.053-2.724-3.116s-2.169-2.030-3.116-2.724c-1.612-1.182-2.393-1.319-2.841-1.319h-15.5c-1.378 0-2.5 1.121-2.5 2.5v27c0 1.378 1.122 2.5 2.5 2.5h23c1.378 0 2.5-1.122 2.5-2.5v-19.5c0-0.448-0.137-1.23-1.319-2.841zM24.543 5.457c0.959 0.959 1.712 1.825 2.268 2.543h-4.811v-4.811c0.718 0.556 1.584 1.309 2.543 2.268zM28 29.5c0 0.271-0.229 0.5-0.5 0.5h-23c-0.271 0-0.5-0.229-0.5-0.5v-27c0-0.271 0.229-0.5 0.5-0.5 0 0 15.499-0 15.5 0v7c0 0.552 0.448 1 1 1h7v19.5z\"></path>\n",
       "<path d=\"M23 26h-14c-0.552 0-1-0.448-1-1s0.448-1 1-1h14c0.552 0 1 0.448 1 1s-0.448 1-1 1z\"></path>\n",
       "<path d=\"M23 22h-14c-0.552 0-1-0.448-1-1s0.448-1 1-1h14c0.552 0 1 0.448 1 1s-0.448 1-1 1z\"></path>\n",
       "<path d=\"M23 18h-14c-0.552 0-1-0.448-1-1s0.448-1 1-1h14c0.552 0 1 0.448 1 1s-0.448 1-1 1z\"></path>\n",
       "</symbol>\n",
       "</defs>\n",
       "</svg>\n",
       "<style>/* CSS stylesheet for displaying xarray objects in jupyterlab.\n",
       " *\n",
       " */\n",
       "\n",
       ":root {\n",
       "  --xr-font-color0: var(--jp-content-font-color0, rgba(0, 0, 0, 1));\n",
       "  --xr-font-color2: var(--jp-content-font-color2, rgba(0, 0, 0, 0.54));\n",
       "  --xr-font-color3: var(--jp-content-font-color3, rgba(0, 0, 0, 0.38));\n",
       "  --xr-border-color: var(--jp-border-color2, #e0e0e0);\n",
       "  --xr-disabled-color: var(--jp-layout-color3, #bdbdbd);\n",
       "  --xr-background-color: var(--jp-layout-color0, white);\n",
       "  --xr-background-color-row-even: var(--jp-layout-color1, white);\n",
       "  --xr-background-color-row-odd: var(--jp-layout-color2, #eeeeee);\n",
       "}\n",
       "\n",
       "html[theme=dark],\n",
       "body.vscode-dark {\n",
       "  --xr-font-color0: rgba(255, 255, 255, 1);\n",
       "  --xr-font-color2: rgba(255, 255, 255, 0.54);\n",
       "  --xr-font-color3: rgba(255, 255, 255, 0.38);\n",
       "  --xr-border-color: #1F1F1F;\n",
       "  --xr-disabled-color: #515151;\n",
       "  --xr-background-color: #111111;\n",
       "  --xr-background-color-row-even: #111111;\n",
       "  --xr-background-color-row-odd: #313131;\n",
       "}\n",
       "\n",
       ".xr-wrap {\n",
       "  display: block;\n",
       "  min-width: 300px;\n",
       "  max-width: 700px;\n",
       "}\n",
       "\n",
       ".xr-text-repr-fallback {\n",
       "  /* fallback to plain text repr when CSS is not injected (untrusted notebook) */\n",
       "  display: none;\n",
       "}\n",
       "\n",
       ".xr-header {\n",
       "  padding-top: 6px;\n",
       "  padding-bottom: 6px;\n",
       "  margin-bottom: 4px;\n",
       "  border-bottom: solid 1px var(--xr-border-color);\n",
       "}\n",
       "\n",
       ".xr-header > div,\n",
       ".xr-header > ul {\n",
       "  display: inline;\n",
       "  margin-top: 0;\n",
       "  margin-bottom: 0;\n",
       "}\n",
       "\n",
       ".xr-obj-type,\n",
       ".xr-array-name {\n",
       "  margin-left: 2px;\n",
       "  margin-right: 10px;\n",
       "}\n",
       "\n",
       ".xr-obj-type {\n",
       "  color: var(--xr-font-color2);\n",
       "}\n",
       "\n",
       ".xr-sections {\n",
       "  padding-left: 0 !important;\n",
       "  display: grid;\n",
       "  grid-template-columns: 150px auto auto 1fr 20px 20px;\n",
       "}\n",
       "\n",
       ".xr-section-item {\n",
       "  display: contents;\n",
       "}\n",
       "\n",
       ".xr-section-item input {\n",
       "  display: none;\n",
       "}\n",
       "\n",
       ".xr-section-item input + label {\n",
       "  color: var(--xr-disabled-color);\n",
       "}\n",
       "\n",
       ".xr-section-item input:enabled + label {\n",
       "  cursor: pointer;\n",
       "  color: var(--xr-font-color2);\n",
       "}\n",
       "\n",
       ".xr-section-item input:enabled + label:hover {\n",
       "  color: var(--xr-font-color0);\n",
       "}\n",
       "\n",
       ".xr-section-summary {\n",
       "  grid-column: 1;\n",
       "  color: var(--xr-font-color2);\n",
       "  font-weight: 500;\n",
       "}\n",
       "\n",
       ".xr-section-summary > span {\n",
       "  display: inline-block;\n",
       "  padding-left: 0.5em;\n",
       "}\n",
       "\n",
       ".xr-section-summary-in:disabled + label {\n",
       "  color: var(--xr-font-color2);\n",
       "}\n",
       "\n",
       ".xr-section-summary-in + label:before {\n",
       "  display: inline-block;\n",
       "  content: '►';\n",
       "  font-size: 11px;\n",
       "  width: 15px;\n",
       "  text-align: center;\n",
       "}\n",
       "\n",
       ".xr-section-summary-in:disabled + label:before {\n",
       "  color: var(--xr-disabled-color);\n",
       "}\n",
       "\n",
       ".xr-section-summary-in:checked + label:before {\n",
       "  content: '▼';\n",
       "}\n",
       "\n",
       ".xr-section-summary-in:checked + label > span {\n",
       "  display: none;\n",
       "}\n",
       "\n",
       ".xr-section-summary,\n",
       ".xr-section-inline-details {\n",
       "  padding-top: 4px;\n",
       "  padding-bottom: 4px;\n",
       "}\n",
       "\n",
       ".xr-section-inline-details {\n",
       "  grid-column: 2 / -1;\n",
       "}\n",
       "\n",
       ".xr-section-details {\n",
       "  display: none;\n",
       "  grid-column: 1 / -1;\n",
       "  margin-bottom: 5px;\n",
       "}\n",
       "\n",
       ".xr-section-summary-in:checked ~ .xr-section-details {\n",
       "  display: contents;\n",
       "}\n",
       "\n",
       ".xr-array-wrap {\n",
       "  grid-column: 1 / -1;\n",
       "  display: grid;\n",
       "  grid-template-columns: 20px auto;\n",
       "}\n",
       "\n",
       ".xr-array-wrap > label {\n",
       "  grid-column: 1;\n",
       "  vertical-align: top;\n",
       "}\n",
       "\n",
       ".xr-preview {\n",
       "  color: var(--xr-font-color3);\n",
       "}\n",
       "\n",
       ".xr-array-preview,\n",
       ".xr-array-data {\n",
       "  padding: 0 5px !important;\n",
       "  grid-column: 2;\n",
       "}\n",
       "\n",
       ".xr-array-data,\n",
       ".xr-array-in:checked ~ .xr-array-preview {\n",
       "  display: none;\n",
       "}\n",
       "\n",
       ".xr-array-in:checked ~ .xr-array-data,\n",
       ".xr-array-preview {\n",
       "  display: inline-block;\n",
       "}\n",
       "\n",
       ".xr-dim-list {\n",
       "  display: inline-block !important;\n",
       "  list-style: none;\n",
       "  padding: 0 !important;\n",
       "  margin: 0;\n",
       "}\n",
       "\n",
       ".xr-dim-list li {\n",
       "  display: inline-block;\n",
       "  padding: 0;\n",
       "  margin: 0;\n",
       "}\n",
       "\n",
       ".xr-dim-list:before {\n",
       "  content: '(';\n",
       "}\n",
       "\n",
       ".xr-dim-list:after {\n",
       "  content: ')';\n",
       "}\n",
       "\n",
       ".xr-dim-list li:not(:last-child):after {\n",
       "  content: ',';\n",
       "  padding-right: 5px;\n",
       "}\n",
       "\n",
       ".xr-has-index {\n",
       "  font-weight: bold;\n",
       "}\n",
       "\n",
       ".xr-var-list,\n",
       ".xr-var-item {\n",
       "  display: contents;\n",
       "}\n",
       "\n",
       ".xr-var-item > div,\n",
       ".xr-var-item label,\n",
       ".xr-var-item > .xr-var-name span {\n",
       "  background-color: var(--xr-background-color-row-even);\n",
       "  margin-bottom: 0;\n",
       "}\n",
       "\n",
       ".xr-var-item > .xr-var-name:hover span {\n",
       "  padding-right: 5px;\n",
       "}\n",
       "\n",
       ".xr-var-list > li:nth-child(odd) > div,\n",
       ".xr-var-list > li:nth-child(odd) > label,\n",
       ".xr-var-list > li:nth-child(odd) > .xr-var-name span {\n",
       "  background-color: var(--xr-background-color-row-odd);\n",
       "}\n",
       "\n",
       ".xr-var-name {\n",
       "  grid-column: 1;\n",
       "}\n",
       "\n",
       ".xr-var-dims {\n",
       "  grid-column: 2;\n",
       "}\n",
       "\n",
       ".xr-var-dtype {\n",
       "  grid-column: 3;\n",
       "  text-align: right;\n",
       "  color: var(--xr-font-color2);\n",
       "}\n",
       "\n",
       ".xr-var-preview {\n",
       "  grid-column: 4;\n",
       "}\n",
       "\n",
       ".xr-var-name,\n",
       ".xr-var-dims,\n",
       ".xr-var-dtype,\n",
       ".xr-preview,\n",
       ".xr-attrs dt {\n",
       "  white-space: nowrap;\n",
       "  overflow: hidden;\n",
       "  text-overflow: ellipsis;\n",
       "  padding-right: 10px;\n",
       "}\n",
       "\n",
       ".xr-var-name:hover,\n",
       ".xr-var-dims:hover,\n",
       ".xr-var-dtype:hover,\n",
       ".xr-attrs dt:hover {\n",
       "  overflow: visible;\n",
       "  width: auto;\n",
       "  z-index: 1;\n",
       "}\n",
       "\n",
       ".xr-var-attrs,\n",
       ".xr-var-data {\n",
       "  display: none;\n",
       "  background-color: var(--xr-background-color) !important;\n",
       "  padding-bottom: 5px !important;\n",
       "}\n",
       "\n",
       ".xr-var-attrs-in:checked ~ .xr-var-attrs,\n",
       ".xr-var-data-in:checked ~ .xr-var-data {\n",
       "  display: block;\n",
       "}\n",
       "\n",
       ".xr-var-data > table {\n",
       "  float: right;\n",
       "}\n",
       "\n",
       ".xr-var-name span,\n",
       ".xr-var-data,\n",
       ".xr-attrs {\n",
       "  padding-left: 25px !important;\n",
       "}\n",
       "\n",
       ".xr-attrs,\n",
       ".xr-var-attrs,\n",
       ".xr-var-data {\n",
       "  grid-column: 1 / -1;\n",
       "}\n",
       "\n",
       "dl.xr-attrs {\n",
       "  padding: 0;\n",
       "  margin: 0;\n",
       "  display: grid;\n",
       "  grid-template-columns: 125px auto;\n",
       "}\n",
       "\n",
       ".xr-attrs dt,\n",
       ".xr-attrs dd {\n",
       "  padding: 0;\n",
       "  margin: 0;\n",
       "  float: left;\n",
       "  padding-right: 10px;\n",
       "  width: auto;\n",
       "}\n",
       "\n",
       ".xr-attrs dt {\n",
       "  font-weight: normal;\n",
       "  grid-column: 1;\n",
       "}\n",
       "\n",
       ".xr-attrs dt:hover span {\n",
       "  display: inline-block;\n",
       "  background: var(--xr-background-color);\n",
       "  padding-right: 10px;\n",
       "}\n",
       "\n",
       ".xr-attrs dd {\n",
       "  grid-column: 2;\n",
       "  white-space: pre-wrap;\n",
       "  word-break: break-all;\n",
       "}\n",
       "\n",
       ".xr-icon-database,\n",
       ".xr-icon-file-text2 {\n",
       "  display: inline-block;\n",
       "  vertical-align: middle;\n",
       "  width: 1em;\n",
       "  height: 1.5em !important;\n",
       "  stroke-width: 0;\n",
       "  stroke: currentColor;\n",
       "  fill: currentColor;\n",
       "}\n",
       "</style><pre class='xr-text-repr-fallback'>&lt;xarray.Dataset&gt;\n",
       "Dimensions:           (time: 23)\n",
       "Coordinates:\n",
       "  * time              (time) float64 1.615e+09 1.615e+09 ... 1.615e+09 1.615e+09\n",
       "Data variables:\n",
       "    m1                (time) float64 0.915 0.918 0.922 ... 0.988 0.992 0.995\n",
       "    m1_user_setpoint  (time) float64 0.9146 0.9183 0.922 ... 0.988 0.9917 0.9954\n",
       "    noisy             (time) float64 1.464e+03 1.767e+03 ... 1.674e+03 1.494e+03</pre><div class='xr-wrap' hidden><div class='xr-header'><div class='xr-obj-type'>xarray.Dataset</div></div><ul class='xr-sections'><li class='xr-section-item'><input id='section-cfa10ff6-92f9-4337-b61a-5da9962d8ed5' class='xr-section-summary-in' type='checkbox' disabled ><label for='section-cfa10ff6-92f9-4337-b61a-5da9962d8ed5' class='xr-section-summary'  title='Expand/collapse section'>Dimensions:</label><div class='xr-section-inline-details'><ul class='xr-dim-list'><li><span class='xr-has-index'>time</span>: 23</li></ul></div><div class='xr-section-details'></div></li><li class='xr-section-item'><input id='section-d31edbf9-f76c-497b-9c82-32127beb5ed2' class='xr-section-summary-in' type='checkbox'  checked><label for='section-d31edbf9-f76c-497b-9c82-32127beb5ed2' class='xr-section-summary' >Coordinates: <span>(1)</span></label><div class='xr-section-inline-details'></div><div class='xr-section-details'><ul class='xr-var-list'><li class='xr-var-item'><div class='xr-var-name'><span class='xr-has-index'>time</span></div><div class='xr-var-dims'>(time)</div><div class='xr-var-dtype'>float64</div><div class='xr-var-preview xr-preview'>1.615e+09 1.615e+09 ... 1.615e+09</div><input id='attrs-b54a4c4d-51ff-44da-9a1c-74332c6cf1f2' class='xr-var-attrs-in' type='checkbox' disabled><label for='attrs-b54a4c4d-51ff-44da-9a1c-74332c6cf1f2' title='Show/Hide attributes'><svg class='icon xr-icon-file-text2'><use xlink:href='#icon-file-text2'></use></svg></label><input id='data-8f1be955-969f-41d3-867f-4e4337b5f47b' class='xr-var-data-in' type='checkbox'><label for='data-8f1be955-969f-41d3-867f-4e4337b5f47b' title='Show/Hide data repr'><svg class='icon xr-icon-database'><use xlink:href='#icon-database'></use></svg></label><div class='xr-var-attrs'><dl class='xr-attrs'></dl></div><div class='xr-var-data'><pre>array([1.615061e+09, 1.615061e+09, 1.615061e+09, 1.615061e+09, 1.615061e+09,\n",
       "       1.615061e+09, 1.615061e+09, 1.615061e+09, 1.615061e+09, 1.615061e+09,\n",
       "       1.615061e+09, 1.615061e+09, 1.615061e+09, 1.615061e+09, 1.615061e+09,\n",
       "       1.615061e+09, 1.615061e+09, 1.615061e+09, 1.615061e+09, 1.615061e+09,\n",
       "       1.615061e+09, 1.615061e+09, 1.615061e+09])</pre></div></li></ul></div></li><li class='xr-section-item'><input id='section-aa0b53e4-d2db-4887-b733-45c1584cf1e8' class='xr-section-summary-in' type='checkbox'  checked><label for='section-aa0b53e4-d2db-4887-b733-45c1584cf1e8' class='xr-section-summary' >Data variables: <span>(3)</span></label><div class='xr-section-inline-details'></div><div class='xr-section-details'><ul class='xr-var-list'><li class='xr-var-item'><div class='xr-var-name'><span>m1</span></div><div class='xr-var-dims'>(time)</div><div class='xr-var-dtype'>float64</div><div class='xr-var-preview xr-preview'>0.915 0.918 0.922 ... 0.992 0.995</div><input id='attrs-c48cdd3d-3d5a-46ca-8a0d-5682f5eccfb3' class='xr-var-attrs-in' type='checkbox' ><label for='attrs-c48cdd3d-3d5a-46ca-8a0d-5682f5eccfb3' title='Show/Hide attributes'><svg class='icon xr-icon-file-text2'><use xlink:href='#icon-file-text2'></use></svg></label><input id='data-680fc651-15ba-438b-93c5-fc202537e81c' class='xr-var-data-in' type='checkbox'><label for='data-680fc651-15ba-438b-93c5-fc202537e81c' title='Show/Hide data repr'><svg class='icon xr-icon-database'><use xlink:href='#icon-database'></use></svg></label><div class='xr-var-attrs'><dl class='xr-attrs'><dt><span>object :</span></dt><dd>m1</dd></dl></div><div class='xr-var-data'><pre>array([0.915, 0.918, 0.922, 0.926, 0.929, 0.933, 0.937, 0.94 , 0.944,\n",
       "       0.948, 0.951, 0.955, 0.959, 0.962, 0.966, 0.97 , 0.973, 0.977,\n",
       "       0.981, 0.984, 0.988, 0.992, 0.995])</pre></div></li><li class='xr-var-item'><div class='xr-var-name'><span>m1_user_setpoint</span></div><div class='xr-var-dims'>(time)</div><div class='xr-var-dtype'>float64</div><div class='xr-var-preview xr-preview'>0.9146 0.9183 ... 0.9917 0.9954</div><input id='attrs-18c34b82-96dc-4edd-b727-f30be5d89fff' class='xr-var-attrs-in' type='checkbox' ><label for='attrs-18c34b82-96dc-4edd-b727-f30be5d89fff' title='Show/Hide attributes'><svg class='icon xr-icon-file-text2'><use xlink:href='#icon-file-text2'></use></svg></label><input id='data-32886bc4-9c13-4614-a4f1-b7145f328f18' class='xr-var-data-in' type='checkbox'><label for='data-32886bc4-9c13-4614-a4f1-b7145f328f18' title='Show/Hide data repr'><svg class='icon xr-icon-database'><use xlink:href='#icon-database'></use></svg></label><div class='xr-var-attrs'><dl class='xr-attrs'><dt><span>object :</span></dt><dd>m1</dd></dl></div><div class='xr-var-data'><pre>array([0.91461872, 0.91828974, 0.92196077, 0.92563179, 0.92930282,\n",
       "       0.93297385, 0.93664487, 0.9403159 , 0.94398692, 0.94765795,\n",
       "       0.95132897, 0.955     , 0.95867103, 0.96234205, 0.96601308,\n",
       "       0.9696841 , 0.97335513, 0.97702615, 0.98069718, 0.98436821,\n",
       "       0.98803923, 0.99171026, 0.99538128])</pre></div></li><li class='xr-var-item'><div class='xr-var-name'><span>noisy</span></div><div class='xr-var-dims'>(time)</div><div class='xr-var-dtype'>float64</div><div class='xr-var-preview xr-preview'>1.464e+03 1.767e+03 ... 1.494e+03</div><input id='attrs-b82993d5-21aa-4ff9-a95e-cca746fea546' class='xr-var-attrs-in' type='checkbox' ><label for='attrs-b82993d5-21aa-4ff9-a95e-cca746fea546' title='Show/Hide attributes'><svg class='icon xr-icon-file-text2'><use xlink:href='#icon-file-text2'></use></svg></label><input id='data-84f1d0e6-0182-4c1c-94fa-600d5f063bda' class='xr-var-data-in' type='checkbox'><label for='data-84f1d0e6-0182-4c1c-94fa-600d5f063bda' title='Show/Hide data repr'><svg class='icon xr-icon-database'><use xlink:href='#icon-database'></use></svg></label><div class='xr-var-attrs'><dl class='xr-attrs'><dt><span>object :</span></dt><dd>noisy</dd></dl></div><div class='xr-var-data'><pre>array([ 1463.92124654,  1766.77807072,  2094.50450468,  2798.32521782,\n",
       "        3305.86485887,  4534.74655493,  6865.43764098,  9149.30587732,\n",
       "       15753.27851951, 33071.73105762, 56524.5928228 , 94208.51149034,\n",
       "       60687.14648988, 33271.44458305, 16008.77693897,  9858.98556194,\n",
       "        6690.43920525,  4799.07549787,  3380.49964564,  2709.74517481,\n",
       "        2142.78312427,  1674.13140299,  1494.37780746])</pre></div></li></ul></div></li><li class='xr-section-item'><input id='section-17f5af9a-3dd6-476c-bc27-d577a11ee70b' class='xr-section-summary-in' type='checkbox' disabled ><label for='section-17f5af9a-3dd6-476c-bc27-d577a11ee70b' class='xr-section-summary'  title='Expand/collapse section'>Attributes: <span>(0)</span></label><div class='xr-section-inline-details'></div><div class='xr-section-details'><dl class='xr-attrs'></dl></div></li></ul></div></div>"
      ],
      "text/plain": [
       "<xarray.Dataset>\n",
       "Dimensions:           (time: 23)\n",
       "Coordinates:\n",
       "  * time              (time) float64 1.615e+09 1.615e+09 ... 1.615e+09 1.615e+09\n",
       "Data variables:\n",
       "    m1                (time) float64 0.915 0.918 0.922 ... 0.988 0.992 0.995\n",
       "    m1_user_setpoint  (time) float64 0.9146 0.9183 0.922 ... 0.988 0.9917 0.9954\n",
       "    noisy             (time) float64 1.464e+03 1.767e+03 ... 1.674e+03 1.494e+03"
      ]
     },
     "execution_count": 5,
     "metadata": {},
     "output_type": "execute_result"
    }
   ],
   "source": [
    "ds = run.primary.read()\n",
    "ds"
   ]
  },
  {
   "cell_type": "markdown",
   "metadata": {},
   "source": [
    "Plot it."
   ]
  },
  {
   "cell_type": "code",
   "execution_count": 6,
   "metadata": {},
   "outputs": [
    {
     "data": {
      "text/plain": [
       "<matplotlib.collections.PathCollection at 0x1e79ecff1c0>"
      ]
     },
     "execution_count": 6,
     "metadata": {},
     "output_type": "execute_result"
    },
    {
     "data": {
      "image/png": "[encoded data removed]",
      "text/plain": [
       "<Figure size 432x288 with 1 Axes>"
      ]
     },
     "metadata": {
      "needs_background": "light"
     },
     "output_type": "display_data"
    }
   ],
   "source": [
    "ds.plot.scatter(\"m1\", \"noisy\")"
   ]
  },
  {
   "cell_type": "markdown",
   "metadata": {},
   "source": [
    "Assuming #90 has the same type of scan, plot it."
   ]
  },
  {
   "cell_type": "code",
   "execution_count": 7,
   "metadata": {},
   "outputs": [
    {
     "data": {
      "text/plain": [
       "<matplotlib.collections.PathCollection at 0x1e79fdf6dc0>"
      ]
     },
     "execution_count": 7,
     "metadata": {},
     "output_type": "execute_result"
    },
    {
     "data": {
      "image/png": "[encoded data removed]",
      "text/plain": [
       "<Figure size 432x288 with 1 Axes>"
      ]
     },
     "metadata": {
      "needs_background": "light"
     },
     "output_type": "display_data"
    }
   ],
   "source": [
    "cat[90].primary.read().plot.scatter(\"m1\", \"noisy\")"
   ]
  },
  {
   "cell_type": "markdown",
   "metadata": {},
   "source": [
    "## Export one run to CSV\n",
    "\n",
    "Make a function to do this, then call it with the `run`.  The function should export all data streams and the run's metadata.  Each to a separate CSV file.\n",
    "\n",
    "1. Starting with a catalog instance, `cat`, pick a `run` by `scan_id` (or `uid`).\n",
    "2. Look at the stream names, the run's experimental data is in the `primary` stream.\n",
    "3. The stream data is obtained in an xarray Dataset: `ds = run.primary.read()`\n",
    "4. The stream data can be converted to CSV (by first converting to a pandas DataFrame): `ds.to_pandas().to_csv()`\n",
    "5. Write the CSV to a file.\n",
    "6. The run's metadata is already a dictionary (making it difficult to render as CSV).  The `csv` package has a special writer for dictionaries."
   ]
  },
  {
   "cell_type": "code",
   "execution_count": 8,
   "metadata": {},
   "outputs": [
    {
     "name": "stdout",
     "output_type": "stream",
     "text": [
      "wrote file: run-85-metadata.csv\n",
      "wrote file: run-85-primary.csv\n",
      "wrote file: run-85-baseline.csv\n"
     ]
    }
   ],
   "source": [
    "import csv\n",
    "from xarray.core.dataset import Dataset as xarray_Dataset\n",
    "from pandas import DataFrame as pandas_DataFrame\n",
    "\n",
    "def export_run(run):\n",
    "    \"Save all the run information to text files.\"\n",
    "    scan_id = run.metadata[\"start\"][\"scan_id\"]\n",
    "\n",
    "    def export_data(data, scan_id, label, prefix=\"run\"):\n",
    "        with open(f\"{prefix}-{scan_id}-{label}.csv\", \"w\", newline=\"\\n\") as f:\n",
    "            if isinstance(data, dict):\n",
    "                writer = csv.DictWriter(f, data.keys())\n",
    "                writer.writeheader()\n",
    "                writer.writerow(data)\n",
    "            elif isinstance(data, xarray_Dataset):\n",
    "                f.write(data.to_pandas().to_csv())\n",
    "            elif isinstance(data, pandas_DataFrame):\n",
    "                f.write(data.to_csv())\n",
    "            print(f\"wrote file: {f.name}\")\n",
    "\n",
    "    export_data(run.metadata, scan_id, \"metadata\")\n",
    "    for stream_name in run:\n",
    "        ds = getattr(run, stream_name).read()\n",
    "        if stream_name == \"baseline\":\n",
    "            ds = ds.to_pandas().transpose()\n",
    "        export_data(ds, scan_id, stream_name)\n",
    "\n",
    "export_run(run)"
   ]
  },
  {
   "cell_type": "markdown",
   "metadata": {},
   "source": [
    "## Search for runs by time\n",
    "\n",
    "Since a search by scan_id` might not be unique, we hope to resolve that by restricting the time span for a search.  Here's how to search by a time span."
   ]
  },
  {
   "cell_type": "code",
   "execution_count": 9,
   "metadata": {},
   "outputs": [
    {
     "data": {
      "text/plain": [
       "(59, 8)"
      ]
     },
     "execution_count": 9,
     "metadata": {},
     "output_type": "execute_result"
    }
   ],
   "source": [
    "time_span = databroker.queries.TimeRange(since=\"2021-03-06 14:00\", until=\"2021-03-06 16:00\")\n",
    "runs = cat.search(time_span)\n",
    "len(cat), len(runs)"
   ]
  },
  {
   "cell_type": "markdown",
   "metadata": {},
   "source": [
    "## Export a list of runs\n",
    "\n",
    "Search the catalog by time and `scan_id` for a **_list_** of runs.  Call the `export_run()` function on each run.  We'll look for #70 - #84 using the `range(70, 86)` function.  But, since we have a time restriction, only some of the scans will be written.\n",
    "\n",
    "The result of `cat.search(query)` (where `query` is a dictionary of search terms) is another catalog with runs matching the search terms.  This result can be searched again and again as needed.  The dictionary can use [mongoquery](https://docs.mongodb.com/manual/reference/operator/query/) as shown here: `{'scan_id': {'$in': scan_id_list}}`\n",
    "\n",
    "Here, a time span is selected along with a list of scan IDs.  The time span is searched first, since any `scan_id` might not be unique in the catalog.  (_assumption_: A `scan_id` might be unique within the time span.)  The result is a catalog of scans from the list but also within the time span."
   ]
  },
  {
   "cell_type": "code",
   "execution_count": 10,
   "metadata": {},
   "outputs": [
    {
     "name": "stdout",
     "output_type": "stream",
     "text": [
      "wrote file: run-83-metadata.csv\n",
      "wrote file: run-83-primary.csv\n",
      "wrote file: run-83-baseline.csv\n",
      "wrote file: run-84-metadata.csv\n",
      "wrote file: run-84-primary.csv\n",
      "wrote file: run-84-baseline.csv\n",
      "wrote file: run-85-metadata.csv\n",
      "wrote file: run-85-primary.csv\n",
      "wrote file: run-85-baseline.csv\n"
     ]
    }
   ],
   "source": [
    "def export_runs(scan_id_list, since=None, until=None):\n",
    "    runs = cat\n",
    "    # first by date since scan_id might not be unique for all times\n",
    "    if since is not None:\n",
    "        runs = runs.search(databroker.queries.TimeRange(since=since))\n",
    "    if until is not None:\n",
    "        runs = runs.search(databroker.queries.TimeRange(until=until))\n",
    "    # now, search by scan_id (in the supplied list)\n",
    "    runs = runs.search({'scan_id': {'$in': scan_id_list}})\n",
    "\n",
    "    for uid in runs:\n",
    "        export_run(runs[uid])\n",
    "\n",
    "export_runs(range(70, 86), since=\"2021-03-06 14:00\")"
   ]
  },
  {
   "cell_type": "markdown",
   "metadata": {},
   "source": [
    "## Export run to JSON file\n",
    "\n",
    "A Python dictionary can be written to JSON (its contents can be expressed in JSON.  There are a few notable problems, such as `None` values.)  Here, a dictionary (`data`) is built with the different parts of a run (metadata, streams).  Then `data` is written to a single file."
   ]
  },
  {
   "cell_type": "code",
   "execution_count": 12,
   "metadata": {},
   "outputs": [
    {
     "name": "stdout",
     "output_type": "stream",
     "text": [
      "wrote file run_85.json\n"
     ]
    }
   ],
   "source": [
    "import json\n",
    "\n",
    "def export_json(run):\n",
    "    \"\"\"Export all data from a run to a JSON file.\"\"\"\n",
    "    scan_id = run.metadata[\"start\"][\"scan_id\"]\n",
    "    data = {\"metadata\": run.metadata}\n",
    "    for stream_name in list(run):  # get ALL the streams\n",
    "        # such as data[\"primary\"] = run.primary.read().to_dict()\n",
    "        data[stream_name] = getattr(run, stream_name).read().to_dict()\n",
    "    with open(f\"run_{scan_id}.json\", \"w\", newline=\"\\n\") as f:\n",
    "        f.write(json.dumps(data, indent=2))\n",
    "        print(f\"wrote file {f.name}\")\n",
    "\n",
    "export_json(run)\n"
   ]
  }
 ],
 "metadata": {
  "interpreter": {
   "hash": "fd0bb865bd950a0eb522eff7964c260f306407a171414059e5c2e75397d9f14a"
  },
  "kernelspec": {
   "display_name": "Python 3.9.7 64-bit ('bluesky_2022_1': conda)",
   "language": "python",
   "name": "python3"
  },
  "language_info": {
   "codemirror_mode": {
    "name": "ipython",
    "version": 3
   },
   "file_extension": ".py",
   "mimetype": "text/x-python",
   "name": "python",
   "nbconvert_exporter": "python",
   "pygments_lexer": "ipython3",
   "version": "3.9.7"
  },
  "orig_nbformat": 4
 },
 "nbformat": 4,
 "nbformat_minor": 2
}
