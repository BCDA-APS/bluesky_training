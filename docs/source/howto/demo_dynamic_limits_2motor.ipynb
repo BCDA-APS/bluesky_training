{
 "cells": [
  {
   "cell_type": "markdown",
   "metadata": {},
   "source": [
    "# Demo of two-motor dynamic limit signal"
   ]
  },
  {
   "cell_type": "markdown",
   "metadata": {},
   "source": [
    "## Overview\n",
    "\n",
    "Some instrument designs need protection against accidental collision between moving parts during routine operations.  In such cases, each of the axes may be operating between its valid range but an interim (in-motion) state can pose the possibility of a collision.\n",
    "\n",
    "One such possible collision is when arms of a diffractometer (such as $\\theta$ and $2\\theta$, known here as `theta` and `ttheta`, respectively) collide causing damage to beam transport apparatus and consequential instrumental downtime.\n",
    "\n",
    "To prevent the collision *in this case*, the $2\\theta$ axis must be at least $\\delta$ degrees above the $\\theta$ axis.  Empirically, $\\delta$ of 3 degrees is sufficient protection.\n",
    "\n",
    "From a controls safety view, we provide an EPICS PV calculation that is zero when the move is not permitted and one when: ($2\\theta - \\theta) \\ge \\delta$.  We'll monitor that PV in Bluesky to add a [suspender](https://blueskyproject.io/bluesky/state-machine.html#automated-suspension) that can interrupt the scan (via the [`bluesky.RunEngine`](https://blueskyproject.io/bluesky/run_engine_api.html?highlight=runengine)) if the permit is removed.  When the RunEngine handles an interruption involving [*movable devices*](https://blueskyproject.io/bluesky/hardware.html?highlight=movables#settable-movable-device), it sends a stop to each of the movables involved.  Thus, when the dynamic limit permit is removed, both motors are stopped and the scan pauses, waiting for external interaction to clear the condition.\n",
    "\n",
    "<details>\n",
    "[Here](https://github.com/bluesky/bluesky/blob/4fab894bddbd4a563f28852ea3171b87140ae7b9/bluesky/run_engine.py#L1034-L1036) is where bluesky tells the motors to stop:\n",
    "\n",
    "```\n",
    "            if justification is not None:\n",
    "                print(\"Justification for this suspension:\\n%s\" % justification)\n",
    "            for current_run in self._run_bundlers.values():\n",
    "                current_run.record_interruption('resume')\n",
    "            # During suspend, all motors should be stopped. Call stop() on\n",
    "            # every object we ever set().\n",
    "            self._stop_movable_objects(success=True)\n",
    "```\n",
    "\n",
    "If the RunEngine is started while the dynamic limit permit calculation is zero, the RunEngine will pause immediately.  Here is an example:\n",
    "\n",
    "```\n",
    "In [21]: uid = RE(th_tth_scan([noisy, th_tth_permit], 8, 6, points=4, min_sep=3))                               \n",
    "At least one suspender has tripped. The plan will begin when all suspenders are ready. Justification:\n",
    "    1. Signal th_tth_permit is low\n",
    "\n",
    "Suspending... To get to the prompt, hit Ctrl-C twice to pause.\n",
    "```\n",
    "\n",
    "We might need to write our own suspender if none of the [provided suspenders](https://blueskyproject.io/bluesky/state-machine.html#built-in-suspenders) will do the job we want.  There is [an example](https://github.com/BCDA-APS/apstools/blob/master/apstools/suspenders.py#L25) of a custom suspender in [apstools](https://apstools.readthedocs.io).\n",
    "\n",
    "</details>\n",
    "\n",
    "## Summary\n",
    "\n",
    "Any time the motors are moved by the bluesky RunEngine, they will be stopped if the dynamic limit permit calculation goes to zero and the scan will pause.\n"
   ]
  },
  {
   "cell_type": "markdown",
   "metadata": {},
   "source": [
    "## EPICS setup"
   ]
  },
  {
   "attachments": {},
   "cell_type": "markdown",
   "metadata": {},
   "source": [
    "We start with two motor axes defined in EPICS.  Here, we run the docker image [`prjemian/synApps`](https://hub.docker.com/r/prjemian/synapps) to make the [EPICS IOC simulator run in a docker container](https://github.com/prjemian/epics-docker/#custom-synappshttps://github.com/prjemian/epics-docker/#custom-synapps) with IOC prefix `gp:`.  These are motor PVs: `gp:m1` and `gp:m2` as shown.\n",
    "\n",
    "![EPICS motor GUI screens](resources/demo_dynamic_limits_motors.png)"
   ]
  },
  {
   "attachments": {},
   "cell_type": "markdown",
   "metadata": {},
   "source": [
    "To compute a dynamic limit between the two motor axes, we use a *userCalc* (EPICS [swait](https://htmlpreview.github.io/?https://raw.githubusercontent.com/epics-modules/calc/R3-6-1/documentation/swaitRecord.html) record), `gp:userCalc1` with settings as shown.\n",
    "\n",
    "1. Set the description field to describe what this does.\n",
    "1. Monitor each motor's readback (`.RBV`) value.  The readback value is the motor record's *best* knowledge of the actual motor position.\n",
    "1. `gp:userCalc1.INAN` = `sky:m1.RBV`, the value will be in `A` once the motor moves.\n",
    "1. `gp:userCalc1.INBN` = `sky:m2.RBV`, the value will be in `B` once the motor moves.\n",
    "1. Change the calculation's `.SCAN` field from *Passive* (calculates only when requested) to *I/O Intr* (calculate when any input changes, based on each field's *TRIGGER?* setting).\n",
    "1. Enter the angle of minimum approach (3) into the `gp:userCalc1.C` field.  This will be the PV to change this number.\n",
    "1. Enter the permit calculation: `(B-A)>=C`\n",
    "\n",
    "The calculated result (in `gp:userCalc1.VAL`, `gp:userCalc1` for short) once either of the motors move.\n",
    "\n",
    "![motion permit calculation](resources/demo_dynamic_limits_permit_calc.png)"
   ]
  },
  {
   "attachments": {},
   "cell_type": "markdown",
   "metadata": {},
   "source": [
    "To scan, we want a \"detector\".  Let's use another *userCalc* (`gp:userCalc2`) to simulate a noisy detector with a random number generator.  We'll update this detector only when either motor moves (same as with the permit calculation) setting its `.SCAN` to *I/O Intr*.  The setup is shown in the next screen view image:\n",
    "\n",
    "![noisy detector simulation](resources/demo_dynamic_limits_permit_noisy.png)"
   ]
  },
  {
   "cell_type": "markdown",
   "metadata": {},
   "source": [
    "## Bluesky setup"
   ]
  },
  {
   "cell_type": "code",
   "execution_count": 1,
   "metadata": {},
   "outputs": [
    {
     "name": "stdout",
     "output_type": "stream",
     "text": [
      "/home/prjemian/bluesky/instrument/_iconfig.py\n",
      "Activating auto-logging. Current session state plus future input saved.\n",
      "Filename       : /home/prjemian/Documents/projects/BCDA-APS/bluesky_training/docs/source/howto/.logs/ipython_console.log\n",
      "Mode           : rotate\n",
      "Output logging : True\n",
      "Raw input log  : False\n",
      "Timestamping   : True\n",
      "State          : active\n"
     ]
    },
    {
     "name": "stderr",
     "output_type": "stream",
     "text": [
      "I Tue-17:40:18 - ############################################################ startup\n",
      "I Tue-17:40:18 - logging started\n",
      "I Tue-17:40:18 - logging level = 10\n",
      "I Tue-17:40:18 - /home/prjemian/bluesky/instrument/session_logs.py\n",
      "I Tue-17:40:18 - /home/prjemian/bluesky/instrument/collection.py\n",
      "I Tue-17:40:18 - CONDA_PREFIX = /home/prjemian/.conda/envs/bluesky_2023_2\n"
     ]
    },
    {
     "name": "stdout",
     "output_type": "stream",
     "text": [
      "Exception reporting mode: Minimal\n"
     ]
    },
    {
     "name": "stderr",
     "output_type": "stream",
     "text": [
      "I Tue-17:40:18 - xmode exception level: 'Minimal'\n",
      "I Tue-17:40:18 - /home/prjemian/bluesky/instrument/mpl/notebook.py\n",
      "I Tue-17:40:18 - #### Bluesky Framework ####\n",
      "I Tue-17:40:18 - /home/prjemian/bluesky/instrument/framework/check_python.py\n",
      "I Tue-17:40:18 - /home/prjemian/bluesky/instrument/framework/check_bluesky.py\n",
      "I Tue-17:40:18 - /home/prjemian/bluesky/instrument/framework/initialize.py\n",
      "I Tue-17:40:18 - RunEngine metadata saved in directory: /home/prjemian/Bluesky_RunEngine_md\n",
      "I Tue-17:40:18 - using databroker catalog 'training'\n",
      "I Tue-17:40:18 - using ophyd control layer: pyepics\n",
      "I Tue-17:40:18 - /home/prjemian/bluesky/instrument/framework/metadata.py\n",
      "I Tue-17:40:18 - /home/prjemian/bluesky/instrument/epics_signal_config.py\n",
      "I Tue-17:40:18 - Using RunEngine metadata for scan_id\n",
      "I Tue-17:40:18 - #### Devices ####\n",
      "I Tue-17:40:18 - /home/prjemian/bluesky/instrument/devices/area_detector.py\n",
      "I Tue-17:40:18 - /home/prjemian/bluesky/instrument/devices/calculation_records.py\n",
      "I Tue-17:40:20 - /home/prjemian/bluesky/instrument/devices/fourc_diffractometer.py\n",
      "I Tue-17:40:21 - /home/prjemian/bluesky/instrument/devices/ioc_stats.py\n",
      "I Tue-17:40:21 - /home/prjemian/bluesky/instrument/devices/kohzu_monochromator.py\n",
      "I Tue-17:40:21 - /home/prjemian/bluesky/instrument/devices/motors.py\n",
      "I Tue-17:40:21 - /home/prjemian/bluesky/instrument/devices/noisy_detector.py\n",
      "I Tue-17:40:21 - /home/prjemian/bluesky/instrument/devices/scaler.py\n",
      "I Tue-17:40:22 - /home/prjemian/bluesky/instrument/devices/shutter_simulator.py\n",
      "I Tue-17:40:22 - /home/prjemian/bluesky/instrument/devices/simulated_fourc.py\n",
      "I Tue-17:40:22 - /home/prjemian/bluesky/instrument/devices/simulated_kappa.py\n",
      "I Tue-17:40:22 - /home/prjemian/bluesky/instrument/devices/sixc_diffractometer.py\n",
      "I Tue-17:40:22 - /home/prjemian/bluesky/instrument/devices/temperature_signal.py\n",
      "I Tue-17:40:22 - #### Callbacks ####\n",
      "I Tue-17:40:22 - /home/prjemian/bluesky/instrument/callbacks/spec_data_file_writer.py\n",
      "I Tue-17:40:22 - #### Plans ####\n",
      "I Tue-17:40:22 - /home/prjemian/bluesky/instrument/plans/lup_plan.py\n",
      "I Tue-17:40:22 - /home/prjemian/bluesky/instrument/plans/peak_finder_example.py\n",
      "I Tue-17:40:22 - /home/prjemian/bluesky/instrument/utils/image_analysis.py\n",
      "I Tue-17:40:22 - #### Utilities ####\n",
      "I Tue-17:40:22 - writing to SPEC file: /home/prjemian/Documents/projects/BCDA-APS/bluesky_training/docs/source/howto/20230411-174022.dat\n",
      "I Tue-17:40:22 -    >>>>   Using default SPEC file name   <<<<\n",
      "I Tue-17:40:22 -    file will be created when bluesky ends its next scan\n",
      "I Tue-17:40:22 -    to change SPEC file, use command:   newSpecFile('title')\n",
      "I Tue-17:40:22 - #### Startup is complete. ####\n"
     ]
    }
   ],
   "source": [
    "# put the instrument package into the path\n",
    "import pathlib, sys\n",
    "sys.path.append(str(pathlib.Path.home() / \"bluesky\"))\n",
    "\n",
    "# start the instrument package for data collection\n",
    "from instrument.collection import *\n",
    "from bluesky import plans as bp\n",
    "from bluesky import plan_stubs as bps\n",
    "from ophyd import Component, Device, EpicsMotor, EpicsSignal\n",
    "\n",
    "bec.disable_plots()  # not interested in graphics in this notebook\n",
    "RE.waiting_hook = None  # disable the progress bar, looks awful in notebooks"
   ]
  },
  {
   "attachments": {},
   "cell_type": "markdown",
   "metadata": {},
   "source": [
    "symbol | PV (here) | meaning\n",
    "--- | --- | ---\n",
    "`theta` | gp:m1 | (`th`) EPICS motor record\n",
    "`ttheta` | gp:m2 | (`tth`) EPICS motor record\n",
    "`th_tth_permit` | gp:userCalc1.VAL | result of EPICS calculation (swait record: 1=permit, 0=not), updates when either motor moves\n",
    "`th_tth_min` | gp:userCalc1.C | minimum permitted `tth-th`\n",
    "`noisy` | gp:userCalc2.VAL | detector (random number generator) - integer, updates when either motor moves\n",
    "`noisy_scale` | gp:userCalc2.C | scale factor for `noisy`"
   ]
  },
  {
   "attachments": {},
   "cell_type": "markdown",
   "metadata": {},
   "source": [
    "Get the IOC prefix from the instrument configuration (`iconfig`).  If not available, use `\"gp:\"` as the default."
   ]
  },
  {
   "cell_type": "code",
   "execution_count": 2,
   "metadata": {},
   "outputs": [],
   "source": [
    "GP_IOC = iconfig.get(\"GP_IOC_PREFIX\", \"gp:\")"
   ]
  },
  {
   "attachments": {},
   "cell_type": "markdown",
   "metadata": {},
   "source": [
    "Define the objects we'll use in this demo."
   ]
  },
  {
   "cell_type": "code",
   "execution_count": 3,
   "metadata": {},
   "outputs": [],
   "source": [
    "noisy = EpicsSignal(f\"{GP_IOC}userCalc2.VAL\", name=\"noisy\")\n",
    "noisy_scale = EpicsSignal(f\"{GP_IOC}userCalc2.C\", name=\"noisy_scale\")\n",
    "th_tth_min = EpicsSignal(f\"{GP_IOC}userCalc1.C\", name=\"th_tth_min\")\n",
    "th_tth_permit = EpicsSignal(f\"{GP_IOC}userCalc1.VAL\", name=\"th_tth_permit\")\n",
    "noisy.wait_for_connection()\n",
    "noisy_scale.wait_for_connection()\n",
    "th_tth_min.wait_for_connection()\n",
    "th_tth_permit.wait_for_connection()"
   ]
  },
  {
   "cell_type": "code",
   "execution_count": 4,
   "metadata": {},
   "outputs": [],
   "source": [
    "# We do this ONLY in the simulator.  Real instrument motors may need different settings!\n",
    "# For this demo, we want to set the theta & ttheta motor backlash to the default condition\n",
    "# when the IOC is first created.  We'll change this later in the demo.\n",
    "\n",
    "class BacklashMotor(EpicsMotor):\n",
    "    backlash_distance = Component(EpicsSignal, \".BDST\")\n",
    "    backlash_velocity = Component(EpicsSignal, \".BVEL\")\n",
    "\n",
    "theta = BacklashMotor(f\"{GP_IOC}m1\", name=\"theta\", labels=[\"motors\",])\n",
    "ttheta = BacklashMotor(f\"{GP_IOC}m2\", name=\"ttheta\", labels=[\"motors\",])\n",
    "theta.wait_for_connection()\n",
    "ttheta.wait_for_connection()\n",
    "%mov ttheta.backlash_distance 0  ttheta.backlash_velocity 2  ttheta.velocity 2\n",
    "%mov theta.backlash_distance 0  theta.backlash_velocity 1  theta.velocity 2"
   ]
  },
  {
   "attachments": {},
   "cell_type": "markdown",
   "metadata": {},
   "source": [
    "Setup the two swait records as shown above."
   ]
  },
  {
   "cell_type": "code",
   "execution_count": 5,
   "metadata": {},
   "outputs": [],
   "source": [
    "calcs.calc1.reset()\n",
    "calcs.calc1.description.put(\"(tth-th) permit\")\n",
    "calcs.calc1.channels.A.input_pv.put(theta.user_readback.pvname)\n",
    "calcs.calc1.channels.B.input_pv.put(ttheta.user_readback.pvname)\n",
    "calcs.calc1.channels.C.input_value.put(2.99)\n",
    "calcs.calc1.calculation.put(\"(B-A)>=C\")\n",
    "calcs.calc1.precision.put(5)\n",
    "calcs.calc1.scanning_rate.put(\"I/O Intr\")\n",
    "\n",
    "calcs.calc2.reset()\n",
    "calcs.calc2.description.put(\"noisy\")\n",
    "calcs.calc2.channels.A.input_pv.put(theta.user_readback.pvname)\n",
    "calcs.calc2.channels.B.input_pv.put(ttheta.user_readback.pvname)\n",
    "calcs.calc2.channels.C.input_value.put(100_000)\n",
    "calcs.calc2.calculation.put(\"floor(RNDM*C+.5)\")\n",
    "calcs.calc2.precision.put(0)\n",
    "calcs.calc2.scanning_rate.put(\"I/O Intr\")"
   ]
  },
  {
   "cell_type": "markdown",
   "metadata": {},
   "source": [
    "## Custom Bluesky plan for $\\theta:2\\theta$ scan\n",
    "\n",
    "Define a plan for a coupled theta:2theta scan."
   ]
  },
  {
   "cell_type": "code",
   "execution_count": 6,
   "metadata": {},
   "outputs": [],
   "source": [
    "def th_tth_scan(detectors, tth_start, tth_end, points=11, min_sep=None):\n",
    "    \"\"\"\n",
    "    run a coupled theta:2theta scan\n",
    "    \"\"\"\n",
    "    min_sep = abs(min_sep or 3)\n",
    "    old_sep = th_tth_min.get()\n",
    "\n",
    "    # check end points first!\n",
    "    if abs(tth_start/2) < min_sep:\n",
    "        print(\n",
    "            \"Starting point below allowed minimum:\"\n",
    "            f\" |{tth_start/2:.4f}| < |{min_sep:.4f}|\")\n",
    "        return\n",
    "    if abs(tth_end/2) < min_sep:\n",
    "        print(\n",
    "            \"Ending point below allowed minimum:\"\n",
    "            f\" |{tth_end/2:.4f}| < |{min_sep:.4f}|\")\n",
    "        return\n",
    "\n",
    "    yield from bps.mv(th_tth_min, min_sep)\n",
    "    yield from bp.scan(\n",
    "        detectors,\n",
    "        theta, tth_start/2, tth_end/2,\n",
    "        ttheta, tth_start, tth_end,\n",
    "        points\n",
    "    )\n",
    "\n",
    "    # reset the previous minimum\n",
    "    yield from bps.mv(th_tth_min, old_sep)"
   ]
  },
  {
   "cell_type": "markdown",
   "metadata": {},
   "source": [
    "Try a scan that we know will fail the test for minimum separation."
   ]
  },
  {
   "cell_type": "code",
   "execution_count": 7,
   "metadata": {},
   "outputs": [
    {
     "name": "stdout",
     "output_type": "stream",
     "text": [
      "Starting point below allowed minimum: |2.5000| < |3.0000|\n"
     ]
    },
    {
     "data": {
      "text/plain": [
       "()"
      ]
     },
     "execution_count": 7,
     "metadata": {},
     "output_type": "execute_result"
    }
   ],
   "source": [
    "RE(th_tth_scan([noisy, th_tth_permit], 5, 25, points=11, min_sep=3))"
   ]
  },
  {
   "cell_type": "markdown",
   "metadata": {},
   "source": [
    "Swap the two end points, that also fails."
   ]
  },
  {
   "cell_type": "code",
   "execution_count": 8,
   "metadata": {},
   "outputs": [
    {
     "name": "stdout",
     "output_type": "stream",
     "text": [
      "Ending point below allowed minimum: |2.5000| < |3.0000|\n"
     ]
    },
    {
     "data": {
      "text/plain": [
       "()"
      ]
     },
     "execution_count": 8,
     "metadata": {},
     "output_type": "execute_result"
    }
   ],
   "source": [
    "RE(th_tth_scan([noisy, th_tth_permit], 25, 5, points=11, min_sep=3))"
   ]
  },
  {
   "cell_type": "markdown",
   "metadata": {},
   "source": [
    "This scan is successful."
   ]
  },
  {
   "cell_type": "code",
   "execution_count": 9,
   "metadata": {},
   "outputs": [
    {
     "name": "stdout",
     "output_type": "stream",
     "text": [
      "\n",
      "\n",
      "Transient Scan ID: 899     Time: 2023-04-11 17:40:23\n",
      "Persistent Unique Scan ID: 'c06b7175-a885-4552-8e5b-b4a5420da7a6'\n",
      "New stream: 'label_start_motor'\n",
      "New stream: 'primary'\n",
      "+-----------+------------+------------+------------+---------------+------------+\n",
      "|   seq_num |       time |      theta |     ttheta | th_tth_permit |      noisy |\n",
      "+-----------+------------+------------+------------+---------------+------------+\n",
      "|         1 | 17:40:25.2 |     4.5000 |     9.0000 |       1.00000 |      43064 |\n",
      "|         2 | 17:40:25.5 |     4.4000 |     8.8000 |       1.00000 |      88511 |\n",
      "|         3 | 17:40:25.8 |     4.3000 |     8.6000 |       1.00000 |      41773 |\n",
      "|         4 | 17:40:26.1 |     4.2000 |     8.4000 |       1.00000 |      23136 |\n",
      "|         5 | 17:40:26.4 |     4.1000 |     8.2000 |       1.00000 |      63299 |\n",
      "|         6 | 17:40:26.7 |     4.0000 |     8.0000 |       1.00000 |      51217 |\n",
      "|         7 | 17:40:27.0 |     3.9000 |     7.8000 |       1.00000 |      34130 |\n",
      "|         8 | 17:40:27.3 |     3.8000 |     7.6000 |       1.00000 |      66149 |\n",
      "|         9 | 17:40:27.6 |     3.7000 |     7.4000 |       1.00000 |      22866 |\n",
      "|        10 | 17:40:27.9 |     3.6000 |     7.2000 |       1.00000 |      10124 |\n",
      "|        11 | 17:40:28.2 |     3.5000 |     7.0000 |       1.00000 |      37496 |\n",
      "+-----------+------------+------------+------------+---------------+------------+\n",
      "generator scan ['c06b7175'] (scan num: 899)\n"
     ]
    },
    {
     "data": {
      "text/plain": [
       "('c06b7175-a885-4552-8e5b-b4a5420da7a6',)"
      ]
     },
     "execution_count": 9,
     "metadata": {},
     "output_type": "execute_result"
    }
   ],
   "source": [
    "RE(th_tth_scan([noisy, th_tth_permit], 9, 7, points=11, min_sep=3))"
   ]
  },
  {
   "cell_type": "markdown",
   "metadata": {},
   "source": [
    "So far, have not registered a permit denied.  Have not encountered a condition where permit _would_ be denied."
   ]
  },
  {
   "attachments": {},
   "cell_type": "markdown",
   "metadata": {},
   "source": [
    "## Try to provoke a permit denied\n",
    "\n",
    "Check the backlash parameters for 2theta motor.  Use the custom motor class that provides the backlash parameters."
   ]
  },
  {
   "cell_type": "code",
   "execution_count": 10,
   "metadata": {},
   "outputs": [
    {
     "name": "stdout",
     "output_type": "stream",
     "text": [
      "theta.backlash_distance.get()=0.0 (degrees)\n",
      "theta.backlash_velocity.get()=1.0 (degrees/s)\n",
      "ttheta.backlash_distance.get()=0.0 (degrees)\n",
      "ttheta.backlash_velocity.get()=2.0 (degrees/s)\n"
     ]
    }
   ],
   "source": [
    "# these two motors have backlash support\n",
    "print(f\"{theta.backlash_distance.get()=} ({theta.motor_egu.get()})\")\n",
    "print(f\"{theta.backlash_velocity.get()=} ({theta.motor_egu.get()}/s)\")\n",
    "\n",
    "print(f\"{ttheta.backlash_distance.get()=} ({ttheta.motor_egu.get()})\")\n",
    "print(f\"{ttheta.backlash_velocity.get()=} ({ttheta.motor_egu.get()}/s)\")"
   ]
  },
  {
   "attachments": {},
   "cell_type": "markdown",
   "metadata": {},
   "source": [
    "Change (just) the backlash velocity and set a backlash distance for `ttheta`."
   ]
  },
  {
   "cell_type": "code",
   "execution_count": 11,
   "metadata": {},
   "outputs": [
    {
     "name": "stdout",
     "output_type": "stream",
     "text": [
      "ttheta.backlash_distance.get()=0.5 (degrees)\n",
      "ttheta.backlash_velocity.get()=0.2 (degrees/s)\n"
     ]
    }
   ],
   "source": [
    "%mov ttheta.backlash_distance 0.5 ttheta.backlash_velocity 0.2\n",
    "print(f\"{ttheta.backlash_distance.get()=} ({ttheta.motor_egu.get()})\")\n",
    "print(f\"{ttheta.backlash_velocity.get()=} ({ttheta.motor_egu.get()}/s)\")"
   ]
  },
  {
   "cell_type": "markdown",
   "metadata": {},
   "source": [
    "Scan again over a shorter range."
   ]
  },
  {
   "cell_type": "code",
   "execution_count": 12,
   "metadata": {},
   "outputs": [
    {
     "name": "stdout",
     "output_type": "stream",
     "text": [
      "\n",
      "\n",
      "Transient Scan ID: 900     Time: 2023-04-11 17:40:28\n",
      "Persistent Unique Scan ID: '689b3174-515d-44ba-a53a-bcf5dde78e61'\n",
      "New stream: 'label_start_motor'\n",
      "New stream: 'primary'\n",
      "+-----------+------------+------------+------------+---------------+------------+\n",
      "|   seq_num |       time |      theta |     ttheta | th_tth_permit |      noisy |\n",
      "+-----------+------------+------------+------------+---------------+------------+\n",
      "|         1 | 17:40:28.6 |     3.5000 |     7.0000 |       1.00000 |      37496 |\n",
      "|         2 | 17:40:32.2 |     3.3333 |     6.6667 |       1.00000 |      12247 |\n",
      "|         3 | 17:40:35.8 |     3.1667 |     6.3333 |       1.00000 |      85553 |\n",
      "|         4 | 17:40:39.4 |     3.0000 |     6.0000 |       0.00000 |       4211 |\n",
      "+-----------+------------+------------+------------+---------------+------------+\n",
      "generator scan ['689b3174'] (scan num: 900)\n"
     ]
    },
    {
     "data": {
      "text/plain": [
       "('689b3174-515d-44ba-a53a-bcf5dde78e61',)"
      ]
     },
     "execution_count": 12,
     "metadata": {},
     "output_type": "execute_result"
    }
   ],
   "source": [
    "RE(th_tth_scan([noisy, th_tth_permit], 7, 6, points=4, min_sep=3))"
   ]
  },
  {
   "cell_type": "markdown",
   "metadata": {},
   "source": [
    "**Still**, the permit signal never shows a zero value because it is recorded at the **end** of each step.\n",
    "\n",
    "Let's monitor the signal _during_ the scan."
   ]
  },
  {
   "cell_type": "code",
   "execution_count": 13,
   "metadata": {},
   "outputs": [],
   "source": [
    "sd.monitors.append(th_tth_permit)"
   ]
  },
  {
   "cell_type": "markdown",
   "metadata": {},
   "source": [
    "Repeat the scan, collecting the new info.  We'll inspect the monitors after the scan is done.  (The RunEngine returns a list of all the run uids created by the plan.  Capture this list.)"
   ]
  },
  {
   "cell_type": "code",
   "execution_count": 14,
   "metadata": {},
   "outputs": [
    {
     "name": "stdout",
     "output_type": "stream",
     "text": [
      "\n",
      "\n",
      "Transient Scan ID: 901     Time: 2023-04-11 17:40:39\n",
      "Persistent Unique Scan ID: 'f6e4c671-5962-467b-a5d3-d4da97d0d88d'\n",
      "New stream: 'label_start_motor'\n",
      "New stream: 'th_tth_permit_monitor'\n",
      "New stream: 'primary'\n",
      "+-----------+------------+------------+------------+---------------+------------+\n",
      "|   seq_num |       time |      theta |     ttheta | th_tth_permit |      noisy |\n",
      "+-----------+------------+------------+------------+---------------+------------+\n",
      "|         1 | 17:40:43.7 |     4.0000 |     8.0000 |       1.00000 |      77908 |\n",
      "|         2 | 17:40:47.3 |     3.6667 |     7.3333 |       1.00000 |      23212 |\n",
      "|         3 | 17:40:51.0 |     3.3333 |     6.6667 |       1.00000 |      86056 |\n",
      "|         4 | 17:40:54.7 |     3.0000 |     6.0000 |       0.00000 |      58289 |\n",
      "+-----------+------------+------------+------------+---------------+------------+\n",
      "generator scan ['f6e4c671'] (scan num: 901)\n"
     ]
    }
   ],
   "source": [
    "uids = RE(th_tth_scan([noisy, th_tth_permit], 8, 6, points=4, min_sep=3))"
   ]
  },
  {
   "cell_type": "code",
   "execution_count": 15,
   "metadata": {},
   "outputs": [
    {
     "data": {
      "text/plain": [
       "<matplotlib.collections.PathCollection at 0x7f68daf6a500>"
      ]
     },
     "execution_count": 15,
     "metadata": {},
     "output_type": "execute_result"
    },
    {
     "data": {
      "image/png": "[encoded data removed]",
      "text/plain": [
       "<Figure size 640x480 with 1 Axes>"
      ]
     },
     "metadata": {},
     "output_type": "display_data"
    }
   ],
   "source": [
    "cat[uids[0]].th_tth_permit_monitor.read()[\"th_tth_permit\"].plot.scatter()"
   ]
  },
  {
   "cell_type": "markdown",
   "metadata": {},
   "source": [
    "Aha!  The first plot shows the monitored values.  It is clear the signal **does** go to 0 and then come back to 1.\n",
    "\n",
    "Look at the monitored data.  First get the run object from databroker (indexed by the first uid in the list).  From the run object, return the monitored data in a table.  Python prints this object if it is not assigned.  All this in one step."
   ]
  },
  {
   "cell_type": "code",
   "execution_count": 16,
   "metadata": {},
   "outputs": [
    {
     "data": {
      "text/html": [
       "<div>\n",
       "<style scoped>\n",
       "    .dataframe tbody tr th:only-of-type {\n",
       "        vertical-align: middle;\n",
       "    }\n",
       "\n",
       "    .dataframe tbody tr th {\n",
       "        vertical-align: top;\n",
       "    }\n",
       "\n",
       "    .dataframe thead th {\n",
       "        text-align: right;\n",
       "    }\n",
       "</style>\n",
       "<table border=\"1\" class=\"dataframe\">\n",
       "  <thead>\n",
       "    <tr style=\"text-align: right;\">\n",
       "      <th></th>\n",
       "      <th>time</th>\n",
       "      <th>th_tth_permit</th>\n",
       "    </tr>\n",
       "    <tr>\n",
       "      <th>seq_num</th>\n",
       "      <th></th>\n",
       "      <th></th>\n",
       "    </tr>\n",
       "  </thead>\n",
       "  <tbody>\n",
       "    <tr>\n",
       "      <th>1</th>\n",
       "      <td>2023-04-11 22:40:39.815230131</td>\n",
       "      <td>0.0</td>\n",
       "    </tr>\n",
       "    <tr>\n",
       "      <th>2</th>\n",
       "      <td>2023-04-11 22:40:39.841671467</td>\n",
       "      <td>1.0</td>\n",
       "    </tr>\n",
       "    <tr>\n",
       "      <th>3</th>\n",
       "      <td>2023-04-11 22:40:39.943319798</td>\n",
       "      <td>0.0</td>\n",
       "    </tr>\n",
       "    <tr>\n",
       "      <th>4</th>\n",
       "      <td>2023-04-11 22:40:40.146294355</td>\n",
       "      <td>1.0</td>\n",
       "    </tr>\n",
       "    <tr>\n",
       "      <th>5</th>\n",
       "      <td>2023-04-11 22:40:40.247678757</td>\n",
       "      <td>1.0</td>\n",
       "    </tr>\n",
       "    <tr>\n",
       "      <th>6</th>\n",
       "      <td>2023-04-11 22:40:40.252233743</td>\n",
       "      <td>1.0</td>\n",
       "    </tr>\n",
       "    <tr>\n",
       "      <th>7</th>\n",
       "      <td>2023-04-11 22:40:40.345250845</td>\n",
       "      <td>1.0</td>\n",
       "    </tr>\n",
       "    <tr>\n",
       "      <th>8</th>\n",
       "      <td>2023-04-11 22:40:40.349938154</td>\n",
       "      <td>1.0</td>\n",
       "    </tr>\n",
       "    <tr>\n",
       "      <th>9</th>\n",
       "      <td>2023-04-11 22:40:40.447006464</td>\n",
       "      <td>1.0</td>\n",
       "    </tr>\n",
       "    <tr>\n",
       "      <th>10</th>\n",
       "      <td>2023-04-11 22:40:40.451105356</td>\n",
       "      <td>1.0</td>\n",
       "    </tr>\n",
       "    <tr>\n",
       "      <th>11</th>\n",
       "      <td>2023-04-11 22:40:48.064092397</td>\n",
       "      <td>0.0</td>\n",
       "    </tr>\n",
       "    <tr>\n",
       "      <th>12</th>\n",
       "      <td>2023-04-11 22:40:49.264009953</td>\n",
       "      <td>1.0</td>\n",
       "    </tr>\n",
       "    <tr>\n",
       "      <th>13</th>\n",
       "      <td>2023-04-11 22:40:51.572464943</td>\n",
       "      <td>0.0</td>\n",
       "    </tr>\n",
       "  </tbody>\n",
       "</table>\n",
       "</div>"
      ],
      "text/plain": [
       "                                 time  th_tth_permit\n",
       "seq_num                                             \n",
       "1       2023-04-11 22:40:39.815230131            0.0\n",
       "2       2023-04-11 22:40:39.841671467            1.0\n",
       "3       2023-04-11 22:40:39.943319798            0.0\n",
       "4       2023-04-11 22:40:40.146294355            1.0\n",
       "5       2023-04-11 22:40:40.247678757            1.0\n",
       "6       2023-04-11 22:40:40.252233743            1.0\n",
       "7       2023-04-11 22:40:40.345250845            1.0\n",
       "8       2023-04-11 22:40:40.349938154            1.0\n",
       "9       2023-04-11 22:40:40.447006464            1.0\n",
       "10      2023-04-11 22:40:40.451105356            1.0\n",
       "11      2023-04-11 22:40:48.064092397            0.0\n",
       "12      2023-04-11 22:40:49.264009953            1.0\n",
       "13      2023-04-11 22:40:51.572464943            0.0"
      ]
     },
     "execution_count": 16,
     "metadata": {},
     "output_type": "execute_result"
    }
   ],
   "source": [
    "cat.v1[uids[0]].table(\"th_tth_permit_monitor\")"
   ]
  },
  {
   "cell_type": "markdown",
   "metadata": {},
   "source": [
    "We see some zero values (and then return to one) indicating occasional removal of the dynamic limit calculation permit.  Since we only saw these when we added a backlash correction, we understand these dynamic violations of the limits are exactly what we hoped to intercept."
   ]
  },
  {
   "cell_type": "markdown",
   "metadata": {},
   "source": [
    "## Create a suspender\n",
    "\n",
    "Block the RunEngine when the permit fails.\n",
    "\n",
    "N.B. Might need to consider the special case where the permit fails when first starting the run.  Why did that fail? (We'll answer that soon.)"
   ]
  },
  {
   "cell_type": "markdown",
   "metadata": {},
   "source": [
    "Following this example: https://blueskyproject.io/bluesky/state-machine.html#example-suspend-a-plan-if-the-beam-current-dips-low,\n",
    "we'll do similar but know that our signal is a boolean, that indicates *no permit* when low.  Suspends interrupt the `RE` as long as the signal is invalid and automatically resume if the signal becomes valid again.  Let's see how this works here."
   ]
  },
  {
   "cell_type": "code",
   "execution_count": 17,
   "metadata": {},
   "outputs": [],
   "source": [
    "from bluesky.suspenders import SuspendBoolLow\n",
    "sus = SuspendBoolLow(th_tth_permit)\n",
    "RE.install_suspender(sus)"
   ]
  },
  {
   "cell_type": "markdown",
   "metadata": {},
   "source": [
    "Repeat the scan."
   ]
  },
  {
   "cell_type": "code",
   "execution_count": 18,
   "metadata": {
    "collapsed": true,
    "jupyter": {
     "outputs_hidden": true
    }
   },
   "outputs": [],
   "source": [
    "# FIXME\n",
    "# uids = RE(th_tth_scan([noisy, th_tth_permit], 8, 6, points=4, min_sep=3))"
   ]
  },
  {
   "cell_type": "markdown",
   "metadata": {},
   "source": [
    "**Failed** before the scan started, when moving the motors to the start position, with th=3.05 and tth=6.05.  We saw this in the previous scans, as well.  This is suspiciously close to the minimum separation and is likely because we moved `theta` *before* moving `ttheta`. \n",
    "\n",
    "The signal does not automatically clear since it is only computed when the motor readback value changes.  We can clear this by moving the `ttheta` motor manually.  If we change our plan logic to move `ttheta` first, we might avoid this altogether.  Yet, we could encounter the problem, depending on where the motors are before the scan or the direction of scanning.\n",
    "\n",
    "Motion is not permitted due to our computation of dynamic limits.  We must move the motors so that the limit permit is restored before we can scan.  We can move the motor from the command line. (This works since this does not use the RunEngine so the suspender is not checked.)"
   ]
  },
  {
   "cell_type": "code",
   "execution_count": 19,
   "metadata": {
    "collapsed": true,
    "jupyter": {
     "outputs_hidden": true
    }
   },
   "outputs": [
    {
     "name": "stdout",
     "output_type": "stream",
     "text": [
      "Suspender SuspendBoolLow(EpicsSignal(read_pv='gp:userCalc1.VAL', name='th_tth_permit', value=1.0, timestamp=1681252855.675957, tolerance=1e-05, auto_monitor=True, string=False, write_pv='gp:userCalc1.VAL', limits=False, put_complete=False), sleep=0, pre_plan=None, post_plan=None,tripped_message=) reports a return to nominal conditions. Will sleep for 0 seconds and then release suspension at 2023-04-11 17:40:55.\n",
      "ttheta:  10%|██▌                       | 0.01/0.1 [00:00<00:01, 20.18s/degrees]\n",
      "ttheta:  23%|█████▍                  | 0.0226/0.1 [00:00<00:01, 13.29s/degrees]\n",
      "ttheta:  40%|█████████▋              | 0.0402/0.1 [00:00<00:00,  9.97s/degrees]\n",
      "ttheta:  60%|██████████████▍         | 0.0602/0.1 [00:00<00:00,  8.33s/degrees]\n",
      "ttheta:  78%|██████████████████▋     | 0.0777/0.1 [00:00<00:00,  7.73s/degrees]\n",
      "ttheta:  90%|█████████████████████▋  | 0.0902/0.1 [00:00<00:00,  7.77s/degrees]\n",
      "ttheta:  98%|███████████████████████▍| 0.0976/0.1 [00:00<00:00,  8.23s/degrees]\n",
      "ttheta: 100%|███████████████████████████| 0.1/0.1 [00:00<00:00,  9.01s/degrees]\n",
      "ttheta [In progress. No progress bar available.]                               \n",
      "                                                                               \n"
     ]
    }
   ],
   "source": [
    "%mov ttheta 6.1"
   ]
  },
  {
   "cell_type": "code",
   "execution_count": 20,
   "metadata": {
    "collapsed": true,
    "jupyter": {
     "outputs_hidden": true
    }
   },
   "outputs": [],
   "source": [
    "# FIXME\n",
    "# uids = RE(th_tth_scan([noisy, th_tth_permit], 8, 6, points=4, min_sep=3))"
   ]
  },
  {
   "cell_type": "markdown",
   "metadata": {},
   "source": [
    "**Failed** during the scan when `theta=3.23` and `ttheta=6.28` and the command line is not responsive.  Move `ttheta` from the GUI in another window."
   ]
  },
  {
   "cell_type": "markdown",
   "metadata": {},
   "source": [
    "## Conclusion\n",
    "\n",
    "We can avoid an anticipated collision of instrument hardware by providing a RunEngine suspender tied to the value of an EPICS PV."
   ]
  }
 ],
 "metadata": {
  "kernelspec": {
   "display_name": "Python 3",
   "language": "python",
   "name": "python3"
  },
  "language_info": {
   "codemirror_mode": {
    "name": "ipython",
    "version": 3
   },
   "file_extension": ".py",
   "mimetype": "text/x-python",
   "name": "python",
   "nbconvert_exporter": "python",
   "pygments_lexer": "ipython3",
   "version": "3.10.10"
  }
 },
 "nbformat": 4,
 "nbformat_minor": 4
}
