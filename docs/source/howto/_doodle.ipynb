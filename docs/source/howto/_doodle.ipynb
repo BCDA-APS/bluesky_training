{
 "cells": [
  {
   "attachments": {},
   "cell_type": "markdown",
   "metadata": {},
   "source": [
    "# Linux Command & Wait for Finish\n",
    "\n",
    "Demonstrate how to launch a (Linux bash) shell command from Python and wait for\n",
    "it to finish.  This involves setting a command and receiving two different\n",
    "values (_stdout_ and _stderr_).  A custom subclass of `ophyd.SignalRO` executes\n",
    "the shell command and processes the results.  We add a `parse_response(stdout,\n",
    "stderr)` method so any subclass can easily process the string output result of\n",
    "the Linux command.\n",
    "\n",
    "To simulate a Linux command to be run, a bash shell script (`doodle.sh`) was\n",
    "created that runs a countdown (default: 5 seconds) printing to stdout (the\n",
    "terminal console).\n",
    "\n",
    "Later, we replace the `doodle.sh` with other common shell commands.\n"
   ]
  },
  {
   "cell_type": "markdown",
   "metadata": {},
   "source": [
    "## 1. Example shell command\n",
    "The example shell command is a bash script that executes a 5 second countdown.  The script is shown first:"
   ]
  },
  {
   "cell_type": "code",
   "execution_count": 1,
   "metadata": {},
   "outputs": [
    {
     "name": "stdout",
     "output_type": "stream",
     "text": [
      "#!/bin/bash\n",
      "\n",
      "echo $(date): Doodle demonstration starting\n",
      "\n",
      "# optional argument is number of seconds to sleep, default is 5\n",
      "counter=${1:-5}\n",
      "\n",
      "until [ $counter -eq 0 ]; do\n",
      "    echo $(date): countdown ${counter}\n",
      "    sleep 1\n",
      "    ((counter--))\n",
      "done\n",
      "echo $(date): Doodle demonstration complete\n"
     ]
    }
   ],
   "source": [
    "!cat ./doodle.sh"
   ]
  },
  {
   "cell_type": "markdown",
   "metadata": {},
   "source": [
    "Now, run it to show how it works."
   ]
  },
  {
   "cell_type": "code",
   "execution_count": 2,
   "metadata": {},
   "outputs": [
    {
     "name": "stdout",
     "output_type": "stream",
     "text": [
      "Fri Nov 8 03:54:17 PM CST 2024: Doodle demonstration starting\n",
      "Fri Nov 8 03:54:17 PM CST 2024: countdown 5\n",
      "Fri Nov 8 03:54:18 PM CST 2024: countdown 4\n",
      "Fri Nov 8 03:54:19 PM CST 2024: countdown 3\n",
      "Fri Nov 8 03:54:20 PM CST 2024: countdown 2\n",
      "Fri Nov 8 03:54:21 PM CST 2024: countdown 1\n",
      "Fri Nov 8 03:54:22 PM CST 2024: Doodle demonstration complete\n"
     ]
    }
   ],
   "source": [
    "!bash ./doodle.sh"
   ]
  },
  {
   "cell_type": "markdown",
   "metadata": {},
   "source": [
    "## 2. Run from Python `subprocess`"
   ]
  },
  {
   "cell_type": "markdown",
   "metadata": {},
   "source": [
    "There are [several\n",
    "possibilities](https://stackoverflow.com/questions/89228/how-do-i-execute-a-program-or-call-a-system-command)\n",
    "to run a shell command from Python.  For various reasons, we choose\n",
    "`subprocess.Popen()` which allows us to start the command in one step, then wait\n",
    "for the process to complete in another step.\n",
    "\n",
    "For more details, see the\n",
    "[documentation](https://docs.python.org/3/library/subprocess.html#subprocess.Popen)."
   ]
  },
  {
   "cell_type": "code",
   "execution_count": 3,
   "metadata": {},
   "outputs": [],
   "source": [
    "import subprocess\n",
    "import time"
   ]
  },
  {
   "cell_type": "markdown",
   "metadata": {},
   "source": [
    "First step: Start the Linux command."
   ]
  },
  {
   "cell_type": "code",
   "execution_count": 4,
   "metadata": {},
   "outputs": [],
   "source": [
    "command = \"bash ./doodle.sh\"\n",
    "\n",
    "# Start the command\n",
    "t0 = time.time()\n",
    "process = subprocess.Popen(\n",
    "    command,\n",
    "    shell=True,\n",
    "    stdin=subprocess.PIPE,\n",
    "    stdout=subprocess.PIPE,\n",
    "    stderr=subprocess.PIPE,\n",
    ")"
   ]
  },
  {
   "cell_type": "markdown",
   "metadata": {},
   "source": [
    "Second step: Wait for the command to finish."
   ]
  },
  {
   "cell_type": "code",
   "execution_count": 5,
   "metadata": {},
   "outputs": [
    {
     "name": "stdout",
     "output_type": "stream",
     "text": [
      "duration=5.0261s\n"
     ]
    }
   ],
   "source": [
    "# wait for the command to finish and collect the outputs.\n",
    "stdout, stderr = process.communicate()\n",
    "duration = time.time() - t0\n",
    "print(f\"{duration=:.4f}s\")"
   ]
  },
  {
   "cell_type": "markdown",
   "metadata": {},
   "source": [
    "Show the results."
   ]
  },
  {
   "cell_type": "code",
   "execution_count": 6,
   "metadata": {},
   "outputs": [
    {
     "name": "stdout",
     "output_type": "stream",
     "text": [
      "stdout = b'Fri Nov 8 03:54:22 PM CST 2024: Doodle demonstration starting\\nFri Nov 8 03:54:22 PM CST 2024: countdown 5\\nFri Nov 8 03:54:23 PM CST 2024: countdown 4\\nFri Nov 8 03:54:24 PM CST 2024: countdown 3\\nFri Nov 8 03:54:25 PM CST 2024: countdown 2\\nFri Nov 8 03:54:26 PM CST 2024: countdown 1\\nFri Nov 8 03:54:27 PM CST 2024: Doodle demonstration complete\\n'\n",
      "stderr = b''\n"
     ]
    }
   ],
   "source": [
    "print(f\"{stdout = }\")\n",
    "print(f\"{stderr = }\")"
   ]
  },
  {
   "cell_type": "markdown",
   "metadata": {},
   "source": [
    "Convert from byte strings to plain [utf8](https://en.wikipedia.org/wiki/UTF-8)\n",
    "text."
   ]
  },
  {
   "cell_type": "code",
   "execution_count": 7,
   "metadata": {},
   "outputs": [
    {
     "name": "stdout",
     "output_type": "stream",
     "text": [
      "stdout\n",
      "Fri Nov 8 03:54:22 PM CST 2024: Doodle demonstration starting\n",
      "Fri Nov 8 03:54:22 PM CST 2024: countdown 5\n",
      "Fri Nov 8 03:54:23 PM CST 2024: countdown 4\n",
      "Fri Nov 8 03:54:24 PM CST 2024: countdown 3\n",
      "Fri Nov 8 03:54:25 PM CST 2024: countdown 2\n",
      "Fri Nov 8 03:54:26 PM CST 2024: countdown 1\n",
      "Fri Nov 8 03:54:27 PM CST 2024: Doodle demonstration complete\n",
      "\n",
      "stderr\n",
      "\n"
     ]
    }
   ],
   "source": [
    "# byte strings, must decode to see as string\n",
    "print(f\"stdout\\n{stdout.decode('utf8')}\")\n",
    "print(f\"stderr\\n{stderr.decode('utf8')}\")"
   ]
  },
  {
   "cell_type": "markdown",
   "metadata": {},
   "source": [
    "## 3. As `ophyd.SignalRO`\n",
    "\n",
    "Let's show how to use a *read-only* Signal (`SignalRO`) to execute a\n",
    "pre-configured Linux shell command.  \n",
    "\n",
    "We'll execute the shell command in the Signal's `.trigger()` method using\n",
    "`subprocess.communicate()` in a thread.  The `.trigger()` method returns a\n",
    "`Status` object.  Once the Linux command finishes, any text returned by the\n",
    "command will be stored in the Signal's `._readback` attribute (to be returned by\n",
    "the `.get()` method).  Any error output will be stored in the `.stderr`\n",
    "attribute.\n",
    "\n",
    "We redefine the `.trigger()` method in a custom *subclass* of\n",
    "`ophyd.SignalRO`."
   ]
  },
  {
   "cell_type": "code",
   "execution_count": null,
   "metadata": {},
   "outputs": [],
   "source": [
    "import ophyd\n",
    "import threading\n",
    "\n",
    "\n",
    "class ProcessSignal(ophyd.SignalRO):\n",
    "    \"\"\"Signal that returns output from a shell command.\"\"\"\n",
    "\n",
    "    command = \"bash doodle.sh\"\n",
    "    status = None\n",
    "\n",
    "    def parse_response(self, stdout, stderr):\n",
    "        self._readback = stdout.decode(\"utf8\")\n",
    "        self.stderr = stderr.decode(\"utf8\")\n",
    "\n",
    "    def trigger(self):\n",
    "        self.status = ophyd.status.Status()\n",
    "\n",
    "        def action():\n",
    "            \"\"\"Calls command and waits for it to complete.\"\"\"\n",
    "            process = subprocess.Popen(\n",
    "                self.command,\n",
    "                shell=True,\n",
    "                stdin=subprocess.PIPE,\n",
    "                stdout=subprocess.PIPE,\n",
    "                stderr=subprocess.PIPE,\n",
    "            )\n",
    "\n",
    "            # wait for the command to finish and collect the outputs.\n",
    "            self.parse_response(*process.communicate())\n",
    "            self.status._finished(success=True)\n",
    "\n",
    "        threading.Thread(target=action, daemon=True).start()\n",
    "        return self.status  # returns right away"
   ]
  },
  {
   "cell_type": "markdown",
   "metadata": {},
   "source": [
    "Create the `signal` object.  Print its initial value."
   ]
  },
  {
   "cell_type": "code",
   "execution_count": 9,
   "metadata": {},
   "outputs": [
    {
     "name": "stdout",
     "output_type": "stream",
     "text": [
      "signal.get()=0.0\n"
     ]
    }
   ],
   "source": [
    "t0 = time.time()\n",
    "signal = ProcessSignal(name=\"signal\")\n",
    "print(f\"{signal.get()=}\")"
   ]
  },
  {
   "cell_type": "markdown",
   "metadata": {},
   "source": [
    "The default value of a new `SignalRO` object is `0.0`.  That will change once\n",
    "`signal` has completed its first Linux command.\n",
    "\n",
    "Trigger the `signal` (run its `.trigger()` method).  This returns immediately,\n",
    "before the shell command finishes.  The return result is a `Status` object that\n",
    "`bluesky` will use to wait for the `.trigger()` operation to finish.\n",
    "\n",
    "Until the Linux command finishes, the value returned by `signal.get()` is\n",
    "still unchanged."
   ]
  },
  {
   "cell_type": "code",
   "execution_count": 10,
   "metadata": {},
   "outputs": [
    {
     "name": "stdout",
     "output_type": "stream",
     "text": [
      "signal.get()=0.0\n",
      "status = Status(obj=None, done=False, success=False)\n",
      "time.time()-t0 = 0.009106159210205078\n"
     ]
    }
   ],
   "source": [
    "status = signal.trigger()\n",
    "print(f\"{signal.get()=}\")\n",
    "print(f\"{status = }\")\n",
    "print(f\"{time.time()-t0 = }\")"
   ]
  },
  {
   "cell_type": "markdown",
   "metadata": {},
   "source": [
    "We use the `status` object to wait for the Linux command to complete. The shell\n",
    "script runs for 5 seconds, the status object is done in that time plus a smidgen."
   ]
  },
  {
   "cell_type": "code",
   "execution_count": 11,
   "metadata": {},
   "outputs": [
    {
     "name": "stdout",
     "output_type": "stream",
     "text": [
      "status = Status(obj=None, done=False, success=False)\n",
      "time.time()-t0 = 0.016607999801635742\n",
      "signal.get()='Fri Nov 8 03:54:27 PM CST 2024: Doodle demonstration starting\\nFri Nov 8 03:54:27 PM CST 2024: countdown 5\\nFri Nov 8 03:54:28 PM CST 2024: countdown 4\\nFri Nov 8 03:54:29 PM CST 2024: countdown 3\\nFri Nov 8 03:54:30 PM CST 2024: countdown 2\\nFri Nov 8 03:54:31 PM CST 2024: countdown 1\\nFri Nov 8 03:54:32 PM CST 2024: Doodle demonstration complete\\n'\n",
      "status = Status(obj=None, done=True, success=True)\n",
      "time.time()-t0 = 5.027081727981567\n"
     ]
    }
   ],
   "source": [
    "print(f\"{status = }\")\n",
    "print(f\"{time.time()-t0 = }\")\n",
    "status.wait()\n",
    "\n",
    "print(f\"{signal.get()=}\")\n",
    "print(f\"{status = }\")\n",
    "print(f\"{time.time()-t0 = }\")"
   ]
  },
  {
   "cell_type": "markdown",
   "metadata": {},
   "source": [
    "## Linux system uptime as a Signal\n",
    "\n",
    "The elapsed time since the Linux workstation was last started is updated in\n",
    "virtual file `/proc/uptime`.  The file has two string values: `uptime`\n",
    "`idletime`.  We want the first one.\n",
    "\n",
    "We can modify the `ProcessSignal` class and change the `command` and the\n",
    "`parse_response()` method.\n",
    "\n",
    "For more details, see the [documentation](https://www.man7.org/linux/man-pages/man5/proc_uptime.5.html)."
   ]
  },
  {
   "cell_type": "code",
   "execution_count": 13,
   "metadata": {},
   "outputs": [],
   "source": [
    "class UptimeSignal(ProcessSignal):\n",
    "    command = \"cat /proc/uptime\"\n",
    "\n",
    "    def parse_response(self, stdout, stderr):\n",
    "        self._readback = float(stdout.decode(\"utf8\").split()[0])\n",
    "        self.stderr = stderr.decode(\"utf8\")\n",
    "\n",
    "\n",
    "uptime = UptimeSignal(name=\"uptime\")"
   ]
  },
  {
   "cell_type": "markdown",
   "metadata": {},
   "source": [
    "## Record a time series with the Bluesky Run Engine\n",
    "\n",
    "When we record a time series of the system uptime, we expect a straight line\n",
    "plot.  Try it.  First, setup the minimum required bluesky objects."
   ]
  },
  {
   "cell_type": "code",
   "execution_count": 14,
   "metadata": {},
   "outputs": [
    {
     "data": {
      "text/plain": [
       "0"
      ]
     },
     "execution_count": 14,
     "metadata": {},
     "output_type": "execute_result"
    }
   ],
   "source": [
    "from bluesky import RunEngine, plans as bp\n",
    "from bluesky.callbacks.best_effort import BestEffortCallback\n",
    "\n",
    "RE = RunEngine()\n",
    "bec = BestEffortCallback()\n",
    "RE.subscribe(bec)"
   ]
  },
  {
   "cell_type": "markdown",
   "metadata": {},
   "source": [
    "Record the time series.  Here, `uptime` is a detector.  At each step, the\n",
    "`count` plan will trigger it, wait for the trigger to complete, then read the\n",
    "signal with its `.read()` method."
   ]
  },
  {
   "cell_type": "code",
   "execution_count": 15,
   "metadata": {},
   "outputs": [
    {
     "name": "stdout",
     "output_type": "stream",
     "text": [
      "\n",
      "\n",
      "Transient Scan ID: 1     Time: 2024-11-08 15:54:33\n",
      "Persistent Unique Scan ID: 'ff5f04b0-f0ef-483f-8631-39a2f1b49b4f'\n",
      "New stream: 'primary'\n",
      "+-----------+------------+------------+\n",
      "|   seq_num |       time |     uptime |\n",
      "+-----------+------------+------------+\n",
      "|         1 | 15:54:33.3 | 628013.840 |\n",
      "|         2 | 15:54:34.3 | 628014.830 |\n",
      "|         3 | 15:54:35.3 | 628015.830 |\n",
      "|         4 | 15:54:36.3 | 628016.840 |\n",
      "|         5 | 15:54:37.3 | 628017.840 |\n",
      "+-----------+------------+------------+\n",
      "generator count ['ff5f04b0'] (scan num: 1)\n",
      "\n",
      "\n",
      "\n"
     ]
    },
    {
     "data": {
      "text/plain": [
       "('ff5f04b0-f0ef-483f-8631-39a2f1b49b4f',)"
      ]
     },
     "execution_count": 15,
     "metadata": {},
     "output_type": "execute_result"
    },
    {
     "data": {
      "image/png": "[encoded data removed]",
      "text/plain": [
       "<Figure size 500x500 with 1 Axes>"
      ]
     },
     "metadata": {},
     "output_type": "display_data"
    }
   ],
   "source": [
    "RE(bp.count([uptime], num=5, delay=1))"
   ]
  },
  {
   "cell_type": "markdown",
   "metadata": {},
   "source": [
    "## Summary\n",
    "\n",
    "`SignalRO` is the right class to use for a shell command that returns a single value.\n",
    "\n",
    "One might think the `ophyd.Signal` class could be used where the command would\n",
    "be put and the returned value would be as above.  The problem is the design of\n",
    "the `Signal.put()` method.\n",
    "\n",
    "The `ophyd.Signal.put()` method requests the Signal to go to the `value` and\n",
    "then waits for it to get there (that's when it uses up its status object).  The\n",
    "output of the shell command will *never* become the value of the command string.\n",
    "If we were to set `obj._readback` to be the output from the shell command, then\n",
    "the `put()` method would never return (it hangs because the readback value does\n",
    "not equal the input value).\n",
    "\n",
    "`SignalRO`, not `Signal`, is the right interface."
   ]
  }
 ],
 "metadata": {
  "kernelspec": {
   "display_name": "bluesky_2024_3",
   "language": "python",
   "name": "python3"
  },
  "language_info": {
   "codemirror_mode": {
    "name": "ipython",
    "version": 3
   },
   "file_extension": ".py",
   "mimetype": "text/x-python",
   "name": "python",
   "nbconvert_exporter": "python",
   "pygments_lexer": "ipython3",
   "version": "3.11.10"
  },
  "orig_nbformat": 2
 },
 "nbformat": 4,
 "nbformat_minor": 2
}
