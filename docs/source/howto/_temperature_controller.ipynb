{
 "cells": [
  {
   "cell_type": "markdown",
   "metadata": {},
   "source": [
    "# Simulate a temperature controller with an EPICS `swait` record\n",
    "\n",
    "Learn how to create a simulated [temperature\n",
    "controller](https://bcda-aps.github.io/bluesky_training/instrument/describe_instrument.html#temperature)\n",
    "with Bluesky and an EPICS\n",
    "[swait](https://bcda-aps.github.io/apstools/1.6.17/api/synApps/_swait.html)\n",
    "record.  We'll show how to simulate the controller in EPICS and use that\n",
    "simulation as a *positioner* in Bluesky.\n",
    "\n",
    "In this simulation, the `swait` record provides the computations for the\n",
    "feedback loop that updates the simulated temperature."
   ]
  },
  {
   "cell_type": "markdown",
   "metadata": {},
   "source": [
    "## Connect with a `swait` record\n",
    "\n",
    "We'll connect with the `gp:userCalc18` PV, an instance of an EPICS `swait`\n",
    "record in our example IOC.  We'll create the ophyd controller object using the\n",
    "[SwaitRecord](https://bcda-aps.github.io/apstools/latest/api/synApps/_swait.html#apstools.synApps.swait.SwaitRecord)\n",
    "structure from the [apstools](https://bcda-aps.github.io/apstools/latest/)\n",
    "package."
   ]
  },
  {
   "cell_type": "code",
   "execution_count": 1,
   "metadata": {},
   "outputs": [
    {
     "name": "stdout",
     "output_type": "stream",
     "text": [
      "controller.read()=OrderedDict([('simulator_calculated_value', {'value': 39.97393759060044, 'timestamp': 1703457763.712367})])\n",
      "controller.read_configuration()=OrderedDict([('simulator_description', {'value': 'temperature', 'timestamp': 1703457763.712367}), ('simulator_scanning_rate', {'value': 6, 'timestamp': 1703457763.712367}), ('simulator_disable_value', {'value': 0, 'timestamp': 1703457763.712367}), ('simulator_scan_disable_input_link_value', {'value': 1, 'timestamp': 1703457763.712367}), ('simulator_scan_disable_value_input_link', {'value': 'gp:userCalcEnable.VAL CA MS', 'timestamp': 1703457763.712367}), ('simulator_forward_link', {'value': '0', 'timestamp': 1703457763.712367}), ('simulator_device_type', {'value': 0, 'timestamp': 1703457763.712367}), ('simulator_alarm_status', {'value': 0, 'timestamp': 1703457763.712367}), ('simulator_alarm_severity', {'value': 0, 'timestamp': 1703457763.712367}), ('simulator_new_alarm_status', {'value': 0, 'timestamp': 1703457763.712367}), ('simulator_new_alarm_severity', {'value': 0, 'timestamp': 1703457763.712367}), ('simulator_disable_alarm_severity', {'value': 0, 'timestamp': 1703457763.712367}), ('simulator_precision', {'value': 5, 'timestamp': 1703457763.712367}), ('simulator_high_operating_range', {'value': 0.0, 'timestamp': 1703457763.712367}), ('simulator_low_operating_range', {'value': 0.0, 'timestamp': 1703457763.712367}), ('simulator_calculation', {'value': 'A+max(-D,min(D,(B-A)))+C*(RNDM-0.5)', 'timestamp': 1703457763.712367}), ('simulator_output_link_pv', {'value': '', 'timestamp': 1703457763.712367}), ('simulator_output_location_name', {'value': '', 'timestamp': 1703457763.712367}), ('simulator_output_location_data', {'value': 0.0, 'timestamp': 1703457763.712367}), ('simulator_output_data_option', {'value': 0, 'timestamp': 1703457763.712367}), ('simulator_output_execute_option', {'value': 0, 'timestamp': 1703457763.712367}), ('simulator_output_execution_delay', {'value': 0.0, 'timestamp': 1703457763.712367}), ('simulator_event_to_issue', {'value': 0, 'timestamp': 1703457763.712367}), ('simulator_channels_A_input_value', {'value': 41.442526894026095, 'timestamp': 1703457763.712367}), ('simulator_channels_A_input_pv', {'value': 'gp:userCalc18.VAL', 'timestamp': 1703457763.712367}), ('simulator_channels_A_input_trigger', {'value': 1, 'timestamp': 1703457763.712367}), ('simulator_channels_B_input_value', {'value': 40.97039749752041, 'timestamp': 1703457763.712367}), ('simulator_channels_B_input_pv', {'value': '', 'timestamp': 1703457763.712367}), ('simulator_channels_B_input_trigger', {'value': 1, 'timestamp': 1703457763.712367}), ('simulator_channels_C_input_value', {'value': 2.0, 'timestamp': 1703457763.712367}), ('simulator_channels_C_input_pv', {'value': '', 'timestamp': 1703457763.712367}), ('simulator_channels_C_input_trigger', {'value': 1, 'timestamp': 1703457763.712367}), ('simulator_channels_D_input_value', {'value': 2.0, 'timestamp': 1703457763.712367}), ('simulator_channels_D_input_pv', {'value': '', 'timestamp': 1703457763.712367}), ('simulator_channels_D_input_trigger', {'value': 1, 'timestamp': 1703457763.712367}), ('simulator_channels_E_input_value', {'value': 0.0, 'timestamp': 1703457763.712367}), ('simulator_channels_E_input_pv', {'value': '', 'timestamp': 1703457763.712367}), ('simulator_channels_E_input_trigger', {'value': 1, 'timestamp': 1703457763.712367}), ('simulator_channels_F_input_value', {'value': 0.0, 'timestamp': 1703457763.712367}), ('simulator_channels_F_input_pv', {'value': '', 'timestamp': 1703457763.712367}), ('simulator_channels_F_input_trigger', {'value': 1, 'timestamp': 1703457763.712367}), ('simulator_channels_G_input_value', {'value': 0.0, 'timestamp': 1703457763.712367}), ('simulator_channels_G_input_pv', {'value': '', 'timestamp': 1703457763.712367}), ('simulator_channels_G_input_trigger', {'value': 1, 'timestamp': 1703457763.712367}), ('simulator_channels_H_input_value', {'value': 0.0, 'timestamp': 1703457763.712367}), ('simulator_channels_H_input_pv', {'value': '', 'timestamp': 1703457763.712367}), ('simulator_channels_H_input_trigger', {'value': 1, 'timestamp': 1703457763.712367}), ('simulator_channels_I_input_value', {'value': 0.0, 'timestamp': 1703457763.712367}), ('simulator_channels_I_input_pv', {'value': '', 'timestamp': 1703457763.712367}), ('simulator_channels_I_input_trigger', {'value': 1, 'timestamp': 1703457763.712367}), ('simulator_channels_J_input_value', {'value': 0.0, 'timestamp': 1703457763.712367}), ('simulator_channels_J_input_pv', {'value': '', 'timestamp': 1703457763.712367}), ('simulator_channels_J_input_trigger', {'value': 1, 'timestamp': 1703457763.712367}), ('simulator_channels_K_input_value', {'value': 0.0, 'timestamp': 1703457763.712367}), ('simulator_channels_K_input_pv', {'value': '', 'timestamp': 1703457763.712367}), ('simulator_channels_K_input_trigger', {'value': 1, 'timestamp': 1703457763.712367}), ('simulator_channels_L_input_value', {'value': 0.0, 'timestamp': 1703457763.712367}), ('simulator_channels_L_input_pv', {'value': '', 'timestamp': 1703457763.712367}), ('simulator_channels_L_input_trigger', {'value': 1, 'timestamp': 1703457763.712367})])\n"
     ]
    }
   ],
   "source": [
    "from apstools.synApps import SwaitRecord\n",
    "\n",
    "controller = SwaitRecord(\"gp:userCalc18\", name=\"simulator\")\n",
    "controller.wait_for_connection()\n",
    "print(f\"{controller.read()=}\\n{controller.read_configuration()=}\")"
   ]
  },
  {
   "cell_type": "markdown",
   "metadata": {},
   "source": [
    "## Create a function to setup the controller\n",
    "\n",
    "Create a function to configure the `swait` record as a simulated temperature\n",
    "controller.  The \"controller\" will update the current computed value (the\n",
    "*readback*) at `period` based on the setpoint.  Note that `period` here is one\n",
    "of the preset EPICS `.SCAN` field values.  Pick from any of these values (from\n",
    "the table at [this\n",
    "reference](https://epics-base.github.io/epics-base/menuScan.html)):\n",
    "\n",
    "- `\"10 second\"`\n",
    "- `\"5 second\"`\n",
    "- `\"2 second\"`\n",
    "- `\"1 second\"`\n",
    "- `\".5 second\"`\n",
    "- `\".2 second\"`\n",
    "- `\".1 second\"`\n",
    "\n",
    "Be certain to use the exact text string as shown.\n",
    "\n",
    "The `swait` record will compute the step size based on the difference between\n",
    "the previous value and the setpoint, limited to the maximum step size.  A noise\n",
    "factor is applied to each new computation.  The fields of the `swait` record in\n",
    "this simulation are described in the next table:\n",
    "\n",
    "field | description\n",
    "--- | ---\n",
    "`.VAL` | readback\n",
    "`.B` | setpoint\n",
    "`.A` | previous value\n",
    "`.C` | noise factor\n",
    "`.D` | maximum step size\n",
    "`.CALC` | calculation expression\n",
    "`.SCAN` | record scan `period`\n",
    "\n",
    "The calculation will simulate a feedback loop which reduces the\n",
    "value of `abs(readback - setpoint)`."
   ]
  },
  {
   "cell_type": "code",
   "execution_count": 2,
   "metadata": {},
   "outputs": [],
   "source": [
    "def setup_controller(\n",
    "    swait,\n",
    "    setpoint=None,\n",
    "    label=\"controller\",\n",
    "    noise=2,\n",
    "    period=\"1 second\",\n",
    "    max_change=2\n",
    "):\n",
    "    swait.reset()  # remove any prior configuration\n",
    "    swait.description.put(label)\n",
    "    swait.channels.A.input_pv.put(swait.calculated_value.pvname)\n",
    "    if setpoint is not None:\n",
    "        swait.channels.A.input_value.put(setpoint)  # readback\n",
    "        swait.channels.B.input_value.put(setpoint)  # setpoint\n",
    "    swait.channels.C.input_value.put(noise)\n",
    "    swait.channels.D.input_value.put(max_change)\n",
    "    swait.scanning_rate.put(period)\n",
    "    swait.calculation.put(\"A+max(-D,min(D,(B-A)))+C*(RNDM-0.5)\")"
   ]
  },
  {
   "cell_type": "markdown",
   "metadata": {},
   "source": [
    "## Setup our controller\n",
    "\n",
    "Setup our controller with a (randomly-selected) setpoint and scan period. Watch\n",
    "it start for a short time.  Gradually, the readback will approach the setpoint\n",
    "value."
   ]
  },
  {
   "cell_type": "code",
   "execution_count": 3,
   "metadata": {},
   "outputs": [
    {
     "name": "stdout",
     "output_type": "stream",
     "text": [
      "1.00s: readback=1.16 setpoint=18.73\n",
      "2.00s: readback=2.77 setpoint=18.73\n",
      "3.01s: readback=5.29 setpoint=18.73\n",
      "4.01s: readback=6.56 setpoint=18.73\n",
      "5.02s: readback=9.45 setpoint=18.73\n"
     ]
    }
   ],
   "source": [
    "import random\n",
    "import time\n",
    "\n",
    "setup_controller(controller, 10 + 30 * random.random(), period=\"1 second\", label=\"temperature\")\n",
    "\n",
    "t0 = time.time()\n",
    "for i in range(5):\n",
    "    time.sleep(1)\n",
    "    print(\n",
    "        f\"{time.time() - t0:.2f}s:\"\n",
    "        f\" readback={controller.calculated_value.get():.2f}\"\n",
    "        f\" setpoint={controller.channels.B.input_value.get():.2f}\"\n",
    "    )"
   ]
  },
  {
   "cell_type": "markdown",
   "metadata": {},
   "source": [
    "## temperature as a positioner\n",
    "\n",
    "A *positioner* is a device that has both a *readback* (the current measured value) and a *setpoint* (the expected, or demanded, value of the device).  These are available as EPICS PVs from our `swait` record.  We can obtain these directly from our ophyd `controller` object:\n",
    "\n",
    "signal | swait field | ophyd object\n",
    "--- | --- | ---\n",
    "readback | `.VAL` | `controller.calculated_value.pvname`\n",
    "setpoint | `.B` | `controller.channels.B.input_value.pvname`\n",
    "\n",
    "We'll create the ophyd `temperature` positioner object using the\n",
    "[PVPositionerSoftDoneWithStop](https://bcda-aps.github.io/apstools/latest/api/_devices.html#apstools.devices.positioner_soft_done.PVPositionerSoftDoneWithStop)\n",
    "structure from the [apstools](https://bcda-aps.github.io/apstools/latest/)\n",
    "package."
   ]
  },
  {
   "cell_type": "code",
   "execution_count": 4,
   "metadata": {},
   "outputs": [
    {
     "name": "stdout",
     "output_type": "stream",
     "text": [
      "temperature.position=9.453620202944991\n"
     ]
    }
   ],
   "source": [
    "from apstools.devices import PVPositionerSoftDoneWithStop\n",
    "\n",
    "temperature = PVPositionerSoftDoneWithStop(\n",
    "    \"\",\n",
    "    name=\"temperature\",\n",
    "    readback_pv=controller.calculated_value.pvname,\n",
    "    setpoint_pv=controller.channels.B.input_value.pvname,\n",
    "    tolerance=1,\n",
    ")\n",
    "temperature.wait_for_connection()\n",
    "print(f\"{temperature.position=}\")"
   ]
  },
  {
   "cell_type": "markdown",
   "metadata": {},
   "source": [
    "### Change the setpoint\n",
    "\n",
    "Watch the readback after the setpoint is changed, until the temperature becomes\n",
    "`inposition` (`inposition` is a property that reports a `True`/`False` value\n",
    "determined by `abs(readback - setpoint) <= tolerance`).\n",
    "\n",
    "Here, we lower the temperature setpoint by 10 from the current readback value.\n",
    "Then, monitor the readback value until `inposition`."
   ]
  },
  {
   "cell_type": "code",
   "execution_count": 5,
   "metadata": {},
   "outputs": [
    {
     "name": "stdout",
     "output_type": "stream",
     "text": [
      "1.00s: readback=7.80 setpoint=-0.55\n",
      "2.01s: readback=6.23 setpoint=-0.55\n",
      "3.01s: readback=1.88 setpoint=-0.55\n",
      "4.02s: readback=0.63 setpoint=-0.55\n",
      "5.02s: readback=-0.22 setpoint=-0.55\n"
     ]
    }
   ],
   "source": [
    "temperature.setpoint.put(temperature.readback.get() - 10)\n",
    "\n",
    "t0 = time.time()\n",
    "while not temperature.inposition:\n",
    "    time.sleep(1)\n",
    "    print(\n",
    "        f\"{time.time() - t0:.2f}s:\"\n",
    "        f\" readback={temperature.readback.get():.2f}\"\n",
    "        f\" setpoint={temperature.setpoint.get():.2f}\"\n",
    "    )"
   ]
  },
  {
   "cell_type": "markdown",
   "metadata": {},
   "source": [
    "### Move the temperature as a positioner\n",
    "\n",
    "Here, we treat the `temperature` object as a *positioner*.  \n",
    "\n",
    "<b>Tip</b>:\n",
    "In ophyd, a positioner object has a `move()` method and a `position` property.  The `position` property is a shortcut for `readback.get()`."
   ]
  },
  {
   "cell_type": "code",
   "execution_count": 6,
   "metadata": {},
   "outputs": [
    {
     "data": {
      "text/plain": [
       "-0.21637293049515516"
      ]
     },
     "execution_count": 6,
     "metadata": {},
     "output_type": "execute_result"
    }
   ],
   "source": [
    "temperature.position"
   ]
  },
  {
   "cell_type": "markdown",
   "metadata": {},
   "source": [
    "Set the `temperature` to `25` and wait for the *move* to complete.  A `MoveStatus` object is returned by the `move()` method.\n",
    "\n",
    "<b>Tip</b>: Python prints the value of the last object shown.  In this case,\n",
    "Python prints the value of the `MoveStatus` object.  It shows\n",
    "that that the move is done, how long it took, whether the move was successful,\n",
    "and other information."
   ]
  },
  {
   "cell_type": "code",
   "execution_count": 7,
   "metadata": {},
   "outputs": [
    {
     "data": {
      "text/plain": [
       "MoveStatus(done=True, pos=temperature, elapsed=13.0, success=True, settle_time=0.0)"
      ]
     },
     "execution_count": 7,
     "metadata": {},
     "output_type": "execute_result"
    }
   ],
   "source": [
    "temperature.move(25)"
   ]
  },
  {
   "cell_type": "markdown",
   "metadata": {},
   "source": [
    "Make a move *relative* to the current (**readback**) position:"
   ]
  },
  {
   "cell_type": "code",
   "execution_count": 8,
   "metadata": {},
   "outputs": [
    {
     "data": {
      "text/plain": [
       "MoveStatus(done=True, pos=temperature, elapsed=3.0, success=True, settle_time=0.0)"
      ]
     },
     "execution_count": 8,
     "metadata": {},
     "output_type": "execute_result"
    }
   ],
   "source": [
    "temperature.move(temperature.position + 5)"
   ]
  },
  {
   "cell_type": "markdown",
   "metadata": {},
   "source": [
    "Make a move *relative* to the current **setpoint**:"
   ]
  },
  {
   "cell_type": "code",
   "execution_count": 9,
   "metadata": {},
   "outputs": [
    {
     "data": {
      "text/plain": [
       "MoveStatus(done=True, pos=temperature, elapsed=3.0, success=True, settle_time=0.0)"
      ]
     },
     "execution_count": 9,
     "metadata": {},
     "output_type": "execute_result"
    }
   ],
   "source": [
    "temperature.move(temperature.setpoint.get() - 5)"
   ]
  },
  {
   "cell_type": "markdown",
   "metadata": {},
   "source": [
    "## Use the `temperature` positioner with a bluesky plan\n",
    "\n",
    "The `temperature` positioner may be used as a detector or a positioner in a bluesky plan.\n",
    "\n",
    "First, setup the bluesky objects needed for scanning and reporting.  We won't\n",
    "need plots nor will we need to save any data.  Also create a convenience function to report the current parameters of the positioner."
   ]
  },
  {
   "cell_type": "code",
   "execution_count": 10,
   "metadata": {},
   "outputs": [],
   "source": [
    "from bluesky.run_engine import RunEngine\n",
    "from bluesky import plans as bp\n",
    "from bluesky import plan_stubs as bps\n",
    "from bluesky.callbacks.best_effort import BestEffortCallback\n",
    "\n",
    "bec = BestEffortCallback()\n",
    "RE = RunEngine()\n",
    "RE.subscribe(bec)\n",
    "bec.disable_plots()\n",
    "\n",
    "def print_position(pos):\n",
    "    print(\n",
    "        f\"inposition={pos.inposition}\"\n",
    "        f\"  position={pos.position:.3f}\"\n",
    "        f\"  setpoint={pos.setpoint.get():.3f}\"\n",
    "    )"
   ]
  },
  {
   "cell_type": "markdown",
   "metadata": {},
   "source": [
    "Set the temperature to `25` using a bluesky plan stub (`bps.mv()`).  Here, `bps.mv()` will set the temperature to an *absolute* value.\n",
    "\n",
    "A plan stub can be used directly with the `RE()` as shown here, or as part of another bluesky plan."
   ]
  },
  {
   "cell_type": "code",
   "execution_count": 11,
   "metadata": {},
   "outputs": [
    {
     "name": "stdout",
     "output_type": "stream",
     "text": [
      "inposition=True  position=25.841  setpoint=25.145\n",
      "inposition=True  position=25.841  setpoint=25.000\n"
     ]
    }
   ],
   "source": [
    "print_position(temperature)\n",
    "RE(bps.mv(temperature, 25))\n",
    "print_position(temperature)"
   ]
  },
  {
   "cell_type": "markdown",
   "metadata": {},
   "source": [
    "`bps.mvr()` will make a *relative* move.  Decrease the temperature by `5`.\n",
    "\n",
    "<b>Note</b> that `bps.mvr()` has set the new setpoint to exactly 5 below the\n",
    "previous *readback* value (not from the previous *setpoint* value)."
   ]
  },
  {
   "cell_type": "code",
   "execution_count": 12,
   "metadata": {},
   "outputs": [
    {
     "name": "stdout",
     "output_type": "stream",
     "text": [
      "inposition=True  position=25.841  setpoint=25.000\n",
      "inposition=True  position=21.435  setpoint=20.841\n"
     ]
    }
   ],
   "source": [
    "print_position(temperature)\n",
    "RE(bps.mvr(temperature, -5))\n",
    "print_position(temperature)"
   ]
  },
  {
   "cell_type": "markdown",
   "metadata": {},
   "source": [
    "We can change the setpoint value directly.  But notice that the temperature is not inposition immediately.  This is because we asked for bluesky to wait *only* until setpoint changed, which happened almost instantly."
   ]
  },
  {
   "cell_type": "code",
   "execution_count": 13,
   "metadata": {},
   "outputs": [
    {
     "name": "stdout",
     "output_type": "stream",
     "text": [
      "inposition=True  position=21.435  setpoint=20.841\n",
      "inposition=False  position=21.435  setpoint=25.841\n"
     ]
    }
   ],
   "source": [
    "print_position(temperature)\n",
    "RE(bps.mvr(temperature.setpoint, 5))\n",
    "print_position(temperature)"
   ]
  },
  {
   "cell_type": "markdown",
   "metadata": {},
   "source": [
    "We can measure the readback value (over time) by using `temperature` as a detector.  Here we use the `bp.count` plan, making 5 readings at 1 second intervals.  A data table is printed since this is one of the bluesky plans (`bp`) that create a [run](https://blueskyproject.io/bluesky/multi_run_plans.html#definition-of-a-run) which collects data.\n",
    "\n",
    "<b>Tip</b>  If this cell is executed immediately after the preceding cell, then it will follow the readback as it approaches the new setpoint."
   ]
  },
  {
   "cell_type": "code",
   "execution_count": 14,
   "metadata": {},
   "outputs": [
    {
     "name": "stdout",
     "output_type": "stream",
     "text": [
      "\n",
      "\n",
      "Transient Scan ID: 1     Time: 2023-12-24 16:43:15\n",
      "Persistent Unique Scan ID: '9ff16964-06fb-40c9-ad9f-03127be51886'\n",
      "New stream: 'primary'\n",
      "+-----------+------------+-------------+\n",
      "|   seq_num |       time | temperature |\n",
      "+-----------+------------+-------------+\n",
      "|         1 | 16:43:15.7 |    21.43473 |\n",
      "|         2 | 16:43:16.7 |    23.36815 |\n",
      "|         3 | 16:43:17.7 |    26.01955 |\n",
      "|         4 | 16:43:18.7 |    26.75007 |\n",
      "|         5 | 16:43:19.7 |    25.47070 |\n",
      "+-----------+------------+-------------+\n",
      "generator count ['9ff16964'] (scan num: 1)\n",
      "\n",
      "\n",
      "\n"
     ]
    },
    {
     "data": {
      "text/plain": [
       "('9ff16964-06fb-40c9-ad9f-03127be51886',)"
      ]
     },
     "execution_count": 14,
     "metadata": {},
     "output_type": "execute_result"
    }
   ],
   "source": [
    "RE(bp.count([temperature], delay=1, num=5))"
   ]
  },
  {
   "cell_type": "markdown",
   "metadata": {},
   "source": [
    "To demonstrate the use of `temperature` as a positioner in a scan, we'll need another signal to use as a detector.  We'll create a simple ophyd Signal with a value that does not change."
   ]
  },
  {
   "cell_type": "code",
   "execution_count": 15,
   "metadata": {},
   "outputs": [],
   "source": [
    "from ophyd import Signal\n",
    "\n",
    "det = Signal(name=\"det\", value=\"123.45\")"
   ]
  },
  {
   "cell_type": "markdown",
   "metadata": {},
   "source": [
    "To see the temperature setpoint reported in the table, set its `kind` attribute to `\"hinted\"`.  Hinted attributes are shown (and plotted) when they are used as detectors."
   ]
  },
  {
   "cell_type": "code",
   "execution_count": 16,
   "metadata": {},
   "outputs": [],
   "source": [
    "temperature.setpoint.kind = \"hinted\""
   ]
  },
  {
   "cell_type": "markdown",
   "metadata": {},
   "source": [
    "Scan `det` vs. `temperature` in 5 steps from 20..40.  See how it is the\n",
    "*setpoint* which is advanced in even steps.  The `bp.scan()` plan adjusts the\n",
    "setpoint at each step, waits for the move to complete, then triggers and reads\n",
    "the detectors."
   ]
  },
  {
   "cell_type": "code",
   "execution_count": 17,
   "metadata": {},
   "outputs": [
    {
     "name": "stdout",
     "output_type": "stream",
     "text": [
      "\n",
      "\n",
      "Transient Scan ID: 2     Time: 2023-12-24 16:43:20\n",
      "Persistent Unique Scan ID: 'dfcb093e-85b0-4329-bdf7-4994bd9daa83'\n",
      "New stream: 'primary'\n",
      "+-----------+------------+-------------+----------------------+------------+\n",
      "|   seq_num |       time | temperature | temperature_setpoint |        det |\n",
      "+-----------+------------+-------------+----------------------+------------+\n",
      "|         1 | 16:43:23.7 |    19.70829 |             20.00000 |        123 |\n",
      "|         2 | 16:43:26.7 |    24.17618 |             25.00000 |        123 |\n",
      "|         3 | 16:43:30.7 |    30.02489 |             30.00000 |        123 |\n",
      "|         4 | 16:43:33.7 |    34.72389 |             35.00000 |        123 |\n",
      "|         5 | 16:43:36.7 |    39.37125 |             40.00000 |        123 |\n",
      "+-----------+------------+-------------+----------------------+------------+\n",
      "generator scan ['dfcb093e'] (scan num: 2)\n",
      "\n",
      "\n",
      "\n"
     ]
    },
    {
     "data": {
      "text/plain": [
       "('dfcb093e-85b0-4329-bdf7-4994bd9daa83',)"
      ]
     },
     "execution_count": 17,
     "metadata": {},
     "output_type": "execute_result"
    }
   ],
   "source": [
    "RE(bp.scan([det], temperature, 20, 40, 5))"
   ]
  },
  {
   "cell_type": "markdown",
   "metadata": {},
   "source": [
    "`bp.rel_scan()` chooses its limits *relative* to the current position.  Here we scan from `-17` to `3`, *relative* to the current position."
   ]
  },
  {
   "cell_type": "code",
   "execution_count": 18,
   "metadata": {},
   "outputs": [
    {
     "name": "stdout",
     "output_type": "stream",
     "text": [
      "inposition=True  position=39.371  setpoint=40.000\n",
      "\n",
      "\n",
      "Transient Scan ID: 3     Time: 2023-12-24 16:43:36\n",
      "Persistent Unique Scan ID: 'aa441f52-feb8-48a8-b7d9-255caf979eff'\n",
      "New stream: 'primary'\n",
      "+-----------+------------+-------------+----------------------+------------+\n",
      "|   seq_num |       time | temperature | temperature_setpoint |        det |\n",
      "+-----------+------------+-------------+----------------------+------------+\n",
      "|         1 | 16:43:44.7 |    23.04608 |             22.37125 |        123 |\n",
      "|         2 | 16:43:46.7 |    27.33362 |             27.37125 |        123 |\n",
      "|         3 | 16:43:48.7 |    31.95131 |             32.37125 |        123 |\n",
      "|         4 | 16:43:50.7 |    37.00290 |             37.37125 |        123 |\n",
      "|         5 | 16:43:53.7 |    42.25406 |             42.37125 |        123 |\n",
      "+-----------+------------+-------------+----------------------+------------+\n",
      "generator rel_scan ['aa441f52'] (scan num: 3)\n",
      "\n",
      "\n",
      "\n"
     ]
    },
    {
     "data": {
      "text/plain": [
       "('aa441f52-feb8-48a8-b7d9-255caf979eff',)"
      ]
     },
     "execution_count": 18,
     "metadata": {},
     "output_type": "execute_result"
    }
   ],
   "source": [
    "print_position(temperature)\n",
    "RE(bp.rel_scan([det], temperature, -17, 3, 5))"
   ]
  },
  {
   "cell_type": "markdown",
   "metadata": {},
   "source": [
    "## SimulatedTemperatureController device\n",
    "\n",
    "Combine the setup steps into a single ophyd Device to make a simulator.  Show the support code first:"
   ]
  },
  {
   "cell_type": "code",
   "execution_count": 19,
   "metadata": {},
   "outputs": [
    {
     "name": "stdout",
     "output_type": "stream",
     "text": [
      "\u001b[0;34m\"\"\"\u001b[0m\n",
      "\u001b[0;34mCreate a simulated temperature controller device.\u001b[0m\n",
      "\u001b[0;34m\u001b[0m\n",
      "\u001b[0;34mExample::\u001b[0m\n",
      "\u001b[0;34m\u001b[0m\n",
      "\u001b[0;34m    temperature = SimulatedTemperatureController(\u001b[0m\n",
      "\u001b[0;34m        \"\",\u001b[0m\n",
      "\u001b[0;34m        name=\"temperature\",\u001b[0m\n",
      "\u001b[0;34m        swait_pv=\"gp:userCalc17\",\u001b[0m\n",
      "\u001b[0;34m        tolerance=1,\u001b[0m\n",
      "\u001b[0;34m    )\u001b[0m\n",
      "\u001b[0;34m    temperature.wait_for_connection()\u001b[0m\n",
      "\u001b[0;34m    temperature.setup_controller(25, label=\"temperature controller\")\u001b[0m\n",
      "\u001b[0;34m\u001b[0m\n",
      "\u001b[0;34m.. note:: This code is used in the documentation.\u001b[0m\n",
      "\u001b[0;34m   Leave it in the `user` directory.\u001b[0m\n",
      "\u001b[0;34m\"\"\"\u001b[0m\u001b[0;34m\u001b[0m\n",
      "\u001b[0;34m\u001b[0m\u001b[0;34m\u001b[0m\n",
      "\u001b[0;34m\u001b[0m\u001b[0;32mfrom\u001b[0m \u001b[0mapstools\u001b[0m\u001b[0;34m.\u001b[0m\u001b[0mdevices\u001b[0m \u001b[0;32mimport\u001b[0m \u001b[0mPVPositionerSoftDoneWithStop\u001b[0m\u001b[0;34m\u001b[0m\n",
      "\u001b[0;34m\u001b[0m\u001b[0;32mfrom\u001b[0m \u001b[0mapstools\u001b[0m\u001b[0;34m.\u001b[0m\u001b[0msynApps\u001b[0m \u001b[0;32mimport\u001b[0m \u001b[0mSwaitRecord\u001b[0m\u001b[0;34m\u001b[0m\n",
      "\u001b[0;34m\u001b[0m\u001b[0;32mfrom\u001b[0m \u001b[0mophyd\u001b[0m \u001b[0;32mimport\u001b[0m \u001b[0mFormattedComponent\u001b[0m \u001b[0;32mas\u001b[0m \u001b[0mFC\u001b[0m\u001b[0;34m\u001b[0m\n",
      "\u001b[0;34m\u001b[0m\u001b[0;34m\u001b[0m\n",
      "\u001b[0;34m\u001b[0m\u001b[0;34m\u001b[0m\n",
      "\u001b[0;34m\u001b[0m\u001b[0;32mclass\u001b[0m \u001b[0mSimulatedTemperatureController\u001b[0m\u001b[0;34m(\u001b[0m\u001b[0mPVPositionerSoftDoneWithStop\u001b[0m\u001b[0;34m)\u001b[0m\u001b[0;34m:\u001b[0m\u001b[0;34m\u001b[0m\n",
      "\u001b[0;34m\u001b[0m    \u001b[0;34m\"\"\"\u001b[0m\n",
      "\u001b[0;34m    Simulated temperature controller with swait record.\u001b[0m\n",
      "\u001b[0;34m\u001b[0m\n",
      "\u001b[0;34m    The swait record completes the feedback loop, computing\u001b[0m\n",
      "\u001b[0;34m    the next simulated temperature.\u001b[0m\n",
      "\u001b[0;34m    \"\"\"\u001b[0m\u001b[0;34m\u001b[0m\n",
      "\u001b[0;34m\u001b[0m\u001b[0;34m\u001b[0m\n",
      "\u001b[0;34m\u001b[0m    \u001b[0mloop\u001b[0m \u001b[0;34m=\u001b[0m \u001b[0mFC\u001b[0m\u001b[0;34m(\u001b[0m\u001b[0mSwaitRecord\u001b[0m\u001b[0;34m,\u001b[0m \u001b[0;34m\"{swait_pv}\"\u001b[0m\u001b[0;34m,\u001b[0m \u001b[0mkind\u001b[0m\u001b[0;34m=\u001b[0m\u001b[0;34m\"config\"\u001b[0m\u001b[0;34m)\u001b[0m\u001b[0;34m\u001b[0m\n",
      "\u001b[0;34m\u001b[0m\u001b[0;34m\u001b[0m\n",
      "\u001b[0;34m\u001b[0m    \u001b[0;32mdef\u001b[0m \u001b[0m__init__\u001b[0m\u001b[0;34m(\u001b[0m\u001b[0mself\u001b[0m\u001b[0;34m,\u001b[0m \u001b[0;34m*\u001b[0m\u001b[0margs\u001b[0m\u001b[0;34m,\u001b[0m \u001b[0mswait_pv\u001b[0m\u001b[0;34m=\u001b[0m\u001b[0;34m\"\"\u001b[0m\u001b[0;34m,\u001b[0m \u001b[0;34m**\u001b[0m\u001b[0mkwargs\u001b[0m\u001b[0;34m)\u001b[0m\u001b[0;34m:\u001b[0m\u001b[0;34m\u001b[0m\n",
      "\u001b[0;34m\u001b[0m        \u001b[0;32mif\u001b[0m \u001b[0mlen\u001b[0m\u001b[0;34m(\u001b[0m\u001b[0mswait_pv\u001b[0m\u001b[0;34m.\u001b[0m\u001b[0mstrip\u001b[0m\u001b[0;34m(\u001b[0m\u001b[0;34m)\u001b[0m\u001b[0;34m)\u001b[0m \u001b[0;34m==\u001b[0m \u001b[0;36m0\u001b[0m\u001b[0;34m:\u001b[0m\u001b[0;34m\u001b[0m\n",
      "\u001b[0;34m\u001b[0m            \u001b[0;32mraise\u001b[0m \u001b[0mValueError\u001b[0m\u001b[0;34m(\u001b[0m\u001b[0;34m\"Must supply a value for 'swait_pv'.\"\u001b[0m\u001b[0;34m)\u001b[0m\u001b[0;34m\u001b[0m\n",
      "\u001b[0;34m\u001b[0m\u001b[0;34m\u001b[0m\n",
      "\u001b[0;34m\u001b[0m        \u001b[0mself\u001b[0m\u001b[0;34m.\u001b[0m\u001b[0mswait_pv\u001b[0m \u001b[0;34m=\u001b[0m \u001b[0mswait_pv\u001b[0m\u001b[0;34m\u001b[0m\n",
      "\u001b[0;34m\u001b[0m\u001b[0;34m\u001b[0m\n",
      "\u001b[0;34m\u001b[0m        \u001b[0mkwargs\u001b[0m\u001b[0;34m[\u001b[0m\u001b[0;34m\"readback_pv\"\u001b[0m\u001b[0;34m]\u001b[0m \u001b[0;34m=\u001b[0m \u001b[0;34mf\"{swait_pv}.VAL\"\u001b[0m\u001b[0;34m\u001b[0m\n",
      "\u001b[0;34m\u001b[0m        \u001b[0mkwargs\u001b[0m\u001b[0;34m[\u001b[0m\u001b[0;34m\"setpoint_pv\"\u001b[0m\u001b[0;34m]\u001b[0m \u001b[0;34m=\u001b[0m \u001b[0;34mf\"{swait_pv}.B\"\u001b[0m\u001b[0;34m\u001b[0m\n",
      "\u001b[0;34m\u001b[0m\u001b[0;34m\u001b[0m\n",
      "\u001b[0;34m\u001b[0m        \u001b[0msuper\u001b[0m\u001b[0;34m(\u001b[0m\u001b[0;34m)\u001b[0m\u001b[0;34m.\u001b[0m\u001b[0m__init__\u001b[0m\u001b[0;34m(\u001b[0m\u001b[0;34m*\u001b[0m\u001b[0margs\u001b[0m\u001b[0;34m,\u001b[0m \u001b[0;34m**\u001b[0m\u001b[0mkwargs\u001b[0m\u001b[0;34m)\u001b[0m\u001b[0;34m\u001b[0m\n",
      "\u001b[0;34m\u001b[0m\u001b[0;34m\u001b[0m\n",
      "\u001b[0;34m\u001b[0m    \u001b[0;32mdef\u001b[0m \u001b[0msetup_controller\u001b[0m\u001b[0;34m(\u001b[0m\u001b[0;34m\u001b[0m\n",
      "\u001b[0;34m\u001b[0m        \u001b[0mself\u001b[0m\u001b[0;34m,\u001b[0m\u001b[0;34m\u001b[0m\n",
      "\u001b[0;34m\u001b[0m        \u001b[0msetpoint\u001b[0m\u001b[0;34m=\u001b[0m\u001b[0;32mNone\u001b[0m\u001b[0;34m,\u001b[0m\u001b[0;34m\u001b[0m\n",
      "\u001b[0;34m\u001b[0m        \u001b[0mlabel\u001b[0m\u001b[0;34m=\u001b[0m\u001b[0;34m\"controller\"\u001b[0m\u001b[0;34m,\u001b[0m\u001b[0;34m\u001b[0m\n",
      "\u001b[0;34m\u001b[0m        \u001b[0mnoise\u001b[0m\u001b[0;34m=\u001b[0m\u001b[0;36m2\u001b[0m\u001b[0;34m,\u001b[0m\u001b[0;34m\u001b[0m\n",
      "\u001b[0;34m\u001b[0m        \u001b[0mperiod\u001b[0m\u001b[0;34m=\u001b[0m\u001b[0;34m\"1 second\"\u001b[0m\u001b[0;34m,\u001b[0m\u001b[0;34m\u001b[0m\n",
      "\u001b[0;34m\u001b[0m        \u001b[0mmax_change\u001b[0m\u001b[0;34m=\u001b[0m\u001b[0;36m2\u001b[0m\u001b[0;34m,\u001b[0m\u001b[0;34m\u001b[0m\n",
      "\u001b[0;34m\u001b[0m    \u001b[0;34m)\u001b[0m\u001b[0;34m:\u001b[0m\u001b[0;34m\u001b[0m\n",
      "\u001b[0;34m\u001b[0m        \u001b[0;34m\"\"\"\u001b[0m\n",
      "\u001b[0;34m        Configure the swait record as a temperature controller.\u001b[0m\n",
      "\u001b[0;34m        \"\"\"\u001b[0m\u001b[0;34m\u001b[0m\n",
      "\u001b[0;34m\u001b[0m        \u001b[0mswait\u001b[0m \u001b[0;34m=\u001b[0m \u001b[0mself\u001b[0m\u001b[0;34m.\u001b[0m\u001b[0mloop\u001b[0m\u001b[0;34m\u001b[0m\n",
      "\u001b[0;34m\u001b[0m        \u001b[0mswait\u001b[0m\u001b[0;34m.\u001b[0m\u001b[0mreset\u001b[0m\u001b[0;34m(\u001b[0m\u001b[0;34m)\u001b[0m  \u001b[0;31m# remove any prior configuration\u001b[0m\u001b[0;34m\u001b[0m\n",
      "\u001b[0;34m\u001b[0m        \u001b[0mswait\u001b[0m\u001b[0;34m.\u001b[0m\u001b[0mdescription\u001b[0m\u001b[0;34m.\u001b[0m\u001b[0mput\u001b[0m\u001b[0;34m(\u001b[0m\u001b[0mlabel\u001b[0m\u001b[0;34m)\u001b[0m\u001b[0;34m\u001b[0m\n",
      "\u001b[0;34m\u001b[0m        \u001b[0mswait\u001b[0m\u001b[0;34m.\u001b[0m\u001b[0mchannels\u001b[0m\u001b[0;34m.\u001b[0m\u001b[0mA\u001b[0m\u001b[0;34m.\u001b[0m\u001b[0minput_pv\u001b[0m\u001b[0;34m.\u001b[0m\u001b[0mput\u001b[0m\u001b[0;34m(\u001b[0m\u001b[0mswait\u001b[0m\u001b[0;34m.\u001b[0m\u001b[0mcalculated_value\u001b[0m\u001b[0;34m.\u001b[0m\u001b[0mpvname\u001b[0m\u001b[0;34m)\u001b[0m\u001b[0;34m\u001b[0m\n",
      "\u001b[0;34m\u001b[0m        \u001b[0;32mif\u001b[0m \u001b[0msetpoint\u001b[0m \u001b[0;32mis\u001b[0m \u001b[0;32mnot\u001b[0m \u001b[0;32mNone\u001b[0m\u001b[0;34m:\u001b[0m\u001b[0;34m\u001b[0m\n",
      "\u001b[0;34m\u001b[0m            \u001b[0mswait\u001b[0m\u001b[0;34m.\u001b[0m\u001b[0mchannels\u001b[0m\u001b[0;34m.\u001b[0m\u001b[0mA\u001b[0m\u001b[0;34m.\u001b[0m\u001b[0minput_value\u001b[0m\u001b[0;34m.\u001b[0m\u001b[0mput\u001b[0m\u001b[0;34m(\u001b[0m\u001b[0msetpoint\u001b[0m\u001b[0;34m)\u001b[0m  \u001b[0;31m# readback\u001b[0m\u001b[0;34m\u001b[0m\n",
      "\u001b[0;34m\u001b[0m            \u001b[0mswait\u001b[0m\u001b[0;34m.\u001b[0m\u001b[0mchannels\u001b[0m\u001b[0;34m.\u001b[0m\u001b[0mB\u001b[0m\u001b[0;34m.\u001b[0m\u001b[0minput_value\u001b[0m\u001b[0;34m.\u001b[0m\u001b[0mput\u001b[0m\u001b[0;34m(\u001b[0m\u001b[0msetpoint\u001b[0m\u001b[0;34m)\u001b[0m  \u001b[0;31m# setpoint\u001b[0m\u001b[0;34m\u001b[0m\n",
      "\u001b[0;34m\u001b[0m        \u001b[0mswait\u001b[0m\u001b[0;34m.\u001b[0m\u001b[0mchannels\u001b[0m\u001b[0;34m.\u001b[0m\u001b[0mC\u001b[0m\u001b[0;34m.\u001b[0m\u001b[0minput_value\u001b[0m\u001b[0;34m.\u001b[0m\u001b[0mput\u001b[0m\u001b[0;34m(\u001b[0m\u001b[0mnoise\u001b[0m\u001b[0;34m)\u001b[0m\u001b[0;34m\u001b[0m\n",
      "\u001b[0;34m\u001b[0m        \u001b[0mswait\u001b[0m\u001b[0;34m.\u001b[0m\u001b[0mchannels\u001b[0m\u001b[0;34m.\u001b[0m\u001b[0mD\u001b[0m\u001b[0;34m.\u001b[0m\u001b[0minput_value\u001b[0m\u001b[0;34m.\u001b[0m\u001b[0mput\u001b[0m\u001b[0;34m(\u001b[0m\u001b[0mmax_change\u001b[0m\u001b[0;34m)\u001b[0m\u001b[0;34m\u001b[0m\n",
      "\u001b[0;34m\u001b[0m        \u001b[0mswait\u001b[0m\u001b[0;34m.\u001b[0m\u001b[0mscanning_rate\u001b[0m\u001b[0;34m.\u001b[0m\u001b[0mput\u001b[0m\u001b[0;34m(\u001b[0m\u001b[0mperiod\u001b[0m\u001b[0;34m)\u001b[0m\u001b[0;34m\u001b[0m\n",
      "\u001b[0;34m\u001b[0m        \u001b[0mswait\u001b[0m\u001b[0;34m.\u001b[0m\u001b[0mcalculation\u001b[0m\u001b[0;34m.\u001b[0m\u001b[0mput\u001b[0m\u001b[0;34m(\u001b[0m\u001b[0;34m\"A+max(-D,min(D,(B-A)))+C*(RNDM-0.5)\"\u001b[0m\u001b[0;34m)\u001b[0m\u001b[0;34m\u001b[0m\u001b[0;34m\u001b[0m\u001b[0m\n"
     ]
    }
   ],
   "source": [
    "%pycat ../../../bluesky/user/temperature_controller.py"
   ]
  },
  {
   "cell_type": "markdown",
   "metadata": {},
   "source": [
    "Adjust the Python module import path so this class can be used:"
   ]
  },
  {
   "cell_type": "code",
   "execution_count": 20,
   "metadata": {},
   "outputs": [],
   "source": [
    "import pathlib, sys\n",
    "\n",
    "path = pathlib.Path(\"../../..\") / \"bluesky\" / \"user\"\n",
    "sys.path.append(str(path))\n",
    "from temperature_controller import SimulatedTemperatureController"
   ]
  },
  {
   "cell_type": "markdown",
   "metadata": {},
   "source": [
    "Demonstrate the class by setting up a new temperature controller using a\n",
    "different `swait` record."
   ]
  },
  {
   "cell_type": "code",
   "execution_count": 21,
   "metadata": {},
   "outputs": [],
   "source": [
    "t17 = SimulatedTemperatureController(\n",
    "    \"\",\n",
    "    name=\"t17\",\n",
    "    swait_pv=\"gp:userCalc17\",\n",
    "    tolerance=1,\n",
    ")\n",
    "t17.wait_for_connection()\n",
    "t17.setup_controller(25, label=\"t17 controller\")"
   ]
  },
  {
   "cell_type": "markdown",
   "metadata": {},
   "source": [
    "Watch as the `t17` comes up to temperature."
   ]
  },
  {
   "cell_type": "code",
   "execution_count": 22,
   "metadata": {},
   "outputs": [
    {
     "name": "stdout",
     "output_type": "stream",
     "text": [
      "inposition=False  position=2.093  setpoint=25.000\n",
      "inposition=False  position=4.874  setpoint=25.000\n",
      "inposition=False  position=7.551  setpoint=25.000\n",
      "inposition=False  position=10.213  setpoint=25.000\n",
      "inposition=False  position=12.329  setpoint=25.000\n",
      "inposition=False  position=13.530  setpoint=25.000\n",
      "inposition=False  position=16.528  setpoint=25.000\n",
      "inposition=False  position=18.948  setpoint=25.000\n",
      "inposition=False  position=21.252  setpoint=25.000\n",
      "inposition=False  position=23.597  setpoint=25.000\n",
      "inposition=True  position=25.692  setpoint=25.000\n"
     ]
    }
   ],
   "source": [
    "t17.position\n",
    "t0 = time.time()\n",
    "while not t17.inposition:\n",
    "    time.sleep(1)\n",
    "    print_position(t17)"
   ]
  }
 ],
 "metadata": {
  "kernelspec": {
   "display_name": "base",
   "language": "python",
   "name": "python3"
  },
  "language_info": {
   "codemirror_mode": {
    "name": "ipython",
    "version": 3
   },
   "file_extension": ".py",
   "mimetype": "text/x-python",
   "name": "python",
   "nbconvert_exporter": "python",
   "pygments_lexer": "ipython3",
   "version": "3.11.6"
  }
 },
 "nbformat": 4,
 "nbformat_minor": 2
}
