{
 "cells": [
  {
   "cell_type": "markdown",
   "source": [
    "# Connect Bluesky with EPICS\n",
    "\n",
    "From *APS Python Training for Bluesky Data Acquisition*.\n",
    "\n",
    "**Objective**:\n",
    "\n",
    "Connect Bluesky with EPICS Process Variable(s)."
   ],
   "metadata": {}
  },
  {
   "cell_type": "markdown",
   "source": [
    "## Fundamentals\n",
    "\n",
    "In Bluesky, the [ophyd](https://blueskyproject.io/ophyd) package is used to connect with the underlying control system (EPICS, in this case).  The fundamental structure is the [`EpicsSignal`](https://blueskyproject.io/ophyd/tutorials/single-PV.html#connect-to-a-pv-from-ophyd) which connects a single EPICS Process Variable (PV) with a single python object.  Behind the scenes, the connection is made using the [PyEpics](https://cars9.uchicago.edu/software/python/pyepics3/) package.  Other information, when available (such as units, limits, displayed precision, data type, enumeration labels), is obtained from EPICS.\n",
    "\n",
    "ophyd class | description\n",
    "--- | ---\n",
    "`EpicsSignal` | establish a read/write connection with an EPICS PV, monitor and update the object in the background\n",
    "`EpicsSignalRO` | read-only version of `EpicsSignal`\n",
    "\n",
    "Note that `EpicsSignal` & `EpicsSignalRO` have many additional configuration features beyond what is described here.  Consult the ophyd documentation or [source code](https://github.com/bluesky/ophyd/blob/master/ophyd/signal.py#L1346) for more details.\n",
    "\n",
    "## `EpicsSignal`\n",
    "\n",
    "Start by importing the support from *ophyd*."
   ],
   "metadata": {}
  },
  {
   "cell_type": "code",
   "execution_count": 17,
   "source": [
    "from ophyd import EpicsSignal"
   ],
   "outputs": [],
   "metadata": {}
  },
  {
   "cell_type": "markdown",
   "source": [
    "There is an EPICS PV (`gp:gp:bit1`) with which we can connect.   This PV is a single bit.  Connect with it, naming the python object as `bit1` (for convenience, we make an `ioc` prefix variable, just in case someone has an EPICS IOC with a different prefix).\n",
    "\n",
    "In addition to the EPICS PV, it is required to add a `name` keyword so the Python object can be constructed with the object name.  By convention, use the same name as on the left side of the `=` sign."
   ],
   "metadata": {}
  },
  {
   "cell_type": "code",
   "execution_count": 25,
   "source": [
    "ioc = \"gp:\"\n",
    "bit1 = EpicsSignal(f\"{ioc}gp:bit1\", name=\"bit1\")\n",
    "print(f\"{bit1.connected = }\")"
   ],
   "outputs": [
    {
     "output_type": "stream",
     "name": "stdout",
     "text": [
      "bit1.connected = False\n"
     ]
    }
   ],
   "metadata": {}
  },
  {
   "cell_type": "markdown",
   "source": [
    "Immediately after creating the connection, we tested if the Python object had fully connected with EPICS (usually this takes a short time but it is not instantaneous).  As shown, the object has not connected with EPICS yet.\n",
    "\n",
    "When humans interact with a Jupyter notebook, the EPICS PV connection usually happens within the time it takes to move to the next cell and execute it.  But when these PV connections are executed by a single program and the object is needed right away, it may be necessary to wait for the connection to complete before proceeding."
   ],
   "metadata": {}
  },
  {
   "cell_type": "code",
   "execution_count": 19,
   "source": [
    "bit1.wait_for_connection()\n",
    "print(f\"{bit1.connected = }\")"
   ],
   "outputs": [
    {
     "output_type": "stream",
     "name": "stdout",
     "text": [
      "bit1.connected = True\n"
     ]
    }
   ],
   "metadata": {}
  },
  {
   "cell_type": "markdown",
   "source": [
    "Print the value of the Python object using its `get`()` method:"
   ],
   "metadata": {}
  },
  {
   "cell_type": "code",
   "execution_count": 20,
   "source": [
    "print(f\"{bit1.get() = }\")"
   ],
   "outputs": [
    {
     "output_type": "stream",
     "name": "stdout",
     "text": [
      "bit1.get() = 0\n"
     ]
    }
   ],
   "metadata": {}
  },
  {
   "cell_type": "markdown",
   "source": [
    "There may be labels associated with the two different values this PV can take.  Show them with the object's `enum_strs` property:"
   ],
   "metadata": {}
  },
  {
   "cell_type": "code",
   "execution_count": 21,
   "source": [
    "print(f\"{bit1.enum_strs = }\")"
   ],
   "outputs": [
    {
     "output_type": "stream",
     "name": "stdout",
     "text": [
      "bit1.enum_strs = ('off', 'on')\n"
     ]
    }
   ],
   "metadata": {}
  },
  {
   "cell_type": "markdown",
   "source": [
    "We can set this with either numbers (0 or 1) or with text (`off` or `on`) and we can show this as either numbers or text."
   ],
   "metadata": {}
  },
  {
   "cell_type": "code",
   "execution_count": 22,
   "source": [
    "bit1.put(1)\n",
    "print(f\"{bit1.get() = }\")\n",
    "print(f\"{bit1.get(as_string=False) = }\")\n",
    "print(f\"{bit1.get(as_string=True) = }\")\n",
    "\n",
    "bit1.put(\"off\")\n",
    "print(f\"{bit1.get() = }\")\n",
    "print(f\"{bit1.get(as_string=False) = }\")\n",
    "print(f\"{bit1.get(as_string=True) = }\")"
   ],
   "outputs": [
    {
     "output_type": "stream",
     "name": "stdout",
     "text": [
      "bit1.get() = 1\n",
      "bit1.get(as_string=False) = 1\n",
      "bit1.get(as_string=True) = 'on'\n",
      "bit1.get() = 0\n",
      "bit1.get(as_string=False) = 0\n",
      "bit1.get(as_string=True) = 'off'\n"
     ]
    }
   ],
   "metadata": {}
  },
  {
   "cell_type": "markdown",
   "source": [
    "We can also make the text representation the default by adding the `string=True` keyword when we create the connection:"
   ],
   "metadata": {}
  },
  {
   "cell_type": "code",
   "execution_count": 23,
   "source": [
    "bit1 = EpicsSignal(f\"{ioc}gp:bit1\", name=\"bit1\", string=True)\n",
    "bit1.wait_for_connection()\n",
    "print(f\"{bit1.get() = }\")"
   ],
   "outputs": [
    {
     "output_type": "stream",
     "name": "stdout",
     "text": [
      "bit1.get() = 'off'\n"
     ]
    }
   ],
   "metadata": {}
  },
  {
   "cell_type": "markdown",
   "source": [
    "The `read()` method (used by data acquisition) shows both *value* and the *timestamp* that value was received from EPICS.  The timestamp is recorded by Python and is absolute number of seconds since January 1, 1970 GMT."
   ],
   "metadata": {}
  },
  {
   "cell_type": "code",
   "execution_count": 31,
   "source": [
    "bit1.read()"
   ],
   "outputs": [
    {
     "output_type": "execute_result",
     "data": {
      "text/plain": [
       "{'bit1': {'value': 0, 'timestamp': 1626819045.100117}}"
      ]
     },
     "metadata": {},
     "execution_count": 31
    }
   ],
   "metadata": {}
  },
  {
   "cell_type": "markdown",
   "source": [
    "## `EpicsSignalRO`\n",
    "\n",
    "The `gp:UPTIME` PV tells us how long the IOC has been running.  This PV contains information that we cannot change since it reports a value that only the IOC knows.  Create an `uptime` object with the `EpicsSignalRO` class from `ophyd`:"
   ],
   "metadata": {}
  },
  {
   "cell_type": "code",
   "execution_count": 24,
   "source": [
    "from ophyd import EpicsSignalRO\n",
    "uptime =  EpicsSignalRO(f\"{ioc}UPTIME\", name=\"uptime\")\n",
    "uptime.wait_for_connection()\n",
    "print(f\"{uptime.get() = }\")"
   ],
   "outputs": [
    {
     "output_type": "stream",
     "name": "stdout",
     "text": [
      "uptime.get() = '44 days, 01:45:44'\n"
     ]
    }
   ],
   "metadata": {}
  },
  {
   "cell_type": "markdown",
   "source": [
    "## `Device` and `Component`\n",
    "\n",
    "We may have a group of PVs that are related in some way.  It is possible to organize the Python objects into a larger structure called an `ophyd.Device` where each of the `EpicsSignal` objects is an `ophyd.Component`.  Import the ophyd structures next:"
   ],
   "metadata": {}
  },
  {
   "cell_type": "code",
   "execution_count": 26,
   "source": [
    "from ophyd import Component, Device"
   ],
   "outputs": [],
   "metadata": {}
  },
  {
   "cell_type": "markdown",
   "source": [
    "Build a structure that associates these PVs and (hypothetical) uses:\n",
    "\n",
    "PV | how it is used | attribute\n",
    "--- | --- | ---\n",
    "`gp:gp:bit1` | on/off control | `enable`\n",
    "`gp:gp:float1` | desired temperature | `setpoint`\n",
    "`gp:gp:float1.EGU` | temperature units | `setpoint_units`\n",
    "`gp:gp:text1` | short label | `label`\n",
    "\n",
    "To group these PVs together, a custom Python class must be created using `Device` as a base class and `Component` for each of the PVs.\n",
    "\n",
    "To make this class more useful, we omit the IOC prefix (the first `gp:`) from our class.  We'll use the IOC prefix later, when we create the Python object for this structure."
   ],
   "metadata": {}
  },
  {
   "cell_type": "code",
   "execution_count": 32,
   "source": [
    "class MyGroup(Device):\n",
    "    enable = Component(EpicsSignal, \"gp:bit1\")\n",
    "    setpoint = Component(EpicsSignal, \"gp:float1\")\n",
    "    units = Component(EpicsSignal, \"gp:float1.EGU\")\n",
    "    label = Component(EpicsSignal, \"gp:text1\")"
   ],
   "outputs": [],
   "metadata": {}
  },
  {
   "cell_type": "markdown",
   "source": [
    "Use this structure to connect with all the PVs (at once) using the same type of command as with `EpicsSignal` above."
   ],
   "metadata": {}
  },
  {
   "cell_type": "code",
   "execution_count": 33,
   "source": [
    "thing = MyGroup(ioc, name=\"thing\")\n",
    "thing.wait_for_connection()"
   ],
   "outputs": [],
   "metadata": {}
  },
  {
   "cell_type": "markdown",
   "source": [
    "Show all the values at once using the `read()` method."
   ],
   "metadata": {}
  },
  {
   "cell_type": "code",
   "execution_count": 34,
   "source": [
    "thing.read()"
   ],
   "outputs": [
    {
     "output_type": "execute_result",
     "data": {
      "text/plain": [
       "OrderedDict([('thing_enable', {'value': 0, 'timestamp': 1626819045.100117}),\n",
       "             ('thing_setpoint',\n",
       "              {'value': 475000000.0, 'timestamp': 1625077794.582388}),\n",
       "             ('thing_units', {'value': '', 'timestamp': 1625077794.582388}),\n",
       "             ('thing_label',\n",
       "              {'value': 'testing', 'timestamp': 1623192826.674906})])"
      ]
     },
     "metadata": {},
     "execution_count": 34
    }
   ],
   "metadata": {}
  },
  {
   "cell_type": "markdown",
   "source": [
    "Set the temperature units and set point:"
   ],
   "metadata": {}
  },
  {
   "cell_type": "code",
   "execution_count": 38,
   "source": [
    "thing.setpoint.put(521.7482)\n",
    "thing.units.put(\"Rankine\")\n",
    "thing.read()"
   ],
   "outputs": [
    {
     "output_type": "execute_result",
     "data": {
      "text/plain": [
       "OrderedDict([('thing_enable', {'value': 0, 'timestamp': 1626819045.100117}),\n",
       "             ('thing_setpoint',\n",
       "              {'value': 521.7482, 'timestamp': 1626820838.759355}),\n",
       "             ('thing_units',\n",
       "              {'value': 'Rankine', 'timestamp': 1626820838.759355}),\n",
       "             ('thing_label',\n",
       "              {'value': 'testing', 'timestamp': 1623192826.674906})])"
      ]
     },
     "metadata": {},
     "execution_count": 38
    }
   ],
   "metadata": {}
  },
  {
   "cell_type": "code",
   "execution_count": 39,
   "source": [
    "print(f\"set point: {thing.setpoint.get():.2f} {thing.units.get()}\")"
   ],
   "outputs": [
    {
     "output_type": "stream",
     "name": "stdout",
     "text": [
      "set point: 521.75 Rankine\n"
     ]
    }
   ],
   "metadata": {}
  },
  {
   "cell_type": "markdown",
   "source": [
    "`Device` structures can be nested to make even more complex structures.  For example:"
   ],
   "metadata": {}
  },
  {
   "cell_type": "code",
   "execution_count": 46,
   "source": [
    "class Stack(Device):\n",
    "    basic = Component(MyGroup, \"\")\n",
    "    reading = Component(EpicsSignal, \"gp:float2\")\n",
    "    abstract = Component(EpicsSignal, \"gp:longtext2\", string=True)\n",
    "\n",
    "stack = Stack(ioc, name=\"stack\")\n",
    "stack.wait_for_connection()\n",
    "stack.read()"
   ],
   "outputs": [
    {
     "output_type": "execute_result",
     "data": {
      "text/plain": [
       "OrderedDict([('stack_basic_enable',\n",
       "              {'value': 0, 'timestamp': 1626819045.100117}),\n",
       "             ('stack_basic_setpoint',\n",
       "              {'value': 521.7482, 'timestamp': 1626820838.759355}),\n",
       "             ('stack_basic_units',\n",
       "              {'value': 'Rankine', 'timestamp': 1626820838.759355}),\n",
       "             ('stack_basic_label',\n",
       "              {'value': 'testing', 'timestamp': 1623192826.674906}),\n",
       "             ('stack_reading', {'value': 0.0, 'timestamp': 1624897739.636388}),\n",
       "             ('stack_abstract',\n",
       "              {'value': 'ABSTRACT:  This paper is about ...',\n",
       "               'timestamp': 1626821757.918067})])"
      ]
     },
     "metadata": {},
     "execution_count": 46
    }
   ],
   "metadata": {}
  },
  {
   "cell_type": "code",
   "execution_count": null,
   "source": [],
   "outputs": [],
   "metadata": {}
  }
 ],
 "metadata": {
  "kernelspec": {
   "name": "python3",
   "display_name": "Python 3.8.10 64-bit ('base': conda)"
  },
  "language_info": {
   "codemirror_mode": {
    "name": "ipython",
    "version": 3
   },
   "file_extension": ".py",
   "mimetype": "text/x-python",
   "name": "python",
   "nbconvert_exporter": "python",
   "pygments_lexer": "ipython3",
   "version": "3.8.10"
  },
  "interpreter": {
   "hash": "fa399ef8ed4fbc3b7fe63ebf4307839a170374bf77134d519fcb3b724ac0582b"
  }
 },
 "nbformat": 4,
 "nbformat_minor": 4
}