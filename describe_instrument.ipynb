{
 "cells": [
  {
   "cell_type": "markdown",
   "source": [
    "# The `instrument` package for Bluesky Data Acquisition\n",
    "\n",
    "From *APS Python Training for Bluesky Data Acquisition*.\n",
    "\n",
    "**Objective**\n",
    "\n",
    "In this notebook, we describe the `instrument` package for a simulated X-ray instrument at a user facility such as the Advanced Photon Source.  The goal is to use EPICS as much as possible to provide the control system features and to use Bluesky (providing the data acquisition framework) as a thin layer on top of EPICS.\n",
    "\n",
    "**Contents**\n",
    "\n",
    "* [Start the `instrument` package](#start-the-instrument-package)\n",
    "* [Description](#Description)\n",
    "  * [`adsimdet`](#adsimdet)\n",
    "  * [`scaler1`](#scaler1)\n",
    "  * [`temperature`](#temperature)\n",
    "  * [motors](#motors)\n",
    "  * [`noisy`](#noisy)\n",
    "  * [plans](#plans)\n",
    "* [Log files](#log-files)\n",
    "* [SPEC data files](#spec-data-files)\n",
    "* [User code file](#user-code-file)\n",
    "* [`databroker`](#databroker)\n",
    "\n",
    "**Overview**\n",
    "\n",
    "This simulated instrument is provided using [docker](https://www.docker.com/) images\n",
    "for [EPICS base](https://www.aps.anl.gov/epics), the [synApps](https://www.aps.anl.gov/BCDA/synApps) [xxx](https://github.com/epics-modules/xxx) module, and [EPICS area detector](https://areadetector.github.io/master/index.html) [ADSimDetector](https://areadetector.github.io/master/ADSimDetector/simDetector.html?highlight=adsimdetector).  The images are based on these software versions:\n",
    "\n",
    "* Ubuntu 20.04\n",
    "* EPICS base 7.0.5\n",
    "* synApps 6.2\n",
    "* area detector 3.10\n",
    "\n",
    "Two EPICS IOCs are provided:\n",
    "\n",
    "prefix | description | docker image | documentation\n",
    ":--- | :--- | :--- | :---\n",
    "`ad:` | area detector IOC | [`prjemian/custom-synapps-6.2-ad-3.10`](https://hub.docker.com/r/prjemian/custom-synapps-6.2-ad-3.10) | https://github.com/prjemian/epics-docker/tree/main/v1.1/n6_custom_areaDetector\n",
    "`gp:` | general purpose IOC | [`prjemian/prjemian/custom-synapps-6.2`](https://hub.docker.com/r/prjemian/custom-synapps-6.2) | https://github.com/prjemian/epics-docker/tree/main/v1.1/n5_custom_synApps"
   ],
   "metadata": {}
  },
  {
   "cell_type": "markdown",
   "source": [
    "## Start the `instrument` package"
   ],
   "metadata": {}
  },
  {
   "cell_type": "code",
   "execution_count": 2,
   "source": [
    "import os, sys\n",
    "sys.path.append(os.path.join(\".\", \"bluesky\"))\n",
    "from instrument.collection import *"
   ],
   "outputs": [
    {
     "output_type": "stream",
     "name": "stderr",
     "text": [
      "I Tue-21:52:22 - ############################################################ startup\n",
      "I Tue-21:52:22 - logging started\n",
      "I Tue-21:52:22 - logging level = 10\n",
      "I Tue-21:52:22 - /home/mintadmin/Documents/projects/BCDA-APS/bluesky_training/./bluesky/instrument/collection.py\n",
      "I Tue-21:52:22 - /home/mintadmin/Documents/projects/BCDA-APS/bluesky_training/./bluesky/instrument/mpl/notebook.py\n"
     ]
    },
    {
     "output_type": "stream",
     "name": "stdout",
     "text": [
      "Activating auto-logging. Current session state plus future input saved.\n",
      "Filename       : /home/mintadmin/Documents/projects/BCDA-APS/bluesky_training/.logs/ipython_console.log\n",
      "Mode           : rotate\n",
      "Output logging : True\n",
      "Raw input log  : False\n",
      "Timestamping   : True\n",
      "State          : active\n"
     ]
    },
    {
     "output_type": "stream",
     "name": "stderr",
     "text": [
      "I Tue-21:52:23 - #### Bluesky Framework ####\n",
      "I Tue-21:52:23 - /home/mintadmin/Documents/projects/BCDA-APS/bluesky_training/./bluesky/instrument/framework/check_python.py\n",
      "I Tue-21:52:23 - /home/mintadmin/Documents/projects/BCDA-APS/bluesky_training/./bluesky/instrument/framework/check_bluesky.py\n",
      "I Tue-21:52:24 - /home/mintadmin/Documents/projects/BCDA-APS/bluesky_training/./bluesky/instrument/framework/initialize.py\n",
      "I Tue-21:52:27 - using databroker catalog 'training'\n",
      "I Tue-21:52:27 - /home/mintadmin/Documents/projects/BCDA-APS/bluesky_training/./bluesky/instrument/framework/metadata.py\n",
      "I Tue-21:52:27 - #### Devices ####\n",
      "I Tue-21:52:27 - /home/mintadmin/Documents/projects/BCDA-APS/bluesky_training/./bluesky/instrument/devices/area_detector.py\n",
      "I Tue-21:52:27 - /home/mintadmin/Documents/projects/BCDA-APS/bluesky_training/./bluesky/instrument/devices/calculation_records.py\n",
      "I Tue-21:52:31 - Priming adsimdet_hdf1 ...\n",
      "I Tue-21:52:34 - Enabling adsimdet_image plugin ...\n",
      "I Tue-21:52:35 - /home/mintadmin/Documents/projects/BCDA-APS/bluesky_training/./bluesky/instrument/devices/ioc_stats.py\n",
      "I Tue-21:52:35 - /home/mintadmin/Documents/projects/BCDA-APS/bluesky_training/./bluesky/instrument/devices/motors.py\n",
      "I Tue-21:52:35 - /home/mintadmin/Documents/projects/BCDA-APS/bluesky_training/./bluesky/instrument/devices/noisy_detector.py\n",
      "I Tue-21:52:35 - /home/mintadmin/Documents/projects/BCDA-APS/bluesky_training/./bluesky/instrument/devices/scaler.py\n",
      "I Tue-21:52:36 - scaler1 has no channel names.  Assigning channel names.\n",
      "I Tue-21:52:37 - /home/mintadmin/Documents/projects/BCDA-APS/bluesky_training/./bluesky/instrument/devices/shutter_simulator.py\n",
      "I Tue-21:52:37 - /home/mintadmin/Documents/projects/BCDA-APS/bluesky_training/./bluesky/instrument/devices/temperature_signal.py\n",
      "D Tue-21:52:37 - temperature reached: True\n",
      "I Tue-21:52:37 - #### Callbacks ####\n",
      "I Tue-21:52:37 - /home/mintadmin/Documents/projects/BCDA-APS/bluesky_training/./bluesky/instrument/callbacks/spec_data_file_writer.py\n",
      "I Tue-21:52:37 - writing to SPEC file: /home/mintadmin/Documents/projects/BCDA-APS/bluesky_training/20210831-215237.dat\n",
      "I Tue-21:52:37 -    >>>>   Using default SPEC file name   <<<<\n",
      "I Tue-21:52:37 -    file will be created when bluesky ends its next scan\n",
      "I Tue-21:52:37 -    to change SPEC file, use command:   newSpecFile('title')\n",
      "I Tue-21:52:37 - #### Plans ####\n",
      "I Tue-21:52:37 - /home/mintadmin/Documents/projects/BCDA-APS/bluesky_training/./bluesky/instrument/plans/peak_finder_example.py\n",
      "I Tue-21:52:37 - #### Utilities ####\n",
      "I Tue-21:52:37 - /home/mintadmin/Documents/projects/BCDA-APS/bluesky_training/./bluesky/instrument/utils/image_analysis.py\n",
      "I Tue-21:52:38 - #### Startup is complete. ####\n"
     ]
    }
   ],
   "metadata": {}
  },
  {
   "cell_type": "markdown",
   "source": [
    "## Description\n",
    "\n",
    "Might be a good idea to know now what this instrument package provides.  \n",
    "\n",
    "Notably, the table includes:\n",
    "\n",
    "ophyd name(s) | Description | label(s)\n",
    ":--- | :---| :---\n",
    "`adsimdet` | simulated EPICS area detector | `area_detector`\n",
    "`calcs` & `calcouts` | calculation support |\n",
    "`gp_stats` | details about the general purpose IOC |\n",
    "`I0`, `diode`, ... | named scaler channels | `counter`\n",
    "`m1` .. `m16` | 16 simulated EPICS motors | `motor`\n",
    "`noisy` | simulated diffraction peak |\n",
    "`scaler1` | simulated 16-channel EPICS scaler | `scalers`\n",
    "`shutter` | simulated shutter | \n",
    "`temperature` | simulated temperature controller |"
   ],
   "metadata": {}
  },
  {
   "cell_type": "markdown",
   "source": [
    "### `adsimdet`"
   ],
   "metadata": {}
  },
  {
   "cell_type": "markdown",
   "source": [
    "The EPICS Area Detector ADSimDetector is included with this instrument as `adsimdet`.  The detector is a monochrome 1k x 1k frame.  The image is written to an HDF5 file and made available to the [`databroker`](#databroker) via a shared volume from the docker container.  `adsimdet` can be used as a detector.\n",
    "\n",
    "The image is a simulated diffraction spot with center randomly-chosen between 100..900 on both axes.  The width is also random as is the peak intensity and noise level.  Furthermore, to simulate realistic conditions, the center position of both axes is adjusted by a few pixels using a pair of *swait* records (`gp:userCalc9` & `gp:userCalc10`) updating from random numbers."
   ],
   "metadata": {}
  },
  {
   "cell_type": "code",
   "execution_count": 3,
   "source": [
    "adsimdet.summary()"
   ],
   "outputs": [
    {
     "output_type": "stream",
     "name": "stdout",
     "text": [
      "data keys (* hints)\n",
      "-------------------\n",
      "\n",
      "read attrs\n",
      "----------\n",
      "hdf1                 MyHDF5Plugin        ('adsimdet_hdf1')\n",
      "\n",
      "config keys\n",
      "-----------\n",
      "adsimdet_cam_acquire_period\n",
      "adsimdet_cam_acquire_time\n",
      "adsimdet_cam_image_mode\n",
      "adsimdet_cam_manufacturer\n",
      "adsimdet_cam_model\n",
      "adsimdet_cam_num_exposures\n",
      "adsimdet_cam_num_images\n",
      "adsimdet_cam_trigger_mode\n",
      "\n",
      "configuration attrs\n",
      "-------------------\n",
      "cam                  MyFixedCam          ('adsimdet_cam')\n",
      "cam.acquire_period   EpicsSignalWithRBV  ('adsimdet_cam_acquire_period')\n",
      "cam.acquire_time     EpicsSignalWithRBV  ('adsimdet_cam_acquire_time')\n",
      "cam.image_mode       EpicsSignalWithRBV  ('adsimdet_cam_image_mode')\n",
      "cam.manufacturer     EpicsSignalRO       ('adsimdet_cam_manufacturer')\n",
      "cam.model            EpicsSignalRO       ('adsimdet_cam_model')\n",
      "cam.num_exposures    EpicsSignalWithRBV  ('adsimdet_cam_num_exposures')\n",
      "cam.num_images       EpicsSignalWithRBV  ('adsimdet_cam_num_images')\n",
      "cam.trigger_mode     EpicsSignalWithRBV  ('adsimdet_cam_trigger_mode')\n",
      "hdf1                 MyHDF5Plugin        ('adsimdet_hdf1')\n",
      "\n",
      "unused attrs\n",
      "------------\n",
      "configuration_names  ArrayAttributeSignal('adsimdet_configuration_names')\n",
      "image                MyFixedImagePlugin  ('adsimdet_image')\n",
      "\n"
     ]
    }
   ],
   "metadata": {}
  },
  {
   "cell_type": "markdown",
   "source": [
    "### `scaler1`"
   ],
   "metadata": {}
  },
  {
   "cell_type": "markdown",
   "source": [
    "A simulated 16-channel scaler is configured with several channels of pulse counters, typical of a synchrotron beam line.  `scaler1` can be used as a detector."
   ],
   "metadata": {}
  },
  {
   "cell_type": "code",
   "execution_count": 4,
   "source": [
    "scaler1.summary()"
   ],
   "outputs": [
    {
     "output_type": "stream",
     "name": "stdout",
     "text": [
      "data keys (* hints)\n",
      "-------------------\n",
      "*I0\n",
      "*diode\n",
      " scaler1_time\n",
      "*scint\n",
      "*timebase\n",
      "\n",
      "read attrs\n",
      "----------\n",
      "channels             Channels            ('scaler1_channels')\n",
      "channels.chan01      ScalerChannel       ('scaler1_channels_chan01')\n",
      "channels.chan01.s    EpicsSignalRO       ('timebase')\n",
      "channels.chan02      ScalerChannel       ('scaler1_channels_chan02')\n",
      "channels.chan02.s    EpicsSignalRO       ('I0')\n",
      "channels.chan03      ScalerChannel       ('scaler1_channels_chan03')\n",
      "channels.chan03.s    EpicsSignalRO       ('scint')\n",
      "channels.chan04      ScalerChannel       ('scaler1_channels_chan04')\n",
      "channels.chan04.s    EpicsSignalRO       ('diode')\n",
      "time                 EpicsSignal         ('scaler1_time')\n",
      "\n",
      "config keys\n",
      "-----------\n",
      "scaler1_auto_count_delay\n",
      "scaler1_auto_count_time\n",
      "scaler1_channels_chan01_chname\n",
      "scaler1_channels_chan01_gate\n",
      "scaler1_channels_chan01_preset\n",
      "scaler1_channels_chan02_chname\n",
      "scaler1_channels_chan02_gate\n",
      "scaler1_channels_chan02_preset\n",
      "scaler1_channels_chan03_chname\n",
      "scaler1_channels_chan03_gate\n",
      "scaler1_channels_chan03_preset\n",
      "scaler1_channels_chan04_chname\n",
      "scaler1_channels_chan04_gate\n",
      "scaler1_channels_chan04_preset\n",
      "scaler1_count_mode\n",
      "scaler1_delay\n",
      "scaler1_egu\n",
      "scaler1_freq\n",
      "scaler1_preset_time\n",
      "\n",
      "configuration attrs\n",
      "-------------------\n",
      "channels             Channels            ('scaler1_channels')\n",
      "channels.chan01      ScalerChannel       ('scaler1_channels_chan01')\n",
      "channels.chan01.chname EpicsSignal         ('scaler1_channels_chan01_chname')\n",
      "channels.chan01.preset EpicsSignal         ('scaler1_channels_chan01_preset')\n",
      "channels.chan01.gate EpicsSignal         ('scaler1_channels_chan01_gate')\n",
      "channels.chan02      ScalerChannel       ('scaler1_channels_chan02')\n",
      "channels.chan02.chname EpicsSignal         ('scaler1_channels_chan02_chname')\n",
      "channels.chan02.preset EpicsSignal         ('scaler1_channels_chan02_preset')\n",
      "channels.chan02.gate EpicsSignal         ('scaler1_channels_chan02_gate')\n",
      "channels.chan03      ScalerChannel       ('scaler1_channels_chan03')\n",
      "channels.chan03.chname EpicsSignal         ('scaler1_channels_chan03_chname')\n",
      "channels.chan03.preset EpicsSignal         ('scaler1_channels_chan03_preset')\n",
      "channels.chan03.gate EpicsSignal         ('scaler1_channels_chan03_gate')\n",
      "channels.chan04      ScalerChannel       ('scaler1_channels_chan04')\n",
      "channels.chan04.chname EpicsSignal         ('scaler1_channels_chan04_chname')\n",
      "channels.chan04.preset EpicsSignal         ('scaler1_channels_chan04_preset')\n",
      "channels.chan04.gate EpicsSignal         ('scaler1_channels_chan04_gate')\n",
      "count_mode           EpicsSignal         ('scaler1_count_mode')\n",
      "delay                EpicsSignal         ('scaler1_delay')\n",
      "auto_count_delay     EpicsSignal         ('scaler1_auto_count_delay')\n",
      "freq                 EpicsSignal         ('scaler1_freq')\n",
      "preset_time          EpicsSignal         ('scaler1_preset_time')\n",
      "auto_count_time      EpicsSignal         ('scaler1_auto_count_time')\n",
      "egu                  EpicsSignal         ('scaler1_egu')\n",
      "\n",
      "unused attrs\n",
      "------------\n",
      "count                EpicsSignal         ('scaler1_count')\n",
      "update_rate          EpicsSignal         ('scaler1_update_rate')\n",
      "auto_count_update_rate EpicsSignal         ('scaler1_auto_count_update_rate')\n",
      "\n"
     ]
    }
   ],
   "metadata": {}
  },
  {
   "cell_type": "markdown",
   "source": [
    "The timebase is always shown.  The additional channels (using names from the scaler GUI screen) are shown output of `listdevice(scaler1)` below.\n",
    "\n",
    "Note that in the instrument package, the channel names were assigned on startup.  An operating beam line would not do define the names here but instead, let the instrument team name these channels in the GUI screen at the time the cables from the pulse detectors are connected physically to the scaler.\n",
    "\n",
    "Count the scaler from the command line:"
   ],
   "metadata": {}
  },
  {
   "cell_type": "code",
   "execution_count": 5,
   "source": [
    "%ct scalers"
   ],
   "outputs": [
    {
     "output_type": "stream",
     "name": "stdout",
     "text": [
      "[This data will not be saved. Use the RunEngine to collect data.]\n",
      "timebase                       11000000.0\n",
      "I0                             5.0\n",
      "scint                          5.0\n",
      "diode                          4.0\n",
      "scaler1_time                   1.1\n"
     ]
    }
   ],
   "metadata": {}
  },
  {
   "cell_type": "markdown",
   "source": [
    "NOTE: the actual counts are random numbers.  Also, the EPICS soft scaler seems to add 0.1s to the counting time.  Might be a bug with the EPICS scaler code."
   ],
   "metadata": {}
  },
  {
   "cell_type": "code",
   "execution_count": 6,
   "source": [
    "listdevice(scaler1)"
   ],
   "outputs": [
    {
     "output_type": "stream",
     "name": "stdout",
     "text": [
      "============ ========== ==========================\n",
      "name         value      timestamp                 \n",
      "============ ========== ==========================\n",
      "timebase     11000000.0 2021-08-31 21:52:40.073369\n",
      "I0           5.0        2021-08-31 21:52:40.073369\n",
      "scint        5.0        2021-08-31 21:52:40.073369\n",
      "diode        4.0        2021-08-31 21:52:40.073369\n",
      "scaler1_time 1.1        1989-12-31 18:00:00       \n",
      "============ ========== ==========================\n",
      "\n"
     ]
    },
    {
     "output_type": "execute_result",
     "data": {
      "text/plain": [
       "<pyRestTable.rest_table.Table at 0x7fdc0870a400>"
      ]
     },
     "metadata": {},
     "execution_count": 6
    }
   ],
   "metadata": {}
  },
  {
   "cell_type": "markdown",
   "source": [
    "As an added convenience, shortcut names for these channels were also assigned to local Python symbols (since the object path to the channels is easy to forget) in `instrument/devices/scaler.py` with these lines:\n",
    "\n",
    "```python\n",
    "timebase = scaler1.channels.chan01.s\n",
    "I0 = scaler1.channels.chan02.s\n",
    "scint = scaler1.channels.chan03.s\n",
    "diode = scaler1.channels.chan04.s\n",
    "```"
   ],
   "metadata": {}
  },
  {
   "cell_type": "markdown",
   "source": [
    "This command: `scaler1.select_channels()` configures `scaler` to use just the channels with non-empty names.  To limit data collection to a subset of these channels, name the channels in a list argument, such as: `scaler1.select_channels(['I0', 'diode'])`"
   ],
   "metadata": {}
  },
  {
   "cell_type": "markdown",
   "source": [
    "### `temperature`"
   ],
   "metadata": {}
  },
  {
   "cell_type": "markdown",
   "source": [
    "The temperature simulator, implemented in `gp:userCalc8` works like a temperature controller, with setpoint and readback values.    `temperature` can be used as a detector **and** as a positioner (like a motor).\n",
    "\n",
    "Additional controls for noise, update interval, maximum change per update, in-position tolerance, and done are provided, either through EPICS or in Python.  Once a new setpoint is entered, the readback will progress towards it, limited by the max change and the update interval.  Once at the setpoint, noise continues to be added to the temperature to provide realism."
   ],
   "metadata": {}
  },
  {
   "cell_type": "code",
   "execution_count": 7,
   "source": [
    "temperature.summary()\n",
    "listdevice(temperature)"
   ],
   "outputs": [
    {
     "output_type": "stream",
     "name": "stdout",
     "text": [
      "data keys (* hints)\n",
      "-------------------\n",
      "*temperature\n",
      " temperature_calculation\n",
      " temperature_description\n",
      " temperature_done\n",
      " temperature_max_change\n",
      " temperature_noise\n",
      " temperature_previous_value_pv\n",
      " temperature_scanning_rate\n",
      " temperature_setpoint\n",
      " temperature_tolerance\n",
      "\n",
      "read attrs\n",
      "----------\n",
      "setpoint             EpicsSignal         ('temperature_setpoint')\n",
      "readback             EpicsSignal         ('temperature')\n",
      "done                 Signal              ('temperature_done')\n",
      "calculation          EpicsSignal         ('temperature_calculation')\n",
      "description          EpicsSignal         ('temperature_description')\n",
      "max_change           EpicsSignal         ('temperature_max_change')\n",
      "noise                EpicsSignal         ('temperature_noise')\n",
      "previous_value_pv    EpicsSignal         ('temperature_previous_value_pv')\n",
      "scanning_rate        EpicsSignal         ('temperature_scanning_rate')\n",
      "tolerance            EpicsSignal         ('temperature_tolerance')\n",
      "\n",
      "config keys\n",
      "-----------\n",
      "\n",
      "configuration attrs\n",
      "-------------------\n",
      "\n",
      "unused attrs\n",
      "------------\n",
      "report_dmov_changes  Signal              ('temperature_report_dmov_changes')\n",
      "\n",
      "============================= =================================== ==========================\n",
      "name                          value                               timestamp                 \n",
      "============================= =================================== ==========================\n",
      "temperature_setpoint          25.0                                2021-08-31 21:52:37.953048\n",
      "temperature                   24.87149614709697                   2021-08-31 21:55:51.901238\n",
      "temperature_done              True                                2021-08-31 21:55:51.902328\n",
      "temperature_calculation       A+max(-D,min(D,(B-A)))+C*(RNDM-0.5) 2021-08-31 21:52:37.959968\n",
      "temperature_description       temperature                         2021-08-31 21:52:37.944862\n",
      "temperature_max_change        2.0                                 2021-08-31 21:52:37.957505\n",
      "temperature_noise             1.0                                 2021-08-31 21:52:37.957281\n",
      "temperature_previous_value_pv gp:userCalc8.VAL                    2021-08-31 21:52:37.944862\n",
      "temperature_scanning_rate     5                                   2021-08-31 21:52:37.959968\n",
      "temperature_tolerance         1.0                                 2021-08-31 21:52:37.959968\n",
      "============================= =================================== ==========================\n",
      "\n"
     ]
    },
    {
     "output_type": "execute_result",
     "data": {
      "text/plain": [
       "<pyRestTable.rest_table.Table at 0x7fdc0870a430>"
      ]
     },
     "metadata": {},
     "execution_count": 7
    }
   ],
   "metadata": {}
  },
  {
   "cell_type": "markdown",
   "source": [
    "### motors"
   ],
   "metadata": {}
  },
  {
   "cell_type": "markdown",
   "source": [
    "There are 16 soft motor channels: `gp:m1` .. `gp:m16`.  Any motor can be used as a detector **and** as a positioner.\n",
    "\n",
    "The first motor, `gp:m1`, is used to compute a simulated 1-D diffraction peak ([`noisy`](#noisy)) using `gp:userCalc1`.\n",
    "\n",
    "To make it easier to change the motor step size, a custom `MyEpicsMotor` class was made, subclassing from `ophyd.EpicsMotor` and adding a component to access the motor's `.SREV` (steps/revolution) field.  The default motor step size is 0.01 (with SREV=200).  For only `m1`, the step size has been changed to 0.001 by setting SREV=2000.\n",
    "\n",
    "NOTE: Changing SREV (in this simulator* seems to affect the soft motor's simulated hardware limit.  Be careful if you adjust SREV to higher numbers (smaller step sizes) that the expected range of motion remains sufficient for your measurements.  Again, another thing to change in the EPICS support."
   ],
   "metadata": {}
  },
  {
   "cell_type": "code",
   "execution_count": 8,
   "source": [
    "m1.summary()\n",
    "listdevice(m1)"
   ],
   "outputs": [
    {
     "output_type": "stream",
     "name": "stdout",
     "text": [
      "data keys (* hints)\n",
      "-------------------\n",
      "*m1\n",
      " m1_user_setpoint\n",
      "\n",
      "read attrs\n",
      "----------\n",
      "user_readback        EpicsSignalRO       ('m1')\n",
      "user_setpoint        EpicsSignal         ('m1_user_setpoint')\n",
      "\n",
      "config keys\n",
      "-----------\n",
      "m1_acceleration\n",
      "m1_motor_egu\n",
      "m1_user_offset\n",
      "m1_user_offset_dir\n",
      "m1_velocity\n",
      "\n",
      "configuration attrs\n",
      "-------------------\n",
      "user_offset          EpicsSignal         ('m1_user_offset')\n",
      "user_offset_dir      EpicsSignal         ('m1_user_offset_dir')\n",
      "velocity             EpicsSignal         ('m1_velocity')\n",
      "acceleration         EpicsSignal         ('m1_acceleration')\n",
      "motor_egu            EpicsSignal         ('m1_motor_egu')\n",
      "\n",
      "unused attrs\n",
      "------------\n",
      "offset_freeze_switch EpicsSignal         ('m1_offset_freeze_switch')\n",
      "set_use_switch       EpicsSignal         ('m1_set_use_switch')\n",
      "motor_is_moving      EpicsSignalRO       ('m1_motor_is_moving')\n",
      "motor_done_move      EpicsSignalRO       ('m1_motor_done_move')\n",
      "high_limit_switch    EpicsSignalRO       ('m1_high_limit_switch')\n",
      "low_limit_switch     EpicsSignalRO       ('m1_low_limit_switch')\n",
      "high_limit_travel    EpicsSignal         ('m1_high_limit_travel')\n",
      "low_limit_travel     EpicsSignal         ('m1_low_limit_travel')\n",
      "direction_of_travel  EpicsSignal         ('m1_direction_of_travel')\n",
      "motor_stop           EpicsSignal         ('m1_motor_stop')\n",
      "home_forward         EpicsSignal         ('m1_home_forward')\n",
      "home_reverse         EpicsSignal         ('m1_home_reverse')\n",
      "steps_per_revolution EpicsSignal         ('m1_steps_per_revolution')\n",
      "\n",
      "================ ===== ===================\n",
      "name             value timestamp          \n",
      "================ ===== ===================\n",
      "m1               0.0   1989-12-31 18:00:00\n",
      "m1_user_setpoint 0.0   1989-12-31 18:00:00\n",
      "================ ===== ===================\n",
      "\n"
     ]
    },
    {
     "output_type": "execute_result",
     "data": {
      "text/plain": [
       "<pyRestTable.rest_table.Table at 0x7fdba716a550>"
      ]
     },
     "metadata": {},
     "execution_count": 8
    }
   ],
   "metadata": {}
  },
  {
   "cell_type": "markdown",
   "source": [
    "### `noisy`"
   ],
   "metadata": {}
  },
  {
   "cell_type": "markdown",
   "source": [
    "A simulated diffraction peak is computed in 1-D using a Lorentzian function in EPICS PV `gp:userCalc1`.  The simulation uses the position of motor `gp:m1` and random choices for center, width, noise, and peak intensity (scale factor).  `noisy` can be used as a detector.\n",
    "\n",
    "NOTE: `noisy` is an `ophyd.EpicsSignal` (variant), thus it lacks the `.summary()` method that `ophyd.Device` objects have."
   ],
   "metadata": {}
  },
  {
   "cell_type": "code",
   "execution_count": 9,
   "source": [
    "listdevice(noisy)"
   ],
   "outputs": [
    {
     "output_type": "stream",
     "name": "stdout",
     "text": [
      "===== ================= ==========================\n",
      "name  value             timestamp                 \n",
      "===== ================= ==========================\n",
      "noisy 4485.008066942357 2021-08-31 21:52:35.845222\n",
      "===== ================= ==========================\n",
      "\n"
     ]
    },
    {
     "output_type": "execute_result",
     "data": {
      "text/plain": [
       "<pyRestTable.rest_table.Table at 0x7fdc0870a8b0>"
      ]
     },
     "metadata": {},
     "execution_count": 9
    }
   ],
   "metadata": {}
  },
  {
   "cell_type": "markdown",
   "source": [
    "### plans\n",
    "\n",
    "Several examples of user plan are provided in file `instrument/plans/peak_finder_example.py`.  These plans are described and used in the notebook [Lineup a 1-D peak](https://nbviewer.jupyter.org/github/BCDA-APS/bluesky_instrument_training/blob/main/lineup_1d_peak.ipynb)."
   ],
   "metadata": {}
  },
  {
   "cell_type": "markdown",
   "source": [
    "## Log files\n",
    "\n",
    "For diagnostic and general support, log files are created to record activity.  In the working directory, the log files are written to a `./.logs` subdirectory.\n",
    "\n",
    "There are two kinds of file, one that records user commands and the python\n",
    "result, the other records items sent to the\n",
    "[customized](https://github.com/prjemian/stdlogpj#example-directing-logs-to-a-specific-directory)\n",
    "Python [logging](https://docs.python.org/3/library/logging.html) package.\n",
    "\n",
    "In the IPython session, use the `!` to run a linux command:"
   ],
   "metadata": {}
  },
  {
   "cell_type": "code",
   "execution_count": 10,
   "source": [
    "!ls -lAFgh .logs"
   ],
   "outputs": [
    {
     "output_type": "stream",
     "name": "stdout",
     "text": [
      "total 1.1M\n",
      "-rw-rw-r-- 1 mintadmin  741 Aug 31 21:56 ipython_console.log\n",
      "-rw-rw-r-- 1 mintadmin   20 Aug 25 17:03 ipython_console.log.001~\n",
      "-rw-rw-r-- 1 mintadmin  78K Aug 21 22:52 ipython_console.log.002~\n",
      "-rw-rw-r-- 1 mintadmin 5.6K Aug 21 21:01 ipython_console.log.003~\n",
      "-rw-rw-r-- 1 mintadmin 5.9K Aug 20 23:09 ipython_console.log.004~\n",
      "-rw-rw-r-- 1 mintadmin 5.3K Aug 20 23:08 ipython_console.log.005~\n",
      "-rw-rw-r-- 1 mintadmin 1.9K Aug 20 23:07 ipython_console.log.006~\n",
      "-rw-rw-r-- 1 mintadmin 2.8K Aug 20 23:07 ipython_console.log.007~\n",
      "-rw-rw-r-- 1 mintadmin 8.8K Aug 20 22:54 ipython_console.log.008~\n",
      "-rw-rw-r-- 1 mintadmin 3.0K Aug 20 22:47 ipython_console.log.009~\n",
      "-rw-rw-r-- 1 mintadmin  17K Aug 20 22:43 ipython_console.log.010~\n",
      "-rw-rw-r-- 1 mintadmin 3.1K Aug 20 22:35 ipython_console.log.011~\n",
      "-rw-rw-r-- 1 mintadmin 3.9K Jul 23 21:45 ipython_console.log.012~\n",
      "-rw-rw-r-- 1 mintadmin  678 Jul 23 21:44 ipython_console.log.013~\n",
      "-rw-rw-r-- 1 mintadmin  11K Jul 23 21:04 ipython_console.log.014~\n",
      "-rw-rw-r-- 1 mintadmin 1.6K Mar 11 22:37 ipython_console.log.015~\n",
      "-rw-rw-r-- 1 mintadmin 1.6K Mar 11 22:28 ipython_console.log.016~\n",
      "-rw-rw-r-- 1 mintadmin 2.7K Mar 11 22:26 ipython_console.log.017~\n",
      "-rw-rw-r-- 1 mintadmin  122 Mar 11 21:00 ipython_console.log.018~\n",
      "-rw-rw-r-- 1 mintadmin  151 Mar  9 22:23 ipython_console.log.019~\n",
      "-rw-rw-r-- 1 mintadmin  131 Mar  9 22:22 ipython_console.log.020~\n",
      "-rw-rw-r-- 1 mintadmin   55 Mar  9 20:09 ipython_console.log.021~\n",
      "-rw-rw-r-- 1 mintadmin   55 Mar  9 19:21 ipython_console.log.022~\n",
      "-rw-rw-r-- 1 mintadmin   55 Mar  9 19:21 ipython_console.log.023~\n",
      "-rw-rw-r-- 1 mintadmin 3.6K Feb 25  2021 ipython_console.log.024~\n",
      "-rw-rw-r-- 1 mintadmin 3.9K Feb 25  2021 ipython_console.log.025~\n",
      "-rw-rw-r-- 1 mintadmin 1.9K Feb 25  2021 ipython_console.log.026~\n",
      "-rw-rw-r-- 1 mintadmin 3.1K Feb 25  2021 ipython_console.log.027~\n",
      "-rw-rw-r-- 1 mintadmin 3.1K Feb 25  2021 ipython_console.log.028~\n",
      "-rw-rw-r-- 1 mintadmin  18K Feb 25  2021 ipython_console.log.029~\n",
      "-rw-rw-r-- 1 mintadmin 1.4K Feb 25  2021 ipython_console.log.030~\n",
      "-rw-rw-r-- 1 mintadmin  27K Feb 25  2021 ipython_console.log.031~\n",
      "-rw-rw-r-- 1 mintadmin  18K Feb 25  2021 ipython_console.log.032~\n",
      "-rw-rw-r-- 1 mintadmin 2.6K Feb 25  2021 ipython_console.log.033~\n",
      "-rw-rw-r-- 1 mintadmin   55 Feb 25  2021 ipython_console.log.034~\n",
      "-rw-rw-r-- 1 mintadmin 2.5K Feb 25  2021 ipython_console.log.035~\n",
      "-rw-rw-r-- 1 mintadmin   55 Feb 25  2021 ipython_console.log.036~\n",
      "-rw-rw-r-- 1 mintadmin   55 Feb 25  2021 ipython_console.log.037~\n",
      "-rw-rw-r-- 1 mintadmin   55 Feb 25  2021 ipython_console.log.038~\n",
      "-rw-rw-r-- 1 mintadmin 1.5K Feb 24  2021 ipython_console.log.039~\n",
      "-rw-rw-r-- 1 mintadmin   55 Feb 24  2021 ipython_console.log.040~\n",
      "-rw-rw-r-- 1 mintadmin   55 Feb 24  2021 ipython_console.log.041~\n",
      "-rw-rw-r-- 1 mintadmin 1.3K Feb 24  2021 ipython_console.log.042~\n",
      "-rw-rw-r-- 1 mintadmin   55 Feb 24  2021 ipython_console.log.043~\n",
      "-rw-rw-r-- 1 mintadmin   55 Feb 24  2021 ipython_console.log.044~\n",
      "-rw-rw-r-- 1 mintadmin   55 Feb 24  2021 ipython_console.log.045~\n",
      "-rw-rw-r-- 1 mintadmin 5.9K Feb 24  2021 ipython_console.log.046~\n",
      "-rw-rw-r-- 1 mintadmin 1.5K Feb 24  2021 ipython_console.log.047~\n",
      "-rw-rw-r-- 1 mintadmin 1.5K Feb 24  2021 ipython_console.log.048~\n",
      "-rw-rw-r-- 1 mintadmin 1.6K Feb 24  2021 ipython_console.log.049~\n",
      "-rw-rw-r-- 1 mintadmin 1.9K Feb 24  2021 ipython_console.log.050~\n",
      "-rw-rw-r-- 1 mintadmin 1.6K Feb 24  2021 ipython_console.log.051~\n",
      "-rw-rw-r-- 1 mintadmin 1.5K Feb 24  2021 ipython_console.log.052~\n",
      "-rw-rw-r-- 1 mintadmin 1.8K Feb 24  2021 ipython_console.log.053~\n",
      "-rw-rw-r-- 1 mintadmin  28K Feb 24  2021 ipython_console.log.054~\n",
      "-rw-rw-r-- 1 mintadmin  751 Feb 24  2021 ipython_console.log.055~\n",
      "-rw-rw-r-- 1 mintadmin  225 Feb 23  2021 ipython_console.log.056~\n",
      "-rw-rw-r-- 1 mintadmin   20 Feb 23  2021 ipython_console.log.057~\n",
      "-rw-rw-r-- 1 mintadmin 3.7K Feb 23  2021 ipython_console.log.058~\n",
      "-rw-rw-r-- 1 mintadmin 1.3K Feb 23  2021 ipython_console.log.059~\n",
      "-rw-rw-r-- 1 mintadmin 3.1K Feb 23  2021 ipython_console.log.060~\n",
      "-rw-rw-r-- 1 mintadmin 3.8K Feb 23  2021 ipython_console.log.061~\n",
      "-rw-rw-r-- 1 mintadmin  12K Feb 23  2021 ipython_console.log.062~\n",
      "-rw-rw-r-- 1 mintadmin  12K Feb 23  2021 ipython_console.log.063~\n",
      "-rw-rw-r-- 1 mintadmin 7.1K Feb 23  2021 ipython_console.log.064~\n",
      "-rw-rw-r-- 1 mintadmin  44K Feb 23  2021 ipython_console.log.065~\n",
      "-rw-rw-r-- 1 mintadmin 6.4K Feb 23  2021 ipython_console.log.066~\n",
      "-rw-rw-r-- 1 mintadmin 6.0K Feb 23  2021 ipython_console.log.067~\n",
      "-rw-rw-r-- 1 mintadmin   20 Feb 23  2021 ipython_console.log.068~\n",
      "-rw-rw-r-- 1 mintadmin  118 Feb 23  2021 ipython_console.log.069~\n",
      "-rw-rw-r-- 1 mintadmin   20 Feb 23  2021 ipython_console.log.070~\n",
      "-rw-rw-r-- 1 mintadmin   20 Feb 23  2021 ipython_console.log.071~\n",
      "-rw-rw-r-- 1 mintadmin   20 Feb 23  2021 ipython_console.log.072~\n",
      "-rw-rw-r-- 1 mintadmin   20 Feb 23  2021 ipython_console.log.073~\n",
      "-rw-rw-r-- 1 mintadmin   20 Feb 23  2021 ipython_console.log.074~\n",
      "-rw-rw-r-- 1 mintadmin 6.0K Feb 23  2021 ipython_console.log.075~\n",
      "-rw-rw-r-- 1 mintadmin   20 Feb 23  2021 ipython_console.log.076~\n",
      "-rw-rw-r-- 1 mintadmin   20 Feb 23  2021 ipython_console.log.077~\n",
      "-rw-rw-r-- 1 mintadmin   20 Feb 23  2021 ipython_console.log.078~\n",
      "-rw-rw-r-- 1 mintadmin   20 Feb 23  2021 ipython_console.log.079~\n",
      "-rw-rw-r-- 1 mintadmin   20 Feb 23  2021 ipython_console.log.080~\n",
      "-rw-rw-r-- 1 mintadmin   20 Feb 23  2021 ipython_console.log.081~\n",
      "-rw-rw-r-- 1 mintadmin  21K Feb 23  2021 ipython_console.log.082~\n",
      "-rw-rw-r-- 1 mintadmin  541 Feb 23  2021 ipython_console.log.083~\n",
      "-rw-rw-r-- 1 mintadmin   20 Feb 23  2021 ipython_console.log.084~\n",
      "-rw-rw-r-- 1 mintadmin  221 Feb 23  2021 ipython_console.log.085~\n",
      "-rw-rw-r-- 1 mintadmin   55 Feb 23  2021 ipython_console.log.086~\n",
      "-rw-rw-r-- 1 mintadmin 3.5K Feb 23  2021 ipython_console.log.087~\n",
      "-rw-rw-r-- 1 mintadmin  161 Feb 23  2021 ipython_console.log.088~\n",
      "-rw-rw-r-- 1 mintadmin 358K Aug 31 21:52 ipython_logger.log\n"
     ]
    }
   ],
   "metadata": {}
  },
  {
   "cell_type": "markdown",
   "source": [
    "Let's take a look at a few lines of each type of file, to get a feel for the information logged.\n",
    "\n",
    "The `ipython_console.log` file is created for every session (every time IPython is started or every time the Jupyter kernel is started).  It records the commands that were entered and the output, if any, from each command.  It does not record anything that was sent to the console by `print()` statements.  The older log files are numbered, higher number is older (each new session shifts these numbers by 1)."
   ],
   "metadata": {}
  },
  {
   "cell_type": "code",
   "execution_count": 11,
   "source": [
    "!head .logs/ipython_console.log"
   ],
   "outputs": [
    {
     "output_type": "stream",
     "name": "stdout",
     "text": [
      "# IPython log file\n",
      "\n",
      "## Start the `instrument` package\n",
      "# Tue, 31 Aug 2021 21:52:38\n",
      "adsimdet.summary()\n",
      "# Tue, 31 Aug 2021 21:52:38\n",
      "scaler1.summary()\n",
      "# Tue, 31 Aug 2021 21:52:38\n",
      "get_ipython().run_line_magic('ct', 'scalers')\n",
      "# Tue, 31 Aug 2021 21:52:45\n"
     ]
    }
   ],
   "metadata": {}
  },
  {
   "cell_type": "markdown",
   "source": [
    "The `ipython_logger.log` file(s) contain the output from calls to the `logger`.  The files are appended with new logger reports until the file reaches ca. 1 MB.  (Larger files are slow to append.)  Then the file is given a number and a new logger file is created.  Higher numbers are older.  At most, 9 numbered files are retained (to avoid filling disk storage with unnecessary diagnostics).\n",
    "\n",
    "A single *logger* file may contain reports from several sessions.  The third piece of information is the `pid` (process identifier) of the session.  The PID is assigned by the operating system when the session is started.\n",
    "\n",
    "The logger file contains a full report while the report's representation is more terse.  (Users do not always want the full details.  Just remember they are available in the logger file.)  Here's the last few logger lines as shown on the console:\n",
    "\n",
    "    I Wed-00:24:52 - /home/mintadmin/Documents/projects/BCDA-APS/bluesky_instrument_training/instrument/devices/temperature_signal.py\n",
    "    I Wed-00:24:52 - /home/mintadmin/Documents/projects/BCDA-APS/bluesky_instrument_training/instrument/plans/peak_finder_example.py\n",
    "    I Wed-00:24:52 - Startup is complete.\n",
    "\n",
    "Those same lines appear in the logger file as:\n",
    "\n",
    "    |2021-02-24 00:24:52.091|INFO|25986|bluesky-session|temperature_signal|11|MainThread| - /home/mintadmin/Documents/projects/BCDA-APS/bluesky_instrument_training/instrument/devices/temperature_signal.py\n",
    "    |2021-02-24 00:24:52.165|INFO|25986|bluesky-session|peak_finder_example|15|MainThread| - /home/mintadmin/Documents/projects/BCDA-APS/bluesky_instrument_training/instrument/plans/peak_finder_example.py\n",
    "    |2021-02-24 00:24:52.179|INFO|25986|bluesky-session|collection|23|MainThread| - Startup is complete.\n"
   ],
   "metadata": {}
  },
  {
   "cell_type": "code",
   "execution_count": 12,
   "source": [
    "!tail .logs/ipython_logger.log"
   ],
   "outputs": [
    {
     "output_type": "stream",
     "name": "stdout",
     "text": [
      "|2021-08-31 21:52:37.970|INFO|20507|bluesky-session|spec_data_file_writer|13|MainThread| - /home/mintadmin/Documents/projects/BCDA-APS/bluesky_training/./bluesky/instrument/callbacks/spec_data_file_writer.py\n",
      "|2021-08-31 21:52:37.971|INFO|20507|bluesky-session|spec_data_file_writer|29|MainThread| - writing to SPEC file: /home/mintadmin/Documents/projects/BCDA-APS/bluesky_training/20210831-215237.dat\n",
      "|2021-08-31 21:52:37.971|INFO|20507|bluesky-session|spec_data_file_writer|30|MainThread| -    >>>>   Using default SPEC file name   <<<<\n",
      "|2021-08-31 21:52:37.972|INFO|20507|bluesky-session|spec_data_file_writer|31|MainThread| -    file will be created when bluesky ends its next scan\n",
      "|2021-08-31 21:52:37.972|INFO|20507|bluesky-session|spec_data_file_writer|32|MainThread| -    to change SPEC file, use command:   newSpecFile('title')\n",
      "|2021-08-31 21:52:37.973|INFO|20507|bluesky-session|collection|20|MainThread| - #### Plans ####\n",
      "|2021-08-31 21:52:37.975|INFO|20507|bluesky-session|peak_finder_example|15|MainThread| - /home/mintadmin/Documents/projects/BCDA-APS/bluesky_training/./bluesky/instrument/plans/peak_finder_example.py\n",
      "|2021-08-31 21:52:37.977|INFO|20507|bluesky-session|collection|23|MainThread| - #### Utilities ####\n",
      "|2021-08-31 21:52:37.980|INFO|20507|bluesky-session|image_analysis|11|MainThread| - /home/mintadmin/Documents/projects/BCDA-APS/bluesky_training/./bluesky/instrument/utils/image_analysis.py\n",
      "|2021-08-31 21:52:38.408|INFO|20507|bluesky-session|collection|29|MainThread| - #### Startup is complete. ####\n"
     ]
    }
   ],
   "metadata": {}
  },
  {
   "cell_type": "markdown",
   "source": [
    "## SPEC data files\n",
    "\n",
    "A [SPEC](https://certif.com) data file records a copy of the scan data (area detector images are not stored in SPEC files).  By default, the file is created in the present working directory using a name constructed from the date and time with a `.dat` file extension.  Unlike SPEC, new data is written *at the end of a scan*.  It is also possible to use the [`SpecWriterCallback`](https://apstools.readthedocs.io/en/latest/source/_filewriters.html#apstools.filewriters.SpecWriterCallback) to write data extracted from the database after the experiment is done.\n",
    "\n",
    "The 2021-03 training does not cover the use of these files.  You are free to examine them yourselves.\n",
    "\n",
    "<summary>Example SPEC data file from a bluesky session:</summary>\n",
    "\n",
    "<details>\n",
    "\n",
    "    #F /home/mintadmin/Documents/projects/BCDA-APS/bluesky_training/20210723-205451.dat\n",
    "    #E 1627091691\n",
    "    #D Fri Jul 23 20:54:51 2021\n",
    "    #C Bluesky  user = mintadmin  host = mint-vm\n",
    "    #O0 \n",
    "    #o0 \n",
    "\n",
    "    #S 344  scan(detectors=['noisy', 'th_tth_permit'], num=11, args='['theta', 4.5, 3.0, 'ttheta', 9, 6]', per_step='None')\n",
    "    #D Fri Jul 23 20:55:57 2021\n",
    "    #C Fri Jul 23 20:55:57 2021.  plan_type = generator\n",
    "    #C Fri Jul 23 20:55:57 2021.  uid = 17ebe732-8cff-458e-8ebd-f7c5207b2e46\n",
    "    #MD uid = 17ebe732-8cff-458e-8ebd-f7c5207b2e46\n",
    "    #MD beamline_id = Bluesky_training\n",
    "    #MD detectors = ['noisy', 'th_tth_permit']\n",
    "    #MD instrument_name = Bluesky Case Studies\n",
    "    #MD login_id = mintadmin@mint-vm\n",
    "    #MD motors = ('theta', 'ttheta')\n",
    "    #MD notebook = UB_autosave\n",
    "    #MD num_intervals = 10\n",
    "    #MD num_points = 11\n",
    "    #MD objective = Demonstrate UB matrix save & restore\n",
    "    #MD pid = 10389\n",
    "    #MD plan_pattern = inner_product\n",
    "    #MD plan_pattern_args = {'num': 11, 'args': [\"EpicsMotor(prefix='gp:m1', name='theta', settle_time=0.0, timeout=None, read_attrs=['user_readback', 'user_setpoint'], configuration_attrs=['user_offset', 'user_offset_dir', 'velocity', 'acceleration', 'motor_egu'])\", 4.5, 3.0, \"EpicsMotor(prefix='gp:m2', name='ttheta', settle_time=0.0, timeout=None, read_attrs=['user_readback', 'user_setpoint'], configuration_attrs=['user_offset', 'user_offset_dir', 'velocity', 'acceleration', 'motor_egu'])\", 9, 6]}\n",
    "    #MD plan_pattern_module = bluesky.plan_patterns\n",
    "    #MD proposal_id = training\n",
    "    #MD versions = {'apstools': '1.5.1', 'bluesky': '1.7.0', 'databroker': '1.2.3', 'epics': '3.5.0', 'h5py': '3.2.1', 'intake': '0.6.2', 'matplotlib': '3.3.4', 'numpy': '1.20.3', 'ophyd': '1.6.1', 'pyRestTable': '2020.0.3', 'spec2nexus': '2021.1.8'}\n",
    "    #P0 \n",
    "    #N 8\n",
    "    #L theta  ttheta  Epoch_float  Epoch  ttheta_user_setpoint  theta_user_setpoint  noisy  th_tth_permit\n",
    "    4.5 9.0 9.998106479644775 10 9.0 4.5 0.0 31963.763745860513\n",
    "    4.3500000000000005 8.700000000000001 10.893603086471558 11 8.7 4.35 0.0 34611.37532330056\n",
    "    4.2 8.4 11.595271110534668 12 8.4 4.2 0.0 35180.93342784417\n",
    "    4.05 8.1 12.299082040786743 12 8.1 4.05 0.0 37694.92329152548\n",
    "    3.9 7.8 13.00736141204834 13 7.8 3.9 0.0 39442.76049515945\n",
    "    3.75 7.5 13.71463131904602 14 7.5 3.75 0.0 42096.21324791565\n",
    "    3.6 7.2 14.41884994506836 14 7.2 3.6 0.0 44406.552389513294\n",
    "    3.45 6.9 15.12493348121643 15 6.9 3.45 0.0 45977.709130280506\n",
    "    3.3000000000000003 6.6000000000000005 15.830729246139526 16 6.6 3.3 0.0 48881.20001936124\n",
    "    3.15 6.3 16.53253173828125 17 6.300000000000001 3.1500000000000004 0.0 51082.06178377704\n",
    "    3.0 6.0 17.24329447746277 17 6.0 3.0 0.0 53210.29908657747\n",
    "    #C Fri Jul 23 20:56:14 2021.  num_events_baseline = 2\n",
    "    #C Fri Jul 23 20:56:14 2021.  num_events_primary = 11\n",
    "    #C Fri Jul 23 20:56:14 2021.  exit_status = success\n",
    "\n",
    "    #S 345  scan(detectors=['noisy', 'th_tth_permit'], num=4, args='['theta', 3.5, 3.0, 'ttheta', 7, 6]', per_step='None')\n",
    "    #D Fri Jul 23 20:57:50 2021\n",
    "    #C Fri Jul 23 20:57:50 2021.  plan_type = generator\n",
    "    #C Fri Jul 23 20:57:50 2021.  uid = 5761047b-ac05-428a-8b9c-6601b0aba2c0\n",
    "    #MD uid = 5761047b-ac05-428a-8b9c-6601b0aba2c0\n",
    "    #MD beamline_id = Bluesky_training\n",
    "    #MD detectors = ['noisy', 'th_tth_permit']\n",
    "    #MD instrument_name = Bluesky Case Studies\n",
    "    #MD login_id = mintadmin@mint-vm\n",
    "    #MD motors = ('theta', 'ttheta')\n",
    "    #MD notebook = UB_autosave\n",
    "    #MD num_intervals = 3\n",
    "    #MD num_points = 4\n",
    "    #MD objective = Demonstrate UB matrix save & restore\n",
    "    #MD pid = 10389\n",
    "    #MD plan_pattern = inner_product\n",
    "    #MD plan_pattern_args = {'num': 4, 'args': [\"MyMotor(prefix='gp:m1', name='theta', settle_time=0.0, timeout=None, read_attrs=['user_readback', 'user_setpoint', 'backlash', 'backlash_velocity'], configuration_attrs=['user_offset', 'user_offset_dir', 'velocity', 'acceleration', 'motor_egu'])\", 3.5, 3.0, \"MyMotor(prefix='gp:m2', name='ttheta', settle_time=0.0, timeout=None, read_attrs=['user_readback', 'user_setpoint', 'backlash', 'backlash_velocity'], configuration_attrs=['user_offset', 'user_offset_dir', 'velocity', 'acceleration', 'motor_egu'])\", 7, 6]}\n",
    "    #MD plan_pattern_module = bluesky.plan_patterns\n",
    "    #MD proposal_id = training\n",
    "    #MD versions = {'apstools': '1.5.1', 'bluesky': '1.7.0', 'databroker': '1.2.3', 'epics': '3.5.0', 'h5py': '3.2.1', 'intake': '0.6.2', 'matplotlib': '3.3.4', 'numpy': '1.20.3', 'ophyd': '1.6.1', 'pyRestTable': '2020.0.3', 'spec2nexus': '2021.1.8'}\n",
    "    #P0 \n",
    "    #N 12\n",
    "    #L theta  ttheta  Epoch_float  Epoch  theta_user_setpoint  theta_backlash  theta_backlash_velocity  ttheta_user_setpoint  ttheta_backlash  ttheta_backlash_velocity  noisy  th_tth_permit\n",
    "    3.5 7.0 4.44653844833374 4 3.5 0.0 1.0 7.0 0.5 0.2 0.0 46002.45836582881\n",
    "    3.333 6.67 8.672361612319946 9 3.3333333333333335 0.0 1.0 6.666666666666667 0.5 0.2 0.0 46875.28455439954\n",
    "    3.1670000000000003 6.33 12.796637535095215 13 3.1666666666666665 0.0 1.0 6.333333333333333 0.5 0.2 0.0 50480.82899166115\n",
    "    3.0 6.0 16.955684661865234 17 3.0 0.0 1.0 6.0 0.5 0.2 0.0 54033.337551435354\n",
    "    #C Fri Jul 23 20:58:08 2021.  num_events_baseline = 2\n",
    "    #C Fri Jul 23 20:58:08 2021.  num_events_primary = 4\n",
    "    #C Fri Jul 23 20:58:08 2021.  exit_status = success\n",
    "\n",
    "    #S 346  scan(detectors=['noisy', 'th_tth_permit'], num=4, args='['theta', 4.0, 3.0, 'ttheta', 8, 6]', per_step='None')\n",
    "    #D Fri Jul 23 20:58:28 2021\n",
    "    #C Fri Jul 23 20:58:28 2021.  plan_type = generator\n",
    "    #C Fri Jul 23 20:58:28 2021.  uid = 14e4398d-42b5-40cf-b082-e2f7e4fd07fd\n",
    "    #MD uid = 14e4398d-42b5-40cf-b082-e2f7e4fd07fd\n",
    "    #MD beamline_id = Bluesky_training\n",
    "    #MD detectors = ['noisy', 'th_tth_permit']\n",
    "    #MD instrument_name = Bluesky Case Studies\n",
    "    #MD login_id = mintadmin@mint-vm\n",
    "    #MD motors = ('theta', 'ttheta')\n",
    "    #MD notebook = UB_autosave\n",
    "    #MD num_intervals = 3\n",
    "    #MD num_points = 4\n",
    "    #MD objective = Demonstrate UB matrix save & restore\n",
    "    #MD pid = 10389\n",
    "    #MD plan_pattern = inner_product\n",
    "    #MD plan_pattern_args = {'num': 4, 'args': [\"MyMotor(prefix='gp:m1', name='theta', settle_time=0.0, timeout=None, read_attrs=['user_readback', 'user_setpoint', 'backlash', 'backlash_velocity'], configuration_attrs=['user_offset', 'user_offset_dir', 'velocity', 'acceleration', 'motor_egu'])\", 4.0, 3.0, \"MyMotor(prefix='gp:m2', name='ttheta', settle_time=0.0, timeout=None, read_attrs=['user_readback', 'user_setpoint', 'backlash', 'backlash_velocity'], configuration_attrs=['user_offset', 'user_offset_dir', 'velocity', 'acceleration', 'motor_egu'])\", 8, 6]}\n",
    "    #MD plan_pattern_module = bluesky.plan_patterns\n",
    "    #MD proposal_id = training\n",
    "    #MD versions = {'apstools': '1.5.1', 'bluesky': '1.7.0', 'databroker': '1.2.3', 'epics': '3.5.0', 'h5py': '3.2.1', 'intake': '0.6.2', 'matplotlib': '3.3.4', 'numpy': '1.20.3', 'ophyd': '1.6.1', 'pyRestTable': '2020.0.3', 'spec2nexus': '2021.1.8'}\n",
    "    #P0 \n",
    "    #N 12\n",
    "    #L theta  ttheta  Epoch_float  Epoch  theta_user_setpoint  theta_backlash  theta_backlash_velocity  ttheta_user_setpoint  ttheta_backlash  ttheta_backlash_velocity  noisy  th_tth_permit\n",
    "    4.0 8.0 5.639213562011719 6 4.0 0.0 1.0 8.0 0.5 0.2 0.0 37946.01826904763\n",
    "    3.6670000000000003 7.33 10.168693780899048 10 3.6666666666666665 0.0 1.0 7.333333333333333 0.5 0.2 0.0 43240.06624621665\n",
    "    3.333 6.67 14.600727081298828 15 3.3333333333333335 0.0 1.0 6.666666666666667 0.5 0.2 0.0 47339.97568055583\n",
    "    3.0 6.0 19.046493530273438 19 3.0 0.0 1.0 6.0 0.5 0.2 0.0 52702.49931930254\n",
    "    #C Fri Jul 23 20:58:48 2021.  num_events_baseline = 2\n",
    "    #C Fri Jul 23 20:58:48 2021.  num_events_primary = 4\n",
    "    #C Fri Jul 23 20:58:48 2021.  exit_status = success\n",
    "\n",
    "    #S 347  scan(detectors=['noisy', 'th_tth_permit'], num=4, args='['theta', 4.0, 3.0, 'ttheta', 8, 6]', per_step='None')\n",
    "    #D Fri Jul 23 21:03:30 2021\n",
    "    #C Fri Jul 23 21:03:30 2021.  plan_type = generator\n",
    "    #C Fri Jul 23 21:03:30 2021.  uid = 8869043f-56fc-4b3b-ad75-bc024694e6d6\n",
    "    #MD uid = 8869043f-56fc-4b3b-ad75-bc024694e6d6\n",
    "    #MD beamline_id = Bluesky_training\n",
    "    #MD detectors = ['noisy', 'th_tth_permit']\n",
    "    #MD instrument_name = Bluesky Case Studies\n",
    "    #MD login_id = mintadmin@mint-vm\n",
    "    #MD motors = ('theta', 'ttheta')\n",
    "    #MD notebook = UB_autosave\n",
    "    #MD num_intervals = 3\n",
    "    #MD num_points = 4\n",
    "    #MD objective = Demonstrate UB matrix save & restore\n",
    "    #MD pid = 10389\n",
    "    #MD plan_pattern = inner_product\n",
    "    #MD plan_pattern_args = {'num': 4, 'args': [\"MyMotor(prefix='gp:m1', name='theta', settle_time=0.0, timeout=None, read_attrs=['user_readback', 'user_setpoint', 'backlash', 'backlash_velocity'], configuration_attrs=['user_offset', 'user_offset_dir', 'velocity', 'acceleration', 'motor_egu'])\", 4.0, 3.0, \"MyMotor(prefix='gp:m2', name='ttheta', settle_time=0.0, timeout=None, read_attrs=['user_readback', 'user_setpoint', 'backlash', 'backlash_velocity'], configuration_attrs=['user_offset', 'user_offset_dir', 'velocity', 'acceleration', 'motor_egu'])\", 8, 6]}\n",
    "    #MD plan_pattern_module = bluesky.plan_patterns\n",
    "    #MD proposal_id = training\n",
    "    #MD versions = {'apstools': '1.5.1', 'bluesky': '1.7.0', 'databroker': '1.2.3', 'epics': '3.5.0', 'h5py': '3.2.1', 'intake': '0.6.2', 'matplotlib': '3.3.4', 'numpy': '1.20.3', 'ophyd': '1.6.1', 'pyRestTable': '2020.0.3', 'spec2nexus': '2021.1.8'}\n",
    "    #P0 \n",
    "    #N 12\n",
    "    #L theta  ttheta  Epoch_float  Epoch  theta_user_setpoint  theta_backlash  theta_backlash_velocity  ttheta_user_setpoint  ttheta_backlash  ttheta_backlash_velocity  noisy  th_tth_permit\n",
    "    4.0 8.0 5.540862798690796 6 4.0 0.0 1.0 8.0 0.5 0.2 0.0 37996.6450939875\n",
    "    3.6670000000000003 7.33 9.968387842178345 10 3.6666666666666665 0.0 1.0 7.333333333333333 0.5 0.2 0.0 42649.32391462264\n",
    "    3.333 6.67 14.498717546463013 14 3.3333333333333335 0.0 1.0 6.666666666666667 0.5 0.2 0.0 46995.88551308093\n",
    "    3.0 6.0 19.0245144367218 19 3.0 0.0 1.0 6.0 0.5 0.2 0.0 54150.34088276983\n",
    "    #C Fri Jul 23 21:03:49 2021.  num_events_baseline = 2\n",
    "    #C Fri Jul 23 21:03:49 2021.  num_events_primary = 4\n",
    "    #C Fri Jul 23 21:03:49 2021.  exit_status = success\n",
    "\n",
    "    #S 348  scan(detectors=['noisy', 'th_tth_permit'], num=4, args='['theta', 4.0, 3.0, 'ttheta', 8, 6]', per_step='None')\n",
    "    #D Fri Jul 23 21:04:04 2021\n",
    "    #C Fri Jul 23 21:04:04 2021.  plan_type = generator\n",
    "    #C Fri Jul 23 21:04:04 2021.  uid = e9498d10-8fb7-41c4-aaba-f5204db32761\n",
    "    #MD uid = e9498d10-8fb7-41c4-aaba-f5204db32761\n",
    "    #MD beamline_id = Bluesky_training\n",
    "    #MD detectors = ['noisy', 'th_tth_permit']\n",
    "    #MD instrument_name = Bluesky Case Studies\n",
    "    #MD login_id = mintadmin@mint-vm\n",
    "    #MD motors = ('theta', 'ttheta')\n",
    "    #MD notebook = UB_autosave\n",
    "    #MD num_intervals = 3\n",
    "    #MD num_points = 4\n",
    "    #MD objective = Demonstrate UB matrix save & restore\n",
    "    #MD pid = 10389\n",
    "    #MD plan_pattern = inner_product\n",
    "    #MD plan_pattern_args = {'num': 4, 'args': [\"MyMotor(prefix='gp:m1', name='theta', settle_time=0.0, timeout=None, read_attrs=['user_readback', 'user_setpoint', 'backlash', 'backlash_velocity'], configuration_attrs=['user_offset', 'user_offset_dir', 'velocity', 'acceleration', 'motor_egu'])\", 4.0, 3.0, \"MyMotor(prefix='gp:m2', name='ttheta', settle_time=0.0, timeout=None, read_attrs=['user_readback', 'user_setpoint', 'backlash', 'backlash_velocity'], configuration_attrs=['user_offset', 'user_offset_dir', 'velocity', 'acceleration', 'motor_egu'])\", 8, 6]}\n",
    "    #MD plan_pattern_module = bluesky.plan_patterns\n",
    "    #MD proposal_id = training\n",
    "    #MD versions = {'apstools': '1.5.1', 'bluesky': '1.7.0', 'databroker': '1.2.3', 'epics': '3.5.0', 'h5py': '3.2.1', 'intake': '0.6.2', 'matplotlib': '3.3.4', 'numpy': '1.20.3', 'ophyd': '1.6.1', 'pyRestTable': '2020.0.3', 'spec2nexus': '2021.1.8'}\n",
    "    #P0 \n",
    "    #N 12\n",
    "    #L theta  ttheta  Epoch_float  Epoch  theta_user_setpoint  theta_backlash  theta_backlash_velocity  ttheta_user_setpoint  ttheta_backlash  ttheta_backlash_velocity  noisy  th_tth_permit\n",
    "    4.0 8.0 5.37143349647522 5 4.0 0.0 1.0 8.0 0.5 0.2 0.0 38949.839143231766\n",
    "    3.6670000000000003 7.33 9.859706163406372 10 3.6666666666666665 0.0 1.0 7.333333333333333 0.5 0.2 0.0 43461.79736667226\n",
    "    3.333 6.67 14.294379949569702 14 3.3333333333333335 0.0 1.0 6.666666666666667 0.5 0.2 0.0 47545.930496638146\n",
    "    3.0 6.0 18.838080167770386 19 3.0 0.0 1.0 6.0 0.5 0.2 0.0 53464.77967307891\n",
    "    #C Fri Jul 23 21:04:23 2021.  num_events_baseline = 2\n",
    "    #C Fri Jul 23 21:04:23 2021.  num_events_primary = 4\n",
    "    #C Fri Jul 23 21:04:23 2021.  exit_status = success\n",
    "\n",
    "</details>"
   ],
   "metadata": {}
  },
  {
   "cell_type": "markdown",
   "source": [
    "## User Code File\n",
    "\n",
    "A common request from instruments is to allow the user to write some python code that can be loaded into the current session.  Since this codedevelopment of this *user code* is often iterative, it must be possible to reload the code without requiring the session to exit and restart.\n",
    "\n",
    "The local file [`pv_finder.py`](pv_finder.py) provides an example of such a user code file.  Load this file with the command:\n",
    "\n",
    "    %run -im pv_finder\n",
    "\n",
    "Note that since the `m` (as module) command option was added, it is not necessary to give the Python extension `.py`.\n",
    "\n",
    "This file loads the command `findpv(PVNAME)` which identifies the name of the ophyd object(s) using the PV name passed as an argument.  Take for example, we want to find PV `gp:userCalc8.CALC`:"
   ],
   "metadata": {}
  },
  {
   "cell_type": "code",
   "execution_count": 13,
   "source": [
    "%run -im pv_finder"
   ],
   "outputs": [],
   "metadata": {}
  },
  {
   "cell_type": "code",
   "execution_count": 15,
   "source": [
    "findpv(\"gp:userCalc8.CALC\")"
   ],
   "outputs": [
    {
     "output_type": "execute_result",
     "data": {
      "text/plain": [
       "{'read': ['calcs.calc8.calculation', 'temperature.calculation'],\n",
       " 'write': ['calcs.calc8.calculation', 'temperature.calculation']}"
      ]
     },
     "metadata": {},
     "execution_count": 15
    }
   ],
   "metadata": {}
  },
  {
   "cell_type": "markdown",
   "source": [
    "Observe that the same `.calculation` is both readable and writable from two different ophyd objects: `calcs.calc8` and `temperature`."
   ],
   "metadata": {}
  },
  {
   "cell_type": "markdown",
   "source": [
    "## databroker\n",
    "\n",
    "The [`databroker`](https://blueskyproject.io/databroker) package provides \n",
    "a Python interface to the database with the experiment data, including \n",
    "references to the large file content such as area detector images.  A \n",
    "[YAML](https://yaml.org) configuration file connects databroker with a \n",
    "specific repository in the MongoDB database server.  In the example here \n",
    "([`bluesky_class.yml`](./bluesky_class.yml)), the name of the *catalog* entry\n",
    "in this file is `class_2021_03`.  It makes two connections to a MongoDB server\n",
    "running on the same workstation `localhost`.  Both connections are to the \n",
    "same MongoDB collection: `class_2021_03-bluesky`.  The name of the file\n",
    "is not important as long as it is placed in a directory searched by \n",
    "`databroker.catalog`.\n",
    "\n",
    "**Example**\n",
    "\n",
    "```yml\n",
    "# file: bluesky_class.yml\n",
    "# purpose: Configuration file to connect Bluesky databroker with MongoDB\n",
    "# For 2021-03 Python Training at APS\n",
    "\n",
    "# Copy to: ~/.local/share/intake/bluesky_class.yml\n",
    "# Create subdirectories as needed\n",
    "\n",
    "sources:\n",
    "  class_2021_03:\n",
    "    args:\n",
    "      asset_registry_db: mongodb://localhost:27017/class_2021_03-bluesky\n",
    "      metadatastore_db: mongodb://localhost:27017/class_2021_03-bluesky\n",
    "    driver: bluesky-mongo-normalized-catalog\n",
    "```\n",
    "\n",
    "When the bluesky session starts, this `class_2021_03` catalog is referenced when\n",
    "creating the `db` object in the instrument package, in \n",
    "`instrument.framework.initialize.py` by these lines:\n",
    "\n",
    "```python\n",
    "catalog_name = \"class_2021_03\"\n",
    "db = databroker.catalog[catalog_name].v1\n",
    "logger.info(f\"using databroker catalog '{catalog_name}'\")\n",
    "```"
   ],
   "metadata": {}
  }
 ],
 "metadata": {
  "kernelspec": {
   "name": "python3",
   "display_name": "Python 3.8.10 64-bit ('bluesky_2021_2': conda)"
  },
  "language_info": {
   "codemirror_mode": {
    "name": "ipython",
    "version": 3
   },
   "file_extension": ".py",
   "mimetype": "text/x-python",
   "name": "python",
   "nbconvert_exporter": "python",
   "pygments_lexer": "ipython3",
   "version": "3.8.10"
  },
  "interpreter": {
   "hash": "60aa360bcd8d3c8cfbc4e726e53a455fcd5c15cdf29caaf63c7ca2494eba79e9"
  }
 },
 "nbformat": 4,
 "nbformat_minor": 5
}