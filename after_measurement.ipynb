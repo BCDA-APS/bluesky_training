{
 "cells": [
  {
   "cell_type": "markdown",
   "source": [
    "# Accessing data later, after the measurement\n",
    "\n",
    "From *APS Python Training for Bluesky Data Acquisition*.\n",
    "\n",
    "**Objective**\n",
    "\n",
    "Get the data from previous *run(s)* and work with it.\n",
    "\n",
    "## Skip the `instrument` package\n",
    "\n",
    "There is no need to import the instrument package since we won't measure anything in this notebook.\n",
    "\n",
    "## Access the database\n",
    "\n",
    "In the instrument package (in file `instrument/framework/initialize.py`), we connected databroker with the MongoDB server using the `class_2021_03` *catalog*. Get that catalog now.  We'll need to import some tools first."
   ],
   "metadata": {}
  },
  {
   "cell_type": "code",
   "execution_count": 1,
   "source": [
    "from apstools.utils import listruns, quantify_md_key_use\n",
    "import databroker\n",
    "from databroker.queries import TimeRange\n",
    "\n",
    "db = databroker.catalog[\"training\"]\n",
    "listruns()"
   ],
   "outputs": [
    {
     "output_type": "stream",
     "name": "stdout",
     "text": [
      "catalog: training\n"
     ]
    },
    {
     "output_type": "execute_result",
     "data": {
      "text/plain": [
       "    scan_id                 time plan_name               detectors\n",
       "0       364  2021-08-31 22:11:25     count           [temperature]\n",
       "1       363  2021-08-31 22:11:04     count           [temperature]\n",
       "2       362  2021-08-31 22:11:02     count           [temperature]\n",
       "3       361  2021-08-31 22:11:01     count           [temperature]\n",
       "4       360  2021-08-31 22:08:39     count               [scaler1]\n",
       "5       359  2021-08-31 22:08:37     count               [scaler1]\n",
       "6       360  2021-08-25 17:45:11      scan    [fourc, temperature]\n",
       "7       359  2021-08-25 17:21:24      scan    [fourc, temperature]\n",
       "8       358  2021-08-25 17:20:39      scan                 [fourc]\n",
       "9       357  2021-08-25 17:20:24      scan                 [fourc]\n",
       "10      356  2021-08-21 22:52:41       fly                        \n",
       "11      355  2021-08-21 22:49:53       fly                        \n",
       "12      354  2021-08-21 22:46:11       fly                        \n",
       "13      353  2021-08-20 23:08:50      scan                 [noisy]\n",
       "14      352  2021-08-20 22:53:52      scan                 [noisy]\n",
       "15      351  2021-08-20 22:42:53      scan             [noisy_det]\n",
       "16      350  2021-07-23 21:44:58     count               [scaler1]\n",
       "17      349  2021-07-23 21:44:56     count               [scaler1]\n",
       "18      348  2021-07-23 21:04:04      scan  [noisy, th_tth_permit]\n",
       "19      347  2021-07-23 21:03:30      scan  [noisy, th_tth_permit]"
      ],
      "text/html": [
       "<div>\n",
       "<style scoped>\n",
       "    .dataframe tbody tr th:only-of-type {\n",
       "        vertical-align: middle;\n",
       "    }\n",
       "\n",
       "    .dataframe tbody tr th {\n",
       "        vertical-align: top;\n",
       "    }\n",
       "\n",
       "    .dataframe thead th {\n",
       "        text-align: right;\n",
       "    }\n",
       "</style>\n",
       "<table border=\"1\" class=\"dataframe\">\n",
       "  <thead>\n",
       "    <tr style=\"text-align: right;\">\n",
       "      <th></th>\n",
       "      <th>scan_id</th>\n",
       "      <th>time</th>\n",
       "      <th>plan_name</th>\n",
       "      <th>detectors</th>\n",
       "    </tr>\n",
       "  </thead>\n",
       "  <tbody>\n",
       "    <tr>\n",
       "      <th>0</th>\n",
       "      <td>364</td>\n",
       "      <td>2021-08-31 22:11:25</td>\n",
       "      <td>count</td>\n",
       "      <td>[temperature]</td>\n",
       "    </tr>\n",
       "    <tr>\n",
       "      <th>1</th>\n",
       "      <td>363</td>\n",
       "      <td>2021-08-31 22:11:04</td>\n",
       "      <td>count</td>\n",
       "      <td>[temperature]</td>\n",
       "    </tr>\n",
       "    <tr>\n",
       "      <th>2</th>\n",
       "      <td>362</td>\n",
       "      <td>2021-08-31 22:11:02</td>\n",
       "      <td>count</td>\n",
       "      <td>[temperature]</td>\n",
       "    </tr>\n",
       "    <tr>\n",
       "      <th>3</th>\n",
       "      <td>361</td>\n",
       "      <td>2021-08-31 22:11:01</td>\n",
       "      <td>count</td>\n",
       "      <td>[temperature]</td>\n",
       "    </tr>\n",
       "    <tr>\n",
       "      <th>4</th>\n",
       "      <td>360</td>\n",
       "      <td>2021-08-31 22:08:39</td>\n",
       "      <td>count</td>\n",
       "      <td>[scaler1]</td>\n",
       "    </tr>\n",
       "    <tr>\n",
       "      <th>5</th>\n",
       "      <td>359</td>\n",
       "      <td>2021-08-31 22:08:37</td>\n",
       "      <td>count</td>\n",
       "      <td>[scaler1]</td>\n",
       "    </tr>\n",
       "    <tr>\n",
       "      <th>6</th>\n",
       "      <td>360</td>\n",
       "      <td>2021-08-25 17:45:11</td>\n",
       "      <td>scan</td>\n",
       "      <td>[fourc, temperature]</td>\n",
       "    </tr>\n",
       "    <tr>\n",
       "      <th>7</th>\n",
       "      <td>359</td>\n",
       "      <td>2021-08-25 17:21:24</td>\n",
       "      <td>scan</td>\n",
       "      <td>[fourc, temperature]</td>\n",
       "    </tr>\n",
       "    <tr>\n",
       "      <th>8</th>\n",
       "      <td>358</td>\n",
       "      <td>2021-08-25 17:20:39</td>\n",
       "      <td>scan</td>\n",
       "      <td>[fourc]</td>\n",
       "    </tr>\n",
       "    <tr>\n",
       "      <th>9</th>\n",
       "      <td>357</td>\n",
       "      <td>2021-08-25 17:20:24</td>\n",
       "      <td>scan</td>\n",
       "      <td>[fourc]</td>\n",
       "    </tr>\n",
       "    <tr>\n",
       "      <th>10</th>\n",
       "      <td>356</td>\n",
       "      <td>2021-08-21 22:52:41</td>\n",
       "      <td>fly</td>\n",
       "      <td></td>\n",
       "    </tr>\n",
       "    <tr>\n",
       "      <th>11</th>\n",
       "      <td>355</td>\n",
       "      <td>2021-08-21 22:49:53</td>\n",
       "      <td>fly</td>\n",
       "      <td></td>\n",
       "    </tr>\n",
       "    <tr>\n",
       "      <th>12</th>\n",
       "      <td>354</td>\n",
       "      <td>2021-08-21 22:46:11</td>\n",
       "      <td>fly</td>\n",
       "      <td></td>\n",
       "    </tr>\n",
       "    <tr>\n",
       "      <th>13</th>\n",
       "      <td>353</td>\n",
       "      <td>2021-08-20 23:08:50</td>\n",
       "      <td>scan</td>\n",
       "      <td>[noisy]</td>\n",
       "    </tr>\n",
       "    <tr>\n",
       "      <th>14</th>\n",
       "      <td>352</td>\n",
       "      <td>2021-08-20 22:53:52</td>\n",
       "      <td>scan</td>\n",
       "      <td>[noisy]</td>\n",
       "    </tr>\n",
       "    <tr>\n",
       "      <th>15</th>\n",
       "      <td>351</td>\n",
       "      <td>2021-08-20 22:42:53</td>\n",
       "      <td>scan</td>\n",
       "      <td>[noisy_det]</td>\n",
       "    </tr>\n",
       "    <tr>\n",
       "      <th>16</th>\n",
       "      <td>350</td>\n",
       "      <td>2021-07-23 21:44:58</td>\n",
       "      <td>count</td>\n",
       "      <td>[scaler1]</td>\n",
       "    </tr>\n",
       "    <tr>\n",
       "      <th>17</th>\n",
       "      <td>349</td>\n",
       "      <td>2021-07-23 21:44:56</td>\n",
       "      <td>count</td>\n",
       "      <td>[scaler1]</td>\n",
       "    </tr>\n",
       "    <tr>\n",
       "      <th>18</th>\n",
       "      <td>348</td>\n",
       "      <td>2021-07-23 21:04:04</td>\n",
       "      <td>scan</td>\n",
       "      <td>[noisy, th_tth_permit]</td>\n",
       "    </tr>\n",
       "    <tr>\n",
       "      <th>19</th>\n",
       "      <td>347</td>\n",
       "      <td>2021-07-23 21:03:30</td>\n",
       "      <td>scan</td>\n",
       "      <td>[noisy, th_tth_permit]</td>\n",
       "    </tr>\n",
       "  </tbody>\n",
       "</table>\n",
       "</div>"
      ]
     },
     "metadata": {},
     "execution_count": 1
    }
   ],
   "metadata": {}
  },
  {
   "cell_type": "markdown",
   "source": [
    "Our temperature count measurement is one of those listed, but which one?  Recall how we started our run: `RE(bp.count([temperature], num=50, delay=0.1, md={\"motive\": \"tscan\"}))`.  \n",
    "\n",
    "In case some other type of run is more recent, we'll search for the most recent run with this metadata.  First, find any recent (since Feb 2021) runs with this metadata.  We need to do this search with the `v2` version of databroker catalogs.  The result of the search is another catalog."
   ],
   "metadata": {}
  },
  {
   "cell_type": "code",
   "execution_count": 2,
   "source": [
    "cat = db.v2.search(TimeRange(since=\"2021-02-02\")).search({\"motive\": \"tscan\"})\n",
    "print(f\"Search for runs with motive='tscan' metadata found {len(cat)} run(s).\")"
   ],
   "outputs": [
    {
     "output_type": "stream",
     "name": "stdout",
     "text": [
      "Search for runs with motive='tscan' metadata found 1 run(s).\n"
     ]
    }
   ],
   "metadata": {}
  },
  {
   "cell_type": "markdown",
   "source": [
    "Show the run's metadata."
   ],
   "metadata": {}
  },
  {
   "cell_type": "code",
   "execution_count": 3,
   "source": [
    "if len(cat):\n",
    "    run = cat[-1]\n",
    "else:\n",
    "    raise KeyError(\"No runs found with `motive='tscan'`\")\n",
    "\n",
    "run.metadata"
   ],
   "outputs": [
    {
     "output_type": "execute_result",
     "data": {
      "text/plain": [
       "{'start': Start({'beamline_id': 'Bluesky_training',\n",
       " 'detectors': ['temperature'],\n",
       " 'hints': {'dimensions': [[['time'], 'primary']]},\n",
       " 'instrument_name': 'Bluesky Case Studies',\n",
       " 'login_id': 'mintadmin@mint-vm',\n",
       " 'motive': 'tscan',\n",
       " 'num_intervals': 49,\n",
       " 'num_points': 50,\n",
       " 'pid': 21604,\n",
       " 'plan_args': {'detectors': [\"MyPvPositioner(prefix='gp:userCalc8', \"\n",
       "                             \"name='temperature', settle_time=0.0, \"\n",
       "                             \"timeout=None, read_attrs=['setpoint', \"\n",
       "                             \"'readback', 'done', 'calculation', \"\n",
       "                             \"'description', 'max_change', 'noise', \"\n",
       "                             \"'previous_value_pv', 'scanning_rate', \"\n",
       "                             \"'tolerance'], configuration_attrs=[], \"\n",
       "                             \"limits=(-20, 255), egu='C')\"],\n",
       "               'num': 50},\n",
       " 'plan_name': 'count',\n",
       " 'plan_type': 'generator',\n",
       " 'proposal_id': 'training',\n",
       " 'scan_id': 364,\n",
       " 'time': 1630465885.9217553,\n",
       " 'uid': 'c65050de-dda4-4256-9e9d-b0e85b49f386',\n",
       " 'versions': {'apstools': '1.5.1+3.g0e6fc9a',\n",
       "              'bluesky': '1.7.0',\n",
       "              'databroker': '1.2.3',\n",
       "              'epics': '3.5.0',\n",
       "              'h5py': '3.2.1',\n",
       "              'intake': '0.6.2',\n",
       "              'matplotlib': '3.3.4',\n",
       "              'numpy': '1.20.3',\n",
       "              'ophyd': '1.6.1',\n",
       "              'pyRestTable': '2020.0.3',\n",
       "              'spec2nexus': '2021.1.8'}}),\n",
       " 'stop': Stop({'exit_status': 'success',\n",
       " 'num_events': {'baseline': 2, 'primary': 50},\n",
       " 'reason': '',\n",
       " 'run_start': 'c65050de-dda4-4256-9e9d-b0e85b49f386',\n",
       " 'time': 1630465891.893607,\n",
       " 'uid': 'c83e5b50-4b29-4ecf-90cb-ea48d84e5245'}),\n",
       " 'catalog_dir': None}"
      ]
     },
     "metadata": {},
     "execution_count": 3
    }
   ],
   "metadata": {}
  },
  {
   "cell_type": "markdown",
   "source": [
    "## Read the primary data stream of the run"
   ],
   "metadata": {}
  },
  {
   "cell_type": "code",
   "execution_count": 4,
   "source": [
    "dataset = run.primary.read()"
   ],
   "outputs": [],
   "metadata": {}
  },
  {
   "cell_type": "markdown",
   "source": [
    "Let's get the values as a 1-D numpy array."
   ],
   "metadata": {}
  },
  {
   "cell_type": "code",
   "execution_count": 5,
   "source": [
    "T = dataset[\"temperature\"].values"
   ],
   "outputs": [],
   "metadata": {}
  },
  {
   "cell_type": "markdown",
   "source": [
    "## Compute the statistics\n",
    "Use the methods of numpy arrays to compute maximum, mean, standard deviation, and minimum.  Looks nicer in a table."
   ],
   "metadata": {}
  },
  {
   "cell_type": "code",
   "execution_count": 6,
   "source": [
    "import pyRestTable\n",
    "\n",
    "table = pyRestTable.Table()\n",
    "table.addLabel(\"measure\")\n",
    "table.addLabel(\"value\")\n",
    "table.addRow((\"max\", T.max()))\n",
    "table.addRow((\"mean\", T.mean()))\n",
    "table.addRow((\"dev\", T.std()))\n",
    "table.addRow((\"min\", T.min()))\n",
    "table.addRow((\"#\", len(T)))\n",
    "print(table)"
   ],
   "outputs": [
    {
     "output_type": "stream",
     "name": "stdout",
     "text": [
      "======= ==================\n",
      "measure value             \n",
      "======= ==================\n",
      "max     25.49371328297856 \n",
      "mean    25.045955291065845\n",
      "dev     0.2941932973582167\n",
      "min     24.500488288700694\n",
      "#       50                \n",
      "======= ==================\n",
      "\n"
     ]
    }
   ],
   "metadata": {}
  },
  {
   "cell_type": "markdown",
   "source": [
    "Let's replot that data for comparison."
   ],
   "metadata": {}
  },
  {
   "cell_type": "code",
   "execution_count": 7,
   "source": [
    "dataset[\"temperature\"].plot(marker=\"o\", color=\"red\")"
   ],
   "outputs": [
    {
     "output_type": "execute_result",
     "data": {
      "text/plain": [
       "[<matplotlib.lines.Line2D at 0x7f3a10b5e310>]"
      ]
     },
     "metadata": {},
     "execution_count": 7
    },
    {
     "output_type": "display_data",
     "data": {
      "text/plain": [
       "<Figure size 432x288 with 1 Axes>"
      ],
      "image/png": "[encoded data removed]"
     },
     "metadata": {
      "needs_background": "light"
     }
    }
   ],
   "metadata": {}
  }
 ],
 "metadata": {
  "kernelspec": {
   "name": "python3",
   "display_name": "Python 3.8.10 64-bit ('bluesky_2021_2': conda)"
  },
  "language_info": {
   "codemirror_mode": {
    "name": "ipython",
    "version": 3
   },
   "file_extension": ".py",
   "mimetype": "text/x-python",
   "name": "python",
   "nbconvert_exporter": "python",
   "pygments_lexer": "ipython3",
   "version": "3.8.10"
  },
  "interpreter": {
   "hash": "60aa360bcd8d3c8cfbc4e726e53a455fcd5c15cdf29caaf63c7ca2494eba79e9"
  }
 },
 "nbformat": 4,
 "nbformat_minor": 5
}