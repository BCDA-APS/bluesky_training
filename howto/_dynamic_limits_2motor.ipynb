{
 "cells": [
  {
   "attachments": {},
   "cell_type": "markdown",
   "metadata": {},
   "source": [
    "# Dynamic Limits for Two Motors"
   ]
  },
  {
   "attachments": {},
   "cell_type": "markdown",
   "metadata": {},
   "source": [
    "## Overview\n",
    "\n",
    "Some instrument designs need protection against accidental collision between moving parts during routine operations.  In such cases, each of the axes may be operating between its valid range but an interim (in-motion) state can pose the possibility of a collision.\n",
    "\n",
    "One such possible collision is when arms of a diffractometer (such as $\\theta$ and $2\\theta$, known here as `theta` and `ttheta`, respectively) collide causing damage to beam transport apparatus and consequential instrumental downtime.\n",
    "\n",
    "To prevent the collision *in this case*, the $2\\theta$ axis must be at least $\\delta$ degrees above the $\\theta$ axis.  Empirically, $\\delta$ of 3 degrees is sufficient protection.\n",
    "\n",
    "From a controls safety view, we provide an EPICS PV calculation that is zero when the move is not permitted and one when: ($2\\theta - \\theta) \\ge \\delta$.  We'll monitor that PV in Bluesky to add a [suspender](https://blueskyproject.io/bluesky/state-machine.html#automated-suspension) that can interrupt the scan (via the [bluesky.RunEngine](https://blueskyproject.io/bluesky/run_engine_api.html?highlight=runengine)) if the permit is removed.  When the RunEngine handles an interruption involving [*movable devices*](https://blueskyproject.io/bluesky/hardware.html?highlight=movables#settable-movable-device), it sends a stop to each of the movables involved.  Thus, when the dynamic limit permit is removed, both motors are stopped and the scan pauses, waiting for external interaction to clear the condition.\n",
    "\n",
    "<details>\n",
    "[Here](https://github.com/bluesky/bluesky/blob/4fab894bddbd4a563f28852ea3171b87140ae7b9/bluesky/run_engine.py#L1034-L1036) is where bluesky tells the motors to stop:\n",
    "\n",
    "```\n",
    "            if justification is not None:\n",
    "                print(\"Justification for this suspension:\\n%s\" % justification)\n",
    "            for current_run in self._run_bundlers.values():\n",
    "                current_run.record_interruption('resume')\n",
    "            # During suspend, all motors should be stopped. Call stop() on\n",
    "            # every object we ever set().\n",
    "            self._stop_movable_objects(success=True)\n",
    "```\n",
    "\n",
    "If the RunEngine is started while the dynamic limit permit calculation is zero, the RunEngine will pause immediately.  Here is an example:\n",
    "\n",
    "```\n",
    "In [21]: uid = RE(th_tth_scan([noisy, th_tth_permit], 8, 6, points=4, min_sep=3))                               \n",
    "At least one suspender has tripped. The plan will begin when all suspenders are ready. Justification:\n",
    "    1. Signal th_tth_permit is low\n",
    "\n",
    "Suspending... To get to the prompt, hit Ctrl-C twice to pause.\n",
    "```\n",
    "\n",
    "We might need to write our own suspender if none of the [provided suspenders](https://blueskyproject.io/bluesky/state-machine.html#built-in-suspenders) will do the job we want.\n",
    "\n",
    "</details>\n",
    "\n",
    "## Summary\n",
    "\n",
    "Any time the motors are moved by the bluesky RunEngine, they will be stopped if the dynamic limit permit calculation goes to zero and the scan will pause.\n"
   ]
  },
  {
   "cell_type": "markdown",
   "metadata": {},
   "source": [
    "## EPICS setup"
   ]
  },
  {
   "attachments": {},
   "cell_type": "markdown",
   "metadata": {},
   "source": [
    "We start with two motor axes defined in EPICS.  Here, we run the docker image [prjemian/synApps](https://hub.docker.com/r/prjemian/synapps) to make the [EPICS IOC simulator run in a docker container](https://github.com/prjemian/epics-docker/#custom-synappshttps://github.com/prjemian/epics-docker/#custom-synapps) with IOC prefix `gp:`.  These are motor PVs: `gp:m1` and `gp:m2` as shown.\n",
    "\n",
    "![EPICS motor GUI screens](/_static/demo_dynamic_limits_motors.png)"
   ]
  },
  {
   "attachments": {},
   "cell_type": "markdown",
   "metadata": {},
   "source": [
    "To compute a dynamic limit between the two motor axes, we use a *userCalc* (EPICS [swait](https://htmlpreview.github.io/?https://raw.githubusercontent.com/epics-modules/calc/R3-6-1/documentation/swaitRecord.html) record), `gp:userCalc1` with settings as shown.\n",
    "\n",
    "1. Set the description field to describe what this does.\n",
    "1. Monitor each motor's readback (`.RBV`) value.  The readback value is the motor record's *best* knowledge of the actual motor position.\n",
    "1. `gp:userCalc1.INAN` = `sky:m1.RBV`, the value will be in `A` once the motor moves.\n",
    "1. `gp:userCalc1.INBN` = `sky:m2.RBV`, the value will be in `B` once the motor moves.\n",
    "1. Change the calculation's `.SCAN` field from *Passive* (calculates only when requested) to *I/O Intr* (calculate when any input changes, based on each field's *TRIGGER?* setting).\n",
    "1. Enter the angle of minimum approach (3) into the `gp:userCalc1.C` field.  This will be the PV to change this number.\n",
    "1. Enter the permit calculation: `(B-A)>=C`\n",
    "\n",
    "The calculated result (in `gp:userCalc1.VAL`, `gp:userCalc1` for short) once either of the motors move.\n",
    "\n",
    "![motion permit calculation](/_static/demo_dynamic_limits_permit_calc.png)"
   ]
  },
  {
   "attachments": {},
   "cell_type": "markdown",
   "metadata": {},
   "source": [
    "To scan, we want a \"detector\".  Let's use another *userCalc* (`gp:userCalc2`) to simulate a noisy detector with a random number generator.  We'll update this detector only when either motor moves (same as with the permit calculation) setting its `.SCAN` to *I/O Intr*.  The setup is shown in the next screen view image:\n",
    "\n",
    "![noisy detector simulation](/_static/demo_dynamic_limits_permit_noisy.png)"
   ]
  },
  {
   "cell_type": "markdown",
   "metadata": {},
   "source": [
    "## Bluesky setup"
   ]
  },
  {
   "cell_type": "code",
   "execution_count": 1,
   "metadata": {},
   "outputs": [
    {
     "name": "stdout",
     "output_type": "stream",
     "text": [
      "/home/prjemian/bluesky/instrument/_iconfig.py\n",
      "Activating auto-logging. Current session state plus future input saved.\n",
      "Filename       : /home/prjemian/Documents/projects/BCDA-APS/bluesky_training/docs/source/howto/.logs/ipython_console.log\n",
      "Mode           : rotate\n",
      "Output logging : True\n",
      "Raw input log  : False\n",
      "Timestamping   : True\n",
      "State          : active\n"
     ]
    },
    {
     "name": "stderr",
     "output_type": "stream",
     "text": [
      "I Tue-18:47:27 - ############################################################ startup\n",
      "I Tue-18:47:27 - logging started\n",
      "I Tue-18:47:27 - logging level = 10\n",
      "I Tue-18:47:27 - /home/prjemian/bluesky/instrument/session_logs.py\n",
      "I Tue-18:47:27 - /home/prjemian/bluesky/instrument/collection.py\n",
      "I Tue-18:47:27 - CONDA_PREFIX = /home/prjemian/.conda/envs/bluesky_2023_2\n"
     ]
    },
    {
     "name": "stdout",
     "output_type": "stream",
     "text": [
      "Exception reporting mode: Minimal\n"
     ]
    },
    {
     "name": "stderr",
     "output_type": "stream",
     "text": [
      "I Tue-18:47:27 - xmode exception level: 'Minimal'\n",
      "I Tue-18:47:27 - /home/prjemian/bluesky/instrument/mpl/notebook.py\n",
      "I Tue-18:47:27 - #### Bluesky Framework ####\n",
      "I Tue-18:47:27 - /home/prjemian/bluesky/instrument/framework/check_python.py\n",
      "I Tue-18:47:27 - /home/prjemian/bluesky/instrument/framework/check_bluesky.py\n",
      "I Tue-18:47:27 - /home/prjemian/bluesky/instrument/framework/initialize.py\n",
      "I Tue-18:47:27 - RunEngine metadata saved in directory: /home/prjemian/Bluesky_RunEngine_md\n",
      "I Tue-18:47:28 - using databroker catalog 'training'\n",
      "I Tue-18:47:28 - using ophyd control layer: pyepics\n",
      "I Tue-18:47:28 - /home/prjemian/bluesky/instrument/framework/metadata.py\n",
      "I Tue-18:47:28 - /home/prjemian/bluesky/instrument/epics_signal_config.py\n",
      "I Tue-18:47:28 - Using RunEngine metadata for scan_id\n",
      "I Tue-18:47:28 - #### Devices ####\n",
      "I Tue-18:47:28 - /home/prjemian/bluesky/instrument/devices/area_detector.py\n",
      "I Tue-18:47:28 - /home/prjemian/bluesky/instrument/devices/calculation_records.py\n",
      "I Tue-18:47:30 - /home/prjemian/bluesky/instrument/devices/fourc_diffractometer.py\n",
      "I Tue-18:47:30 - /home/prjemian/bluesky/instrument/devices/ioc_stats.py\n",
      "I Tue-18:47:30 - /home/prjemian/bluesky/instrument/devices/kohzu_monochromator.py\n",
      "I Tue-18:47:30 - /home/prjemian/bluesky/instrument/devices/motors.py\n",
      "I Tue-18:47:30 - /home/prjemian/bluesky/instrument/devices/noisy_detector.py\n",
      "I Tue-18:47:30 - /home/prjemian/bluesky/instrument/devices/scaler.py\n",
      "I Tue-18:47:31 - /home/prjemian/bluesky/instrument/devices/shutter_simulator.py\n",
      "I Tue-18:47:31 - /home/prjemian/bluesky/instrument/devices/simulated_fourc.py\n",
      "I Tue-18:47:31 - /home/prjemian/bluesky/instrument/devices/simulated_kappa.py\n",
      "I Tue-18:47:31 - /home/prjemian/bluesky/instrument/devices/sixc_diffractometer.py\n",
      "I Tue-18:47:32 - /home/prjemian/bluesky/instrument/devices/temperature_signal.py\n",
      "I Tue-18:47:32 - #### Callbacks ####\n",
      "I Tue-18:47:32 - /home/prjemian/bluesky/instrument/callbacks/spec_data_file_writer.py\n",
      "I Tue-18:47:32 - #### Plans ####\n",
      "I Tue-18:47:32 - /home/prjemian/bluesky/instrument/plans/lup_plan.py\n",
      "I Tue-18:47:32 - /home/prjemian/bluesky/instrument/plans/peak_finder_example.py\n",
      "I Tue-18:47:32 - /home/prjemian/bluesky/instrument/utils/image_analysis.py\n",
      "I Tue-18:47:32 - #### Utilities ####\n",
      "I Tue-18:47:32 - writing to SPEC file: /home/prjemian/Documents/projects/BCDA-APS/bluesky_training/docs/source/howto/20230411-184732.dat\n",
      "I Tue-18:47:32 -    >>>>   Using default SPEC file name   <<<<\n",
      "I Tue-18:47:32 -    file will be created when bluesky ends its next scan\n",
      "I Tue-18:47:32 -    to change SPEC file, use command:   newSpecFile('title')\n",
      "I Tue-18:47:32 - #### Startup is complete. ####\n"
     ]
    }
   ],
   "source": [
    "# put the instrument package into the path\n",
    "import pathlib, sys\n",
    "sys.path.append(str(pathlib.Path.home() / \"bluesky\"))\n",
    "\n",
    "# start the instrument package for data collection\n",
    "from instrument.collection import *\n",
    "from bluesky import plans as bp\n",
    "from bluesky import plan_stubs as bps\n",
    "from ophyd import Component, Device, EpicsMotor, EpicsSignal\n",
    "\n",
    "bec.disable_plots()  # not interested in graphics in this notebook\n",
    "RE.waiting_hook = None  # disable the progress bar, looks awful in notebooks"
   ]
  },
  {
   "attachments": {},
   "cell_type": "markdown",
   "metadata": {},
   "source": [
    "symbol | PV (here) | meaning\n",
    "--- | --- | ---\n",
    "`theta` | gp:m1 | (`th`) EPICS motor record\n",
    "`ttheta` | gp:m2 | (`tth`) EPICS motor record\n",
    "`th_tth_permit` | gp:userCalc1.VAL | result of EPICS calculation (swait record: 1=permit, 0=not), updates when either motor moves\n",
    "`th_tth_min` | gp:userCalc1.C | minimum permitted `tth-th`\n",
    "`noisy` | gp:userCalc2.VAL | detector (random number generator) - integer, updates when either motor moves\n",
    "`noisy_scale` | gp:userCalc2.C | scale factor for `noisy`"
   ]
  },
  {
   "attachments": {},
   "cell_type": "markdown",
   "metadata": {},
   "source": [
    "Get the IOC prefix from the instrument configuration (`iconfig`).  If not available, use `\"gp:\"` as the default."
   ]
  },
  {
   "cell_type": "code",
   "execution_count": 2,
   "metadata": {},
   "outputs": [],
   "source": [
    "GP_IOC = iconfig.get(\"GP_IOC_PREFIX\", \"gp:\")"
   ]
  },
  {
   "attachments": {},
   "cell_type": "markdown",
   "metadata": {},
   "source": [
    "Define the objects we'll use in this demo."
   ]
  },
  {
   "cell_type": "code",
   "execution_count": 3,
   "metadata": {},
   "outputs": [],
   "source": [
    "noisy = EpicsSignal(f\"{GP_IOC}userCalc2.VAL\", name=\"noisy\")\n",
    "noisy_scale = EpicsSignal(f\"{GP_IOC}userCalc2.C\", name=\"noisy_scale\")\n",
    "th_tth_min = EpicsSignal(f\"{GP_IOC}userCalc1.C\", name=\"th_tth_min\")\n",
    "th_tth_permit = EpicsSignal(f\"{GP_IOC}userCalc1.VAL\", name=\"th_tth_permit\")\n",
    "noisy.wait_for_connection()\n",
    "noisy_scale.wait_for_connection()\n",
    "th_tth_min.wait_for_connection()\n",
    "th_tth_permit.wait_for_connection()"
   ]
  },
  {
   "cell_type": "code",
   "execution_count": 4,
   "metadata": {},
   "outputs": [],
   "source": [
    "# We do this ONLY in the simulator.  Real instrument motors may need different settings!\n",
    "# For this demo, we want to set the theta & ttheta motor backlash to the default condition\n",
    "# when the IOC is first created.  We'll change this later in the demo.\n",
    "\n",
    "class BacklashMotor(EpicsMotor):\n",
    "    backlash_distance = Component(EpicsSignal, \".BDST\")\n",
    "    backlash_velocity = Component(EpicsSignal, \".BVEL\")\n",
    "\n",
    "theta = BacklashMotor(f\"{GP_IOC}m1\", name=\"theta\", labels=[\"motors\",])\n",
    "ttheta = BacklashMotor(f\"{GP_IOC}m2\", name=\"ttheta\", labels=[\"motors\",])\n",
    "theta.wait_for_connection()\n",
    "ttheta.wait_for_connection()\n",
    "%mov ttheta.backlash_distance 0  ttheta.backlash_velocity 2  ttheta.velocity 2\n",
    "%mov theta.backlash_distance 0  theta.backlash_velocity 1  theta.velocity 2"
   ]
  },
  {
   "attachments": {},
   "cell_type": "markdown",
   "metadata": {},
   "source": [
    "Setup the two swait records as shown above."
   ]
  },
  {
   "cell_type": "code",
   "execution_count": 5,
   "metadata": {},
   "outputs": [],
   "source": [
    "calcs.calc1.reset()\n",
    "calcs.calc1.description.put(\"(tth-th) permit\")\n",
    "calcs.calc1.channels.A.input_pv.put(theta.user_readback.pvname)\n",
    "calcs.calc1.channels.B.input_pv.put(ttheta.user_readback.pvname)\n",
    "calcs.calc1.channels.C.input_value.put(2.8)\n",
    "calcs.calc1.calculation.put(\"(B-A)>=C\")\n",
    "calcs.calc1.precision.put(5)\n",
    "calcs.calc1.scanning_rate.put(\"I/O Intr\")\n",
    "\n",
    "calcs.calc2.reset()\n",
    "calcs.calc2.description.put(\"noisy\")\n",
    "calcs.calc2.channels.A.input_pv.put(theta.user_readback.pvname)\n",
    "calcs.calc2.channels.B.input_pv.put(ttheta.user_readback.pvname)\n",
    "calcs.calc2.channels.C.input_value.put(100_000)\n",
    "calcs.calc2.calculation.put(\"floor(RNDM*C+.5)\")\n",
    "calcs.calc2.precision.put(0)\n",
    "calcs.calc2.scanning_rate.put(\"I/O Intr\")"
   ]
  },
  {
   "cell_type": "markdown",
   "metadata": {},
   "source": [
    "## Custom Bluesky plan for $\\theta:2\\theta$ scan\n",
    "\n",
    "Define a plan for a coupled theta:2theta scan."
   ]
  },
  {
   "cell_type": "code",
   "execution_count": 6,
   "metadata": {},
   "outputs": [],
   "source": [
    "def th_tth_scan(detectors, tth_start, tth_end, points=11, min_sep=None):\n",
    "    \"\"\"\n",
    "    run a coupled theta:2theta scan\n",
    "    \"\"\"\n",
    "    min_sep = abs(min_sep or 2.4)\n",
    "    old_sep = th_tth_min.get()\n",
    "\n",
    "    # check end points first!\n",
    "    if abs(tth_start/2) < min_sep:\n",
    "        print(\n",
    "            \"Starting point below allowed minimum:\"\n",
    "            f\" |{tth_start/2:.4f}| < |{min_sep:.4f}|\")\n",
    "        return\n",
    "    if abs(tth_end/2) < min_sep:\n",
    "        print(\n",
    "            \"Ending point below allowed minimum:\"\n",
    "            f\" |{tth_end/2:.4f}| < |{min_sep:.4f}|\")\n",
    "        return\n",
    "\n",
    "    yield from bps.mv(th_tth_min, min_sep)\n",
    "    yield from bp.scan(\n",
    "        detectors,\n",
    "        ttheta, tth_start, tth_end,\n",
    "        theta, tth_start/2, tth_end/2,\n",
    "        points\n",
    "    )\n",
    "\n",
    "    # reset the previous minimum\n",
    "    yield from bps.mv(th_tth_min, old_sep)"
   ]
  },
  {
   "cell_type": "markdown",
   "metadata": {},
   "source": [
    "Try a scan that we know will fail the test for minimum separation."
   ]
  },
  {
   "cell_type": "code",
   "execution_count": 7,
   "metadata": {},
   "outputs": [
    {
     "name": "stdout",
     "output_type": "stream",
     "text": [
      "Starting point below allowed minimum: |2.5000| < |3.0000|\n"
     ]
    },
    {
     "data": {
      "text/plain": [
       "()"
      ]
     },
     "execution_count": 7,
     "metadata": {},
     "output_type": "execute_result"
    }
   ],
   "source": [
    "RE(th_tth_scan([noisy, th_tth_permit], 5, 25, points=11, min_sep=3))"
   ]
  },
  {
   "cell_type": "markdown",
   "metadata": {},
   "source": [
    "Swap the two end points, that also fails."
   ]
  },
  {
   "cell_type": "code",
   "execution_count": 8,
   "metadata": {},
   "outputs": [
    {
     "name": "stdout",
     "output_type": "stream",
     "text": [
      "Ending point below allowed minimum: |2.5000| < |3.0000|\n"
     ]
    },
    {
     "data": {
      "text/plain": [
       "()"
      ]
     },
     "execution_count": 8,
     "metadata": {},
     "output_type": "execute_result"
    }
   ],
   "source": [
    "RE(th_tth_scan([noisy, th_tth_permit], 25, 5, points=11, min_sep=3))"
   ]
  },
  {
   "cell_type": "markdown",
   "metadata": {},
   "source": [
    "This scan is successful."
   ]
  },
  {
   "cell_type": "code",
   "execution_count": 9,
   "metadata": {},
   "outputs": [
    {
     "name": "stdout",
     "output_type": "stream",
     "text": [
      "\n",
      "\n",
      "Transient Scan ID: 926     Time: 2023-04-11 18:47:33\n",
      "Persistent Unique Scan ID: '6ddca39f-503d-4481-bd83-03ecfbe21ae7'\n",
      "New stream: 'label_start_motor'\n",
      "New stream: 'primary'\n",
      "+-----------+------------+------------+------------+------------+---------------+\n",
      "|   seq_num |       time |     ttheta |      theta |      noisy | th_tth_permit |\n",
      "+-----------+------------+------------+------------+------------+---------------+\n",
      "|         1 | 18:47:36.5 |    12.0000 |     6.0000 |      47659 |       1.00000 |\n",
      "|         2 | 18:47:36.9 |    11.6000 |     5.8000 |      13759 |       1.00000 |\n",
      "|         3 | 18:47:37.4 |    11.2000 |     5.6000 |        963 |       1.00000 |\n",
      "|         4 | 18:47:37.9 |    10.8000 |     5.4000 |      10716 |       1.00000 |\n",
      "|         5 | 18:47:38.4 |    10.4000 |     5.2000 |      62858 |       1.00000 |\n",
      "|         6 | 18:47:38.9 |    10.0000 |     5.0000 |      79985 |       1.00000 |\n",
      "|         7 | 18:47:39.4 |     9.6000 |     4.8000 |      18714 |       1.00000 |\n",
      "|         8 | 18:47:39.9 |     9.2000 |     4.6000 |      65821 |       1.00000 |\n",
      "|         9 | 18:47:40.4 |     8.8000 |     4.4000 |      12596 |       1.00000 |\n",
      "|        10 | 18:47:40.9 |     8.4000 |     4.2000 |      86804 |       1.00000 |\n",
      "|        11 | 18:47:41.4 |     8.0000 |     4.0000 |       6307 |       1.00000 |\n",
      "+-----------+------------+------------+------------+------------+---------------+\n",
      "generator scan ['6ddca39f'] (scan num: 926)\n"
     ]
    },
    {
     "data": {
      "text/plain": [
       "('6ddca39f-503d-4481-bd83-03ecfbe21ae7',)"
      ]
     },
     "execution_count": 9,
     "metadata": {},
     "output_type": "execute_result"
    }
   ],
   "source": [
    "RE(th_tth_scan([noisy, th_tth_permit], 12, 8, points=11, min_sep=3))"
   ]
  },
  {
   "cell_type": "markdown",
   "metadata": {},
   "source": [
    "So far, have not registered a permit denied.  Have not encountered a condition where permit _would_ be denied."
   ]
  },
  {
   "attachments": {},
   "cell_type": "markdown",
   "metadata": {},
   "source": [
    "## Try to provoke a permit denied\n",
    "\n",
    "Check the backlash parameters for 2theta motor.  Use the custom motor class that provides the backlash parameters."
   ]
  },
  {
   "cell_type": "code",
   "execution_count": 10,
   "metadata": {},
   "outputs": [
    {
     "name": "stdout",
     "output_type": "stream",
     "text": [
      "theta.backlash_distance.get()=0.0 (degrees)\n",
      "theta.backlash_velocity.get()=1.0 (degrees/s)\n",
      "ttheta.backlash_distance.get()=0.0 (degrees)\n",
      "ttheta.backlash_velocity.get()=2.0 (degrees/s)\n"
     ]
    }
   ],
   "source": [
    "# these two motors have backlash support\n",
    "print(f\"{theta.backlash_distance.get()=} ({theta.motor_egu.get()})\")\n",
    "print(f\"{theta.backlash_velocity.get()=} ({theta.motor_egu.get()}/s)\")\n",
    "\n",
    "print(f\"{ttheta.backlash_distance.get()=} ({ttheta.motor_egu.get()})\")\n",
    "print(f\"{ttheta.backlash_velocity.get()=} ({ttheta.motor_egu.get()}/s)\")"
   ]
  },
  {
   "attachments": {},
   "cell_type": "markdown",
   "metadata": {},
   "source": [
    "Change (just) the backlash velocity and set a backlash distance for `ttheta`."
   ]
  },
  {
   "cell_type": "code",
   "execution_count": 11,
   "metadata": {},
   "outputs": [
    {
     "name": "stdout",
     "output_type": "stream",
     "text": [
      "ttheta.backlash_distance.get()=0.5 (degrees)\n",
      "ttheta.backlash_velocity.get()=0.2 (degrees/s)\n"
     ]
    }
   ],
   "source": [
    "%mov ttheta.backlash_distance 0.5 ttheta.backlash_velocity 0.2\n",
    "print(f\"{ttheta.backlash_distance.get()=} ({ttheta.motor_egu.get()})\")\n",
    "print(f\"{ttheta.backlash_velocity.get()=} ({ttheta.motor_egu.get()}/s)\")"
   ]
  },
  {
   "cell_type": "markdown",
   "metadata": {},
   "source": [
    "Scan again over a shorter range."
   ]
  },
  {
   "cell_type": "code",
   "execution_count": 12,
   "metadata": {},
   "outputs": [
    {
     "name": "stdout",
     "output_type": "stream",
     "text": [
      "\n",
      "\n",
      "Transient Scan ID: 927     Time: 2023-04-11 18:47:42\n",
      "Persistent Unique Scan ID: '1d45b5ef-9268-494b-8fd7-37af3599b833'\n",
      "New stream: 'label_start_motor'\n",
      "New stream: 'primary'\n",
      "+-----------+------------+------------+------------+------------+---------------+\n",
      "|   seq_num |       time |     ttheta |      theta |      noisy | th_tth_permit |\n",
      "+-----------+------------+------------+------------+------------+---------------+\n",
      "|         1 | 18:47:46.0 |     7.0000 |     3.5000 |      47643 |       1.00000 |\n",
      "|         2 | 18:47:49.6 |     6.6667 |     3.3333 |      20673 |       1.00000 |\n",
      "|         3 | 18:47:53.2 |     6.3333 |     3.1667 |      79528 |       1.00000 |\n",
      "|         4 | 18:47:56.8 |     6.0000 |     3.0000 |      96895 |       0.00000 |\n",
      "+-----------+------------+------------+------------+------------+---------------+\n",
      "generator scan ['1d45b5ef'] (scan num: 927)\n"
     ]
    },
    {
     "data": {
      "text/plain": [
       "('1d45b5ef-9268-494b-8fd7-37af3599b833',)"
      ]
     },
     "execution_count": 12,
     "metadata": {},
     "output_type": "execute_result"
    }
   ],
   "source": [
    "RE(th_tth_scan([noisy, th_tth_permit], 7, 6, points=4, min_sep=3))"
   ]
  },
  {
   "attachments": {},
   "cell_type": "markdown",
   "metadata": {},
   "source": [
    "Let's monitor the signal _during_ the scan so we can see if it changes and how often."
   ]
  },
  {
   "cell_type": "code",
   "execution_count": 13,
   "metadata": {},
   "outputs": [],
   "source": [
    "sd.monitors.append(th_tth_permit)"
   ]
  },
  {
   "cell_type": "markdown",
   "metadata": {},
   "source": [
    "Repeat the scan, collecting the new info.  We'll inspect the monitors after the scan is done.  (The RunEngine returns a list of all the run uids created by the plan.  Capture this list.)"
   ]
  },
  {
   "cell_type": "code",
   "execution_count": 14,
   "metadata": {},
   "outputs": [
    {
     "name": "stdout",
     "output_type": "stream",
     "text": [
      "\n",
      "\n",
      "Transient Scan ID: 928     Time: 2023-04-11 18:47:57\n",
      "Persistent Unique Scan ID: '991bdcb1-f8d4-4e2f-a0eb-1dc16330481b'\n",
      "New stream: 'label_start_motor'\n",
      "New stream: 'th_tth_permit_monitor'\n",
      "New stream: 'primary'\n",
      "+-----------+------------+------------+------------+------------+---------------+\n",
      "|   seq_num |       time |     ttheta |      theta |      noisy | th_tth_permit |\n",
      "+-----------+------------+------------+------------+------------+---------------+\n",
      "|         1 | 18:48:00.6 |     7.0000 |     3.5000 |      61886 |       1.00000 |\n",
      "|         2 | 18:48:04.3 |     6.5000 |     3.2500 |      45252 |       1.00000 |\n",
      "|         3 | 18:48:08.0 |     6.0000 |     3.0000 |      14221 |       0.00000 |\n",
      "+-----------+------------+------------+------------+------------+---------------+\n",
      "generator scan ['991bdcb1'] (scan num: 928)\n"
     ]
    }
   ],
   "source": [
    "uids = RE(th_tth_scan([noisy, th_tth_permit], 7, 6, points=3, min_sep=3))"
   ]
  },
  {
   "cell_type": "code",
   "execution_count": 15,
   "metadata": {},
   "outputs": [
    {
     "data": {
      "text/plain": [
       "<matplotlib.collections.PathCollection at 0x7f34d8ff9c60>"
      ]
     },
     "execution_count": 15,
     "metadata": {},
     "output_type": "execute_result"
    },
    {
     "data": {
      "image/png": "[encoded data removed]",
      "text/plain": [
       "<Figure size 640x480 with 1 Axes>"
      ]
     },
     "metadata": {},
     "output_type": "display_data"
    }
   ],
   "source": [
    "cat[uids[0]].th_tth_permit_monitor.read()[\"th_tth_permit\"].plot.scatter()"
   ]
  },
  {
   "cell_type": "markdown",
   "metadata": {},
   "source": [
    "Aha!  The first plot shows the monitored values.  It is clear the signal **does** go to 0 and then come back to 1.\n",
    "\n",
    "Look at the monitored data.  First get the run object from databroker (indexed by the first uid in the list).  From the run object, return the monitored data in a table.  Python prints this object if it is not assigned.  All this in one step."
   ]
  },
  {
   "cell_type": "code",
   "execution_count": 16,
   "metadata": {},
   "outputs": [
    {
     "data": {
      "text/html": [
       "<div>\n",
       "<style scoped>\n",
       "    .dataframe tbody tr th:only-of-type {\n",
       "        vertical-align: middle;\n",
       "    }\n",
       "\n",
       "    .dataframe tbody tr th {\n",
       "        vertical-align: top;\n",
       "    }\n",
       "\n",
       "    .dataframe thead th {\n",
       "        text-align: right;\n",
       "    }\n",
       "</style>\n",
       "<table border=\"1\" class=\"dataframe\">\n",
       "  <thead>\n",
       "    <tr style=\"text-align: right;\">\n",
       "      <th></th>\n",
       "      <th>time</th>\n",
       "      <th>th_tth_permit</th>\n",
       "    </tr>\n",
       "    <tr>\n",
       "      <th>seq_num</th>\n",
       "      <th></th>\n",
       "      <th></th>\n",
       "    </tr>\n",
       "  </thead>\n",
       "  <tbody>\n",
       "    <tr>\n",
       "      <th>1</th>\n",
       "      <td>2023-04-11 23:47:57.239300013</td>\n",
       "      <td>0.0</td>\n",
       "    </tr>\n",
       "    <tr>\n",
       "      <th>2</th>\n",
       "      <td>2023-04-11 23:47:57.804551840</td>\n",
       "      <td>1.0</td>\n",
       "    </tr>\n",
       "    <tr>\n",
       "      <th>3</th>\n",
       "      <td>2023-04-11 23:48:01.110384226</td>\n",
       "      <td>0.0</td>\n",
       "    </tr>\n",
       "    <tr>\n",
       "      <th>4</th>\n",
       "      <td>2023-04-11 23:48:02.918014526</td>\n",
       "      <td>1.0</td>\n",
       "    </tr>\n",
       "    <tr>\n",
       "      <th>5</th>\n",
       "      <td>2023-04-11 23:48:04.721409321</td>\n",
       "      <td>0.0</td>\n",
       "    </tr>\n",
       "  </tbody>\n",
       "</table>\n",
       "</div>"
      ],
      "text/plain": [
       "                                 time  th_tth_permit\n",
       "seq_num                                             \n",
       "1       2023-04-11 23:47:57.239300013            0.0\n",
       "2       2023-04-11 23:47:57.804551840            1.0\n",
       "3       2023-04-11 23:48:01.110384226            0.0\n",
       "4       2023-04-11 23:48:02.918014526            1.0\n",
       "5       2023-04-11 23:48:04.721409321            0.0"
      ]
     },
     "execution_count": 16,
     "metadata": {},
     "output_type": "execute_result"
    }
   ],
   "source": [
    "cat.v1[uids[0]].table(\"th_tth_permit_monitor\")"
   ]
  },
  {
   "cell_type": "markdown",
   "metadata": {},
   "source": [
    "We see some zero values (and then return to one) indicating occasional removal of the dynamic limit calculation permit.  Since we only saw these when we added a backlash correction, we understand these dynamic violations of the limits are exactly what we hoped to intercept."
   ]
  },
  {
   "cell_type": "markdown",
   "metadata": {},
   "source": [
    "## Create a suspender\n",
    "\n",
    "Block the RunEngine when the permit fails.\n",
    "\n",
    "N.B. Might need to consider the special case where the permit fails when first starting the run.  Why did that fail? (We'll answer that soon.)"
   ]
  },
  {
   "cell_type": "markdown",
   "metadata": {},
   "source": [
    "The Bluesky project shows [how to suspend a plan when the source X-ray intensity drops too low](https://blueskyproject.io/bluesky/main/state-machine.html#example-suspend-a-plan-if-the-beam-current-dips-low).\n",
    "\n",
    "Following this example, we'll do similar.  In our case, the signal is a boolean\n",
    "that indicates *no permit* when low.  The suspender interrupts the `RE` as long\n",
    "as the signal is invalid and automatically resumes if the signal becomes valid\n",
    "again.  Let's see how this works here."
   ]
  },
  {
   "cell_type": "code",
   "execution_count": 17,
   "metadata": {},
   "outputs": [],
   "source": [
    "from bluesky.suspenders import SuspendBoolLow\n",
    "sus = SuspendBoolLow(th_tth_permit)\n",
    "RE.install_suspender(sus)"
   ]
  },
  {
   "attachments": {},
   "cell_type": "markdown",
   "metadata": {},
   "source": [
    "Repeat the scan.  Set the minimum separation low enough that the motor backlash will not trip the suspender near the end of the scan.  After the previous move, the two motors are close enough that the suspender may trip at the start of the next scan, as the motors are sent to the first position.  Let's move `theta` a little lower to avoid that."
   ]
  },
  {
   "cell_type": "code",
   "execution_count": 18,
   "metadata": {
    "collapsed": true,
    "jupyter": {
     "outputs_hidden": true
    }
   },
   "outputs": [
    {
     "name": "stdout",
     "output_type": "stream",
     "text": [
      "Exception reporting mode: Minimal\n",
      "theta.position=3.0000000000000004 ttheta.position=6.0\n",
      "Suspender SuspendBoolLow(EpicsSignal(read_pv='gp:userCalc1.VAL', name='th_tth_permit', value=1.0, timestamp=1681256888.82624, tolerance=1e-05, auto_monitor=True, string=False, write_pv='gp:userCalc1.VAL', limits=False, put_complete=False), sleep=0, pre_plan=None, post_plan=None,tripped_message=) reports a return to nominal conditions. Will sleep for 0 seconds and then release suspension at 2023-04-11 18:48:08.\n",
      "theta:  81%|████████████████████▏    | 0.1616/0.2 [00:00<00:00,  1.11degrees/s]\n",
      "theta: 100%|████████████████████████████| 0.2/0.2 [00:00<00:00,  1.23s/degrees]\n",
      "theta [In progress. No progress bar available.]                                \n",
      "                                                                               \n",
      "theta.position=2.8000000000000003 ttheta.position=6.0\n",
      "\n",
      "\n",
      "Transient Scan ID: 929     Time: 2023-04-11 18:48:09\n",
      "Persistent Unique Scan ID: '52b208be-f1a3-42df-8cb4-9c790954e96c'\n",
      "New stream: 'label_start_motor'\n",
      "New stream: 'th_tth_permit_monitor'\n",
      "New stream: 'primary'\n",
      "+-----------+------------+------------+------------+------------+---------------+\n",
      "|   seq_num |       time |     ttheta |      theta |      noisy | th_tth_permit |\n",
      "+-----------+------------+------------+------------+------------+---------------+\n",
      "|         1 | 18:48:12.5 |     7.0000 |     3.5000 |      76393 |       1.00000 |\n",
      "|         2 | 18:48:16.2 |     6.5000 |     3.2500 |      33643 |       1.00000 |\n",
      "|         3 | 18:48:19.9 |     6.0000 |     3.0000 |      73523 |       1.00000 |\n",
      "+-----------+------------+------------+------------+------------+---------------+\n",
      "generator scan ['52b208be'] (scan num: 929)\n"
     ]
    }
   ],
   "source": [
    "# Set a smaller minimum separation\n",
    "%xmode Minimal\n",
    "print(f\"{theta.position=} {ttheta.position=}\")\n",
    "%movr theta -0.2\n",
    "print(f\"{theta.position=} {ttheta.position=}\")\n",
    "uids = RE(th_tth_scan([noisy, th_tth_permit], 7, 6, points=3, min_sep=2.4))"
   ]
  },
  {
   "attachments": {},
   "cell_type": "markdown",
   "metadata": {},
   "source": [
    "This succeeded because the minimum separation distance was set smaller than usual, to  `2.4`, which allows for a backlash correction (of 0.5 in the `ttheta` motor) at the last point."
   ]
  },
  {
   "cell_type": "code",
   "execution_count": 19,
   "metadata": {
    "collapsed": true,
    "jupyter": {
     "outputs_hidden": true
    }
   },
   "outputs": [
    {
     "name": "stdout",
     "output_type": "stream",
     "text": [
      "theta: 100%|████████████████████████████| 0.2/0.2 [00:00<00:00,  1.08s/degrees]\n",
      "theta [In progress. No progress bar available.]                                \n",
      "                                                                               \n",
      "\n",
      "\n",
      "Transient Scan ID: 930     Time: 2023-04-11 18:48:34\n",
      "Persistent Unique Scan ID: '64c1bf12-041a-4e1c-ba92-0aef01a1e4e7'\n",
      "New stream: 'label_start_motor'\n",
      "New stream: 'th_tth_permit_monitor'\n",
      "New stream: 'primary'\n",
      "+-----------+------------+------------+------------+------------+---------------+\n",
      "|   seq_num |       time |     ttheta |      theta |      noisy | th_tth_permit |\n",
      "+-----------+------------+------------+------------+------------+---------------+\n",
      "|         1 | 18:48:37.5 |     7.0000 |     3.5000 |      29638 |       1.00000 |\n",
      "|         2 | 18:48:41.3 |     6.5000 |     3.2500 |       4031 |       1.00000 |\n",
      "Suspending....To get prompt hit Ctrl-C twice to pause.\n",
      "Suspension occurred at 2023-04-11 18:48:42.\n",
      "Justification for this suspension:\n",
      "Signal th_tth_permit is low\n",
      "Suspender SuspendBoolLow(EpicsSignal(read_pv='gp:userCalc1.VAL', name='th_tth_permit', value=1.0, timestamp=1681256930.19391, tolerance=1e-05, auto_monitor=True, string=False, write_pv='gp:userCalc1.VAL', limits=False, put_complete=False), sleep=0, pre_plan=None, post_plan=None,tripped_message=) reports a return to nominal conditions. Will sleep for 0 seconds and then release suspension at 2023-04-11 18:48:50.\n",
      "|         3 | 18:48:53.1 |     6.0000 |     3.0000 |      32567 |       1.00000 |\n",
      "+-----------+------------+------------+------------+------------+---------------+\n",
      "generator scan ['64c1bf12'] (scan num: 930)\n"
     ]
    }
   ],
   "source": [
    "# As in the previous step:\n",
    "%movr theta -0.2\n",
    "\n",
    "# set the minimum separation to 2.5\n",
    "# Likely the scan will fail due to the suspender when the m2 motor is taking a backlash correction and (m2-m1)<3.\n",
    "uids = RE(th_tth_scan([noisy, th_tth_permit], 7, 6, points=3, min_sep=2.5))"
   ]
  },
  {
   "attachments": {},
   "cell_type": "markdown",
   "metadata": {},
   "source": [
    "The suspender tripped during the scan at the last move when `ttheta` was performing its backlash correction.  Exactly what we wanted to happen.  While moving the motors to the last point of the scan, `(m2-m1)<2.5` was satisfied and the suspender tripped.  The command line was not responsive.  _To allow the scan to progress, the `theta` motor was moved from some other EPICS client outside of bluesky, allowing the scan to progress._  If the suspender delays the scan long enough, the scan will timeout with a `FailedStatus` exception.\n",
    "\n",
    "When the suspender trips, motion (in bluesky) is not permitted due to our computation of dynamic limits.  We must move the motors so that the limit permit is restored before we can scan.  We can move the motor from the command line or a GUI application. (This works since other EPICS clients such as the command line do not use this RunEngine instance.  The suspender is checked only by this RunEngine.)\n",
    "\n",
    "The signal (for the suspender) does not automatically clear since it is only computed when the motor readback value changes.  We can clear this manually by moving the `theta` motor away from the `ttheta` motor.  Yet, still, we encounter the problem when the two motors are close together either, as in this example."
   ]
  },
  {
   "cell_type": "markdown",
   "metadata": {},
   "source": [
    "## Conclusion\n",
    "\n",
    "We can avoid an anticipated collision of instrument hardware by providing a RunEngine suspender tied to the value of an EPICS PV."
   ]
  }
 ],
 "metadata": {
  "kernelspec": {
   "display_name": "Python 3",
   "language": "python",
   "name": "python3"
  },
  "language_info": {
   "codemirror_mode": {
    "name": "ipython",
    "version": 3
   },
   "file_extension": ".py",
   "mimetype": "text/x-python",
   "name": "python",
   "nbconvert_exporter": "python",
   "pygments_lexer": "ipython3",
   "version": "3.10.10"
  }
 },
 "nbformat": 4,
 "nbformat_minor": 4
}
