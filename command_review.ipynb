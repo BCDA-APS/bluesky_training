{
 "cells": [
  {
   "cell_type": "markdown",
   "id": "worth-eligibility",
   "metadata": {},
   "source": [
    "# Review of commands\n",
    "\n",
    "From *2021-03 APS Python Training for Bluesky Data Acquisition*.\n",
    "\n",
    "**Objective**\n",
    "\n",
    "In this notebook, the commands described in [Guide: First Steps with Bluesky](https://github.com/BCDA-APS/use_bluesky/blob/main/first_steps_guide.md), are demonstrated using the `instrument` package.\n",
    "\n",
    "## Start the `instrument` package\n",
    "\n",
    "Our instrument package is in the `bluesky` subdirectory here so we add that to the search path before importing it."
   ]
  },
  {
   "cell_type": "code",
   "execution_count": null,
   "metadata": {},
   "outputs": [],
   "source": [
    "# first, load the environment variable definitions\n",
    "%load_ext dotenv\n",
    "%dotenv env.txt"
   ]
  },
  {
   "cell_type": "code",
   "execution_count": 1,
   "id": "nasty-rebound",
   "metadata": {},
   "outputs": [
    {
     "name": "stderr",
     "output_type": "stream",
     "text": [
      "I Wed-00:26:45 - ############################################################ startup\n",
      "I Wed-00:26:45 - logging started\n",
      "I Wed-00:26:45 - logging level = 10\n",
      "I Wed-00:26:45 - /home/prjemian/Documents/projects/BCDA-APS/bluesky_instrument_training/bluesky/instrument/collection.py\n",
      "I Wed-00:26:45 - /home/prjemian/Documents/projects/BCDA-APS/bluesky_instrument_training/bluesky/instrument/mpl/notebook.py\n",
      "I Wed-00:26:45 - #### Bluesky Framework ####\n",
      "I Wed-00:26:46 - /home/prjemian/Documents/projects/BCDA-APS/bluesky_instrument_training/bluesky/instrument/framework/check_python.py\n",
      "I Wed-00:26:46 - /home/prjemian/Documents/projects/BCDA-APS/bluesky_instrument_training/bluesky/instrument/framework/check_bluesky.py\n"
     ]
    },
    {
     "name": "stdout",
     "output_type": "stream",
     "text": [
      "Activating auto-logging. Current session state plus future input saved.\n",
      "Filename       : /home/prjemian/Documents/projects/BCDA-APS/bluesky_instrument_training/.logs/ipython_console.log\n",
      "Mode           : rotate\n",
      "Output logging : True\n",
      "Raw input log  : False\n",
      "Timestamping   : True\n",
      "State          : active\n"
     ]
    },
    {
     "name": "stderr",
     "output_type": "stream",
     "text": [
      "I Wed-00:26:46 - /home/prjemian/Documents/projects/BCDA-APS/bluesky_instrument_training/bluesky/instrument/framework/initialize.py\n",
      "I Wed-00:26:47 - using databroker catalog 'class_2021_03'\n",
      "I Wed-00:26:47 - /home/prjemian/Documents/projects/BCDA-APS/bluesky_instrument_training/bluesky/instrument/framework/metadata.py\n",
      "I Wed-00:26:47 - #### Devices ####\n",
      "I Wed-00:26:47 - /home/prjemian/Documents/projects/BCDA-APS/bluesky_instrument_training/bluesky/instrument/devices/area_detector.py\n",
      "I Wed-00:26:47 - /home/prjemian/Documents/projects/BCDA-APS/bluesky_instrument_training/bluesky/instrument/devices/calculation_records.py\n",
      "I Wed-00:26:49 - /home/prjemian/Documents/projects/BCDA-APS/bluesky_instrument_training/bluesky/instrument/devices/ioc_stats.py\n",
      "I Wed-00:26:49 - /home/prjemian/Documents/projects/BCDA-APS/bluesky_instrument_training/bluesky/instrument/devices/motors.py\n",
      "I Wed-00:26:49 - /home/prjemian/Documents/projects/BCDA-APS/bluesky_instrument_training/bluesky/instrument/devices/noisy_detector.py\n",
      "I Wed-00:26:49 - /home/prjemian/Documents/projects/BCDA-APS/bluesky_instrument_training/bluesky/instrument/devices/scaler.py\n",
      "I Wed-00:26:50 - /home/prjemian/Documents/projects/BCDA-APS/bluesky_instrument_training/bluesky/instrument/devices/shutter_simulator.py\n",
      "I Wed-00:26:50 - /home/prjemian/Documents/projects/BCDA-APS/bluesky_instrument_training/bluesky/instrument/devices/temperature_signal.py\n",
      "I Wed-00:26:50 - #### Callbacks ####\n",
      "I Wed-00:26:50 - /home/prjemian/Documents/projects/BCDA-APS/bluesky_instrument_training/bluesky/instrument/callbacks/spec_data_file_writer.py\n",
      "I Wed-00:26:50 - writing to SPEC file: /home/prjemian/Documents/projects/BCDA-APS/bluesky_instrument_training/20210317-002650.dat\n",
      "I Wed-00:26:50 -    >>>>   Using default SPEC file name   <<<<\n",
      "I Wed-00:26:50 -    file will be created when bluesky ends its next scan\n",
      "I Wed-00:26:50 -    to change SPEC file, use command:   newSpecFile('title')\n",
      "I Wed-00:26:50 - #### Plans ####\n",
      "I Wed-00:26:50 - /home/prjemian/Documents/projects/BCDA-APS/bluesky_instrument_training/bluesky/instrument/plans/peak_finder_example.py\n",
      "I Wed-00:26:50 - #### Utilities ####\n",
      "I Wed-00:26:50 - /home/prjemian/Documents/projects/BCDA-APS/bluesky_instrument_training/bluesky/instrument/utils/image_analysis.py\n",
      "I Wed-00:26:50 - #### Startup is complete. ####\n"
     ]
    }
   ],
   "source": [
    "import os, sys\n",
    "sys.path.append(os.path.abspath(os.path.join(\".\", \"bluesky\")))\n",
    "from instrument.collection import *"
   ]
  },
  {
   "cell_type": "markdown",
   "id": "received-manufacturer",
   "metadata": {},
   "source": [
    "## List, Describe, Summary\n",
    "\n",
    "On the command line, there is an [IPython magic](https://ipython.readthedocs.io/en/stable/interactive/magics.html#built-in-magic-commands) command from the [bluesky](https://blueskyproject.io/bluesky/) package to print the current value of [labeled](https://blueskyproject.io/bluesky/magics.html?highlight=label) items: [`%wa`]()"
   ]
  },
  {
   "cell_type": "code",
   "execution_count": 2,
   "id": "novel-procurement",
   "metadata": {},
   "outputs": [
    {
     "name": "stdout",
     "output_type": "stream",
     "text": [
      "area_detector\n",
      "  Local variable name                    Ophyd name (to be recorded as metadata)\n",
      "  adsimdet                               adsimdet                              \n",
      "\n",
      "motor\n",
      "  Positioner                     Value       Low Limit   High Limit  Offset     \n",
      "  m1                             0.0         -32000.0    32000.0     0.0        \n",
      "  m10                            0.0         -32000.0    32000.0     0.0        \n",
      "  m11                            0.0         -32000.0    32000.0     0.0        \n",
      "  m12                            0.0         -32000.0    32000.0     0.0        \n",
      "  m13                            0.0         -32000.0    32000.0     0.0        \n",
      "  m14                            0.0         -32000.0    32000.0     0.0        \n",
      "  m15                            0.0         -32000.0    32000.0     0.0        \n",
      "  m16                            0.0         -32000.0    32000.0     0.0        \n",
      "  m2                             0.0         -32000.0    32000.0     0.0        \n",
      "  m3                             0.0         -32000.0    32000.0     0.0        \n",
      "  m4                             0.0         -32000.0    32000.0     0.0        \n",
      "  m5                             0.0         -32000.0    32000.0     0.0        \n",
      "  m6                             0.0         -32000.0    32000.0     0.0        \n",
      "  m7                             0.0         -32000.0    32000.0     0.0        \n",
      "  m8                             0.0         -32000.0    32000.0     0.0        \n",
      "  m9                             0.0         -32000.0    32000.0     0.0        \n",
      "\n",
      "  Local variable name                    Ophyd name (to be recorded as metadata)\n",
      "  m1                                     m1                                    \n",
      "  m10                                    m10                                   \n",
      "  m11                                    m11                                   \n",
      "  m12                                    m12                                   \n",
      "  m13                                    m13                                   \n",
      "  m14                                    m14                                   \n",
      "  m15                                    m15                                   \n",
      "  m16                                    m16                                   \n",
      "  m2                                     m2                                    \n",
      "  m3                                     m3                                    \n",
      "  m4                                     m4                                    \n",
      "  m5                                     m5                                    \n",
      "  m6                                     m6                                    \n",
      "  m7                                     m7                                    \n",
      "  m8                                     m8                                    \n",
      "  m9                                     m9                                    \n",
      "\n",
      "detectors\n",
      "  Local variable name                    Ophyd name (to be recorded as metadata)\n",
      "  noisy                                  noisy                                 \n",
      "  scaler1                                scaler1                               \n",
      "\n",
      "scalers\n",
      "  Local variable name                    Ophyd name (to be recorded as metadata)\n",
      "  scaler1                                scaler1                               \n",
      "\n",
      "channel\n",
      "  Local variable name                    Ophyd name (to be recorded as metadata)\n",
      "  I0                                     I0                                    \n",
      "  diode                                  diode                                 \n",
      "  scaler1.channels.chan01.s              timebase                              \n",
      "  scaler1.channels.chan02.s              I0                                    \n",
      "  scaler1.channels.chan03.s              scint                                 \n",
      "  scaler1.channels.chan04.s              diode                                 \n",
      "  scint                                  scint                                 \n",
      "  timebase                               timebase                              \n",
      "\n",
      "counter\n",
      "  Local variable name                    Ophyd name (to be recorded as metadata)\n",
      "  I0                                     I0                                    \n",
      "  diode                                  diode                                 \n",
      "  scaler1.channels.chan01.s              timebase                              \n",
      "  scaler1.channels.chan02.s              I0                                    \n",
      "  scaler1.channels.chan03.s              scint                                 \n",
      "  scaler1.channels.chan04.s              diode                                 \n",
      "  scint                                  scint                                 \n",
      "  timebase                               timebase                              \n",
      "\n",
      "shutters\n",
      "  Local variable name                    Ophyd name (to be recorded as metadata)\n",
      "  shutter                                shutter                               \n",
      "\n"
     ]
    }
   ],
   "source": [
    "%wa"
   ]
  },
  {
   "cell_type": "markdown",
   "id": "bronze-cylinder",
   "metadata": {},
   "source": [
    "Might be a good idea to know now what ophyd symbols are available.  The [apstools](https://apstools.readthedocs.io/en/latest/) package provides a [`listobjects()`](https://apstools.readthedocs.io/en/latest/source/_utils.html?highlight=listobjects#apstools.utils.listobjects) command that prints a table of all the known objects (in the global namespace of the session).  The columns provide the ophyd name (the name you use to call this in Python), the name of the ophyd structure, the EPICS PV (if relevant), and any labels (as used in `%wa` above)."
   ]
  },
  {
   "cell_type": "code",
   "execution_count": 3,
   "id": "indonesian-swimming",
   "metadata": {},
   "outputs": [
    {
     "name": "stdout",
     "output_type": "stream",
     "text": [
      "=========== ================================ ============= =================\n",
      "name        ophyd structure                  EPICS PV      label(s)         \n",
      "=========== ================================ ============= =================\n",
      "I0          EpicsSignalRO                    gp:scaler1.S2 channel counter  \n",
      "adsimdet    MySimDetector                    ad:           area_detector    \n",
      "calcouts    UserCalcoutDevice                gp:                            \n",
      "calcs       UserCalcsDevice                  gp:                            \n",
      "diode       EpicsSignalRO                    gp:scaler1.S4 channel counter  \n",
      "gp_stats    IocInfoDevice                    gp:                            \n",
      "m1          MyEpicsMotor                     gp:m1         motor            \n",
      "m10         MyEpicsMotor                     gp:m10        motor            \n",
      "m11         MyEpicsMotor                     gp:m11        motor            \n",
      "m12         MyEpicsMotor                     gp:m12        motor            \n",
      "m13         MyEpicsMotor                     gp:m13        motor            \n",
      "m14         MyEpicsMotor                     gp:m14        motor            \n",
      "m15         MyEpicsMotor                     gp:m15        motor            \n",
      "m16         MyEpicsMotor                     gp:m16        motor            \n",
      "m2          MyEpicsMotor                     gp:m2         motor            \n",
      "m3          MyEpicsMotor                     gp:m3         motor            \n",
      "m4          MyEpicsMotor                     gp:m4         motor            \n",
      "m5          MyEpicsMotor                     gp:m5         motor            \n",
      "m6          MyEpicsMotor                     gp:m6         motor            \n",
      "m7          MyEpicsMotor                     gp:m7         motor            \n",
      "m8          MyEpicsMotor                     gp:m8         motor            \n",
      "m9          MyEpicsMotor                     gp:m9         motor            \n",
      "noisy       EpicsSignalRO                    gp:userCalc1  detectors        \n",
      "scaler1     ScalerCH                         gp:scaler1    scalers detectors\n",
      "scint       EpicsSignalRO                    gp:scaler1.S3 channel counter  \n",
      "shutter     SimulatedApsPssShutterWithStatus               shutters         \n",
      "temperature MyPvPositioner                   gp:userCalc8                   \n",
      "timebase    EpicsSignalRO                    gp:scaler1.S1 channel counter  \n",
      "=========== ================================ ============= =================\n",
      "\n"
     ]
    },
    {
     "data": {
      "text/plain": [
       "<pyRestTable.rest_table.Table at 0x7f29d92dd610>"
      ]
     },
     "execution_count": 3,
     "metadata": {},
     "output_type": "execute_result"
    }
   ],
   "source": [
    "listobjects()"
   ]
  },
  {
   "cell_type": "markdown",
   "id": "humanitarian-citizenship",
   "metadata": {},
   "source": [
    "## Read\n",
    "\n",
    "We'll use the `temperature` and `m1` objects to demonstrate the various commands described in the quick-reference [Guide: First Steps with Bluesky](https://github.com/BCDA-APS/use_bluesky/blob/main/first_steps_guide.md)\n",
    "\n",
    "command | description\n",
    "--- | ---\n",
    "`OBJECT.summary()` | more information about `OBJECT`\n",
    "`OBJECT.get()` | low-level command to show value of ophyd *Signal* named `OBJECT`\n",
    "`OBJECT.read()` | data acquisition command, includes timestamp\n",
    "`listdevice(OBJECT)` | table-version of `.read()`\n",
    "`MOTOR.position` | get readback, only for motor objects\n",
    "`MOTOR.user_readback.get()` | alternative to `MOTOR.position`"
   ]
  },
  {
   "cell_type": "markdown",
   "id": "charitable-hungary",
   "metadata": {},
   "source": [
    "### temperature"
   ]
  },
  {
   "cell_type": "code",
   "execution_count": 4,
   "id": "outer-appliance",
   "metadata": {},
   "outputs": [
    {
     "name": "stdout",
     "output_type": "stream",
     "text": [
      "data keys (* hints)\n",
      "-------------------\n",
      " temperature_calculation\n",
      " temperature_description\n",
      " temperature_done\n",
      " temperature_max_change\n",
      " temperature_noise\n",
      " temperature_previous_value_pv\n",
      "*temperature_readback\n",
      " temperature_scanning_rate\n",
      " temperature_setpoint\n",
      " temperature_tolerance\n",
      "\n",
      "read attrs\n",
      "----------\n",
      "setpoint             EpicsSignal         ('temperature_setpoint')\n",
      "readback             EpicsSignal         ('temperature_readback')\n",
      "done                 Signal              ('temperature_done')\n",
      "calculation          EpicsSignal         ('temperature_calculation')\n",
      "description          EpicsSignal         ('temperature_description')\n",
      "max_change           EpicsSignal         ('temperature_max_change')\n",
      "noise                EpicsSignal         ('temperature_noise')\n",
      "previous_value_pv    EpicsSignal         ('temperature_previous_value_pv')\n",
      "scanning_rate        EpicsSignal         ('temperature_scanning_rate')\n",
      "tolerance            EpicsSignal         ('temperature_tolerance')\n",
      "\n",
      "config keys\n",
      "-----------\n",
      "\n",
      "configuration attrs\n",
      "-------------------\n",
      "\n",
      "unused attrs\n",
      "------------\n",
      "report_dmov_changes  Signal              ('temperature_report_dmov_changes')\n",
      "\n"
     ]
    }
   ],
   "source": [
    "temperature.summary()"
   ]
  },
  {
   "cell_type": "code",
   "execution_count": 5,
   "id": "civilian-tonight",
   "metadata": {},
   "outputs": [
    {
     "data": {
      "text/plain": [
       "0.0"
      ]
     },
     "execution_count": 5,
     "metadata": {},
     "output_type": "execute_result"
    }
   ],
   "source": [
    "temperature.readback.get()"
   ]
  },
  {
   "cell_type": "code",
   "execution_count": 6,
   "id": "norwegian-brand",
   "metadata": {},
   "outputs": [
    {
     "data": {
      "text/plain": [
       "OrderedDict([('temperature_setpoint',\n",
       "              {'value': 25.0, 'timestamp': 1615958810.856749}),\n",
       "             ('temperature_readback',\n",
       "              {'value': 0.0, 'timestamp': 1615958810.859903}),\n",
       "             ('temperature_done',\n",
       "              {'value': False, 'timestamp': 1615958810.8635237}),\n",
       "             ('temperature_calculation',\n",
       "              {'value': 'A+max(-D,min(D,(B-A)))+C*(RNDM-0.5)',\n",
       "               'timestamp': 1615958810.8660252}),\n",
       "             ('temperature_description',\n",
       "              {'value': 'temperature', 'timestamp': 1615958810.854275}),\n",
       "             ('temperature_max_change',\n",
       "              {'value': 2.0, 'timestamp': 1615958810.86048}),\n",
       "             ('temperature_noise',\n",
       "              {'value': 1.0, 'timestamp': 1615958810.859903}),\n",
       "             ('temperature_previous_value_pv',\n",
       "              {'value': 'gp:userCalc8.VAL', 'timestamp': 1615958810.854275}),\n",
       "             ('temperature_scanning_rate',\n",
       "              {'value': 5, 'timestamp': 1615958810.862265}),\n",
       "             ('temperature_tolerance',\n",
       "              {'value': 1.0, 'timestamp': 1615958810.862265})])"
      ]
     },
     "execution_count": 6,
     "metadata": {},
     "output_type": "execute_result"
    }
   ],
   "source": [
    "temperature.read()"
   ]
  },
  {
   "cell_type": "code",
   "execution_count": 7,
   "id": "conscious-buying",
   "metadata": {},
   "outputs": [
    {
     "name": "stdout",
     "output_type": "stream",
     "text": [
      "============================= =================================== ==========================\n",
      "name                          value                               timestamp                 \n",
      "============================= =================================== ==========================\n",
      "temperature_setpoint          25.0                                2021-03-17 00:26:50.856749\n",
      "temperature_readback          0.0                                 2021-03-17 00:26:50.859903\n",
      "temperature_done              False                               2021-03-17 00:26:50.863524\n",
      "temperature_calculation       A+max(-D,min(D,(B-A)))+C*(RNDM-0.5) 2021-03-17 00:26:50.866025\n",
      "temperature_description       temperature                         2021-03-17 00:26:50.854275\n",
      "temperature_max_change        2.0                                 2021-03-17 00:26:50.860480\n",
      "temperature_noise             1.0                                 2021-03-17 00:26:50.859903\n",
      "temperature_previous_value_pv gp:userCalc8.VAL                    2021-03-17 00:26:50.854275\n",
      "temperature_scanning_rate     5                                   2021-03-17 00:26:50.862265\n",
      "temperature_tolerance         1.0                                 2021-03-17 00:26:50.862265\n",
      "============================= =================================== ==========================\n",
      "\n"
     ]
    },
    {
     "data": {
      "text/plain": [
       "<pyRestTable.rest_table.Table at 0x7f29d92f58b0>"
      ]
     },
     "execution_count": 7,
     "metadata": {},
     "output_type": "execute_result"
    }
   ],
   "source": [
    "listdevice(temperature)"
   ]
  },
  {
   "cell_type": "markdown",
   "id": "respected-burke",
   "metadata": {},
   "source": [
    "### motor"
   ]
  },
  {
   "cell_type": "code",
   "execution_count": 8,
   "id": "amended-triple",
   "metadata": {},
   "outputs": [
    {
     "data": {
      "text/plain": [
       "0.0"
      ]
     },
     "execution_count": 8,
     "metadata": {},
     "output_type": "execute_result"
    }
   ],
   "source": [
    "m1.position"
   ]
  },
  {
   "cell_type": "code",
   "execution_count": 9,
   "id": "grand-forward",
   "metadata": {},
   "outputs": [
    {
     "data": {
      "text/plain": [
       "0.0"
      ]
     },
     "execution_count": 9,
     "metadata": {},
     "output_type": "execute_result"
    }
   ],
   "source": [
    "m1.user_readback.get()"
   ]
  },
  {
   "cell_type": "markdown",
   "id": "legendary-boards",
   "metadata": {},
   "source": [
    "## Move\n",
    "command | mode | description\n",
    "--- | --- | ---\n",
    "`%mov MOTOR value` | command line | interactive command move MOTOR to value (command line only)\n",
    "`%movr MOTOR value` | command line | interactive command relative move (command line only)\n",
    "`MOTOR.move(value)` | ophyd command | `%mov`\n",
    "`MOTOR.user_setpoint.put(value)` | ophyd | set motor `.VAL` field but not wait\n",
    "`bps.mv(MOTOR, value)` | bluesky plan | move and wait for completion\n",
    "`bps.mv(MOTOR.user_setpoint, value)` | bluesky plan | same\n",
    "`bps.mvr(MOTOR, value)` | bluesky plan | relative move"
   ]
  },
  {
   "cell_type": "code",
   "execution_count": 10,
   "id": "failing-valve",
   "metadata": {},
   "outputs": [
    {
     "name": "stdout",
     "output_type": "stream",
     "text": [
      "m1:   6%|█▋                           | 0.09/1.55 [00:00<00:02,  1.54s/degrees]\n",
      "m1:  12%|███▍                        | 0.189/1.55 [00:00<00:01,  1.26s/degrees]\n",
      "m1:  19%|█████▍                       | 0.29/1.55 [00:00<00:01,  1.17s/degrees]\n",
      "m1:  25%|███████▎                     | 0.39/1.55 [00:00<00:01,  1.13s/degrees]\n",
      "m1:  32%|█████████▏                   | 0.49/1.55 [00:00<00:01,  1.10s/degrees]\n",
      "m1:  38%|███████████                  | 0.59/1.55 [00:00<00:01,  1.08s/degrees]\n",
      "m1:  45%|████████████▉                | 0.69/1.55 [00:00<00:00,  1.07s/degrees]\n",
      "m1:  51%|██████████████▎             | 0.791/1.55 [00:00<00:00,  1.06s/degrees]\n",
      "m1:  57%|████████████████            | 0.891/1.55 [00:00<00:00,  1.06s/degrees]\n",
      "m1:  64%|█████████████████▉          | 0.991/1.55 [00:01<00:00,  1.05s/degrees]\n",
      "m1:  70%|███████████████████▋        | 1.091/1.55 [00:01<00:00,  1.05s/degrees]\n",
      "m1:  77%|█████████████████████▌      | 1.192/1.55 [00:01<00:00,  1.04s/degrees]\n",
      "m1:  83%|███████████████████████▎    | 1.292/1.55 [00:01<00:00,  1.04s/degrees]\n",
      "m1:  90%|█████████████████████████▏  | 1.392/1.55 [00:01<00:00,  1.04s/degrees]\n",
      "m1:  96%|██████████████████████████▊ | 1.486/1.55 [00:01<00:00,  1.04s/degrees]\n",
      "m1:  99%|███████████████████████████▊| 1.539/1.55 [00:01<00:00,  1.07s/degrees]\n",
      "m1: 100%|█████████████████████████████| 1.55/1.55 [00:01<00:00,  1.12s/degrees]\n",
      "m1 [In progress. No progress bar available.]                                   \n",
      "                                                                               \n"
     ]
    },
    {
     "data": {
      "text/plain": [
       "1.55"
      ]
     },
     "execution_count": 10,
     "metadata": {},
     "output_type": "execute_result"
    }
   ],
   "source": [
    "%mov m1 1.55\n",
    "m1.position"
   ]
  },
  {
   "cell_type": "code",
   "execution_count": 11,
   "id": "developed-newark",
   "metadata": {},
   "outputs": [
    {
     "name": "stdout",
     "output_type": "stream",
     "text": [
      "m1:  79%|██████████████████████▉      | 0.079/0.1 [00:00<00:00,  2.32s/degrees]\n",
      "m1: 100%|███████████████████████████████| 0.1/0.1 [00:00<00:00,  2.83s/degrees]\n",
      "m1 [In progress. No progress bar available.]                                   \n",
      "                                                                               \n"
     ]
    },
    {
     "data": {
      "text/plain": [
       "1.45"
      ]
     },
     "execution_count": 11,
     "metadata": {},
     "output_type": "execute_result"
    }
   ],
   "source": [
    "%movr m1 -.1\n",
    "m1.position"
   ]
  },
  {
   "cell_type": "code",
   "execution_count": 12,
   "id": "casual-resident",
   "metadata": {},
   "outputs": [
    {
     "data": {
      "text/plain": [
       "0.5"
      ]
     },
     "execution_count": 12,
     "metadata": {},
     "output_type": "execute_result"
    }
   ],
   "source": [
    "m1.move(.5)\n",
    "m1.position"
   ]
  },
  {
   "cell_type": "code",
   "execution_count": 13,
   "id": "developing-contract",
   "metadata": {},
   "outputs": [
    {
     "data": {
      "text/plain": [
       "(0.5, 0.0)"
      ]
     },
     "execution_count": 13,
     "metadata": {},
     "output_type": "execute_result"
    }
   ],
   "source": [
    "m1.user_setpoint.put(0)\n",
    "m1.position, m1.user_setpoint.get()"
   ]
  },
  {
   "cell_type": "code",
   "execution_count": 14,
   "id": "realistic-custom",
   "metadata": {},
   "outputs": [
    {
     "name": "stdout",
     "output_type": "stream",
     "text": [
      "\n",
      "temperature:   7%|█▋                     | 1.623/21.948 [00:00<00:11,  1.72C/s]\n",
      "temperature:  15%|███▌                   | 3.386/21.948 [00:02<00:16,  1.15C/s]\n",
      "temperature:  24%|█████▌                 | 5.295/21.948 [00:04<00:15,  1.07C/s]\n",
      "temperature:  34%|███████▊               | 7.419/21.948 [00:06<00:13,  1.07C/s]\n",
      "temperature:  43%|█████████▉             | 9.456/21.948 [00:08<00:11,  1.06C/s]\n",
      "temperature:  54%|███████████▊          | 11.831/21.948 [00:10<00:09,  1.08C/s]\n",
      "temperature:  63%|█████████████▊        | 13.759/21.948 [00:12<00:07,  1.06C/s]\n",
      "temperature:  72%|███████████████▊      | 15.736/21.948 [00:14<00:05,  1.05C/s]\n",
      "temperature:  81%|█████████████████▊    | 17.783/21.948 [00:16<00:03,  1.05C/s]\n",
      "temperature:  92%|████████████████████▎ | 20.279/21.948 [00:18<00:01,  1.07C/s]\n",
      "temperature: 100%|██████████████████████| 21.948/21.948 [00:20<00:00,  1.05C/s]\n",
      "temperature [In progress. No progress bar available.]                          \n",
      "                                                                               \n"
     ]
    }
   ],
   "source": [
    "%mov temperature 26"
   ]
  },
  {
   "cell_type": "code",
   "execution_count": 15,
   "id": "southwest-classic",
   "metadata": {},
   "outputs": [
    {
     "name": "stdout",
     "output_type": "stream",
     "text": [
      "\n",
      "m1:  45%|█████████████▏               | 0.091/0.2 [00:00<00:00,  1.81s/degrees]\n",
      "\n",
      "m1:  84%|████████████████████████▏    | 0.167/0.2 [00:00<00:00,  1.59s/degrees]\n",
      "\n",
      "m1: 100%|████████████████████████████▊| 0.199/0.2 [00:00<00:00,  1.84s/degrees]\n",
      "\n",
      "m1: 100%|███████████████████████████████| 0.2/0.2 [00:00<00:00,  2.33s/degrees]\n",
      "\n",
      "m1 [In progress. No progress bar available.]                                   \n",
      "temperature: 100%|████████████████████████████| 1.0/1.0 [00:01<00:00,  1.98s/C]\n",
      "m1 [In progress. No progress bar available.]                                   \n",
      "temperature [In progress. No progress bar available.]                          \n",
      "m1 [In progress. No progress bar available.]                                   \n",
      "                                                                               \n",
      "                                                                               \n"
     ]
    },
    {
     "data": {
      "text/plain": [
       "(25.11140611886778, 0.2)"
      ]
     },
     "execution_count": 15,
     "metadata": {},
     "output_type": "execute_result"
    }
   ],
   "source": [
    "%movr temperature -1  m1 .2\n",
    "temperature.position, m1.position"
   ]
  },
  {
   "cell_type": "markdown",
   "id": "detailed-closer",
   "metadata": {},
   "source": [
    "### bluesky"
   ]
  },
  {
   "cell_type": "code",
   "execution_count": 16,
   "id": "existing-newspaper",
   "metadata": {},
   "outputs": [
    {
     "data": {
      "text/plain": [
       "1.0"
      ]
     },
     "execution_count": 16,
     "metadata": {},
     "output_type": "execute_result"
    }
   ],
   "source": [
    "RE(bps.mv(m1, 1))\n",
    "m1.position"
   ]
  },
  {
   "cell_type": "code",
   "execution_count": 17,
   "id": "transparent-bridal",
   "metadata": {},
   "outputs": [
    {
     "data": {
      "text/plain": [
       "1.1"
      ]
     },
     "execution_count": 17,
     "metadata": {},
     "output_type": "execute_result"
    }
   ],
   "source": [
    "RE(bps.mvr(m1, .1))\n",
    "m1.position"
   ]
  },
  {
   "cell_type": "code",
   "execution_count": 18,
   "id": "agricultural-probe",
   "metadata": {},
   "outputs": [
    {
     "data": {
      "text/plain": [
       "(1.1, 25.11140611886778)"
      ]
     },
     "execution_count": 18,
     "metadata": {},
     "output_type": "execute_result"
    }
   ],
   "source": [
    "RE(bps.mv(m1.user_setpoint, 1, temperature.setpoint, 25))\n",
    "m1.position, temperature.position"
   ]
  },
  {
   "cell_type": "markdown",
   "id": "solid-screening",
   "metadata": {},
   "source": [
    "## Count\n",
    "\n",
    "command | description\n",
    "--- | ---\n",
    "`%ct` | count _all_ objects with label `detectors` and format output (command line only)\n",
    "`SCALER.trigger().wait(); SCALER.read()` | ophyd command to count SCALER\n",
    "`bp.count([SCALER])` | bluesky plan to count\n",
    "\n",
    "Count time setting is different for various types of detectors:\n",
    "\n",
    "detector | set count time\n",
    "--- | ---\n",
    "scaler | `SCALER.preset_time.put(COUNT_TIME_S)`\n",
    "area detector | `AD.cam.acquire_time.put(COUNT_TIME_S)`"
   ]
  },
  {
   "cell_type": "code",
   "execution_count": 19,
   "id": "perfect-demonstration",
   "metadata": {},
   "outputs": [
    {
     "name": "stdout",
     "output_type": "stream",
     "text": [
      "[This data will not be saved. Use the RunEngine to collect data.]\n",
      "noisy                          308.30694967681035\n",
      "timebase                       11000000.0\n",
      "I0                             7.0\n",
      "scint                          6.0\n",
      "diode                          4.0\n",
      "scaler1_time                   1.1\n"
     ]
    }
   ],
   "source": [
    "%ct"
   ]
  },
  {
   "cell_type": "code",
   "execution_count": 20,
   "id": "protective-stock",
   "metadata": {},
   "outputs": [
    {
     "name": "stdout",
     "output_type": "stream",
     "text": [
      "[This data will not be saved. Use the RunEngine to collect data.]\n",
      "timebase                       11000000.0\n",
      "I0                             4.0\n",
      "scint                          5.0\n",
      "diode                          3.0\n",
      "scaler1_time                   1.1\n"
     ]
    }
   ],
   "source": [
    "%ct scalers"
   ]
  },
  {
   "cell_type": "code",
   "execution_count": 21,
   "id": "short-potential",
   "metadata": {},
   "outputs": [
    {
     "data": {
      "text/plain": [
       "OrderedDict([('timebase',\n",
       "              {'value': 11000000.0, 'timestamp': 1615958842.153502}),\n",
       "             ('I0', {'value': 5.0, 'timestamp': 1615958842.153502}),\n",
       "             ('scint', {'value': 3.0, 'timestamp': 1615958842.153502}),\n",
       "             ('diode', {'value': 5.0, 'timestamp': 1615958842.153502}),\n",
       "             ('scaler1_time', {'value': 1.1, 'timestamp': 1615958841.078913})])"
      ]
     },
     "execution_count": 21,
     "metadata": {},
     "output_type": "execute_result"
    }
   ],
   "source": [
    "scaler1.trigger().wait(); scaler1.read()"
   ]
  },
  {
   "cell_type": "code",
   "execution_count": 22,
   "id": "tracked-roulette",
   "metadata": {},
   "outputs": [
    {
     "name": "stdout",
     "output_type": "stream",
     "text": [
      "\n",
      "\n",
      "Transient Scan ID: 20     Time: 2021-03-17 00:27:22\n",
      "Persistent Unique Scan ID: '58223983-1672-469e-9480-a99c6208f9db'\n",
      "New stream: 'baseline'\n",
      "New stream: 'primary'\n",
      "+-----------+------------+------------+------------+------------+------------+\n",
      "|   seq_num |       time |   timebase |         I0 |      scint |      diode |\n",
      "+-----------+------------+------------+------------+------------+------------+\n",
      "|         1 | 00:27:23.5 |   11000000 |          5 |          4 |          5 |\n",
      "+-----------+------------+------------+------------+------------+------------+\n",
      "generator count ['58223983'] (scan num: 20)\n"
     ]
    },
    {
     "data": {
      "text/plain": [
       "('58223983-1672-469e-9480-a99c6208f9db',)"
      ]
     },
     "execution_count": 22,
     "metadata": {},
     "output_type": "execute_result"
    }
   ],
   "source": [
    "RE(bp.count([scaler1]))"
   ]
  },
  {
   "cell_type": "code",
   "execution_count": 23,
   "id": "muslim-border",
   "metadata": {},
   "outputs": [
    {
     "name": "stdout",
     "output_type": "stream",
     "text": [
      "\n",
      "\n",
      "Transient Scan ID: 21     Time: 2021-03-17 00:27:23\n",
      "Persistent Unique Scan ID: '026f81d2-0362-4967-ac2a-70a53f42c58f'\n",
      "New stream: 'baseline'\n",
      "New stream: 'primary'\n",
      "+-----------+------------+------------+------------+------------+------------+\n",
      "|   seq_num |       time |   timebase |         I0 |      scint |      diode |\n",
      "+-----------+------------+------------+------------+------------+------------+\n",
      "|         1 | 00:27:25.2 |   11000000 |          5 |          6 |          5 |\n",
      "+-----------+------------+------------+------------+------------+------------+\n",
      "generator count ['026f81d2'] (scan num: 21)\n"
     ]
    },
    {
     "data": {
      "text/plain": [
       "('026f81d2-0362-4967-ac2a-70a53f42c58f',)"
      ]
     },
     "execution_count": 23,
     "metadata": {},
     "output_type": "execute_result"
    }
   ],
   "source": [
    "def my_plan():\n",
    "    yield from bp.count([scaler1])\n",
    "\n",
    "RE(my_plan())"
   ]
  }
 ],
 "metadata": {
  "kernelspec": {
   "display_name": "class_2021_03",
   "language": "python",
   "name": "class_2021_03"
  },
  "language_info": {
   "codemirror_mode": {
    "name": "ipython",
    "version": 3
   },
   "file_extension": ".py",
   "mimetype": "text/x-python",
   "name": "python",
   "nbconvert_exporter": "python",
   "pygments_lexer": "ipython3",
   "version": "3.8.8"
  }
 },
 "nbformat": 4,
 "nbformat_minor": 5
}