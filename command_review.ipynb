{
 "cells": [
  {
   "cell_type": "markdown",
   "source": [
    "# Review of commands\n",
    "\n",
    "From *APS Python Training for Bluesky Data Acquisition*.\n",
    "\n",
    "**Objective**\n",
    "\n",
    "In this notebook, the commands described in [Guide: First Steps with Bluesky](https://github.com/BCDA-APS/use_bluesky/blob/main/first_steps_guide.md), are demonstrated using the `instrument` package.\n",
    "\n",
    "## Start the `instrument` package\n",
    "\n",
    "Our instrument package is in the `bluesky` subdirectory here so we add that to the search path before importing it."
   ],
   "metadata": {}
  },
  {
   "cell_type": "code",
   "execution_count": 1,
   "source": [
    "# first, load the environment variable definitions\n",
    "try:\n",
    "    %load_ext dotenv\n",
    "    %dotenv env.txt\n",
    "except Exception:\n",
    "    print(\n",
    "        \"Did not load file with environment variables.\"\n",
    "        \"  No problem.  Continuing ...\"\n",
    "    )"
   ],
   "outputs": [
    {
     "output_type": "stream",
     "name": "stdout",
     "text": [
      "Did not load file with environment variables.  No problem.  Continuing ...\n"
     ]
    }
   ],
   "metadata": {}
  },
  {
   "cell_type": "code",
   "execution_count": 2,
   "source": [
    "import os, sys\n",
    "sys.path.append(os.path.abspath(os.path.join(\".\", \"bluesky\")))\n",
    "from instrument.collection import *"
   ],
   "outputs": [
    {
     "output_type": "stream",
     "name": "stderr",
     "text": [
      "I Fri-21:44:35 - ############################################################ startup\n",
      "I Fri-21:44:35 - logging started\n",
      "I Fri-21:44:35 - logging level = 10\n",
      "I Fri-21:44:35 - /home/mintadmin/Documents/projects/BCDA-APS/bluesky_training/bluesky/instrument/collection.py\n",
      "I Fri-21:44:35 - /home/mintadmin/Documents/projects/BCDA-APS/bluesky_training/bluesky/instrument/mpl/notebook.py\n"
     ]
    },
    {
     "output_type": "stream",
     "name": "stdout",
     "text": [
      "Activating auto-logging. Current session state plus future input saved.\n",
      "Filename       : /home/mintadmin/Documents/projects/BCDA-APS/bluesky_training/.logs/ipython_console.log\n",
      "Mode           : rotate\n",
      "Output logging : True\n",
      "Raw input log  : False\n",
      "Timestamping   : True\n",
      "State          : active\n"
     ]
    },
    {
     "output_type": "stream",
     "name": "stderr",
     "text": [
      "I Fri-21:44:35 - #### Bluesky Framework ####\n",
      "I Fri-21:44:35 - /home/mintadmin/Documents/projects/BCDA-APS/bluesky_training/bluesky/instrument/framework/check_python.py\n",
      "I Fri-21:44:35 - /home/mintadmin/Documents/projects/BCDA-APS/bluesky_training/bluesky/instrument/framework/check_bluesky.py\n",
      "I Fri-21:44:35 - /home/mintadmin/Documents/projects/BCDA-APS/bluesky_training/bluesky/instrument/framework/initialize.py\n",
      "I Fri-21:44:36 - using databroker catalog 'training'\n",
      "I Fri-21:44:36 - /home/mintadmin/Documents/projects/BCDA-APS/bluesky_training/bluesky/instrument/framework/metadata.py\n",
      "I Fri-21:44:36 - #### Devices ####\n",
      "I Fri-21:44:36 - /home/mintadmin/Documents/projects/BCDA-APS/bluesky_training/bluesky/instrument/devices/area_detector.py\n",
      "I Fri-21:44:36 - /home/mintadmin/Documents/projects/BCDA-APS/bluesky_training/bluesky/instrument/devices/calculation_records.py\n",
      "I Fri-21:44:40 - /home/mintadmin/Documents/projects/BCDA-APS/bluesky_training/bluesky/instrument/devices/ioc_stats.py\n",
      "I Fri-21:44:40 - /home/mintadmin/Documents/projects/BCDA-APS/bluesky_training/bluesky/instrument/devices/motors.py\n",
      "I Fri-21:44:40 - /home/mintadmin/Documents/projects/BCDA-APS/bluesky_training/bluesky/instrument/devices/noisy_detector.py\n",
      "I Fri-21:44:40 - /home/mintadmin/Documents/projects/BCDA-APS/bluesky_training/bluesky/instrument/devices/scaler.py\n",
      "I Fri-21:44:41 - /home/mintadmin/Documents/projects/BCDA-APS/bluesky_training/bluesky/instrument/devices/shutter_simulator.py\n",
      "I Fri-21:44:41 - /home/mintadmin/Documents/projects/BCDA-APS/bluesky_training/bluesky/instrument/devices/temperature_signal.py\n",
      "I Fri-21:44:41 - #### Callbacks ####\n",
      "I Fri-21:44:41 - /home/mintadmin/Documents/projects/BCDA-APS/bluesky_training/bluesky/instrument/callbacks/spec_data_file_writer.py\n",
      "I Fri-21:44:41 - writing to SPEC file: /home/mintadmin/Documents/projects/BCDA-APS/bluesky_training/20210723-214441.dat\n",
      "I Fri-21:44:41 -    >>>>   Using default SPEC file name   <<<<\n",
      "I Fri-21:44:41 -    file will be created when bluesky ends its next scan\n",
      "I Fri-21:44:41 -    to change SPEC file, use command:   newSpecFile('title')\n",
      "I Fri-21:44:41 - #### Plans ####\n",
      "I Fri-21:44:41 - /home/mintadmin/Documents/projects/BCDA-APS/bluesky_training/bluesky/instrument/plans/peak_finder_example.py\n",
      "I Fri-21:44:41 - #### Utilities ####\n",
      "I Fri-21:44:41 - /home/mintadmin/Documents/projects/BCDA-APS/bluesky_training/bluesky/instrument/utils/image_analysis.py\n",
      "I Fri-21:44:41 - #### Startup is complete. ####\n"
     ]
    }
   ],
   "metadata": {}
  },
  {
   "cell_type": "markdown",
   "source": [
    "## List, Describe, Summary\n",
    "\n",
    "On the command line, there is an [IPython magic](https://ipython.readthedocs.io/en/stable/interactive/magics.html#built-in-magic-commands) command from the [bluesky](https://blueskyproject.io/bluesky/) package to print the current value of [labeled](https://blueskyproject.io/bluesky/magics.html?highlight=label) items: [`%wa`]()"
   ],
   "metadata": {}
  },
  {
   "cell_type": "code",
   "execution_count": 3,
   "source": [
    "%wa"
   ],
   "outputs": [
    {
     "output_type": "stream",
     "name": "stdout",
     "text": [
      "area_detector\n",
      "  Local variable name                    Ophyd name (to be recorded as metadata)\n",
      "  adsimdet                               adsimdet                              \n",
      "\n",
      "motor\n",
      "  Positioner                     Value       Low Limit   High Limit  Offset     \n",
      "  m1                             3.0         -32000.0    32000.0     0.0        \n",
      "  m10                            0.0         -32000.0    32000.0     0.0        \n",
      "  m11                            0.0         -32000.0    32000.0     0.0        \n",
      "  m12                            0.0         -32000.0    32000.0     0.0        \n",
      "  m13                            0.0         -32000.0    32000.0     0.0        \n",
      "  m14                            0.0         -32000.0    32000.0     0.0        \n",
      "  m15                            0.0         -32000.0    32000.0     0.0        \n",
      "  m16                            0.0         -32000.0    32000.0     0.0        \n",
      "  m2                             6.0         -32000.0    32000.0     0.0        \n",
      "  m3                             0.0         -32000.0    32000.0     0.0        \n",
      "  m4                             0.0         -32000.0    32000.0     0.0        \n",
      "  m5                             0.0         -32000.0    32000.0     0.0        \n",
      "  m6                             0.0         -32000.0    32000.0     0.0        \n",
      "  m7                             0.0         -32000.0    32000.0     0.0        \n",
      "  m8                             0.0         -32000.0    32000.0     0.0        \n",
      "  m9                             0.0         -32000.0    32000.0     0.0        \n",
      "\n",
      "  Local variable name                    Ophyd name (to be recorded as metadata)\n",
      "  m1                                     m1                                    \n",
      "  m10                                    m10                                   \n",
      "  m11                                    m11                                   \n",
      "  m12                                    m12                                   \n",
      "  m13                                    m13                                   \n",
      "  m14                                    m14                                   \n",
      "  m15                                    m15                                   \n",
      "  m16                                    m16                                   \n",
      "  m2                                     m2                                    \n",
      "  m3                                     m3                                    \n",
      "  m4                                     m4                                    \n",
      "  m5                                     m5                                    \n",
      "  m6                                     m6                                    \n",
      "  m7                                     m7                                    \n",
      "  m8                                     m8                                    \n",
      "  m9                                     m9                                    \n",
      "\n",
      "detectors\n",
      "  Local variable name                    Ophyd name (to be recorded as metadata)\n",
      "  noisy                                  noisy                                 \n",
      "  scaler1                                scaler1                               \n",
      "\n",
      "scalers\n",
      "  Local variable name                    Ophyd name (to be recorded as metadata)\n",
      "  scaler1                                scaler1                               \n",
      "\n",
      "counter\n",
      "  Local variable name                    Ophyd name (to be recorded as metadata)\n",
      "  I0                                     I0                                    \n",
      "  diode                                  diode                                 \n",
      "  scaler1.channels.chan01.s              timebase                              \n",
      "  scaler1.channels.chan02.s              I0                                    \n",
      "  scaler1.channels.chan03.s              scint                                 \n",
      "  scaler1.channels.chan04.s              diode                                 \n",
      "  scint                                  scint                                 \n",
      "  timebase                               timebase                              \n",
      "\n",
      "channel\n",
      "  Local variable name                    Ophyd name (to be recorded as metadata)\n",
      "  I0                                     I0                                    \n",
      "  diode                                  diode                                 \n",
      "  scaler1.channels.chan01.s              timebase                              \n",
      "  scaler1.channels.chan02.s              I0                                    \n",
      "  scaler1.channels.chan03.s              scint                                 \n",
      "  scaler1.channels.chan04.s              diode                                 \n",
      "  scint                                  scint                                 \n",
      "  timebase                               timebase                              \n",
      "\n",
      "shutters\n",
      "  Local variable name                    Ophyd name (to be recorded as metadata)\n",
      "  shutter                                shutter                               \n",
      "\n"
     ]
    }
   ],
   "metadata": {}
  },
  {
   "cell_type": "markdown",
   "source": [
    "Might be a good idea to know now what ophyd symbols are available.  The [apstools](https://apstools.readthedocs.io/en/latest/) package provides a [`listobjects()`](https://apstools.readthedocs.io/en/latest/source/_utils.html?highlight=listobjects#apstools.utils.listobjects) command that prints a table of all the known objects (in the global namespace of the session).  The columns provide the ophyd name (the name you use to call this in Python), the name of the ophyd structure, the EPICS PV (if relevant), and any labels (as used in `%wa` above)."
   ],
   "metadata": {}
  },
  {
   "cell_type": "code",
   "execution_count": 4,
   "source": [
    "listobjects()"
   ],
   "outputs": [
    {
     "output_type": "stream",
     "name": "stdout",
     "text": [
      "=========== ================================ ============= =================\n",
      "name        ophyd structure                  EPICS PV      label(s)         \n",
      "=========== ================================ ============= =================\n",
      "I0          EpicsSignalRO                    gp:scaler1.S2 counter channel  \n",
      "adsimdet    MySimDetector                    ad:           area_detector    \n",
      "calcouts    UserCalcoutDevice                gp:                            \n",
      "calcs       UserCalcsDevice                  gp:                            \n",
      "diode       EpicsSignalRO                    gp:scaler1.S4 counter channel  \n",
      "gp_stats    IocInfoDevice                    gp:                            \n",
      "m1          MyEpicsMotor                     gp:m1         motor            \n",
      "m10         MyEpicsMotor                     gp:m10        motor            \n",
      "m11         MyEpicsMotor                     gp:m11        motor            \n",
      "m12         MyEpicsMotor                     gp:m12        motor            \n",
      "m13         MyEpicsMotor                     gp:m13        motor            \n",
      "m14         MyEpicsMotor                     gp:m14        motor            \n",
      "m15         MyEpicsMotor                     gp:m15        motor            \n",
      "m16         MyEpicsMotor                     gp:m16        motor            \n",
      "m2          MyEpicsMotor                     gp:m2         motor            \n",
      "m3          MyEpicsMotor                     gp:m3         motor            \n",
      "m4          MyEpicsMotor                     gp:m4         motor            \n",
      "m5          MyEpicsMotor                     gp:m5         motor            \n",
      "m6          MyEpicsMotor                     gp:m6         motor            \n",
      "m7          MyEpicsMotor                     gp:m7         motor            \n",
      "m8          MyEpicsMotor                     gp:m8         motor            \n",
      "m9          MyEpicsMotor                     gp:m9         motor            \n",
      "noisy       EpicsSignalRO                    gp:userCalc1  detectors        \n",
      "scaler1     ScalerCH                         gp:scaler1    scalers detectors\n",
      "scint       EpicsSignalRO                    gp:scaler1.S3 counter channel  \n",
      "shutter     SimulatedApsPssShutterWithStatus               shutters         \n",
      "temperature MyPvPositioner                   gp:userCalc8                   \n",
      "timebase    EpicsSignalRO                    gp:scaler1.S1 counter channel  \n",
      "=========== ================================ ============= =================\n",
      "\n"
     ]
    },
    {
     "output_type": "execute_result",
     "data": {
      "text/plain": [
       "<pyRestTable.rest_table.Table at 0x7fc5304aea90>"
      ]
     },
     "metadata": {},
     "execution_count": 4
    }
   ],
   "metadata": {}
  },
  {
   "cell_type": "markdown",
   "source": [
    "## Read\n",
    "\n",
    "We'll use the `temperature` and `m1` objects to demonstrate the various commands described in the quick-reference [Guide: First Steps with Bluesky](https://github.com/BCDA-APS/use_bluesky/blob/main/first_steps_guide.md)\n",
    "\n",
    "command | description\n",
    "--- | ---\n",
    "`OBJECT.summary()` | more information about `OBJECT`\n",
    "`OBJECT.get()` | low-level command to show value of ophyd *Signal* named `OBJECT`\n",
    "`OBJECT.read()` | data acquisition command, includes timestamp\n",
    "`listdevice(OBJECT)` | table-version of `.read()`\n",
    "`MOTOR.position` | get readback, only for motor objects\n",
    "`MOTOR.user_readback.get()` | alternative to `MOTOR.position`"
   ],
   "metadata": {}
  },
  {
   "cell_type": "markdown",
   "source": [
    "### temperature"
   ],
   "metadata": {}
  },
  {
   "cell_type": "code",
   "execution_count": 5,
   "source": [
    "temperature.summary()"
   ],
   "outputs": [
    {
     "output_type": "stream",
     "name": "stdout",
     "text": [
      "data keys (* hints)\n",
      "-------------------\n",
      " temperature_calculation\n",
      " temperature_description\n",
      " temperature_done\n",
      " temperature_max_change\n",
      " temperature_noise\n",
      " temperature_previous_value_pv\n",
      "*temperature_readback\n",
      " temperature_scanning_rate\n",
      " temperature_setpoint\n",
      " temperature_tolerance\n",
      "\n",
      "read attrs\n",
      "----------\n",
      "setpoint             EpicsSignal         ('temperature_setpoint')\n",
      "readback             EpicsSignal         ('temperature_readback')\n",
      "done                 Signal              ('temperature_done')\n",
      "calculation          EpicsSignal         ('temperature_calculation')\n",
      "description          EpicsSignal         ('temperature_description')\n",
      "max_change           EpicsSignal         ('temperature_max_change')\n",
      "noise                EpicsSignal         ('temperature_noise')\n",
      "previous_value_pv    EpicsSignal         ('temperature_previous_value_pv')\n",
      "scanning_rate        EpicsSignal         ('temperature_scanning_rate')\n",
      "tolerance            EpicsSignal         ('temperature_tolerance')\n",
      "\n",
      "config keys\n",
      "-----------\n",
      "\n",
      "configuration attrs\n",
      "-------------------\n",
      "\n",
      "unused attrs\n",
      "------------\n",
      "report_dmov_changes  Signal              ('temperature_report_dmov_changes')\n",
      "\n"
     ]
    }
   ],
   "metadata": {}
  },
  {
   "cell_type": "code",
   "execution_count": 6,
   "source": [
    "temperature.readback.get()"
   ],
   "outputs": [
    {
     "output_type": "execute_result",
     "data": {
      "text/plain": [
       "25.369901579308767"
      ]
     },
     "metadata": {},
     "execution_count": 6
    }
   ],
   "metadata": {}
  },
  {
   "cell_type": "code",
   "execution_count": 7,
   "source": [
    "temperature.read()"
   ],
   "outputs": [
    {
     "output_type": "execute_result",
     "data": {
      "text/plain": [
       "OrderedDict([('temperature_setpoint',\n",
       "              {'value': 25.0, 'timestamp': 1627094681.79622}),\n",
       "             ('temperature_readback',\n",
       "              {'value': 25.369901579308767, 'timestamp': 1627094682.800693}),\n",
       "             ('temperature_done',\n",
       "              {'value': True, 'timestamp': 1627094682.80372}),\n",
       "             ('temperature_calculation',\n",
       "              {'value': 'A+max(-D,min(D,(B-A)))+C*(RNDM-0.5)',\n",
       "               'timestamp': 1627094681.8112788}),\n",
       "             ('temperature_description',\n",
       "              {'value': 'temperature', 'timestamp': 1627094681.795673}),\n",
       "             ('temperature_max_change',\n",
       "              {'value': 2.0, 'timestamp': 1627094681.8091385}),\n",
       "             ('temperature_noise',\n",
       "              {'value': 1.0, 'timestamp': 1627094681.805772}),\n",
       "             ('temperature_previous_value_pv',\n",
       "              {'value': 'gp:userCalc8.VAL', 'timestamp': 1627094681.793884}),\n",
       "             ('temperature_scanning_rate',\n",
       "              {'value': 5, 'timestamp': 1627094681.809786}),\n",
       "             ('temperature_tolerance',\n",
       "              {'value': 1.0, 'timestamp': 1627094681.809786})])"
      ]
     },
     "metadata": {},
     "execution_count": 7
    }
   ],
   "metadata": {}
  },
  {
   "cell_type": "code",
   "execution_count": 8,
   "source": [
    "listdevice(temperature)"
   ],
   "outputs": [
    {
     "output_type": "stream",
     "name": "stdout",
     "text": [
      "============================= =================================== ==========================\n",
      "name                          value                               timestamp                 \n",
      "============================= =================================== ==========================\n",
      "temperature_setpoint          25.0                                2021-07-23 21:44:41.796220\n",
      "temperature_readback          25.369901579308767                  2021-07-23 21:44:42.800693\n",
      "temperature_done              True                                2021-07-23 21:44:42.803720\n",
      "temperature_calculation       A+max(-D,min(D,(B-A)))+C*(RNDM-0.5) 2021-07-23 21:44:41.811279\n",
      "temperature_description       temperature                         2021-07-23 21:44:41.795673\n",
      "temperature_max_change        2.0                                 2021-07-23 21:44:41.809139\n",
      "temperature_noise             1.0                                 2021-07-23 21:44:41.805772\n",
      "temperature_previous_value_pv gp:userCalc8.VAL                    2021-07-23 21:44:41.793884\n",
      "temperature_scanning_rate     5                                   2021-07-23 21:44:41.809786\n",
      "temperature_tolerance         1.0                                 2021-07-23 21:44:41.809786\n",
      "============================= =================================== ==========================\n",
      "\n"
     ]
    },
    {
     "output_type": "execute_result",
     "data": {
      "text/plain": [
       "<pyRestTable.rest_table.Table at 0x7fc591c4fee0>"
      ]
     },
     "metadata": {},
     "execution_count": 8
    }
   ],
   "metadata": {}
  },
  {
   "cell_type": "markdown",
   "source": [
    "### motor"
   ],
   "metadata": {}
  },
  {
   "cell_type": "code",
   "execution_count": 9,
   "source": [
    "m1.position"
   ],
   "outputs": [
    {
     "output_type": "execute_result",
     "data": {
      "text/plain": [
       "3.0"
      ]
     },
     "metadata": {},
     "execution_count": 9
    }
   ],
   "metadata": {}
  },
  {
   "cell_type": "code",
   "execution_count": 10,
   "source": [
    "m1.user_readback.get()"
   ],
   "outputs": [
    {
     "output_type": "execute_result",
     "data": {
      "text/plain": [
       "3.0"
      ]
     },
     "metadata": {},
     "execution_count": 10
    }
   ],
   "metadata": {}
  },
  {
   "cell_type": "markdown",
   "source": [
    "## Move\n",
    "command | mode | description\n",
    "--- | --- | ---\n",
    "`%mov MOTOR value` | command line | interactive command move MOTOR to value (command line only)\n",
    "`%movr MOTOR value` | command line | interactive command relative move (command line only)\n",
    "`MOTOR.move(value)` | ophyd command | `%mov`\n",
    "`MOTOR.user_setpoint.put(value)` | ophyd | set motor `.VAL` field but not wait\n",
    "`bps.mv(MOTOR, value)` | bluesky plan | move and wait for completion\n",
    "`bps.mv(MOTOR.user_setpoint, value)` | bluesky plan | same\n",
    "`bps.mvr(MOTOR, value)` | bluesky plan | relative move"
   ],
   "metadata": {}
  },
  {
   "cell_type": "code",
   "execution_count": 11,
   "source": [
    "%mov m1 1.55\n",
    "m1.position"
   ],
   "outputs": [
    {
     "output_type": "stream",
     "name": "stdout",
     "text": [
      "m1:   6%|█▊                          | 0.091/1.45 [00:00<00:02,  1.87s/degrees]\n",
      "m1:  13%|███▊                         | 0.19/1.45 [00:00<00:01,  1.42s/degrees]\n",
      "m1:  20%|█████▌                      | 0.291/1.45 [00:00<00:01,  1.27s/degrees]\n",
      "m1:  27%|███████▌                    | 0.391/1.45 [00:00<00:01,  1.20s/degrees]\n",
      "m1:  34%|█████████▍                  | 0.491/1.45 [00:00<00:01,  1.16s/degrees]\n",
      "m1:  41%|███████████▍                | 0.591/1.45 [00:00<00:00,  1.14s/degrees]\n",
      "m1:  48%|█████████████▎              | 0.691/1.45 [00:00<00:00,  1.12s/degrees]\n",
      "m1:  55%|███████████████▎            | 0.792/1.45 [00:00<00:00,  1.10s/degrees]\n",
      "m1:  62%|█████████████████▏          | 0.893/1.45 [00:00<00:00,  1.09s/degrees]\n",
      "m1:  68%|███████████████████▏        | 0.993/1.45 [00:01<00:00,  1.08s/degrees]\n",
      "m1:  75%|█████████████████████       | 1.093/1.45 [00:01<00:00,  1.07s/degrees]\n",
      "m1:  82%|███████████████████████     | 1.195/1.45 [00:01<00:00,  1.07s/degrees]\n",
      "m1:  89%|█████████████████████████   | 1.296/1.45 [00:01<00:00,  1.06s/degrees]\n",
      "m1:  96%|██████████████████████████▊ | 1.389/1.45 [00:01<00:00,  1.06s/degrees]\n",
      "m1:  99%|███████████████████████████▊| 1.441/1.45 [00:01<00:00,  1.10s/degrees]\n",
      "m1: 100%|█████████████████████████████| 1.45/1.45 [00:01<00:00,  1.16s/degrees]\n",
      "m1 [In progress. No progress bar available.]                                   \n",
      "\n"
     ]
    },
    {
     "output_type": "execute_result",
     "data": {
      "text/plain": [
       "1.55"
      ]
     },
     "metadata": {},
     "execution_count": 11
    }
   ],
   "metadata": {}
  },
  {
   "cell_type": "code",
   "execution_count": 12,
   "source": [
    "%movr m1 -.1\n",
    "m1.position"
   ],
   "outputs": [
    {
     "output_type": "stream",
     "name": "stdout",
     "text": [
      "m1:  79%|██████████████████████▉      | 0.079/0.1 [00:00<00:00,  1.96s/degrees]\n",
      "m1: 100%|███████████████████████████████| 0.1/0.1 [00:00<00:00,  2.56s/degrees]\n",
      "m1 [In progress. No progress bar available.]                                   \n",
      "\n"
     ]
    },
    {
     "output_type": "execute_result",
     "data": {
      "text/plain": [
       "1.45"
      ]
     },
     "metadata": {},
     "execution_count": 12
    }
   ],
   "metadata": {}
  },
  {
   "cell_type": "code",
   "execution_count": 13,
   "source": [
    "m1.move(.5)\n",
    "m1.position"
   ],
   "outputs": [
    {
     "output_type": "execute_result",
     "data": {
      "text/plain": [
       "0.5"
      ]
     },
     "metadata": {},
     "execution_count": 13
    }
   ],
   "metadata": {}
  },
  {
   "cell_type": "code",
   "execution_count": 14,
   "source": [
    "m1.user_setpoint.put(0)\n",
    "m1.position, m1.user_setpoint.get()"
   ],
   "outputs": [
    {
     "output_type": "execute_result",
     "data": {
      "text/plain": [
       "(0.5, 0.5)"
      ]
     },
     "metadata": {},
     "execution_count": 14
    }
   ],
   "metadata": {}
  },
  {
   "cell_type": "code",
   "execution_count": 15,
   "source": [
    "%mov temperature 26"
   ],
   "outputs": [
    {
     "output_type": "stream",
     "name": "stdout",
     "text": [
      "\n",
      "temperature:  83%|███████████████████▉    | 0.458/0.551 [00:00<00:00,  1.23s/C]\n",
      "temperature [In progress. No progress bar available.]                          \n",
      "\n"
     ]
    }
   ],
   "metadata": {}
  },
  {
   "cell_type": "code",
   "execution_count": 16,
   "source": [
    "%movr temperature -1  m1 .2\n",
    "temperature.position, m1.position"
   ],
   "outputs": [
    {
     "output_type": "stream",
     "name": "stdout",
     "text": [
      "\n",
      "m1:  45%|█████████████▍                | 0.09/0.2 [00:00<00:00,  1.89s/degrees]\n",
      "\n",
      "m1:  84%|████████████████████████▏    | 0.167/0.2 [00:00<00:00,  1.61s/degrees]\n",
      "\n",
      "m1: 100%|████████████████████████████▊| 0.199/0.2 [00:00<00:00,  1.86s/degrees]\n",
      "\n",
      "m1: 100%|███████████████████████████████| 0.2/0.2 [00:00<00:00,  2.35s/degrees]\n",
      "\n",
      "m1 [In progress. No progress bar available.]                                   \n",
      "temperature:  95%|████████████████████████▋ | 0.951/1.0 [00:01<00:00,  1.80s/C]\n",
      "m1 [In progress. No progress bar available.]                                   \n",
      "temperature [In progress. No progress bar available.]                          \n",
      "m1 [In progress. No progress bar available.]                                   \n",
      "\n",
      "\n"
     ]
    },
    {
     "output_type": "execute_result",
     "data": {
      "text/plain": [
       "(24.95620660715648, 0.2)"
      ]
     },
     "metadata": {},
     "execution_count": 16
    }
   ],
   "metadata": {}
  },
  {
   "cell_type": "markdown",
   "source": [
    "### bluesky"
   ],
   "metadata": {}
  },
  {
   "cell_type": "code",
   "execution_count": 17,
   "source": [
    "RE(bps.mv(m1, 1))\n",
    "m1.position"
   ],
   "outputs": [
    {
     "output_type": "execute_result",
     "data": {
      "text/plain": [
       "1.0"
      ]
     },
     "metadata": {},
     "execution_count": 17
    }
   ],
   "metadata": {}
  },
  {
   "cell_type": "code",
   "execution_count": 18,
   "source": [
    "RE(bps.mvr(m1, .1))\n",
    "m1.position"
   ],
   "outputs": [
    {
     "output_type": "execute_result",
     "data": {
      "text/plain": [
       "1.1"
      ]
     },
     "metadata": {},
     "execution_count": 18
    }
   ],
   "metadata": {}
  },
  {
   "cell_type": "code",
   "execution_count": 19,
   "source": [
    "RE(bps.mv(m1.user_setpoint, 1, temperature.setpoint, 25))\n",
    "m1.position, temperature.position"
   ],
   "outputs": [
    {
     "output_type": "execute_result",
     "data": {
      "text/plain": [
       "(1.1, 24.95620660715648)"
      ]
     },
     "metadata": {},
     "execution_count": 19
    }
   ],
   "metadata": {}
  },
  {
   "cell_type": "markdown",
   "source": [
    "## Count\n",
    "\n",
    "command | description\n",
    "--- | ---\n",
    "`%ct` | count _all_ objects with label `detectors` and format output (command line only)\n",
    "`SCALER.trigger().wait(); SCALER.read()` | ophyd command to count SCALER\n",
    "`bp.count([SCALER])` | bluesky plan to count\n",
    "\n",
    "Count time setting is different for various types of detectors:\n",
    "\n",
    "detector | set count time\n",
    "--- | ---\n",
    "scaler | `SCALER.preset_time.put(COUNT_TIME_S)`\n",
    "area detector | `AD.cam.acquire_time.put(COUNT_TIME_S)`"
   ],
   "metadata": {}
  },
  {
   "cell_type": "code",
   "execution_count": 20,
   "source": [
    "%ct"
   ],
   "outputs": [
    {
     "output_type": "stream",
     "name": "stdout",
     "text": [
      "[This data will not be saved. Use the RunEngine to collect data.]\n",
      "noisy                          252.97980817341593\n",
      "timebase                       11000000.0\n",
      "I0                             5.0\n",
      "scint                          5.0\n",
      "diode                          4.0\n",
      "scaler1_time                   1.1\n"
     ]
    }
   ],
   "metadata": {}
  },
  {
   "cell_type": "code",
   "execution_count": 21,
   "source": [
    "%ct scalers"
   ],
   "outputs": [
    {
     "output_type": "stream",
     "name": "stdout",
     "text": [
      "[This data will not be saved. Use the RunEngine to collect data.]\n",
      "timebase                       11000000.0\n",
      "I0                             4.0\n",
      "scint                          7.0\n",
      "diode                          4.0\n",
      "scaler1_time                   1.1\n"
     ]
    }
   ],
   "metadata": {}
  },
  {
   "cell_type": "code",
   "execution_count": 22,
   "source": [
    "scaler1.trigger().wait(); scaler1.read()"
   ],
   "outputs": [
    {
     "output_type": "execute_result",
     "data": {
      "text/plain": [
       "OrderedDict([('timebase',\n",
       "              {'value': 11000000.0, 'timestamp': 1627094696.660311}),\n",
       "             ('I0', {'value': 5.0, 'timestamp': 1627094696.660311}),\n",
       "             ('scint', {'value': 5.0, 'timestamp': 1627094696.660311}),\n",
       "             ('diode', {'value': 7.0, 'timestamp': 1627094696.660311}),\n",
       "             ('scaler1_time', {'value': 1.1, 'timestamp': 1627094695.201436})])"
      ]
     },
     "metadata": {},
     "execution_count": 22
    }
   ],
   "metadata": {}
  },
  {
   "cell_type": "code",
   "execution_count": 23,
   "source": [
    "RE(bp.count([scaler1]))"
   ],
   "outputs": [
    {
     "output_type": "stream",
     "name": "stdout",
     "text": [
      "\n",
      "\n",
      "Transient Scan ID: 349     Time: 2021-07-23 21:44:56\n",
      "Persistent Unique Scan ID: 'da417a5c-cfbf-476e-8d30-2b40b8f15573'\n",
      "New stream: 'baseline'\n",
      "New stream: 'primary'\n",
      "+-----------+------------+------------+------------+------------+------------+\n",
      "|   seq_num |       time |   timebase |         I0 |      scint |      diode |\n",
      "+-----------+------------+------------+------------+------------+------------+\n",
      "|         1 | 21:44:58.4 |   11000000 |          6 |          4 |          5 |\n",
      "+-----------+------------+------------+------------+------------+------------+\n",
      "generator count ['da417a5c'] (scan num: 349)\n"
     ]
    },
    {
     "output_type": "execute_result",
     "data": {
      "text/plain": [
       "('da417a5c-cfbf-476e-8d30-2b40b8f15573',)"
      ]
     },
     "metadata": {},
     "execution_count": 23
    }
   ],
   "metadata": {}
  },
  {
   "cell_type": "code",
   "execution_count": 24,
   "source": [
    "def my_plan():\n",
    "    yield from bp.count([scaler1])\n",
    "\n",
    "RE(my_plan())"
   ],
   "outputs": [
    {
     "output_type": "stream",
     "name": "stdout",
     "text": [
      "\n",
      "\n",
      "Transient Scan ID: 350     Time: 2021-07-23 21:44:58\n",
      "Persistent Unique Scan ID: '9d913cbc-aa96-480c-95a8-79ab5dbefb04'\n",
      "New stream: 'baseline'\n",
      "New stream: 'primary'\n",
      "+-----------+------------+------------+------------+------------+------------+\n",
      "|   seq_num |       time |   timebase |         I0 |      scint |      diode |\n",
      "+-----------+------------+------------+------------+------------+------------+\n",
      "|         1 | 21:45:00.3 |   11000000 |          5 |          2 |          5 |\n",
      "+-----------+------------+------------+------------+------------+------------+\n",
      "generator count ['9d913cbc'] (scan num: 350)\n"
     ]
    },
    {
     "output_type": "execute_result",
     "data": {
      "text/plain": [
       "('9d913cbc-aa96-480c-95a8-79ab5dbefb04',)"
      ]
     },
     "metadata": {},
     "execution_count": 24
    }
   ],
   "metadata": {}
  }
 ],
 "metadata": {
  "kernelspec": {
   "name": "python3",
<<<<<<< HEAD
   "display_name": "Python 3.8.10 64-bit ('bluesky_2021_2': conda)"
=======
   "display_name": "Python 3.8.10 64-bit ('base': conda)"
>>>>>>> origin/main
  },
  "language_info": {
   "codemirror_mode": {
    "name": "ipython",
    "version": 3
   },
   "file_extension": ".py",
   "mimetype": "text/x-python",
   "name": "python",
   "nbconvert_exporter": "python",
   "pygments_lexer": "ipython3",
   "version": "3.8.10"
  },
  "interpreter": {
<<<<<<< HEAD
   "hash": "60aa360bcd8d3c8cfbc4e726e53a455fcd5c15cdf29caaf63c7ca2494eba79e9"
=======
   "hash": "fa399ef8ed4fbc3b7fe63ebf4307839a170374bf77134d519fcb3b724ac0582b"
>>>>>>> origin/main
  }
 },
 "nbformat": 4,
 "nbformat_minor": 5
}