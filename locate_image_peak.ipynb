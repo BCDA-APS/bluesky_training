{
 "cells": [
  {
   "cell_type": "markdown",
   "id": "material-junior",
   "metadata": {},
   "source": [
    "# Locate peak on 2-D area detector image\n",
    "\n",
    "From *2021-03 APS Python Training for Bluesky Data Acquisition*.\n",
    "\n",
    "**Objective**\n",
    "\n",
    "Measure a simulated diffraction spot with an EPICS area detector\n",
    "and find its centroid and width.\n",
    "\n",
    "Note: The position, width, and peak intensity of the simulated is randomized and will be different each time this note book is run.  In fact, the EPICS support applies a small amount of jitter to the position to better simulate a real signal.\n",
    "\n",
    "## Start the `instrument` package\n",
    "\n",
    "Our instrument package is in the `bluesky` subdirectory here so we add that to the search path before importing it."
   ]
  },
  {
   "cell_type": "code",
   "execution_count": null,
   "metadata": {},
   "outputs": [],
   "source": [
    "# first, load the environment variable definitions\n",
    "%load_ext dotenv\n",
    "%dotenv env.txt"
   ]
  },
  {
   "cell_type": "code",
   "execution_count": null,
   "id": "anonymous-judgment",
   "metadata": {},
   "outputs": [],
   "source": [
    "import os, sys\n",
    "sys.path.append(os.path.abspath(os.path.join(\".\", \"bluesky\")))\n",
    "from instrument.collection import *"
   ]
  },
  {
   "cell_type": "markdown",
   "id": "supreme-receptor",
   "metadata": {},
   "source": [
    "Count the detector : record an image."
   ]
  },
  {
   "cell_type": "code",
   "execution_count": null,
   "id": "right-running",
   "metadata": {},
   "outputs": [],
   "source": [
    "RE(bp.count([adsimdet], md={\"motive\": \"locate_image_peak\"}))"
   ]
  },
  {
   "cell_type": "markdown",
   "id": "rotary-potential",
   "metadata": {},
   "source": [
    "## View the image\n",
    "\n",
    "Since area detector images are typically quite large, they are never \n",
    "read into Python memory during data acquisition.  To view the image \n",
    "here, we need to use the *databroker* which reads the run data.  The \n",
    "run data includes the reference to the file that contains the image.\n",
    "\n",
    "### Get the run\n",
    "First, get the most recent run from `db`."
   ]
  },
  {
   "cell_type": "code",
   "execution_count": null,
   "id": "bound-specification",
   "metadata": {},
   "outputs": [],
   "source": [
    "run = cat[-1]"
   ]
  },
  {
   "cell_type": "markdown",
   "id": "demographic-carroll",
   "metadata": {},
   "source": [
    "Look at the run's metadata.  Confirm it has the `{\"motive\": \"locate_image_peak\"}` metadata we added.  That was stored in the `start` document."
   ]
  },
  {
   "cell_type": "code",
   "execution_count": null,
   "id": "steady-spider",
   "metadata": {},
   "outputs": [],
   "source": [
    "print(run.metadata[\"start\"][\"motive\"])"
   ]
  },
  {
   "cell_type": "markdown",
   "id": "attempted-siemens",
   "metadata": {},
   "source": [
    "### Primary stream\n",
    "The image was collected in the primary data stream.  Get the primary stream data from the database."
   ]
  },
  {
   "cell_type": "code",
   "execution_count": null,
   "id": "eight-result",
   "metadata": {},
   "outputs": [],
   "source": [
    "primary_data = run.primary.read()\n",
    "primary_data"
   ]
  },
  {
   "cell_type": "markdown",
   "id": "brutal-morocco",
   "metadata": {},
   "source": [
    "### Get the image data\n",
    "\n",
    "Get the named image `adsimdet_image` from the primary stream."
   ]
  },
  {
   "cell_type": "code",
   "execution_count": null,
   "id": "greatest-madonna",
   "metadata": {},
   "outputs": [],
   "source": [
    "image = primary_data[\"adsimdet_image\"]\n",
    "image"
   ]
  },
  {
   "cell_type": "markdown",
   "id": "conceptual-plane",
   "metadata": {},
   "source": [
    "### Image frame\n",
    "This image object has rank of 4.  We just want the image frame (the last two indices).  Select the first item of each of the first two indices (time, frame number)."
   ]
  },
  {
   "cell_type": "code",
   "execution_count": null,
   "id": "manufactured-variation",
   "metadata": {},
   "outputs": [],
   "source": [
    "frame = image[0][0]\n",
    "frame"
   ]
  },
  {
   "cell_type": "markdown",
   "id": "regional-strike",
   "metadata": {},
   "source": [
    "### Show the image"
   ]
  },
  {
   "cell_type": "code",
   "execution_count": null,
   "id": "quarterly-watts",
   "metadata": {},
   "outputs": [],
   "source": [
    "frame.plot.pcolormesh()\n",
    "# In MS VSCode, this one cell stalls, use JupyterLab from here.  :("
   ]
  },
  {
   "cell_type": "markdown",
   "id": "suffering-ceiling",
   "metadata": {},
   "source": [
    "### Center & size of spot\n",
    "Determine the center and width of this spot in both directions.  We'll use our own function (from `instrument/utils/image_analysis.py`) since no package gives us all of this in one place.  Our function is extracted and modified from the *PeakStats* support in bluesky's *BestEffortCallback* and also uses a function from *scipy*.\n",
    "\n",
    "Note that the `centroid` measure here is the channel number weighted by the intensity value (as computed by the *scipy* package).  The `fwhm` measure here (from the *BestEffortCallback*) is the computed difference in channel number between the high and low side of the maximum at half the maximum-minimum value.  The `crossings` measure shows the interpolated locations at which the intensity crossed this half value.  The other measures should be self-explanatory."
   ]
  },
  {
   "cell_type": "code",
   "execution_count": null,
   "id": "referenced-sculpture",
   "metadata": {},
   "outputs": [],
   "source": [
    "analyze_image(frame)"
   ]
  }
 ],
 "metadata": {
  "kernelspec": {
   "display_name": "class_2021_03",
   "language": "python",
   "name": "class_2021_03"
  },
  "language_info": {
   "codemirror_mode": {
    "name": "ipython",
    "version": 3
   },
   "file_extension": ".py",
   "mimetype": "text/x-python",
   "name": "python",
   "nbconvert_exporter": "python",
   "pygments_lexer": "ipython3",
   "version": "3.8.8"
  }
 },
 "nbformat": 4,
 "nbformat_minor": 5
}